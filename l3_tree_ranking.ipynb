{
 "cells": [
  {
   "attachments": {},
   "cell_type": "markdown",
   "metadata": {},
   "source": [
    "# Colab"
   ]
  },
  {
   "cell_type": "code",
   "execution_count": 151,
   "metadata": {},
   "outputs": [],
   "source": [
    "# !git clone -b tree-ranking https://github.com/KernelA/education-recsys.git"
   ]
  },
  {
   "cell_type": "code",
   "execution_count": 152,
   "metadata": {},
   "outputs": [],
   "source": [
    "# %cd /content/education-recsys/"
   ]
  },
  {
   "cell_type": "code",
   "execution_count": 153,
   "metadata": {},
   "outputs": [],
   "source": [
    "# !pip install --no-cache-dir -r ./requirements.txt  kaggle"
   ]
  },
  {
   "cell_type": "code",
   "execution_count": 154,
   "metadata": {},
   "outputs": [],
   "source": [
    "# %load_ext dotenv\n",
    "# %dotenv"
   ]
  },
  {
   "cell_type": "code",
   "execution_count": 155,
   "metadata": {},
   "outputs": [],
   "source": [
    "# !kaggle datasets download -d sharthz23/mts-library -p ./data --unzip "
   ]
  },
  {
   "cell_type": "code",
   "execution_count": 156,
   "metadata": {},
   "outputs": [],
   "source": [
    "import os"
   ]
  },
  {
   "cell_type": "code",
   "execution_count": 157,
   "metadata": {},
   "outputs": [],
   "source": [
    "is_colab = False"
   ]
  },
  {
   "cell_type": "code",
   "execution_count": 158,
   "metadata": {},
   "outputs": [],
   "source": [
    "if is_colab:\n",
    "    remote_dir = \"/content/drive\"\n",
    "else:\n",
    "    remote_dir = os.getcwd()"
   ]
  },
  {
   "cell_type": "code",
   "execution_count": 159,
   "metadata": {},
   "outputs": [],
   "source": [
    "if is_colab:\n",
    "    from google.colab import drive\n",
    "    drive.mount(remote_dir)"
   ]
  },
  {
   "cell_type": "code",
   "execution_count": 160,
   "metadata": {},
   "outputs": [],
   "source": [
    "if is_colab:\n",
    "    out_exp_dir = os.path.join(remote_dir, \"MyDrive/EducationRecSys/tree-ranking\")\n",
    "else:\n",
    "    out_exp_dir = os.path.join(remote_dir, \"catboost-dir\")"
   ]
  },
  {
   "cell_type": "code",
   "execution_count": 161,
   "metadata": {},
   "outputs": [],
   "source": [
    "if is_colab:\n",
    "    from google.colab import output\n",
    "    output.enable_custom_widget_manager()"
   ]
  },
  {
   "attachments": {},
   "cell_type": "markdown",
   "metadata": {},
   "source": [
    "# Основной код"
   ]
  },
  {
   "cell_type": "code",
   "execution_count": 162,
   "metadata": {},
   "outputs": [],
   "source": [
    "import os\n",
    "import pathlib\n",
    "from datetime import timedelta, datetime\n",
    "\n",
    "import seaborn as sns\n",
    "import polars as pl\n",
    "import numpy as np\n",
    "from sklearn.preprocessing import LabelEncoder\n",
    "from implicit.nearest_neighbours import BM25Recommender\n",
    "from catboost import Pool, CatBoostRanker, FeaturesData"
   ]
  },
  {
   "cell_type": "code",
   "execution_count": 163,
   "metadata": {},
   "outputs": [],
   "source": [
    "sns.set_style(\"darkgrid\")"
   ]
  },
  {
   "cell_type": "code",
   "execution_count": 164,
   "metadata": {},
   "outputs": [
    {
     "name": "stdout",
     "output_type": "stream",
     "text": [
      "The autoreload extension is already loaded. To reload it, use:\n",
      "  %reload_ext autoreload\n"
     ]
    }
   ],
   "source": [
    "%load_ext autoreload\n",
    "%autoreload 2\n",
    "\n",
    "from recs_utils.metrics import compute_metrics, model_cross_validate, mean_average_prec, join_true_pred_and_preprocess\n",
    "from recs_utils.load_data import MTSDataset, MovieLens100K\n",
    "from recs_utils.split import TimeRangeSplit\n",
    "from recs_utils.implicit_model import ImplicitRecommender\n",
    "from recs_utils.utils import get_direct_and_inv_mapping\n",
    "from recs_utils.ranking import add_features, add_group_ids, features_target_ranking, convert_to_features_data, features_target_pairwise_ranking"
   ]
  },
  {
   "cell_type": "code",
   "execution_count": 165,
   "metadata": {},
   "outputs": [],
   "source": [
    "data_dir = pathlib.Path(\"./data/mts/dump\")"
   ]
  },
  {
   "cell_type": "code",
   "execution_count": 166,
   "metadata": {},
   "outputs": [],
   "source": [
    "df = pl.read_parquet(data_dir / \"interactions.parquet\")\n",
    "df_users = pl.read_parquet(data_dir / \"users.parquet\")\n",
    "df_items = MTSDataset.select_genres(pl.read_parquet(data_dir / \"items.parquet\"), 0.98)"
   ]
  },
  {
   "cell_type": "code",
   "execution_count": 167,
   "metadata": {},
   "outputs": [],
   "source": [
    "df = df.filter(pl.col(\"item_id\").is_in(df_items.select(pl.col(\"item_id\").unique()).to_series()) & \n",
    "          pl.col(\"user_id\").is_in(df_users.select(pl.col(\"user_id\").unique()).to_series())\n",
    ")"
   ]
  },
  {
   "cell_type": "code",
   "execution_count": 168,
   "metadata": {},
   "outputs": [],
   "source": [
    "num_items = df.select(pl.col(\"item_id\").n_unique())[0, 0]"
   ]
  },
  {
   "cell_type": "code",
   "execution_count": 169,
   "metadata": {},
   "outputs": [
    {
     "name": "stdout",
     "output_type": "stream",
     "text": [
      "Num items: 59599\n"
     ]
    }
   ],
   "source": [
    "print(\"Num items:\", num_items)"
   ]
  },
  {
   "cell_type": "code",
   "execution_count": 170,
   "metadata": {},
   "outputs": [],
   "source": [
    "# max_items = 30_000\n",
    "max_items = num_items"
   ]
  },
  {
   "attachments": {},
   "cell_type": "markdown",
   "metadata": {},
   "source": [
    "По причинам произвоидительности берём только элементы с наибольшим количеством оценок"
   ]
  },
  {
   "cell_type": "code",
   "execution_count": 171,
   "metadata": {},
   "outputs": [],
   "source": [
    "selected_item_ids = df.lazy().groupby(\"item_id\").count().top_k(min(max_items, num_items), by=\"count\").select(pl.col(\"item_id\").unique()).collect().to_series()"
   ]
  },
  {
   "cell_type": "code",
   "execution_count": 172,
   "metadata": {},
   "outputs": [],
   "source": [
    "df = df.filter(pl.col(\"item_id\").is_in(selected_item_ids))"
   ]
  },
  {
   "cell_type": "code",
   "execution_count": 173,
   "metadata": {},
   "outputs": [],
   "source": [
    "del selected_item_ids"
   ]
  },
  {
   "cell_type": "code",
   "execution_count": 174,
   "metadata": {},
   "outputs": [
    {
     "data": {
      "text/plain": [
       "1399932"
      ]
     },
     "execution_count": 174,
     "metadata": {},
     "output_type": "execute_result"
    }
   ],
   "source": [
    "len(df)"
   ]
  },
  {
   "cell_type": "code",
   "execution_count": 175,
   "metadata": {},
   "outputs": [
    {
     "data": {
      "text/html": [
       "<div><style>\n",
       ".dataframe > thead > tr > th,\n",
       ".dataframe > tbody > tr > td {\n",
       "  text-align: right;\n",
       "}\n",
       "</style>\n",
       "<small>shape: (5, 5)</small><table border=\"1\" class=\"dataframe\"><thead><tr><th>user_id</th><th>item_id</th><th>progress</th><th>rating</th><th>start_date</th></tr><tr><td>u32</td><td>u32</td><td>u8</td><td>f32</td><td>date</td></tr></thead><tbody><tr><td>126706</td><td>14433</td><td>80</td><td>NaN</td><td>2018-01-01</td></tr><tr><td>127290</td><td>140952</td><td>58</td><td>NaN</td><td>2018-01-01</td></tr><tr><td>46791</td><td>83486</td><td>23</td><td>5.0</td><td>2018-01-01</td></tr><tr><td>79313</td><td>188770</td><td>88</td><td>5.0</td><td>2018-01-01</td></tr><tr><td>63454</td><td>78434</td><td>87</td><td>NaN</td><td>2018-01-01</td></tr></tbody></table></div>"
      ],
      "text/plain": [
       "shape: (5, 5)\n",
       "┌─────────┬─────────┬──────────┬────────┬────────────┐\n",
       "│ user_id ┆ item_id ┆ progress ┆ rating ┆ start_date │\n",
       "│ ---     ┆ ---     ┆ ---      ┆ ---    ┆ ---        │\n",
       "│ u32     ┆ u32     ┆ u8       ┆ f32    ┆ date       │\n",
       "╞═════════╪═════════╪══════════╪════════╪════════════╡\n",
       "│ 126706  ┆ 14433   ┆ 80       ┆ NaN    ┆ 2018-01-01 │\n",
       "│ 127290  ┆ 140952  ┆ 58       ┆ NaN    ┆ 2018-01-01 │\n",
       "│ 46791   ┆ 83486   ┆ 23       ┆ 5.0    ┆ 2018-01-01 │\n",
       "│ 79313   ┆ 188770  ┆ 88       ┆ 5.0    ┆ 2018-01-01 │\n",
       "│ 63454   ┆ 78434   ┆ 87       ┆ NaN    ┆ 2018-01-01 │\n",
       "└─────────┴─────────┴──────────┴────────┴────────────┘"
      ]
     },
     "execution_count": 175,
     "metadata": {},
     "output_type": "execute_result"
    }
   ],
   "source": [
    "df.head()"
   ]
  },
  {
   "cell_type": "code",
   "execution_count": 176,
   "metadata": {},
   "outputs": [
    {
     "data": {
      "text/html": [
       "<div><style>\n",
       ".dataframe > thead > tr > th,\n",
       ".dataframe > tbody > tr > td {\n",
       "  text-align: right;\n",
       "}\n",
       "</style>\n",
       "<small>shape: (5, 3)</small><table border=\"1\" class=\"dataframe\"><thead><tr><th>user_id</th><th>age</th><th>sex</th></tr><tr><td>u32</td><td>cat</td><td>i8</td></tr></thead><tbody><tr><td>1</td><td>&quot;45_54&quot;</td><td>null</td></tr><tr><td>2</td><td>&quot;18_24&quot;</td><td>0</td></tr><tr><td>3</td><td>&quot;65_inf&quot;</td><td>0</td></tr><tr><td>4</td><td>&quot;18_24&quot;</td><td>0</td></tr><tr><td>5</td><td>&quot;35_44&quot;</td><td>0</td></tr></tbody></table></div>"
      ],
      "text/plain": [
       "shape: (5, 3)\n",
       "┌─────────┬────────┬──────┐\n",
       "│ user_id ┆ age    ┆ sex  │\n",
       "│ ---     ┆ ---    ┆ ---  │\n",
       "│ u32     ┆ cat    ┆ i8   │\n",
       "╞═════════╪════════╪══════╡\n",
       "│ 1       ┆ 45_54  ┆ null │\n",
       "│ 2       ┆ 18_24  ┆ 0    │\n",
       "│ 3       ┆ 65_inf ┆ 0    │\n",
       "│ 4       ┆ 18_24  ┆ 0    │\n",
       "│ 5       ┆ 35_44  ┆ 0    │\n",
       "└─────────┴────────┴──────┘"
      ]
     },
     "execution_count": 176,
     "metadata": {},
     "output_type": "execute_result"
    }
   ],
   "source": [
    "df_users.head()"
   ]
  },
  {
   "cell_type": "code",
   "execution_count": 177,
   "metadata": {},
   "outputs": [
    {
     "data": {
      "text/html": [
       "<div><style>\n",
       ".dataframe > thead > tr > th,\n",
       ".dataframe > tbody > tr > td {\n",
       "  text-align: right;\n",
       "}\n",
       "</style>\n",
       "<small>shape: (3, 5)</small><table border=\"1\" class=\"dataframe\"><thead><tr><th>item_id</th><th>title</th><th>genres</th><th>authors</th><th>year</th></tr><tr><td>u32</td><td>str</td><td>str</td><td>cat</td><td>cat</td></tr></thead><tbody><tr><td>128115</td><td>&quot;ворон-челобитч…</td><td>&quot;зарубежная кла…</td><td>&quot;Михаил Салтыко…</td><td>&quot;1886&quot;</td></tr><tr><td>210979</td><td>&quot;скрипка ротшил…</td><td>&quot;классическая п…</td><td>&quot;Антон Чехов&quot;</td><td>&quot;1894&quot;</td></tr><tr><td>95632</td><td>&quot;испорченные де…</td><td>&quot;зарубежная кла…</td><td>&quot;Михаил Салтыко…</td><td>&quot;1869&quot;</td></tr></tbody></table></div>"
      ],
      "text/plain": [
       "shape: (3, 5)\n",
       "┌─────────┬───────────────────┬───────────────────────────────────┬────────────────────────┬──────┐\n",
       "│ item_id ┆ title             ┆ genres                            ┆ authors                ┆ year │\n",
       "│ ---     ┆ ---               ┆ ---                               ┆ ---                    ┆ ---  │\n",
       "│ u32     ┆ str               ┆ str                               ┆ cat                    ┆ cat  │\n",
       "╞═════════╪═══════════════════╪═══════════════════════════════════╪════════════════════════╪══════╡\n",
       "│ 128115  ┆ ворон-челобитчик  ┆ зарубежная классика,зарубежные д… ┆ Михаил Салтыков-Щедрин ┆ 1886 │\n",
       "│ 210979  ┆ скрипка ротшильда ┆ классическая проза,литература 19… ┆ Антон Чехов            ┆ 1894 │\n",
       "│ 95632   ┆ испорченные дети  ┆ зарубежная классика,классическая… ┆ Михаил Салтыков-Щедрин ┆ 1869 │\n",
       "└─────────┴───────────────────┴───────────────────────────────────┴────────────────────────┴──────┘"
      ]
     },
     "execution_count": 177,
     "metadata": {},
     "output_type": "execute_result"
    }
   ],
   "source": [
    "df_items.head(n=3)"
   ]
  },
  {
   "cell_type": "code",
   "execution_count": 181,
   "metadata": {},
   "outputs": [
    {
     "data": {
      "text/plain": [
       "(datetime.date(2019, 12, 10), datetime.date(2019, 12, 31))"
      ]
     },
     "execution_count": 181,
     "metadata": {},
     "output_type": "execute_result"
    }
   ],
   "source": [
    "last_date = df.get_column(\"start_date\").max()\n",
    "folds = 3\n",
    "start_date = last_date - timedelta(weeks=folds)\n",
    "start_date, last_date"
   ]
  },
  {
   "cell_type": "code",
   "execution_count": 182,
   "metadata": {},
   "outputs": [
    {
     "data": {
      "text/plain": [
       "(3, 3)"
      ]
     },
     "execution_count": 182,
     "metadata": {},
     "output_type": "execute_result"
    }
   ],
   "source": [
    "cv = TimeRangeSplit(start_date=start_date, folds=folds, interval=timedelta(weeks=1))\n",
    "cv.max_n_splits, cv.get_n_splits(df, datetime_column='start_date')"
   ]
  },
  {
   "cell_type": "code",
   "execution_count": 183,
   "metadata": {},
   "outputs": [],
   "source": [
    "folds_with_stats = list(cv.split(\n",
    "    df, \n",
    "    user_column='user_id',\n",
    "    item_column='item_id',\n",
    "    datetime_column='start_date',\n",
    "    fold_stats=True\n",
    ")\n",
    ")\n",
    "\n",
    "folds_info_with_stats = pl.from_dicts([info for _, _, info in folds_with_stats])"
   ]
  },
  {
   "cell_type": "code",
   "execution_count": 184,
   "metadata": {},
   "outputs": [
    {
     "data": {
      "text/html": [
       "<div><style>\n",
       ".dataframe > thead > tr > th,\n",
       ".dataframe > tbody > tr > td {\n",
       "  text-align: right;\n",
       "}\n",
       "</style>\n",
       "<small>shape: (3, 9)</small><table border=\"1\" class=\"dataframe\"><thead><tr><th>Start date</th><th>End date</th><th>Train</th><th>New users</th><th>New users interactions</th><th>New items</th><th>New items interactions</th><th>Known interactions</th><th>Test</th></tr><tr><td>date</td><td>date</td><td>i64</td><td>i64</td><td>i64</td><td>i64</td><td>i64</td><td>i64</td><td>i64</td></tr></thead><tbody><tr><td>2019-12-10</td><td>2019-12-17</td><td>1358452</td><td>5</td><td>5</td><td>0</td><td>0</td><td>0</td><td>13115</td></tr><tr><td>2019-12-17</td><td>2019-12-24</td><td>1371572</td><td>9</td><td>19</td><td>0</td><td>0</td><td>0</td><td>13219</td></tr><tr><td>2019-12-24</td><td>2019-12-31</td><td>1384810</td><td>9</td><td>12</td><td>0</td><td>0</td><td>0</td><td>13246</td></tr></tbody></table></div>"
      ],
      "text/plain": [
       "shape: (3, 9)\n",
       "┌────────────┬────────────┬─────────┬───────────┬───┬───────────┬────────────┬────────────┬───────┐\n",
       "│ Start date ┆ End date   ┆ Train   ┆ New users ┆ … ┆ New items ┆ New items  ┆ Known inte ┆ Test  │\n",
       "│ ---        ┆ ---        ┆ ---     ┆ ---       ┆   ┆ ---       ┆ interactio ┆ ractions   ┆ ---   │\n",
       "│ date       ┆ date       ┆ i64     ┆ i64       ┆   ┆ i64       ┆ ns         ┆ ---        ┆ i64   │\n",
       "│            ┆            ┆         ┆           ┆   ┆           ┆ ---        ┆ i64        ┆       │\n",
       "│            ┆            ┆         ┆           ┆   ┆           ┆ i64        ┆            ┆       │\n",
       "╞════════════╪════════════╪═════════╪═══════════╪═══╪═══════════╪════════════╪════════════╪═══════╡\n",
       "│ 2019-12-10 ┆ 2019-12-17 ┆ 1358452 ┆ 5         ┆ … ┆ 0         ┆ 0          ┆ 0          ┆ 13115 │\n",
       "│ 2019-12-17 ┆ 2019-12-24 ┆ 1371572 ┆ 9         ┆ … ┆ 0         ┆ 0          ┆ 0          ┆ 13219 │\n",
       "│ 2019-12-24 ┆ 2019-12-31 ┆ 1384810 ┆ 9         ┆ … ┆ 0         ┆ 0          ┆ 0          ┆ 13246 │\n",
       "└────────────┴────────────┴─────────┴───────────┴───┴───────────┴────────────┴────────────┴───────┘"
      ]
     },
     "execution_count": 184,
     "metadata": {},
     "output_type": "execute_result"
    }
   ],
   "source": [
    "folds_info_with_stats"
   ]
  },
  {
   "cell_type": "code",
   "execution_count": 185,
   "metadata": {},
   "outputs": [],
   "source": [
    "top_N = 10\n",
    "num_neg_samples = 3"
   ]
  },
  {
   "cell_type": "code",
   "execution_count": 186,
   "metadata": {},
   "outputs": [],
   "source": [
    "top_N_negative_sampling = max(num_neg_samples * 2, top_N)"
   ]
  },
  {
   "cell_type": "code",
   "execution_count": 187,
   "metadata": {},
   "outputs": [
    {
     "data": {
      "text/plain": [
       "((1358452, 5), (13115, 5))"
      ]
     },
     "execution_count": 187,
     "metadata": {},
     "output_type": "execute_result"
    }
   ],
   "source": [
    "train_idx, test_idx, info = folds_with_stats[0]\n",
    "\n",
    "train = df.join(train_idx, on=[\"user_id\", \"item_id\"], how=\"inner\")\n",
    "test = df.join(test_idx, on=[\"user_id\", \"item_id\"], how=\"inner\")\n",
    "train.shape, test.shape"
   ]
  },
  {
   "cell_type": "code",
   "execution_count": 188,
   "metadata": {},
   "outputs": [],
   "source": [
    "recommender = ImplicitRecommender(\n",
    "    BM25Recommender(K=top_N_negative_sampling),\n",
    ")"
   ]
  },
  {
   "cell_type": "code",
   "execution_count": 189,
   "metadata": {},
   "outputs": [
    {
     "name": "stderr",
     "output_type": "stream",
     "text": [
      "/mnt/2TBHDD/users/kernela/conda-envs/education-recsys/lib/python3.10/site-packages/implicit/utils.py:138: ParameterWarning: Method expects CSR input, and was passed coo_matrix instead. Converting to CSR took 0.012585639953613281 seconds\n",
      "  warnings.warn(\n"
     ]
    }
   ],
   "source": [
    "recommender.fit(train)"
   ]
  },
  {
   "cell_type": "code",
   "execution_count": 190,
   "metadata": {},
   "outputs": [],
   "source": [
    "train_pred_neg_sampling = recommender.recommend(train, num_recs_per_user=top_N_negative_sampling)"
   ]
  },
  {
   "cell_type": "code",
   "execution_count": 191,
   "metadata": {},
   "outputs": [],
   "source": [
    "test_pred = recommender.recommend(test, num_recs_per_user=top_N)"
   ]
  },
  {
   "cell_type": "code",
   "execution_count": 192,
   "metadata": {},
   "outputs": [],
   "source": [
    "baseline_map = mean_average_prec(join_true_pred_and_preprocess(test, test_pred))"
   ]
  },
  {
   "cell_type": "code",
   "execution_count": 193,
   "metadata": {},
   "outputs": [
    {
     "data": {
      "text/plain": [
       "0.00948556606380896"
      ]
     },
     "execution_count": 193,
     "metadata": {},
     "output_type": "execute_result"
    }
   ],
   "source": [
    "baseline_map"
   ]
  },
  {
   "cell_type": "code",
   "execution_count": 194,
   "metadata": {},
   "outputs": [],
   "source": [
    "assert train_pred_neg_sampling.lazy().groupby(\"user_id\").count().filter(pl.col(\"count\") < num_neg_samples).collect().is_empty(), f\"You must sample {num_neg_samples} for each user\""
   ]
  },
  {
   "cell_type": "code",
   "execution_count": 195,
   "metadata": {},
   "outputs": [],
   "source": [
    "train = train.with_row_count(\"pair_id\")"
   ]
  },
  {
   "cell_type": "code",
   "execution_count": 196,
   "metadata": {},
   "outputs": [],
   "source": [
    "neg_train = train.lazy().join(train_pred_neg_sampling.lazy().select(pl.col([\"user_id\", \"item_id\"])), on=\"user_id\", suffix=\"_neg\").filter(\n",
    "    pl.col(\"item_id\") != pl.col(\"item_id_neg\")\n",
    ").groupby(\n",
    "    [\"user_id\", \"item_id\", \"start_date\", \"pair_id\"]\n",
    ").agg(\n",
    "    pl.col(\"item_id_neg\").implode().flatten().sample(n=num_neg_samples, seed=1455, with_replacement=False).alias(\"neg_item_id\")\n",
    ").select(\n",
    "    pl.all().exclude(\"item_id\")\n",
    ").explode(\"neg_item_id\").select(\n",
    "    pl.col(\"user_id\"),\n",
    "    pl.col(\"neg_item_id\").alias(\"item_id\"),\n",
    "    pl.col(\"start_date\"),\n",
    "    pl.col(\"pair_id\"),\n",
    "    pl.lit(0).cast(pl.Int8).alias(\"target\")).collect()"
   ]
  },
  {
   "cell_type": "code",
   "execution_count": 197,
   "metadata": {},
   "outputs": [
    {
     "data": {
      "text/html": [
       "<div><style>\n",
       ".dataframe > thead > tr > th,\n",
       ".dataframe > tbody > tr > td {\n",
       "  text-align: right;\n",
       "}\n",
       "</style>\n",
       "<small>shape: (5, 5)</small><table border=\"1\" class=\"dataframe\"><thead><tr><th>user_id</th><th>item_id</th><th>start_date</th><th>pair_id</th><th>target</th></tr><tr><td>u32</td><td>u32</td><td>date</td><td>u32</td><td>i8</td></tr></thead><tbody><tr><td>63454</td><td>107047</td><td>2018-01-01</td><td>4</td><td>0</td></tr><tr><td>63454</td><td>221471</td><td>2018-01-01</td><td>4</td><td>0</td></tr><tr><td>63454</td><td>131689</td><td>2018-01-01</td><td>4</td><td>0</td></tr><tr><td>11142</td><td>30383</td><td>2018-01-01</td><td>25</td><td>0</td></tr><tr><td>11142</td><td>130223</td><td>2018-01-01</td><td>25</td><td>0</td></tr></tbody></table></div>"
      ],
      "text/plain": [
       "shape: (5, 5)\n",
       "┌─────────┬─────────┬────────────┬─────────┬────────┐\n",
       "│ user_id ┆ item_id ┆ start_date ┆ pair_id ┆ target │\n",
       "│ ---     ┆ ---     ┆ ---        ┆ ---     ┆ ---    │\n",
       "│ u32     ┆ u32     ┆ date       ┆ u32     ┆ i8     │\n",
       "╞═════════╪═════════╪════════════╪═════════╪════════╡\n",
       "│ 63454   ┆ 107047  ┆ 2018-01-01 ┆ 4       ┆ 0      │\n",
       "│ 63454   ┆ 221471  ┆ 2018-01-01 ┆ 4       ┆ 0      │\n",
       "│ 63454   ┆ 131689  ┆ 2018-01-01 ┆ 4       ┆ 0      │\n",
       "│ 11142   ┆ 30383   ┆ 2018-01-01 ┆ 25      ┆ 0      │\n",
       "│ 11142   ┆ 130223  ┆ 2018-01-01 ┆ 25      ┆ 0      │\n",
       "└─────────┴─────────┴────────────┴─────────┴────────┘"
      ]
     },
     "execution_count": 197,
     "metadata": {},
     "output_type": "execute_result"
    }
   ],
   "source": [
    "neg_train.head()"
   ]
  },
  {
   "cell_type": "code",
   "execution_count": 198,
   "metadata": {},
   "outputs": [],
   "source": [
    "train_full = train.select(\n",
    "    pl.col(\"user_id\"),\n",
    "    pl.col(\"item_id\"),\n",
    "    pl.col(\"start_date\"),\n",
    "    pl.col(\"pair_id\"),\n",
    "    pl.lit(1).cast(pl.Int8).alias(\"target\")\n",
    ").vstack(neg_train)"
   ]
  },
  {
   "cell_type": "code",
   "execution_count": 199,
   "metadata": {},
   "outputs": [
    {
     "data": {
      "text/html": [
       "<div><style>\n",
       ".dataframe > thead > tr > th,\n",
       ".dataframe > tbody > tr > td {\n",
       "  text-align: right;\n",
       "}\n",
       "</style>\n",
       "<small>shape: (4, 5)</small><table border=\"1\" class=\"dataframe\"><thead><tr><th>user_id</th><th>item_id</th><th>start_date</th><th>pair_id</th><th>target</th></tr><tr><td>u32</td><td>u32</td><td>date</td><td>u32</td><td>i8</td></tr></thead><tbody><tr><td>58790</td><td>203882</td><td>2018-12-16</td><td>660976</td><td>1</td></tr><tr><td>58790</td><td>193358</td><td>2018-12-16</td><td>660976</td><td>0</td></tr><tr><td>58790</td><td>1070</td><td>2018-12-16</td><td>660976</td><td>0</td></tr><tr><td>58790</td><td>231555</td><td>2018-12-16</td><td>660976</td><td>0</td></tr></tbody></table></div>"
      ],
      "text/plain": [
       "shape: (4, 5)\n",
       "┌─────────┬─────────┬────────────┬─────────┬────────┐\n",
       "│ user_id ┆ item_id ┆ start_date ┆ pair_id ┆ target │\n",
       "│ ---     ┆ ---     ┆ ---        ┆ ---     ┆ ---    │\n",
       "│ u32     ┆ u32     ┆ date       ┆ u32     ┆ i8     │\n",
       "╞═════════╪═════════╪════════════╪═════════╪════════╡\n",
       "│ 58790   ┆ 203882  ┆ 2018-12-16 ┆ 660976  ┆ 1      │\n",
       "│ 58790   ┆ 193358  ┆ 2018-12-16 ┆ 660976  ┆ 0      │\n",
       "│ 58790   ┆ 1070    ┆ 2018-12-16 ┆ 660976  ┆ 0      │\n",
       "│ 58790   ┆ 231555  ┆ 2018-12-16 ┆ 660976  ┆ 0      │\n",
       "└─────────┴─────────┴────────────┴─────────┴────────┘"
      ]
     },
     "execution_count": 199,
     "metadata": {},
     "output_type": "execute_result"
    }
   ],
   "source": [
    "train_full.filter(pl.col(\"pair_id\") == 660976)"
   ]
  },
  {
   "cell_type": "code",
   "execution_count": 200,
   "metadata": {},
   "outputs": [],
   "source": [
    "train_full = train_full.unique([\"pair_id\", \"target\"])"
   ]
  },
  {
   "cell_type": "code",
   "execution_count": 201,
   "metadata": {},
   "outputs": [
    {
     "data": {
      "text/html": [
       "<div><style>\n",
       ".dataframe > thead > tr > th,\n",
       ".dataframe > tbody > tr > td {\n",
       "  text-align: right;\n",
       "}\n",
       "</style>\n",
       "<small>shape: (6, 5)</small><table border=\"1\" class=\"dataframe\"><thead><tr><th>user_id</th><th>item_id</th><th>start_date</th><th>pair_id</th><th>target</th></tr><tr><td>u32</td><td>u32</td><td>date</td><td>u32</td><td>i8</td></tr></thead><tbody><tr><td>126706</td><td>108460</td><td>2018-01-01</td><td>0</td><td>0</td></tr><tr><td>126706</td><td>14433</td><td>2018-01-01</td><td>0</td><td>1</td></tr><tr><td>127290</td><td>227589</td><td>2018-01-01</td><td>1</td><td>0</td></tr><tr><td>127290</td><td>140952</td><td>2018-01-01</td><td>1</td><td>1</td></tr><tr><td>46791</td><td>125654</td><td>2018-01-01</td><td>2</td><td>0</td></tr><tr><td>46791</td><td>83486</td><td>2018-01-01</td><td>2</td><td>1</td></tr></tbody></table></div>"
      ],
      "text/plain": [
       "shape: (6, 5)\n",
       "┌─────────┬─────────┬────────────┬─────────┬────────┐\n",
       "│ user_id ┆ item_id ┆ start_date ┆ pair_id ┆ target │\n",
       "│ ---     ┆ ---     ┆ ---        ┆ ---     ┆ ---    │\n",
       "│ u32     ┆ u32     ┆ date       ┆ u32     ┆ i8     │\n",
       "╞═════════╪═════════╪════════════╪═════════╪════════╡\n",
       "│ 126706  ┆ 108460  ┆ 2018-01-01 ┆ 0       ┆ 0      │\n",
       "│ 126706  ┆ 14433   ┆ 2018-01-01 ┆ 0       ┆ 1      │\n",
       "│ 127290  ┆ 227589  ┆ 2018-01-01 ┆ 1       ┆ 0      │\n",
       "│ 127290  ┆ 140952  ┆ 2018-01-01 ┆ 1       ┆ 1      │\n",
       "│ 46791   ┆ 125654  ┆ 2018-01-01 ┆ 2       ┆ 0      │\n",
       "│ 46791   ┆ 83486   ┆ 2018-01-01 ┆ 2       ┆ 1      │\n",
       "└─────────┴─────────┴────────────┴─────────┴────────┘"
      ]
     },
     "execution_count": 201,
     "metadata": {},
     "output_type": "execute_result"
    }
   ],
   "source": [
    "train_full.sort(\"pair_id\", \"target\").head(n=6)"
   ]
  },
  {
   "cell_type": "code",
   "execution_count": 202,
   "metadata": {},
   "outputs": [
    {
     "data": {
      "text/html": [
       "<div><style>\n",
       ".dataframe > thead > tr > th,\n",
       ".dataframe > tbody > tr > td {\n",
       "  text-align: right;\n",
       "}\n",
       "</style>\n",
       "<small>shape: (0, 2)</small><table border=\"1\" class=\"dataframe\"><thead><tr><th>pair_id</th><th>count</th></tr><tr><td>u32</td><td>u32</td></tr></thead><tbody></tbody></table></div>"
      ],
      "text/plain": [
       "shape: (0, 2)\n",
       "┌─────────┬───────┐\n",
       "│ pair_id ┆ count │\n",
       "│ ---     ┆ ---   │\n",
       "│ u32     ┆ u32   │\n",
       "╞═════════╪═══════╡\n",
       "└─────────┴───────┘"
      ]
     },
     "execution_count": 202,
     "metadata": {},
     "output_type": "execute_result"
    }
   ],
   "source": [
    "train_full.groupby(\"pair_id\").count().filter(\n",
    "    pl.col(\"count\") <= 1)"
   ]
  },
  {
   "cell_type": "code",
   "execution_count": 203,
   "metadata": {},
   "outputs": [],
   "source": [
    "assert train_full.groupby([\"pair_id\"]).count().filter(\n",
    "    pl.col(\"count\") < 2).is_empty(), f\"Expected at least 2 pairs: positive and negative (user_id, item_id, start_date) \""
   ]
  },
  {
   "cell_type": "code",
   "execution_count": 204,
   "metadata": {},
   "outputs": [],
   "source": [
    "# df_users_features = df_users\n",
    "df_users_features = df_users.with_columns(\n",
    "    pl.col(\"age\").cast(str).fill_null(\"unknown\"),\n",
    "    pl.col(\"sex\").cast(str).fill_null(\"unknown\")\n",
    ")"
   ]
  },
  {
   "cell_type": "code",
   "execution_count": 205,
   "metadata": {},
   "outputs": [],
   "source": [
    "# df_items_features = df_items.select(pl.all().exclude([\"IMDb_URL\", \"title\"])).with_columns(pl.col(\"release_date\").dt.timestamp(\"us\"))\n",
    "df_items_features = df_items.select(\n",
    "    pl.col(\"item_id\"),\n",
    "    pl.col(\"genres\"),\n",
    "    pl.col(\"year\")\n",
    ").with_columns(\n",
    "    pl.col(\"genres\").cast(str).fill_null(\"genre_unknown\").alias(\"genres\"),\n",
    "    pl.col(\"year\").cast(str).fill_null(\"unknown\").alias(\"year\")\n",
    ")"
   ]
  },
  {
   "cell_type": "code",
   "execution_count": 206,
   "metadata": {},
   "outputs": [],
   "source": [
    "train_full = add_features(add_features(train_full, df_items_features, \"item_id\"), df_users_features, \"user_id\")"
   ]
  },
  {
   "cell_type": "code",
   "execution_count": 207,
   "metadata": {},
   "outputs": [
    {
     "data": {
      "text/html": [
       "<div><style>\n",
       ".dataframe > thead > tr > th,\n",
       ".dataframe > tbody > tr > td {\n",
       "  text-align: right;\n",
       "}\n",
       "</style>\n",
       "<small>shape: (3, 9)</small><table border=\"1\" class=\"dataframe\"><thead><tr><th>user_id</th><th>item_id</th><th>start_date</th><th>pair_id</th><th>target</th><th>genres</th><th>year</th><th>age</th><th>sex</th></tr><tr><td>u32</td><td>u32</td><td>date</td><td>u32</td><td>i8</td><td>str</td><td>str</td><td>str</td><td>str</td></tr></thead><tbody><tr><td>59484</td><td>161786</td><td>2018-01-01</td><td>10</td><td>1</td><td>&quot;научная фантас…</td><td>&quot;1989&quot;</td><td>&quot;45_54&quot;</td><td>&quot;1&quot;</td></tr><tr><td>73724</td><td>306961</td><td>2018-01-01</td><td>39</td><td>1</td><td>&quot;альтернативная…</td><td>&quot;unknown&quot;</td><td>&quot;45_54&quot;</td><td>&quot;0&quot;</td></tr><tr><td>36913</td><td>292838</td><td>2018-01-01</td><td>84</td><td>1</td><td>&quot;иронические де…</td><td>&quot;2010&quot;</td><td>&quot;25_34&quot;</td><td>&quot;0&quot;</td></tr></tbody></table></div>"
      ],
      "text/plain": [
       "shape: (3, 9)\n",
       "┌─────────┬─────────┬────────────┬─────────┬───┬───────────────────────┬─────────┬───────┬─────┐\n",
       "│ user_id ┆ item_id ┆ start_date ┆ pair_id ┆ … ┆ genres                ┆ year    ┆ age   ┆ sex │\n",
       "│ ---     ┆ ---     ┆ ---        ┆ ---     ┆   ┆ ---                   ┆ ---     ┆ ---   ┆ --- │\n",
       "│ u32     ┆ u32     ┆ date       ┆ u32     ┆   ┆ str                   ┆ str     ┆ str   ┆ str │\n",
       "╞═════════╪═════════╪════════════╪═════════╪═══╪═══════════════════════╪═════════╪═══════╪═════╡\n",
       "│ 59484   ┆ 161786  ┆ 2018-01-01 ┆ 10      ┆ … ┆ научная фантастика    ┆ 1989    ┆ 45_54 ┆ 1   │\n",
       "│ 73724   ┆ 306961  ┆ 2018-01-01 ┆ 39      ┆ … ┆ альтернативная        ┆ unknown ┆ 45_54 ┆ 0   │\n",
       "│         ┆         ┆            ┆         ┆   ┆ медицина,народная…    ┆         ┆       ┆     │\n",
       "│ 36913   ┆ 292838  ┆ 2018-01-01 ┆ 84      ┆ … ┆ иронические детективы ┆ 2010    ┆ 25_34 ┆ 0   │\n",
       "└─────────┴─────────┴────────────┴─────────┴───┴───────────────────────┴─────────┴───────┴─────┘"
      ]
     },
     "execution_count": 207,
     "metadata": {},
     "output_type": "execute_result"
    }
   ],
   "source": [
    "train_full.head(n=3)"
   ]
  },
  {
   "cell_type": "code",
   "execution_count": 208,
   "metadata": {},
   "outputs": [],
   "source": [
    "train_full = train_full.with_columns(pl.col(\"start_date\").dt.timestamp(\"us\"))"
   ]
  },
  {
   "cell_type": "code",
   "execution_count": 209,
   "metadata": {},
   "outputs": [
    {
     "data": {
      "text/html": [
       "<div><style>\n",
       ".dataframe > thead > tr > th,\n",
       ".dataframe > tbody > tr > td {\n",
       "  text-align: right;\n",
       "}\n",
       "</style>\n",
       "<small>shape: (5, 9)</small><table border=\"1\" class=\"dataframe\"><thead><tr><th>user_id</th><th>item_id</th><th>start_date</th><th>pair_id</th><th>target</th><th>genres</th><th>year</th><th>age</th><th>sex</th></tr><tr><td>u32</td><td>u32</td><td>i64</td><td>u32</td><td>i8</td><td>str</td><td>str</td><td>str</td><td>str</td></tr></thead><tbody><tr><td>59484</td><td>161786</td><td>1514764800000000</td><td>10</td><td>1</td><td>&quot;научная фантас…</td><td>&quot;1989&quot;</td><td>&quot;45_54&quot;</td><td>&quot;1&quot;</td></tr><tr><td>73724</td><td>306961</td><td>1514764800000000</td><td>39</td><td>1</td><td>&quot;альтернативная…</td><td>&quot;unknown&quot;</td><td>&quot;45_54&quot;</td><td>&quot;0&quot;</td></tr><tr><td>36913</td><td>292838</td><td>1514764800000000</td><td>84</td><td>1</td><td>&quot;иронические де…</td><td>&quot;2010&quot;</td><td>&quot;25_34&quot;</td><td>&quot;0&quot;</td></tr><tr><td>24438</td><td>185522</td><td>1514764800000000</td><td>147</td><td>1</td><td>&quot;зарубежные дет…</td><td>&quot;2003&quot;</td><td>&quot;45_54&quot;</td><td>&quot;0&quot;</td></tr><tr><td>10040</td><td>80663</td><td>1514764800000000</td><td>148</td><td>1</td><td>&quot;биографии и ме…</td><td>&quot;2015&quot;</td><td>&quot;18_24&quot;</td><td>&quot;0&quot;</td></tr></tbody></table></div>"
      ],
      "text/plain": [
       "shape: (5, 9)\n",
       "┌─────────┬─────────┬──────────────────┬─────────┬───┬─────────────────────┬─────────┬───────┬─────┐\n",
       "│ user_id ┆ item_id ┆ start_date       ┆ pair_id ┆ … ┆ genres              ┆ year    ┆ age   ┆ sex │\n",
       "│ ---     ┆ ---     ┆ ---              ┆ ---     ┆   ┆ ---                 ┆ ---     ┆ ---   ┆ --- │\n",
       "│ u32     ┆ u32     ┆ i64              ┆ u32     ┆   ┆ str                 ┆ str     ┆ str   ┆ str │\n",
       "╞═════════╪═════════╪══════════════════╪═════════╪═══╪═════════════════════╪═════════╪═══════╪═════╡\n",
       "│ 59484   ┆ 161786  ┆ 1514764800000000 ┆ 10      ┆ … ┆ научная фантастика  ┆ 1989    ┆ 45_54 ┆ 1   │\n",
       "│ 73724   ┆ 306961  ┆ 1514764800000000 ┆ 39      ┆ … ┆ альтернативная      ┆ unknown ┆ 45_54 ┆ 0   │\n",
       "│         ┆         ┆                  ┆         ┆   ┆ медицина,народная…  ┆         ┆       ┆     │\n",
       "│ 36913   ┆ 292838  ┆ 1514764800000000 ┆ 84      ┆ … ┆ иронические         ┆ 2010    ┆ 25_34 ┆ 0   │\n",
       "│         ┆         ┆                  ┆         ┆   ┆ детективы           ┆         ┆       ┆     │\n",
       "│ 24438   ┆ 185522  ┆ 1514764800000000 ┆ 147     ┆ … ┆ зарубежные детектив ┆ 2003    ┆ 45_54 ┆ 0   │\n",
       "│         ┆         ┆                  ┆         ┆   ┆ ы,полицейские…      ┆         ┆       ┆     │\n",
       "│ 10040   ┆ 80663   ┆ 1514764800000000 ┆ 148     ┆ … ┆ биографии и         ┆ 2015    ┆ 18_24 ┆ 0   │\n",
       "│         ┆         ┆                  ┆         ┆   ┆ мемуары,военное     ┆         ┆       ┆     │\n",
       "│         ┆         ┆                  ┆         ┆   ┆ дело…               ┆         ┆       ┆     │\n",
       "└─────────┴─────────┴──────────────────┴─────────┴───┴─────────────────────┴─────────┴───────┴─────┘"
      ]
     },
     "execution_count": 209,
     "metadata": {},
     "output_type": "execute_result"
    }
   ],
   "source": [
    "train_full.head()"
   ]
  },
  {
   "cell_type": "code",
   "execution_count": 210,
   "metadata": {},
   "outputs": [],
   "source": [
    "# train_full = add_group_ids(train_full, [\"user_id\", \"start_date\"])"
   ]
  },
  {
   "cell_type": "code",
   "execution_count": 211,
   "metadata": {},
   "outputs": [
    {
     "data": {
      "text/html": [
       "<div><style>\n",
       ".dataframe > thead > tr > th,\n",
       ".dataframe > tbody > tr > td {\n",
       "  text-align: right;\n",
       "}\n",
       "</style>\n",
       "<small>shape: (5, 9)</small><table border=\"1\" class=\"dataframe\"><thead><tr><th>user_id</th><th>item_id</th><th>start_date</th><th>pair_id</th><th>target</th><th>genres</th><th>year</th><th>age</th><th>sex</th></tr><tr><td>u32</td><td>u32</td><td>i64</td><td>u32</td><td>i8</td><td>str</td><td>str</td><td>str</td><td>str</td></tr></thead><tbody><tr><td>59484</td><td>161786</td><td>1514764800000000</td><td>10</td><td>1</td><td>&quot;научная фантас…</td><td>&quot;1989&quot;</td><td>&quot;45_54&quot;</td><td>&quot;1&quot;</td></tr><tr><td>73724</td><td>306961</td><td>1514764800000000</td><td>39</td><td>1</td><td>&quot;альтернативная…</td><td>&quot;unknown&quot;</td><td>&quot;45_54&quot;</td><td>&quot;0&quot;</td></tr><tr><td>36913</td><td>292838</td><td>1514764800000000</td><td>84</td><td>1</td><td>&quot;иронические де…</td><td>&quot;2010&quot;</td><td>&quot;25_34&quot;</td><td>&quot;0&quot;</td></tr><tr><td>24438</td><td>185522</td><td>1514764800000000</td><td>147</td><td>1</td><td>&quot;зарубежные дет…</td><td>&quot;2003&quot;</td><td>&quot;45_54&quot;</td><td>&quot;0&quot;</td></tr><tr><td>10040</td><td>80663</td><td>1514764800000000</td><td>148</td><td>1</td><td>&quot;биографии и ме…</td><td>&quot;2015&quot;</td><td>&quot;18_24&quot;</td><td>&quot;0&quot;</td></tr></tbody></table></div>"
      ],
      "text/plain": [
       "shape: (5, 9)\n",
       "┌─────────┬─────────┬──────────────────┬─────────┬───┬─────────────────────┬─────────┬───────┬─────┐\n",
       "│ user_id ┆ item_id ┆ start_date       ┆ pair_id ┆ … ┆ genres              ┆ year    ┆ age   ┆ sex │\n",
       "│ ---     ┆ ---     ┆ ---              ┆ ---     ┆   ┆ ---                 ┆ ---     ┆ ---   ┆ --- │\n",
       "│ u32     ┆ u32     ┆ i64              ┆ u32     ┆   ┆ str                 ┆ str     ┆ str   ┆ str │\n",
       "╞═════════╪═════════╪══════════════════╪═════════╪═══╪═════════════════════╪═════════╪═══════╪═════╡\n",
       "│ 59484   ┆ 161786  ┆ 1514764800000000 ┆ 10      ┆ … ┆ научная фантастика  ┆ 1989    ┆ 45_54 ┆ 1   │\n",
       "│ 73724   ┆ 306961  ┆ 1514764800000000 ┆ 39      ┆ … ┆ альтернативная      ┆ unknown ┆ 45_54 ┆ 0   │\n",
       "│         ┆         ┆                  ┆         ┆   ┆ медицина,народная…  ┆         ┆       ┆     │\n",
       "│ 36913   ┆ 292838  ┆ 1514764800000000 ┆ 84      ┆ … ┆ иронические         ┆ 2010    ┆ 25_34 ┆ 0   │\n",
       "│         ┆         ┆                  ┆         ┆   ┆ детективы           ┆         ┆       ┆     │\n",
       "│ 24438   ┆ 185522  ┆ 1514764800000000 ┆ 147     ┆ … ┆ зарубежные детектив ┆ 2003    ┆ 45_54 ┆ 0   │\n",
       "│         ┆         ┆                  ┆         ┆   ┆ ы,полицейские…      ┆         ┆       ┆     │\n",
       "│ 10040   ┆ 80663   ┆ 1514764800000000 ┆ 148     ┆ … ┆ биографии и         ┆ 2015    ┆ 18_24 ┆ 0   │\n",
       "│         ┆         ┆                  ┆         ┆   ┆ мемуары,военное     ┆         ┆       ┆     │\n",
       "│         ┆         ┆                  ┆         ┆   ┆ дело…               ┆         ┆       ┆     │\n",
       "└─────────┴─────────┴──────────────────┴─────────┴───┴─────────────────────┴─────────┴───────┴─────┘"
      ]
     },
     "execution_count": 211,
     "metadata": {},
     "output_type": "execute_result"
    }
   ],
   "source": [
    "train_full.head()"
   ]
  },
  {
   "cell_type": "code",
   "execution_count": 212,
   "metadata": {},
   "outputs": [],
   "source": [
    "ranker_train_info = features_target_pairwise_ranking(train_full, group_id_col=\"pair_id\")"
   ]
  },
  {
   "cell_type": "code",
   "execution_count": 213,
   "metadata": {},
   "outputs": [],
   "source": [
    "assert 2 * len(ranker_train_info.pairs) == ranker_train_info.features.get_object_count()"
   ]
  },
  {
   "cell_type": "code",
   "execution_count": 214,
   "metadata": {},
   "outputs": [
    {
     "data": {
      "text/plain": [
       "['genres', 'year', 'age', 'sex']"
      ]
     },
     "execution_count": 214,
     "metadata": {},
     "output_type": "execute_result"
    }
   ],
   "source": [
    "ranker_train_info.features.get_feature_names()"
   ]
  },
  {
   "cell_type": "code",
   "execution_count": 215,
   "metadata": {},
   "outputs": [],
   "source": [
    "train_pool = Pool(\n",
    "    data=ranker_train_info.features,\n",
    "    label=ranker_train_info.target,\n",
    "    timestamp=ranker_train_info.timestamps,\n",
    "    pairs=ranker_train_info.pairs,\n",
    "    group_id=ranker_train_info.group_ids\n",
    ")"
   ]
  },
  {
   "cell_type": "code",
   "execution_count": 216,
   "metadata": {},
   "outputs": [],
   "source": [
    "train_dir = os.path.join(out_exp_dir, \"log\")"
   ]
  },
  {
   "cell_type": "code",
   "execution_count": 217,
   "metadata": {},
   "outputs": [],
   "source": [
    "os.makedirs(train_dir, exist_ok=True)"
   ]
  },
  {
   "cell_type": "code",
   "execution_count": 233,
   "metadata": {},
   "outputs": [],
   "source": [
    "ranker = CatBoostRanker(task_type='GPU', random_seed=3466, metric_period=50, \n",
    "                        eval_metric=f\"MAP:top=1\", \n",
    "                        custom_metric=[\"RecallAt:top=1\", \"PrecisionAt:top=1\"],\n",
    "                        iterations=1200,\n",
    "                        train_dir=train_dir,\n",
    "                        loss_function=\"YetiRankPairwise\"\n",
    "                        # max_ctr_complexity=3\n",
    "                        )"
   ]
  },
  {
   "cell_type": "code",
   "execution_count": 234,
   "metadata": {},
   "outputs": [],
   "source": [
    "model_path = os.path.join(out_exp_dir, \"model\", \"model.cbm\")"
   ]
  },
  {
   "cell_type": "code",
   "execution_count": 235,
   "metadata": {},
   "outputs": [],
   "source": [
    "os.makedirs(os.path.dirname(model_path), exist_ok=True)"
   ]
  },
  {
   "cell_type": "code",
   "execution_count": 236,
   "metadata": {},
   "outputs": [],
   "source": [
    "force_train = True"
   ]
  },
  {
   "cell_type": "code",
   "execution_count": 237,
   "metadata": {},
   "outputs": [
    {
     "name": "stdout",
     "output_type": "stream",
     "text": [
      "Groupwise loss function. OneHotMaxSize set to 10\n"
     ]
    },
    {
     "name": "stderr",
     "output_type": "stream",
     "text": [
      "Metric PFound is not implemented on GPU. Will use CPU for metric computation, this could significantly affect learning time\n",
      "Metric MAP:top=1 is not implemented on GPU. Will use CPU for metric computation, this could significantly affect learning time\n",
      "Metric RecallAt:top=1 is not implemented on GPU. Will use CPU for metric computation, this could significantly affect learning time\n",
      "Metric PrecisionAt:top=1 is not implemented on GPU. Will use CPU for metric computation, this could significantly affect learning time\n"
     ]
    },
    {
     "name": "stdout",
     "output_type": "stream",
     "text": [
      "0:\tlearn: 0.6779989\ttotal: 397ms\tremaining: 7m 55s\n",
      "50:\tlearn: 0.7346325\ttotal: 7.52s\tremaining: 2m 49s\n",
      "100:\tlearn: 0.7486124\ttotal: 14.7s\tremaining: 2m 39s\n",
      "150:\tlearn: 0.7513876\ttotal: 21.8s\tremaining: 2m 31s\n",
      "200:\tlearn: 0.7557948\ttotal: 29s\tremaining: 2m 24s\n",
      "250:\tlearn: 0.7576793\ttotal: 36.3s\tremaining: 2m 17s\n",
      "300:\tlearn: 0.7592915\ttotal: 43.5s\tremaining: 2m 9s\n",
      "350:\tlearn: 0.7609713\ttotal: 50.7s\tremaining: 2m 2s\n",
      "400:\tlearn: 0.7625268\ttotal: 58s\tremaining: 1m 55s\n",
      "450:\tlearn: 0.7642397\ttotal: 1m 5s\tremaining: 1m 48s\n",
      "500:\tlearn: 0.7652497\ttotal: 1m 12s\tremaining: 1m 41s\n",
      "550:\tlearn: 0.7667595\ttotal: 1m 19s\tremaining: 1m 34s\n",
      "600:\tlearn: 0.7679741\ttotal: 1m 27s\tremaining: 1m 26s\n",
      "650:\tlearn: 0.7690783\ttotal: 1m 34s\tremaining: 1m 19s\n",
      "700:\tlearn: 0.7701855\ttotal: 1m 41s\tremaining: 1m 12s\n",
      "750:\tlearn: 0.7710026\ttotal: 1m 49s\tremaining: 1m 5s\n",
      "800:\tlearn: 0.7717932\ttotal: 1m 56s\tremaining: 58s\n",
      "850:\tlearn: 0.7726118\ttotal: 2m 3s\tremaining: 50.7s\n",
      "900:\tlearn: 0.7732839\ttotal: 2m 10s\tremaining: 43.5s\n",
      "950:\tlearn: 0.7739059\ttotal: 2m 18s\tremaining: 36.2s\n",
      "1000:\tlearn: 0.7747178\ttotal: 2m 25s\tremaining: 28.9s\n",
      "1050:\tlearn: 0.7751470\ttotal: 2m 32s\tremaining: 21.7s\n",
      "1100:\tlearn: 0.7757109\ttotal: 2m 40s\tremaining: 14.4s\n",
      "1150:\tlearn: 0.7763896\ttotal: 2m 47s\tremaining: 7.13s\n",
      "1199:\tlearn: 0.7768121\ttotal: 2m 54s\tremaining: 0us\n"
     ]
    }
   ],
   "source": [
    "if os.path.exists(model_path) and not force_train:\n",
    "    ranker.load_model(model_path)\n",
    "else:\n",
    "    ranker.fit(train_pool)\n",
    "    ranker.save_model(model_path)"
   ]
  },
  {
   "cell_type": "code",
   "execution_count": 223,
   "metadata": {},
   "outputs": [],
   "source": [
    "test_with_features = add_features(add_features(test_pred, df_items_features, [\"item_id\"]), df_users_features, [\"user_id\"])"
   ]
  },
  {
   "cell_type": "code",
   "execution_count": 224,
   "metadata": {},
   "outputs": [
    {
     "data": {
      "text/html": [
       "<div><style>\n",
       ".dataframe > thead > tr > th,\n",
       ".dataframe > tbody > tr > td {\n",
       "  text-align: right;\n",
       "}\n",
       "</style>\n",
       "<small>shape: (5, 7)</small><table border=\"1\" class=\"dataframe\"><thead><tr><th>user_id</th><th>item_id</th><th>rank</th><th>genres</th><th>year</th><th>age</th><th>sex</th></tr><tr><td>u32</td><td>u32</td><td>u32</td><td>str</td><td>str</td><td>str</td><td>str</td></tr></thead><tbody><tr><td>21</td><td>222616</td><td>1</td><td>&quot;боевое фэнтези…</td><td>&quot;2006&quot;</td><td>&quot;18_24&quot;</td><td>&quot;0&quot;</td></tr><tr><td>21</td><td>196161</td><td>2</td><td>&quot;героическое фэ…</td><td>&quot;2017&quot;</td><td>&quot;18_24&quot;</td><td>&quot;0&quot;</td></tr><tr><td>21</td><td>7122</td><td>3</td><td>&quot;книги про волш…</td><td>&quot;2019&quot;</td><td>&quot;18_24&quot;</td><td>&quot;0&quot;</td></tr><tr><td>21</td><td>281909</td><td>4</td><td>&quot;боевое фэнтези…</td><td>&quot;2008&quot;</td><td>&quot;18_24&quot;</td><td>&quot;0&quot;</td></tr><tr><td>21</td><td>81827</td><td>5</td><td>&quot;любовное фэнте…</td><td>&quot;2016&quot;</td><td>&quot;18_24&quot;</td><td>&quot;0&quot;</td></tr></tbody></table></div>"
      ],
      "text/plain": [
       "shape: (5, 7)\n",
       "┌─────────┬─────────┬──────┬───────────────────────────────────┬──────┬───────┬─────┐\n",
       "│ user_id ┆ item_id ┆ rank ┆ genres                            ┆ year ┆ age   ┆ sex │\n",
       "│ ---     ┆ ---     ┆ ---  ┆ ---                               ┆ ---  ┆ ---   ┆ --- │\n",
       "│ u32     ┆ u32     ┆ u32  ┆ str                               ┆ str  ┆ str   ┆ str │\n",
       "╞═════════╪═════════╪══════╪═══════════════════════════════════╪══════╪═══════╪═════╡\n",
       "│ 21      ┆ 222616  ┆ 1    ┆ боевое фэнтези,героическое фэнте… ┆ 2006 ┆ 18_24 ┆ 0   │\n",
       "│ 21      ┆ 196161  ┆ 2    ┆ героическое фэнтези,любовное фэн… ┆ 2017 ┆ 18_24 ┆ 0   │\n",
       "│ 21      ┆ 7122    ┆ 3    ┆ книги про волшебников,любовное ф… ┆ 2019 ┆ 18_24 ┆ 0   │\n",
       "│ 21      ┆ 281909  ┆ 4    ┆ боевое фэнтези,героическое фэнте… ┆ 2008 ┆ 18_24 ┆ 0   │\n",
       "│ 21      ┆ 81827   ┆ 5    ┆ любовное фэнтези,эротическое фэн… ┆ 2016 ┆ 18_24 ┆ 0   │\n",
       "└─────────┴─────────┴──────┴───────────────────────────────────┴──────┴───────┴─────┘"
      ]
     },
     "execution_count": 224,
     "metadata": {},
     "output_type": "execute_result"
    }
   ],
   "source": [
    "test_with_features.head()"
   ]
  },
  {
   "cell_type": "code",
   "execution_count": 225,
   "metadata": {},
   "outputs": [
    {
     "data": {
      "text/plain": [
       "(88170, 88170)"
      ]
     },
     "execution_count": 225,
     "metadata": {},
     "output_type": "execute_result"
    }
   ],
   "source": [
    "len(test_pred), len(test_with_features)"
   ]
  },
  {
   "cell_type": "code",
   "execution_count": 226,
   "metadata": {},
   "outputs": [],
   "source": [
    "predicted_scores = []\n",
    "\n",
    "for user_id, data in test_with_features.groupby(\"user_id\"):\n",
    "    features = convert_to_features_data(data, [\"rank\", \"item_id\"])\n",
    "    \n",
    "    predicted_scores.append(\n",
    "        pl.DataFrame(\n",
    "            {\n",
    "                \"user_id\": data.get_column(\"user_id\"),\n",
    "                \"item_id\": data.get_column(\"item_id\"),\n",
    "                \"score\": ranker.predict(features)\n",
    "            },\n",
    "            schema={col: dtype for col, dtype in data.schema.items() if col in (\"user_id\", \"item_id\")} | {\"score\": pl.Float32}\n",
    "        )\n",
    "    )"
   ]
  },
  {
   "cell_type": "code",
   "execution_count": 227,
   "metadata": {},
   "outputs": [],
   "source": [
    "ranked_pred = test_with_features.join(pl.concat(predicted_scores), on=[\"user_id\", \"item_id\"], how=\"inner\")"
   ]
  },
  {
   "cell_type": "code",
   "execution_count": 228,
   "metadata": {},
   "outputs": [],
   "source": [
    "ranked_pred = ranked_pred.sort([\"user_id\", \"score\"], descending=True).with_columns(\n",
    "    (pl.col(\"item_id\").cumcount() + 1).over(\"user_id\").alias(\"new_rank\")\n",
    ")"
   ]
  },
  {
   "cell_type": "code",
   "execution_count": 229,
   "metadata": {},
   "outputs": [
    {
     "data": {
      "text/html": [
       "<div><style>\n",
       ".dataframe > thead > tr > th,\n",
       ".dataframe > tbody > tr > td {\n",
       "  text-align: right;\n",
       "}\n",
       "</style>\n",
       "<small>shape: (5, 9)</small><table border=\"1\" class=\"dataframe\"><thead><tr><th>user_id</th><th>item_id</th><th>rank</th><th>genres</th><th>year</th><th>age</th><th>sex</th><th>score</th><th>new_rank</th></tr><tr><td>u32</td><td>u32</td><td>u32</td><td>str</td><td>str</td><td>str</td><td>str</td><td>f32</td><td>u32</td></tr></thead><tbody><tr><td>159595</td><td>12699</td><td>9</td><td>&quot;критика&quot;</td><td>&quot;1911&quot;</td><td>&quot;18_24&quot;</td><td>&quot;unknown&quot;</td><td>0.429674</td><td>1</td></tr><tr><td>159595</td><td>86073</td><td>8</td><td>&quot;книги для дете…</td><td>&quot;unknown&quot;</td><td>&quot;18_24&quot;</td><td>&quot;unknown&quot;</td><td>0.280971</td><td>2</td></tr><tr><td>159595</td><td>229850</td><td>3</td><td>&quot;общая история&quot;</td><td>&quot;1990&quot;</td><td>&quot;18_24&quot;</td><td>&quot;unknown&quot;</td><td>0.133104</td><td>3</td></tr><tr><td>159595</td><td>237005</td><td>4</td><td>&quot;городское фэнт…</td><td>&quot;2017&quot;</td><td>&quot;18_24&quot;</td><td>&quot;unknown&quot;</td><td>0.116347</td><td>4</td></tr><tr><td>159595</td><td>178771</td><td>2</td><td>&quot;городское фэнт…</td><td>&quot;2018&quot;</td><td>&quot;18_24&quot;</td><td>&quot;unknown&quot;</td><td>-0.042737</td><td>5</td></tr></tbody></table></div>"
      ],
      "text/plain": [
       "shape: (5, 9)\n",
       "┌─────────┬─────────┬──────┬──────────────────────────┬───┬───────┬─────────┬───────────┬──────────┐\n",
       "│ user_id ┆ item_id ┆ rank ┆ genres                   ┆ … ┆ age   ┆ sex     ┆ score     ┆ new_rank │\n",
       "│ ---     ┆ ---     ┆ ---  ┆ ---                      ┆   ┆ ---   ┆ ---     ┆ ---       ┆ ---      │\n",
       "│ u32     ┆ u32     ┆ u32  ┆ str                      ┆   ┆ str   ┆ str     ┆ f32       ┆ u32      │\n",
       "╞═════════╪═════════╪══════╪══════════════════════════╪═══╪═══════╪═════════╪═══════════╪══════════╡\n",
       "│ 159595  ┆ 12699   ┆ 9    ┆ критика                  ┆ … ┆ 18_24 ┆ unknown ┆ 0.429674  ┆ 1        │\n",
       "│ 159595  ┆ 86073   ┆ 8    ┆ книги для детей          ┆ … ┆ 18_24 ┆ unknown ┆ 0.280971  ┆ 2        │\n",
       "│ 159595  ┆ 229850  ┆ 3    ┆ общая история            ┆ … ┆ 18_24 ┆ unknown ┆ 0.133104  ┆ 3        │\n",
       "│ 159595  ┆ 237005  ┆ 4    ┆ городское                ┆ … ┆ 18_24 ┆ unknown ┆ 0.116347  ┆ 4        │\n",
       "│         ┆         ┆      ┆ фэнтези,детективное фэ…  ┆   ┆       ┆         ┆           ┆          │\n",
       "│ 159595  ┆ 178771  ┆ 2    ┆ городское фэнтези,книги  ┆ … ┆ 18_24 ┆ unknown ┆ -0.042737 ┆ 5        │\n",
       "│         ┆         ┆      ┆ про волш…                ┆   ┆       ┆         ┆           ┆          │\n",
       "└─────────┴─────────┴──────┴──────────────────────────┴───┴───────┴─────────┴───────────┴──────────┘"
      ]
     },
     "execution_count": 229,
     "metadata": {},
     "output_type": "execute_result"
    }
   ],
   "source": [
    "ranked_pred.head()"
   ]
  },
  {
   "cell_type": "code",
   "execution_count": 230,
   "metadata": {},
   "outputs": [],
   "source": [
    "joined_rank_data = join_true_pred_and_preprocess(test, ranked_pred.select(\n",
    "    pl.col([\"user_id\", \"item_id\"]),\n",
    "    pl.col(\"new_rank\").alias(\"rank\")\n",
    "))"
   ]
  },
  {
   "cell_type": "code",
   "execution_count": 231,
   "metadata": {},
   "outputs": [
    {
     "data": {
      "text/plain": [
       "0.007476633439598811"
      ]
     },
     "execution_count": 231,
     "metadata": {},
     "output_type": "execute_result"
    }
   ],
   "source": [
    "mean_average_prec(joined_rank_data)"
   ]
  },
  {
   "cell_type": "code",
   "execution_count": 232,
   "metadata": {},
   "outputs": [
    {
     "data": {
      "text/plain": [
       "0.00948556606380896"
      ]
     },
     "execution_count": 232,
     "metadata": {},
     "output_type": "execute_result"
    }
   ],
   "source": [
    "baseline_map"
   ]
  },
  {
   "cell_type": "code",
   "execution_count": null,
   "metadata": {},
   "outputs": [],
   "source": []
  }
 ],
 "metadata": {
  "kernelspec": {
   "display_name": "recsys",
   "language": "python",
   "name": "python3"
  },
  "language_info": {
   "codemirror_mode": {
    "name": "ipython",
    "version": 3
   },
   "file_extension": ".py",
   "mimetype": "text/x-python",
   "name": "python",
   "nbconvert_exporter": "python",
   "pygments_lexer": "ipython3",
   "version": "3.10.9"
  },
  "orig_nbformat": 4
 },
 "nbformat": 4,
 "nbformat_minor": 2
}
