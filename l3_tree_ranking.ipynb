{
 "cells": [
  {
   "attachments": {},
   "cell_type": "markdown",
   "metadata": {},
   "source": [
    "# Colab"
   ]
  },
  {
   "cell_type": "code",
   "execution_count": 2,
   "metadata": {},
   "outputs": [],
   "source": [
    "# !git clone -b tree-ranking https://github.com/KernelA/education-recsys.git"
   ]
  },
  {
   "cell_type": "code",
   "execution_count": 3,
   "metadata": {},
   "outputs": [],
   "source": [
    "# %cd /content/education-recsys/"
   ]
  },
  {
   "cell_type": "code",
   "execution_count": 1,
   "metadata": {},
   "outputs": [],
   "source": [
    "# !pip install --no-cache-dir -r ./requirements.txt  kaggle"
   ]
  },
  {
   "cell_type": "code",
   "execution_count": 4,
   "metadata": {},
   "outputs": [],
   "source": [
    "# %load_ext dotenv\n",
    "# %dotenv"
   ]
  },
  {
   "cell_type": "code",
   "execution_count": 5,
   "metadata": {},
   "outputs": [],
   "source": [
    "# !kaggle datasets download -d sharthz23/mts-library -p ./data --unzip "
   ]
  },
  {
   "cell_type": "code",
   "execution_count": 6,
   "metadata": {},
   "outputs": [],
   "source": [
    "import os"
   ]
  },
  {
   "cell_type": "code",
   "execution_count": 7,
   "metadata": {},
   "outputs": [],
   "source": [
    "is_colab = False"
   ]
  },
  {
   "cell_type": "code",
   "execution_count": 8,
   "metadata": {},
   "outputs": [],
   "source": [
    "if is_colab:\n",
    "    remote_dir = \"/content/drive\"\n",
    "else:\n",
    "    remote_dir = os.getcwd()"
   ]
  },
  {
   "cell_type": "code",
   "execution_count": 9,
   "metadata": {},
   "outputs": [],
   "source": [
    "if is_colab:\n",
    "    from google.colab import drive\n",
    "    drive.mount(remote_dir)"
   ]
  },
  {
   "cell_type": "code",
   "execution_count": 10,
   "metadata": {},
   "outputs": [],
   "source": [
    "if is_colab:\n",
    "    out_exp_dir = os.path.join(remote_dir, \"MyDrive/EducationRecSys/tree-ranking\")\n",
    "else:\n",
    "    out_exp_dir = os.path.join(remote_dir, \"catboost-dir\")"
   ]
  },
  {
   "cell_type": "code",
   "execution_count": 11,
   "metadata": {},
   "outputs": [],
   "source": [
    "if is_colab:\n",
    "    from google.colab import output\n",
    "    output.enable_custom_widget_manager()"
   ]
  },
  {
   "attachments": {},
   "cell_type": "markdown",
   "metadata": {},
   "source": [
    "# Основной код"
   ]
  },
  {
   "cell_type": "code",
   "execution_count": 12,
   "metadata": {},
   "outputs": [],
   "source": [
    "import os\n",
    "from datetime import timedelta, datetime\n",
    "\n",
    "import seaborn as sns\n",
    "import polars as pl\n",
    "import numpy as np\n",
    "from implicit.nearest_neighbours import BM25Recommender\n",
    "from catboost import Pool, CatBoostRanker, FeaturesData"
   ]
  },
  {
   "cell_type": "code",
   "execution_count": 13,
   "metadata": {},
   "outputs": [],
   "source": [
    "sns.set_style(\"darkgrid\")"
   ]
  },
  {
   "cell_type": "code",
   "execution_count": 14,
   "metadata": {},
   "outputs": [],
   "source": [
    "%load_ext autoreload\n",
    "%autoreload 2\n",
    "\n",
    "from recs_utils.metrics import compute_metrics, model_cross_validate, mean_average_prec, join_true_pred_and_preprocess\n",
    "from recs_utils.load_data import MTSDataset, MovieLens100K\n",
    "from recs_utils.split import TimeRangeSplit\n",
    "from recs_utils.implicit_model import ImplicitRecommender\n",
    "from recs_utils.utils import get_direct_and_inv_mapping\n",
    "from recs_utils.ranking import add_features, add_group_ids, features_target_ranking, convert_to_features_data, features_target_pairwise_ranking"
   ]
  },
  {
   "cell_type": "code",
   "execution_count": 15,
   "metadata": {},
   "outputs": [],
   "source": [
    "data_dir = os.path.join(\"data\")"
   ]
  },
  {
   "cell_type": "code",
   "execution_count": 16,
   "metadata": {},
   "outputs": [],
   "source": [
    "df = MTSDataset.load_interactions(os.path.join(data_dir, \"interactions.csv\"))\n",
    "df_users = MTSDataset.load_users(os.path.join(data_dir, \"users.csv\"))\n",
    "df_items = MTSDataset.select_genres(MTSDataset.load_items(os.path.join(data_dir, \"items.csv\")), 0.98)"
   ]
  },
  {
   "cell_type": "code",
   "execution_count": 17,
   "metadata": {},
   "outputs": [],
   "source": [
    "df = df.filter(pl.col(\"item_id\").is_in(df_items.select(pl.col(\"item_id\").unique()).to_series()) & \n",
    "          pl.col(\"user_id\").is_in(df_users.select(pl.col(\"user_id\").unique()).to_series())\n",
    ")"
   ]
  },
  {
   "cell_type": "code",
   "execution_count": 18,
   "metadata": {},
   "outputs": [],
   "source": [
    "num_items = df.select(pl.col(\"item_id\").n_unique())[0, 0]"
   ]
  },
  {
   "cell_type": "code",
   "execution_count": 19,
   "metadata": {},
   "outputs": [
    {
     "name": "stdout",
     "output_type": "stream",
     "text": [
      "Num items: 59599\n"
     ]
    }
   ],
   "source": [
    "print(\"Num items:\", num_items)"
   ]
  },
  {
   "attachments": {},
   "cell_type": "markdown",
   "metadata": {},
   "source": [
    "По причинам произвоидительности берём только элементы с наибольшим количеством оценок"
   ]
  },
  {
   "cell_type": "code",
   "execution_count": 20,
   "metadata": {},
   "outputs": [],
   "source": [
    "selected_item_ids = df.lazy().groupby(\"item_id\").count().top_k(min(30_000, num_items), by=\"count\").select(pl.col(\"item_id\").unique()).collect().to_series()"
   ]
  },
  {
   "cell_type": "code",
   "execution_count": 21,
   "metadata": {},
   "outputs": [],
   "source": [
    "df = df.filter(pl.col(\"item_id\").is_in(selected_item_ids))"
   ]
  },
  {
   "cell_type": "code",
   "execution_count": 22,
   "metadata": {},
   "outputs": [],
   "source": [
    "del selected_item_ids"
   ]
  },
  {
   "cell_type": "code",
   "execution_count": 23,
   "metadata": {},
   "outputs": [
    {
     "data": {
      "text/plain": [
       "1063269"
      ]
     },
     "execution_count": 23,
     "metadata": {},
     "output_type": "execute_result"
    }
   ],
   "source": [
    "len(df)"
   ]
  },
  {
   "cell_type": "code",
   "execution_count": 24,
   "metadata": {},
   "outputs": [
    {
     "data": {
      "text/html": [
       "<div><style>\n",
       ".dataframe > thead > tr > th,\n",
       ".dataframe > tbody > tr > td {\n",
       "  text-align: right;\n",
       "}\n",
       "</style>\n",
       "<small>shape: (5, 5)</small><table border=\"1\" class=\"dataframe\"><thead><tr><th>user_id</th><th>item_id</th><th>progress</th><th>rating</th><th>start_date</th></tr><tr><td>u32</td><td>u32</td><td>u8</td><td>f32</td><td>date</td></tr></thead><tbody><tr><td>126706</td><td>14433</td><td>80</td><td>NaN</td><td>2018-01-01</td></tr><tr><td>127290</td><td>140952</td><td>58</td><td>NaN</td><td>2018-01-01</td></tr><tr><td>127451</td><td>14876</td><td>69</td><td>NaN</td><td>2018-01-01</td></tr><tr><td>47287</td><td>258483</td><td>22</td><td>NaN</td><td>2018-01-01</td></tr><tr><td>47551</td><td>64060</td><td>55</td><td>NaN</td><td>2018-01-01</td></tr></tbody></table></div>"
      ],
      "text/plain": [
       "shape: (5, 5)\n",
       "┌─────────┬─────────┬──────────┬────────┬────────────┐\n",
       "│ user_id ┆ item_id ┆ progress ┆ rating ┆ start_date │\n",
       "│ ---     ┆ ---     ┆ ---      ┆ ---    ┆ ---        │\n",
       "│ u32     ┆ u32     ┆ u8       ┆ f32    ┆ date       │\n",
       "╞═════════╪═════════╪══════════╪════════╪════════════╡\n",
       "│ 126706  ┆ 14433   ┆ 80       ┆ NaN    ┆ 2018-01-01 │\n",
       "│ 127290  ┆ 140952  ┆ 58       ┆ NaN    ┆ 2018-01-01 │\n",
       "│ 127451  ┆ 14876   ┆ 69       ┆ NaN    ┆ 2018-01-01 │\n",
       "│ 47287   ┆ 258483  ┆ 22       ┆ NaN    ┆ 2018-01-01 │\n",
       "│ 47551   ┆ 64060   ┆ 55       ┆ NaN    ┆ 2018-01-01 │\n",
       "└─────────┴─────────┴──────────┴────────┴────────────┘"
      ]
     },
     "execution_count": 24,
     "metadata": {},
     "output_type": "execute_result"
    }
   ],
   "source": [
    "df.head()"
   ]
  },
  {
   "cell_type": "code",
   "execution_count": 25,
   "metadata": {},
   "outputs": [
    {
     "data": {
      "text/html": [
       "<div><style>\n",
       ".dataframe > thead > tr > th,\n",
       ".dataframe > tbody > tr > td {\n",
       "  text-align: right;\n",
       "}\n",
       "</style>\n",
       "<small>shape: (5, 3)</small><table border=\"1\" class=\"dataframe\"><thead><tr><th>user_id</th><th>age</th><th>sex</th></tr><tr><td>u32</td><td>cat</td><td>i8</td></tr></thead><tbody><tr><td>1</td><td>&quot;45_54&quot;</td><td>null</td></tr><tr><td>2</td><td>&quot;18_24&quot;</td><td>0</td></tr><tr><td>3</td><td>&quot;65_inf&quot;</td><td>0</td></tr><tr><td>4</td><td>&quot;18_24&quot;</td><td>0</td></tr><tr><td>5</td><td>&quot;35_44&quot;</td><td>0</td></tr></tbody></table></div>"
      ],
      "text/plain": [
       "shape: (5, 3)\n",
       "┌─────────┬────────┬──────┐\n",
       "│ user_id ┆ age    ┆ sex  │\n",
       "│ ---     ┆ ---    ┆ ---  │\n",
       "│ u32     ┆ cat    ┆ i8   │\n",
       "╞═════════╪════════╪══════╡\n",
       "│ 1       ┆ 45_54  ┆ null │\n",
       "│ 2       ┆ 18_24  ┆ 0    │\n",
       "│ 3       ┆ 65_inf ┆ 0    │\n",
       "│ 4       ┆ 18_24  ┆ 0    │\n",
       "│ 5       ┆ 35_44  ┆ 0    │\n",
       "└─────────┴────────┴──────┘"
      ]
     },
     "execution_count": 25,
     "metadata": {},
     "output_type": "execute_result"
    }
   ],
   "source": [
    "df_users.head()"
   ]
  },
  {
   "cell_type": "code",
   "execution_count": 26,
   "metadata": {},
   "outputs": [
    {
     "data": {
      "text/html": [
       "<div><style>\n",
       ".dataframe > thead > tr > th,\n",
       ".dataframe > tbody > tr > td {\n",
       "  text-align: right;\n",
       "}\n",
       "</style>\n",
       "<small>shape: (3, 5)</small><table border=\"1\" class=\"dataframe\"><thead><tr><th>item_id</th><th>title</th><th>genres</th><th>authors</th><th>year</th></tr><tr><td>u32</td><td>str</td><td>str</td><td>cat</td><td>cat</td></tr></thead><tbody><tr><td>128115</td><td>&quot;ворон-челобитч…</td><td>&quot;зарубежная кла…</td><td>&quot;Михаил Салтыко…</td><td>&quot;1886&quot;</td></tr><tr><td>210979</td><td>&quot;скрипка ротшил…</td><td>&quot;классическая п…</td><td>&quot;Антон Чехов&quot;</td><td>&quot;1894&quot;</td></tr><tr><td>95632</td><td>&quot;испорченные де…</td><td>&quot;зарубежная кла…</td><td>&quot;Михаил Салтыко…</td><td>&quot;1869&quot;</td></tr></tbody></table></div>"
      ],
      "text/plain": [
       "shape: (3, 5)\n",
       "┌─────────┬───────────────────┬───────────────────────────────────┬────────────────────────┬──────┐\n",
       "│ item_id ┆ title             ┆ genres                            ┆ authors                ┆ year │\n",
       "│ ---     ┆ ---               ┆ ---                               ┆ ---                    ┆ ---  │\n",
       "│ u32     ┆ str               ┆ str                               ┆ cat                    ┆ cat  │\n",
       "╞═════════╪═══════════════════╪═══════════════════════════════════╪════════════════════════╪══════╡\n",
       "│ 128115  ┆ ворон-челобитчик  ┆ зарубежная классика,зарубежные д… ┆ Михаил Салтыков-Щедрин ┆ 1886 │\n",
       "│ 210979  ┆ скрипка ротшильда ┆ классическая проза,литература 19… ┆ Антон Чехов            ┆ 1894 │\n",
       "│ 95632   ┆ испорченные дети  ┆ зарубежная классика,классическая… ┆ Михаил Салтыков-Щедрин ┆ 1869 │\n",
       "└─────────┴───────────────────┴───────────────────────────────────┴────────────────────────┴──────┘"
      ]
     },
     "execution_count": 26,
     "metadata": {},
     "output_type": "execute_result"
    }
   ],
   "source": [
    "df_items.head(n=3)"
   ]
  },
  {
   "cell_type": "code",
   "execution_count": 27,
   "metadata": {},
   "outputs": [
    {
     "data": {
      "text/plain": [
       "135520"
      ]
     },
     "execution_count": 27,
     "metadata": {},
     "output_type": "execute_result"
    }
   ],
   "source": [
    "users_mapping, users_inv_mapping = get_direct_and_inv_mapping(df, \"user_id\")\n",
    "len(users_mapping)"
   ]
  },
  {
   "cell_type": "code",
   "execution_count": 28,
   "metadata": {},
   "outputs": [
    {
     "data": {
      "text/plain": [
       "30000"
      ]
     },
     "execution_count": 28,
     "metadata": {},
     "output_type": "execute_result"
    }
   ],
   "source": [
    "items_mapping, items_inv_mapping = get_direct_and_inv_mapping(df, \"item_id\")\n",
    "len(items_mapping)"
   ]
  },
  {
   "cell_type": "code",
   "execution_count": 29,
   "metadata": {},
   "outputs": [
    {
     "data": {
      "text/plain": [
       "(datetime.date(2019, 12, 10), datetime.date(2019, 12, 31))"
      ]
     },
     "execution_count": 29,
     "metadata": {},
     "output_type": "execute_result"
    }
   ],
   "source": [
    "last_date = df.select(pl.col(\"start_date\").max())[0, 0]\n",
    "folds = 3\n",
    "start_date = last_date - timedelta(weeks=folds)\n",
    "start_date, last_date"
   ]
  },
  {
   "cell_type": "code",
   "execution_count": 30,
   "metadata": {},
   "outputs": [
    {
     "data": {
      "text/plain": [
       "(3, 3)"
      ]
     },
     "execution_count": 30,
     "metadata": {},
     "output_type": "execute_result"
    }
   ],
   "source": [
    "cv = TimeRangeSplit(start_date=start_date, folds=folds, interval=timedelta(weeks=1))\n",
    "cv.max_n_splits, cv.get_n_splits(df, datetime_column='start_date')"
   ]
  },
  {
   "cell_type": "code",
   "execution_count": 31,
   "metadata": {},
   "outputs": [],
   "source": [
    "folds_with_stats = list(cv.split(\n",
    "    df, \n",
    "    user_column='user_id',\n",
    "    item_column='item_id',\n",
    "    datetime_column='start_date',\n",
    "    fold_stats=True\n",
    ")\n",
    ")\n",
    "\n",
    "folds_info_with_stats = pl.from_dicts([info for _, _, info in folds_with_stats])"
   ]
  },
  {
   "cell_type": "code",
   "execution_count": 32,
   "metadata": {},
   "outputs": [
    {
     "data": {
      "text/html": [
       "<div><style>\n",
       ".dataframe > thead > tr > th,\n",
       ".dataframe > tbody > tr > td {\n",
       "  text-align: right;\n",
       "}\n",
       "</style>\n",
       "<small>shape: (3, 9)</small><table border=\"1\" class=\"dataframe\"><thead><tr><th>Start date</th><th>End date</th><th>Train</th><th>New users</th><th>New users interactions</th><th>New items</th><th>New items interactions</th><th>Known interactions</th><th>Test</th></tr><tr><td>date</td><td>date</td><td>i64</td><td>i64</td><td>i64</td><td>i64</td><td>i64</td><td>i64</td><td>i64</td></tr></thead><tbody><tr><td>2019-12-10</td><td>2019-12-17</td><td>1032838</td><td>74</td><td>100</td><td>0</td><td>0</td><td>0</td><td>9640</td></tr><tr><td>2019-12-17</td><td>2019-12-24</td><td>1042578</td><td>75</td><td>101</td><td>0</td><td>0</td><td>0</td><td>9615</td></tr><tr><td>2019-12-24</td><td>2019-12-31</td><td>1052294</td><td>67</td><td>96</td><td>0</td><td>0</td><td>0</td><td>9675</td></tr></tbody></table></div>"
      ],
      "text/plain": [
       "shape: (3, 9)\n",
       "┌────────────┬────────────┬─────────┬───────────┬───┬───────────┬────────────┬──────────────┬──────┐\n",
       "│ Start date ┆ End date   ┆ Train   ┆ New users ┆ … ┆ New items ┆ New items  ┆ Known        ┆ Test │\n",
       "│ ---        ┆ ---        ┆ ---     ┆ ---       ┆   ┆ ---       ┆ interactio ┆ interactions ┆ ---  │\n",
       "│ date       ┆ date       ┆ i64     ┆ i64       ┆   ┆ i64       ┆ ns         ┆ ---          ┆ i64  │\n",
       "│            ┆            ┆         ┆           ┆   ┆           ┆ ---        ┆ i64          ┆      │\n",
       "│            ┆            ┆         ┆           ┆   ┆           ┆ i64        ┆              ┆      │\n",
       "╞════════════╪════════════╪═════════╪═══════════╪═══╪═══════════╪════════════╪══════════════╪══════╡\n",
       "│ 2019-12-10 ┆ 2019-12-17 ┆ 1032838 ┆ 74        ┆ … ┆ 0         ┆ 0          ┆ 0            ┆ 9640 │\n",
       "│ 2019-12-17 ┆ 2019-12-24 ┆ 1042578 ┆ 75        ┆ … ┆ 0         ┆ 0          ┆ 0            ┆ 9615 │\n",
       "│ 2019-12-24 ┆ 2019-12-31 ┆ 1052294 ┆ 67        ┆ … ┆ 0         ┆ 0          ┆ 0            ┆ 9675 │\n",
       "└────────────┴────────────┴─────────┴───────────┴───┴───────────┴────────────┴──────────────┴──────┘"
      ]
     },
     "execution_count": 32,
     "metadata": {},
     "output_type": "execute_result"
    }
   ],
   "source": [
    "folds_info_with_stats"
   ]
  },
  {
   "cell_type": "code",
   "execution_count": 33,
   "metadata": {},
   "outputs": [],
   "source": [
    "top_N = 10\n",
    "num_neg_samples = 3"
   ]
  },
  {
   "cell_type": "code",
   "execution_count": 34,
   "metadata": {},
   "outputs": [],
   "source": [
    "top_N_negative_sampling = max(num_neg_samples * 2, top_N)"
   ]
  },
  {
   "cell_type": "code",
   "execution_count": 35,
   "metadata": {},
   "outputs": [
    {
     "data": {
      "text/plain": [
       "((1032838, 5), (9640, 5))"
      ]
     },
     "execution_count": 35,
     "metadata": {},
     "output_type": "execute_result"
    }
   ],
   "source": [
    "train_idx, test_idx, info = folds_with_stats[0]\n",
    "\n",
    "train = df.join(train_idx, on=[\"user_id\", \"item_id\"], how=\"inner\")\n",
    "test = df.join(test_idx, on=[\"user_id\", \"item_id\"], how=\"inner\")\n",
    "train.shape, test.shape"
   ]
  },
  {
   "cell_type": "code",
   "execution_count": 36,
   "metadata": {},
   "outputs": [],
   "source": [
    "recommender = ImplicitRecommender(\n",
    "    BM25Recommender(K=top_N_negative_sampling),\n",
    "    users_mapping, \n",
    "    items_mapping,\n",
    "    items_inv_mapping,\n",
    "    # rating_col_name=\"rating\"\n",
    ")"
   ]
  },
  {
   "cell_type": "code",
   "execution_count": 37,
   "metadata": {},
   "outputs": [
    {
     "name": "stderr",
     "output_type": "stream",
     "text": [
      "/home/alex/miniconda3/envs/recsys/lib/python3.10/site-packages/implicit/utils.py:138: ParameterWarning: Method expects CSR input, and was passed coo_matrix instead. Converting to CSR took 0.0076389312744140625 seconds\n",
      "  warnings.warn(\n"
     ]
    },
    {
     "data": {
      "application/vnd.jupyter.widget-view+json": {
       "model_id": "8a5a16aafdb84e3aba654d3c6e495b23",
       "version_major": 2,
       "version_minor": 0
      },
      "text/plain": [
       "  0%|          | 0/30000 [00:00<?, ?it/s]"
      ]
     },
     "metadata": {},
     "output_type": "display_data"
    }
   ],
   "source": [
    "recommender.fit(train)"
   ]
  },
  {
   "cell_type": "code",
   "execution_count": 38,
   "metadata": {},
   "outputs": [],
   "source": [
    "train_pred_neg_sampling = recommender.recommend(\n",
    "    train.select(pl.col(\"user_id\").unique()).to_series(), \n",
    "    n=top_N_negative_sampling)"
   ]
  },
  {
   "cell_type": "code",
   "execution_count": 39,
   "metadata": {},
   "outputs": [],
   "source": [
    "test_pred = recommender.recommend(\n",
    "    test.select(pl.col(\"user_id\").unique()).to_series(), \n",
    "    n=top_N)"
   ]
  },
  {
   "cell_type": "code",
   "execution_count": 40,
   "metadata": {},
   "outputs": [],
   "source": [
    "baseline_map = mean_average_prec(join_true_pred_and_preprocess(test, test_pred))"
   ]
  },
  {
   "cell_type": "code",
   "execution_count": 41,
   "metadata": {},
   "outputs": [
    {
     "data": {
      "text/plain": [
       "0.01453943859233516"
      ]
     },
     "execution_count": 41,
     "metadata": {},
     "output_type": "execute_result"
    }
   ],
   "source": [
    "baseline_map"
   ]
  },
  {
   "cell_type": "code",
   "execution_count": 42,
   "metadata": {},
   "outputs": [],
   "source": [
    "assert train_pred_neg_sampling.lazy().groupby(\"user_id\").count().filter(pl.col(\"count\") < num_neg_samples).collect().is_empty(), f\"You must sample {num_neg_samples} for each user\""
   ]
  },
  {
   "cell_type": "code",
   "execution_count": 43,
   "metadata": {},
   "outputs": [],
   "source": [
    "train = train.with_row_count(\"pair_id\")"
   ]
  },
  {
   "cell_type": "code",
   "execution_count": 44,
   "metadata": {},
   "outputs": [],
   "source": [
    "neg_train = train.lazy().join(train_pred_neg_sampling.lazy().select(pl.col([\"user_id\", \"item_id\"])), on=\"user_id\", suffix=\"_neg\").filter(\n",
    "    pl.col(\"item_id\") != pl.col(\"item_id_neg\")\n",
    ").groupby(\n",
    "    [\"user_id\", \"item_id\", \"start_date\", \"pair_id\"]\n",
    ").agg(\n",
    "    pl.col(\"item_id_neg\").implode().flatten().sample(n=num_neg_samples, seed=1455, with_replacement=False).alias(\"neg_item_id\")\n",
    ").select(\n",
    "    pl.all().exclude(\"item_id\")\n",
    ").explode(\"neg_item_id\").select(\n",
    "    pl.col(\"user_id\"),\n",
    "    pl.col(\"neg_item_id\").alias(\"item_id\"),\n",
    "    pl.col(\"start_date\"),\n",
    "    pl.col(\"pair_id\"),\n",
    "    pl.lit(0).cast(pl.Int8).alias(\"target\")).collect()"
   ]
  },
  {
   "cell_type": "code",
   "execution_count": 45,
   "metadata": {},
   "outputs": [
    {
     "data": {
      "text/html": [
       "<div><style>\n",
       ".dataframe > thead > tr > th,\n",
       ".dataframe > tbody > tr > td {\n",
       "  text-align: right;\n",
       "}\n",
       "</style>\n",
       "<small>shape: (5, 5)</small><table border=\"1\" class=\"dataframe\"><thead><tr><th>user_id</th><th>item_id</th><th>start_date</th><th>pair_id</th><th>target</th></tr><tr><td>u32</td><td>u32</td><td>date</td><td>u32</td><td>i8</td></tr></thead><tbody><tr><td>3</td><td>38745</td><td>2018-12-28</td><td>508317</td><td>0</td></tr><tr><td>3</td><td>316205</td><td>2018-12-28</td><td>508317</td><td>0</td></tr><tr><td>3</td><td>214016</td><td>2018-12-28</td><td>508317</td><td>0</td></tr><tr><td>6</td><td>177822</td><td>2019-06-11</td><td>760729</td><td>0</td></tr><tr><td>6</td><td>109493</td><td>2019-06-11</td><td>760729</td><td>0</td></tr></tbody></table></div>"
      ],
      "text/plain": [
       "shape: (5, 5)\n",
       "┌─────────┬─────────┬────────────┬─────────┬────────┐\n",
       "│ user_id ┆ item_id ┆ start_date ┆ pair_id ┆ target │\n",
       "│ ---     ┆ ---     ┆ ---        ┆ ---     ┆ ---    │\n",
       "│ u32     ┆ u32     ┆ date       ┆ u32     ┆ i8     │\n",
       "╞═════════╪═════════╪════════════╪═════════╪════════╡\n",
       "│ 3       ┆ 38745   ┆ 2018-12-28 ┆ 508317  ┆ 0      │\n",
       "│ 3       ┆ 316205  ┆ 2018-12-28 ┆ 508317  ┆ 0      │\n",
       "│ 3       ┆ 214016  ┆ 2018-12-28 ┆ 508317  ┆ 0      │\n",
       "│ 6       ┆ 177822  ┆ 2019-06-11 ┆ 760729  ┆ 0      │\n",
       "│ 6       ┆ 109493  ┆ 2019-06-11 ┆ 760729  ┆ 0      │\n",
       "└─────────┴─────────┴────────────┴─────────┴────────┘"
      ]
     },
     "execution_count": 45,
     "metadata": {},
     "output_type": "execute_result"
    }
   ],
   "source": [
    "neg_train.head()"
   ]
  },
  {
   "cell_type": "code",
   "execution_count": 46,
   "metadata": {},
   "outputs": [],
   "source": [
    "train_full = train.select(\n",
    "    pl.col(\"user_id\"),\n",
    "    pl.col(\"item_id\"),\n",
    "    pl.col(\"start_date\"),\n",
    "    pl.col(\"pair_id\"),\n",
    "    pl.lit(1).cast(pl.Int8).alias(\"target\")\n",
    ").vstack(neg_train)"
   ]
  },
  {
   "cell_type": "code",
   "execution_count": 48,
   "metadata": {},
   "outputs": [],
   "source": [
    "train_full = train_full.unique([\"pair_id\", \"target\"])"
   ]
  },
  {
   "cell_type": "code",
   "execution_count": 49,
   "metadata": {},
   "outputs": [
    {
     "data": {
      "text/html": [
       "<div><style>\n",
       ".dataframe > thead > tr > th,\n",
       ".dataframe > tbody > tr > td {\n",
       "  text-align: right;\n",
       "}\n",
       "</style>\n",
       "<small>shape: (6, 5)</small><table border=\"1\" class=\"dataframe\"><thead><tr><th>user_id</th><th>item_id</th><th>start_date</th><th>pair_id</th><th>target</th></tr><tr><td>u32</td><td>u32</td><td>date</td><td>u32</td><td>i8</td></tr></thead><tbody><tr><td>126706</td><td>307855</td><td>2018-01-01</td><td>0</td><td>0</td></tr><tr><td>126706</td><td>14433</td><td>2018-01-01</td><td>0</td><td>1</td></tr><tr><td>127290</td><td>189678</td><td>2018-01-01</td><td>1</td><td>0</td></tr><tr><td>127290</td><td>140952</td><td>2018-01-01</td><td>1</td><td>1</td></tr><tr><td>127451</td><td>232360</td><td>2018-01-01</td><td>2</td><td>0</td></tr><tr><td>127451</td><td>14876</td><td>2018-01-01</td><td>2</td><td>1</td></tr></tbody></table></div>"
      ],
      "text/plain": [
       "shape: (6, 5)\n",
       "┌─────────┬─────────┬────────────┬─────────┬────────┐\n",
       "│ user_id ┆ item_id ┆ start_date ┆ pair_id ┆ target │\n",
       "│ ---     ┆ ---     ┆ ---        ┆ ---     ┆ ---    │\n",
       "│ u32     ┆ u32     ┆ date       ┆ u32     ┆ i8     │\n",
       "╞═════════╪═════════╪════════════╪═════════╪════════╡\n",
       "│ 126706  ┆ 307855  ┆ 2018-01-01 ┆ 0       ┆ 0      │\n",
       "│ 126706  ┆ 14433   ┆ 2018-01-01 ┆ 0       ┆ 1      │\n",
       "│ 127290  ┆ 189678  ┆ 2018-01-01 ┆ 1       ┆ 0      │\n",
       "│ 127290  ┆ 140952  ┆ 2018-01-01 ┆ 1       ┆ 1      │\n",
       "│ 127451  ┆ 232360  ┆ 2018-01-01 ┆ 2       ┆ 0      │\n",
       "│ 127451  ┆ 14876   ┆ 2018-01-01 ┆ 2       ┆ 1      │\n",
       "└─────────┴─────────┴────────────┴─────────┴────────┘"
      ]
     },
     "execution_count": 49,
     "metadata": {},
     "output_type": "execute_result"
    }
   ],
   "source": [
    "train_full.sort(\"pair_id\", \"target\").head(n=6)"
   ]
  },
  {
   "cell_type": "code",
   "execution_count": 50,
   "metadata": {},
   "outputs": [
    {
     "data": {
      "text/html": [
       "<div><style>\n",
       ".dataframe > thead > tr > th,\n",
       ".dataframe > tbody > tr > td {\n",
       "  text-align: right;\n",
       "}\n",
       "</style>\n",
       "<small>shape: (0, 2)</small><table border=\"1\" class=\"dataframe\"><thead><tr><th>pair_id</th><th>count</th></tr><tr><td>u32</td><td>u32</td></tr></thead><tbody></tbody></table></div>"
      ],
      "text/plain": [
       "shape: (0, 2)\n",
       "┌─────────┬───────┐\n",
       "│ pair_id ┆ count │\n",
       "│ ---     ┆ ---   │\n",
       "│ u32     ┆ u32   │\n",
       "╞═════════╪═══════╡\n",
       "└─────────┴───────┘"
      ]
     },
     "execution_count": 50,
     "metadata": {},
     "output_type": "execute_result"
    }
   ],
   "source": [
    "train_full.groupby([\"pair_id\"]).count().filter(\n",
    "    pl.col(\"count\") <= 1)"
   ]
  },
  {
   "cell_type": "code",
   "execution_count": 51,
   "metadata": {},
   "outputs": [],
   "source": [
    "assert train_full.groupby([\"pair_id\"]).count().filter(\n",
    "    pl.col(\"count\") < 2).is_empty(), f\"Expected at least 2 pairs: positive and negative (user_id, item_id, start_date) \""
   ]
  },
  {
   "cell_type": "code",
   "execution_count": 52,
   "metadata": {},
   "outputs": [],
   "source": [
    "# df_users_features = df_users\n",
    "df_users_features = df_users.with_columns(\n",
    "    pl.col(\"age\").cast(str).fill_null(\"unknown\"),\n",
    "    pl.col(\"sex\").cast(str).fill_null(\"unknown\")\n",
    ")"
   ]
  },
  {
   "cell_type": "code",
   "execution_count": 53,
   "metadata": {},
   "outputs": [],
   "source": [
    "# df_items_features = df_items.select(pl.all().exclude([\"IMDb_URL\", \"title\"])).with_columns(pl.col(\"release_date\").dt.timestamp(\"us\"))\n",
    "df_items_features = df_items.select(\n",
    "    pl.col(\"item_id\"),\n",
    "    pl.col(\"genres\"),\n",
    "    pl.col(\"year\")\n",
    ").with_columns(\n",
    "    pl.col(\"genres\").cast(str).fill_null(\"genre_unknown\").alias(\"genres\"),\n",
    "    pl.col(\"year\").cast(str).fill_null(\"unknown\").alias(\"year\")\n",
    ")"
   ]
  },
  {
   "cell_type": "code",
   "execution_count": 54,
   "metadata": {},
   "outputs": [],
   "source": [
    "train_full = add_features(add_features(train_full, df_items_features, \"item_id\"), df_users_features, \"user_id\")"
   ]
  },
  {
   "cell_type": "code",
   "execution_count": 55,
   "metadata": {},
   "outputs": [
    {
     "data": {
      "text/html": [
       "<div><style>\n",
       ".dataframe > thead > tr > th,\n",
       ".dataframe > tbody > tr > td {\n",
       "  text-align: right;\n",
       "}\n",
       "</style>\n",
       "<small>shape: (3, 9)</small><table border=\"1\" class=\"dataframe\"><thead><tr><th>user_id</th><th>item_id</th><th>start_date</th><th>pair_id</th><th>target</th><th>genres</th><th>year</th><th>age</th><th>sex</th></tr><tr><td>u32</td><td>u32</td><td>date</td><td>u32</td><td>i8</td><td>str</td><td>str</td><td>str</td><td>str</td></tr></thead><tbody><tr><td>47551</td><td>64060</td><td>2018-01-01</td><td>4</td><td>1</td><td>&quot;современные де…</td><td>&quot;2002&quot;</td><td>&quot;35_44&quot;</td><td>&quot;unknown&quot;</td></tr><tr><td>1011</td><td>18519</td><td>2018-01-01</td><td>10</td><td>1</td><td>&quot;сказки&quot;</td><td>&quot;unknown&quot;</td><td>&quot;18_24&quot;</td><td>&quot;0&quot;</td></tr><tr><td>137220</td><td>167814</td><td>2018-01-01</td><td>13</td><td>1</td><td>&quot;любовное фэнте…</td><td>&quot;2013&quot;</td><td>&quot;25_34&quot;</td><td>&quot;0&quot;</td></tr></tbody></table></div>"
      ],
      "text/plain": [
       "shape: (3, 9)\n",
       "┌─────────┬─────────┬────────────┬─────────┬───┬───────────────────────┬─────────┬───────┬─────────┐\n",
       "│ user_id ┆ item_id ┆ start_date ┆ pair_id ┆ … ┆ genres                ┆ year    ┆ age   ┆ sex     │\n",
       "│ ---     ┆ ---     ┆ ---        ┆ ---     ┆   ┆ ---                   ┆ ---     ┆ ---   ┆ ---     │\n",
       "│ u32     ┆ u32     ┆ date       ┆ u32     ┆   ┆ str                   ┆ str     ┆ str   ┆ str     │\n",
       "╞═════════╪═════════╪════════════╪═════════╪═══╪═══════════════════════╪═════════╪═══════╪═════════╡\n",
       "│ 47551   ┆ 64060   ┆ 2018-01-01 ┆ 4       ┆ … ┆ современные детективы ┆ 2002    ┆ 35_44 ┆ unknown │\n",
       "│ 1011    ┆ 18519   ┆ 2018-01-01 ┆ 10      ┆ … ┆ сказки                ┆ unknown ┆ 18_24 ┆ 0       │\n",
       "│ 137220  ┆ 167814  ┆ 2018-01-01 ┆ 13      ┆ … ┆ любовное              ┆ 2013    ┆ 25_34 ┆ 0       │\n",
       "│         ┆         ┆            ┆         ┆   ┆ фэнтези,попаданцы     ┆         ┆       ┆         │\n",
       "└─────────┴─────────┴────────────┴─────────┴───┴───────────────────────┴─────────┴───────┴─────────┘"
      ]
     },
     "execution_count": 55,
     "metadata": {},
     "output_type": "execute_result"
    }
   ],
   "source": [
    "train_full.head(n=3)"
   ]
  },
  {
   "cell_type": "code",
   "execution_count": 56,
   "metadata": {},
   "outputs": [],
   "source": [
    "train_full = train_full.with_columns(pl.col(\"start_date\").dt.timestamp(\"us\"))"
   ]
  },
  {
   "cell_type": "code",
   "execution_count": 57,
   "metadata": {},
   "outputs": [
    {
     "data": {
      "text/html": [
       "<div><style>\n",
       ".dataframe > thead > tr > th,\n",
       ".dataframe > tbody > tr > td {\n",
       "  text-align: right;\n",
       "}\n",
       "</style>\n",
       "<small>shape: (5, 9)</small><table border=\"1\" class=\"dataframe\"><thead><tr><th>user_id</th><th>item_id</th><th>start_date</th><th>pair_id</th><th>target</th><th>genres</th><th>year</th><th>age</th><th>sex</th></tr><tr><td>u32</td><td>u32</td><td>i64</td><td>u32</td><td>i8</td><td>str</td><td>str</td><td>str</td><td>str</td></tr></thead><tbody><tr><td>47551</td><td>64060</td><td>1514764800000000</td><td>4</td><td>1</td><td>&quot;современные де…</td><td>&quot;2002&quot;</td><td>&quot;35_44&quot;</td><td>&quot;unknown&quot;</td></tr><tr><td>1011</td><td>18519</td><td>1514764800000000</td><td>10</td><td>1</td><td>&quot;сказки&quot;</td><td>&quot;unknown&quot;</td><td>&quot;18_24&quot;</td><td>&quot;0&quot;</td></tr><tr><td>137220</td><td>167814</td><td>1514764800000000</td><td>13</td><td>1</td><td>&quot;любовное фэнте…</td><td>&quot;2013&quot;</td><td>&quot;25_34&quot;</td><td>&quot;0&quot;</td></tr><tr><td>50171</td><td>54384</td><td>1514764800000000</td><td>39</td><td>1</td><td>&quot;зарубежные при…</td><td>&quot;1851&quot;</td><td>&quot;35_44&quot;</td><td>&quot;1&quot;</td></tr><tr><td>90067</td><td>72200</td><td>1514764800000000</td><td>58</td><td>1</td><td>&quot;боевое фэнтези…</td><td>&quot;2003&quot;</td><td>&quot;18_24&quot;</td><td>&quot;1&quot;</td></tr></tbody></table></div>"
      ],
      "text/plain": [
       "shape: (5, 9)\n",
       "┌─────────┬─────────┬──────────────────┬─────────┬───┬─────────────────┬─────────┬───────┬─────────┐\n",
       "│ user_id ┆ item_id ┆ start_date       ┆ pair_id ┆ … ┆ genres          ┆ year    ┆ age   ┆ sex     │\n",
       "│ ---     ┆ ---     ┆ ---              ┆ ---     ┆   ┆ ---             ┆ ---     ┆ ---   ┆ ---     │\n",
       "│ u32     ┆ u32     ┆ i64              ┆ u32     ┆   ┆ str             ┆ str     ┆ str   ┆ str     │\n",
       "╞═════════╪═════════╪══════════════════╪═════════╪═══╪═════════════════╪═════════╪═══════╪═════════╡\n",
       "│ 47551   ┆ 64060   ┆ 1514764800000000 ┆ 4       ┆ … ┆ современные     ┆ 2002    ┆ 35_44 ┆ unknown │\n",
       "│         ┆         ┆                  ┆         ┆   ┆ детективы       ┆         ┆       ┆         │\n",
       "│ 1011    ┆ 18519   ┆ 1514764800000000 ┆ 10      ┆ … ┆ сказки          ┆ unknown ┆ 18_24 ┆ 0       │\n",
       "│ 137220  ┆ 167814  ┆ 1514764800000000 ┆ 13      ┆ … ┆ любовное фэнтез ┆ 2013    ┆ 25_34 ┆ 0       │\n",
       "│         ┆         ┆                  ┆         ┆   ┆ и,попаданцы     ┆         ┆       ┆         │\n",
       "│ 50171   ┆ 54384   ┆ 1514764800000000 ┆ 39      ┆ … ┆ зарубежные прик ┆ 1851    ┆ 35_44 ┆ 1       │\n",
       "│         ┆         ┆                  ┆         ┆   ┆ лючения,литерат ┆         ┆       ┆         │\n",
       "│         ┆         ┆                  ┆         ┆   ┆ ур…             ┆         ┆       ┆         │\n",
       "│ 90067   ┆ 72200   ┆ 1514764800000000 ┆ 58      ┆ … ┆ боевое фэнтези, ┆ 2003    ┆ 18_24 ┆ 1       │\n",
       "│         ┆         ┆                  ┆         ┆   ┆ героическое     ┆         ┆       ┆         │\n",
       "│         ┆         ┆                  ┆         ┆   ┆ фэнте…          ┆         ┆       ┆         │\n",
       "└─────────┴─────────┴──────────────────┴─────────┴───┴─────────────────┴─────────┴───────┴─────────┘"
      ]
     },
     "execution_count": 57,
     "metadata": {},
     "output_type": "execute_result"
    }
   ],
   "source": [
    "train_full.head()"
   ]
  },
  {
   "cell_type": "code",
   "execution_count": 58,
   "metadata": {},
   "outputs": [],
   "source": [
    "# train_full = add_group_ids(train_full, [\"user_id\", \"start_date\"])"
   ]
  },
  {
   "cell_type": "code",
   "execution_count": 59,
   "metadata": {},
   "outputs": [
    {
     "data": {
      "text/html": [
       "<div><style>\n",
       ".dataframe > thead > tr > th,\n",
       ".dataframe > tbody > tr > td {\n",
       "  text-align: right;\n",
       "}\n",
       "</style>\n",
       "<small>shape: (5, 9)</small><table border=\"1\" class=\"dataframe\"><thead><tr><th>user_id</th><th>item_id</th><th>start_date</th><th>pair_id</th><th>target</th><th>genres</th><th>year</th><th>age</th><th>sex</th></tr><tr><td>u32</td><td>u32</td><td>i64</td><td>u32</td><td>i8</td><td>str</td><td>str</td><td>str</td><td>str</td></tr></thead><tbody><tr><td>47551</td><td>64060</td><td>1514764800000000</td><td>4</td><td>1</td><td>&quot;современные де…</td><td>&quot;2002&quot;</td><td>&quot;35_44&quot;</td><td>&quot;unknown&quot;</td></tr><tr><td>1011</td><td>18519</td><td>1514764800000000</td><td>10</td><td>1</td><td>&quot;сказки&quot;</td><td>&quot;unknown&quot;</td><td>&quot;18_24&quot;</td><td>&quot;0&quot;</td></tr><tr><td>137220</td><td>167814</td><td>1514764800000000</td><td>13</td><td>1</td><td>&quot;любовное фэнте…</td><td>&quot;2013&quot;</td><td>&quot;25_34&quot;</td><td>&quot;0&quot;</td></tr><tr><td>50171</td><td>54384</td><td>1514764800000000</td><td>39</td><td>1</td><td>&quot;зарубежные при…</td><td>&quot;1851&quot;</td><td>&quot;35_44&quot;</td><td>&quot;1&quot;</td></tr><tr><td>90067</td><td>72200</td><td>1514764800000000</td><td>58</td><td>1</td><td>&quot;боевое фэнтези…</td><td>&quot;2003&quot;</td><td>&quot;18_24&quot;</td><td>&quot;1&quot;</td></tr></tbody></table></div>"
      ],
      "text/plain": [
       "shape: (5, 9)\n",
       "┌─────────┬─────────┬──────────────────┬─────────┬───┬─────────────────┬─────────┬───────┬─────────┐\n",
       "│ user_id ┆ item_id ┆ start_date       ┆ pair_id ┆ … ┆ genres          ┆ year    ┆ age   ┆ sex     │\n",
       "│ ---     ┆ ---     ┆ ---              ┆ ---     ┆   ┆ ---             ┆ ---     ┆ ---   ┆ ---     │\n",
       "│ u32     ┆ u32     ┆ i64              ┆ u32     ┆   ┆ str             ┆ str     ┆ str   ┆ str     │\n",
       "╞═════════╪═════════╪══════════════════╪═════════╪═══╪═════════════════╪═════════╪═══════╪═════════╡\n",
       "│ 47551   ┆ 64060   ┆ 1514764800000000 ┆ 4       ┆ … ┆ современные     ┆ 2002    ┆ 35_44 ┆ unknown │\n",
       "│         ┆         ┆                  ┆         ┆   ┆ детективы       ┆         ┆       ┆         │\n",
       "│ 1011    ┆ 18519   ┆ 1514764800000000 ┆ 10      ┆ … ┆ сказки          ┆ unknown ┆ 18_24 ┆ 0       │\n",
       "│ 137220  ┆ 167814  ┆ 1514764800000000 ┆ 13      ┆ … ┆ любовное фэнтез ┆ 2013    ┆ 25_34 ┆ 0       │\n",
       "│         ┆         ┆                  ┆         ┆   ┆ и,попаданцы     ┆         ┆       ┆         │\n",
       "│ 50171   ┆ 54384   ┆ 1514764800000000 ┆ 39      ┆ … ┆ зарубежные прик ┆ 1851    ┆ 35_44 ┆ 1       │\n",
       "│         ┆         ┆                  ┆         ┆   ┆ лючения,литерат ┆         ┆       ┆         │\n",
       "│         ┆         ┆                  ┆         ┆   ┆ ур…             ┆         ┆       ┆         │\n",
       "│ 90067   ┆ 72200   ┆ 1514764800000000 ┆ 58      ┆ … ┆ боевое фэнтези, ┆ 2003    ┆ 18_24 ┆ 1       │\n",
       "│         ┆         ┆                  ┆         ┆   ┆ героическое     ┆         ┆       ┆         │\n",
       "│         ┆         ┆                  ┆         ┆   ┆ фэнте…          ┆         ┆       ┆         │\n",
       "└─────────┴─────────┴──────────────────┴─────────┴───┴─────────────────┴─────────┴───────┴─────────┘"
      ]
     },
     "execution_count": 59,
     "metadata": {},
     "output_type": "execute_result"
    }
   ],
   "source": [
    "train_full.head()"
   ]
  },
  {
   "cell_type": "code",
   "execution_count": 60,
   "metadata": {},
   "outputs": [],
   "source": [
    "ranker_train_info = features_target_pairwise_ranking(train_full, group_id_col=\"pair_id\")"
   ]
  },
  {
   "cell_type": "code",
   "execution_count": 61,
   "metadata": {},
   "outputs": [],
   "source": [
    "assert 2 * len(ranker_train_info.pairs) == ranker_train_info.features.get_object_count()"
   ]
  },
  {
   "cell_type": "code",
   "execution_count": 62,
   "metadata": {},
   "outputs": [
    {
     "data": {
      "text/plain": [
       "['genres', 'year', 'age', 'sex']"
      ]
     },
     "execution_count": 62,
     "metadata": {},
     "output_type": "execute_result"
    }
   ],
   "source": [
    "ranker_train_info.features.get_feature_names()"
   ]
  },
  {
   "cell_type": "code",
   "execution_count": 63,
   "metadata": {},
   "outputs": [],
   "source": [
    "train_pool = Pool(\n",
    "    data=ranker_train_info.features,\n",
    "    label=ranker_train_info.target,\n",
    "    timestamp=ranker_train_info.timestamps,\n",
    "    pairs=ranker_train_info.pairs,\n",
    "    group_id=ranker_train_info.group_ids\n",
    ")"
   ]
  },
  {
   "cell_type": "code",
   "execution_count": 64,
   "metadata": {},
   "outputs": [],
   "source": [
    "train_dir = os.path.join(out_exp_dir, \"log\")"
   ]
  },
  {
   "cell_type": "code",
   "execution_count": 65,
   "metadata": {},
   "outputs": [],
   "source": [
    "os.makedirs(train_dir, exist_ok=True)"
   ]
  },
  {
   "cell_type": "code",
   "execution_count": 66,
   "metadata": {},
   "outputs": [],
   "source": [
    "ranker = CatBoostRanker(task_type='GPU', random_seed=3466, metric_period=50, \n",
    "                        eval_metric=f\"MAP:top=2\", \n",
    "                        custom_metric=[\"RecallAt:top=1\", \"PrecisionAt:top=3\"],\n",
    "                        iterations=800,\n",
    "                        train_dir=train_dir,\n",
    "                        loss_function=\"PairLogitPairwise\"\n",
    "                        # max_ctr_complexity=3\n",
    "                        )"
   ]
  },
  {
   "cell_type": "code",
   "execution_count": 67,
   "metadata": {},
   "outputs": [],
   "source": [
    "model_path = os.path.join(out_exp_dir, \"model\", \"model.cbm\")"
   ]
  },
  {
   "cell_type": "code",
   "execution_count": 68,
   "metadata": {},
   "outputs": [],
   "source": [
    "os.makedirs(os.path.dirname(model_path), exist_ok=True)"
   ]
  },
  {
   "cell_type": "code",
   "execution_count": 69,
   "metadata": {},
   "outputs": [],
   "source": [
    "force_train = True"
   ]
  },
  {
   "cell_type": "code",
   "execution_count": 70,
   "metadata": {},
   "outputs": [
    {
     "name": "stdout",
     "output_type": "stream",
     "text": [
      "Groupwise loss function. OneHotMaxSize set to 10\n"
     ]
    },
    {
     "name": "stderr",
     "output_type": "stream",
     "text": [
      "Metric MAP:top=2 is not implemented on GPU. Will use CPU for metric computation, this could significantly affect learning time\n",
      "Metric RecallAt:top=1 is not implemented on GPU. Will use CPU for metric computation, this could significantly affect learning time\n",
      "Metric PrecisionAt:top=3 is not implemented on GPU. Will use CPU for metric computation, this could significantly affect learning time\n"
     ]
    },
    {
     "name": "stdout",
     "output_type": "stream",
     "text": [
      "0:\tlearn: 0.7514983\ttotal: 353ms\tremaining: 4m 41s\n",
      "50:\tlearn: 0.7997745\ttotal: 4.38s\tremaining: 1m 4s\n",
      "100:\tlearn: 0.8098516\ttotal: 8.64s\tremaining: 59.8s\n",
      "150:\tlearn: 0.8135317\ttotal: 13s\tremaining: 56s\n",
      "200:\tlearn: 0.8158477\ttotal: 17.1s\tremaining: 51.1s\n",
      "250:\tlearn: 0.8178146\ttotal: 21.2s\tremaining: 46.3s\n",
      "300:\tlearn: 0.8191977\ttotal: 25.5s\tremaining: 42.3s\n",
      "350:\tlearn: 0.8203799\ttotal: 29.6s\tremaining: 37.9s\n",
      "400:\tlearn: 0.8212571\ttotal: 34.2s\tremaining: 34s\n",
      "450:\tlearn: 0.8220854\ttotal: 38.8s\tremaining: 30s\n",
      "500:\tlearn: 0.8228977\ttotal: 43.2s\tremaining: 25.8s\n",
      "550:\tlearn: 0.8236461\ttotal: 47.3s\tremaining: 21.4s\n",
      "600:\tlearn: 0.8242387\ttotal: 51.4s\tremaining: 17s\n",
      "650:\tlearn: 0.8247934\ttotal: 55.5s\tremaining: 12.7s\n",
      "700:\tlearn: 0.8252635\ttotal: 59.5s\tremaining: 8.41s\n",
      "750:\tlearn: 0.8256411\ttotal: 1m 3s\tremaining: 4.15s\n",
      "799:\tlearn: 0.8259674\ttotal: 1m 7s\tremaining: 0us\n"
     ]
    }
   ],
   "source": [
    "if os.path.exists(model_path) and not force_train:\n",
    "    ranker.load_model(model_path)\n",
    "else:\n",
    "    ranker.fit(train_pool)\n",
    "    ranker.save_model(model_path)"
   ]
  },
  {
   "cell_type": "code",
   "execution_count": 71,
   "metadata": {},
   "outputs": [],
   "source": [
    "test_with_features = add_features(add_features(test_pred, df_items_features, [\"item_id\"]), df_users_features, [\"user_id\"])"
   ]
  },
  {
   "cell_type": "code",
   "execution_count": 72,
   "metadata": {},
   "outputs": [
    {
     "data": {
      "text/html": [
       "<div><style>\n",
       ".dataframe > thead > tr > th,\n",
       ".dataframe > tbody > tr > td {\n",
       "  text-align: right;\n",
       "}\n",
       "</style>\n",
       "<small>shape: (5, 7)</small><table border=\"1\" class=\"dataframe\"><thead><tr><th>user_id</th><th>item_id</th><th>rank</th><th>genres</th><th>year</th><th>age</th><th>sex</th></tr><tr><td>u32</td><td>u32</td><td>u32</td><td>str</td><td>str</td><td>str</td><td>str</td></tr></thead><tbody><tr><td>21</td><td>222616</td><td>1</td><td>&quot;боевое фэнтези…</td><td>&quot;2006&quot;</td><td>&quot;18_24&quot;</td><td>&quot;0&quot;</td></tr><tr><td>21</td><td>196161</td><td>2</td><td>&quot;героическое фэ…</td><td>&quot;2017&quot;</td><td>&quot;18_24&quot;</td><td>&quot;0&quot;</td></tr><tr><td>21</td><td>163270</td><td>3</td><td>&quot;героическое фэ…</td><td>&quot;2018&quot;</td><td>&quot;18_24&quot;</td><td>&quot;0&quot;</td></tr><tr><td>21</td><td>281909</td><td>4</td><td>&quot;боевое фэнтези…</td><td>&quot;2008&quot;</td><td>&quot;18_24&quot;</td><td>&quot;0&quot;</td></tr><tr><td>21</td><td>81827</td><td>5</td><td>&quot;любовное фэнте…</td><td>&quot;2016&quot;</td><td>&quot;18_24&quot;</td><td>&quot;0&quot;</td></tr></tbody></table></div>"
      ],
      "text/plain": [
       "shape: (5, 7)\n",
       "┌─────────┬─────────┬──────┬───────────────────────────────────┬──────┬───────┬─────┐\n",
       "│ user_id ┆ item_id ┆ rank ┆ genres                            ┆ year ┆ age   ┆ sex │\n",
       "│ ---     ┆ ---     ┆ ---  ┆ ---                               ┆ ---  ┆ ---   ┆ --- │\n",
       "│ u32     ┆ u32     ┆ u32  ┆ str                               ┆ str  ┆ str   ┆ str │\n",
       "╞═════════╪═════════╪══════╪═══════════════════════════════════╪══════╪═══════╪═════╡\n",
       "│ 21      ┆ 222616  ┆ 1    ┆ боевое фэнтези,героическое фэнте… ┆ 2006 ┆ 18_24 ┆ 0   │\n",
       "│ 21      ┆ 196161  ┆ 2    ┆ героическое фэнтези,любовное фэн… ┆ 2017 ┆ 18_24 ┆ 0   │\n",
       "│ 21      ┆ 163270  ┆ 3    ┆ героическое фэнтези,любовное фэн… ┆ 2018 ┆ 18_24 ┆ 0   │\n",
       "│ 21      ┆ 281909  ┆ 4    ┆ боевое фэнтези,героическое фэнте… ┆ 2008 ┆ 18_24 ┆ 0   │\n",
       "│ 21      ┆ 81827   ┆ 5    ┆ любовное фэнтези,эротическое фэн… ┆ 2016 ┆ 18_24 ┆ 0   │\n",
       "└─────────┴─────────┴──────┴───────────────────────────────────┴──────┴───────┴─────┘"
      ]
     },
     "execution_count": 72,
     "metadata": {},
     "output_type": "execute_result"
    }
   ],
   "source": [
    "test_with_features.head()"
   ]
  },
  {
   "cell_type": "code",
   "execution_count": 73,
   "metadata": {},
   "outputs": [
    {
     "data": {
      "text/plain": [
       "(61300, 61300)"
      ]
     },
     "execution_count": 73,
     "metadata": {},
     "output_type": "execute_result"
    }
   ],
   "source": [
    "len(test_pred), len(test_with_features)"
   ]
  },
  {
   "cell_type": "code",
   "execution_count": 74,
   "metadata": {},
   "outputs": [],
   "source": [
    "scores = []\n",
    "\n",
    "for user_id, data in test_with_features.groupby(\"user_id\", maintain_order=True):\n",
    "    features = convert_to_features_data(data, [\"rank\", \"item_id\"])\n",
    "    scores.append(ranker.predict(features))"
   ]
  },
  {
   "cell_type": "code",
   "execution_count": 75,
   "metadata": {},
   "outputs": [],
   "source": [
    "ranked_pred = pl.concat([test_with_features, pl.DataFrame({\"score\": np.concatenate(scores, axis=-1)})], how=\"horizontal\")"
   ]
  },
  {
   "cell_type": "code",
   "execution_count": 76,
   "metadata": {},
   "outputs": [],
   "source": [
    "ranked_pred = ranked_pred.sort([\"user_id\", \"score\"], descending=True).with_columns(\n",
    "    (pl.col(\"item_id\").cumcount() + 1).over(\"user_id\").alias(\"new_rank\")\n",
    ")"
   ]
  },
  {
   "cell_type": "code",
   "execution_count": 77,
   "metadata": {},
   "outputs": [
    {
     "data": {
      "text/html": [
       "<div><style>\n",
       ".dataframe > thead > tr > th,\n",
       ".dataframe > tbody > tr > td {\n",
       "  text-align: right;\n",
       "}\n",
       "</style>\n",
       "<small>shape: (5, 9)</small><table border=\"1\" class=\"dataframe\"><thead><tr><th>user_id</th><th>item_id</th><th>rank</th><th>genres</th><th>year</th><th>age</th><th>sex</th><th>score</th><th>new_rank</th></tr><tr><td>u32</td><td>u32</td><td>u32</td><td>str</td><td>str</td><td>str</td><td>str</td><td>f64</td><td>u32</td></tr></thead><tbody><tr><td>159592</td><td>80324</td><td>3</td><td>&quot;справочная лит…</td><td>&quot;2012&quot;</td><td>&quot;18_24&quot;</td><td>&quot;1&quot;</td><td>1.220586</td><td>1</td></tr><tr><td>159592</td><td>86864</td><td>2</td><td>&quot;детские приклю…</td><td>&quot;unknown&quot;</td><td>&quot;18_24&quot;</td><td>&quot;1&quot;</td><td>1.151036</td><td>2</td></tr><tr><td>159592</td><td>185744</td><td>6</td><td>&quot;русское фэнтез…</td><td>&quot;unknown&quot;</td><td>&quot;18_24&quot;</td><td>&quot;1&quot;</td><td>0.263253</td><td>3</td></tr><tr><td>159592</td><td>96057</td><td>8</td><td>&quot;зарубежная фан…</td><td>&quot;unknown&quot;</td><td>&quot;18_24&quot;</td><td>&quot;1&quot;</td><td>0.015402</td><td>4</td></tr><tr><td>159592</td><td>38320</td><td>7</td><td>&quot;современная ру…</td><td>&quot;unknown&quot;</td><td>&quot;18_24&quot;</td><td>&quot;1&quot;</td><td>-0.118408</td><td>5</td></tr></tbody></table></div>"
      ],
      "text/plain": [
       "shape: (5, 9)\n",
       "┌─────────┬─────────┬──────┬──────────────────────────────┬───┬───────┬─────┬───────────┬──────────┐\n",
       "│ user_id ┆ item_id ┆ rank ┆ genres                       ┆ … ┆ age   ┆ sex ┆ score     ┆ new_rank │\n",
       "│ ---     ┆ ---     ┆ ---  ┆ ---                          ┆   ┆ ---   ┆ --- ┆ ---       ┆ ---      │\n",
       "│ u32     ┆ u32     ┆ u32  ┆ str                          ┆   ┆ str   ┆ str ┆ f64       ┆ u32      │\n",
       "╞═════════╪═════════╪══════╪══════════════════════════════╪═══╪═══════╪═════╪═══════════╪══════════╡\n",
       "│ 159592  ┆ 80324   ┆ 3    ┆ справочная                   ┆ … ┆ 18_24 ┆ 1   ┆ 1.220586  ┆ 1        │\n",
       "│         ┆         ┆      ┆ литература,строительн…       ┆   ┆       ┆     ┆           ┆          │\n",
       "│ 159592  ┆ 86864   ┆ 2    ┆ детские приключения,книги    ┆ … ┆ 18_24 ┆ 1   ┆ 1.151036  ┆ 2        │\n",
       "│         ┆         ┆      ┆ для де…                      ┆   ┆       ┆     ┆           ┆          │\n",
       "│ 159592  ┆ 185744  ┆ 6    ┆ русское фэнтези,современные  ┆ … ┆ 18_24 ┆ 1   ┆ 0.263253  ┆ 3        │\n",
       "│         ┆         ┆      ┆ любо…                        ┆   ┆       ┆     ┆           ┆          │\n",
       "│ 159592  ┆ 96057   ┆ 8    ┆ зарубежная                   ┆ … ┆ 18_24 ┆ 1   ┆ 0.015402  ┆ 4        │\n",
       "│         ┆         ┆      ┆ фантастика,научная фа…       ┆   ┆       ┆     ┆           ┆          │\n",
       "│ 159592  ┆ 38320   ┆ 7    ┆ современная русская          ┆ … ┆ 18_24 ┆ 1   ┆ -0.118408 ┆ 5        │\n",
       "│         ┆         ┆      ┆ литература                   ┆   ┆       ┆     ┆           ┆          │\n",
       "└─────────┴─────────┴──────┴──────────────────────────────┴───┴───────┴─────┴───────────┴──────────┘"
      ]
     },
     "execution_count": 77,
     "metadata": {},
     "output_type": "execute_result"
    }
   ],
   "source": [
    "ranked_pred.head()"
   ]
  },
  {
   "cell_type": "code",
   "execution_count": 78,
   "metadata": {},
   "outputs": [],
   "source": [
    "joined_rank_data = join_true_pred_and_preprocess(test, ranked_pred.select(\n",
    "    pl.col([\"user_id\", \"item_id\"]),\n",
    "    pl.col(\"new_rank\").alias(\"rank\")\n",
    "))"
   ]
  },
  {
   "cell_type": "code",
   "execution_count": 79,
   "metadata": {},
   "outputs": [
    {
     "data": {
      "text/plain": [
       "0.010392250033126285"
      ]
     },
     "execution_count": 79,
     "metadata": {},
     "output_type": "execute_result"
    }
   ],
   "source": [
    "mean_average_prec(joined_rank_data)"
   ]
  },
  {
   "cell_type": "code",
   "execution_count": 80,
   "metadata": {},
   "outputs": [
    {
     "data": {
      "text/plain": [
       "0.01453943859233516"
      ]
     },
     "execution_count": 80,
     "metadata": {},
     "output_type": "execute_result"
    }
   ],
   "source": [
    "baseline_map"
   ]
  },
  {
   "cell_type": "code",
   "execution_count": null,
   "metadata": {},
   "outputs": [],
   "source": []
  }
 ],
 "metadata": {
  "kernelspec": {
   "display_name": "recsys",
   "language": "python",
   "name": "python3"
  },
  "language_info": {
   "codemirror_mode": {
    "name": "ipython",
    "version": 3
   },
   "file_extension": ".py",
   "mimetype": "text/x-python",
   "name": "python",
   "nbconvert_exporter": "python",
   "pygments_lexer": "ipython3",
   "version": "3.10.11"
  },
  "orig_nbformat": 4
 },
 "nbformat": 4,
 "nbformat_minor": 2
}
