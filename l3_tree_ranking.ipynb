{
 "cells": [
  {
   "attachments": {},
   "cell_type": "markdown",
   "metadata": {},
   "source": [
    "# Colab"
   ]
  },
  {
   "cell_type": "code",
   "execution_count": 1,
   "metadata": {},
   "outputs": [],
   "source": [
    "# !git clone -b tree-ranking https://github.com/KernelA/education-recsys.git"
   ]
  },
  {
   "cell_type": "code",
   "execution_count": 2,
   "metadata": {},
   "outputs": [],
   "source": [
    "# %cd /content/education-recsys/"
   ]
  },
  {
   "cell_type": "code",
   "execution_count": 3,
   "metadata": {},
   "outputs": [],
   "source": [
    "# !pip install --no-cache-dir -r ./requirements.txt  kaggle"
   ]
  },
  {
   "cell_type": "code",
   "execution_count": 4,
   "metadata": {},
   "outputs": [],
   "source": [
    "# %load_ext dotenv\n",
    "# %dotenv"
   ]
  },
  {
   "cell_type": "code",
   "execution_count": 5,
   "metadata": {},
   "outputs": [],
   "source": [
    "# !kaggle datasets download -d sharthz23/mts-library -p ./data --unzip "
   ]
  },
  {
   "cell_type": "code",
   "execution_count": 6,
   "metadata": {},
   "outputs": [],
   "source": [
    "import os"
   ]
  },
  {
   "cell_type": "code",
   "execution_count": 7,
   "metadata": {},
   "outputs": [],
   "source": [
    "is_colab = False"
   ]
  },
  {
   "cell_type": "code",
   "execution_count": 8,
   "metadata": {},
   "outputs": [],
   "source": [
    "if is_colab:\n",
    "    remote_dir = \"/content/drive\"\n",
    "else:\n",
    "    remote_dir = os.getcwd()"
   ]
  },
  {
   "cell_type": "code",
   "execution_count": 9,
   "metadata": {},
   "outputs": [],
   "source": [
    "if is_colab:\n",
    "    from google.colab import drive\n",
    "    drive.mount(remote_dir)"
   ]
  },
  {
   "cell_type": "code",
   "execution_count": 10,
   "metadata": {},
   "outputs": [],
   "source": [
    "if is_colab:\n",
    "    out_exp_dir = os.path.join(remote_dir, \"MyDrive/EducationRecSys/tree-ranking\")\n",
    "else:\n",
    "    out_exp_dir = os.path.join(remote_dir, \"catboost-dir\")"
   ]
  },
  {
   "cell_type": "code",
   "execution_count": 11,
   "metadata": {},
   "outputs": [],
   "source": [
    "if is_colab:\n",
    "    from google.colab import output\n",
    "    output.enable_custom_widget_manager()"
   ]
  },
  {
   "attachments": {},
   "cell_type": "markdown",
   "metadata": {},
   "source": [
    "# Основной код"
   ]
  },
  {
   "cell_type": "code",
   "execution_count": 12,
   "metadata": {},
   "outputs": [],
   "source": [
    "import os\n",
    "import pathlib\n",
    "from datetime import timedelta\n",
    "\n",
    "import seaborn as sns\n",
    "import polars as pl\n",
    "import numpy as np\n",
    "from sklearn.model_selection import train_test_split\n",
    "from sklearn.metrics import roc_auc_score\n",
    "from implicit.als import AlternatingLeastSquares\n",
    "from catboost import Pool, CatBoostClassifier, FeaturesData\n",
    "import shap"
   ]
  },
  {
   "cell_type": "code",
   "execution_count": 13,
   "metadata": {},
   "outputs": [],
   "source": [
    "sns.set_style(\"darkgrid\")"
   ]
  },
  {
   "cell_type": "code",
   "execution_count": 14,
   "metadata": {},
   "outputs": [],
   "source": [
    "%load_ext autoreload\n",
    "%autoreload 2\n",
    "\n",
    "from recs_utils.metrics import compute_metrics, model_cross_validate, mean_average_prec, join_true_pred_and_preprocess, precision_at_k\n",
    "from recs_utils.load_data import MTSDataset, MovieLens100K\n",
    "from recs_utils.split import TimeRangeSplit\n",
    "from recs_utils.implicit_model import ImplicitRecommender\n",
    "from recs_utils.ranking import convert_to_features_data"
   ]
  },
  {
   "cell_type": "code",
   "execution_count": 15,
   "metadata": {},
   "outputs": [],
   "source": [
    "data_dir = pathlib.Path(\"./data/mts/dump\")"
   ]
  },
  {
   "cell_type": "code",
   "execution_count": 16,
   "metadata": {},
   "outputs": [],
   "source": [
    "df = pl.read_parquet(data_dir / \"interactions.parquet\")\n",
    "df_users = pl.read_parquet(data_dir / \"users.parquet\")\n",
    "df_items = MTSDataset.select_genres(pl.read_parquet(data_dir / \"items.parquet\"), 0.98)"
   ]
  },
  {
   "cell_type": "code",
   "execution_count": 17,
   "metadata": {},
   "outputs": [],
   "source": [
    "df = df.filter(pl.col(\"item_id\").is_in(df_items.select(pl.col(\"item_id\").unique()).to_series()) & \n",
    "          pl.col(\"user_id\").is_in(df_users.select(pl.col(\"user_id\").unique()).to_series())\n",
    ")"
   ]
  },
  {
   "cell_type": "code",
   "execution_count": 18,
   "metadata": {},
   "outputs": [],
   "source": [
    "num_items = df.get_column(\"item_id\").n_unique()"
   ]
  },
  {
   "cell_type": "code",
   "execution_count": 19,
   "metadata": {},
   "outputs": [
    {
     "name": "stdout",
     "output_type": "stream",
     "text": [
      "Num items: 59599\n"
     ]
    }
   ],
   "source": [
    "print(\"Num items:\", num_items)"
   ]
  },
  {
   "cell_type": "code",
   "execution_count": 20,
   "metadata": {},
   "outputs": [],
   "source": [
    "# max_items = 30_000\n",
    "max_items = num_items"
   ]
  },
  {
   "attachments": {},
   "cell_type": "markdown",
   "metadata": {},
   "source": [
    "По причинам произвоидительности берём только элементы с наибольшим количеством оценок"
   ]
  },
  {
   "cell_type": "code",
   "execution_count": 21,
   "metadata": {},
   "outputs": [],
   "source": [
    "selected_item_ids = df.lazy().groupby(\"item_id\").count().top_k(min(max_items, num_items), by=\"count\").select(pl.col(\"item_id\").unique()).collect().to_series()"
   ]
  },
  {
   "cell_type": "code",
   "execution_count": 22,
   "metadata": {},
   "outputs": [],
   "source": [
    "df = df.filter(pl.col(\"item_id\").is_in(selected_item_ids))"
   ]
  },
  {
   "cell_type": "markdown",
   "metadata": {},
   "source": [
    "Фильтрация случайных взаимодействий"
   ]
  },
  {
   "cell_type": "code",
   "execution_count": 23,
   "metadata": {},
   "outputs": [],
   "source": [
    "df = df.filter(pl.col(\"progress\") >= 10)"
   ]
  },
  {
   "cell_type": "code",
   "execution_count": 24,
   "metadata": {},
   "outputs": [],
   "source": [
    "del selected_item_ids"
   ]
  },
  {
   "cell_type": "code",
   "execution_count": 25,
   "metadata": {},
   "outputs": [
    {
     "data": {
      "text/plain": [
       "1020446"
      ]
     },
     "execution_count": 25,
     "metadata": {},
     "output_type": "execute_result"
    }
   ],
   "source": [
    "len(df)"
   ]
  },
  {
   "cell_type": "code",
   "execution_count": 26,
   "metadata": {},
   "outputs": [
    {
     "data": {
      "text/html": [
       "<div><style>\n",
       ".dataframe > thead > tr > th,\n",
       ".dataframe > tbody > tr > td {\n",
       "  text-align: right;\n",
       "}\n",
       "</style>\n",
       "<small>shape: (5, 5)</small><table border=\"1\" class=\"dataframe\"><thead><tr><th>user_id</th><th>item_id</th><th>progress</th><th>rating</th><th>start_date</th></tr><tr><td>u32</td><td>u32</td><td>u8</td><td>f32</td><td>date</td></tr></thead><tbody><tr><td>126706</td><td>14433</td><td>80</td><td>NaN</td><td>2018-01-01</td></tr><tr><td>127290</td><td>140952</td><td>58</td><td>NaN</td><td>2018-01-01</td></tr><tr><td>46791</td><td>83486</td><td>23</td><td>5.0</td><td>2018-01-01</td></tr><tr><td>79313</td><td>188770</td><td>88</td><td>5.0</td><td>2018-01-01</td></tr><tr><td>63454</td><td>78434</td><td>87</td><td>NaN</td><td>2018-01-01</td></tr></tbody></table></div>"
      ],
      "text/plain": [
       "shape: (5, 5)\n",
       "┌─────────┬─────────┬──────────┬────────┬────────────┐\n",
       "│ user_id ┆ item_id ┆ progress ┆ rating ┆ start_date │\n",
       "│ ---     ┆ ---     ┆ ---      ┆ ---    ┆ ---        │\n",
       "│ u32     ┆ u32     ┆ u8       ┆ f32    ┆ date       │\n",
       "╞═════════╪═════════╪══════════╪════════╪════════════╡\n",
       "│ 126706  ┆ 14433   ┆ 80       ┆ NaN    ┆ 2018-01-01 │\n",
       "│ 127290  ┆ 140952  ┆ 58       ┆ NaN    ┆ 2018-01-01 │\n",
       "│ 46791   ┆ 83486   ┆ 23       ┆ 5.0    ┆ 2018-01-01 │\n",
       "│ 79313   ┆ 188770  ┆ 88       ┆ 5.0    ┆ 2018-01-01 │\n",
       "│ 63454   ┆ 78434   ┆ 87       ┆ NaN    ┆ 2018-01-01 │\n",
       "└─────────┴─────────┴──────────┴────────┴────────────┘"
      ]
     },
     "execution_count": 26,
     "metadata": {},
     "output_type": "execute_result"
    }
   ],
   "source": [
    "df.head()"
   ]
  },
  {
   "cell_type": "code",
   "execution_count": 27,
   "metadata": {},
   "outputs": [
    {
     "data": {
      "text/html": [
       "<div><style>\n",
       ".dataframe > thead > tr > th,\n",
       ".dataframe > tbody > tr > td {\n",
       "  text-align: right;\n",
       "}\n",
       "</style>\n",
       "<small>shape: (5, 3)</small><table border=\"1\" class=\"dataframe\"><thead><tr><th>user_id</th><th>age</th><th>sex</th></tr><tr><td>u32</td><td>cat</td><td>i8</td></tr></thead><tbody><tr><td>1</td><td>&quot;45_54&quot;</td><td>null</td></tr><tr><td>2</td><td>&quot;18_24&quot;</td><td>0</td></tr><tr><td>3</td><td>&quot;65_inf&quot;</td><td>0</td></tr><tr><td>4</td><td>&quot;18_24&quot;</td><td>0</td></tr><tr><td>5</td><td>&quot;35_44&quot;</td><td>0</td></tr></tbody></table></div>"
      ],
      "text/plain": [
       "shape: (5, 3)\n",
       "┌─────────┬────────┬──────┐\n",
       "│ user_id ┆ age    ┆ sex  │\n",
       "│ ---     ┆ ---    ┆ ---  │\n",
       "│ u32     ┆ cat    ┆ i8   │\n",
       "╞═════════╪════════╪══════╡\n",
       "│ 1       ┆ 45_54  ┆ null │\n",
       "│ 2       ┆ 18_24  ┆ 0    │\n",
       "│ 3       ┆ 65_inf ┆ 0    │\n",
       "│ 4       ┆ 18_24  ┆ 0    │\n",
       "│ 5       ┆ 35_44  ┆ 0    │\n",
       "└─────────┴────────┴──────┘"
      ]
     },
     "execution_count": 27,
     "metadata": {},
     "output_type": "execute_result"
    }
   ],
   "source": [
    "df_users.head()"
   ]
  },
  {
   "cell_type": "code",
   "execution_count": 28,
   "metadata": {},
   "outputs": [
    {
     "data": {
      "text/html": [
       "<div><style>\n",
       ".dataframe > thead > tr > th,\n",
       ".dataframe > tbody > tr > td {\n",
       "  text-align: right;\n",
       "}\n",
       "</style>\n",
       "<small>shape: (3, 5)</small><table border=\"1\" class=\"dataframe\"><thead><tr><th>item_id</th><th>title</th><th>genres</th><th>authors</th><th>year</th></tr><tr><td>u32</td><td>str</td><td>str</td><td>cat</td><td>cat</td></tr></thead><tbody><tr><td>128115</td><td>&quot;ворон-челобитч…</td><td>&quot;зарубежная кла…</td><td>&quot;Михаил Салтыко…</td><td>&quot;1886&quot;</td></tr><tr><td>210979</td><td>&quot;скрипка ротшил…</td><td>&quot;классическая п…</td><td>&quot;Антон Чехов&quot;</td><td>&quot;1894&quot;</td></tr><tr><td>95632</td><td>&quot;испорченные де…</td><td>&quot;зарубежная кла…</td><td>&quot;Михаил Салтыко…</td><td>&quot;1869&quot;</td></tr></tbody></table></div>"
      ],
      "text/plain": [
       "shape: (3, 5)\n",
       "┌─────────┬───────────────────┬───────────────────────────────────┬────────────────────────┬──────┐\n",
       "│ item_id ┆ title             ┆ genres                            ┆ authors                ┆ year │\n",
       "│ ---     ┆ ---               ┆ ---                               ┆ ---                    ┆ ---  │\n",
       "│ u32     ┆ str               ┆ str                               ┆ cat                    ┆ cat  │\n",
       "╞═════════╪═══════════════════╪═══════════════════════════════════╪════════════════════════╪══════╡\n",
       "│ 128115  ┆ ворон-челобитчик  ┆ зарубежная классика,зарубежные д… ┆ Михаил Салтыков-Щедрин ┆ 1886 │\n",
       "│ 210979  ┆ скрипка ротшильда ┆ классическая проза,литература 19… ┆ Антон Чехов            ┆ 1894 │\n",
       "│ 95632   ┆ испорченные дети  ┆ зарубежная классика,классическая… ┆ Михаил Салтыков-Щедрин ┆ 1869 │\n",
       "└─────────┴───────────────────┴───────────────────────────────────┴────────────────────────┴──────┘"
      ]
     },
     "execution_count": 28,
     "metadata": {},
     "output_type": "execute_result"
    }
   ],
   "source": [
    "df_items.head(n=3)"
   ]
  },
  {
   "cell_type": "code",
   "execution_count": 29,
   "metadata": {},
   "outputs": [
    {
     "data": {
      "text/plain": [
       "(datetime.date(2019, 12, 24), datetime.date(2019, 12, 31))"
      ]
     },
     "execution_count": 29,
     "metadata": {},
     "output_type": "execute_result"
    }
   ],
   "source": [
    "last_date = df.get_column(\"start_date\").max()\n",
    "folds = 1\n",
    "start_date = last_date - timedelta(weeks=folds)\n",
    "start_date, last_date"
   ]
  },
  {
   "cell_type": "code",
   "execution_count": 30,
   "metadata": {},
   "outputs": [
    {
     "data": {
      "text/plain": [
       "(1, 1)"
      ]
     },
     "execution_count": 30,
     "metadata": {},
     "output_type": "execute_result"
    }
   ],
   "source": [
    "cv = TimeRangeSplit(start_date=start_date, folds=folds, interval=timedelta(weeks=1))\n",
    "cv.max_n_splits, cv.get_n_splits(df, datetime_column='start_date')"
   ]
  },
  {
   "cell_type": "code",
   "execution_count": 31,
   "metadata": {},
   "outputs": [],
   "source": [
    "folds_with_stats = list(cv.split(\n",
    "    df, \n",
    "    user_column='user_id',\n",
    "    item_column='item_id',\n",
    "    datetime_column='start_date',\n",
    "    fold_stats=True\n",
    ")\n",
    ")\n",
    "\n",
    "folds_info_with_stats = pl.from_dicts([info for _, _, info in folds_with_stats])"
   ]
  },
  {
   "cell_type": "code",
   "execution_count": 32,
   "metadata": {},
   "outputs": [
    {
     "data": {
      "text/html": [
       "<div><style>\n",
       ".dataframe > thead > tr > th,\n",
       ".dataframe > tbody > tr > td {\n",
       "  text-align: right;\n",
       "}\n",
       "</style>\n",
       "<small>shape: (1, 9)</small><table border=\"1\" class=\"dataframe\"><thead><tr><th>Start date</th><th>End date</th><th>Train</th><th>New users</th><th>New users interactions</th><th>New items</th><th>New items interactions</th><th>Known interactions</th><th>Test</th></tr><tr><td>date</td><td>date</td><td>i64</td><td>i64</td><td>i64</td><td>i64</td><td>i64</td><td>i64</td><td>i64</td></tr></thead><tbody><tr><td>2019-12-24</td><td>2019-12-31</td><td>1008462</td><td>38</td><td>40</td><td>0</td><td>0</td><td>0</td><td>10396</td></tr></tbody></table></div>"
      ],
      "text/plain": [
       "shape: (1, 9)\n",
       "┌────────────┬────────────┬─────────┬───────────┬───┬───────────┬────────────┬────────────┬───────┐\n",
       "│ Start date ┆ End date   ┆ Train   ┆ New users ┆ … ┆ New items ┆ New items  ┆ Known inte ┆ Test  │\n",
       "│ ---        ┆ ---        ┆ ---     ┆ ---       ┆   ┆ ---       ┆ interactio ┆ ractions   ┆ ---   │\n",
       "│ date       ┆ date       ┆ i64     ┆ i64       ┆   ┆ i64       ┆ ns         ┆ ---        ┆ i64   │\n",
       "│            ┆            ┆         ┆           ┆   ┆           ┆ ---        ┆ i64        ┆       │\n",
       "│            ┆            ┆         ┆           ┆   ┆           ┆ i64        ┆            ┆       │\n",
       "╞════════════╪════════════╪═════════╪═══════════╪═══╪═══════════╪════════════╪════════════╪═══════╡\n",
       "│ 2019-12-24 ┆ 2019-12-31 ┆ 1008462 ┆ 38        ┆ … ┆ 0         ┆ 0          ┆ 0          ┆ 10396 │\n",
       "└────────────┴────────────┴─────────┴───────────┴───┴───────────┴────────────┴────────────┴───────┘"
      ]
     },
     "execution_count": 32,
     "metadata": {},
     "output_type": "execute_result"
    }
   ],
   "source": [
    "folds_info_with_stats"
   ]
  },
  {
   "cell_type": "code",
   "execution_count": 33,
   "metadata": {},
   "outputs": [],
   "source": [
    "train_idx, test_idx, info = folds_with_stats[0]"
   ]
  },
  {
   "cell_type": "code",
   "execution_count": 34,
   "metadata": {},
   "outputs": [
    {
     "data": {
      "text/plain": [
       "((1008462, 5), (10396, 5))"
      ]
     },
     "execution_count": 34,
     "metadata": {},
     "output_type": "execute_result"
    }
   ],
   "source": [
    "global_train = df.join(train_idx, on=[\"user_id\", \"item_id\"], how=\"inner\")\n",
    "global_test = df.join(test_idx, on=[\"user_id\", \"item_id\"], how=\"inner\")\n",
    "global_train.shape, global_test.shape"
   ]
  },
  {
   "cell_type": "code",
   "execution_count": 35,
   "metadata": {},
   "outputs": [],
   "source": [
    "top_N = 10"
   ]
  },
  {
   "cell_type": "code",
   "execution_count": 36,
   "metadata": {},
   "outputs": [
    {
     "data": {
      "text/html": [
       "<div><style>\n",
       ".dataframe > thead > tr > th,\n",
       ".dataframe > tbody > tr > td {\n",
       "  text-align: right;\n",
       "}\n",
       "</style>\n",
       "<small>shape: (5, 5)</small><table border=\"1\" class=\"dataframe\"><thead><tr><th>user_id</th><th>item_id</th><th>progress</th><th>rating</th><th>start_date</th></tr><tr><td>u32</td><td>u32</td><td>u8</td><td>f32</td><td>date</td></tr></thead><tbody><tr><td>126706</td><td>14433</td><td>80</td><td>NaN</td><td>2018-01-01</td></tr><tr><td>127290</td><td>140952</td><td>58</td><td>NaN</td><td>2018-01-01</td></tr><tr><td>46791</td><td>83486</td><td>23</td><td>5.0</td><td>2018-01-01</td></tr><tr><td>79313</td><td>188770</td><td>88</td><td>5.0</td><td>2018-01-01</td></tr><tr><td>63454</td><td>78434</td><td>87</td><td>NaN</td><td>2018-01-01</td></tr></tbody></table></div>"
      ],
      "text/plain": [
       "shape: (5, 5)\n",
       "┌─────────┬─────────┬──────────┬────────┬────────────┐\n",
       "│ user_id ┆ item_id ┆ progress ┆ rating ┆ start_date │\n",
       "│ ---     ┆ ---     ┆ ---      ┆ ---    ┆ ---        │\n",
       "│ u32     ┆ u32     ┆ u8       ┆ f32    ┆ date       │\n",
       "╞═════════╪═════════╪══════════╪════════╪════════════╡\n",
       "│ 126706  ┆ 14433   ┆ 80       ┆ NaN    ┆ 2018-01-01 │\n",
       "│ 127290  ┆ 140952  ┆ 58       ┆ NaN    ┆ 2018-01-01 │\n",
       "│ 46791   ┆ 83486   ┆ 23       ┆ 5.0    ┆ 2018-01-01 │\n",
       "│ 79313   ┆ 188770  ┆ 88       ┆ 5.0    ┆ 2018-01-01 │\n",
       "│ 63454   ┆ 78434   ┆ 87       ┆ NaN    ┆ 2018-01-01 │\n",
       "└─────────┴─────────┴──────────┴────────┴────────────┘"
      ]
     },
     "execution_count": 36,
     "metadata": {},
     "output_type": "execute_result"
    }
   ],
   "source": [
    "global_train.head()"
   ]
  },
  {
   "cell_type": "code",
   "execution_count": 37,
   "metadata": {},
   "outputs": [],
   "source": [
    "mid_point = global_train.get_column(\"start_date\").dt.timestamp(\"ms\").quantile(0.6, interpolation=\"nearest\")"
   ]
  },
  {
   "cell_type": "code",
   "execution_count": 38,
   "metadata": {},
   "outputs": [],
   "source": [
    "train_first_stage = global_train.filter(pl.col(\"start_date\").dt.timestamp(\"ms\") <= mid_point)\n",
    "test_first_stage = global_train.filter(pl.col(\"start_date\").dt.timestamp(\"ms\") > mid_point)\n",
    "test_first_stage = test_first_stage.filter(\n",
    "    pl.col(\"user_id\").is_in(train_first_stage.get_column(\"user_id\").unique())\n",
    "    )"
   ]
  },
  {
   "cell_type": "code",
   "execution_count": 39,
   "metadata": {},
   "outputs": [],
   "source": [
    "del mid_point"
   ]
  },
  {
   "cell_type": "code",
   "execution_count": 40,
   "metadata": {},
   "outputs": [
    {
     "data": {
      "text/plain": [
       "((605311, 5), (390052, 5))"
      ]
     },
     "execution_count": 40,
     "metadata": {},
     "output_type": "execute_result"
    }
   ],
   "source": [
    "train_first_stage.shape, test_first_stage.shape"
   ]
  },
  {
   "cell_type": "code",
   "execution_count": 41,
   "metadata": {},
   "outputs": [
    {
     "data": {
      "text/html": [
       "<div><style>\n",
       ".dataframe > thead > tr > th,\n",
       ".dataframe > tbody > tr > td {\n",
       "  text-align: right;\n",
       "}\n",
       "</style>\n",
       "<small>shape: (1, 2)</small><table border=\"1\" class=\"dataframe\"><thead><tr><th>user_id</th><th>item_id</th></tr><tr><td>u32</td><td>u32</td></tr></thead><tbody><tr><td>130640</td><td>59557</td></tr></tbody></table></div>"
      ],
      "text/plain": [
       "shape: (1, 2)\n",
       "┌─────────┬─────────┐\n",
       "│ user_id ┆ item_id │\n",
       "│ ---     ┆ ---     │\n",
       "│ u32     ┆ u32     │\n",
       "╞═════════╪═════════╡\n",
       "│ 130640  ┆ 59557   │\n",
       "└─────────┴─────────┘"
      ]
     },
     "execution_count": 41,
     "metadata": {},
     "output_type": "execute_result"
    }
   ],
   "source": [
    "train_first_stage.select(pl.col(\"user_id\").n_unique(), pl.col(\"item_id\").n_unique())"
   ]
  },
  {
   "cell_type": "code",
   "execution_count": 42,
   "metadata": {},
   "outputs": [
    {
     "data": {
      "text/html": [
       "<div><style>\n",
       ".dataframe > thead > tr > th,\n",
       ".dataframe > tbody > tr > td {\n",
       "  text-align: right;\n",
       "}\n",
       "</style>\n",
       "<small>shape: (1, 2)</small><table border=\"1\" class=\"dataframe\"><thead><tr><th>user_id</th><th>item_id</th></tr><tr><td>u32</td><td>u32</td></tr></thead><tbody><tr><td>110920</td><td>58669</td></tr></tbody></table></div>"
      ],
      "text/plain": [
       "shape: (1, 2)\n",
       "┌─────────┬─────────┐\n",
       "│ user_id ┆ item_id │\n",
       "│ ---     ┆ ---     │\n",
       "│ u32     ┆ u32     │\n",
       "╞═════════╪═════════╡\n",
       "│ 110920  ┆ 58669   │\n",
       "└─────────┴─────────┘"
      ]
     },
     "execution_count": 42,
     "metadata": {},
     "output_type": "execute_result"
    }
   ],
   "source": [
    "test_first_stage.select(pl.col(\"user_id\").n_unique(), pl.col(\"item_id\").n_unique())"
   ]
  },
  {
   "cell_type": "markdown",
   "metadata": {},
   "source": [
    "## 1 Этап"
   ]
  },
  {
   "cell_type": "code",
   "execution_count": 43,
   "metadata": {},
   "outputs": [],
   "source": [
    "first_stage_recommender = ImplicitRecommender(\n",
    "    AlternatingLeastSquares(factors=64, iterations=10, random_state=1123),\n",
    ")"
   ]
  },
  {
   "cell_type": "code",
   "execution_count": 44,
   "metadata": {},
   "outputs": [
    {
     "data": {
      "application/vnd.jupyter.widget-view+json": {
       "model_id": "fbd53950266d4406a5f038d473e59962",
       "version_major": 2,
       "version_minor": 0
      },
      "text/plain": [
       "  0%|          | 0/10 [00:00<?, ?it/s]"
      ]
     },
     "metadata": {},
     "output_type": "display_data"
    }
   ],
   "source": [
    "first_stage_recommender.fit(train_first_stage, progress=True)"
   ]
  },
  {
   "cell_type": "code",
   "execution_count": 45,
   "metadata": {},
   "outputs": [],
   "source": [
    "test_first_stage_pred = first_stage_recommender.recommend(test_first_stage, num_recs_per_user=top_N)"
   ]
  },
  {
   "cell_type": "code",
   "execution_count": 46,
   "metadata": {},
   "outputs": [
    {
     "data": {
      "text/html": [
       "<div><style>\n",
       ".dataframe > thead > tr > th,\n",
       ".dataframe > tbody > tr > td {\n",
       "  text-align: right;\n",
       "}\n",
       "</style>\n",
       "<small>shape: (22, 2)</small><table border=\"1\" class=\"dataframe\"><thead><tr><th>name</th><th>value</th></tr><tr><td>str</td><td>f64</td></tr></thead><tbody><tr><td>&quot;prec@1&quot;</td><td>0.003651</td></tr><tr><td>&quot;recall@1&quot;</td><td>0.003651</td></tr><tr><td>&quot;prec@2&quot;</td><td>0.003521</td></tr><tr><td>&quot;recall@2&quot;</td><td>0.003521</td></tr><tr><td>&quot;prec@3&quot;</td><td>0.003345</td></tr><tr><td>&quot;recall@3&quot;</td><td>0.003345</td></tr><tr><td>&quot;prec@4&quot;</td><td>0.003173</td></tr><tr><td>&quot;recall@4&quot;</td><td>0.003173</td></tr><tr><td>&quot;prec@5&quot;</td><td>0.003105</td></tr><tr><td>&quot;recall@5&quot;</td><td>0.003105</td></tr><tr><td>&quot;prec@6&quot;</td><td>0.002983</td></tr><tr><td>&quot;recall@6&quot;</td><td>0.002983</td></tr><tr><td>&quot;prec@7&quot;</td><td>0.002926</td></tr><tr><td>&quot;recall@7&quot;</td><td>0.002926</td></tr><tr><td>&quot;prec@8&quot;</td><td>0.002851</td></tr><tr><td>&quot;recall@8&quot;</td><td>0.002851</td></tr><tr><td>&quot;prec@9&quot;</td><td>0.002785</td></tr><tr><td>&quot;recall@9&quot;</td><td>0.002785</td></tr><tr><td>&quot;prec@10&quot;</td><td>0.00273</td></tr><tr><td>&quot;recall@10&quot;</td><td>0.00273</td></tr><tr><td>&quot;MRR@10&quot;</td><td>0.428483</td></tr><tr><td>&quot;MAP@10&quot;</td><td>0.001622</td></tr></tbody></table></div>"
      ],
      "text/plain": [
       "shape: (22, 2)\n",
       "┌───────────┬──────────┐\n",
       "│ name      ┆ value    │\n",
       "│ ---       ┆ ---      │\n",
       "│ str       ┆ f64      │\n",
       "╞═══════════╪══════════╡\n",
       "│ prec@1    ┆ 0.003651 │\n",
       "│ recall@1  ┆ 0.003651 │\n",
       "│ prec@2    ┆ 0.003521 │\n",
       "│ recall@2  ┆ 0.003521 │\n",
       "│ …         ┆ …        │\n",
       "│ prec@10   ┆ 0.00273  │\n",
       "│ recall@10 ┆ 0.00273  │\n",
       "│ MRR@10    ┆ 0.428483 │\n",
       "│ MAP@10    ┆ 0.001622 │\n",
       "└───────────┴──────────┘"
      ]
     },
     "execution_count": 46,
     "metadata": {},
     "output_type": "execute_result"
    }
   ],
   "source": [
    "compute_metrics(test_first_stage, test_first_stage_pred, top_N, with_separate_k_col=False)"
   ]
  },
  {
   "cell_type": "code",
   "execution_count": 47,
   "metadata": {},
   "outputs": [],
   "source": [
    "del test_first_stage_pred"
   ]
  },
  {
   "cell_type": "code",
   "execution_count": 48,
   "metadata": {},
   "outputs": [],
   "source": [
    "num_samples = 50"
   ]
  },
  {
   "cell_type": "code",
   "execution_count": 49,
   "metadata": {},
   "outputs": [],
   "source": [
    "candidates = first_stage_recommender.recommend(test_first_stage, num_samples, filter_already_liked_items=False)"
   ]
  },
  {
   "cell_type": "code",
   "execution_count": 50,
   "metadata": {},
   "outputs": [],
   "source": [
    "selected_cols = [\"user_id\", \"item_id\", \"rank\", \"target\"]"
   ]
  },
  {
   "cell_type": "code",
   "execution_count": 51,
   "metadata": {},
   "outputs": [],
   "source": [
    "catboost_pos_sampels = candidates.lazy().join(test_first_stage.lazy(), on=[\"user_id\", \"item_id\"]).with_columns(pl.lit(1).alias(\"target\")).select(selected_cols).collect()"
   ]
  },
  {
   "cell_type": "code",
   "execution_count": 52,
   "metadata": {},
   "outputs": [
    {
     "data": {
      "text/html": [
       "<div><style>\n",
       ".dataframe > thead > tr > th,\n",
       ".dataframe > tbody > tr > td {\n",
       "  text-align: right;\n",
       "}\n",
       "</style>\n",
       "<small>shape: (9, 5)</small><table border=\"1\" class=\"dataframe\"><thead><tr><th>describe</th><th>user_id</th><th>item_id</th><th>rank</th><th>target</th></tr><tr><td>str</td><td>f64</td><td>f64</td><td>f64</td><td>f64</td></tr></thead><tbody><tr><td>&quot;count&quot;</td><td>7852.0</td><td>7852.0</td><td>7852.0</td><td>7852.0</td></tr><tr><td>&quot;null_count&quot;</td><td>0.0</td><td>0.0</td><td>0.0</td><td>0.0</td></tr><tr><td>&quot;mean&quot;</td><td>78928.078324</td><td>161125.439761</td><td>23.165945</td><td>1.0</td></tr><tr><td>&quot;std&quot;</td><td>45845.410991</td><td>92657.37086</td><td>14.356625</td><td>0.0</td></tr><tr><td>&quot;min&quot;</td><td>21.0</td><td>137.0</td><td>1.0</td><td>1.0</td></tr><tr><td>&quot;max&quot;</td><td>159591.0</td><td>321346.0</td><td>50.0</td><td>1.0</td></tr><tr><td>&quot;median&quot;</td><td>76501.0</td><td>158152.0</td><td>22.0</td><td>1.0</td></tr><tr><td>&quot;25%&quot;</td><td>40975.0</td><td>84620.0</td><td>11.0</td><td>1.0</td></tr><tr><td>&quot;75%&quot;</td><td>118884.0</td><td>241125.0</td><td>35.0</td><td>1.0</td></tr></tbody></table></div>"
      ],
      "text/plain": [
       "shape: (9, 5)\n",
       "┌────────────┬──────────────┬───────────────┬───────────┬────────┐\n",
       "│ describe   ┆ user_id      ┆ item_id       ┆ rank      ┆ target │\n",
       "│ ---        ┆ ---          ┆ ---           ┆ ---       ┆ ---    │\n",
       "│ str        ┆ f64          ┆ f64           ┆ f64       ┆ f64    │\n",
       "╞════════════╪══════════════╪═══════════════╪═══════════╪════════╡\n",
       "│ count      ┆ 7852.0       ┆ 7852.0        ┆ 7852.0    ┆ 7852.0 │\n",
       "│ null_count ┆ 0.0          ┆ 0.0           ┆ 0.0       ┆ 0.0    │\n",
       "│ mean       ┆ 78928.078324 ┆ 161125.439761 ┆ 23.165945 ┆ 1.0    │\n",
       "│ std        ┆ 45845.410991 ┆ 92657.37086   ┆ 14.356625 ┆ 0.0    │\n",
       "│ min        ┆ 21.0         ┆ 137.0         ┆ 1.0       ┆ 1.0    │\n",
       "│ max        ┆ 159591.0     ┆ 321346.0      ┆ 50.0      ┆ 1.0    │\n",
       "│ median     ┆ 76501.0      ┆ 158152.0      ┆ 22.0      ┆ 1.0    │\n",
       "│ 25%        ┆ 40975.0      ┆ 84620.0       ┆ 11.0      ┆ 1.0    │\n",
       "│ 75%        ┆ 118884.0     ┆ 241125.0      ┆ 35.0      ┆ 1.0    │\n",
       "└────────────┴──────────────┴───────────────┴───────────┴────────┘"
      ]
     },
     "execution_count": 52,
     "metadata": {},
     "output_type": "execute_result"
    }
   ],
   "source": [
    "catboost_pos_sampels.describe()"
   ]
  },
  {
   "cell_type": "code",
   "execution_count": 53,
   "metadata": {},
   "outputs": [],
   "source": [
    "catboost_neg_samples = candidates.lazy().join(catboost_pos_sampels.lazy(), how=\"anti\", on=[\n",
    "    \"user_id\", \"item_id\"]).with_columns(pl.lit(0).alias(\"target\")).collect().sample(n=len(catboost_pos_sampels) * 2, seed=10, with_replacement=False)"
   ]
  },
  {
   "cell_type": "code",
   "execution_count": 54,
   "metadata": {},
   "outputs": [
    {
     "data": {
      "text/html": [
       "<div><style>\n",
       ".dataframe > thead > tr > th,\n",
       ".dataframe > tbody > tr > td {\n",
       "  text-align: right;\n",
       "}\n",
       "</style>\n",
       "<small>shape: (9, 5)</small><table border=\"1\" class=\"dataframe\"><thead><tr><th>describe</th><th>user_id</th><th>item_id</th><th>rank</th><th>target</th></tr><tr><td>str</td><td>f64</td><td>f64</td><td>f64</td><td>f64</td></tr></thead><tbody><tr><td>&quot;count&quot;</td><td>15704.0</td><td>15704.0</td><td>15704.0</td><td>15704.0</td></tr><tr><td>&quot;null_count&quot;</td><td>0.0</td><td>0.0</td><td>0.0</td><td>0.0</td></tr><tr><td>&quot;mean&quot;</td><td>80161.829407</td><td>159038.697529</td><td>25.5831</td><td>0.0</td></tr><tr><td>&quot;std&quot;</td><td>46101.272161</td><td>92814.207078</td><td>14.494768</td><td>0.0</td></tr><tr><td>&quot;min&quot;</td><td>7.0</td><td>13.0</td><td>1.0</td><td>0.0</td></tr><tr><td>&quot;max&quot;</td><td>159610.0</td><td>321346.0</td><td>50.0</td><td>0.0</td></tr><tr><td>&quot;median&quot;</td><td>80207.0</td><td>155914.5</td><td>26.0</td><td>0.0</td></tr><tr><td>&quot;25%&quot;</td><td>40423.0</td><td>81342.0</td><td>13.0</td><td>0.0</td></tr><tr><td>&quot;75%&quot;</td><td>120150.0</td><td>238983.0</td><td>38.0</td><td>0.0</td></tr></tbody></table></div>"
      ],
      "text/plain": [
       "shape: (9, 5)\n",
       "┌────────────┬──────────────┬───────────────┬───────────┬─────────┐\n",
       "│ describe   ┆ user_id      ┆ item_id       ┆ rank      ┆ target  │\n",
       "│ ---        ┆ ---          ┆ ---           ┆ ---       ┆ ---     │\n",
       "│ str        ┆ f64          ┆ f64           ┆ f64       ┆ f64     │\n",
       "╞════════════╪══════════════╪═══════════════╪═══════════╪═════════╡\n",
       "│ count      ┆ 15704.0      ┆ 15704.0       ┆ 15704.0   ┆ 15704.0 │\n",
       "│ null_count ┆ 0.0          ┆ 0.0           ┆ 0.0       ┆ 0.0     │\n",
       "│ mean       ┆ 80161.829407 ┆ 159038.697529 ┆ 25.5831   ┆ 0.0     │\n",
       "│ std        ┆ 46101.272161 ┆ 92814.207078  ┆ 14.494768 ┆ 0.0     │\n",
       "│ min        ┆ 7.0          ┆ 13.0          ┆ 1.0       ┆ 0.0     │\n",
       "│ max        ┆ 159610.0     ┆ 321346.0      ┆ 50.0      ┆ 0.0     │\n",
       "│ median     ┆ 80207.0      ┆ 155914.5      ┆ 26.0      ┆ 0.0     │\n",
       "│ 25%        ┆ 40423.0      ┆ 81342.0       ┆ 13.0      ┆ 0.0     │\n",
       "│ 75%        ┆ 120150.0     ┆ 238983.0      ┆ 38.0      ┆ 0.0     │\n",
       "└────────────┴──────────────┴───────────────┴───────────┴─────────┘"
      ]
     },
     "execution_count": 54,
     "metadata": {},
     "output_type": "execute_result"
    }
   ],
   "source": [
    "catboost_neg_samples.describe()"
   ]
  },
  {
   "cell_type": "code",
   "execution_count": 55,
   "metadata": {},
   "outputs": [],
   "source": [
    "catboost_samples = catboost_pos_sampels.vstack(catboost_neg_samples)"
   ]
  },
  {
   "cell_type": "code",
   "execution_count": 56,
   "metadata": {},
   "outputs": [],
   "source": [
    "del catboost_pos_sampels\n",
    "del catboost_neg_samples"
   ]
  },
  {
   "cell_type": "code",
   "execution_count": 57,
   "metadata": {},
   "outputs": [
    {
     "data": {
      "text/html": [
       "<div><style>\n",
       ".dataframe > thead > tr > th,\n",
       ".dataframe > tbody > tr > td {\n",
       "  text-align: right;\n",
       "}\n",
       "</style>\n",
       "<small>shape: (3, 4)</small><table border=\"1\" class=\"dataframe\"><thead><tr><th>user_id</th><th>item_id</th><th>rank</th><th>target</th></tr><tr><td>u32</td><td>u32</td><td>u32</td><td>i32</td></tr></thead><tbody><tr><td>21</td><td>264910</td><td>36</td><td>1</td></tr><tr><td>21</td><td>257435</td><td>48</td><td>1</td></tr><tr><td>21</td><td>196161</td><td>49</td><td>1</td></tr></tbody></table></div>"
      ],
      "text/plain": [
       "shape: (3, 4)\n",
       "┌─────────┬─────────┬──────┬────────┐\n",
       "│ user_id ┆ item_id ┆ rank ┆ target │\n",
       "│ ---     ┆ ---     ┆ ---  ┆ ---    │\n",
       "│ u32     ┆ u32     ┆ u32  ┆ i32    │\n",
       "╞═════════╪═════════╪══════╪════════╡\n",
       "│ 21      ┆ 264910  ┆ 36   ┆ 1      │\n",
       "│ 21      ┆ 257435  ┆ 48   ┆ 1      │\n",
       "│ 21      ┆ 196161  ┆ 49   ┆ 1      │\n",
       "└─────────┴─────────┴──────┴────────┘"
      ]
     },
     "execution_count": 57,
     "metadata": {},
     "output_type": "execute_result"
    }
   ],
   "source": [
    "catboost_samples.head(n=3)"
   ]
  },
  {
   "cell_type": "code",
   "execution_count": 58,
   "metadata": {},
   "outputs": [
    {
     "data": {
      "text/html": [
       "<div><style>\n",
       ".dataframe > thead > tr > th,\n",
       ".dataframe > tbody > tr > td {\n",
       "  text-align: right;\n",
       "}\n",
       "</style>\n",
       "<small>shape: (2, 2)</small><table border=\"1\" class=\"dataframe\"><thead><tr><th>target</th><th>counts</th></tr><tr><td>i32</td><td>f64</td></tr></thead><tbody><tr><td>0</td><td>0.666667</td></tr><tr><td>1</td><td>0.333333</td></tr></tbody></table></div>"
      ],
      "text/plain": [
       "shape: (2, 2)\n",
       "┌────────┬──────────┐\n",
       "│ target ┆ counts   │\n",
       "│ ---    ┆ ---      │\n",
       "│ i32    ┆ f64      │\n",
       "╞════════╪══════════╡\n",
       "│ 0      ┆ 0.666667 │\n",
       "│ 1      ┆ 0.333333 │\n",
       "└────────┴──────────┘"
      ]
     },
     "execution_count": 58,
     "metadata": {},
     "output_type": "execute_result"
    }
   ],
   "source": [
    "catboost_samples.select(pl.col(\"target\").value_counts()).unnest(\"target\").select(\n",
    "    pl.col(\"target\"),\n",
    "    pl.col(\"counts\") / pl.col(\"counts\").sum()\n",
    ")"
   ]
  },
  {
   "cell_type": "markdown",
   "metadata": {},
   "source": [
    "## 2 Этап"
   ]
  },
  {
   "cell_type": "code",
   "execution_count": 59,
   "metadata": {},
   "outputs": [],
   "source": [
    "# df_users_features = df_users\n",
    "df_users_features = df_users.with_columns(\n",
    "    pl.col(\"age\").cast(str).fill_null(\"unknown\"),\n",
    "    pl.col(\"sex\").cast(str).fill_null(\"unknown\")\n",
    ")"
   ]
  },
  {
   "cell_type": "code",
   "execution_count": 60,
   "metadata": {},
   "outputs": [],
   "source": [
    "# df_items_features = df_items.select(pl.all().exclude([\"IMDb_URL\", \"title\"])).with_columns(pl.col(\"release_date\").dt.timestamp(\"us\"))\n",
    "df_items_features = df_items.select(\n",
    "    pl.col(\"item_id\"),\n",
    "    pl.col(\"genres\"),\n",
    "    pl.col(\"year\")\n",
    ").with_columns(\n",
    "    pl.col(\"genres\").cast(str).fill_null(\"genre_unknown\").alias(\"genres\"),\n",
    "    pl.col(\"year\").cast(str).fill_null(\"unknown\").alias(\"year\")\n",
    ")"
   ]
  },
  {
   "cell_type": "code",
   "execution_count": 61,
   "metadata": {},
   "outputs": [],
   "source": [
    "catboost_samples = catboost_samples.lazy().join(df_users_features.lazy(), on=\"user_id\").join(df_items_features.lazy(), on=\"item_id\").collect()"
   ]
  },
  {
   "cell_type": "code",
   "execution_count": 62,
   "metadata": {},
   "outputs": [
    {
     "data": {
      "text/html": [
       "<div><style>\n",
       ".dataframe > thead > tr > th,\n",
       ".dataframe > tbody > tr > td {\n",
       "  text-align: right;\n",
       "}\n",
       "</style>\n",
       "<small>shape: (9, 9)</small><table border=\"1\" class=\"dataframe\"><thead><tr><th>describe</th><th>user_id</th><th>item_id</th><th>rank</th><th>target</th><th>age</th><th>sex</th><th>genres</th><th>year</th></tr><tr><td>str</td><td>f64</td><td>f64</td><td>f64</td><td>f64</td><td>str</td><td>str</td><td>str</td><td>str</td></tr></thead><tbody><tr><td>&quot;count&quot;</td><td>23556.0</td><td>23556.0</td><td>23556.0</td><td>23556.0</td><td>&quot;23556&quot;</td><td>&quot;23556&quot;</td><td>&quot;23556&quot;</td><td>&quot;23556&quot;</td></tr><tr><td>&quot;null_count&quot;</td><td>0.0</td><td>0.0</td><td>0.0</td><td>0.0</td><td>&quot;0&quot;</td><td>&quot;0&quot;</td><td>&quot;0&quot;</td><td>&quot;0&quot;</td></tr><tr><td>&quot;mean&quot;</td><td>79750.579046</td><td>159734.278273</td><td>24.777382</td><td>0.333333</td><td>null</td><td>null</td><td>null</td><td>null</td></tr><tr><td>&quot;std&quot;</td><td>46018.845471</td><td>92765.206987</td><td>14.493425</td><td>0.471415</td><td>null</td><td>null</td><td>null</td><td>null</td></tr><tr><td>&quot;min&quot;</td><td>7.0</td><td>13.0</td><td>1.0</td><td>0.0</td><td>&quot;18_24&quot;</td><td>&quot;0&quot;</td><td>&quot;английский язы…</td><td>&quot;1785&quot;</td></tr><tr><td>&quot;max&quot;</td><td>159610.0</td><td>321346.0</td><td>50.0</td><td>1.0</td><td>&quot;unknown&quot;</td><td>&quot;unknown&quot;</td><td>&quot;юмористическая…</td><td>&quot;unknown&quot;</td></tr><tr><td>&quot;median&quot;</td><td>78788.0</td><td>156797.5</td><td>24.0</td><td>0.0</td><td>null</td><td>null</td><td>null</td><td>null</td></tr><tr><td>&quot;25%&quot;</td><td>40578.0</td><td>81778.0</td><td>12.0</td><td>0.0</td><td>null</td><td>null</td><td>null</td><td>null</td></tr><tr><td>&quot;75%&quot;</td><td>119778.0</td><td>239790.0</td><td>37.0</td><td>1.0</td><td>null</td><td>null</td><td>null</td><td>null</td></tr></tbody></table></div>"
      ],
      "text/plain": [
       "shape: (9, 9)\n",
       "┌────────────┬─────────────┬────────────┬───────────┬───┬─────────┬─────────┬────────────┬─────────┐\n",
       "│ describe   ┆ user_id     ┆ item_id    ┆ rank      ┆ … ┆ age     ┆ sex     ┆ genres     ┆ year    │\n",
       "│ ---        ┆ ---         ┆ ---        ┆ ---       ┆   ┆ ---     ┆ ---     ┆ ---        ┆ ---     │\n",
       "│ str        ┆ f64         ┆ f64        ┆ f64       ┆   ┆ str     ┆ str     ┆ str        ┆ str     │\n",
       "╞════════════╪═════════════╪════════════╪═══════════╪═══╪═════════╪═════════╪════════════╪═════════╡\n",
       "│ count      ┆ 23556.0     ┆ 23556.0    ┆ 23556.0   ┆ … ┆ 23556   ┆ 23556   ┆ 23556      ┆ 23556   │\n",
       "│ null_count ┆ 0.0         ┆ 0.0        ┆ 0.0       ┆ … ┆ 0       ┆ 0       ┆ 0          ┆ 0       │\n",
       "│ mean       ┆ 79750.57904 ┆ 159734.278 ┆ 24.777382 ┆ … ┆ null    ┆ null    ┆ null       ┆ null    │\n",
       "│            ┆ 6           ┆ 273        ┆           ┆   ┆         ┆         ┆            ┆         │\n",
       "│ std        ┆ 46018.84547 ┆ 92765.2069 ┆ 14.493425 ┆ … ┆ null    ┆ null    ┆ null       ┆ null    │\n",
       "│            ┆ 1           ┆ 87         ┆           ┆   ┆         ┆         ┆            ┆         │\n",
       "│ min        ┆ 7.0         ┆ 13.0       ┆ 1.0       ┆ … ┆ 18_24   ┆ 0       ┆ английский ┆ 1785    │\n",
       "│            ┆             ┆            ┆           ┆   ┆         ┆         ┆ язык,иност ┆         │\n",
       "│            ┆             ┆            ┆           ┆   ┆         ┆         ┆ ранные     ┆         │\n",
       "│            ┆             ┆            ┆           ┆   ┆         ┆         ┆ язык…      ┆         │\n",
       "│ max        ┆ 159610.0    ┆ 321346.0   ┆ 50.0      ┆ … ┆ unknown ┆ unknown ┆ юмористиче ┆ unknown │\n",
       "│            ┆             ┆            ┆           ┆   ┆         ┆         ┆ ская       ┆         │\n",
       "│            ┆             ┆            ┆           ┆   ┆         ┆         ┆ фантастика ┆         │\n",
       "│ median     ┆ 78788.0     ┆ 156797.5   ┆ 24.0      ┆ … ┆ null    ┆ null    ┆ null       ┆ null    │\n",
       "│ 25%        ┆ 40578.0     ┆ 81778.0    ┆ 12.0      ┆ … ┆ null    ┆ null    ┆ null       ┆ null    │\n",
       "│ 75%        ┆ 119778.0    ┆ 239790.0   ┆ 37.0      ┆ … ┆ null    ┆ null    ┆ null       ┆ null    │\n",
       "└────────────┴─────────────┴────────────┴───────────┴───┴─────────┴─────────┴────────────┴─────────┘"
      ]
     },
     "execution_count": 62,
     "metadata": {},
     "output_type": "execute_result"
    }
   ],
   "source": [
    "catboost_samples.describe()"
   ]
  },
  {
   "cell_type": "code",
   "execution_count": 63,
   "metadata": {},
   "outputs": [
    {
     "data": {
      "text/html": [
       "<div><style>\n",
       ".dataframe > thead > tr > th,\n",
       ".dataframe > tbody > tr > td {\n",
       "  text-align: right;\n",
       "}\n",
       "</style>\n",
       "<small>shape: (3, 8)</small><table border=\"1\" class=\"dataframe\"><thead><tr><th>user_id</th><th>item_id</th><th>rank</th><th>target</th><th>age</th><th>sex</th><th>genres</th><th>year</th></tr><tr><td>u32</td><td>u32</td><td>u32</td><td>i32</td><td>str</td><td>str</td><td>str</td><td>str</td></tr></thead><tbody><tr><td>231</td><td>209379</td><td>6</td><td>0</td><td>&quot;18_24&quot;</td><td>&quot;0&quot;</td><td>&quot;литература 20 …</td><td>&quot;1910&quot;</td></tr><tr><td>1597</td><td>209379</td><td>34</td><td>0</td><td>&quot;55_64&quot;</td><td>&quot;1&quot;</td><td>&quot;литература 20 …</td><td>&quot;1910&quot;</td></tr><tr><td>5732</td><td>209379</td><td>28</td><td>1</td><td>&quot;35_44&quot;</td><td>&quot;0&quot;</td><td>&quot;литература 20 …</td><td>&quot;1910&quot;</td></tr></tbody></table></div>"
      ],
      "text/plain": [
       "shape: (3, 8)\n",
       "┌─────────┬─────────┬──────┬────────┬───────┬─────┬───────────────────────────────────┬──────┐\n",
       "│ user_id ┆ item_id ┆ rank ┆ target ┆ age   ┆ sex ┆ genres                            ┆ year │\n",
       "│ ---     ┆ ---     ┆ ---  ┆ ---    ┆ ---   ┆ --- ┆ ---                               ┆ ---  │\n",
       "│ u32     ┆ u32     ┆ u32  ┆ i32    ┆ str   ┆ str ┆ str                               ┆ str  │\n",
       "╞═════════╪═════════╪══════╪════════╪═══════╪═════╪═══════════════════════════════════╪══════╡\n",
       "│ 231     ┆ 209379  ┆ 6    ┆ 0      ┆ 18_24 ┆ 0   ┆ литература 20 века,русская класс… ┆ 1910 │\n",
       "│ 1597    ┆ 209379  ┆ 34   ┆ 0      ┆ 55_64 ┆ 1   ┆ литература 20 века,русская класс… ┆ 1910 │\n",
       "│ 5732    ┆ 209379  ┆ 28   ┆ 1      ┆ 35_44 ┆ 0   ┆ литература 20 века,русская класс… ┆ 1910 │\n",
       "└─────────┴─────────┴──────┴────────┴───────┴─────┴───────────────────────────────────┴──────┘"
      ]
     },
     "execution_count": 63,
     "metadata": {},
     "output_type": "execute_result"
    }
   ],
   "source": [
    "catboost_samples.head(n=3)"
   ]
  },
  {
   "cell_type": "code",
   "execution_count": 64,
   "metadata": {},
   "outputs": [],
   "source": [
    "catboost_train_users, catboost_test_users = train_test_split(catboost_samples.get_column(\"user_id\").unique(), train_size=0.7, random_state=244) "
   ]
  },
  {
   "cell_type": "code",
   "execution_count": 65,
   "metadata": {},
   "outputs": [],
   "source": [
    "catboost_test_users, catboost_early_stpping_usesr = train_test_split(catboost_test_users, train_size=0.7, random_state=1212)"
   ]
  },
  {
   "cell_type": "code",
   "execution_count": 66,
   "metadata": {},
   "outputs": [],
   "source": [
    "catboost_train = catboost_samples.filter(pl.col(\"user_id\").is_in(catboost_train_users))\n",
    "catboost_test = catboost_samples.filter(pl.col(\"user_id\").is_in(catboost_test_users))\n",
    "catboost_early_stopping = catboost_samples.filter(pl.col(\"user_id\").is_in(catboost_early_stpping_usesr))"
   ]
  },
  {
   "cell_type": "code",
   "execution_count": 67,
   "metadata": {},
   "outputs": [],
   "source": [
    "exclude_columns = [\"item_id\", \"user_id\", \"target\"]"
   ]
  },
  {
   "cell_type": "code",
   "execution_count": 68,
   "metadata": {},
   "outputs": [],
   "source": [
    "target_train = catboost_train.get_column(\"target\").to_numpy()\n",
    "catboost_train = convert_to_features_data(catboost_train, exclude_columns)"
   ]
  },
  {
   "cell_type": "code",
   "execution_count": 69,
   "metadata": {},
   "outputs": [],
   "source": [
    "target_test = catboost_test.get_column(\"target\").to_numpy()\n",
    "catboost_test = convert_to_features_data(catboost_test, exclude_columns)"
   ]
  },
  {
   "cell_type": "code",
   "execution_count": 70,
   "metadata": {},
   "outputs": [],
   "source": [
    "target_early_stop = catboost_early_stopping.get_column(\"target\").to_numpy()\n",
    "catboost_early_stopping = convert_to_features_data(catboost_early_stopping, exclude_columns)"
   ]
  },
  {
   "cell_type": "code",
   "execution_count": 71,
   "metadata": {},
   "outputs": [],
   "source": [
    "train_pool = Pool(\n",
    "    data=catboost_train,\n",
    "    label=target_train,\n",
    ")"
   ]
  },
  {
   "cell_type": "code",
   "execution_count": 72,
   "metadata": {},
   "outputs": [],
   "source": [
    "test_pool = Pool(\n",
    "    data=catboost_test,\n",
    "    label=target_test,\n",
    ")"
   ]
  },
  {
   "cell_type": "code",
   "execution_count": 73,
   "metadata": {},
   "outputs": [],
   "source": [
    "early_stop_pool = Pool(data=catboost_early_stopping, label=target_early_stop)"
   ]
  },
  {
   "cell_type": "code",
   "execution_count": 74,
   "metadata": {},
   "outputs": [],
   "source": [
    "train_dir = os.path.join(out_exp_dir, \"log\")"
   ]
  },
  {
   "cell_type": "code",
   "execution_count": 75,
   "metadata": {},
   "outputs": [],
   "source": [
    "os.makedirs(train_dir, exist_ok=True)"
   ]
  },
  {
   "cell_type": "code",
   "execution_count": 76,
   "metadata": {},
   "outputs": [],
   "source": [
    "ranker = CatBoostClassifier(task_type='GPU', \n",
    "                            random_seed=3466, metric_period=50, \n",
    "                        eval_metric=\"AUC\", \n",
    "                        custom_metric=[\"Recall\", \"Precision\"],\n",
    "                        iterations=2000,\n",
    "                        train_dir=train_dir,\n",
    "                        loss_function=\"Logloss\"\n",
    "                        )"
   ]
  },
  {
   "cell_type": "code",
   "execution_count": 77,
   "metadata": {},
   "outputs": [],
   "source": [
    "model_path = os.path.join(out_exp_dir, \"model\", \"model.cbm\")"
   ]
  },
  {
   "cell_type": "code",
   "execution_count": 78,
   "metadata": {},
   "outputs": [],
   "source": [
    "os.makedirs(os.path.dirname(model_path), exist_ok=True)"
   ]
  },
  {
   "cell_type": "code",
   "execution_count": 79,
   "metadata": {},
   "outputs": [],
   "source": [
    "force_train = True"
   ]
  },
  {
   "cell_type": "code",
   "execution_count": 80,
   "metadata": {},
   "outputs": [
    {
     "name": "stderr",
     "output_type": "stream",
     "text": [
      "Warning: less than 75% gpu memory available for training. Free: 3734.375 Total: 7972.125\n"
     ]
    },
    {
     "name": "stdout",
     "output_type": "stream",
     "text": [
      "Learning rate set to 0.042104\n",
      "0:\ttest: 0.5970958\tbest: 0.5970958 (0)\ttotal: 36ms\tremaining: 1m 11s\n"
     ]
    },
    {
     "name": "stdout",
     "output_type": "stream",
     "text": [
      "50:\ttest: 0.6657053\tbest: 0.6657053 (50)\ttotal: 1.45s\tremaining: 55.5s\n",
      "100:\ttest: 0.6748490\tbest: 0.6748490 (100)\ttotal: 2.9s\tremaining: 54.5s\n",
      "150:\ttest: 0.6815797\tbest: 0.6815797 (150)\ttotal: 4.22s\tremaining: 51.7s\n",
      "200:\ttest: 0.6868387\tbest: 0.6868387 (200)\ttotal: 5.58s\tremaining: 49.9s\n",
      "250:\ttest: 0.6888813\tbest: 0.6888813 (250)\ttotal: 6.98s\tremaining: 48.6s\n",
      "300:\ttest: 0.6912067\tbest: 0.6912067 (300)\ttotal: 8.39s\tremaining: 47.3s\n",
      "350:\ttest: 0.6918993\tbest: 0.6918993 (350)\ttotal: 9.77s\tremaining: 45.9s\n",
      "400:\ttest: 0.6924398\tbest: 0.6924398 (400)\ttotal: 11.1s\tremaining: 44.4s\n",
      "450:\ttest: 0.6923721\tbest: 0.6924398 (400)\ttotal: 12.5s\tremaining: 43.1s\n",
      "500:\ttest: 0.6927215\tbest: 0.6927215 (500)\ttotal: 13.9s\tremaining: 41.7s\n",
      "550:\ttest: 0.6925116\tbest: 0.6927215 (500)\ttotal: 15.4s\tremaining: 40.4s\n",
      "600:\ttest: 0.6922430\tbest: 0.6927215 (500)\ttotal: 16.8s\tremaining: 39.1s\n",
      "650:\ttest: 0.6917157\tbest: 0.6927215 (500)\ttotal: 18.2s\tremaining: 37.7s\n",
      "700:\ttest: 0.6921013\tbest: 0.6927215 (500)\ttotal: 19.6s\tremaining: 36.3s\n",
      "750:\ttest: 0.6916826\tbest: 0.6927215 (500)\ttotal: 21.1s\tremaining: 35s\n",
      "800:\ttest: 0.6917582\tbest: 0.6927215 (500)\ttotal: 22.4s\tremaining: 33.5s\n",
      "850:\ttest: 0.6922262\tbest: 0.6927215 (500)\ttotal: 23.8s\tremaining: 32.1s\n",
      "900:\ttest: 0.6922703\tbest: 0.6927215 (500)\ttotal: 25.2s\tremaining: 30.7s\n",
      "950:\ttest: 0.6924707\tbest: 0.6927215 (500)\ttotal: 26.6s\tremaining: 29.3s\n",
      "1000:\ttest: 0.6926344\tbest: 0.6927215 (500)\ttotal: 28s\tremaining: 28s\n",
      "1050:\ttest: 0.6925200\tbest: 0.6927215 (500)\ttotal: 29.4s\tremaining: 26.5s\n",
      "1100:\ttest: 0.6921580\tbest: 0.6927215 (500)\ttotal: 30.8s\tremaining: 25.1s\n",
      "1150:\ttest: 0.6918935\tbest: 0.6927215 (500)\ttotal: 32.2s\tremaining: 23.7s\n",
      "1200:\ttest: 0.6914287\tbest: 0.6927215 (500)\ttotal: 33.6s\tremaining: 22.3s\n",
      "1250:\ttest: 0.6915504\tbest: 0.6927215 (500)\ttotal: 35s\tremaining: 21s\n",
      "1300:\ttest: 0.6918379\tbest: 0.6927215 (500)\ttotal: 36.5s\tremaining: 19.6s\n",
      "1350:\ttest: 0.6914769\tbest: 0.6927215 (500)\ttotal: 37.9s\tremaining: 18.2s\n",
      "1400:\ttest: 0.6914958\tbest: 0.6927215 (500)\ttotal: 39.3s\tremaining: 16.8s\n",
      "1450:\ttest: 0.6913531\tbest: 0.6927215 (500)\ttotal: 40.7s\tremaining: 15.4s\n",
      "1500:\ttest: 0.6910005\tbest: 0.6927215 (500)\ttotal: 42s\tremaining: 14s\n",
      "1550:\ttest: 0.6910331\tbest: 0.6927215 (500)\ttotal: 43.3s\tremaining: 12.5s\n",
      "1600:\ttest: 0.6905210\tbest: 0.6927215 (500)\ttotal: 44.7s\tremaining: 11.1s\n",
      "1650:\ttest: 0.6903457\tbest: 0.6927215 (500)\ttotal: 46.1s\tremaining: 9.75s\n",
      "1700:\ttest: 0.6905398\tbest: 0.6927215 (500)\ttotal: 47.6s\tremaining: 8.36s\n",
      "1750:\ttest: 0.6902450\tbest: 0.6927215 (500)\ttotal: 49s\tremaining: 6.96s\n",
      "1800:\ttest: 0.6901726\tbest: 0.6927215 (500)\ttotal: 50.4s\tremaining: 5.57s\n",
      "1850:\ttest: 0.6902681\tbest: 0.6927215 (500)\ttotal: 51.8s\tremaining: 4.17s\n",
      "1900:\ttest: 0.6903426\tbest: 0.6927215 (500)\ttotal: 53.2s\tremaining: 2.77s\n",
      "1950:\ttest: 0.6902523\tbest: 0.6927215 (500)\ttotal: 54.6s\tremaining: 1.37s\n",
      "1999:\ttest: 0.6903100\tbest: 0.6927215 (500)\ttotal: 56s\tremaining: 0us\n",
      "bestTest = 0.6927215159\n",
      "bestIteration = 500\n",
      "Shrink model to first 501 iterations.\n"
     ]
    }
   ],
   "source": [
    "if os.path.exists(model_path) and not force_train:\n",
    "    ranker.load_model(model_path)\n",
    "else:\n",
    "    ranker.fit(train_pool, eval_set=early_stop_pool)\n",
    "    ranker.save_model(model_path)"
   ]
  },
  {
   "cell_type": "code",
   "execution_count": 81,
   "metadata": {},
   "outputs": [],
   "source": [
    "del early_stop_pool"
   ]
  },
  {
   "cell_type": "code",
   "execution_count": 82,
   "metadata": {},
   "outputs": [],
   "source": [
    "# считаем shap_values\n",
    "explainer = shap.TreeExplainer(ranker)"
   ]
  },
  {
   "cell_type": "code",
   "execution_count": 83,
   "metadata": {},
   "outputs": [
    {
     "name": "stderr",
     "output_type": "stream",
     "text": [
      "No data for colormapping provided via 'c'. Parameters 'vmin', 'vmax' will be ignored\n"
     ]
    },
    {
     "data": {
      "image/png": "[encoded data removed]",
      "text/plain": [
       "<Figure size 800x350 with 2 Axes>"
      ]
     },
     "metadata": {},
     "output_type": "display_data"
    }
   ],
   "source": [
    "shap.summary_plot(explainer.shap_values(train_pool), features=np.hstack((catboost_train.num_feature_data,\n",
    "                  catboost_train.cat_feature_data)), feature_names=catboost_train.get_feature_names())"
   ]
  },
  {
   "cell_type": "code",
   "execution_count": 84,
   "metadata": {},
   "outputs": [],
   "source": [
    "del explainer"
   ]
  },
  {
   "cell_type": "code",
   "execution_count": 85,
   "metadata": {},
   "outputs": [
    {
     "name": "stdout",
     "output_type": "stream",
     "text": [
      "ROC AUC:  0.6984379107525409\n"
     ]
    }
   ],
   "source": [
    "predicted_values = ranker.predict_proba(test_pool)[:, 1]\n",
    "print(\"ROC AUC: \", roc_auc_score(test_pool.get_label(), predicted_values))\n",
    "del predicted_values\n",
    "del test_pool"
   ]
  },
  {
   "cell_type": "markdown",
   "metadata": {},
   "source": [
    "## Сравнение моделей"
   ]
  },
  {
   "cell_type": "code",
   "execution_count": 86,
   "metadata": {},
   "outputs": [],
   "source": [
    "global_test = global_test.filter(pl.col(\"user_id\").is_in(train_first_stage.get_column(\"user_id\").unique()))"
   ]
  },
  {
   "cell_type": "code",
   "execution_count": 87,
   "metadata": {},
   "outputs": [],
   "source": [
    "num_candidates = 200"
   ]
  },
  {
   "cell_type": "code",
   "execution_count": 88,
   "metadata": {},
   "outputs": [],
   "source": [
    "first_stage_global_pred = first_stage_recommender.recommend(global_test, num_recs_per_user=num_candidates)"
   ]
  },
  {
   "cell_type": "code",
   "execution_count": 89,
   "metadata": {},
   "outputs": [],
   "source": [
    "one_stage_model_metrics = compute_metrics(global_test, first_stage_global_pred, top_N, with_separate_k_col=True)"
   ]
  },
  {
   "cell_type": "code",
   "execution_count": 90,
   "metadata": {},
   "outputs": [],
   "source": [
    "global_test_features = first_stage_global_pred.lazy().join(df_items_features.lazy(), on=\"item_id\").join(df_users_features.lazy(), on=\"user_id\").collect()"
   ]
  },
  {
   "cell_type": "code",
   "execution_count": 91,
   "metadata": {},
   "outputs": [
    {
     "data": {
      "text/html": [
       "<div><style>\n",
       ".dataframe > thead > tr > th,\n",
       ".dataframe > tbody > tr > td {\n",
       "  text-align: right;\n",
       "}\n",
       "</style>\n",
       "<small>shape: (3, 7)</small><table border=\"1\" class=\"dataframe\"><thead><tr><th>user_id</th><th>item_id</th><th>rank</th><th>genres</th><th>year</th><th>age</th><th>sex</th></tr><tr><td>u32</td><td>u32</td><td>u32</td><td>str</td><td>str</td><td>str</td><td>str</td></tr></thead><tbody><tr><td>16</td><td>121687</td><td>1</td><td>&quot;зарубежные дет…</td><td>&quot;2007&quot;</td><td>&quot;45_54&quot;</td><td>&quot;0&quot;</td></tr><tr><td>16</td><td>209379</td><td>2</td><td>&quot;литература 20 …</td><td>&quot;1910&quot;</td><td>&quot;45_54&quot;</td><td>&quot;0&quot;</td></tr><tr><td>16</td><td>251645</td><td>3</td><td>&quot;остросюжетные …</td><td>&quot;2017&quot;</td><td>&quot;45_54&quot;</td><td>&quot;0&quot;</td></tr></tbody></table></div>"
      ],
      "text/plain": [
       "shape: (3, 7)\n",
       "┌─────────┬─────────┬──────┬───────────────────────────────────┬──────┬───────┬─────┐\n",
       "│ user_id ┆ item_id ┆ rank ┆ genres                            ┆ year ┆ age   ┆ sex │\n",
       "│ ---     ┆ ---     ┆ ---  ┆ ---                               ┆ ---  ┆ ---   ┆ --- │\n",
       "│ u32     ┆ u32     ┆ u32  ┆ str                               ┆ str  ┆ str   ┆ str │\n",
       "╞═════════╪═════════╪══════╪═══════════════════════════════════╪══════╪═══════╪═════╡\n",
       "│ 16      ┆ 121687  ┆ 1    ┆ зарубежные детективы,полицейские… ┆ 2007 ┆ 45_54 ┆ 0   │\n",
       "│ 16      ┆ 209379  ┆ 2    ┆ литература 20 века,русская класс… ┆ 1910 ┆ 45_54 ┆ 0   │\n",
       "│ 16      ┆ 251645  ┆ 3    ┆ остросюжетные любовные романы,со… ┆ 2017 ┆ 45_54 ┆ 0   │\n",
       "└─────────┴─────────┴──────┴───────────────────────────────────┴──────┴───────┴─────┘"
      ]
     },
     "execution_count": 91,
     "metadata": {},
     "output_type": "execute_result"
    }
   ],
   "source": [
    "global_test_features.head(n=3)"
   ]
  },
  {
   "cell_type": "code",
   "execution_count": 92,
   "metadata": {},
   "outputs": [],
   "source": [
    "catboost_global_test = convert_to_features_data(global_test_features, exclude_columns)"
   ]
  },
  {
   "cell_type": "code",
   "execution_count": 93,
   "metadata": {},
   "outputs": [],
   "source": [
    "predicted_proba = ranker.predict_proba(catboost_global_test)[:, 1]"
   ]
  },
  {
   "cell_type": "code",
   "execution_count": 94,
   "metadata": {},
   "outputs": [],
   "source": [
    "del catboost_global_test"
   ]
  },
  {
   "cell_type": "code",
   "execution_count": 95,
   "metadata": {},
   "outputs": [],
   "source": [
    "catboost_prediction = first_stage_global_pred.hstack(pl.DataFrame({\"catboost_score\": predicted_proba}, schema={\"catboost_score\": pl.Float32}))"
   ]
  },
  {
   "cell_type": "code",
   "execution_count": 96,
   "metadata": {},
   "outputs": [],
   "source": [
    "catboost_prediction = catboost_prediction.sort([\"user_id\", \"catboost_score\"], descending=[False, True]).with_columns(\n",
    "    pl.col(\"catboost_score\").rank(method=\"ordinal\", descending=True).over(\"user_id\").alias(\"catboost_rank\")\n",
    ")"
   ]
  },
  {
   "cell_type": "code",
   "execution_count": 97,
   "metadata": {},
   "outputs": [],
   "source": [
    "two_stage_model_metrics = compute_metrics(global_test, catboost_prediction.select(\n",
    "    pl.col(\"user_id\", \"item_id\"), pl.col(\"catboost_rank\").alias(\"rank\")), top_N, with_separate_k_col=True)\n"
   ]
  },
  {
   "cell_type": "code",
   "execution_count": 98,
   "metadata": {},
   "outputs": [],
   "source": [
    "all_metrics = one_stage_model_metrics.with_columns(pl.lit(\"one_stage\").alias(\"model\")).vstack(\n",
    "    two_stage_model_metrics.with_columns(pl.lit(\"two_stage\").alias(\"model\"))\n",
    ")"
   ]
  },
  {
   "cell_type": "code",
   "execution_count": 99,
   "metadata": {},
   "outputs": [
    {
     "data": {
      "text/html": [
       "<div><style>\n",
       ".dataframe > thead > tr > th,\n",
       ".dataframe > tbody > tr > td {\n",
       "  text-align: right;\n",
       "}\n",
       "</style>\n",
       "<small>shape: (5, 4)</small><table border=\"1\" class=\"dataframe\"><thead><tr><th>name</th><th>k</th><th>value</th><th>model</th></tr><tr><td>str</td><td>i64</td><td>f64</td><td>str</td></tr></thead><tbody><tr><td>&quot;prec&quot;</td><td>1</td><td>0.000263</td><td>&quot;one_stage&quot;</td></tr><tr><td>&quot;recall&quot;</td><td>1</td><td>0.000263</td><td>&quot;one_stage&quot;</td></tr><tr><td>&quot;prec&quot;</td><td>2</td><td>0.000329</td><td>&quot;one_stage&quot;</td></tr><tr><td>&quot;recall&quot;</td><td>2</td><td>0.000329</td><td>&quot;one_stage&quot;</td></tr><tr><td>&quot;prec&quot;</td><td>3</td><td>0.000307</td><td>&quot;one_stage&quot;</td></tr></tbody></table></div>"
      ],
      "text/plain": [
       "shape: (5, 4)\n",
       "┌────────┬─────┬──────────┬───────────┐\n",
       "│ name   ┆ k   ┆ value    ┆ model     │\n",
       "│ ---    ┆ --- ┆ ---      ┆ ---       │\n",
       "│ str    ┆ i64 ┆ f64      ┆ str       │\n",
       "╞════════╪═════╪══════════╪═══════════╡\n",
       "│ prec   ┆ 1   ┆ 0.000263 ┆ one_stage │\n",
       "│ recall ┆ 1   ┆ 0.000263 ┆ one_stage │\n",
       "│ prec   ┆ 2   ┆ 0.000329 ┆ one_stage │\n",
       "│ recall ┆ 2   ┆ 0.000329 ┆ one_stage │\n",
       "│ prec   ┆ 3   ┆ 0.000307 ┆ one_stage │\n",
       "└────────┴─────┴──────────┴───────────┘"
      ]
     },
     "execution_count": 99,
     "metadata": {},
     "output_type": "execute_result"
    }
   ],
   "source": [
    "all_metrics.head()"
   ]
  },
  {
   "cell_type": "code",
   "execution_count": 104,
   "metadata": {},
   "outputs": [
    {
     "data": {
      "text/plain": [
       "<Axes: xlabel='k', ylabel='value'>"
      ]
     },
     "execution_count": 104,
     "metadata": {},
     "output_type": "execute_result"
    },
    {
     "data": {
      "image/png": "[encoded data removed]",
      "text/plain": [
       "<Figure size 640x480 with 1 Axes>"
      ]
     },
     "metadata": {},
     "output_type": "display_data"
    }
   ],
   "source": [
    "sns.scatterplot(all_metrics.filter(pl.col(\"name\") == \"prec\"), x=\"k\", y=\"value\",  hue=\"model\")"
   ]
  },
  {
   "cell_type": "code",
   "execution_count": 101,
   "metadata": {},
   "outputs": [
    {
     "data": {
      "text/plain": [
       "<Axes: xlabel='k', ylabel='value'>"
      ]
     },
     "execution_count": 101,
     "metadata": {},
     "output_type": "execute_result"
    },
    {
     "data": {
      "image/png": "[encoded data removed]",
      "text/plain": [
       "<Figure size 640x480 with 1 Axes>"
      ]
     },
     "metadata": {},
     "output_type": "display_data"
    }
   ],
   "source": [
    "sns.scatterplot(all_metrics.filter(pl.col(\"name\") == \"recall\"), x=\"k\", y=\"value\",  hue=\"model\")"
   ]
  },
  {
   "cell_type": "code",
   "execution_count": 102,
   "metadata": {},
   "outputs": [
    {
     "data": {
      "text/html": [
       "<div><style>\n",
       ".dataframe > thead > tr > th,\n",
       ".dataframe > tbody > tr > td {\n",
       "  text-align: right;\n",
       "}\n",
       "</style>\n",
       "<small>shape: (2, 3)</small><table border=\"1\" class=\"dataframe\"><thead><tr><th>model</th><th>MRR</th><th>MAP</th></tr><tr><td>str</td><td>f64</td><td>f64</td></tr></thead><tbody><tr><td>&quot;one_stage&quot;</td><td>0.281454</td><td>0.000494</td></tr><tr><td>&quot;two_stage&quot;</td><td>0.477193</td><td>0.00065</td></tr></tbody></table></div>"
      ],
      "text/plain": [
       "shape: (2, 3)\n",
       "┌───────────┬──────────┬──────────┐\n",
       "│ model     ┆ MRR      ┆ MAP      │\n",
       "│ ---       ┆ ---      ┆ ---      │\n",
       "│ str       ┆ f64      ┆ f64      │\n",
       "╞═══════════╪══════════╪══════════╡\n",
       "│ one_stage ┆ 0.281454 ┆ 0.000494 │\n",
       "│ two_stage ┆ 0.477193 ┆ 0.00065  │\n",
       "└───────────┴──────────┴──────────┘"
      ]
     },
     "execution_count": 102,
     "metadata": {},
     "output_type": "execute_result"
    }
   ],
   "source": [
    "all_metrics.filter(pl.col(\"name\").str.contains(\"MAP|MRR\")).pivot(index=\"model\", values=\"value\", columns=\"name\", aggregate_function=\"max\")"
   ]
  }
 ],
 "metadata": {
  "kernelspec": {
   "display_name": "recsys",
   "language": "python",
   "name": "python3"
  },
  "language_info": {
   "codemirror_mode": {
    "name": "ipython",
    "version": 3
   },
   "file_extension": ".py",
   "mimetype": "text/x-python",
   "name": "python",
   "nbconvert_exporter": "python",
   "pygments_lexer": "ipython3",
   "version": "3.10.9"
  },
  "orig_nbformat": 4
 },
 "nbformat": 4,
 "nbformat_minor": 2
}
