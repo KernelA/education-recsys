{
 "cells": [
  {
   "attachments": {},
   "cell_type": "markdown",
   "metadata": {},
   "source": [
    "# Colab"
   ]
  },
  {
   "cell_type": "code",
   "execution_count": null,
   "metadata": {},
   "outputs": [],
   "source": [
    "# !git clone -b tree-ranking https://github.com/KernelA/education-recsys.git"
   ]
  },
  {
   "cell_type": "code",
   "execution_count": null,
   "metadata": {},
   "outputs": [],
   "source": [
    "# %cd /content/education-recsys/"
   ]
  },
  {
   "cell_type": "code",
   "execution_count": null,
   "metadata": {},
   "outputs": [],
   "source": [
    "# !pip install --no-cache-dir -r ./requirements.txt  kaggle"
   ]
  },
  {
   "cell_type": "code",
   "execution_count": null,
   "metadata": {},
   "outputs": [],
   "source": [
    "# %load_ext dotenv\n",
    "# %dotenv"
   ]
  },
  {
   "cell_type": "code",
   "execution_count": null,
   "metadata": {},
   "outputs": [],
   "source": [
    "# !kaggle datasets download -d sharthz23/mts-library -p ./data --unzip "
   ]
  },
  {
   "cell_type": "code",
   "execution_count": 83,
   "metadata": {},
   "outputs": [],
   "source": [
    "import os"
   ]
  },
  {
   "cell_type": "code",
   "execution_count": null,
   "metadata": {},
   "outputs": [],
   "source": [
    "is_colab = False"
   ]
  },
  {
   "cell_type": "code",
   "execution_count": null,
   "metadata": {},
   "outputs": [],
   "source": [
    "if is_colab:\n",
    "    remote_dir = \"/content/drive\"\n",
    "else:\n",
    "    remote_dir = os.getcwd()"
   ]
  },
  {
   "cell_type": "code",
   "execution_count": null,
   "metadata": {},
   "outputs": [],
   "source": [
    "if is_colab:\n",
    "    from google.colab import drive\n",
    "    drive.mount(remote_dir)"
   ]
  },
  {
   "cell_type": "code",
   "execution_count": null,
   "metadata": {},
   "outputs": [],
   "source": [
    "if is_colab:\n",
    "    out_exp_dir = os.path.join(remote_dir, \"MyDrive/EducationRecSys/tree-ranking\")\n",
    "else:\n",
    "    out_exp_dir = os.path.join(remote_dir, \"catboost-dir\")"
   ]
  },
  {
   "cell_type": "code",
   "execution_count": null,
   "metadata": {},
   "outputs": [],
   "source": [
    "if is_colab:\n",
    "    from google.colab import output\n",
    "    output.enable_custom_widget_manager()"
   ]
  },
  {
   "attachments": {},
   "cell_type": "markdown",
   "metadata": {},
   "source": [
    "# Основной код"
   ]
  },
  {
   "cell_type": "code",
   "execution_count": 1,
   "metadata": {},
   "outputs": [],
   "source": [
    "import os\n",
    "from datetime import timedelta, datetime\n",
    "\n",
    "import seaborn as sns\n",
    "import polars as pl\n",
    "import numpy as np\n",
    "from implicit.nearest_neighbours import BM25Recommender\n",
    "from catboost import Pool, CatBoostRanker, FeaturesData"
   ]
  },
  {
   "cell_type": "code",
   "execution_count": 2,
   "metadata": {},
   "outputs": [],
   "source": [
    "sns.set_style(\"darkgrid\")"
   ]
  },
  {
   "cell_type": "code",
   "execution_count": 3,
   "metadata": {},
   "outputs": [],
   "source": [
    "%load_ext autoreload\n",
    "%autoreload 2\n",
    "\n",
    "from recs_utils.metrics import compute_metrics, model_cross_validate, mean_average_prec, join_true_pred_and_preprocess\n",
    "from recs_utils.load_data import MTSDataset, MovieLens100K\n",
    "from recs_utils.split import TimeRangeSplit\n",
    "from recs_utils.implicit_model import ImplicitRecommender\n",
    "from recs_utils.utils import get_direct_and_inv_mapping\n",
    "from recs_utils.ranking import add_features, add_group_ids, features_target_ranking, convert_to_features_data, features_target_pairwise_ranking"
   ]
  },
  {
   "cell_type": "code",
   "execution_count": 4,
   "metadata": {},
   "outputs": [],
   "source": [
    "data_dir = os.path.join(\"data\")"
   ]
  },
  {
   "cell_type": "code",
   "execution_count": 5,
   "metadata": {},
   "outputs": [],
   "source": [
    "df = MTSDataset.load_interactions(os.path.join(data_dir, \"interactions.csv\"))\n",
    "df_users = MTSDataset.load_users(os.path.join(data_dir, \"users.csv\"))\n",
    "df_items = MTSDataset.select_genres(MTSDataset.load_items(os.path.join(data_dir, \"items.csv\")), 0.98)"
   ]
  },
  {
   "cell_type": "code",
   "execution_count": 6,
   "metadata": {},
   "outputs": [],
   "source": [
    "df = df.filter(pl.col(\"item_id\").is_in(df_items.select(pl.col(\"item_id\").unique()).to_series()) & \n",
    "          pl.col(\"user_id\").is_in(df_users.select(pl.col(\"user_id\").unique()).to_series())\n",
    ")"
   ]
  },
  {
   "cell_type": "code",
   "execution_count": 7,
   "metadata": {},
   "outputs": [],
   "source": [
    "num_items = df.select(pl.col(\"item_id\").n_unique())[0, 0]"
   ]
  },
  {
   "cell_type": "code",
   "execution_count": 8,
   "metadata": {},
   "outputs": [
    {
     "name": "stdout",
     "output_type": "stream",
     "text": [
      "Num items: 59599\n"
     ]
    }
   ],
   "source": [
    "print(\"Num items:\", num_items)"
   ]
  },
  {
   "attachments": {},
   "cell_type": "markdown",
   "metadata": {},
   "source": [
    "По причинам произвоидительности берём только элементы с наибольшим количеством оценок"
   ]
  },
  {
   "cell_type": "code",
   "execution_count": 9,
   "metadata": {},
   "outputs": [],
   "source": [
    "selected_item_ids = df.lazy().groupby(\"item_id\").count().top_k(min(30_000, num_items), by=\"count\").select(pl.col(\"item_id\").unique()).collect().to_series()"
   ]
  },
  {
   "cell_type": "code",
   "execution_count": 10,
   "metadata": {},
   "outputs": [],
   "source": [
    "df = df.filter(pl.col(\"item_id\").is_in(selected_item_ids))"
   ]
  },
  {
   "cell_type": "code",
   "execution_count": 11,
   "metadata": {},
   "outputs": [],
   "source": [
    "del selected_item_ids"
   ]
  },
  {
   "cell_type": "code",
   "execution_count": 12,
   "metadata": {},
   "outputs": [
    {
     "data": {
      "text/plain": [
       "1063269"
      ]
     },
     "execution_count": 12,
     "metadata": {},
     "output_type": "execute_result"
    }
   ],
   "source": [
    "len(df)"
   ]
  },
  {
   "cell_type": "code",
   "execution_count": 13,
   "metadata": {},
   "outputs": [
    {
     "data": {
      "text/html": [
       "<div><style>\n",
       ".dataframe > thead > tr > th,\n",
       ".dataframe > tbody > tr > td {\n",
       "  text-align: right;\n",
       "}\n",
       "</style>\n",
       "<small>shape: (5, 5)</small><table border=\"1\" class=\"dataframe\"><thead><tr><th>user_id</th><th>item_id</th><th>progress</th><th>rating</th><th>start_date</th></tr><tr><td>u32</td><td>u32</td><td>u8</td><td>f32</td><td>date</td></tr></thead><tbody><tr><td>126706</td><td>14433</td><td>80</td><td>NaN</td><td>2018-01-01</td></tr><tr><td>127451</td><td>14876</td><td>69</td><td>NaN</td><td>2018-01-01</td></tr><tr><td>47287</td><td>258483</td><td>22</td><td>NaN</td><td>2018-01-01</td></tr><tr><td>47551</td><td>64060</td><td>55</td><td>NaN</td><td>2018-01-01</td></tr><tr><td>59484</td><td>161786</td><td>27</td><td>NaN</td><td>2018-01-01</td></tr></tbody></table></div>"
      ],
      "text/plain": [
       "shape: (5, 5)\n",
       "┌─────────┬─────────┬──────────┬────────┬────────────┐\n",
       "│ user_id ┆ item_id ┆ progress ┆ rating ┆ start_date │\n",
       "│ ---     ┆ ---     ┆ ---      ┆ ---    ┆ ---        │\n",
       "│ u32     ┆ u32     ┆ u8       ┆ f32    ┆ date       │\n",
       "╞═════════╪═════════╪══════════╪════════╪════════════╡\n",
       "│ 126706  ┆ 14433   ┆ 80       ┆ NaN    ┆ 2018-01-01 │\n",
       "│ 127451  ┆ 14876   ┆ 69       ┆ NaN    ┆ 2018-01-01 │\n",
       "│ 47287   ┆ 258483  ┆ 22       ┆ NaN    ┆ 2018-01-01 │\n",
       "│ 47551   ┆ 64060   ┆ 55       ┆ NaN    ┆ 2018-01-01 │\n",
       "│ 59484   ┆ 161786  ┆ 27       ┆ NaN    ┆ 2018-01-01 │\n",
       "└─────────┴─────────┴──────────┴────────┴────────────┘"
      ]
     },
     "execution_count": 13,
     "metadata": {},
     "output_type": "execute_result"
    }
   ],
   "source": [
    "df.head()"
   ]
  },
  {
   "cell_type": "code",
   "execution_count": 14,
   "metadata": {},
   "outputs": [
    {
     "data": {
      "text/html": [
       "<div><style>\n",
       ".dataframe > thead > tr > th,\n",
       ".dataframe > tbody > tr > td {\n",
       "  text-align: right;\n",
       "}\n",
       "</style>\n",
       "<small>shape: (5, 3)</small><table border=\"1\" class=\"dataframe\"><thead><tr><th>user_id</th><th>age</th><th>sex</th></tr><tr><td>u32</td><td>cat</td><td>i8</td></tr></thead><tbody><tr><td>1</td><td>&quot;45_54&quot;</td><td>null</td></tr><tr><td>2</td><td>&quot;18_24&quot;</td><td>0</td></tr><tr><td>3</td><td>&quot;65_inf&quot;</td><td>0</td></tr><tr><td>4</td><td>&quot;18_24&quot;</td><td>0</td></tr><tr><td>5</td><td>&quot;35_44&quot;</td><td>0</td></tr></tbody></table></div>"
      ],
      "text/plain": [
       "shape: (5, 3)\n",
       "┌─────────┬────────┬──────┐\n",
       "│ user_id ┆ age    ┆ sex  │\n",
       "│ ---     ┆ ---    ┆ ---  │\n",
       "│ u32     ┆ cat    ┆ i8   │\n",
       "╞═════════╪════════╪══════╡\n",
       "│ 1       ┆ 45_54  ┆ null │\n",
       "│ 2       ┆ 18_24  ┆ 0    │\n",
       "│ 3       ┆ 65_inf ┆ 0    │\n",
       "│ 4       ┆ 18_24  ┆ 0    │\n",
       "│ 5       ┆ 35_44  ┆ 0    │\n",
       "└─────────┴────────┴──────┘"
      ]
     },
     "execution_count": 14,
     "metadata": {},
     "output_type": "execute_result"
    }
   ],
   "source": [
    "df_users.head()"
   ]
  },
  {
   "cell_type": "code",
   "execution_count": 15,
   "metadata": {},
   "outputs": [
    {
     "data": {
      "text/html": [
       "<div><style>\n",
       ".dataframe > thead > tr > th,\n",
       ".dataframe > tbody > tr > td {\n",
       "  text-align: right;\n",
       "}\n",
       "</style>\n",
       "<small>shape: (3, 5)</small><table border=\"1\" class=\"dataframe\"><thead><tr><th>item_id</th><th>title</th><th>genres</th><th>authors</th><th>year</th></tr><tr><td>u32</td><td>str</td><td>str</td><td>cat</td><td>cat</td></tr></thead><tbody><tr><td>128115</td><td>&quot;ворон-челобитч…</td><td>&quot;зарубежная кла…</td><td>&quot;Михаил Салтыко…</td><td>&quot;1886&quot;</td></tr><tr><td>210979</td><td>&quot;скрипка ротшил…</td><td>&quot;классическая п…</td><td>&quot;Антон Чехов&quot;</td><td>&quot;1894&quot;</td></tr><tr><td>95632</td><td>&quot;испорченные де…</td><td>&quot;зарубежная кла…</td><td>&quot;Михаил Салтыко…</td><td>&quot;1869&quot;</td></tr></tbody></table></div>"
      ],
      "text/plain": [
       "shape: (3, 5)\n",
       "┌─────────┬───────────────────┬───────────────────────────────────┬────────────────────────┬──────┐\n",
       "│ item_id ┆ title             ┆ genres                            ┆ authors                ┆ year │\n",
       "│ ---     ┆ ---               ┆ ---                               ┆ ---                    ┆ ---  │\n",
       "│ u32     ┆ str               ┆ str                               ┆ cat                    ┆ cat  │\n",
       "╞═════════╪═══════════════════╪═══════════════════════════════════╪════════════════════════╪══════╡\n",
       "│ 128115  ┆ ворон-челобитчик  ┆ зарубежная классика,зарубежные д… ┆ Михаил Салтыков-Щедрин ┆ 1886 │\n",
       "│ 210979  ┆ скрипка ротшильда ┆ классическая проза,литература 19… ┆ Антон Чехов            ┆ 1894 │\n",
       "│ 95632   ┆ испорченные дети  ┆ зарубежная классика,классическая… ┆ Михаил Салтыков-Щедрин ┆ 1869 │\n",
       "└─────────┴───────────────────┴───────────────────────────────────┴────────────────────────┴──────┘"
      ]
     },
     "execution_count": 15,
     "metadata": {},
     "output_type": "execute_result"
    }
   ],
   "source": [
    "df_items.head(n=3)"
   ]
  },
  {
   "cell_type": "code",
   "execution_count": 16,
   "metadata": {},
   "outputs": [
    {
     "data": {
      "text/plain": [
       "135515"
      ]
     },
     "execution_count": 16,
     "metadata": {},
     "output_type": "execute_result"
    }
   ],
   "source": [
    "users_mapping, users_inv_mapping = get_direct_and_inv_mapping(df, \"user_id\")\n",
    "len(users_mapping)"
   ]
  },
  {
   "cell_type": "code",
   "execution_count": 17,
   "metadata": {},
   "outputs": [
    {
     "data": {
      "text/plain": [
       "30000"
      ]
     },
     "execution_count": 17,
     "metadata": {},
     "output_type": "execute_result"
    }
   ],
   "source": [
    "items_mapping, items_inv_mapping = get_direct_and_inv_mapping(df, \"item_id\")\n",
    "len(items_mapping)"
   ]
  },
  {
   "cell_type": "code",
   "execution_count": 18,
   "metadata": {},
   "outputs": [
    {
     "data": {
      "text/plain": [
       "(datetime.date(2019, 12, 10), datetime.date(2019, 12, 31))"
      ]
     },
     "execution_count": 18,
     "metadata": {},
     "output_type": "execute_result"
    }
   ],
   "source": [
    "last_date = df.select(pl.col(\"start_date\").max())[0, 0]\n",
    "folds = 3\n",
    "start_date = last_date - timedelta(weeks=folds)\n",
    "start_date, last_date"
   ]
  },
  {
   "cell_type": "code",
   "execution_count": 19,
   "metadata": {},
   "outputs": [
    {
     "data": {
      "text/plain": [
       "(3, 3)"
      ]
     },
     "execution_count": 19,
     "metadata": {},
     "output_type": "execute_result"
    }
   ],
   "source": [
    "cv = TimeRangeSplit(start_date=start_date, folds=folds, interval=timedelta(weeks=1))\n",
    "cv.max_n_splits, cv.get_n_splits(df, datetime_column='start_date')"
   ]
  },
  {
   "cell_type": "code",
   "execution_count": 20,
   "metadata": {},
   "outputs": [],
   "source": [
    "folds_with_stats = list(cv.split(\n",
    "    df, \n",
    "    user_column='user_id',\n",
    "    item_column='item_id',\n",
    "    datetime_column='start_date',\n",
    "    fold_stats=True\n",
    ")\n",
    ")\n",
    "\n",
    "folds_info_with_stats = pl.from_dicts([info for _, _, info in folds_with_stats])"
   ]
  },
  {
   "cell_type": "code",
   "execution_count": 21,
   "metadata": {},
   "outputs": [
    {
     "data": {
      "text/html": [
       "<div><style>\n",
       ".dataframe > thead > tr > th,\n",
       ".dataframe > tbody > tr > td {\n",
       "  text-align: right;\n",
       "}\n",
       "</style>\n",
       "<small>shape: (3, 9)</small><table border=\"1\" class=\"dataframe\"><thead><tr><th>Start date</th><th>End date</th><th>Train</th><th>New users</th><th>New users interactions</th><th>New items</th><th>New items interactions</th><th>Known interactions</th><th>Test</th></tr><tr><td>date</td><td>date</td><td>i64</td><td>i64</td><td>i64</td><td>i64</td><td>i64</td><td>i64</td><td>i64</td></tr></thead><tbody><tr><td>2019-12-10</td><td>2019-12-17</td><td>1032812</td><td>72</td><td>101</td><td>0</td><td>0</td><td>0</td><td>9665</td></tr><tr><td>2019-12-17</td><td>2019-12-24</td><td>1042578</td><td>77</td><td>112</td><td>0</td><td>0</td><td>0</td><td>9595</td></tr><tr><td>2019-12-24</td><td>2019-12-31</td><td>1052285</td><td>61</td><td>83</td><td>0</td><td>0</td><td>0</td><td>9693</td></tr></tbody></table></div>"
      ],
      "text/plain": [
       "shape: (3, 9)\n",
       "┌────────────┬────────────┬─────────┬───────────┬───┬───────────┬────────────┬──────────────┬──────┐\n",
       "│ Start date ┆ End date   ┆ Train   ┆ New users ┆ … ┆ New items ┆ New items  ┆ Known        ┆ Test │\n",
       "│ ---        ┆ ---        ┆ ---     ┆ ---       ┆   ┆ ---       ┆ interactio ┆ interactions ┆ ---  │\n",
       "│ date       ┆ date       ┆ i64     ┆ i64       ┆   ┆ i64       ┆ ns         ┆ ---          ┆ i64  │\n",
       "│            ┆            ┆         ┆           ┆   ┆           ┆ ---        ┆ i64          ┆      │\n",
       "│            ┆            ┆         ┆           ┆   ┆           ┆ i64        ┆              ┆      │\n",
       "╞════════════╪════════════╪═════════╪═══════════╪═══╪═══════════╪════════════╪══════════════╪══════╡\n",
       "│ 2019-12-10 ┆ 2019-12-17 ┆ 1032812 ┆ 72        ┆ … ┆ 0         ┆ 0          ┆ 0            ┆ 9665 │\n",
       "│ 2019-12-17 ┆ 2019-12-24 ┆ 1042578 ┆ 77        ┆ … ┆ 0         ┆ 0          ┆ 0            ┆ 9595 │\n",
       "│ 2019-12-24 ┆ 2019-12-31 ┆ 1052285 ┆ 61        ┆ … ┆ 0         ┆ 0          ┆ 0            ┆ 9693 │\n",
       "└────────────┴────────────┴─────────┴───────────┴───┴───────────┴────────────┴──────────────┴──────┘"
      ]
     },
     "execution_count": 21,
     "metadata": {},
     "output_type": "execute_result"
    }
   ],
   "source": [
    "folds_info_with_stats"
   ]
  },
  {
   "cell_type": "code",
   "execution_count": 22,
   "metadata": {},
   "outputs": [],
   "source": [
    "top_N = 10\n",
    "num_neg_samples = 3"
   ]
  },
  {
   "cell_type": "code",
   "execution_count": 23,
   "metadata": {},
   "outputs": [],
   "source": [
    "top_N_negative_sampling = max(num_neg_samples * 2, top_N)"
   ]
  },
  {
   "cell_type": "code",
   "execution_count": 24,
   "metadata": {},
   "outputs": [
    {
     "data": {
      "text/plain": [
       "((1032812, 5), (9665, 5))"
      ]
     },
     "execution_count": 24,
     "metadata": {},
     "output_type": "execute_result"
    }
   ],
   "source": [
    "train_idx, test_idx, info = folds_with_stats[0]\n",
    "\n",
    "train = df.join(train_idx, on=[\"user_id\", \"item_id\"], how=\"inner\")\n",
    "test = df.join(test_idx, on=[\"user_id\", \"item_id\"], how=\"inner\")\n",
    "train.shape, test.shape"
   ]
  },
  {
   "cell_type": "code",
   "execution_count": 25,
   "metadata": {},
   "outputs": [],
   "source": [
    "recommender = ImplicitRecommender(\n",
    "    BM25Recommender(K=top_N_negative_sampling),\n",
    "    users_mapping, \n",
    "    items_mapping,\n",
    "    items_inv_mapping,\n",
    "    # rating_col_name=\"rating\"\n",
    ")"
   ]
  },
  {
   "cell_type": "code",
   "execution_count": 26,
   "metadata": {},
   "outputs": [
    {
     "name": "stderr",
     "output_type": "stream",
     "text": [
      "/home/alex/miniconda3/envs/recsys/lib/python3.10/site-packages/implicit/utils.py:138: ParameterWarning: Method expects CSR input, and was passed coo_matrix instead. Converting to CSR took 0.0061452388763427734 seconds\n",
      "  warnings.warn(\n"
     ]
    },
    {
     "data": {
      "application/vnd.jupyter.widget-view+json": {
       "model_id": "3e26015f6a584619bc533182433c10c8",
       "version_major": 2,
       "version_minor": 0
      },
      "text/plain": [
       "  0%|          | 0/30000 [00:00<?, ?it/s]"
      ]
     },
     "metadata": {},
     "output_type": "display_data"
    }
   ],
   "source": [
    "recommender.fit(train)"
   ]
  },
  {
   "cell_type": "code",
   "execution_count": 27,
   "metadata": {},
   "outputs": [],
   "source": [
    "train_pred_neg_sampling = recommender.recommend(\n",
    "    train.select(pl.col(\"user_id\").unique()).to_series(), \n",
    "    n=top_N_negative_sampling)"
   ]
  },
  {
   "cell_type": "code",
   "execution_count": 30,
   "metadata": {},
   "outputs": [],
   "source": [
    "test_pred = recommender.recommend(\n",
    "    test.select(pl.col(\"user_id\").unique()).to_series(), \n",
    "    n=top_N)"
   ]
  },
  {
   "cell_type": "code",
   "execution_count": 31,
   "metadata": {},
   "outputs": [],
   "source": [
    "baseline_map = mean_average_prec(join_true_pred_and_preprocess(test, test_pred))"
   ]
  },
  {
   "cell_type": "code",
   "execution_count": 32,
   "metadata": {},
   "outputs": [
    {
     "data": {
      "text/plain": [
       "0.014352939513304056"
      ]
     },
     "execution_count": 32,
     "metadata": {},
     "output_type": "execute_result"
    }
   ],
   "source": [
    "baseline_map"
   ]
  },
  {
   "cell_type": "code",
   "execution_count": 33,
   "metadata": {},
   "outputs": [],
   "source": [
    "assert train_pred_neg_sampling.lazy().groupby(\"user_id\").count().filter(pl.col(\"count\") < num_neg_samples).collect().is_empty(), f\"You must sample {num_neg_samples} for each user\""
   ]
  },
  {
   "cell_type": "code",
   "execution_count": 56,
   "metadata": {},
   "outputs": [],
   "source": [
    "train = train.with_row_count(\"pair_id\")"
   ]
  },
  {
   "cell_type": "code",
   "execution_count": 60,
   "metadata": {},
   "outputs": [],
   "source": [
    "neg_train = train.lazy().join(train_pred_neg_sampling.lazy().select(pl.col([\"user_id\", \"item_id\"])), on=\"user_id\", suffix=\"_neg\").filter(\n",
    "    pl.col(\"item_id\") != pl.col(\"item_id_neg\")\n",
    ").groupby(\n",
    "    [\"user_id\", \"item_id\", \"start_date\", \"pair_id\"]\n",
    ").agg(\n",
    "    pl.col(\"item_id_neg\").implode().flatten().sample(n=num_neg_samples, seed=1455, with_replacement=False).alias(\"neg_item_id\")\n",
    ").select(\n",
    "    pl.all().exclude(\"item_id\")\n",
    ").explode(\"neg_item_id\").select(\n",
    "    pl.col(\"user_id\"),\n",
    "    pl.col(\"neg_item_id\").alias(\"item_id\"),\n",
    "    pl.col(\"start_date\"),\n",
    "    pl.col(\"pair_id\"),\n",
    "    pl.lit(0).cast(pl.Int8).alias(\"target\")).collect()"
   ]
  },
  {
   "cell_type": "code",
   "execution_count": 61,
   "metadata": {},
   "outputs": [
    {
     "data": {
      "text/html": [
       "<div><style>\n",
       ".dataframe > thead > tr > th,\n",
       ".dataframe > tbody > tr > td {\n",
       "  text-align: right;\n",
       "}\n",
       "</style>\n",
       "<small>shape: (5, 5)</small><table border=\"1\" class=\"dataframe\"><thead><tr><th>user_id</th><th>item_id</th><th>start_date</th><th>pair_id</th><th>target</th></tr><tr><td>u32</td><td>u32</td><td>date</td><td>u32</td><td>i8</td></tr></thead><tbody><tr><td>2</td><td>155763</td><td>2018-02-14</td><td>56793</td><td>0</td></tr><tr><td>2</td><td>34831</td><td>2018-02-14</td><td>56793</td><td>0</td></tr><tr><td>2</td><td>38183</td><td>2018-02-14</td><td>56793</td><td>0</td></tr><tr><td>2</td><td>155763</td><td>2019-02-26</td><td>596795</td><td>0</td></tr><tr><td>2</td><td>34831</td><td>2019-02-26</td><td>596795</td><td>0</td></tr></tbody></table></div>"
      ],
      "text/plain": [
       "shape: (5, 5)\n",
       "┌─────────┬─────────┬────────────┬─────────┬────────┐\n",
       "│ user_id ┆ item_id ┆ start_date ┆ pair_id ┆ target │\n",
       "│ ---     ┆ ---     ┆ ---        ┆ ---     ┆ ---    │\n",
       "│ u32     ┆ u32     ┆ date       ┆ u32     ┆ i8     │\n",
       "╞═════════╪═════════╪════════════╪═════════╪════════╡\n",
       "│ 2       ┆ 155763  ┆ 2018-02-14 ┆ 56793   ┆ 0      │\n",
       "│ 2       ┆ 34831   ┆ 2018-02-14 ┆ 56793   ┆ 0      │\n",
       "│ 2       ┆ 38183   ┆ 2018-02-14 ┆ 56793   ┆ 0      │\n",
       "│ 2       ┆ 155763  ┆ 2019-02-26 ┆ 596795  ┆ 0      │\n",
       "│ 2       ┆ 34831   ┆ 2019-02-26 ┆ 596795  ┆ 0      │\n",
       "└─────────┴─────────┴────────────┴─────────┴────────┘"
      ]
     },
     "execution_count": 61,
     "metadata": {},
     "output_type": "execute_result"
    }
   ],
   "source": [
    "neg_train.head()"
   ]
  },
  {
   "cell_type": "code",
   "execution_count": 62,
   "metadata": {},
   "outputs": [],
   "source": [
    "train_full = train.select(\n",
    "    pl.col(\"user_id\"),\n",
    "    pl.col(\"item_id\"),\n",
    "    pl.col(\"start_date\"),\n",
    "    pl.col(\"pair_id\"),\n",
    "    pl.lit(1).cast(pl.Int8).alias(\"target\")\n",
    ").vstack(neg_train)"
   ]
  },
  {
   "cell_type": "code",
   "execution_count": 65,
   "metadata": {},
   "outputs": [
    {
     "data": {
      "text/html": [
       "<div><style>\n",
       ".dataframe > thead > tr > th,\n",
       ".dataframe > tbody > tr > td {\n",
       "  text-align: right;\n",
       "}\n",
       "</style>\n",
       "<small>shape: (6, 5)</small><table border=\"1\" class=\"dataframe\"><thead><tr><th>user_id</th><th>item_id</th><th>start_date</th><th>pair_id</th><th>target</th></tr><tr><td>u32</td><td>u32</td><td>date</td><td>u32</td><td>i8</td></tr></thead><tbody><tr><td>126706</td><td>307855</td><td>2018-01-01</td><td>0</td><td>0</td></tr><tr><td>126706</td><td>99126</td><td>2018-01-01</td><td>0</td><td>0</td></tr><tr><td>126706</td><td>276863</td><td>2018-01-01</td><td>0</td><td>0</td></tr><tr><td>126706</td><td>14433</td><td>2018-01-01</td><td>0</td><td>1</td></tr><tr><td>127451</td><td>232360</td><td>2018-01-01</td><td>1</td><td>0</td></tr><tr><td>127451</td><td>14142</td><td>2018-01-01</td><td>1</td><td>0</td></tr></tbody></table></div>"
      ],
      "text/plain": [
       "shape: (6, 5)\n",
       "┌─────────┬─────────┬────────────┬─────────┬────────┐\n",
       "│ user_id ┆ item_id ┆ start_date ┆ pair_id ┆ target │\n",
       "│ ---     ┆ ---     ┆ ---        ┆ ---     ┆ ---    │\n",
       "│ u32     ┆ u32     ┆ date       ┆ u32     ┆ i8     │\n",
       "╞═════════╪═════════╪════════════╪═════════╪════════╡\n",
       "│ 126706  ┆ 307855  ┆ 2018-01-01 ┆ 0       ┆ 0      │\n",
       "│ 126706  ┆ 99126   ┆ 2018-01-01 ┆ 0       ┆ 0      │\n",
       "│ 126706  ┆ 276863  ┆ 2018-01-01 ┆ 0       ┆ 0      │\n",
       "│ 126706  ┆ 14433   ┆ 2018-01-01 ┆ 0       ┆ 1      │\n",
       "│ 127451  ┆ 232360  ┆ 2018-01-01 ┆ 1       ┆ 0      │\n",
       "│ 127451  ┆ 14142   ┆ 2018-01-01 ┆ 1       ┆ 0      │\n",
       "└─────────┴─────────┴────────────┴─────────┴────────┘"
      ]
     },
     "execution_count": 65,
     "metadata": {},
     "output_type": "execute_result"
    }
   ],
   "source": [
    "train_full.sort(\"pair_id\", \"target\").head(n=6)"
   ]
  },
  {
   "cell_type": "code",
   "execution_count": 66,
   "metadata": {},
   "outputs": [
    {
     "data": {
      "text/html": [
       "<div><style>\n",
       ".dataframe > thead > tr > th,\n",
       ".dataframe > tbody > tr > td {\n",
       "  text-align: right;\n",
       "}\n",
       "</style>\n",
       "<small>shape: (0, 2)</small><table border=\"1\" class=\"dataframe\"><thead><tr><th>pair_id</th><th>count</th></tr><tr><td>u32</td><td>u32</td></tr></thead><tbody></tbody></table></div>"
      ],
      "text/plain": [
       "shape: (0, 2)\n",
       "┌─────────┬───────┐\n",
       "│ pair_id ┆ count │\n",
       "│ ---     ┆ ---   │\n",
       "│ u32     ┆ u32   │\n",
       "╞═════════╪═══════╡\n",
       "└─────────┴───────┘"
      ]
     },
     "execution_count": 66,
     "metadata": {},
     "output_type": "execute_result"
    }
   ],
   "source": [
    "train_full.groupby([\"pair_id\"]).count().filter(\n",
    "    pl.col(\"count\") <= 1)"
   ]
  },
  {
   "cell_type": "code",
   "execution_count": 67,
   "metadata": {},
   "outputs": [],
   "source": [
    "assert train_full.groupby([\"pair_id\"]).count().filter(\n",
    "    pl.col(\"count\") < 2).is_empty(), f\"Expected at least 2 pairs: positive and negative (user_id, item_id, start_date) \""
   ]
  },
  {
   "cell_type": "code",
   "execution_count": 68,
   "metadata": {},
   "outputs": [],
   "source": [
    "# df_users_features = df_users\n",
    "df_users_features = df_users.with_columns(\n",
    "    pl.col(\"age\").cast(str).fill_null(\"unknown\"),\n",
    "    pl.col(\"sex\").cast(str).fill_null(\"unknown\")\n",
    ")"
   ]
  },
  {
   "cell_type": "code",
   "execution_count": 69,
   "metadata": {},
   "outputs": [],
   "source": [
    "# df_items_features = df_items.select(pl.all().exclude([\"IMDb_URL\", \"title\"])).with_columns(pl.col(\"release_date\").dt.timestamp(\"us\"))\n",
    "df_items_features = df_items.select(\n",
    "    pl.col(\"item_id\"),\n",
    "    pl.col(\"genres\"),\n",
    "    pl.col(\"year\")\n",
    ").with_columns(\n",
    "    pl.col(\"genres\").cast(str).fill_null(\"genre_unknown\").alias(\"genres\"),\n",
    "    pl.col(\"year\").cast(str).fill_null(\"unknown\").alias(\"year\")\n",
    ")"
   ]
  },
  {
   "cell_type": "code",
   "execution_count": 70,
   "metadata": {},
   "outputs": [],
   "source": [
    "train_full = add_features(add_features(train_full, df_items_features, \"item_id\"), df_users_features, \"user_id\")"
   ]
  },
  {
   "cell_type": "code",
   "execution_count": 71,
   "metadata": {},
   "outputs": [
    {
     "data": {
      "text/html": [
       "<div><style>\n",
       ".dataframe > thead > tr > th,\n",
       ".dataframe > tbody > tr > td {\n",
       "  text-align: right;\n",
       "}\n",
       "</style>\n",
       "<small>shape: (3, 9)</small><table border=\"1\" class=\"dataframe\"><thead><tr><th>user_id</th><th>item_id</th><th>start_date</th><th>pair_id</th><th>target</th><th>genres</th><th>year</th><th>age</th><th>sex</th></tr><tr><td>u32</td><td>u32</td><td>date</td><td>u32</td><td>i8</td><td>str</td><td>str</td><td>str</td><td>str</td></tr></thead><tbody><tr><td>126706</td><td>14433</td><td>2018-01-01</td><td>0</td><td>1</td><td>&quot;историческая л…</td><td>&quot;2007&quot;</td><td>&quot;25_34&quot;</td><td>&quot;0&quot;</td></tr><tr><td>127451</td><td>14876</td><td>2018-01-01</td><td>1</td><td>1</td><td>&quot;зарубежные дет…</td><td>&quot;1843&quot;</td><td>&quot;45_54&quot;</td><td>&quot;0&quot;</td></tr><tr><td>47287</td><td>258483</td><td>2018-01-01</td><td>2</td><td>1</td><td>&quot;боевая фантаст…</td><td>&quot;2018&quot;</td><td>&quot;18_24&quot;</td><td>&quot;0&quot;</td></tr></tbody></table></div>"
      ],
      "text/plain": [
       "shape: (3, 9)\n",
       "┌─────────┬─────────┬────────────┬─────────┬───┬──────────────────────────────┬──────┬───────┬─────┐\n",
       "│ user_id ┆ item_id ┆ start_date ┆ pair_id ┆ … ┆ genres                       ┆ year ┆ age   ┆ sex │\n",
       "│ ---     ┆ ---     ┆ ---        ┆ ---     ┆   ┆ ---                          ┆ ---  ┆ ---   ┆ --- │\n",
       "│ u32     ┆ u32     ┆ date       ┆ u32     ┆   ┆ str                          ┆ str  ┆ str   ┆ str │\n",
       "╞═════════╪═════════╪════════════╪═════════╪═══╪══════════════════════════════╪══════╪═══════╪═════╡\n",
       "│ 126706  ┆ 14433   ┆ 2018-01-01 ┆ 0       ┆ … ┆ историческая                 ┆ 2007 ┆ 25_34 ┆ 0   │\n",
       "│         ┆         ┆            ┆         ┆   ┆ литература,историче…         ┆      ┆       ┆     │\n",
       "│ 127451  ┆ 14876   ┆ 2018-01-01 ┆ 1       ┆ … ┆ зарубежные детские           ┆ 1843 ┆ 45_54 ┆ 0   │\n",
       "│         ┆         ┆            ┆         ┆   ┆ книги,сказки                 ┆      ┆       ┆     │\n",
       "│ 47287   ┆ 258483  ┆ 2018-01-01 ┆ 2       ┆ … ┆ боевая                       ┆ 2018 ┆ 18_24 ┆ 0   │\n",
       "│         ┆         ┆            ┆         ┆   ┆ фантастика,космическая фа…   ┆      ┆       ┆     │\n",
       "└─────────┴─────────┴────────────┴─────────┴───┴──────────────────────────────┴──────┴───────┴─────┘"
      ]
     },
     "execution_count": 71,
     "metadata": {},
     "output_type": "execute_result"
    }
   ],
   "source": [
    "train_full.head(n=3)"
   ]
  },
  {
   "cell_type": "code",
   "execution_count": 72,
   "metadata": {},
   "outputs": [],
   "source": [
    "train_full = train_full.with_columns(pl.col(\"start_date\").dt.timestamp(\"us\"))"
   ]
  },
  {
   "cell_type": "code",
   "execution_count": 73,
   "metadata": {},
   "outputs": [
    {
     "data": {
      "text/html": [
       "<div><style>\n",
       ".dataframe > thead > tr > th,\n",
       ".dataframe > tbody > tr > td {\n",
       "  text-align: right;\n",
       "}\n",
       "</style>\n",
       "<small>shape: (5, 9)</small><table border=\"1\" class=\"dataframe\"><thead><tr><th>user_id</th><th>item_id</th><th>start_date</th><th>pair_id</th><th>target</th><th>genres</th><th>year</th><th>age</th><th>sex</th></tr><tr><td>u32</td><td>u32</td><td>i64</td><td>u32</td><td>i8</td><td>str</td><td>str</td><td>str</td><td>str</td></tr></thead><tbody><tr><td>126706</td><td>14433</td><td>1514764800000000</td><td>0</td><td>1</td><td>&quot;историческая л…</td><td>&quot;2007&quot;</td><td>&quot;25_34&quot;</td><td>&quot;0&quot;</td></tr><tr><td>127451</td><td>14876</td><td>1514764800000000</td><td>1</td><td>1</td><td>&quot;зарубежные дет…</td><td>&quot;1843&quot;</td><td>&quot;45_54&quot;</td><td>&quot;0&quot;</td></tr><tr><td>47287</td><td>258483</td><td>1514764800000000</td><td>2</td><td>1</td><td>&quot;боевая фантаст…</td><td>&quot;2018&quot;</td><td>&quot;18_24&quot;</td><td>&quot;0&quot;</td></tr><tr><td>47551</td><td>64060</td><td>1514764800000000</td><td>3</td><td>1</td><td>&quot;современные де…</td><td>&quot;2002&quot;</td><td>&quot;35_44&quot;</td><td>&quot;unknown&quot;</td></tr><tr><td>59484</td><td>161786</td><td>1514764800000000</td><td>4</td><td>1</td><td>&quot;научная фантас…</td><td>&quot;1989&quot;</td><td>&quot;45_54&quot;</td><td>&quot;1&quot;</td></tr></tbody></table></div>"
      ],
      "text/plain": [
       "shape: (5, 9)\n",
       "┌─────────┬─────────┬──────────────────┬─────────┬───┬────────────────────┬──────┬───────┬─────────┐\n",
       "│ user_id ┆ item_id ┆ start_date       ┆ pair_id ┆ … ┆ genres             ┆ year ┆ age   ┆ sex     │\n",
       "│ ---     ┆ ---     ┆ ---              ┆ ---     ┆   ┆ ---                ┆ ---  ┆ ---   ┆ ---     │\n",
       "│ u32     ┆ u32     ┆ i64              ┆ u32     ┆   ┆ str                ┆ str  ┆ str   ┆ str     │\n",
       "╞═════════╪═════════╪══════════════════╪═════════╪═══╪════════════════════╪══════╪═══════╪═════════╡\n",
       "│ 126706  ┆ 14433   ┆ 1514764800000000 ┆ 0       ┆ … ┆ историческая литер ┆ 2007 ┆ 25_34 ┆ 0       │\n",
       "│         ┆         ┆                  ┆         ┆   ┆ атура,историче…    ┆      ┆       ┆         │\n",
       "│ 127451  ┆ 14876   ┆ 1514764800000000 ┆ 1       ┆ … ┆ зарубежные детские ┆ 1843 ┆ 45_54 ┆ 0       │\n",
       "│         ┆         ┆                  ┆         ┆   ┆ книги,сказки       ┆      ┆       ┆         │\n",
       "│ 47287   ┆ 258483  ┆ 1514764800000000 ┆ 2       ┆ … ┆ боевая фантастика, ┆ 2018 ┆ 18_24 ┆ 0       │\n",
       "│         ┆         ┆                  ┆         ┆   ┆ космическая фа…    ┆      ┆       ┆         │\n",
       "│ 47551   ┆ 64060   ┆ 1514764800000000 ┆ 3       ┆ … ┆ современные        ┆ 2002 ┆ 35_44 ┆ unknown │\n",
       "│         ┆         ┆                  ┆         ┆   ┆ детективы          ┆      ┆       ┆         │\n",
       "│ 59484   ┆ 161786  ┆ 1514764800000000 ┆ 4       ┆ … ┆ научная фантастика ┆ 1989 ┆ 45_54 ┆ 1       │\n",
       "└─────────┴─────────┴──────────────────┴─────────┴───┴────────────────────┴──────┴───────┴─────────┘"
      ]
     },
     "execution_count": 73,
     "metadata": {},
     "output_type": "execute_result"
    }
   ],
   "source": [
    "train_full.head()"
   ]
  },
  {
   "cell_type": "code",
   "execution_count": 74,
   "metadata": {},
   "outputs": [],
   "source": [
    "# train_full = add_group_ids(train_full, [\"user_id\", \"start_date\"])"
   ]
  },
  {
   "cell_type": "code",
   "execution_count": 75,
   "metadata": {},
   "outputs": [
    {
     "data": {
      "text/html": [
       "<div><style>\n",
       ".dataframe > thead > tr > th,\n",
       ".dataframe > tbody > tr > td {\n",
       "  text-align: right;\n",
       "}\n",
       "</style>\n",
       "<small>shape: (5, 9)</small><table border=\"1\" class=\"dataframe\"><thead><tr><th>user_id</th><th>item_id</th><th>start_date</th><th>pair_id</th><th>target</th><th>genres</th><th>year</th><th>age</th><th>sex</th></tr><tr><td>u32</td><td>u32</td><td>i64</td><td>u32</td><td>i8</td><td>str</td><td>str</td><td>str</td><td>str</td></tr></thead><tbody><tr><td>126706</td><td>14433</td><td>1514764800000000</td><td>0</td><td>1</td><td>&quot;историческая л…</td><td>&quot;2007&quot;</td><td>&quot;25_34&quot;</td><td>&quot;0&quot;</td></tr><tr><td>127451</td><td>14876</td><td>1514764800000000</td><td>1</td><td>1</td><td>&quot;зарубежные дет…</td><td>&quot;1843&quot;</td><td>&quot;45_54&quot;</td><td>&quot;0&quot;</td></tr><tr><td>47287</td><td>258483</td><td>1514764800000000</td><td>2</td><td>1</td><td>&quot;боевая фантаст…</td><td>&quot;2018&quot;</td><td>&quot;18_24&quot;</td><td>&quot;0&quot;</td></tr><tr><td>47551</td><td>64060</td><td>1514764800000000</td><td>3</td><td>1</td><td>&quot;современные де…</td><td>&quot;2002&quot;</td><td>&quot;35_44&quot;</td><td>&quot;unknown&quot;</td></tr><tr><td>59484</td><td>161786</td><td>1514764800000000</td><td>4</td><td>1</td><td>&quot;научная фантас…</td><td>&quot;1989&quot;</td><td>&quot;45_54&quot;</td><td>&quot;1&quot;</td></tr></tbody></table></div>"
      ],
      "text/plain": [
       "shape: (5, 9)\n",
       "┌─────────┬─────────┬──────────────────┬─────────┬───┬────────────────────┬──────┬───────┬─────────┐\n",
       "│ user_id ┆ item_id ┆ start_date       ┆ pair_id ┆ … ┆ genres             ┆ year ┆ age   ┆ sex     │\n",
       "│ ---     ┆ ---     ┆ ---              ┆ ---     ┆   ┆ ---                ┆ ---  ┆ ---   ┆ ---     │\n",
       "│ u32     ┆ u32     ┆ i64              ┆ u32     ┆   ┆ str                ┆ str  ┆ str   ┆ str     │\n",
       "╞═════════╪═════════╪══════════════════╪═════════╪═══╪════════════════════╪══════╪═══════╪═════════╡\n",
       "│ 126706  ┆ 14433   ┆ 1514764800000000 ┆ 0       ┆ … ┆ историческая литер ┆ 2007 ┆ 25_34 ┆ 0       │\n",
       "│         ┆         ┆                  ┆         ┆   ┆ атура,историче…    ┆      ┆       ┆         │\n",
       "│ 127451  ┆ 14876   ┆ 1514764800000000 ┆ 1       ┆ … ┆ зарубежные детские ┆ 1843 ┆ 45_54 ┆ 0       │\n",
       "│         ┆         ┆                  ┆         ┆   ┆ книги,сказки       ┆      ┆       ┆         │\n",
       "│ 47287   ┆ 258483  ┆ 1514764800000000 ┆ 2       ┆ … ┆ боевая фантастика, ┆ 2018 ┆ 18_24 ┆ 0       │\n",
       "│         ┆         ┆                  ┆         ┆   ┆ космическая фа…    ┆      ┆       ┆         │\n",
       "│ 47551   ┆ 64060   ┆ 1514764800000000 ┆ 3       ┆ … ┆ современные        ┆ 2002 ┆ 35_44 ┆ unknown │\n",
       "│         ┆         ┆                  ┆         ┆   ┆ детективы          ┆      ┆       ┆         │\n",
       "│ 59484   ┆ 161786  ┆ 1514764800000000 ┆ 4       ┆ … ┆ научная фантастика ┆ 1989 ┆ 45_54 ┆ 1       │\n",
       "└─────────┴─────────┴──────────────────┴─────────┴───┴────────────────────┴──────┴───────┴─────────┘"
      ]
     },
     "execution_count": 75,
     "metadata": {},
     "output_type": "execute_result"
    }
   ],
   "source": [
    "train_full.head()"
   ]
  },
  {
   "cell_type": "code",
   "execution_count": 76,
   "metadata": {},
   "outputs": [],
   "source": [
    "ranker_train_info = features_target_ranking(train_full, group_id_col=\"pair_id\")"
   ]
  },
  {
   "cell_type": "code",
   "execution_count": 77,
   "metadata": {},
   "outputs": [],
   "source": [
    "# assert 2 * len(ranker_train_info.pairs) == ranker_train_info.features.get_object_count()"
   ]
  },
  {
   "cell_type": "code",
   "execution_count": 78,
   "metadata": {},
   "outputs": [
    {
     "data": {
      "text/plain": [
       "['genres', 'year', 'age', 'sex']"
      ]
     },
     "execution_count": 78,
     "metadata": {},
     "output_type": "execute_result"
    }
   ],
   "source": [
    "ranker_train_info.features.get_feature_names()"
   ]
  },
  {
   "cell_type": "code",
   "execution_count": 79,
   "metadata": {},
   "outputs": [],
   "source": [
    "train_pool = Pool(\n",
    "    data=ranker_train_info.features,\n",
    "    label=ranker_train_info.target,\n",
    "    timestamp=ranker_train_info.timestamps,\n",
    "    # pairs=ranker_train_info.pairs,\n",
    "    group_id=ranker_train_info.group_ids\n",
    ")"
   ]
  },
  {
   "cell_type": "code",
   "execution_count": null,
   "metadata": {},
   "outputs": [],
   "source": [
    "train_dir = os.path.join(out_exp_dir, \"log\")"
   ]
  },
  {
   "cell_type": "code",
   "execution_count": null,
   "metadata": {},
   "outputs": [],
   "source": [
    "os.makedirs(train_dir, exist_ok=True)"
   ]
  },
  {
   "cell_type": "code",
   "execution_count": 80,
   "metadata": {},
   "outputs": [],
   "source": [
    "ranker = CatBoostRanker(task_type='GPU', random_seed=3466, metric_period=50, \n",
    "                        eval_metric=f\"MAP:top=2\", \n",
    "                        custom_metric=[\"RecallAt:top=1\", \"PrecisionAt:top=3\"],\n",
    "                        iterations=800,\n",
    "                        train_dir=train_dir,\n",
    "                        loss_function=\"YetiRankPairwise\"\n",
    "                        # max_ctr_complexity=3\n",
    "                        )"
   ]
  },
  {
   "cell_type": "code",
   "execution_count": null,
   "metadata": {},
   "outputs": [],
   "source": [
    "model_path = os.path.join(out_exp_dir, \"model\", \"model.cbm\")"
   ]
  },
  {
   "cell_type": "code",
   "execution_count": null,
   "metadata": {},
   "outputs": [],
   "source": [
    "os.makedirs(os.path.dirname(model_path), exist_ok=True)"
   ]
  },
  {
   "cell_type": "code",
   "execution_count": 81,
   "metadata": {},
   "outputs": [],
   "source": [
    "force_train = True"
   ]
  },
  {
   "cell_type": "code",
   "execution_count": 82,
   "metadata": {},
   "outputs": [
    {
     "name": "stdout",
     "output_type": "stream",
     "text": [
      "Groupwise loss function. OneHotMaxSize set to 10\n"
     ]
    },
    {
     "name": "stderr",
     "output_type": "stream",
     "text": [
      "Metric PFound is not implemented on GPU. Will use CPU for metric computation, this could significantly affect learning time\n",
      "Metric PFound is not implemented on GPU. Will use CPU for metric computation, this could significantly affect learning time\n"
     ]
    },
    {
     "name": "stdout",
     "output_type": "stream",
     "text": [
      "0:\ttotal: 1.05s\tremaining: 13m 58s\n",
      "50:\ttotal: 46.5s\tremaining: 11m 22s\n",
      "100:\ttotal: 2m 34s\tremaining: 17m 47s\n",
      "150:\ttotal: 4m 27s\tremaining: 19m 8s\n"
     ]
    },
    {
     "ename": "KeyboardInterrupt",
     "evalue": "",
     "output_type": "error",
     "traceback": [
      "\u001b[0;31m---------------------------------------------------------------------------\u001b[0m",
      "\u001b[0;31mKeyboardInterrupt\u001b[0m                         Traceback (most recent call last)",
      "Cell \u001b[0;32mIn[82], line 4\u001b[0m\n\u001b[1;32m      2\u001b[0m     ranker\u001b[39m.\u001b[39mload_model(\u001b[39m\"\u001b[39m\u001b[39mmodel.cbm\u001b[39m\u001b[39m\"\u001b[39m)\n\u001b[1;32m      3\u001b[0m \u001b[39melse\u001b[39;00m:\n\u001b[0;32m----> 4\u001b[0m     ranker\u001b[39m.\u001b[39;49mfit(train_pool)\n\u001b[1;32m      5\u001b[0m     ranker\u001b[39m.\u001b[39msave_model(\u001b[39m\"\u001b[39m\u001b[39mmodel.cbm\u001b[39m\u001b[39m\"\u001b[39m)\n",
      "File \u001b[0;32m~/miniconda3/envs/recsys/lib/python3.10/site-packages/catboost/core.py:6125\u001b[0m, in \u001b[0;36mCatBoostRanker.fit\u001b[0;34m(self, X, y, group_id, cat_features, text_features, embedding_features, pairs, sample_weight, group_weight, subgroup_id, pairs_weight, baseline, use_best_model, eval_set, verbose, logging_level, plot, plot_file, column_description, verbose_eval, metric_period, silent, early_stopping_rounds, save_snapshot, snapshot_file, snapshot_interval, init_model, callbacks, log_cout, log_cerr)\u001b[0m\n\u001b[1;32m   6122\u001b[0m \u001b[39mif\u001b[39;00m \u001b[39m'\u001b[39m\u001b[39mloss_function\u001b[39m\u001b[39m'\u001b[39m \u001b[39min\u001b[39;00m params:\n\u001b[1;32m   6123\u001b[0m     CatBoostRanker\u001b[39m.\u001b[39m_check_is_compatible_loss(params[\u001b[39m'\u001b[39m\u001b[39mloss_function\u001b[39m\u001b[39m'\u001b[39m])\n\u001b[0;32m-> 6125\u001b[0m \u001b[39mself\u001b[39;49m\u001b[39m.\u001b[39;49m_fit(X, y, cat_features, text_features, embedding_features, pairs,\n\u001b[1;32m   6126\u001b[0m           sample_weight, group_id, group_weight, subgroup_id, pairs_weight, baseline, use_best_model,\n\u001b[1;32m   6127\u001b[0m           eval_set, verbose, logging_level, plot, plot_file, column_description, verbose_eval, metric_period,\n\u001b[1;32m   6128\u001b[0m           silent, early_stopping_rounds, save_snapshot, snapshot_file, snapshot_interval, init_model, callbacks, log_cout, log_cerr)\n\u001b[1;32m   6129\u001b[0m \u001b[39mreturn\u001b[39;00m \u001b[39mself\u001b[39m\n",
      "File \u001b[0;32m~/miniconda3/envs/recsys/lib/python3.10/site-packages/catboost/core.py:2357\u001b[0m, in \u001b[0;36mCatBoost._fit\u001b[0;34m(self, X, y, cat_features, text_features, embedding_features, pairs, sample_weight, group_id, group_weight, subgroup_id, pairs_weight, baseline, use_best_model, eval_set, verbose, logging_level, plot, plot_file, column_description, verbose_eval, metric_period, silent, early_stopping_rounds, save_snapshot, snapshot_file, snapshot_interval, init_model, callbacks, log_cout, log_cerr)\u001b[0m\n\u001b[1;32m   2353\u001b[0m allow_clear_pool \u001b[39m=\u001b[39m train_params[\u001b[39m\"\u001b[39m\u001b[39mallow_clear_pool\u001b[39m\u001b[39m\"\u001b[39m]\n\u001b[1;32m   2355\u001b[0m \u001b[39mwith\u001b[39;00m log_fixup(log_cout, log_cerr), \\\n\u001b[1;32m   2356\u001b[0m     plot_wrapper(plot, plot_file, \u001b[39m'\u001b[39m\u001b[39mTraining plots\u001b[39m\u001b[39m'\u001b[39m, [_get_train_dir(\u001b[39mself\u001b[39m\u001b[39m.\u001b[39mget_params())]):\n\u001b[0;32m-> 2357\u001b[0m     \u001b[39mself\u001b[39;49m\u001b[39m.\u001b[39;49m_train(\n\u001b[1;32m   2358\u001b[0m         train_pool,\n\u001b[1;32m   2359\u001b[0m         train_params[\u001b[39m\"\u001b[39;49m\u001b[39meval_sets\u001b[39;49m\u001b[39m\"\u001b[39;49m],\n\u001b[1;32m   2360\u001b[0m         params,\n\u001b[1;32m   2361\u001b[0m         allow_clear_pool,\n\u001b[1;32m   2362\u001b[0m         train_params[\u001b[39m\"\u001b[39;49m\u001b[39minit_model\u001b[39;49m\u001b[39m\"\u001b[39;49m]\n\u001b[1;32m   2363\u001b[0m     )\n\u001b[1;32m   2365\u001b[0m \u001b[39m# Have property feature_importance possibly set\u001b[39;00m\n\u001b[1;32m   2366\u001b[0m loss \u001b[39m=\u001b[39m \u001b[39mself\u001b[39m\u001b[39m.\u001b[39m_object\u001b[39m.\u001b[39m_get_loss_function_name()\n",
      "File \u001b[0;32m~/miniconda3/envs/recsys/lib/python3.10/site-packages/catboost/core.py:1761\u001b[0m, in \u001b[0;36m_CatBoostBase._train\u001b[0;34m(self, train_pool, test_pool, params, allow_clear_pool, init_model)\u001b[0m\n\u001b[1;32m   1760\u001b[0m \u001b[39mdef\u001b[39;00m \u001b[39m_train\u001b[39m(\u001b[39mself\u001b[39m, train_pool, test_pool, params, allow_clear_pool, init_model):\n\u001b[0;32m-> 1761\u001b[0m     \u001b[39mself\u001b[39;49m\u001b[39m.\u001b[39;49m_object\u001b[39m.\u001b[39;49m_train(train_pool, test_pool, params, allow_clear_pool, init_model\u001b[39m.\u001b[39;49m_object \u001b[39mif\u001b[39;49;00m init_model \u001b[39melse\u001b[39;49;00m \u001b[39mNone\u001b[39;49;00m)\n\u001b[1;32m   1762\u001b[0m     \u001b[39mself\u001b[39m\u001b[39m.\u001b[39m_set_trained_model_attributes()\n",
      "File \u001b[0;32m_catboost.pyx:4624\u001b[0m, in \u001b[0;36m_catboost._CatBoost._train\u001b[0;34m()\u001b[0m\n",
      "File \u001b[0;32m_catboost.pyx:4673\u001b[0m, in \u001b[0;36m_catboost._CatBoost._train\u001b[0;34m()\u001b[0m\n",
      "\u001b[0;31mKeyboardInterrupt\u001b[0m: "
     ]
    }
   ],
   "source": [
    "if os.path.exists(model_path) and not force_train:\n",
    "    ranker.load_model(model_path)\n",
    "else:\n",
    "    ranker.fit(train_pool)\n",
    "    ranker.save_model(model_path)"
   ]
  },
  {
   "cell_type": "code",
   "execution_count": 53,
   "metadata": {},
   "outputs": [],
   "source": [
    "test_with_features = add_features(add_features(test_pred, df_items_features, [\"item_id\"]), df_users_features, [\"user_id\"])"
   ]
  },
  {
   "cell_type": "code",
   "execution_count": 54,
   "metadata": {},
   "outputs": [
    {
     "data": {
      "text/html": [
       "<div><style>\n",
       ".dataframe > thead > tr > th,\n",
       ".dataframe > tbody > tr > td {\n",
       "  text-align: right;\n",
       "}\n",
       "</style>\n",
       "<small>shape: (5, 9)</small><table border=\"1\" class=\"dataframe\"><thead><tr><th>user_id</th><th>item_id</th><th>rank</th><th>release_date</th><th>genres</th><th>age</th><th>gender</th><th>occupation</th><th>zip_code</th></tr><tr><td>u32</td><td>u32</td><td>u32</td><td>i64</td><td>cat</td><td>i16</td><td>cat</td><td>cat</td><td>cat</td></tr></thead><tbody><tr><td>13</td><td>15</td><td>6</td><td>822873600000000</td><td>&quot;drama&quot;</td><td>47</td><td>&quot;M&quot;</td><td>&quot;educator&quot;</td><td>&quot;29206&quot;</td></tr><tr><td>54</td><td>125</td><td>5</td><td>836006400000000</td><td>&quot;drama,romance&quot;</td><td>22</td><td>&quot;M&quot;</td><td>&quot;executive&quot;</td><td>&quot;66315&quot;</td></tr><tr><td>54</td><td>300</td><td>2</td><td>852076800000000</td><td>&quot;action,thrille…</td><td>22</td><td>&quot;M&quot;</td><td>&quot;executive&quot;</td><td>&quot;66315&quot;</td></tr><tr><td>54</td><td>323</td><td>10</td><td>855273600000000</td><td>&quot;action,thrille…</td><td>22</td><td>&quot;M&quot;</td><td>&quot;executive&quot;</td><td>&quot;66315&quot;</td></tr><tr><td>102</td><td>237</td><td>6</td><td>850435200000000</td><td>&quot;drama,romance&quot;</td><td>38</td><td>&quot;M&quot;</td><td>&quot;programmer&quot;</td><td>&quot;30220&quot;</td></tr></tbody></table></div>"
      ],
      "text/plain": [
       "shape: (5, 9)\n",
       "┌─────────┬─────────┬──────┬─────────────────┬───┬─────┬────────┬────────────┬──────────┐\n",
       "│ user_id ┆ item_id ┆ rank ┆ release_date    ┆ … ┆ age ┆ gender ┆ occupation ┆ zip_code │\n",
       "│ ---     ┆ ---     ┆ ---  ┆ ---             ┆   ┆ --- ┆ ---    ┆ ---        ┆ ---      │\n",
       "│ u32     ┆ u32     ┆ u32  ┆ i64             ┆   ┆ i16 ┆ cat    ┆ cat        ┆ cat      │\n",
       "╞═════════╪═════════╪══════╪═════════════════╪═══╪═════╪════════╪════════════╪══════════╡\n",
       "│ 13      ┆ 15      ┆ 6    ┆ 822873600000000 ┆ … ┆ 47  ┆ M      ┆ educator   ┆ 29206    │\n",
       "│ 54      ┆ 125     ┆ 5    ┆ 836006400000000 ┆ … ┆ 22  ┆ M      ┆ executive  ┆ 66315    │\n",
       "│ 54      ┆ 300     ┆ 2    ┆ 852076800000000 ┆ … ┆ 22  ┆ M      ┆ executive  ┆ 66315    │\n",
       "│ 54      ┆ 323     ┆ 10   ┆ 855273600000000 ┆ … ┆ 22  ┆ M      ┆ executive  ┆ 66315    │\n",
       "│ 102     ┆ 237     ┆ 6    ┆ 850435200000000 ┆ … ┆ 38  ┆ M      ┆ programmer ┆ 30220    │\n",
       "└─────────┴─────────┴──────┴─────────────────┴───┴─────┴────────┴────────────┴──────────┘"
      ]
     },
     "execution_count": 54,
     "metadata": {},
     "output_type": "execute_result"
    }
   ],
   "source": [
    "test_with_features.head()"
   ]
  },
  {
   "cell_type": "code",
   "execution_count": 55,
   "metadata": {},
   "outputs": [
    {
     "data": {
      "text/plain": [
       "(440, 440)"
      ]
     },
     "execution_count": 55,
     "metadata": {},
     "output_type": "execute_result"
    }
   ],
   "source": [
    "len(test_pred), len(test_with_features)"
   ]
  },
  {
   "cell_type": "code",
   "execution_count": 56,
   "metadata": {},
   "outputs": [],
   "source": [
    "scores = []\n",
    "\n",
    "for user_id, data in test_with_features.groupby(\"user_id\", maintain_order=True):\n",
    "    features = convert_to_features_data(data, [\"rank\", \"item_id\"])\n",
    "    scores.append(ranker.predict(features))"
   ]
  },
  {
   "cell_type": "code",
   "execution_count": 57,
   "metadata": {},
   "outputs": [],
   "source": [
    "ranked_pred = pl.concat([test_with_features, pl.DataFrame({\"score\": np.concatenate(scores, axis=-1)})], how=\"horizontal\")"
   ]
  },
  {
   "cell_type": "code",
   "execution_count": 58,
   "metadata": {},
   "outputs": [],
   "source": [
    "ranked_pred = ranked_pred.sort([\"user_id\", \"score\"], descending=True).with_columns(\n",
    "    (pl.col(\"item_id\").cumcount() + 1).over(\"user_id\").alias(\"new_rank\")\n",
    ")"
   ]
  },
  {
   "cell_type": "code",
   "execution_count": 59,
   "metadata": {},
   "outputs": [
    {
     "data": {
      "text/html": [
       "<div><style>\n",
       ".dataframe > thead > tr > th,\n",
       ".dataframe > tbody > tr > td {\n",
       "  text-align: right;\n",
       "}\n",
       "</style>\n",
       "<small>shape: (5, 11)</small><table border=\"1\" class=\"dataframe\"><thead><tr><th>user_id</th><th>item_id</th><th>rank</th><th>release_date</th><th>genres</th><th>age</th><th>gender</th><th>occupation</th><th>zip_code</th><th>score</th><th>new_rank</th></tr><tr><td>u32</td><td>u32</td><td>u32</td><td>i64</td><td>cat</td><td>i16</td><td>cat</td><td>cat</td><td>cat</td><td>f64</td><td>u32</td></tr></thead><tbody><tr><td>903</td><td>176</td><td>10</td><td>504921600000000</td><td>&quot;action,sci-fi,…</td><td>28</td><td>&quot;M&quot;</td><td>&quot;educator&quot;</td><td>&quot;20850&quot;</td><td>-2.911295</td><td>1</td></tr><tr><td>903</td><td>117</td><td>6</td><td>834105600000000</td><td>&quot;action,adventu…</td><td>28</td><td>&quot;M&quot;</td><td>&quot;educator&quot;</td><td>&quot;20850&quot;</td><td>-3.308877</td><td>2</td></tr><tr><td>903</td><td>69</td><td>7</td><td>757382400000000</td><td>&quot;comedy,romance…</td><td>28</td><td>&quot;M&quot;</td><td>&quot;educator&quot;</td><td>&quot;20850&quot;</td><td>-3.569425</td><td>3</td></tr><tr><td>903</td><td>172</td><td>3</td><td>315532800000000</td><td>&quot;action,adventu…</td><td>28</td><td>&quot;M&quot;</td><td>&quot;educator&quot;</td><td>&quot;20850&quot;</td><td>-3.719976</td><td>4</td></tr><tr><td>903</td><td>56</td><td>2</td><td>757382400000000</td><td>&quot;crime,drama&quot;</td><td>28</td><td>&quot;M&quot;</td><td>&quot;educator&quot;</td><td>&quot;20850&quot;</td><td>-4.752843</td><td>5</td></tr></tbody></table></div>"
      ],
      "text/plain": [
       "shape: (5, 11)\n",
       "┌─────────┬─────────┬──────┬─────────────────┬───┬────────────┬──────────┬───────────┬──────────┐\n",
       "│ user_id ┆ item_id ┆ rank ┆ release_date    ┆ … ┆ occupation ┆ zip_code ┆ score     ┆ new_rank │\n",
       "│ ---     ┆ ---     ┆ ---  ┆ ---             ┆   ┆ ---        ┆ ---      ┆ ---       ┆ ---      │\n",
       "│ u32     ┆ u32     ┆ u32  ┆ i64             ┆   ┆ cat        ┆ cat      ┆ f64       ┆ u32      │\n",
       "╞═════════╪═════════╪══════╪═════════════════╪═══╪════════════╪══════════╪═══════════╪══════════╡\n",
       "│ 903     ┆ 176     ┆ 10   ┆ 504921600000000 ┆ … ┆ educator   ┆ 20850    ┆ -2.911295 ┆ 1        │\n",
       "│ 903     ┆ 117     ┆ 6    ┆ 834105600000000 ┆ … ┆ educator   ┆ 20850    ┆ -3.308877 ┆ 2        │\n",
       "│ 903     ┆ 69      ┆ 7    ┆ 757382400000000 ┆ … ┆ educator   ┆ 20850    ┆ -3.569425 ┆ 3        │\n",
       "│ 903     ┆ 172     ┆ 3    ┆ 315532800000000 ┆ … ┆ educator   ┆ 20850    ┆ -3.719976 ┆ 4        │\n",
       "│ 903     ┆ 56      ┆ 2    ┆ 757382400000000 ┆ … ┆ educator   ┆ 20850    ┆ -4.752843 ┆ 5        │\n",
       "└─────────┴─────────┴──────┴─────────────────┴───┴────────────┴──────────┴───────────┴──────────┘"
      ]
     },
     "execution_count": 59,
     "metadata": {},
     "output_type": "execute_result"
    }
   ],
   "source": [
    "ranked_pred.head()"
   ]
  },
  {
   "cell_type": "code",
   "execution_count": 60,
   "metadata": {},
   "outputs": [],
   "source": [
    "joined_rank_data = join_true_pred_and_preprocess(test, ranked_pred.select(\n",
    "    pl.col([\"user_id\", \"item_id\"]),\n",
    "    pl.col(\"new_rank\").alias(\"rank\")\n",
    "))"
   ]
  },
  {
   "cell_type": "code",
   "execution_count": 61,
   "metadata": {},
   "outputs": [
    {
     "data": {
      "text/plain": [
       "0.13284188946922712"
      ]
     },
     "execution_count": 61,
     "metadata": {},
     "output_type": "execute_result"
    }
   ],
   "source": [
    "mean_average_prec(joined_rank_data)"
   ]
  },
  {
   "cell_type": "code",
   "execution_count": 62,
   "metadata": {},
   "outputs": [
    {
     "data": {
      "text/plain": [
       "0.1390233073839528"
      ]
     },
     "execution_count": 62,
     "metadata": {},
     "output_type": "execute_result"
    }
   ],
   "source": [
    "baseline_map"
   ]
  }
 ],
 "metadata": {
  "kernelspec": {
   "display_name": "recsys",
   "language": "python",
   "name": "python3"
  },
  "language_info": {
   "codemirror_mode": {
    "name": "ipython",
    "version": 3
   },
   "file_extension": ".py",
   "mimetype": "text/x-python",
   "name": "python",
   "nbconvert_exporter": "python",
   "pygments_lexer": "ipython3",
   "version": "3.10.11"
  },
  "orig_nbformat": 4
 },
 "nbformat": 4,
 "nbformat_minor": 2
}
