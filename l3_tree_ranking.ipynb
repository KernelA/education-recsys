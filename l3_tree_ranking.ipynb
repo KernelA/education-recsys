{
 "cells": [
  {
   "cell_type": "code",
   "execution_count": 1,
   "metadata": {},
   "outputs": [],
   "source": [
    "import os\n",
    "from datetime import timedelta, datetime\n",
    "\n",
    "import seaborn as sns\n",
    "import polars as pl\n",
    "import numpy as np\n",
    "from implicit.nearest_neighbours import BM25Recommender\n",
    "from catboost import Pool, CatBoostRanker, FeaturesData"
   ]
  },
  {
   "cell_type": "code",
   "execution_count": 2,
   "metadata": {},
   "outputs": [],
   "source": [
    "sns.set_style(\"darkgrid\")"
   ]
  },
  {
   "cell_type": "code",
   "execution_count": 9,
   "metadata": {},
   "outputs": [
    {
     "name": "stdout",
     "output_type": "stream",
     "text": [
      "The autoreload extension is already loaded. To reload it, use:\n",
      "  %reload_ext autoreload\n"
     ]
    }
   ],
   "source": [
    "%load_ext autoreload\n",
    "%autoreload 2\n",
    "\n",
    "from recs_utils.metrics import compute_metrics, model_cross_validate, mean_average_prec, join_true_pred_and_preprocess\n",
    "from recs_utils.load_data import MTSDataset\n",
    "from recs_utils.split import TimeRangeSplit\n",
    "from recs_utils.implicit_model import ImplicitRecommender\n",
    "from recs_utils.utils import get_direct_and_inv_mapping\n",
    "from recs_utils.ranking import add_features, add_group_ids, features_target_ranking, convert_to_features_data"
   ]
  },
  {
   "cell_type": "code",
   "execution_count": 10,
   "metadata": {},
   "outputs": [],
   "source": [
    "data_dir = \"data\""
   ]
  },
  {
   "cell_type": "code",
   "execution_count": 11,
   "metadata": {},
   "outputs": [],
   "source": [
    "df = MTSDataset.load_interactions(os.path.join(data_dir, \"interactions.csv\"))\n",
    "df_users = MTSDataset.load_users(os.path.join(data_dir, \"users.csv\"))\n",
    "df_items = MTSDataset.select_genres(MTSDataset.load_items(os.path.join(data_dir, \"items.csv\")), 0.98)"
   ]
  },
  {
   "cell_type": "code",
   "execution_count": 12,
   "metadata": {},
   "outputs": [],
   "source": [
    "df = df.filter(pl.col(\"item_id\").is_in(df_items.select(pl.col(\"item_id\").unique()).to_series()) & \n",
    "          pl.col(\"user_id\").is_in(df_users.select(pl.col(\"user_id\").unique()).to_series())\n",
    ")"
   ]
  },
  {
   "cell_type": "code",
   "execution_count": 13,
   "metadata": {},
   "outputs": [],
   "source": [
    "num_items = df.select(pl.col(\"item_id\").n_unique())[0, 0]"
   ]
  },
  {
   "attachments": {},
   "cell_type": "markdown",
   "metadata": {},
   "source": [
    "По причинам произвоидительности берём только элементы с наибольшим количеством оценок"
   ]
  },
  {
   "cell_type": "code",
   "execution_count": 14,
   "metadata": {},
   "outputs": [],
   "source": [
    "selected_item_ids = df.lazy().groupby(\"item_id\").count().top_k(min(20_000, num_items), by=\"count\").select(pl.col(\"item_id\").unique()).collect().to_series()"
   ]
  },
  {
   "cell_type": "code",
   "execution_count": 16,
   "metadata": {},
   "outputs": [],
   "source": [
    "df = df.filter(pl.col(\"item_id\").is_in(selected_item_ids))"
   ]
  },
  {
   "cell_type": "code",
   "execution_count": 17,
   "metadata": {},
   "outputs": [],
   "source": [
    "del selected_item_ids"
   ]
  },
  {
   "cell_type": "code",
   "execution_count": 18,
   "metadata": {},
   "outputs": [
    {
     "data": {
      "text/plain": [
       "903513"
      ]
     },
     "execution_count": 18,
     "metadata": {},
     "output_type": "execute_result"
    }
   ],
   "source": [
    "len(df)"
   ]
  },
  {
   "cell_type": "code",
   "execution_count": 19,
   "metadata": {},
   "outputs": [
    {
     "data": {
      "text/html": [
       "<div><style>\n",
       ".dataframe > thead > tr > th,\n",
       ".dataframe > tbody > tr > td {\n",
       "  text-align: right;\n",
       "}\n",
       "</style>\n",
       "<small>shape: (5, 5)</small><table border=\"1\" class=\"dataframe\"><thead><tr><th>user_id</th><th>item_id</th><th>progress</th><th>rating</th><th>start_date</th></tr><tr><td>u32</td><td>u32</td><td>u8</td><td>f32</td><td>date</td></tr></thead><tbody><tr><td>126706</td><td>14433</td><td>80</td><td>NaN</td><td>2018-01-01</td></tr><tr><td>127451</td><td>14876</td><td>69</td><td>NaN</td><td>2018-01-01</td></tr><tr><td>47287</td><td>258483</td><td>22</td><td>NaN</td><td>2018-01-01</td></tr><tr><td>47551</td><td>64060</td><td>55</td><td>NaN</td><td>2018-01-01</td></tr><tr><td>59484</td><td>161786</td><td>27</td><td>NaN</td><td>2018-01-01</td></tr></tbody></table></div>"
      ],
      "text/plain": [
       "shape: (5, 5)\n",
       "┌─────────┬─────────┬──────────┬────────┬────────────┐\n",
       "│ user_id ┆ item_id ┆ progress ┆ rating ┆ start_date │\n",
       "│ ---     ┆ ---     ┆ ---      ┆ ---    ┆ ---        │\n",
       "│ u32     ┆ u32     ┆ u8       ┆ f32    ┆ date       │\n",
       "╞═════════╪═════════╪══════════╪════════╪════════════╡\n",
       "│ 126706  ┆ 14433   ┆ 80       ┆ NaN    ┆ 2018-01-01 │\n",
       "│ 127451  ┆ 14876   ┆ 69       ┆ NaN    ┆ 2018-01-01 │\n",
       "│ 47287   ┆ 258483  ┆ 22       ┆ NaN    ┆ 2018-01-01 │\n",
       "│ 47551   ┆ 64060   ┆ 55       ┆ NaN    ┆ 2018-01-01 │\n",
       "│ 59484   ┆ 161786  ┆ 27       ┆ NaN    ┆ 2018-01-01 │\n",
       "└─────────┴─────────┴──────────┴────────┴────────────┘"
      ]
     },
     "execution_count": 19,
     "metadata": {},
     "output_type": "execute_result"
    }
   ],
   "source": [
    "df.head()"
   ]
  },
  {
   "cell_type": "code",
   "execution_count": 20,
   "metadata": {},
   "outputs": [
    {
     "data": {
      "text/html": [
       "<div><style>\n",
       ".dataframe > thead > tr > th,\n",
       ".dataframe > tbody > tr > td {\n",
       "  text-align: right;\n",
       "}\n",
       "</style>\n",
       "<small>shape: (5, 3)</small><table border=\"1\" class=\"dataframe\"><thead><tr><th>user_id</th><th>age</th><th>sex</th></tr><tr><td>u32</td><td>cat</td><td>i8</td></tr></thead><tbody><tr><td>1</td><td>&quot;45_54&quot;</td><td>null</td></tr><tr><td>2</td><td>&quot;18_24&quot;</td><td>0</td></tr><tr><td>3</td><td>&quot;65_inf&quot;</td><td>0</td></tr><tr><td>4</td><td>&quot;18_24&quot;</td><td>0</td></tr><tr><td>5</td><td>&quot;35_44&quot;</td><td>0</td></tr></tbody></table></div>"
      ],
      "text/plain": [
       "shape: (5, 3)\n",
       "┌─────────┬────────┬──────┐\n",
       "│ user_id ┆ age    ┆ sex  │\n",
       "│ ---     ┆ ---    ┆ ---  │\n",
       "│ u32     ┆ cat    ┆ i8   │\n",
       "╞═════════╪════════╪══════╡\n",
       "│ 1       ┆ 45_54  ┆ null │\n",
       "│ 2       ┆ 18_24  ┆ 0    │\n",
       "│ 3       ┆ 65_inf ┆ 0    │\n",
       "│ 4       ┆ 18_24  ┆ 0    │\n",
       "│ 5       ┆ 35_44  ┆ 0    │\n",
       "└─────────┴────────┴──────┘"
      ]
     },
     "execution_count": 20,
     "metadata": {},
     "output_type": "execute_result"
    }
   ],
   "source": [
    "df_users.head()"
   ]
  },
  {
   "cell_type": "code",
   "execution_count": 21,
   "metadata": {},
   "outputs": [
    {
     "data": {
      "text/html": [
       "<div><style>\n",
       ".dataframe > thead > tr > th,\n",
       ".dataframe > tbody > tr > td {\n",
       "  text-align: right;\n",
       "}\n",
       "</style>\n",
       "<small>shape: (5, 5)</small><table border=\"1\" class=\"dataframe\"><thead><tr><th>item_id</th><th>title</th><th>genres</th><th>authors</th><th>year</th></tr><tr><td>u32</td><td>str</td><td>str</td><td>cat</td><td>cat</td></tr></thead><tbody><tr><td>128115</td><td>&quot;ворон-челобитч…</td><td>&quot;зарубежная кла…</td><td>&quot;Михаил Салтыко…</td><td>&quot;1886&quot;</td></tr><tr><td>210979</td><td>&quot;скрипка ротшил…</td><td>&quot;классическая п…</td><td>&quot;Антон Чехов&quot;</td><td>&quot;1894&quot;</td></tr><tr><td>95632</td><td>&quot;испорченные де…</td><td>&quot;зарубежная кла…</td><td>&quot;Михаил Салтыко…</td><td>&quot;1869&quot;</td></tr><tr><td>247906</td><td>&quot;странный челов…</td><td>&quot;литература 19 …</td><td>&quot;Михаил Лермонт…</td><td>&quot;1831&quot;</td></tr><tr><td>294280</td><td>&quot;господа ташкен…</td><td>&quot;зарубежная кла…</td><td>&quot;Михаил Салтыко…</td><td>&quot;1873&quot;</td></tr></tbody></table></div>"
      ],
      "text/plain": [
       "shape: (5, 5)\n",
       "┌─────────┬───────────────────┬───────────────────────────────────┬────────────────────────┬──────┐\n",
       "│ item_id ┆ title             ┆ genres                            ┆ authors                ┆ year │\n",
       "│ ---     ┆ ---               ┆ ---                               ┆ ---                    ┆ ---  │\n",
       "│ u32     ┆ str               ┆ str                               ┆ cat                    ┆ cat  │\n",
       "╞═════════╪═══════════════════╪═══════════════════════════════════╪════════════════════════╪══════╡\n",
       "│ 128115  ┆ ворон-челобитчик  ┆ зарубежная классика,зарубежные д… ┆ Михаил Салтыков-Щедрин ┆ 1886 │\n",
       "│ 210979  ┆ скрипка ротшильда ┆ классическая проза,литература 19… ┆ Антон Чехов            ┆ 1894 │\n",
       "│ 95632   ┆ испорченные дети  ┆ зарубежная классика,классическая… ┆ Михаил Салтыков-Щедрин ┆ 1869 │\n",
       "│ 247906  ┆ странный человек  ┆ литература 19 века,пьесы и драма… ┆ Михаил Лермонтов       ┆ 1831 │\n",
       "│ 294280  ┆ господа ташкентцы ┆ зарубежная классика,классическая… ┆ Михаил Салтыков-Щедрин ┆ 1873 │\n",
       "└─────────┴───────────────────┴───────────────────────────────────┴────────────────────────┴──────┘"
      ]
     },
     "execution_count": 21,
     "metadata": {},
     "output_type": "execute_result"
    }
   ],
   "source": [
    "df_items.head()"
   ]
  },
  {
   "cell_type": "code",
   "execution_count": 22,
   "metadata": {},
   "outputs": [
    {
     "data": {
      "text/plain": [
       "134947"
      ]
     },
     "execution_count": 22,
     "metadata": {},
     "output_type": "execute_result"
    }
   ],
   "source": [
    "users_mapping, users_inv_mapping = get_direct_and_inv_mapping(df, \"user_id\")\n",
    "len(users_mapping)"
   ]
  },
  {
   "cell_type": "code",
   "execution_count": 23,
   "metadata": {},
   "outputs": [
    {
     "data": {
      "text/plain": [
       "20000"
      ]
     },
     "execution_count": 23,
     "metadata": {},
     "output_type": "execute_result"
    }
   ],
   "source": [
    "items_mapping, items_inv_mapping = get_direct_and_inv_mapping(df, \"item_id\")\n",
    "len(items_mapping)"
   ]
  },
  {
   "cell_type": "code",
   "execution_count": 24,
   "metadata": {},
   "outputs": [
    {
     "data": {
      "text/plain": [
       "(datetime.date(2019, 12, 10), datetime.date(2019, 12, 31))"
      ]
     },
     "execution_count": 24,
     "metadata": {},
     "output_type": "execute_result"
    }
   ],
   "source": [
    "last_date = df.select(pl.col(\"start_date\").max())[0, 0]\n",
    "folds = 3\n",
    "start_date = last_date - timedelta(weeks=folds)\n",
    "start_date, last_date"
   ]
  },
  {
   "cell_type": "code",
   "execution_count": 25,
   "metadata": {},
   "outputs": [
    {
     "data": {
      "text/plain": [
       "(3, 3)"
      ]
     },
     "execution_count": 25,
     "metadata": {},
     "output_type": "execute_result"
    }
   ],
   "source": [
    "cv = TimeRangeSplit(start_date=start_date, folds=folds, interval=timedelta(weeks=1))\n",
    "cv.max_n_splits, cv.get_n_splits(df, datetime_column='start_date')"
   ]
  },
  {
   "cell_type": "code",
   "execution_count": 26,
   "metadata": {},
   "outputs": [],
   "source": [
    "folds_with_stats = list(cv.split(\n",
    "    df, \n",
    "    user_column='user_id',\n",
    "    item_column='item_id',\n",
    "    datetime_column='start_date',\n",
    "    fold_stats=True\n",
    ")\n",
    ")\n",
    "\n",
    "folds_info_with_stats = pl.from_dicts([info for _, _, info in folds_with_stats])"
   ]
  },
  {
   "cell_type": "code",
   "execution_count": 27,
   "metadata": {},
   "outputs": [
    {
     "data": {
      "text/html": [
       "<div><style>\n",
       ".dataframe > thead > tr > th,\n",
       ".dataframe > tbody > tr > td {\n",
       "  text-align: right;\n",
       "}\n",
       "</style>\n",
       "<small>shape: (3, 9)</small><table border=\"1\" class=\"dataframe\"><thead><tr><th>Start date</th><th>End date</th><th>Train</th><th>New users</th><th>New users interactions</th><th>New items</th><th>New items interactions</th><th>Known interactions</th><th>Test</th></tr><tr><td>date</td><td>date</td><td>i64</td><td>i64</td><td>i64</td><td>i64</td><td>i64</td><td>i64</td><td>i64</td></tr></thead><tbody><tr><td>2019-12-10</td><td>2019-12-17</td><td>878312</td><td>173</td><td>261</td><td>0</td><td>0</td><td>0</td><td>7877</td></tr><tr><td>2019-12-17</td><td>2019-12-24</td><td>886450</td><td>177</td><td>240</td><td>0</td><td>0</td><td>0</td><td>7780</td></tr><tr><td>2019-12-24</td><td>2019-12-31</td><td>894470</td><td>191</td><td>261</td><td>0</td><td>0</td><td>0</td><td>7862</td></tr></tbody></table></div>"
      ],
      "text/plain": [
       "shape: (3, 9)\n",
       "┌────────────┬────────────┬────────┬───────────┬───┬───────────┬────────────┬───────────────┬──────┐\n",
       "│ Start date ┆ End date   ┆ Train  ┆ New users ┆ … ┆ New items ┆ New items  ┆ Known         ┆ Test │\n",
       "│ ---        ┆ ---        ┆ ---    ┆ ---       ┆   ┆ ---       ┆ interactio ┆ interactions  ┆ ---  │\n",
       "│ date       ┆ date       ┆ i64    ┆ i64       ┆   ┆ i64       ┆ ns         ┆ ---           ┆ i64  │\n",
       "│            ┆            ┆        ┆           ┆   ┆           ┆ ---        ┆ i64           ┆      │\n",
       "│            ┆            ┆        ┆           ┆   ┆           ┆ i64        ┆               ┆      │\n",
       "╞════════════╪════════════╪════════╪═══════════╪═══╪═══════════╪════════════╪═══════════════╪══════╡\n",
       "│ 2019-12-10 ┆ 2019-12-17 ┆ 878312 ┆ 173       ┆ … ┆ 0         ┆ 0          ┆ 0             ┆ 7877 │\n",
       "│ 2019-12-17 ┆ 2019-12-24 ┆ 886450 ┆ 177       ┆ … ┆ 0         ┆ 0          ┆ 0             ┆ 7780 │\n",
       "│ 2019-12-24 ┆ 2019-12-31 ┆ 894470 ┆ 191       ┆ … ┆ 0         ┆ 0          ┆ 0             ┆ 7862 │\n",
       "└────────────┴────────────┴────────┴───────────┴───┴───────────┴────────────┴───────────────┴──────┘"
      ]
     },
     "execution_count": 27,
     "metadata": {},
     "output_type": "execute_result"
    }
   ],
   "source": [
    "folds_info_with_stats"
   ]
  },
  {
   "cell_type": "code",
   "execution_count": 28,
   "metadata": {},
   "outputs": [],
   "source": [
    "top_N = 10\n",
    "num_neg_samples = 5"
   ]
  },
  {
   "cell_type": "code",
   "execution_count": 29,
   "metadata": {},
   "outputs": [],
   "source": [
    "top_N_negative_sampling = top_N * 2"
   ]
  },
  {
   "cell_type": "code",
   "execution_count": 71,
   "metadata": {},
   "outputs": [
    {
     "data": {
      "text/plain": [
       "((878312, 5), (7877, 5))"
      ]
     },
     "execution_count": 71,
     "metadata": {},
     "output_type": "execute_result"
    }
   ],
   "source": [
    "train_idx, test_idx, info = folds_with_stats[0]\n",
    "\n",
    "train = df.join(train_idx, on=[\"user_id\", \"item_id\"], how=\"inner\")\n",
    "test = df.join(test_idx, on=[\"user_id\", \"item_id\"], how=\"inner\")\n",
    "train.shape, test.shape"
   ]
  },
  {
   "cell_type": "code",
   "execution_count": 72,
   "metadata": {},
   "outputs": [],
   "source": [
    "recommender = ImplicitRecommender(\n",
    "    BM25Recommender(K=top_N_negative_sampling),\n",
    "    users_mapping, \n",
    "    items_mapping,\n",
    "    items_inv_mapping\n",
    ")"
   ]
  },
  {
   "cell_type": "code",
   "execution_count": 73,
   "metadata": {},
   "outputs": [
    {
     "name": "stderr",
     "output_type": "stream",
     "text": [
      "/home/alex/miniconda3/envs/recsys/lib/python3.10/site-packages/implicit/utils.py:138: ParameterWarning: Method expects CSR input, and was passed coo_matrix instead. Converting to CSR took 0.006108999252319336 seconds\n",
      "  warnings.warn(\n"
     ]
    },
    {
     "data": {
      "application/vnd.jupyter.widget-view+json": {
       "model_id": "e168e7caa35947c3ab50ff0def003f1d",
       "version_major": 2,
       "version_minor": 0
      },
      "text/plain": [
       "  0%|          | 0/20000 [00:00<?, ?it/s]"
      ]
     },
     "metadata": {},
     "output_type": "display_data"
    }
   ],
   "source": [
    "recommender.fit(train)"
   ]
  },
  {
   "cell_type": "code",
   "execution_count": 74,
   "metadata": {},
   "outputs": [],
   "source": [
    "train_pred_neg_sampling = recommender.recommend(\n",
    "    train.select(pl.col(\"user_id\").unique()).to_series(), \n",
    "    n=top_N_negative_sampling)"
   ]
  },
  {
   "cell_type": "code",
   "execution_count": 75,
   "metadata": {},
   "outputs": [],
   "source": [
    "test_pred = recommender.recommend(\n",
    "    test.select(pl.col(\"user_id\").unique()).to_series(), \n",
    "    n=top_N)"
   ]
  },
  {
   "cell_type": "code",
   "execution_count": 76,
   "metadata": {},
   "outputs": [],
   "source": [
    "baseline_map = mean_average_prec(join_true_pred_and_preprocess(test, test_pred))"
   ]
  },
  {
   "cell_type": "code",
   "execution_count": 78,
   "metadata": {},
   "outputs": [
    {
     "data": {
      "text/plain": [
       "0.018184587227608056"
      ]
     },
     "execution_count": 78,
     "metadata": {},
     "output_type": "execute_result"
    }
   ],
   "source": [
    "baseline_map"
   ]
  },
  {
   "cell_type": "code",
   "execution_count": 79,
   "metadata": {},
   "outputs": [],
   "source": [
    "train_pred_neg_sampling = train_pred_neg_sampling.filter(pl.col(\"item_id\").is_not_null())"
   ]
  },
  {
   "cell_type": "code",
   "execution_count": 80,
   "metadata": {},
   "outputs": [],
   "source": [
    "neg_samples = train_pred_neg_sampling.lazy().groupby(\"user_id\").agg(\n",
    "    [\n",
    "        pl.col(\"item_id\").implode().flatten().alias(\"neg_item_id\"),\n",
    "    ]\n",
    ").collect()"
   ]
  },
  {
   "cell_type": "code",
   "execution_count": 81,
   "metadata": {},
   "outputs": [],
   "source": [
    "neg_train = train.lazy().select(pl.col(\"user_id\"), pl.col(\"start_date\")).unique().join(neg_samples.lazy(), on=\"user_id\").select(\n",
    "    pl.col(\"user_id\"),\n",
    "    pl.col(\"neg_item_id\").apply(lambda x: x.sample(n=num_neg_samples, seed=232443)).alias(\"item_id\"),\n",
    "    pl.col(\"start_date\"),\n",
    "    pl.lit(0).alias(\"target\")\n",
    ").explode(\"item_id\").join(\n",
    "    train.lazy().select(pl.col(\"user_id\"), pl.col(\"item_id\"), pl.col(\"start_date\")).unique(), on=[\"user_id\", \"item_id\", \"start_date\"], how=\"anti\").collect()"
   ]
  },
  {
   "cell_type": "code",
   "execution_count": 82,
   "metadata": {},
   "outputs": [
    {
     "data": {
      "text/html": [
       "<div><style>\n",
       ".dataframe > thead > tr > th,\n",
       ".dataframe > tbody > tr > td {\n",
       "  text-align: right;\n",
       "}\n",
       "</style>\n",
       "<small>shape: (3, 2)</small><table border=\"1\" class=\"dataframe\"><thead><tr><th>user_id</th><th>neg_item_id</th></tr><tr><td>u32</td><td>list[u32]</td></tr></thead><tbody><tr><td>152024</td><td>[81693, 48361, … 63000]</td></tr><tr><td>152848</td><td>[152558, 275805, … 291560]</td></tr><tr><td>128608</td><td>[103229, 262016, … 27600]</td></tr></tbody></table></div>"
      ],
      "text/plain": [
       "shape: (3, 2)\n",
       "┌─────────┬────────────────────────────┐\n",
       "│ user_id ┆ neg_item_id                │\n",
       "│ ---     ┆ ---                        │\n",
       "│ u32     ┆ list[u32]                  │\n",
       "╞═════════╪════════════════════════════╡\n",
       "│ 152024  ┆ [81693, 48361, … 63000]    │\n",
       "│ 152848  ┆ [152558, 275805, … 291560] │\n",
       "│ 128608  ┆ [103229, 262016, … 27600]  │\n",
       "└─────────┴────────────────────────────┘"
      ]
     },
     "execution_count": 82,
     "metadata": {},
     "output_type": "execute_result"
    }
   ],
   "source": [
    "neg_samples.head(n=3)"
   ]
  },
  {
   "cell_type": "code",
   "execution_count": 83,
   "metadata": {},
   "outputs": [],
   "source": [
    "del neg_samples"
   ]
  },
  {
   "cell_type": "code",
   "execution_count": 84,
   "metadata": {},
   "outputs": [],
   "source": [
    "train_full = train.select(\n",
    "    pl.col(\"user_id\"),\n",
    "    pl.col(\"item_id\"),\n",
    "    pl.col(\"start_date\"),\n",
    "    pl.lit(1).alias(\"target\")\n",
    ").vstack(neg_train)"
   ]
  },
  {
   "cell_type": "code",
   "execution_count": 85,
   "metadata": {},
   "outputs": [],
   "source": [
    "del train\n",
    "del neg_train"
   ]
  },
  {
   "cell_type": "code",
   "execution_count": 86,
   "metadata": {},
   "outputs": [],
   "source": [
    "assert train_full.groupby([\"user_id\", \"item_id\", \"start_date\"]).count().filter(\n",
    "    pl.col(\"count\") > 1).is_empty(), \"(user_id, item_id, start_date) must be unique but found duplicates\"\n"
   ]
  },
  {
   "cell_type": "code",
   "execution_count": 87,
   "metadata": {},
   "outputs": [
    {
     "data": {
      "text/html": [
       "<div><style>\n",
       ".dataframe > thead > tr > th,\n",
       ".dataframe > tbody > tr > td {\n",
       "  text-align: right;\n",
       "}\n",
       "</style>\n",
       "<small>shape: (5, 4)</small><table border=\"1\" class=\"dataframe\"><thead><tr><th>user_id</th><th>item_id</th><th>start_date</th><th>target</th></tr><tr><td>u32</td><td>u32</td><td>date</td><td>i32</td></tr></thead><tbody><tr><td>1</td><td>284459</td><td>2018-02-26</td><td>1</td></tr><tr><td>1</td><td>52368</td><td>2018-02-26</td><td>0</td></tr><tr><td>1</td><td>150986</td><td>2018-02-26</td><td>0</td></tr><tr><td>1</td><td>286091</td><td>2018-02-26</td><td>0</td></tr><tr><td>1</td><td>184147</td><td>2018-02-26</td><td>0</td></tr></tbody></table></div>"
      ],
      "text/plain": [
       "shape: (5, 4)\n",
       "┌─────────┬─────────┬────────────┬────────┐\n",
       "│ user_id ┆ item_id ┆ start_date ┆ target │\n",
       "│ ---     ┆ ---     ┆ ---        ┆ ---    │\n",
       "│ u32     ┆ u32     ┆ date       ┆ i32    │\n",
       "╞═════════╪═════════╪════════════╪════════╡\n",
       "│ 1       ┆ 284459  ┆ 2018-02-26 ┆ 1      │\n",
       "│ 1       ┆ 52368   ┆ 2018-02-26 ┆ 0      │\n",
       "│ 1       ┆ 150986  ┆ 2018-02-26 ┆ 0      │\n",
       "│ 1       ┆ 286091  ┆ 2018-02-26 ┆ 0      │\n",
       "│ 1       ┆ 184147  ┆ 2018-02-26 ┆ 0      │\n",
       "└─────────┴─────────┴────────────┴────────┘"
      ]
     },
     "execution_count": 87,
     "metadata": {},
     "output_type": "execute_result"
    }
   ],
   "source": [
    "train_full.sort([\"user_id\", \"start_date\"]).head()"
   ]
  },
  {
   "cell_type": "code",
   "execution_count": 88,
   "metadata": {},
   "outputs": [],
   "source": [
    "df_users_features  = df_users.with_columns(\n",
    "    pl.col(\"age\").cast(str).fill_null(\"unknown\"),\n",
    "    pl.col(\"sex\").cast(str).fill_null(\"unknown\")\n",
    ")"
   ]
  },
  {
   "cell_type": "code",
   "execution_count": 89,
   "metadata": {},
   "outputs": [],
   "source": [
    "df_items_features = df_items.select(\n",
    "    pl.col(\"item_id\"),\n",
    "    pl.col(\"genres\"),\n",
    "    pl.col(\"year\")\n",
    ").with_columns(\n",
    "    pl.col(\"genres\").cast(str).fill_null(\"genre_unknown\").alias(\"genres\"),\n",
    "    pl.col(\"year\").cast(str).fill_null(\"unknown\").alias(\"year\")\n",
    ")"
   ]
  },
  {
   "cell_type": "code",
   "execution_count": 90,
   "metadata": {},
   "outputs": [],
   "source": [
    "train_full = add_features(train_full, df_items_features, df_users_features)"
   ]
  },
  {
   "cell_type": "code",
   "execution_count": 91,
   "metadata": {},
   "outputs": [
    {
     "data": {
      "text/html": [
       "<div><style>\n",
       ".dataframe > thead > tr > th,\n",
       ".dataframe > tbody > tr > td {\n",
       "  text-align: right;\n",
       "}\n",
       "</style>\n",
       "<small>shape: (3, 8)</small><table border=\"1\" class=\"dataframe\"><thead><tr><th>user_id</th><th>item_id</th><th>start_date</th><th>target</th><th>age</th><th>sex</th><th>genres</th><th>year</th></tr><tr><td>u32</td><td>u32</td><td>date</td><td>i32</td><td>str</td><td>str</td><td>str</td><td>str</td></tr></thead><tbody><tr><td>126706</td><td>14433</td><td>2018-01-01</td><td>1</td><td>&quot;25_34&quot;</td><td>&quot;0&quot;</td><td>&quot;историческая л…</td><td>&quot;2007&quot;</td></tr><tr><td>127451</td><td>14876</td><td>2018-01-01</td><td>1</td><td>&quot;45_54&quot;</td><td>&quot;0&quot;</td><td>&quot;зарубежные дет…</td><td>&quot;1843&quot;</td></tr><tr><td>47287</td><td>258483</td><td>2018-01-01</td><td>1</td><td>&quot;18_24&quot;</td><td>&quot;0&quot;</td><td>&quot;боевая фантаст…</td><td>&quot;2018&quot;</td></tr></tbody></table></div>"
      ],
      "text/plain": [
       "shape: (3, 8)\n",
       "┌─────────┬─────────┬────────────┬────────┬───────┬─────┬───────────────────────────────────┬──────┐\n",
       "│ user_id ┆ item_id ┆ start_date ┆ target ┆ age   ┆ sex ┆ genres                            ┆ year │\n",
       "│ ---     ┆ ---     ┆ ---        ┆ ---    ┆ ---   ┆ --- ┆ ---                               ┆ ---  │\n",
       "│ u32     ┆ u32     ┆ date       ┆ i32    ┆ str   ┆ str ┆ str                               ┆ str  │\n",
       "╞═════════╪═════════╪════════════╪════════╪═══════╪═════╪═══════════════════════════════════╪══════╡\n",
       "│ 126706  ┆ 14433   ┆ 2018-01-01 ┆ 1      ┆ 25_34 ┆ 0   ┆ историческая литература,историче… ┆ 2007 │\n",
       "│ 127451  ┆ 14876   ┆ 2018-01-01 ┆ 1      ┆ 45_54 ┆ 0   ┆ зарубежные детские книги,сказки   ┆ 1843 │\n",
       "│ 47287   ┆ 258483  ┆ 2018-01-01 ┆ 1      ┆ 18_24 ┆ 0   ┆ боевая фантастика,космическая фа… ┆ 2018 │\n",
       "└─────────┴─────────┴────────────┴────────┴───────┴─────┴───────────────────────────────────┴──────┘"
      ]
     },
     "execution_count": 91,
     "metadata": {},
     "output_type": "execute_result"
    }
   ],
   "source": [
    "train_full.head(n=3)"
   ]
  },
  {
   "cell_type": "code",
   "execution_count": 92,
   "metadata": {},
   "outputs": [],
   "source": [
    "train_full = train_full.with_columns(pl.col(\"start_date\").dt.timestamp(\"us\"))"
   ]
  },
  {
   "cell_type": "code",
   "execution_count": 93,
   "metadata": {},
   "outputs": [
    {
     "data": {
      "text/html": [
       "<div><style>\n",
       ".dataframe > thead > tr > th,\n",
       ".dataframe > tbody > tr > td {\n",
       "  text-align: right;\n",
       "}\n",
       "</style>\n",
       "<small>shape: (5, 8)</small><table border=\"1\" class=\"dataframe\"><thead><tr><th>user_id</th><th>item_id</th><th>start_date</th><th>target</th><th>age</th><th>sex</th><th>genres</th><th>year</th></tr><tr><td>u32</td><td>u32</td><td>i64</td><td>i32</td><td>str</td><td>str</td><td>str</td><td>str</td></tr></thead><tbody><tr><td>126706</td><td>14433</td><td>1514764800000000</td><td>1</td><td>&quot;25_34&quot;</td><td>&quot;0&quot;</td><td>&quot;историческая л…</td><td>&quot;2007&quot;</td></tr><tr><td>127451</td><td>14876</td><td>1514764800000000</td><td>1</td><td>&quot;45_54&quot;</td><td>&quot;0&quot;</td><td>&quot;зарубежные дет…</td><td>&quot;1843&quot;</td></tr><tr><td>47287</td><td>258483</td><td>1514764800000000</td><td>1</td><td>&quot;18_24&quot;</td><td>&quot;0&quot;</td><td>&quot;боевая фантаст…</td><td>&quot;2018&quot;</td></tr><tr><td>47551</td><td>64060</td><td>1514764800000000</td><td>1</td><td>&quot;35_44&quot;</td><td>&quot;unknown&quot;</td><td>&quot;современные де…</td><td>&quot;2002&quot;</td></tr><tr><td>59484</td><td>161786</td><td>1514764800000000</td><td>1</td><td>&quot;45_54&quot;</td><td>&quot;1&quot;</td><td>&quot;научная фантас…</td><td>&quot;1989&quot;</td></tr></tbody></table></div>"
      ],
      "text/plain": [
       "shape: (5, 8)\n",
       "┌─────────┬─────────┬──────────────────┬────────┬───────┬─────────┬─────────────────────────┬──────┐\n",
       "│ user_id ┆ item_id ┆ start_date       ┆ target ┆ age   ┆ sex     ┆ genres                  ┆ year │\n",
       "│ ---     ┆ ---     ┆ ---              ┆ ---    ┆ ---   ┆ ---     ┆ ---                     ┆ ---  │\n",
       "│ u32     ┆ u32     ┆ i64              ┆ i32    ┆ str   ┆ str     ┆ str                     ┆ str  │\n",
       "╞═════════╪═════════╪══════════════════╪════════╪═══════╪═════════╪═════════════════════════╪══════╡\n",
       "│ 126706  ┆ 14433   ┆ 1514764800000000 ┆ 1      ┆ 25_34 ┆ 0       ┆ историческая            ┆ 2007 │\n",
       "│         ┆         ┆                  ┆        ┆       ┆         ┆ литература,историче…    ┆      │\n",
       "│ 127451  ┆ 14876   ┆ 1514764800000000 ┆ 1      ┆ 45_54 ┆ 0       ┆ зарубежные детские      ┆ 1843 │\n",
       "│         ┆         ┆                  ┆        ┆       ┆         ┆ книги,сказки            ┆      │\n",
       "│ 47287   ┆ 258483  ┆ 1514764800000000 ┆ 1      ┆ 18_24 ┆ 0       ┆ боевая                  ┆ 2018 │\n",
       "│         ┆         ┆                  ┆        ┆       ┆         ┆ фантастика,космическая  ┆      │\n",
       "│         ┆         ┆                  ┆        ┆       ┆         ┆ фа…                     ┆      │\n",
       "│ 47551   ┆ 64060   ┆ 1514764800000000 ┆ 1      ┆ 35_44 ┆ unknown ┆ современные детективы   ┆ 2002 │\n",
       "│ 59484   ┆ 161786  ┆ 1514764800000000 ┆ 1      ┆ 45_54 ┆ 1       ┆ научная фантастика      ┆ 1989 │\n",
       "└─────────┴─────────┴──────────────────┴────────┴───────┴─────────┴─────────────────────────┴──────┘"
      ]
     },
     "execution_count": 93,
     "metadata": {},
     "output_type": "execute_result"
    }
   ],
   "source": [
    "train_full.head()"
   ]
  },
  {
   "cell_type": "code",
   "execution_count": 94,
   "metadata": {},
   "outputs": [],
   "source": [
    "train_full = add_group_ids(train_full, [\"user_id\", \"start_date\"])"
   ]
  },
  {
   "cell_type": "code",
   "execution_count": 95,
   "metadata": {},
   "outputs": [
    {
     "data": {
      "text/html": [
       "<div><style>\n",
       ".dataframe > thead > tr > th,\n",
       ".dataframe > tbody > tr > td {\n",
       "  text-align: right;\n",
       "}\n",
       "</style>\n",
       "<small>shape: (5, 9)</small><table border=\"1\" class=\"dataframe\"><thead><tr><th>user_id</th><th>item_id</th><th>start_date</th><th>target</th><th>age</th><th>sex</th><th>genres</th><th>year</th><th>group_id</th></tr><tr><td>u32</td><td>u32</td><td>i64</td><td>i32</td><td>str</td><td>str</td><td>str</td><td>str</td><td>u32</td></tr></thead><tbody><tr><td>133008</td><td>281585</td><td>1514764800000000</td><td>1</td><td>&quot;25_34&quot;</td><td>&quot;1&quot;</td><td>&quot;зарубежная кла…</td><td>&quot;1853&quot;</td><td>0</td></tr><tr><td>133008</td><td>39160</td><td>1514764800000000</td><td>0</td><td>&quot;25_34&quot;</td><td>&quot;1&quot;</td><td>&quot;современные де…</td><td>&quot;2018&quot;</td><td>0</td></tr><tr><td>133008</td><td>271233</td><td>1514764800000000</td><td>0</td><td>&quot;25_34&quot;</td><td>&quot;1&quot;</td><td>&quot;остросюжетные …</td><td>&quot;2005&quot;</td><td>0</td></tr><tr><td>133008</td><td>70926</td><td>1514764800000000</td><td>0</td><td>&quot;25_34&quot;</td><td>&quot;1&quot;</td><td>&quot;современные де…</td><td>&quot;2018&quot;</td><td>0</td></tr><tr><td>133008</td><td>164367</td><td>1514764800000000</td><td>0</td><td>&quot;25_34&quot;</td><td>&quot;1&quot;</td><td>&quot;современные де…</td><td>&quot;unknown&quot;</td><td>0</td></tr></tbody></table></div>"
      ],
      "text/plain": [
       "shape: (5, 9)\n",
       "┌─────────┬─────────┬──────────────────┬────────┬───┬─────┬───────────────────┬─────────┬──────────┐\n",
       "│ user_id ┆ item_id ┆ start_date       ┆ target ┆ … ┆ sex ┆ genres            ┆ year    ┆ group_id │\n",
       "│ ---     ┆ ---     ┆ ---              ┆ ---    ┆   ┆ --- ┆ ---               ┆ ---     ┆ ---      │\n",
       "│ u32     ┆ u32     ┆ i64              ┆ i32    ┆   ┆ str ┆ str               ┆ str     ┆ u32      │\n",
       "╞═════════╪═════════╪══════════════════╪════════╪═══╪═════╪═══════════════════╪═════════╪══════════╡\n",
       "│ 133008  ┆ 281585  ┆ 1514764800000000 ┆ 1      ┆ … ┆ 1   ┆ зарубежная класси ┆ 1853    ┆ 0        │\n",
       "│         ┆         ┆                  ┆        ┆   ┆     ┆ ка,литература 1…  ┆         ┆          │\n",
       "│ 133008  ┆ 39160   ┆ 1514764800000000 ┆ 0      ┆ … ┆ 1   ┆ современные       ┆ 2018    ┆ 0        │\n",
       "│         ┆         ┆                  ┆        ┆   ┆     ┆ детективы         ┆         ┆          │\n",
       "│ 133008  ┆ 271233  ┆ 1514764800000000 ┆ 0      ┆ … ┆ 1   ┆ остросюжетные     ┆ 2005    ┆ 0        │\n",
       "│         ┆         ┆                  ┆        ┆   ┆     ┆ любовные          ┆         ┆          │\n",
       "│         ┆         ┆                  ┆        ┆   ┆     ┆ романы,со…        ┆         ┆          │\n",
       "│ 133008  ┆ 70926   ┆ 1514764800000000 ┆ 0      ┆ … ┆ 1   ┆ современные       ┆ 2018    ┆ 0        │\n",
       "│         ┆         ┆                  ┆        ┆   ┆     ┆ детективы         ┆         ┆          │\n",
       "│ 133008  ┆ 164367  ┆ 1514764800000000 ┆ 0      ┆ … ┆ 1   ┆ современные       ┆ unknown ┆ 0        │\n",
       "│         ┆         ┆                  ┆        ┆   ┆     ┆ детективы         ┆         ┆          │\n",
       "└─────────┴─────────┴──────────────────┴────────┴───┴─────┴───────────────────┴─────────┴──────────┘"
      ]
     },
     "execution_count": 95,
     "metadata": {},
     "output_type": "execute_result"
    }
   ],
   "source": [
    "train_full.head()"
   ]
  },
  {
   "cell_type": "code",
   "execution_count": 96,
   "metadata": {},
   "outputs": [],
   "source": [
    "ranker_train_info = features_target_ranking(train_full)"
   ]
  },
  {
   "cell_type": "code",
   "execution_count": 97,
   "metadata": {},
   "outputs": [],
   "source": [
    "train_pool = Pool(\n",
    "    data=ranker_train_info.features,\n",
    "    label=ranker_train_info.target,\n",
    "    timestamp=ranker_train_info.timestamps,\n",
    "    group_id=ranker_train_info.group_ids\n",
    ")"
   ]
  },
  {
   "cell_type": "code",
   "execution_count": 100,
   "metadata": {},
   "outputs": [],
   "source": [
    "ranker = CatBoostRanker(task_type='GPU', random_seed=3466, metric_period=25, eval_metric=\"MAP\", iterations=500, max_ctr_complexity=3)"
   ]
  },
  {
   "cell_type": "code",
   "execution_count": 101,
   "metadata": {},
   "outputs": [],
   "source": [
    "if os.path.exists(\"model.cbm\"):\n",
    "    ranker.load_model(\"model.cbm\")\n",
    "else:\n",
    "    ranker.fit(train_pool)\n",
    "    ranker.save_model(\"model.cbm\")"
   ]
  },
  {
   "cell_type": "code",
   "execution_count": 102,
   "metadata": {},
   "outputs": [],
   "source": [
    "test_with_features = add_features(test_pred, df_items_features, df_users_features).unique()"
   ]
  },
  {
   "cell_type": "code",
   "execution_count": 103,
   "metadata": {},
   "outputs": [
    {
     "data": {
      "text/html": [
       "<div><style>\n",
       ".dataframe > thead > tr > th,\n",
       ".dataframe > tbody > tr > td {\n",
       "  text-align: right;\n",
       "}\n",
       "</style>\n",
       "<small>shape: (5, 7)</small><table border=\"1\" class=\"dataframe\"><thead><tr><th>user_id</th><th>item_id</th><th>rank</th><th>age</th><th>sex</th><th>genres</th><th>year</th></tr><tr><td>u32</td><td>u32</td><td>u32</td><td>str</td><td>str</td><td>str</td><td>str</td></tr></thead><tbody><tr><td>146078</td><td>210979</td><td>4</td><td>&quot;65_inf&quot;</td><td>&quot;0&quot;</td><td>&quot;классическая п…</td><td>&quot;1894&quot;</td></tr><tr><td>99259</td><td>133138</td><td>9</td><td>&quot;18_24&quot;</td><td>&quot;0&quot;</td><td>&quot;зарубежные дет…</td><td>&quot;unknown&quot;</td></tr><tr><td>62308</td><td>167994</td><td>3</td><td>&quot;35_44&quot;</td><td>&quot;0&quot;</td><td>&quot;зарубежная дра…</td><td>&quot;1600&quot;</td></tr><tr><td>36</td><td>80487</td><td>8</td><td>&quot;65_inf&quot;</td><td>&quot;1&quot;</td><td>&quot;литература 20 …</td><td>&quot;1916&quot;</td></tr><tr><td>98296</td><td>80487</td><td>3</td><td>&quot;35_44&quot;</td><td>&quot;0&quot;</td><td>&quot;литература 20 …</td><td>&quot;1916&quot;</td></tr></tbody></table></div>"
      ],
      "text/plain": [
       "shape: (5, 7)\n",
       "┌─────────┬─────────┬──────┬────────┬─────┬───────────────────────────────────┬─────────┐\n",
       "│ user_id ┆ item_id ┆ rank ┆ age    ┆ sex ┆ genres                            ┆ year    │\n",
       "│ ---     ┆ ---     ┆ ---  ┆ ---    ┆ --- ┆ ---                               ┆ ---     │\n",
       "│ u32     ┆ u32     ┆ u32  ┆ str    ┆ str ┆ str                               ┆ str     │\n",
       "╞═════════╪═════════╪══════╪════════╪═════╪═══════════════════════════════════╪═════════╡\n",
       "│ 146078  ┆ 210979  ┆ 4    ┆ 65_inf ┆ 0   ┆ классическая проза,литература 19… ┆ 1894    │\n",
       "│ 99259   ┆ 133138  ┆ 9    ┆ 18_24  ┆ 0   ┆ зарубежные детские книги,русская… ┆ unknown │\n",
       "│ 62308   ┆ 167994  ┆ 3    ┆ 35_44  ┆ 0   ┆ зарубежная драматургия,пьесы и д… ┆ 1600    │\n",
       "│ 36      ┆ 80487   ┆ 8    ┆ 65_inf ┆ 1   ┆ литература 20 века,русская класс… ┆ 1916    │\n",
       "│ 98296   ┆ 80487   ┆ 3    ┆ 35_44  ┆ 0   ┆ литература 20 века,русская класс… ┆ 1916    │\n",
       "└─────────┴─────────┴──────┴────────┴─────┴───────────────────────────────────┴─────────┘"
      ]
     },
     "execution_count": 103,
     "metadata": {},
     "output_type": "execute_result"
    }
   ],
   "source": [
    "test_with_features.head()"
   ]
  },
  {
   "cell_type": "code",
   "execution_count": 104,
   "metadata": {},
   "outputs": [
    {
     "data": {
      "text/plain": [
       "(48220, 48220)"
      ]
     },
     "execution_count": 104,
     "metadata": {},
     "output_type": "execute_result"
    }
   ],
   "source": [
    "len(test_pred), len(test_with_features)"
   ]
  },
  {
   "cell_type": "code",
   "execution_count": 106,
   "metadata": {},
   "outputs": [],
   "source": [
    "scores = []\n",
    "\n",
    "for user_id, data in test_with_features.groupby(\"user_id\", maintain_order=True):\n",
    "    features = convert_to_features_data(data, [\"rank\", \"item_id\"])\n",
    "    scores.append(ranker.predict(features))"
   ]
  },
  {
   "cell_type": "code",
   "execution_count": 110,
   "metadata": {},
   "outputs": [],
   "source": [
    "ranked_pred = pl.concat([test_with_features, pl.DataFrame({\"score\": np.concatenate(scores, axis=-1)})], how=\"horizontal\")"
   ]
  },
  {
   "cell_type": "code",
   "execution_count": 112,
   "metadata": {},
   "outputs": [],
   "source": [
    "ranked_pred = ranked_pred.sort([\"user_id\", \"score\"], descending=True).with_columns(\n",
    "    (pl.col(\"item_id\").cumcount() + 1).over(\"user_id\").alias(\"new_rank\")\n",
    ")"
   ]
  },
  {
   "cell_type": "code",
   "execution_count": 113,
   "metadata": {},
   "outputs": [
    {
     "data": {
      "text/html": [
       "<div><style>\n",
       ".dataframe > thead > tr > th,\n",
       ".dataframe > tbody > tr > td {\n",
       "  text-align: right;\n",
       "}\n",
       "</style>\n",
       "<small>shape: (5, 9)</small><table border=\"1\" class=\"dataframe\"><thead><tr><th>user_id</th><th>item_id</th><th>rank</th><th>age</th><th>sex</th><th>genres</th><th>year</th><th>score</th><th>new_rank</th></tr><tr><td>u32</td><td>u32</td><td>u32</td><td>str</td><td>str</td><td>str</td><td>str</td><td>f64</td><td>u32</td></tr></thead><tbody><tr><td>159573</td><td>6456</td><td>7</td><td>&quot;55_64&quot;</td><td>&quot;0&quot;</td><td>&quot;любовное фэнте…</td><td>&quot;2015&quot;</td><td>1.799081</td><td>1</td></tr><tr><td>159573</td><td>178771</td><td>2</td><td>&quot;55_64&quot;</td><td>&quot;0&quot;</td><td>&quot;городское фэнт…</td><td>&quot;2018&quot;</td><td>0.24672</td><td>2</td></tr><tr><td>159573</td><td>39513</td><td>4</td><td>&quot;55_64&quot;</td><td>&quot;0&quot;</td><td>&quot;любовное фэнте…</td><td>&quot;2015&quot;</td><td>-0.203573</td><td>3</td></tr><tr><td>159573</td><td>15891</td><td>9</td><td>&quot;55_64&quot;</td><td>&quot;0&quot;</td><td>&quot;городское фэнт…</td><td>&quot;2016&quot;</td><td>-0.304394</td><td>4</td></tr><tr><td>159573</td><td>311133</td><td>5</td><td>&quot;55_64&quot;</td><td>&quot;0&quot;</td><td>&quot;любовное фэнте…</td><td>&quot;2018&quot;</td><td>-0.427979</td><td>5</td></tr></tbody></table></div>"
      ],
      "text/plain": [
       "shape: (5, 9)\n",
       "┌─────────┬─────────┬──────┬───────┬───┬─────────────────────────────┬──────┬───────────┬──────────┐\n",
       "│ user_id ┆ item_id ┆ rank ┆ age   ┆ … ┆ genres                      ┆ year ┆ score     ┆ new_rank │\n",
       "│ ---     ┆ ---     ┆ ---  ┆ ---   ┆   ┆ ---                         ┆ ---  ┆ ---       ┆ ---      │\n",
       "│ u32     ┆ u32     ┆ u32  ┆ str   ┆   ┆ str                         ┆ str  ┆ f64       ┆ u32      │\n",
       "╞═════════╪═════════╪══════╪═══════╪═══╪═════════════════════════════╪══════╪═══════════╪══════════╡\n",
       "│ 159573  ┆ 6456    ┆ 7    ┆ 55_64 ┆ … ┆ любовное фэнтези            ┆ 2015 ┆ 1.799081  ┆ 1        │\n",
       "│ 159573  ┆ 178771  ┆ 2    ┆ 55_64 ┆ … ┆ городское фэнтези,книги про ┆ 2018 ┆ 0.24672   ┆ 2        │\n",
       "│         ┆         ┆      ┆       ┆   ┆ волш…                       ┆      ┆           ┆          │\n",
       "│ 159573  ┆ 39513   ┆ 4    ┆ 55_64 ┆ … ┆ любовное фэнтези,магические ┆ 2015 ┆ -0.203573 ┆ 3        │\n",
       "│         ┆         ┆      ┆       ┆   ┆ акад…                       ┆      ┆           ┆          │\n",
       "│ 159573  ┆ 15891   ┆ 9    ┆ 55_64 ┆ … ┆ городское                   ┆ 2016 ┆ -0.304394 ┆ 4        │\n",
       "│         ┆         ┆      ┆       ┆   ┆ фэнтези,детективное фэ…     ┆      ┆           ┆          │\n",
       "│ 159573  ┆ 311133  ┆ 5    ┆ 55_64 ┆ … ┆ любовное фэнтези            ┆ 2018 ┆ -0.427979 ┆ 5        │\n",
       "└─────────┴─────────┴──────┴───────┴───┴─────────────────────────────┴──────┴───────────┴──────────┘"
      ]
     },
     "execution_count": 113,
     "metadata": {},
     "output_type": "execute_result"
    }
   ],
   "source": [
    "ranked_pred.head()"
   ]
  },
  {
   "cell_type": "code",
   "execution_count": 120,
   "metadata": {},
   "outputs": [],
   "source": [
    "joined_rank_data = join_true_pred_and_preprocess(test, ranked_pred.select(\n",
    "    pl.col([\"user_id\", \"item_id\"]),\n",
    "    pl.col(\"new_rank\").alias(\"rank\")\n",
    "))"
   ]
  },
  {
   "cell_type": "code",
   "execution_count": 121,
   "metadata": {},
   "outputs": [
    {
     "data": {
      "text/plain": [
       "0.01412668001792624"
      ]
     },
     "execution_count": 121,
     "metadata": {},
     "output_type": "execute_result"
    }
   ],
   "source": [
    "mean_average_prec(joined_rank_data)"
   ]
  },
  {
   "cell_type": "code",
   "execution_count": 117,
   "metadata": {},
   "outputs": [
    {
     "data": {
      "text/plain": [
       "0.018184587227608056"
      ]
     },
     "execution_count": 117,
     "metadata": {},
     "output_type": "execute_result"
    }
   ],
   "source": [
    "baseline_map"
   ]
  },
  {
   "cell_type": "code",
   "execution_count": null,
   "metadata": {},
   "outputs": [],
   "source": []
  }
 ],
 "metadata": {
  "kernelspec": {
   "display_name": "recsys",
   "language": "python",
   "name": "python3"
  },
  "language_info": {
   "codemirror_mode": {
    "name": "ipython",
    "version": 3
   },
   "file_extension": ".py",
   "mimetype": "text/x-python",
   "name": "python",
   "nbconvert_exporter": "python",
   "pygments_lexer": "ipython3",
   "version": "3.10.11"
  },
  "orig_nbformat": 4
 },
 "nbformat": 4,
 "nbformat_minor": 2
}
