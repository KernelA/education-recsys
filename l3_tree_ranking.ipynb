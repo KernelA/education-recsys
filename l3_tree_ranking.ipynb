{
 "cells": [
  {
   "cell_type": "code",
   "execution_count": 1,
   "metadata": {},
   "outputs": [],
   "source": [
    "import os\n",
    "from datetime import timedelta, datetime\n",
    "\n",
    "from tqdm.auto import tqdm\n",
    "import seaborn as sns\n",
    "import polars as pl\n",
    "from tqdm.auto import tqdm, trange\n",
    "from implicit.nearest_neighbours import CosineRecommender, BM25Recommender, TFIDFRecommender\n",
    "from implicit.als import AlternatingLeastSquares\n",
    "from implicit import gpu\n",
    "from catboost import Pool, CatBoostRanker, FeaturesData"
   ]
  },
  {
   "cell_type": "code",
   "execution_count": 2,
   "metadata": {},
   "outputs": [
    {
     "data": {
      "text/plain": [
       "True"
      ]
     },
     "execution_count": 2,
     "metadata": {},
     "output_type": "execute_result"
    }
   ],
   "source": [
    "gpu.HAS_CUDA"
   ]
  },
  {
   "cell_type": "code",
   "execution_count": 3,
   "metadata": {},
   "outputs": [],
   "source": [
    "sns.set_style(\"darkgrid\")"
   ]
  },
  {
   "cell_type": "code",
   "execution_count": 4,
   "metadata": {},
   "outputs": [],
   "source": [
    "%load_ext autoreload\n",
    "%autoreload 2\n",
    "\n",
    "from recs_utils.metrics import compute_metrics, model_cross_validate, mean_average_prec, join_true_pred_and_preprocess\n",
    "from recs_utils.load_data import MTSDataset\n",
    "from recs_utils.split import TimeRangeSplit\n",
    "from recs_utils.implicit_model import ImplicitRecommender\n",
    "from recs_utils.utils import get_direct_and_inv_mapping"
   ]
  },
  {
   "cell_type": "code",
   "execution_count": 5,
   "metadata": {},
   "outputs": [],
   "source": [
    "data_dir = \"data\""
   ]
  },
  {
   "cell_type": "code",
   "execution_count": 6,
   "metadata": {},
   "outputs": [],
   "source": [
    "df = MTSDataset.load_interactions(os.path.join(data_dir, \"interactions.csv\"))\n",
    "df_users = MTSDataset.load_users(os.path.join(data_dir, \"users.csv\"))\n",
    "df_items = MTSDataset.load_items(os.path.join(data_dir, \"items.csv\"))"
   ]
  },
  {
   "cell_type": "code",
   "execution_count": 7,
   "metadata": {},
   "outputs": [
    {
     "data": {
      "text/plain": [
       "1532998"
      ]
     },
     "execution_count": 7,
     "metadata": {},
     "output_type": "execute_result"
    }
   ],
   "source": [
    "len(df)"
   ]
  },
  {
   "cell_type": "code",
   "execution_count": 8,
   "metadata": {},
   "outputs": [
    {
     "data": {
      "text/html": [
       "<div><style>\n",
       ".dataframe > thead > tr > th,\n",
       ".dataframe > tbody > tr > td {\n",
       "  text-align: right;\n",
       "}\n",
       "</style>\n",
       "<small>shape: (5, 5)</small><table border=\"1\" class=\"dataframe\"><thead><tr><th>user_id</th><th>item_id</th><th>progress</th><th>rating</th><th>start_date</th></tr><tr><td>u32</td><td>u32</td><td>u8</td><td>f32</td><td>date</td></tr></thead><tbody><tr><td>126706</td><td>14433</td><td>80</td><td>NaN</td><td>2018-01-01</td></tr><tr><td>127290</td><td>140952</td><td>58</td><td>NaN</td><td>2018-01-01</td></tr><tr><td>66991</td><td>198453</td><td>89</td><td>NaN</td><td>2018-01-01</td></tr><tr><td>46791</td><td>83486</td><td>23</td><td>5.0</td><td>2018-01-01</td></tr><tr><td>79313</td><td>188770</td><td>88</td><td>5.0</td><td>2018-01-01</td></tr></tbody></table></div>"
      ],
      "text/plain": [
       "shape: (5, 5)\n",
       "┌─────────┬─────────┬──────────┬────────┬────────────┐\n",
       "│ user_id ┆ item_id ┆ progress ┆ rating ┆ start_date │\n",
       "│ ---     ┆ ---     ┆ ---      ┆ ---    ┆ ---        │\n",
       "│ u32     ┆ u32     ┆ u8       ┆ f32    ┆ date       │\n",
       "╞═════════╪═════════╪══════════╪════════╪════════════╡\n",
       "│ 126706  ┆ 14433   ┆ 80       ┆ NaN    ┆ 2018-01-01 │\n",
       "│ 127290  ┆ 140952  ┆ 58       ┆ NaN    ┆ 2018-01-01 │\n",
       "│ 66991   ┆ 198453  ┆ 89       ┆ NaN    ┆ 2018-01-01 │\n",
       "│ 46791   ┆ 83486   ┆ 23       ┆ 5.0    ┆ 2018-01-01 │\n",
       "│ 79313   ┆ 188770  ┆ 88       ┆ 5.0    ┆ 2018-01-01 │\n",
       "└─────────┴─────────┴──────────┴────────┴────────────┘"
      ]
     },
     "execution_count": 8,
     "metadata": {},
     "output_type": "execute_result"
    }
   ],
   "source": [
    "df.head()"
   ]
  },
  {
   "cell_type": "code",
   "execution_count": 9,
   "metadata": {},
   "outputs": [
    {
     "data": {
      "text/html": [
       "<div><style>\n",
       ".dataframe > thead > tr > th,\n",
       ".dataframe > tbody > tr > td {\n",
       "  text-align: right;\n",
       "}\n",
       "</style>\n",
       "<small>shape: (5, 3)</small><table border=\"1\" class=\"dataframe\"><thead><tr><th>user_id</th><th>age</th><th>sex</th></tr><tr><td>u32</td><td>cat</td><td>f32</td></tr></thead><tbody><tr><td>1</td><td>&quot;45_54&quot;</td><td>null</td></tr><tr><td>2</td><td>&quot;18_24&quot;</td><td>0.0</td></tr><tr><td>3</td><td>&quot;65_inf&quot;</td><td>0.0</td></tr><tr><td>4</td><td>&quot;18_24&quot;</td><td>0.0</td></tr><tr><td>5</td><td>&quot;35_44&quot;</td><td>0.0</td></tr></tbody></table></div>"
      ],
      "text/plain": [
       "shape: (5, 3)\n",
       "┌─────────┬────────┬──────┐\n",
       "│ user_id ┆ age    ┆ sex  │\n",
       "│ ---     ┆ ---    ┆ ---  │\n",
       "│ u32     ┆ cat    ┆ f32  │\n",
       "╞═════════╪════════╪══════╡\n",
       "│ 1       ┆ 45_54  ┆ null │\n",
       "│ 2       ┆ 18_24  ┆ 0.0  │\n",
       "│ 3       ┆ 65_inf ┆ 0.0  │\n",
       "│ 4       ┆ 18_24  ┆ 0.0  │\n",
       "│ 5       ┆ 35_44  ┆ 0.0  │\n",
       "└─────────┴────────┴──────┘"
      ]
     },
     "execution_count": 9,
     "metadata": {},
     "output_type": "execute_result"
    }
   ],
   "source": [
    "df_users.head()"
   ]
  },
  {
   "cell_type": "code",
   "execution_count": 10,
   "metadata": {},
   "outputs": [
    {
     "data": {
      "text/html": [
       "<div><style>\n",
       ".dataframe > thead > tr > th,\n",
       ".dataframe > tbody > tr > td {\n",
       "  text-align: right;\n",
       "}\n",
       "</style>\n",
       "<small>shape: (5, 5)</small><table border=\"1\" class=\"dataframe\"><thead><tr><th>item_id</th><th>title</th><th>genres</th><th>authors</th><th>year</th></tr><tr><td>u32</td><td>str</td><td>cat</td><td>cat</td><td>cat</td></tr></thead><tbody><tr><td>128115</td><td>&quot;Ворон-челобитч…</td><td>&quot;Зарубежные дет…</td><td>&quot;Михаил Салтыко…</td><td>&quot;1886&quot;</td></tr><tr><td>210979</td><td>&quot;Скрипка Ротшил…</td><td>&quot;Классическая п…</td><td>&quot;Антон Чехов&quot;</td><td>&quot;1894&quot;</td></tr><tr><td>95632</td><td>&quot;Испорченные де…</td><td>&quot;Зарубежная кла…</td><td>&quot;Михаил Салтыко…</td><td>&quot;1869&quot;</td></tr><tr><td>247906</td><td>&quot;Странный челов…</td><td>&quot;Пьесы и драмат…</td><td>&quot;Михаил Лермонт…</td><td>&quot;1831&quot;</td></tr><tr><td>294280</td><td>&quot;Господа ташкен…</td><td>&quot;Зарубежная кла…</td><td>&quot;Михаил Салтыко…</td><td>&quot;1873&quot;</td></tr></tbody></table></div>"
      ],
      "text/plain": [
       "shape: (5, 5)\n",
       "┌─────────┬───────────────────┬───────────────────────────────────┬────────────────────────┬──────┐\n",
       "│ item_id ┆ title             ┆ genres                            ┆ authors                ┆ year │\n",
       "│ ---     ┆ ---               ┆ ---                               ┆ ---                    ┆ ---  │\n",
       "│ u32     ┆ str               ┆ cat                               ┆ cat                    ┆ cat  │\n",
       "╞═════════╪═══════════════════╪═══════════════════════════════════╪════════════════════════╪══════╡\n",
       "│ 128115  ┆ Ворон-челобитчик  ┆ Зарубежные детские книги,Сказки,… ┆ Михаил Салтыков-Щедрин ┆ 1886 │\n",
       "│ 210979  ┆ Скрипка Ротшильда ┆ Классическая проза,Литература 19… ┆ Антон Чехов            ┆ 1894 │\n",
       "│ 95632   ┆ Испорченные дети  ┆ Зарубежная классика,Классическая… ┆ Михаил Салтыков-Щедрин ┆ 1869 │\n",
       "│ 247906  ┆ Странный человек  ┆ Пьесы и драматургия,Литература 1… ┆ Михаил Лермонтов       ┆ 1831 │\n",
       "│ 294280  ┆ Господа ташкентцы ┆ Зарубежная классика,Классическая… ┆ Михаил Салтыков-Щедрин ┆ 1873 │\n",
       "└─────────┴───────────────────┴───────────────────────────────────┴────────────────────────┴──────┘"
      ]
     },
     "execution_count": 10,
     "metadata": {},
     "output_type": "execute_result"
    }
   ],
   "source": [
    "df_items.head()"
   ]
  },
  {
   "cell_type": "code",
   "execution_count": 11,
   "metadata": {},
   "outputs": [
    {
     "data": {
      "text/plain": [
       "151600"
      ]
     },
     "execution_count": 11,
     "metadata": {},
     "output_type": "execute_result"
    }
   ],
   "source": [
    "users_mapping, users_inv_mapping = get_direct_and_inv_mapping(df, \"user_id\")\n",
    "len(users_mapping)"
   ]
  },
  {
   "cell_type": "code",
   "execution_count": 12,
   "metadata": {},
   "outputs": [
    {
     "data": {
      "text/plain": [
       "59599"
      ]
     },
     "execution_count": 12,
     "metadata": {},
     "output_type": "execute_result"
    }
   ],
   "source": [
    "items_mapping, items_inv_mapping = get_direct_and_inv_mapping(df, \"item_id\")\n",
    "len(items_mapping)"
   ]
  },
  {
   "cell_type": "code",
   "execution_count": 13,
   "metadata": {},
   "outputs": [],
   "source": [
    "df_items  = df_items.with_columns(\n",
    "    pl.col(\"title\").str.strip().str.to_lowercase().alias(\"title\"),\n",
    "    pl.col(\"genres\").cast(str).str.strip().str.to_lowercase().alias(\"genres\")\n",
    ")"
   ]
  },
  {
   "cell_type": "code",
   "execution_count": 14,
   "metadata": {},
   "outputs": [
    {
     "data": {
      "text/plain": [
       "(datetime.date(2019, 12, 24), datetime.date(2019, 12, 31))"
      ]
     },
     "execution_count": 14,
     "metadata": {},
     "output_type": "execute_result"
    }
   ],
   "source": [
    "last_date = df.select(pl.col(\"start_date\").max())[0, 0]\n",
    "folds = 7\n",
    "start_date = last_date - timedelta(days=folds)\n",
    "start_date, last_date"
   ]
  },
  {
   "cell_type": "code",
   "execution_count": 15,
   "metadata": {},
   "outputs": [
    {
     "data": {
      "text/plain": [
       "(7, 7)"
      ]
     },
     "execution_count": 15,
     "metadata": {},
     "output_type": "execute_result"
    }
   ],
   "source": [
    "cv = TimeRangeSplit(start_date=start_date, folds=folds, interval=timedelta(days=1))\n",
    "cv.max_n_splits, cv.get_n_splits(df, datetime_column='start_date')"
   ]
  },
  {
   "cell_type": "code",
   "execution_count": 16,
   "metadata": {},
   "outputs": [],
   "source": [
    "folds_with_stats = list(cv.split(\n",
    "    df, \n",
    "    user_column='user_id',\n",
    "    item_column='item_id',\n",
    "    datetime_column='start_date',\n",
    "    fold_stats=True\n",
    ")\n",
    ")\n",
    "\n",
    "folds_info_with_stats = pl.from_dicts([info for _, _, info in folds_with_stats])"
   ]
  },
  {
   "cell_type": "code",
   "execution_count": 17,
   "metadata": {},
   "outputs": [
    {
     "data": {
      "text/html": [
       "<div><style>\n",
       ".dataframe > thead > tr > th,\n",
       ".dataframe > tbody > tr > td {\n",
       "  text-align: right;\n",
       "}\n",
       "</style>\n",
       "<small>shape: (7, 9)</small><table border=\"1\" class=\"dataframe\"><thead><tr><th>Start date</th><th>End date</th><th>Train</th><th>New users</th><th>New users interactions</th><th>New items</th><th>New items interactions</th><th>Known interactions</th><th>Test</th></tr><tr><td>date</td><td>date</td><td>i64</td><td>i64</td><td>i64</td><td>i64</td><td>i64</td><td>i64</td><td>i64</td></tr></thead><tbody><tr><td>2019-12-24</td><td>2019-12-25</td><td>1515946</td><td>3</td><td>3</td><td>0</td><td>0</td><td>0</td><td>2045</td></tr><tr><td>2019-12-25</td><td>2019-12-26</td><td>1517994</td><td>1</td><td>1</td><td>0</td><td>0</td><td>0</td><td>2141</td></tr><tr><td>2019-12-26</td><td>2019-12-27</td><td>1520136</td><td>0</td><td>0</td><td>0</td><td>0</td><td>0</td><td>2177</td></tr><tr><td>2019-12-27</td><td>2019-12-28</td><td>1522313</td><td>0</td><td>0</td><td>0</td><td>0</td><td>0</td><td>2110</td></tr><tr><td>2019-12-28</td><td>2019-12-29</td><td>1524423</td><td>2</td><td>4</td><td>0</td><td>0</td><td>0</td><td>2205</td></tr><tr><td>2019-12-29</td><td>2019-12-30</td><td>1526632</td><td>4</td><td>4</td><td>0</td><td>0</td><td>0</td><td>2118</td></tr><tr><td>2019-12-30</td><td>2019-12-31</td><td>1528754</td><td>1</td><td>1</td><td>0</td><td>0</td><td>0</td><td>2168</td></tr></tbody></table></div>"
      ],
      "text/plain": [
       "shape: (7, 9)\n",
       "┌────────────┬────────────┬─────────┬───────────┬───┬───────────┬────────────┬──────────────┬──────┐\n",
       "│ Start date ┆ End date   ┆ Train   ┆ New users ┆ … ┆ New items ┆ New items  ┆ Known        ┆ Test │\n",
       "│ ---        ┆ ---        ┆ ---     ┆ ---       ┆   ┆ ---       ┆ interactio ┆ interactions ┆ ---  │\n",
       "│ date       ┆ date       ┆ i64     ┆ i64       ┆   ┆ i64       ┆ ns         ┆ ---          ┆ i64  │\n",
       "│            ┆            ┆         ┆           ┆   ┆           ┆ ---        ┆ i64          ┆      │\n",
       "│            ┆            ┆         ┆           ┆   ┆           ┆ i64        ┆              ┆      │\n",
       "╞════════════╪════════════╪═════════╪═══════════╪═══╪═══════════╪════════════╪══════════════╪══════╡\n",
       "│ 2019-12-24 ┆ 2019-12-25 ┆ 1515946 ┆ 3         ┆ … ┆ 0         ┆ 0          ┆ 0            ┆ 2045 │\n",
       "│ 2019-12-25 ┆ 2019-12-26 ┆ 1517994 ┆ 1         ┆ … ┆ 0         ┆ 0          ┆ 0            ┆ 2141 │\n",
       "│ 2019-12-26 ┆ 2019-12-27 ┆ 1520136 ┆ 0         ┆ … ┆ 0         ┆ 0          ┆ 0            ┆ 2177 │\n",
       "│ 2019-12-27 ┆ 2019-12-28 ┆ 1522313 ┆ 0         ┆ … ┆ 0         ┆ 0          ┆ 0            ┆ 2110 │\n",
       "│ 2019-12-28 ┆ 2019-12-29 ┆ 1524423 ┆ 2         ┆ … ┆ 0         ┆ 0          ┆ 0            ┆ 2205 │\n",
       "│ 2019-12-29 ┆ 2019-12-30 ┆ 1526632 ┆ 4         ┆ … ┆ 0         ┆ 0          ┆ 0            ┆ 2118 │\n",
       "│ 2019-12-30 ┆ 2019-12-31 ┆ 1528754 ┆ 1         ┆ … ┆ 0         ┆ 0          ┆ 0            ┆ 2168 │\n",
       "└────────────┴────────────┴─────────┴───────────┴───┴───────────┴────────────┴──────────────┴──────┘"
      ]
     },
     "execution_count": 17,
     "metadata": {},
     "output_type": "execute_result"
    }
   ],
   "source": [
    "folds_info_with_stats"
   ]
  },
  {
   "cell_type": "code",
   "execution_count": 18,
   "metadata": {},
   "outputs": [],
   "source": [
    "top_N = 10\n",
    "num_neg_samples = 4"
   ]
  },
  {
   "cell_type": "code",
   "execution_count": 19,
   "metadata": {},
   "outputs": [],
   "source": [
    "top_N_negative_sampling = top_N * 2"
   ]
  },
  {
   "cell_type": "code",
   "execution_count": 21,
   "metadata": {},
   "outputs": [
    {
     "data": {
      "text/plain": [
       "((1515946, 5), (2045, 5))"
      ]
     },
     "execution_count": 21,
     "metadata": {},
     "output_type": "execute_result"
    }
   ],
   "source": [
    "train_idx, test_idx, info = folds_with_stats[0]\n",
    "\n",
    "train = df.join(train_idx, on=[\"user_id\", \"item_id\"], how=\"inner\")\n",
    "test = df.join(test_idx, on=[\"user_id\", \"item_id\"], how=\"inner\")\n",
    "train.shape, test.shape"
   ]
  },
  {
   "cell_type": "code",
   "execution_count": 22,
   "metadata": {},
   "outputs": [],
   "source": [
    "recommender = ImplicitRecommender(\n",
    "    BM25Recommender(K=top_N_negative_sampling),\n",
    "    users_mapping, \n",
    "    items_mapping,\n",
    "    items_inv_mapping\n",
    ")"
   ]
  },
  {
   "cell_type": "code",
   "execution_count": 23,
   "metadata": {},
   "outputs": [
    {
     "name": "stderr",
     "output_type": "stream",
     "text": [
      "/home/alex/miniconda3/envs/recsys/lib/python3.10/site-packages/implicit/utils.py:138: ParameterWarning: Method expects CSR input, and was passed coo_matrix instead. Converting to CSR took 0.009568214416503906 seconds\n",
      "  warnings.warn(\n"
     ]
    },
    {
     "data": {
      "application/vnd.jupyter.widget-view+json": {
       "model_id": "3cec47c106ff4debb01272517f3f2eec",
       "version_major": 2,
       "version_minor": 0
      },
      "text/plain": [
       "  0%|          | 0/59599 [00:00<?, ?it/s]"
      ]
     },
     "metadata": {},
     "output_type": "display_data"
    }
   ],
   "source": [
    "recommender.fit(train)"
   ]
  },
  {
   "cell_type": "code",
   "execution_count": 24,
   "metadata": {},
   "outputs": [],
   "source": [
    "train_pred_neg_sampling = recommender.recommend(\n",
    "    train.select(pl.col(\"user_id\").unique()).to_series(), \n",
    "    n=top_N_negative_sampling)"
   ]
  },
  {
   "cell_type": "code",
   "execution_count": 25,
   "metadata": {},
   "outputs": [],
   "source": [
    "del recommender"
   ]
  },
  {
   "cell_type": "code",
   "execution_count": 26,
   "metadata": {},
   "outputs": [
    {
     "data": {
      "text/html": [
       "<div><style>\n",
       ".dataframe > thead > tr > th,\n",
       ".dataframe > tbody > tr > td {\n",
       "  text-align: right;\n",
       "}\n",
       "</style>\n",
       "<small>shape: (5, 3)</small><table border=\"1\" class=\"dataframe\"><thead><tr><th>user_id</th><th>item_id</th><th>rank</th></tr><tr><td>u32</td><td>u32</td><td>u32</td></tr></thead><tbody><tr><td>0</td><td>51473</td><td>1</td></tr><tr><td>0</td><td>289133</td><td>2</td></tr><tr><td>0</td><td>234741</td><td>3</td></tr><tr><td>0</td><td>169090</td><td>4</td></tr><tr><td>0</td><td>177262</td><td>5</td></tr></tbody></table></div>"
      ],
      "text/plain": [
       "shape: (5, 3)\n",
       "┌─────────┬─────────┬──────┐\n",
       "│ user_id ┆ item_id ┆ rank │\n",
       "│ ---     ┆ ---     ┆ ---  │\n",
       "│ u32     ┆ u32     ┆ u32  │\n",
       "╞═════════╪═════════╪══════╡\n",
       "│ 0       ┆ 51473   ┆ 1    │\n",
       "│ 0       ┆ 289133  ┆ 2    │\n",
       "│ 0       ┆ 234741  ┆ 3    │\n",
       "│ 0       ┆ 169090  ┆ 4    │\n",
       "│ 0       ┆ 177262  ┆ 5    │\n",
       "└─────────┴─────────┴──────┘"
      ]
     },
     "execution_count": 26,
     "metadata": {},
     "output_type": "execute_result"
    }
   ],
   "source": [
    "train_pred_neg_sampling.head()"
   ]
  },
  {
   "cell_type": "code",
   "execution_count": 27,
   "metadata": {},
   "outputs": [],
   "source": [
    "neg_samples = train_pred_neg_sampling.lazy().groupby(\"user_id\").agg(\n",
    "    [\n",
    "        pl.col(\"item_id\").implode().flatten().alias(\"neg_item_id\"),\n",
    "    ]\n",
    ").collect()"
   ]
  },
  {
   "cell_type": "code",
   "execution_count": 28,
   "metadata": {},
   "outputs": [],
   "source": [
    "neg_train = train.lazy().select(pl.col(\"user_id\"), pl.col(\"start_date\")).unique().join(neg_samples.lazy(), on=\"user_id\").select(\n",
    "    pl.col(\"user_id\"),\n",
    "    pl.col(\"neg_item_id\").apply(lambda x: x.sample(n=num_neg_samples, seed=232443)).alias(\"item_id\"),\n",
    "    pl.col(\"start_date\"),\n",
    "    pl.lit(0).alias(\"target\")\n",
    ").explode(\"item_id\").join(\n",
    "    train.lazy().select(pl.col(\"user_id\"), pl.col(\"item_id\"), pl.col(\"start_date\")).unique(), on=[\"user_id\", \"item_id\", \"start_date\"], how=\"anti\").collect()"
   ]
  },
  {
   "cell_type": "code",
   "execution_count": 29,
   "metadata": {},
   "outputs": [],
   "source": [
    "del neg_samples"
   ]
  },
  {
   "cell_type": "code",
   "execution_count": 30,
   "metadata": {},
   "outputs": [
    {
     "data": {
      "text/html": [
       "<div><style>\n",
       ".dataframe > thead > tr > th,\n",
       ".dataframe > tbody > tr > td {\n",
       "  text-align: right;\n",
       "}\n",
       "</style>\n",
       "<small>shape: (0, 4)</small><table border=\"1\" class=\"dataframe\"><thead><tr><th>user_id</th><th>item_id</th><th>start_date</th><th>count</th></tr><tr><td>u32</td><td>u32</td><td>date</td><td>u32</td></tr></thead><tbody></tbody></table></div>"
      ],
      "text/plain": [
       "shape: (0, 4)\n",
       "┌─────────┬─────────┬────────────┬───────┐\n",
       "│ user_id ┆ item_id ┆ start_date ┆ count │\n",
       "│ ---     ┆ ---     ┆ ---        ┆ ---   │\n",
       "│ u32     ┆ u32     ┆ date       ┆ u32   │\n",
       "╞═════════╪═════════╪════════════╪═══════╡\n",
       "└─────────┴─────────┴────────────┴───────┘"
      ]
     },
     "execution_count": 30,
     "metadata": {},
     "output_type": "execute_result"
    }
   ],
   "source": [
    "neg_train.groupby([\"user_id\", \"item_id\", \"start_date\"]).count().filter(pl.col(\"count\") > 1)"
   ]
  },
  {
   "cell_type": "code",
   "execution_count": 31,
   "metadata": {},
   "outputs": [],
   "source": [
    "train_full = train.select(\n",
    "    pl.col(\"user_id\"),\n",
    "    pl.col(\"item_id\"),\n",
    "    pl.col(\"start_date\"),\n",
    "    pl.lit(1).alias(\"target\")\n",
    ").vstack(neg_train)"
   ]
  },
  {
   "cell_type": "code",
   "execution_count": 32,
   "metadata": {},
   "outputs": [],
   "source": [
    "del train"
   ]
  },
  {
   "cell_type": "code",
   "execution_count": 33,
   "metadata": {},
   "outputs": [],
   "source": [
    "assert train_full.groupby([\"user_id\", \"item_id\", \"start_date\"]).count().filter(\n",
    "    pl.col(\"count\") > 1).is_empty(), \"(user_id, item_id, start_date) must be unique but found duplicates\"\n"
   ]
  },
  {
   "cell_type": "code",
   "execution_count": 34,
   "metadata": {},
   "outputs": [
    {
     "data": {
      "text/html": [
       "<div><style>\n",
       ".dataframe > thead > tr > th,\n",
       ".dataframe > tbody > tr > td {\n",
       "  text-align: right;\n",
       "}\n",
       "</style>\n",
       "<small>shape: (5, 4)</small><table border=\"1\" class=\"dataframe\"><thead><tr><th>user_id</th><th>item_id</th><th>start_date</th><th>target</th></tr><tr><td>u32</td><td>u32</td><td>date</td><td>i32</td></tr></thead><tbody><tr><td>0</td><td>48485</td><td>2018-01-29</td><td>1</td></tr><tr><td>0</td><td>177262</td><td>2018-01-29</td><td>0</td></tr><tr><td>0</td><td>28031</td><td>2018-01-29</td><td>0</td></tr><tr><td>0</td><td>234741</td><td>2018-01-29</td><td>0</td></tr><tr><td>0</td><td>77583</td><td>2018-01-29</td><td>0</td></tr></tbody></table></div>"
      ],
      "text/plain": [
       "shape: (5, 4)\n",
       "┌─────────┬─────────┬────────────┬────────┐\n",
       "│ user_id ┆ item_id ┆ start_date ┆ target │\n",
       "│ ---     ┆ ---     ┆ ---        ┆ ---    │\n",
       "│ u32     ┆ u32     ┆ date       ┆ i32    │\n",
       "╞═════════╪═════════╪════════════╪════════╡\n",
       "│ 0       ┆ 48485   ┆ 2018-01-29 ┆ 1      │\n",
       "│ 0       ┆ 177262  ┆ 2018-01-29 ┆ 0      │\n",
       "│ 0       ┆ 28031   ┆ 2018-01-29 ┆ 0      │\n",
       "│ 0       ┆ 234741  ┆ 2018-01-29 ┆ 0      │\n",
       "│ 0       ┆ 77583   ┆ 2018-01-29 ┆ 0      │\n",
       "└─────────┴─────────┴────────────┴────────┘"
      ]
     },
     "execution_count": 34,
     "metadata": {},
     "output_type": "execute_result"
    }
   ],
   "source": [
    "train_full.sort([\"user_id\", \"start_date\"]).head()"
   ]
  },
  {
   "cell_type": "code",
   "execution_count": 35,
   "metadata": {},
   "outputs": [],
   "source": [
    "df_users_features  = df_users.with_columns(\n",
    "    pl.col(\"age\").cast(str).fill_null(\"unknown\").alias(\"age\"),\n",
    "    pl.col(\"sex\").cast(pl.Int32).cast(str).str.replace(\"0\", \"female\").str.replace(\"1\", \"male\").fill_null(\"unknown\").alias(\"sex\")\n",
    ")"
   ]
  },
  {
   "cell_type": "code",
   "execution_count": 36,
   "metadata": {},
   "outputs": [],
   "source": [
    "df_items_features = df_items.select(\n",
    "    pl.col(\"item_id\"),\n",
    "    pl.col(\"genres\"),\n",
    "    pl.col(\"year\")\n",
    ").with_columns(\n",
    "    pl.col(\"genres\").cast(str).fill_null(\"genre_unknown\").alias(\"genres\"),\n",
    "    pl.col(\"year\").cast(str).fill_null(\"unknown\").alias(\"year\")\n",
    ")"
   ]
  },
  {
   "cell_type": "code",
   "execution_count": 37,
   "metadata": {},
   "outputs": [],
   "source": [
    "train_full = train_full.lazy().join(df_users_features.lazy(), on=\"user_id\").join(\n",
    "    df_items_features.lazy(), on=\"item_id\"\n",
    ").collect()"
   ]
  },
  {
   "cell_type": "code",
   "execution_count": 38,
   "metadata": {},
   "outputs": [],
   "source": [
    "train_full = train_full.with_columns(pl.col(\"start_date\").dt.timestamp(\"us\").alias(\"start_date\"))"
   ]
  },
  {
   "cell_type": "code",
   "execution_count": 39,
   "metadata": {},
   "outputs": [],
   "source": [
    "train_target = train_full.select(pl.col(\"target\")).to_series()\n",
    "train_full = train_full.drop(\"target\")\n",
    "timestamps = train_full.select(pl.col(\"start_date\")).to_series()\n",
    "train_full = train_full.drop(\"start_date\")"
   ]
  },
  {
   "cell_type": "code",
   "execution_count": 40,
   "metadata": {},
   "outputs": [
    {
     "data": {
      "text/html": [
       "<div><style>\n",
       ".dataframe > thead > tr > th,\n",
       ".dataframe > tbody > tr > td {\n",
       "  text-align: right;\n",
       "}\n",
       "</style>\n",
       "<small>shape: (5, 6)</small><table border=\"1\" class=\"dataframe\"><thead><tr><th>user_id</th><th>item_id</th><th>age</th><th>sex</th><th>genres</th><th>year</th></tr><tr><td>u32</td><td>u32</td><td>str</td><td>str</td><td>str</td><td>str</td></tr></thead><tbody><tr><td>126706</td><td>14433</td><td>&quot;25_34&quot;</td><td>&quot;female&quot;</td><td>&quot;историческая л…</td><td>&quot;2007&quot;</td></tr><tr><td>127290</td><td>140952</td><td>&quot;25_34&quot;</td><td>&quot;female&quot;</td><td>&quot;боевики&quot;</td><td>&quot;2006&quot;</td></tr><tr><td>46791</td><td>83486</td><td>&quot;18_24&quot;</td><td>&quot;male&quot;</td><td>&quot;здоровье&quot;</td><td>&quot;2003&quot;</td></tr><tr><td>79313</td><td>188770</td><td>&quot;55_64&quot;</td><td>&quot;female&quot;</td><td>&quot;стихи и поэзия…</td><td>&quot;unknown&quot;</td></tr><tr><td>63454</td><td>78434</td><td>&quot;25_34&quot;</td><td>&quot;female&quot;</td><td>&quot;боевики&quot;</td><td>&quot;2012&quot;</td></tr></tbody></table></div>"
      ],
      "text/plain": [
       "shape: (5, 6)\n",
       "┌─────────┬─────────┬───────┬────────┬───────────────────────────────────┬─────────┐\n",
       "│ user_id ┆ item_id ┆ age   ┆ sex    ┆ genres                            ┆ year    │\n",
       "│ ---     ┆ ---     ┆ ---   ┆ ---    ┆ ---                               ┆ ---     │\n",
       "│ u32     ┆ u32     ┆ str   ┆ str    ┆ str                               ┆ str     │\n",
       "╞═════════╪═════════╪═══════╪════════╪═══════════════════════════════════╪═════════╡\n",
       "│ 126706  ┆ 14433   ┆ 25_34 ┆ female ┆ историческая литература,историче… ┆ 2007    │\n",
       "│ 127290  ┆ 140952  ┆ 25_34 ┆ female ┆ боевики                           ┆ 2006    │\n",
       "│ 46791   ┆ 83486   ┆ 18_24 ┆ male   ┆ здоровье                          ┆ 2003    │\n",
       "│ 79313   ┆ 188770  ┆ 55_64 ┆ female ┆ стихи и поэзия,русская классика   ┆ unknown │\n",
       "│ 63454   ┆ 78434   ┆ 25_34 ┆ female ┆ боевики                           ┆ 2012    │\n",
       "└─────────┴─────────┴───────┴────────┴───────────────────────────────────┴─────────┘"
      ]
     },
     "execution_count": 40,
     "metadata": {},
     "output_type": "execute_result"
    }
   ],
   "source": [
    "train_full.head()"
   ]
  },
  {
   "cell_type": "code",
   "execution_count": 44,
   "metadata": {},
   "outputs": [],
   "source": [
    "num_features = [col for col in train_full.schema if train_full.schema[col] in pl.NUMERIC_DTYPES]\n",
    "cat_features = [col for col in train_full.schema if train_full.schema[col].is_(pl.Utf8)]"
   ]
  },
  {
   "cell_type": "code",
   "execution_count": 45,
   "metadata": {},
   "outputs": [
    {
     "data": {
      "text/plain": [
       "(['user_id', 'item_id'], ['age', 'sex', 'genres', 'year'])"
      ]
     },
     "execution_count": 45,
     "metadata": {},
     "output_type": "execute_result"
    }
   ],
   "source": [
    "num_features, cat_features"
   ]
  },
  {
   "cell_type": "code",
   "execution_count": 47,
   "metadata": {},
   "outputs": [],
   "source": [
    "import numpy as np"
   ]
  },
  {
   "cell_type": "code",
   "execution_count": 48,
   "metadata": {},
   "outputs": [],
   "source": [
    "train_dataset = FeaturesData(\n",
    "    num_feature_data=train_full.select(pl.col(num_features)).to_numpy().astype(np.float32),\n",
    "    cat_feature_data=train_full.select(pl.col(cat_features)).to_numpy(),\n",
    "    num_feature_names=num_features,\n",
    "    cat_feature_names=cat_features\n",
    ")"
   ]
  },
  {
   "cell_type": "code",
   "execution_count": 50,
   "metadata": {},
   "outputs": [],
   "source": [
    "del train_full"
   ]
  },
  {
   "cell_type": "code",
   "execution_count": 49,
   "metadata": {},
   "outputs": [
    {
     "data": {
      "text/plain": [
       "<_catboost.FeaturesData at 0x7faf1f6c24d0>"
      ]
     },
     "execution_count": 49,
     "metadata": {},
     "output_type": "execute_result"
    }
   ],
   "source": [
    "train_dataset"
   ]
  },
  {
   "cell_type": "code",
   "execution_count": 53,
   "metadata": {},
   "outputs": [],
   "source": [
    "train_pool = Pool(\n",
    "    data=train_dataset,\n",
    "    label=train_target.to_numpy(),\n",
    "    timestamp=timestamps.to_numpy(),\n",
    ")"
   ]
  },
  {
   "cell_type": "code",
   "execution_count": 56,
   "metadata": {},
   "outputs": [],
   "source": [
    "ranker = CatBoostRanker(task_type='GPU')"
   ]
  },
  {
   "cell_type": "code",
   "execution_count": 57,
   "metadata": {},
   "outputs": [
    {
     "ename": "",
     "evalue": "",
     "output_type": "error",
     "traceback": [
      "\u001b[1;31mCanceled future for execute_request message before replies were done"
     ]
    },
    {
     "ename": "",
     "evalue": "",
     "output_type": "error",
     "traceback": [
      "\u001b[1;31mThe Kernel crashed while executing code in the the current cell or a previous cell. Please review the code in the cell(s) to identify a possible cause of the failure. Click <a href='https://aka.ms/vscodeJupyterKernelCrash'>here</a> for more info. View Jupyter <a href='command:jupyter.viewOutput'>log</a> for further details."
     ]
    }
   ],
   "source": [
    "ranker.fit(train_pool)"
   ]
  },
  {
   "cell_type": "code",
   "execution_count": null,
   "metadata": {},
   "outputs": [],
   "source": []
  }
 ],
 "metadata": {
  "kernelspec": {
   "display_name": "recsys",
   "language": "python",
   "name": "python3"
  },
  "language_info": {
   "codemirror_mode": {
    "name": "ipython",
    "version": 3
   },
   "file_extension": ".py",
   "mimetype": "text/x-python",
   "name": "python",
   "nbconvert_exporter": "python",
   "pygments_lexer": "ipython3",
   "version": "3.10.11"
  },
  "orig_nbformat": 4
 },
 "nbformat": 4,
 "nbformat_minor": 2
}
