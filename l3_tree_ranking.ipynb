{
 "cells": [
  {
   "attachments": {},
   "cell_type": "markdown",
   "metadata": {},
   "source": [
    "# Colab"
   ]
  },
  {
   "cell_type": "code",
   "execution_count": 1,
   "metadata": {},
   "outputs": [],
   "source": [
    "# !git clone -b tree-ranking https://github.com/KernelA/education-recsys.git"
   ]
  },
  {
   "cell_type": "code",
   "execution_count": 2,
   "metadata": {},
   "outputs": [],
   "source": [
    "# %cd /content/education-recsys/"
   ]
  },
  {
   "cell_type": "code",
   "execution_count": 3,
   "metadata": {},
   "outputs": [],
   "source": [
    "# !pip install --no-cache-dir -r ./requirements.txt  kaggle"
   ]
  },
  {
   "cell_type": "code",
   "execution_count": 4,
   "metadata": {},
   "outputs": [],
   "source": [
    "# %load_ext dotenv\n",
    "# %dotenv"
   ]
  },
  {
   "cell_type": "code",
   "execution_count": 5,
   "metadata": {},
   "outputs": [],
   "source": [
    "# !dvc repro dump_data"
   ]
  },
  {
   "cell_type": "code",
   "execution_count": 6,
   "metadata": {},
   "outputs": [],
   "source": [
    "import os"
   ]
  },
  {
   "cell_type": "code",
   "execution_count": 7,
   "metadata": {},
   "outputs": [],
   "source": [
    "is_colab = False"
   ]
  },
  {
   "cell_type": "code",
   "execution_count": 8,
   "metadata": {},
   "outputs": [],
   "source": [
    "if is_colab:\n",
    "    remote_dir = \"/content/drive\"\n",
    "else:\n",
    "    remote_dir = os.getcwd()"
   ]
  },
  {
   "cell_type": "code",
   "execution_count": 9,
   "metadata": {},
   "outputs": [],
   "source": [
    "if is_colab:\n",
    "    from google.colab import drive\n",
    "    drive.mount(remote_dir)"
   ]
  },
  {
   "cell_type": "code",
   "execution_count": 10,
   "metadata": {},
   "outputs": [],
   "source": [
    "if is_colab:\n",
    "    out_exp_dir = os.path.join(remote_dir, \"MyDrive/EducationRecSys/tree-ranking\")\n",
    "else:\n",
    "    out_exp_dir = os.path.join(remote_dir, \"catboost-dir\")"
   ]
  },
  {
   "cell_type": "code",
   "execution_count": 11,
   "metadata": {},
   "outputs": [],
   "source": [
    "if is_colab:\n",
    "    from google.colab import output\n",
    "    output.enable_custom_widget_manager()"
   ]
  },
  {
   "attachments": {},
   "cell_type": "markdown",
   "metadata": {},
   "source": [
    "# Основной код"
   ]
  },
  {
   "cell_type": "code",
   "execution_count": 12,
   "metadata": {},
   "outputs": [],
   "source": [
    "import os\n",
    "from datetime import timedelta\n",
    "\n",
    "import hydra\n",
    "import seaborn as sns\n",
    "import polars as pl\n",
    "import numpy as np\n",
    "from sklearn.model_selection import train_test_split\n",
    "from sklearn.metrics import roc_auc_score\n",
    "from implicit.als import AlternatingLeastSquares\n",
    "from catboost import Pool, CatBoostClassifier, FeaturesData\n",
    "import shap"
   ]
  },
  {
   "cell_type": "code",
   "execution_count": 13,
   "metadata": {},
   "outputs": [],
   "source": [
    "sns.set_style(\"darkgrid\")"
   ]
  },
  {
   "cell_type": "code",
   "execution_count": 14,
   "metadata": {},
   "outputs": [],
   "source": [
    "%load_ext autoreload\n",
    "%autoreload 2\n",
    "\n",
    "from recs_utils.metrics import compute_metrics\n",
    "from recs_utils.load_data import MTSDataset\n",
    "from recs_utils.split import TimeRangeSplit\n",
    "from recs_utils.implicit_model import ImplicitRecommender\n",
    "from recs_utils.ranking import convert_to_features_data"
   ]
  },
  {
   "cell_type": "code",
   "execution_count": 15,
   "metadata": {},
   "outputs": [],
   "source": [
    "with hydra.initialize(config_path=os.path.join(\"configs\", \"data\"), version_base=\"1.3\"):\n",
    "    config = hydra.compose(\"mts_lib\")"
   ]
  },
  {
   "cell_type": "code",
   "execution_count": 16,
   "metadata": {},
   "outputs": [],
   "source": [
    "df = pl.read_parquet(config.dump_files.interactions_path)\n",
    "df_users = pl.read_parquet(config.dump_files.users_path)\n",
    "df_items = MTSDataset.select_genres(pl.read_parquet(config.dump_files.items_path), 0.98)"
   ]
  },
  {
   "cell_type": "code",
   "execution_count": 17,
   "metadata": {},
   "outputs": [],
   "source": [
    "df = df.filter(pl.col(\"item_id\").is_in(df_items.select(pl.col(\"item_id\").unique()).to_series()) & \n",
    "          pl.col(\"user_id\").is_in(df_users.select(pl.col(\"user_id\").unique()).to_series())\n",
    ")"
   ]
  },
  {
   "cell_type": "code",
   "execution_count": 18,
   "metadata": {},
   "outputs": [],
   "source": [
    "num_items = df.get_column(\"item_id\").n_unique()"
   ]
  },
  {
   "cell_type": "code",
   "execution_count": 19,
   "metadata": {},
   "outputs": [
    {
     "name": "stdout",
     "output_type": "stream",
     "text": [
      "Num items: 59599\n"
     ]
    }
   ],
   "source": [
    "print(\"Num items:\", num_items)"
   ]
  },
  {
   "cell_type": "code",
   "execution_count": 20,
   "metadata": {},
   "outputs": [],
   "source": [
    "# max_items = 30_000\n",
    "max_items = num_items"
   ]
  },
  {
   "attachments": {},
   "cell_type": "markdown",
   "metadata": {},
   "source": [
    "По причинам произвоидительности берём только элементы с наибольшим количеством оценок"
   ]
  },
  {
   "cell_type": "code",
   "execution_count": 21,
   "metadata": {},
   "outputs": [],
   "source": [
    "if max_items != num_items:\n",
    "    selected_item_ids = df.lazy().groupby(\"item_id\").count().top_k(min(max_items, num_items),\n",
    "                                                                   by=\"count\").select(pl.col(\"item_id\").unique()).collect().to_series()\n",
    "    df = df.filter(pl.col(\"item_id\").is_in(selected_item_ids))\n",
    "    del selected_item_ids"
   ]
  },
  {
   "cell_type": "markdown",
   "metadata": {},
   "source": [
    "Фильтрация случайных взаимодействий"
   ]
  },
  {
   "cell_type": "code",
   "execution_count": 22,
   "metadata": {},
   "outputs": [],
   "source": [
    "df = MTSDataset.filter_noise_interactions(df)"
   ]
  },
  {
   "cell_type": "code",
   "execution_count": 23,
   "metadata": {},
   "outputs": [
    {
     "data": {
      "text/plain": [
       "1116032"
      ]
     },
     "execution_count": 23,
     "metadata": {},
     "output_type": "execute_result"
    }
   ],
   "source": [
    "len(df)"
   ]
  },
  {
   "cell_type": "code",
   "execution_count": 24,
   "metadata": {},
   "outputs": [
    {
     "data": {
      "text/html": [
       "<div><style>\n",
       ".dataframe > thead > tr > th,\n",
       ".dataframe > tbody > tr > td {\n",
       "  text-align: right;\n",
       "}\n",
       "</style>\n",
       "<small>shape: (5, 5)</small><table border=\"1\" class=\"dataframe\"><thead><tr><th>user_id</th><th>item_id</th><th>progress</th><th>rating</th><th>start_date</th></tr><tr><td>u32</td><td>u32</td><td>u8</td><td>f32</td><td>date</td></tr></thead><tbody><tr><td>126706</td><td>14433</td><td>80</td><td>NaN</td><td>2018-01-01</td></tr><tr><td>46791</td><td>83486</td><td>23</td><td>5.0</td><td>2018-01-01</td></tr><tr><td>79313</td><td>188770</td><td>88</td><td>5.0</td><td>2018-01-01</td></tr><tr><td>63454</td><td>78434</td><td>87</td><td>NaN</td><td>2018-01-01</td></tr><tr><td>127451</td><td>14876</td><td>69</td><td>NaN</td><td>2018-01-01</td></tr></tbody></table></div>"
      ],
      "text/plain": [
       "shape: (5, 5)\n",
       "┌─────────┬─────────┬──────────┬────────┬────────────┐\n",
       "│ user_id ┆ item_id ┆ progress ┆ rating ┆ start_date │\n",
       "│ ---     ┆ ---     ┆ ---      ┆ ---    ┆ ---        │\n",
       "│ u32     ┆ u32     ┆ u8       ┆ f32    ┆ date       │\n",
       "╞═════════╪═════════╪══════════╪════════╪════════════╡\n",
       "│ 126706  ┆ 14433   ┆ 80       ┆ NaN    ┆ 2018-01-01 │\n",
       "│ 46791   ┆ 83486   ┆ 23       ┆ 5.0    ┆ 2018-01-01 │\n",
       "│ 79313   ┆ 188770  ┆ 88       ┆ 5.0    ┆ 2018-01-01 │\n",
       "│ 63454   ┆ 78434   ┆ 87       ┆ NaN    ┆ 2018-01-01 │\n",
       "│ 127451  ┆ 14876   ┆ 69       ┆ NaN    ┆ 2018-01-01 │\n",
       "└─────────┴─────────┴──────────┴────────┴────────────┘"
      ]
     },
     "execution_count": 24,
     "metadata": {},
     "output_type": "execute_result"
    }
   ],
   "source": [
    "df.head()"
   ]
  },
  {
   "cell_type": "code",
   "execution_count": 25,
   "metadata": {},
   "outputs": [
    {
     "data": {
      "text/html": [
       "<div><style>\n",
       ".dataframe > thead > tr > th,\n",
       ".dataframe > tbody > tr > td {\n",
       "  text-align: right;\n",
       "}\n",
       "</style>\n",
       "<small>shape: (5, 3)</small><table border=\"1\" class=\"dataframe\"><thead><tr><th>user_id</th><th>age</th><th>sex</th></tr><tr><td>u32</td><td>cat</td><td>cat</td></tr></thead><tbody><tr><td>1</td><td>&quot;45_54&quot;</td><td>null</td></tr><tr><td>2</td><td>&quot;18_24&quot;</td><td>&quot;0&quot;</td></tr><tr><td>3</td><td>&quot;65_inf&quot;</td><td>&quot;0&quot;</td></tr><tr><td>4</td><td>&quot;18_24&quot;</td><td>&quot;0&quot;</td></tr><tr><td>5</td><td>&quot;35_44&quot;</td><td>&quot;0&quot;</td></tr></tbody></table></div>"
      ],
      "text/plain": [
       "shape: (5, 3)\n",
       "┌─────────┬────────┬──────┐\n",
       "│ user_id ┆ age    ┆ sex  │\n",
       "│ ---     ┆ ---    ┆ ---  │\n",
       "│ u32     ┆ cat    ┆ cat  │\n",
       "╞═════════╪════════╪══════╡\n",
       "│ 1       ┆ 45_54  ┆ null │\n",
       "│ 2       ┆ 18_24  ┆ 0    │\n",
       "│ 3       ┆ 65_inf ┆ 0    │\n",
       "│ 4       ┆ 18_24  ┆ 0    │\n",
       "│ 5       ┆ 35_44  ┆ 0    │\n",
       "└─────────┴────────┴──────┘"
      ]
     },
     "execution_count": 25,
     "metadata": {},
     "output_type": "execute_result"
    }
   ],
   "source": [
    "df_users.head()"
   ]
  },
  {
   "cell_type": "code",
   "execution_count": 26,
   "metadata": {},
   "outputs": [
    {
     "data": {
      "text/html": [
       "<div><style>\n",
       ".dataframe > thead > tr > th,\n",
       ".dataframe > tbody > tr > td {\n",
       "  text-align: right;\n",
       "}\n",
       "</style>\n",
       "<small>shape: (3, 5)</small><table border=\"1\" class=\"dataframe\"><thead><tr><th>item_id</th><th>title</th><th>genres</th><th>authors</th><th>year</th></tr><tr><td>u32</td><td>str</td><td>str</td><td>str</td><td>cat</td></tr></thead><tbody><tr><td>128115</td><td>&quot;ворон-челобитч…</td><td>&quot;зарубежная кла…</td><td>&quot;Михаил Салтыко…</td><td>&quot;1886&quot;</td></tr><tr><td>210979</td><td>&quot;скрипка ротшил…</td><td>&quot;классическая п…</td><td>&quot;Антон Чехов&quot;</td><td>&quot;1894&quot;</td></tr><tr><td>95632</td><td>&quot;испорченные де…</td><td>&quot;зарубежная кла…</td><td>&quot;Михаил Салтыко…</td><td>&quot;1869&quot;</td></tr></tbody></table></div>"
      ],
      "text/plain": [
       "shape: (3, 5)\n",
       "┌─────────┬───────────────────┬───────────────────────────────────┬────────────────────────┬──────┐\n",
       "│ item_id ┆ title             ┆ genres                            ┆ authors                ┆ year │\n",
       "│ ---     ┆ ---               ┆ ---                               ┆ ---                    ┆ ---  │\n",
       "│ u32     ┆ str               ┆ str                               ┆ str                    ┆ cat  │\n",
       "╞═════════╪═══════════════════╪═══════════════════════════════════╪════════════════════════╪══════╡\n",
       "│ 128115  ┆ ворон-челобитчик  ┆ зарубежная классика,зарубежные д… ┆ Михаил Салтыков-Щедрин ┆ 1886 │\n",
       "│ 210979  ┆ скрипка ротшильда ┆ классическая проза,литература 19… ┆ Антон Чехов            ┆ 1894 │\n",
       "│ 95632   ┆ испорченные дети  ┆ зарубежная классика,классическая… ┆ Михаил Салтыков-Щедрин ┆ 1869 │\n",
       "└─────────┴───────────────────┴───────────────────────────────────┴────────────────────────┴──────┘"
      ]
     },
     "execution_count": 26,
     "metadata": {},
     "output_type": "execute_result"
    }
   ],
   "source": [
    "df_items.head(n=3)"
   ]
  },
  {
   "cell_type": "code",
   "execution_count": 27,
   "metadata": {},
   "outputs": [
    {
     "data": {
      "text/plain": [
       "(datetime.date(2019, 12, 24), datetime.date(2019, 12, 31))"
      ]
     },
     "execution_count": 27,
     "metadata": {},
     "output_type": "execute_result"
    }
   ],
   "source": [
    "last_date = df.get_column(\"start_date\").max()\n",
    "folds = 1\n",
    "start_date = last_date - timedelta(weeks=folds)\n",
    "start_date, last_date"
   ]
  },
  {
   "cell_type": "code",
   "execution_count": 28,
   "metadata": {},
   "outputs": [
    {
     "data": {
      "text/plain": [
       "(1, 1)"
      ]
     },
     "execution_count": 28,
     "metadata": {},
     "output_type": "execute_result"
    }
   ],
   "source": [
    "cv = TimeRangeSplit(start_date=start_date, folds=folds, interval=timedelta(weeks=1))\n",
    "cv.max_n_splits, cv.get_n_splits(df, datetime_column='start_date')"
   ]
  },
  {
   "cell_type": "code",
   "execution_count": 29,
   "metadata": {},
   "outputs": [],
   "source": [
    "folds_with_stats = list(cv.split(\n",
    "    df, \n",
    "    user_column='user_id',\n",
    "    item_column='item_id',\n",
    "    datetime_column='start_date',\n",
    "    fold_stats=True\n",
    ")\n",
    ")\n",
    "\n",
    "folds_info_with_stats = pl.from_dicts([info for _, _, info in folds_with_stats])"
   ]
  },
  {
   "cell_type": "code",
   "execution_count": 30,
   "metadata": {},
   "outputs": [
    {
     "data": {
      "text/html": [
       "<div><style>\n",
       ".dataframe > thead > tr > th,\n",
       ".dataframe > tbody > tr > td {\n",
       "  text-align: right;\n",
       "}\n",
       "</style>\n",
       "<small>shape: (1, 9)</small><table border=\"1\" class=\"dataframe\"><thead><tr><th>Start date</th><th>End date</th><th>Train</th><th>New users</th><th>New users interactions</th><th>New items</th><th>New items interactions</th><th>Known interactions</th><th>Test</th></tr><tr><td>date</td><td>date</td><td>i64</td><td>i64</td><td>i64</td><td>i64</td><td>i64</td><td>i64</td><td>i64</td></tr></thead><tbody><tr><td>2019-12-24</td><td>2019-12-31</td><td>1103325</td><td>0</td><td>0</td><td>0</td><td>0</td><td>0</td><td>11150</td></tr></tbody></table></div>"
      ],
      "text/plain": [
       "shape: (1, 9)\n",
       "┌────────────┬────────────┬─────────┬───────────┬───┬───────────┬────────────┬────────────┬───────┐\n",
       "│ Start date ┆ End date   ┆ Train   ┆ New users ┆ … ┆ New items ┆ New items  ┆ Known inte ┆ Test  │\n",
       "│ ---        ┆ ---        ┆ ---     ┆ ---       ┆   ┆ ---       ┆ interactio ┆ ractions   ┆ ---   │\n",
       "│ date       ┆ date       ┆ i64     ┆ i64       ┆   ┆ i64       ┆ ns         ┆ ---        ┆ i64   │\n",
       "│            ┆            ┆         ┆           ┆   ┆           ┆ ---        ┆ i64        ┆       │\n",
       "│            ┆            ┆         ┆           ┆   ┆           ┆ i64        ┆            ┆       │\n",
       "╞════════════╪════════════╪═════════╪═══════════╪═══╪═══════════╪════════════╪════════════╪═══════╡\n",
       "│ 2019-12-24 ┆ 2019-12-31 ┆ 1103325 ┆ 0         ┆ … ┆ 0         ┆ 0          ┆ 0          ┆ 11150 │\n",
       "└────────────┴────────────┴─────────┴───────────┴───┴───────────┴────────────┴────────────┴───────┘"
      ]
     },
     "execution_count": 30,
     "metadata": {},
     "output_type": "execute_result"
    }
   ],
   "source": [
    "folds_info_with_stats"
   ]
  },
  {
   "cell_type": "code",
   "execution_count": 31,
   "metadata": {},
   "outputs": [],
   "source": [
    "del folds_info_with_stats"
   ]
  },
  {
   "cell_type": "code",
   "execution_count": 32,
   "metadata": {},
   "outputs": [],
   "source": [
    "train_idx, test_idx, info = folds_with_stats[0]"
   ]
  },
  {
   "cell_type": "code",
   "execution_count": 33,
   "metadata": {},
   "outputs": [
    {
     "data": {
      "text/plain": [
       "((1103325, 5), (11150, 5))"
      ]
     },
     "execution_count": 33,
     "metadata": {},
     "output_type": "execute_result"
    }
   ],
   "source": [
    "global_train = df.join(train_idx, on=[\"user_id\", \"item_id\"], how=\"inner\")\n",
    "global_test = df.join(test_idx, on=[\"user_id\", \"item_id\"], how=\"inner\")\n",
    "global_train.shape, global_test.shape"
   ]
  },
  {
   "cell_type": "code",
   "execution_count": 34,
   "metadata": {},
   "outputs": [],
   "source": [
    "n_samples = 50\n",
    "top_N = 10"
   ]
  },
  {
   "cell_type": "code",
   "execution_count": 35,
   "metadata": {},
   "outputs": [
    {
     "data": {
      "text/html": [
       "<div><style>\n",
       ".dataframe > thead > tr > th,\n",
       ".dataframe > tbody > tr > td {\n",
       "  text-align: right;\n",
       "}\n",
       "</style>\n",
       "<small>shape: (5, 5)</small><table border=\"1\" class=\"dataframe\"><thead><tr><th>user_id</th><th>item_id</th><th>progress</th><th>rating</th><th>start_date</th></tr><tr><td>u32</td><td>u32</td><td>u8</td><td>f32</td><td>date</td></tr></thead><tbody><tr><td>126706</td><td>14433</td><td>80</td><td>NaN</td><td>2018-01-01</td></tr><tr><td>46791</td><td>83486</td><td>23</td><td>5.0</td><td>2018-01-01</td></tr><tr><td>79313</td><td>188770</td><td>88</td><td>5.0</td><td>2018-01-01</td></tr><tr><td>63454</td><td>78434</td><td>87</td><td>NaN</td><td>2018-01-01</td></tr><tr><td>127451</td><td>14876</td><td>69</td><td>NaN</td><td>2018-01-01</td></tr></tbody></table></div>"
      ],
      "text/plain": [
       "shape: (5, 5)\n",
       "┌─────────┬─────────┬──────────┬────────┬────────────┐\n",
       "│ user_id ┆ item_id ┆ progress ┆ rating ┆ start_date │\n",
       "│ ---     ┆ ---     ┆ ---      ┆ ---    ┆ ---        │\n",
       "│ u32     ┆ u32     ┆ u8       ┆ f32    ┆ date       │\n",
       "╞═════════╪═════════╪══════════╪════════╪════════════╡\n",
       "│ 126706  ┆ 14433   ┆ 80       ┆ NaN    ┆ 2018-01-01 │\n",
       "│ 46791   ┆ 83486   ┆ 23       ┆ 5.0    ┆ 2018-01-01 │\n",
       "│ 79313   ┆ 188770  ┆ 88       ┆ 5.0    ┆ 2018-01-01 │\n",
       "│ 63454   ┆ 78434   ┆ 87       ┆ NaN    ┆ 2018-01-01 │\n",
       "│ 127451  ┆ 14876   ┆ 69       ┆ NaN    ┆ 2018-01-01 │\n",
       "└─────────┴─────────┴──────────┴────────┴────────────┘"
      ]
     },
     "execution_count": 35,
     "metadata": {},
     "output_type": "execute_result"
    }
   ],
   "source": [
    "global_train.head()"
   ]
  },
  {
   "cell_type": "code",
   "execution_count": 36,
   "metadata": {},
   "outputs": [],
   "source": [
    "mid_point = global_train.get_column(\"start_date\").dt.timestamp(\"ms\").quantile(0.6, interpolation=\"nearest\")"
   ]
  },
  {
   "cell_type": "code",
   "execution_count": 37,
   "metadata": {},
   "outputs": [],
   "source": [
    "train_first_stage = global_train.filter(pl.col(\"start_date\").dt.timestamp(\"ms\") <= mid_point)\n",
    "test_first_stage = global_train.filter(pl.col(\"start_date\").dt.timestamp(\"ms\") > mid_point)\n",
    "test_first_stage = test_first_stage.filter(\n",
    "    pl.col(\"user_id\").is_in(train_first_stage.get_column(\"user_id\").unique())\n",
    "    )"
   ]
  },
  {
   "cell_type": "code",
   "execution_count": 38,
   "metadata": {},
   "outputs": [],
   "source": [
    "del mid_point"
   ]
  },
  {
   "cell_type": "code",
   "execution_count": 39,
   "metadata": {},
   "outputs": [
    {
     "data": {
      "text/plain": [
       "((662395, 5), (435806, 5))"
      ]
     },
     "execution_count": 39,
     "metadata": {},
     "output_type": "execute_result"
    }
   ],
   "source": [
    "train_first_stage.shape, test_first_stage.shape"
   ]
  },
  {
   "cell_type": "code",
   "execution_count": 40,
   "metadata": {},
   "outputs": [
    {
     "data": {
      "text/html": [
       "<div><style>\n",
       ".dataframe > thead > tr > th,\n",
       ".dataframe > tbody > tr > td {\n",
       "  text-align: right;\n",
       "}\n",
       "</style>\n",
       "<small>shape: (1, 2)</small><table border=\"1\" class=\"dataframe\"><thead><tr><th>user_id</th><th>item_id</th></tr><tr><td>u32</td><td>u32</td></tr></thead><tbody><tr><td>104378</td><td>59560</td></tr></tbody></table></div>"
      ],
      "text/plain": [
       "shape: (1, 2)\n",
       "┌─────────┬─────────┐\n",
       "│ user_id ┆ item_id │\n",
       "│ ---     ┆ ---     │\n",
       "│ u32     ┆ u32     │\n",
       "╞═════════╪═════════╡\n",
       "│ 104378  ┆ 59560   │\n",
       "└─────────┴─────────┘"
      ]
     },
     "execution_count": 40,
     "metadata": {},
     "output_type": "execute_result"
    }
   ],
   "source": [
    "train_first_stage.select(pl.col(\"user_id\").n_unique(), pl.col(\"item_id\").n_unique())"
   ]
  },
  {
   "cell_type": "code",
   "execution_count": 41,
   "metadata": {},
   "outputs": [
    {
     "data": {
      "text/html": [
       "<div><style>\n",
       ".dataframe > thead > tr > th,\n",
       ".dataframe > tbody > tr > td {\n",
       "  text-align: right;\n",
       "}\n",
       "</style>\n",
       "<small>shape: (1, 2)</small><table border=\"1\" class=\"dataframe\"><thead><tr><th>user_id</th><th>item_id</th></tr><tr><td>u32</td><td>u32</td></tr></thead><tbody><tr><td>97482</td><td>58753</td></tr></tbody></table></div>"
      ],
      "text/plain": [
       "shape: (1, 2)\n",
       "┌─────────┬─────────┐\n",
       "│ user_id ┆ item_id │\n",
       "│ ---     ┆ ---     │\n",
       "│ u32     ┆ u32     │\n",
       "╞═════════╪═════════╡\n",
       "│ 97482   ┆ 58753   │\n",
       "└─────────┴─────────┘"
      ]
     },
     "execution_count": 41,
     "metadata": {},
     "output_type": "execute_result"
    }
   ],
   "source": [
    "test_first_stage.select(pl.col(\"user_id\").n_unique(), pl.col(\"item_id\").n_unique())"
   ]
  },
  {
   "cell_type": "markdown",
   "metadata": {},
   "source": [
    "## 1 Этап"
   ]
  },
  {
   "cell_type": "code",
   "execution_count": 42,
   "metadata": {},
   "outputs": [],
   "source": [
    "first_stage_recommender = ImplicitRecommender(\n",
    "    AlternatingLeastSquares(factors=64, iterations=10, random_state=1123),\n",
    ")"
   ]
  },
  {
   "cell_type": "code",
   "execution_count": 43,
   "metadata": {},
   "outputs": [
    {
     "data": {
      "application/vnd.jupyter.widget-view+json": {
       "model_id": "16771fa85d8b4726aa3826ef207d83e3",
       "version_major": 2,
       "version_minor": 0
      },
      "text/plain": [
       "  0%|          | 0/10 [00:00<?, ?it/s]"
      ]
     },
     "metadata": {},
     "output_type": "display_data"
    }
   ],
   "source": [
    "first_stage_recommender.fit(train_first_stage, progress=True)"
   ]
  },
  {
   "cell_type": "code",
   "execution_count": 44,
   "metadata": {},
   "outputs": [],
   "source": [
    "test_first_stage_pred = first_stage_recommender.recommend(test_first_stage, num_recs_per_user=n_samples)"
   ]
  },
  {
   "cell_type": "code",
   "execution_count": 45,
   "metadata": {},
   "outputs": [
    {
     "data": {
      "text/html": [
       "<div><style>\n",
       ".dataframe > thead > tr > th,\n",
       ".dataframe > tbody > tr > td {\n",
       "  text-align: right;\n",
       "}\n",
       "</style>\n",
       "<small>shape: (22, 2)</small><table border=\"1\" class=\"dataframe\"><thead><tr><th>name</th><th>value</th></tr><tr><td>str</td><td>f64</td></tr></thead><tbody><tr><td>&quot;prec@1&quot;</td><td>0.004811</td></tr><tr><td>&quot;recall@1&quot;</td><td>0.004811</td></tr><tr><td>&quot;prec@2&quot;</td><td>0.00477</td></tr><tr><td>&quot;recall@2&quot;</td><td>0.00477</td></tr><tr><td>&quot;prec@3&quot;</td><td>0.004551</td></tr><tr><td>&quot;recall@3&quot;</td><td>0.004551</td></tr><tr><td>&quot;prec@4&quot;</td><td>0.004375</td></tr><tr><td>&quot;recall@4&quot;</td><td>0.004375</td></tr><tr><td>&quot;prec@5&quot;</td><td>0.004245</td></tr><tr><td>&quot;recall@5&quot;</td><td>0.004245</td></tr><tr><td>&quot;prec@6&quot;</td><td>0.004179</td></tr><tr><td>&quot;recall@6&quot;</td><td>0.004179</td></tr><tr><td>&quot;prec@7&quot;</td><td>0.004081</td></tr><tr><td>&quot;recall@7&quot;</td><td>0.004081</td></tr><tr><td>&quot;prec@8&quot;</td><td>0.003988</td></tr><tr><td>&quot;recall@8&quot;</td><td>0.003988</td></tr><tr><td>&quot;prec@9&quot;</td><td>0.003904</td></tr><tr><td>&quot;recall@9&quot;</td><td>0.003904</td></tr><tr><td>&quot;prec@10&quot;</td><td>0.003797</td></tr><tr><td>&quot;recall@10&quot;</td><td>0.003797</td></tr><tr><td>&quot;MRR@10&quot;</td><td>0.010817</td></tr><tr><td>&quot;MAP@10&quot;</td><td>0.006994</td></tr></tbody></table></div>"
      ],
      "text/plain": [
       "shape: (22, 2)\n",
       "┌───────────┬──────────┐\n",
       "│ name      ┆ value    │\n",
       "│ ---       ┆ ---      │\n",
       "│ str       ┆ f64      │\n",
       "╞═══════════╪══════════╡\n",
       "│ prec@1    ┆ 0.004811 │\n",
       "│ recall@1  ┆ 0.004811 │\n",
       "│ prec@2    ┆ 0.00477  │\n",
       "│ recall@2  ┆ 0.00477  │\n",
       "│ …         ┆ …        │\n",
       "│ prec@10   ┆ 0.003797 │\n",
       "│ recall@10 ┆ 0.003797 │\n",
       "│ MRR@10    ┆ 0.010817 │\n",
       "│ MAP@10    ┆ 0.006994 │\n",
       "└───────────┴──────────┘"
      ]
     },
     "execution_count": 45,
     "metadata": {},
     "output_type": "execute_result"
    }
   ],
   "source": [
    "compute_metrics(test_first_stage, test_first_stage_pred, top_N, with_separate_k_col=False)"
   ]
  },
  {
   "cell_type": "code",
   "execution_count": 46,
   "metadata": {},
   "outputs": [],
   "source": [
    "candidates = test_first_stage_pred"
   ]
  },
  {
   "cell_type": "code",
   "execution_count": 47,
   "metadata": {},
   "outputs": [],
   "source": [
    "selected_cols = [\"user_id\", \"item_id\", \"rank\", \"target\"]"
   ]
  },
  {
   "cell_type": "code",
   "execution_count": 48,
   "metadata": {},
   "outputs": [],
   "source": [
    "catboost_pos_sampels = candidates.lazy().join(test_first_stage.lazy(\n",
    "), on=[\"user_id\", \"item_id\"]).with_columns(pl.lit(1, dtype=pl.Int8).alias(\"target\")).select(selected_cols).collect()\n"
   ]
  },
  {
   "cell_type": "code",
   "execution_count": 49,
   "metadata": {},
   "outputs": [
    {
     "data": {
      "text/html": [
       "<div><style>\n",
       ".dataframe > thead > tr > th,\n",
       ".dataframe > tbody > tr > td {\n",
       "  text-align: right;\n",
       "}\n",
       "</style>\n",
       "<small>shape: (9, 5)</small><table border=\"1\" class=\"dataframe\"><thead><tr><th>describe</th><th>user_id</th><th>item_id</th><th>rank</th><th>target</th></tr><tr><td>str</td><td>f64</td><td>f64</td><td>f64</td><td>f64</td></tr></thead><tbody><tr><td>&quot;count&quot;</td><td>12026.0</td><td>12026.0</td><td>12026.0</td><td>12026.0</td></tr><tr><td>&quot;null_count&quot;</td><td>0.0</td><td>0.0</td><td>0.0</td><td>0.0</td></tr><tr><td>&quot;mean&quot;</td><td>78860.367786</td><td>161035.611176</td><td>21.252204</td><td>1.0</td></tr><tr><td>&quot;std&quot;</td><td>46252.252205</td><td>93793.587103</td><td>14.556958</td><td>0.0</td></tr><tr><td>&quot;min&quot;</td><td>21.0</td><td>137.0</td><td>1.0</td><td>1.0</td></tr><tr><td>&quot;max&quot;</td><td>159574.0</td><td>321346.0</td><td>50.0</td><td>1.0</td></tr><tr><td>&quot;median&quot;</td><td>76762.5</td><td>157379.5</td><td>19.0</td><td>1.0</td></tr><tr><td>&quot;25%&quot;</td><td>39088.0</td><td>82385.0</td><td>8.0</td><td>1.0</td></tr><tr><td>&quot;75%&quot;</td><td>119353.0</td><td>245087.0</td><td>33.0</td><td>1.0</td></tr></tbody></table></div>"
      ],
      "text/plain": [
       "shape: (9, 5)\n",
       "┌────────────┬──────────────┬───────────────┬───────────┬─────────┐\n",
       "│ describe   ┆ user_id      ┆ item_id       ┆ rank      ┆ target  │\n",
       "│ ---        ┆ ---          ┆ ---           ┆ ---       ┆ ---     │\n",
       "│ str        ┆ f64          ┆ f64           ┆ f64       ┆ f64     │\n",
       "╞════════════╪══════════════╪═══════════════╪═══════════╪═════════╡\n",
       "│ count      ┆ 12026.0      ┆ 12026.0       ┆ 12026.0   ┆ 12026.0 │\n",
       "│ null_count ┆ 0.0          ┆ 0.0           ┆ 0.0       ┆ 0.0     │\n",
       "│ mean       ┆ 78860.367786 ┆ 161035.611176 ┆ 21.252204 ┆ 1.0     │\n",
       "│ std        ┆ 46252.252205 ┆ 93793.587103  ┆ 14.556958 ┆ 0.0     │\n",
       "│ min        ┆ 21.0         ┆ 137.0         ┆ 1.0       ┆ 1.0     │\n",
       "│ max        ┆ 159574.0     ┆ 321346.0      ┆ 50.0      ┆ 1.0     │\n",
       "│ median     ┆ 76762.5      ┆ 157379.5      ┆ 19.0      ┆ 1.0     │\n",
       "│ 25%        ┆ 39088.0      ┆ 82385.0       ┆ 8.0       ┆ 1.0     │\n",
       "│ 75%        ┆ 119353.0     ┆ 245087.0      ┆ 33.0      ┆ 1.0     │\n",
       "└────────────┴──────────────┴───────────────┴───────────┴─────────┘"
      ]
     },
     "execution_count": 49,
     "metadata": {},
     "output_type": "execute_result"
    }
   ],
   "source": [
    "catboost_pos_sampels.describe()"
   ]
  },
  {
   "cell_type": "code",
   "execution_count": 50,
   "metadata": {},
   "outputs": [],
   "source": [
    "catboost_neg_samples = candidates.lazy().join(catboost_pos_sampels.lazy(), how=\"anti\", on=[\n",
    "    \"user_id\", \"item_id\"]).with_columns(pl.lit(0, dtype=catboost_pos_sampels.schema[\"target\"]).alias(\"target\")).collect().sample(n=len(catboost_pos_sampels) * 2, seed=10, with_replacement=False)"
   ]
  },
  {
   "cell_type": "code",
   "execution_count": 51,
   "metadata": {},
   "outputs": [
    {
     "data": {
      "text/html": [
       "<div><style>\n",
       ".dataframe > thead > tr > th,\n",
       ".dataframe > tbody > tr > td {\n",
       "  text-align: right;\n",
       "}\n",
       "</style>\n",
       "<small>shape: (9, 5)</small><table border=\"1\" class=\"dataframe\"><thead><tr><th>describe</th><th>user_id</th><th>item_id</th><th>rank</th><th>target</th></tr><tr><td>str</td><td>f64</td><td>f64</td><td>f64</td><td>f64</td></tr></thead><tbody><tr><td>&quot;count&quot;</td><td>24052.0</td><td>24052.0</td><td>24052.0</td><td>24052.0</td></tr><tr><td>&quot;null_count&quot;</td><td>0.0</td><td>0.0</td><td>0.0</td><td>0.0</td></tr><tr><td>&quot;mean&quot;</td><td>79829.570389</td><td>157878.716323</td><td>25.487319</td><td>0.0</td></tr><tr><td>&quot;std&quot;</td><td>46006.709631</td><td>93063.722442</td><td>14.33189</td><td>0.0</td></tr><tr><td>&quot;min&quot;</td><td>31.0</td><td>13.0</td><td>1.0</td><td>0.0</td></tr><tr><td>&quot;max&quot;</td><td>159610.0</td><td>321575.0</td><td>50.0</td><td>0.0</td></tr><tr><td>&quot;median&quot;</td><td>80116.0</td><td>155451.0</td><td>25.0</td><td>0.0</td></tr><tr><td>&quot;25%&quot;</td><td>40108.0</td><td>78703.0</td><td>13.0</td><td>0.0</td></tr><tr><td>&quot;75%&quot;</td><td>119644.0</td><td>238531.0</td><td>38.0</td><td>0.0</td></tr></tbody></table></div>"
      ],
      "text/plain": [
       "shape: (9, 5)\n",
       "┌────────────┬──────────────┬───────────────┬───────────┬─────────┐\n",
       "│ describe   ┆ user_id      ┆ item_id       ┆ rank      ┆ target  │\n",
       "│ ---        ┆ ---          ┆ ---           ┆ ---       ┆ ---     │\n",
       "│ str        ┆ f64          ┆ f64           ┆ f64       ┆ f64     │\n",
       "╞════════════╪══════════════╪═══════════════╪═══════════╪═════════╡\n",
       "│ count      ┆ 24052.0      ┆ 24052.0       ┆ 24052.0   ┆ 24052.0 │\n",
       "│ null_count ┆ 0.0          ┆ 0.0           ┆ 0.0       ┆ 0.0     │\n",
       "│ mean       ┆ 79829.570389 ┆ 157878.716323 ┆ 25.487319 ┆ 0.0     │\n",
       "│ std        ┆ 46006.709631 ┆ 93063.722442  ┆ 14.33189  ┆ 0.0     │\n",
       "│ min        ┆ 31.0         ┆ 13.0          ┆ 1.0       ┆ 0.0     │\n",
       "│ max        ┆ 159610.0     ┆ 321575.0      ┆ 50.0      ┆ 0.0     │\n",
       "│ median     ┆ 80116.0      ┆ 155451.0      ┆ 25.0      ┆ 0.0     │\n",
       "│ 25%        ┆ 40108.0      ┆ 78703.0       ┆ 13.0      ┆ 0.0     │\n",
       "│ 75%        ┆ 119644.0     ┆ 238531.0      ┆ 38.0      ┆ 0.0     │\n",
       "└────────────┴──────────────┴───────────────┴───────────┴─────────┘"
      ]
     },
     "execution_count": 51,
     "metadata": {},
     "output_type": "execute_result"
    }
   ],
   "source": [
    "catboost_neg_samples.describe()"
   ]
  },
  {
   "cell_type": "code",
   "execution_count": 52,
   "metadata": {},
   "outputs": [],
   "source": [
    "catboost_samples = catboost_pos_sampels.vstack(catboost_neg_samples)"
   ]
  },
  {
   "cell_type": "code",
   "execution_count": 53,
   "metadata": {},
   "outputs": [],
   "source": [
    "del catboost_pos_sampels\n",
    "del catboost_neg_samples"
   ]
  },
  {
   "cell_type": "code",
   "execution_count": 54,
   "metadata": {},
   "outputs": [
    {
     "data": {
      "text/html": [
       "<div><style>\n",
       ".dataframe > thead > tr > th,\n",
       ".dataframe > tbody > tr > td {\n",
       "  text-align: right;\n",
       "}\n",
       "</style>\n",
       "<small>shape: (3, 4)</small><table border=\"1\" class=\"dataframe\"><thead><tr><th>user_id</th><th>item_id</th><th>rank</th><th>target</th></tr><tr><td>u32</td><td>u32</td><td>u32</td><td>i8</td></tr></thead><tbody><tr><td>21</td><td>11614</td><td>46</td><td>1</td></tr><tr><td>43</td><td>81342</td><td>2</td><td>1</td></tr><tr><td>43</td><td>10522</td><td>6</td><td>1</td></tr></tbody></table></div>"
      ],
      "text/plain": [
       "shape: (3, 4)\n",
       "┌─────────┬─────────┬──────┬────────┐\n",
       "│ user_id ┆ item_id ┆ rank ┆ target │\n",
       "│ ---     ┆ ---     ┆ ---  ┆ ---    │\n",
       "│ u32     ┆ u32     ┆ u32  ┆ i8     │\n",
       "╞═════════╪═════════╪══════╪════════╡\n",
       "│ 21      ┆ 11614   ┆ 46   ┆ 1      │\n",
       "│ 43      ┆ 81342   ┆ 2    ┆ 1      │\n",
       "│ 43      ┆ 10522   ┆ 6    ┆ 1      │\n",
       "└─────────┴─────────┴──────┴────────┘"
      ]
     },
     "execution_count": 54,
     "metadata": {},
     "output_type": "execute_result"
    }
   ],
   "source": [
    "catboost_samples.head(n=3)"
   ]
  },
  {
   "cell_type": "code",
   "execution_count": 55,
   "metadata": {},
   "outputs": [
    {
     "data": {
      "text/html": [
       "<div><style>\n",
       ".dataframe > thead > tr > th,\n",
       ".dataframe > tbody > tr > td {\n",
       "  text-align: right;\n",
       "}\n",
       "</style>\n",
       "<small>shape: (2, 2)</small><table border=\"1\" class=\"dataframe\"><thead><tr><th>target</th><th>counts</th></tr><tr><td>i8</td><td>f64</td></tr></thead><tbody><tr><td>1</td><td>0.333333</td></tr><tr><td>0</td><td>0.666667</td></tr></tbody></table></div>"
      ],
      "text/plain": [
       "shape: (2, 2)\n",
       "┌────────┬──────────┐\n",
       "│ target ┆ counts   │\n",
       "│ ---    ┆ ---      │\n",
       "│ i8     ┆ f64      │\n",
       "╞════════╪══════════╡\n",
       "│ 1      ┆ 0.333333 │\n",
       "│ 0      ┆ 0.666667 │\n",
       "└────────┴──────────┘"
      ]
     },
     "execution_count": 55,
     "metadata": {},
     "output_type": "execute_result"
    }
   ],
   "source": [
    "catboost_samples.select(pl.col(\"target\").value_counts()).unnest(\"target\").select(\n",
    "    pl.col(\"target\"),\n",
    "    pl.col(\"counts\") / pl.col(\"counts\").sum()\n",
    ")"
   ]
  },
  {
   "cell_type": "markdown",
   "metadata": {},
   "source": [
    "## 2 Этап"
   ]
  },
  {
   "cell_type": "code",
   "execution_count": 56,
   "metadata": {},
   "outputs": [],
   "source": [
    "# df_users_features = df_users\n",
    "df_users_features = df_users.with_columns(\n",
    "    pl.col(\"age\").cast(str).fill_null(\"unknown\"),\n",
    "    pl.col(\"sex\").cast(str).fill_null(\"unknown\")\n",
    ")"
   ]
  },
  {
   "cell_type": "code",
   "execution_count": 57,
   "metadata": {},
   "outputs": [],
   "source": [
    "# df_items_features = df_items.select(pl.all().exclude([\"IMDb_URL\", \"title\"])).with_columns(pl.col(\"release_date\").dt.timestamp(\"us\"))\n",
    "df_items_features = df_items.select(\n",
    "    pl.col(\"item_id\"),\n",
    "    pl.col(\"genres\"),\n",
    "    pl.col(\"year\")\n",
    ").with_columns(\n",
    "    pl.col(\"genres\").cast(str).fill_null(\"genre_unknown\").alias(\"genres\"),\n",
    "    pl.col(\"year\").cast(str).fill_null(\"unknown\").alias(\"year\")\n",
    ")"
   ]
  },
  {
   "cell_type": "code",
   "execution_count": 58,
   "metadata": {},
   "outputs": [],
   "source": [
    "catboost_samples = catboost_samples.lazy().join(df_users_features.lazy(\n",
    "), on=\"user_id\").join(df_items_features.lazy(), on=\"item_id\").collect()\n"
   ]
  },
  {
   "cell_type": "code",
   "execution_count": 59,
   "metadata": {},
   "outputs": [
    {
     "data": {
      "text/html": [
       "<div><style>\n",
       ".dataframe > thead > tr > th,\n",
       ".dataframe > tbody > tr > td {\n",
       "  text-align: right;\n",
       "}\n",
       "</style>\n",
       "<small>shape: (9, 9)</small><table border=\"1\" class=\"dataframe\"><thead><tr><th>describe</th><th>user_id</th><th>item_id</th><th>rank</th><th>target</th><th>age</th><th>sex</th><th>genres</th><th>year</th></tr><tr><td>str</td><td>f64</td><td>f64</td><td>f64</td><td>f64</td><td>str</td><td>str</td><td>str</td><td>str</td></tr></thead><tbody><tr><td>&quot;count&quot;</td><td>36078.0</td><td>36078.0</td><td>36078.0</td><td>36078.0</td><td>&quot;36078&quot;</td><td>&quot;36078&quot;</td><td>&quot;36078&quot;</td><td>&quot;36078&quot;</td></tr><tr><td>&quot;null_count&quot;</td><td>0.0</td><td>0.0</td><td>0.0</td><td>0.0</td><td>&quot;0&quot;</td><td>&quot;0&quot;</td><td>&quot;0&quot;</td><td>&quot;0&quot;</td></tr><tr><td>&quot;mean&quot;</td><td>79506.502855</td><td>158931.014607</td><td>24.075614</td><td>0.333333</td><td>null</td><td>null</td><td>null</td><td>null</td></tr><tr><td>&quot;std&quot;</td><td>46090.326119</td><td>93318.212348</td><td>14.544776</td><td>0.471411</td><td>null</td><td>null</td><td>null</td><td>null</td></tr><tr><td>&quot;min&quot;</td><td>21.0</td><td>13.0</td><td>1.0</td><td>0.0</td><td>&quot;18_24&quot;</td><td>&quot;0&quot;</td><td>&quot;английский язы…</td><td>&quot;1822&quot;</td></tr><tr><td>&quot;max&quot;</td><td>159610.0</td><td>321575.0</td><td>50.0</td><td>1.0</td><td>&quot;unknown&quot;</td><td>&quot;unknown&quot;</td><td>&quot;юмористическая…</td><td>&quot;unknown&quot;</td></tr><tr><td>&quot;median&quot;</td><td>79081.0</td><td>155451.0</td><td>23.0</td><td>0.0</td><td>null</td><td>null</td><td>null</td><td>null</td></tr><tr><td>&quot;25%&quot;</td><td>39753.0</td><td>80195.0</td><td>11.0</td><td>0.0</td><td>null</td><td>null</td><td>null</td><td>null</td></tr><tr><td>&quot;75%&quot;</td><td>119566.0</td><td>239503.0</td><td>37.0</td><td>1.0</td><td>null</td><td>null</td><td>null</td><td>null</td></tr></tbody></table></div>"
      ],
      "text/plain": [
       "shape: (9, 9)\n",
       "┌────────────┬─────────────┬────────────┬───────────┬───┬─────────┬─────────┬────────────┬─────────┐\n",
       "│ describe   ┆ user_id     ┆ item_id    ┆ rank      ┆ … ┆ age     ┆ sex     ┆ genres     ┆ year    │\n",
       "│ ---        ┆ ---         ┆ ---        ┆ ---       ┆   ┆ ---     ┆ ---     ┆ ---        ┆ ---     │\n",
       "│ str        ┆ f64         ┆ f64        ┆ f64       ┆   ┆ str     ┆ str     ┆ str        ┆ str     │\n",
       "╞════════════╪═════════════╪════════════╪═══════════╪═══╪═════════╪═════════╪════════════╪═════════╡\n",
       "│ count      ┆ 36078.0     ┆ 36078.0    ┆ 36078.0   ┆ … ┆ 36078   ┆ 36078   ┆ 36078      ┆ 36078   │\n",
       "│ null_count ┆ 0.0         ┆ 0.0        ┆ 0.0       ┆ … ┆ 0       ┆ 0       ┆ 0          ┆ 0       │\n",
       "│ mean       ┆ 79506.50285 ┆ 158931.014 ┆ 24.075614 ┆ … ┆ null    ┆ null    ┆ null       ┆ null    │\n",
       "│            ┆ 5           ┆ 607        ┆           ┆   ┆         ┆         ┆            ┆         │\n",
       "│ std        ┆ 46090.32611 ┆ 93318.2123 ┆ 14.544776 ┆ … ┆ null    ┆ null    ┆ null       ┆ null    │\n",
       "│            ┆ 9           ┆ 48         ┆           ┆   ┆         ┆         ┆            ┆         │\n",
       "│ min        ┆ 21.0        ┆ 13.0       ┆ 1.0       ┆ … ┆ 18_24   ┆ 0       ┆ английский ┆ 1822    │\n",
       "│            ┆             ┆            ┆           ┆   ┆         ┆         ┆ язык,заруб ┆         │\n",
       "│            ┆             ┆            ┆           ┆   ┆         ┆         ┆ ежная      ┆         │\n",
       "│            ┆             ┆            ┆           ┆   ┆         ┆         ┆ образ…     ┆         │\n",
       "│ max        ┆ 159610.0    ┆ 321575.0   ┆ 50.0      ┆ … ┆ unknown ┆ unknown ┆ юмористиче ┆ unknown │\n",
       "│            ┆             ┆            ┆           ┆   ┆         ┆         ┆ ская       ┆         │\n",
       "│            ┆             ┆            ┆           ┆   ┆         ┆         ┆ фантастика ┆         │\n",
       "│ median     ┆ 79081.0     ┆ 155451.0   ┆ 23.0      ┆ … ┆ null    ┆ null    ┆ null       ┆ null    │\n",
       "│ 25%        ┆ 39753.0     ┆ 80195.0    ┆ 11.0      ┆ … ┆ null    ┆ null    ┆ null       ┆ null    │\n",
       "│ 75%        ┆ 119566.0    ┆ 239503.0   ┆ 37.0      ┆ … ┆ null    ┆ null    ┆ null       ┆ null    │\n",
       "└────────────┴─────────────┴────────────┴───────────┴───┴─────────┴─────────┴────────────┴─────────┘"
      ]
     },
     "execution_count": 59,
     "metadata": {},
     "output_type": "execute_result"
    }
   ],
   "source": [
    "catboost_samples.describe()"
   ]
  },
  {
   "cell_type": "code",
   "execution_count": 60,
   "metadata": {},
   "outputs": [
    {
     "data": {
      "text/html": [
       "<div><style>\n",
       ".dataframe > thead > tr > th,\n",
       ".dataframe > tbody > tr > td {\n",
       "  text-align: right;\n",
       "}\n",
       "</style>\n",
       "<small>shape: (3, 8)</small><table border=\"1\" class=\"dataframe\"><thead><tr><th>user_id</th><th>item_id</th><th>rank</th><th>target</th><th>age</th><th>sex</th><th>genres</th><th>year</th></tr><tr><td>u32</td><td>u32</td><td>u32</td><td>i8</td><td>str</td><td>str</td><td>str</td><td>str</td></tr></thead><tbody><tr><td>29432</td><td>174888</td><td>42</td><td>0</td><td>&quot;18_24&quot;</td><td>&quot;0&quot;</td><td>&quot;литература 19 …</td><td>&quot;1836&quot;</td></tr><tr><td>75108</td><td>174888</td><td>41</td><td>0</td><td>&quot;18_24&quot;</td><td>&quot;0&quot;</td><td>&quot;литература 19 …</td><td>&quot;1836&quot;</td></tr><tr><td>75463</td><td>174888</td><td>39</td><td>0</td><td>&quot;25_34&quot;</td><td>&quot;0&quot;</td><td>&quot;литература 19 …</td><td>&quot;1836&quot;</td></tr></tbody></table></div>"
      ],
      "text/plain": [
       "shape: (3, 8)\n",
       "┌─────────┬─────────┬──────┬────────┬───────┬─────┬───────────────────────────────────┬──────┐\n",
       "│ user_id ┆ item_id ┆ rank ┆ target ┆ age   ┆ sex ┆ genres                            ┆ year │\n",
       "│ ---     ┆ ---     ┆ ---  ┆ ---    ┆ ---   ┆ --- ┆ ---                               ┆ ---  │\n",
       "│ u32     ┆ u32     ┆ u32  ┆ i8     ┆ str   ┆ str ┆ str                               ┆ str  │\n",
       "╞═════════╪═════════╪══════╪════════╪═══════╪═════╪═══════════════════════════════════╪══════╡\n",
       "│ 29432   ┆ 174888  ┆ 42   ┆ 0      ┆ 18_24 ┆ 0   ┆ литература 19 века,пьесы и драма… ┆ 1836 │\n",
       "│ 75108   ┆ 174888  ┆ 41   ┆ 0      ┆ 18_24 ┆ 0   ┆ литература 19 века,пьесы и драма… ┆ 1836 │\n",
       "│ 75463   ┆ 174888  ┆ 39   ┆ 0      ┆ 25_34 ┆ 0   ┆ литература 19 века,пьесы и драма… ┆ 1836 │\n",
       "└─────────┴─────────┴──────┴────────┴───────┴─────┴───────────────────────────────────┴──────┘"
      ]
     },
     "execution_count": 60,
     "metadata": {},
     "output_type": "execute_result"
    }
   ],
   "source": [
    "catboost_samples.head(n=3)"
   ]
  },
  {
   "cell_type": "code",
   "execution_count": 61,
   "metadata": {},
   "outputs": [],
   "source": [
    "catboost_train_users, catboost_test_users = train_test_split(catboost_samples.get_column(\"user_id\").unique(), train_size=0.7, random_state=244) "
   ]
  },
  {
   "cell_type": "code",
   "execution_count": 62,
   "metadata": {},
   "outputs": [],
   "source": [
    "catboost_test_users, catboost_early_stpping_usesr = train_test_split(catboost_test_users, train_size=0.7, random_state=1212)"
   ]
  },
  {
   "cell_type": "code",
   "execution_count": 63,
   "metadata": {},
   "outputs": [],
   "source": [
    "catboost_train = catboost_samples.filter(pl.col(\"user_id\").is_in(catboost_train_users))\n",
    "catboost_test = catboost_samples.filter(pl.col(\"user_id\").is_in(catboost_test_users))\n",
    "catboost_early_stopping = catboost_samples.filter(pl.col(\"user_id\").is_in(catboost_early_stpping_usesr))"
   ]
  },
  {
   "cell_type": "code",
   "execution_count": 64,
   "metadata": {},
   "outputs": [],
   "source": [
    "exclude_columns = [\"item_id\", \"user_id\", \"target\"]"
   ]
  },
  {
   "cell_type": "code",
   "execution_count": 65,
   "metadata": {},
   "outputs": [],
   "source": [
    "target_train = catboost_train.get_column(\"target\").to_numpy()\n",
    "catboost_train = convert_to_features_data(catboost_train, exclude_columns)"
   ]
  },
  {
   "cell_type": "code",
   "execution_count": 66,
   "metadata": {},
   "outputs": [],
   "source": [
    "target_test = catboost_test.get_column(\"target\").to_numpy()\n",
    "catboost_test = convert_to_features_data(catboost_test, exclude_columns)"
   ]
  },
  {
   "cell_type": "code",
   "execution_count": 67,
   "metadata": {},
   "outputs": [],
   "source": [
    "target_early_stop = catboost_early_stopping.get_column(\"target\").to_numpy()\n",
    "catboost_early_stopping = convert_to_features_data(catboost_early_stopping, exclude_columns)"
   ]
  },
  {
   "cell_type": "code",
   "execution_count": 68,
   "metadata": {},
   "outputs": [],
   "source": [
    "train_pool = Pool(\n",
    "    data=catboost_train,\n",
    "    label=target_train,\n",
    ")"
   ]
  },
  {
   "cell_type": "code",
   "execution_count": 69,
   "metadata": {},
   "outputs": [],
   "source": [
    "test_pool = Pool(\n",
    "    data=catboost_test,\n",
    "    label=target_test,\n",
    ")"
   ]
  },
  {
   "cell_type": "code",
   "execution_count": 70,
   "metadata": {},
   "outputs": [],
   "source": [
    "early_stop_pool = Pool(data=catboost_early_stopping, label=target_early_stop)"
   ]
  },
  {
   "cell_type": "code",
   "execution_count": 71,
   "metadata": {},
   "outputs": [],
   "source": [
    "train_dir = os.path.join(out_exp_dir, \"log\")"
   ]
  },
  {
   "cell_type": "code",
   "execution_count": 72,
   "metadata": {},
   "outputs": [],
   "source": [
    "os.makedirs(train_dir, exist_ok=True)"
   ]
  },
  {
   "cell_type": "code",
   "execution_count": 73,
   "metadata": {},
   "outputs": [],
   "source": [
    "ranker = CatBoostClassifier(task_type='GPU', \n",
    "                            random_seed=3466, metric_period=50, \n",
    "                        eval_metric=\"AUC\", \n",
    "                        custom_metric=[\"Recall\", \"Precision\"],\n",
    "                        iterations=2000,\n",
    "                        train_dir=train_dir,\n",
    "                        loss_function=\"Logloss\"\n",
    "                        )"
   ]
  },
  {
   "cell_type": "code",
   "execution_count": 74,
   "metadata": {},
   "outputs": [],
   "source": [
    "model_path = os.path.join(out_exp_dir, \"model\", \"model.cbm\")"
   ]
  },
  {
   "cell_type": "code",
   "execution_count": 75,
   "metadata": {},
   "outputs": [],
   "source": [
    "os.makedirs(os.path.dirname(model_path), exist_ok=True)"
   ]
  },
  {
   "cell_type": "code",
   "execution_count": 76,
   "metadata": {},
   "outputs": [],
   "source": [
    "force_train = True"
   ]
  },
  {
   "cell_type": "code",
   "execution_count": 77,
   "metadata": {},
   "outputs": [
    {
     "name": "stderr",
     "output_type": "stream",
     "text": [
      "Warning: less than 75% gpu memory available for training. Free: 2525 Total: 6143.8125\n"
     ]
    },
    {
     "name": "stdout",
     "output_type": "stream",
     "text": [
      "Learning rate set to 0.040623\n",
      "0:\ttest: 0.6717511\tbest: 0.6717511 (0)\ttotal: 115ms\tremaining: 3m 50s\n",
      "50:\ttest: 0.7178597\tbest: 0.7178597 (50)\ttotal: 4.85s\tremaining: 3m 5s\n",
      "100:\ttest: 0.7279524\tbest: 0.7279524 (100)\ttotal: 9.96s\tremaining: 3m 7s\n",
      "150:\ttest: 0.7328340\tbest: 0.7328340 (150)\ttotal: 14.4s\tremaining: 2m 56s\n",
      "200:\ttest: 0.7358582\tbest: 0.7358582 (200)\ttotal: 18.9s\tremaining: 2m 48s\n",
      "250:\ttest: 0.7386163\tbest: 0.7386163 (250)\ttotal: 23s\tremaining: 2m 40s\n",
      "300:\ttest: 0.7395789\tbest: 0.7395789 (300)\ttotal: 27.3s\tremaining: 2m 33s\n",
      "350:\ttest: 0.7402876\tbest: 0.7402876 (350)\ttotal: 31.8s\tremaining: 2m 29s\n",
      "400:\ttest: 0.7408410\tbest: 0.7408410 (400)\ttotal: 36.1s\tremaining: 2m 24s\n",
      "450:\ttest: 0.7409101\tbest: 0.7409101 (450)\ttotal: 40.3s\tremaining: 2m 18s\n",
      "500:\ttest: 0.7411829\tbest: 0.7411829 (500)\ttotal: 44.8s\tremaining: 2m 13s\n",
      "550:\ttest: 0.7412103\tbest: 0.7412103 (550)\ttotal: 49s\tremaining: 2m 8s\n",
      "600:\ttest: 0.7415898\tbest: 0.7415898 (600)\ttotal: 53.2s\tremaining: 2m 3s\n",
      "650:\ttest: 0.7421098\tbest: 0.7421098 (650)\ttotal: 57.8s\tremaining: 1m 59s\n",
      "700:\ttest: 0.7422696\tbest: 0.7422696 (700)\ttotal: 1m 1s\tremaining: 1m 54s\n",
      "750:\ttest: 0.7421978\tbest: 0.7422696 (700)\ttotal: 1m 5s\tremaining: 1m 49s\n",
      "800:\ttest: 0.7421707\tbest: 0.7422696 (700)\ttotal: 1m 9s\tremaining: 1m 44s\n",
      "850:\ttest: 0.7424302\tbest: 0.7424302 (850)\ttotal: 1m 13s\tremaining: 1m 38s\n",
      "900:\ttest: 0.7423777\tbest: 0.7424302 (850)\ttotal: 1m 17s\tremaining: 1m 34s\n",
      "950:\ttest: 0.7423545\tbest: 0.7424302 (850)\ttotal: 1m 21s\tremaining: 1m 29s\n",
      "1000:\ttest: 0.7424145\tbest: 0.7424302 (850)\ttotal: 1m 24s\tremaining: 1m 24s\n",
      "1050:\ttest: 0.7423432\tbest: 0.7424302 (850)\ttotal: 1m 28s\tremaining: 1m 19s\n",
      "1100:\ttest: 0.7425257\tbest: 0.7425257 (1100)\ttotal: 1m 32s\tremaining: 1m 15s\n",
      "1150:\ttest: 0.7425016\tbest: 0.7425257 (1100)\ttotal: 1m 36s\tremaining: 1m 11s\n",
      "1200:\ttest: 0.7425979\tbest: 0.7425979 (1200)\ttotal: 1m 39s\tremaining: 1m 6s\n",
      "1250:\ttest: 0.7426115\tbest: 0.7426115 (1250)\ttotal: 1m 43s\tremaining: 1m 2s\n",
      "1300:\ttest: 0.7427516\tbest: 0.7427516 (1300)\ttotal: 1m 47s\tremaining: 57.6s\n",
      "1350:\ttest: 0.7429468\tbest: 0.7429468 (1350)\ttotal: 1m 50s\tremaining: 53.2s\n",
      "1400:\ttest: 0.7428409\tbest: 0.7429468 (1350)\ttotal: 1m 54s\tremaining: 48.8s\n",
      "1450:\ttest: 0.7426496\tbest: 0.7429468 (1350)\ttotal: 1m 57s\tremaining: 44.5s\n",
      "1500:\ttest: 0.7426960\tbest: 0.7429468 (1350)\ttotal: 2m\tremaining: 40.2s\n",
      "1550:\ttest: 0.7426395\tbest: 0.7429468 (1350)\ttotal: 2m 4s\tremaining: 36s\n",
      "1600:\ttest: 0.7428549\tbest: 0.7429468 (1350)\ttotal: 2m 7s\tremaining: 31.9s\n",
      "1650:\ttest: 0.7428978\tbest: 0.7429468 (1350)\ttotal: 2m 11s\tremaining: 27.7s\n",
      "1700:\ttest: 0.7428282\tbest: 0.7429468 (1350)\ttotal: 2m 14s\tremaining: 23.7s\n",
      "1750:\ttest: 0.7429656\tbest: 0.7429656 (1750)\ttotal: 2m 18s\tremaining: 19.6s\n",
      "1800:\ttest: 0.7428251\tbest: 0.7429656 (1750)\ttotal: 2m 21s\tremaining: 15.6s\n",
      "1850:\ttest: 0.7429490\tbest: 0.7429656 (1750)\ttotal: 2m 24s\tremaining: 11.7s\n",
      "1900:\ttest: 0.7428308\tbest: 0.7429656 (1750)\ttotal: 2m 28s\tremaining: 7.72s\n",
      "1950:\ttest: 0.7427969\tbest: 0.7429656 (1750)\ttotal: 2m 32s\tremaining: 3.83s\n",
      "1999:\ttest: 0.7427785\tbest: 0.7429656 (1750)\ttotal: 2m 36s\tremaining: 0us\n",
      "bestTest = 0.7429656088\n",
      "bestIteration = 1750\n",
      "Shrink model to first 1751 iterations.\n"
     ]
    }
   ],
   "source": [
    "if os.path.exists(model_path) and not force_train:\n",
    "    ranker.load_model(model_path)\n",
    "else:\n",
    "    ranker.fit(train_pool, eval_set=early_stop_pool)\n",
    "    ranker.save_model(model_path)"
   ]
  },
  {
   "cell_type": "code",
   "execution_count": 78,
   "metadata": {},
   "outputs": [],
   "source": [
    "del early_stop_pool"
   ]
  },
  {
   "cell_type": "markdown",
   "metadata": {},
   "source": [
    "## SHAP values"
   ]
  },
  {
   "cell_type": "code",
   "execution_count": 79,
   "metadata": {},
   "outputs": [],
   "source": [
    "explainer = shap.TreeExplainer(ranker)"
   ]
  },
  {
   "cell_type": "code",
   "execution_count": 80,
   "metadata": {},
   "outputs": [
    {
     "name": "stderr",
     "output_type": "stream",
     "text": [
      "No data for colormapping provided via 'c'. Parameters 'vmin', 'vmax' will be ignored\n"
     ]
    },
    {
     "data": {
      "image/png": "[encoded data removed]",
      "text/plain": [
       "<Figure size 800x350 with 2 Axes>"
      ]
     },
     "metadata": {},
     "output_type": "display_data"
    }
   ],
   "source": [
    "shap.summary_plot(explainer.shap_values(train_pool), features=np.hstack((catboost_train.num_feature_data,\n",
    "                  catboost_train.cat_feature_data)), feature_names=catboost_train.get_feature_names())"
   ]
  },
  {
   "cell_type": "code",
   "execution_count": 81,
   "metadata": {},
   "outputs": [],
   "source": [
    "del explainer"
   ]
  },
  {
   "cell_type": "code",
   "execution_count": 82,
   "metadata": {},
   "outputs": [
    {
     "name": "stdout",
     "output_type": "stream",
     "text": [
      "ROC AUC:  0.7188970797269337\n"
     ]
    }
   ],
   "source": [
    "predicted_values = ranker.predict_proba(test_pool)[:, 1]\n",
    "print(\"ROC AUC: \", roc_auc_score(test_pool.get_label(), predicted_values))\n",
    "del predicted_values\n",
    "del test_pool"
   ]
  },
  {
   "cell_type": "markdown",
   "metadata": {},
   "source": [
    "## Сравнение моделей"
   ]
  },
  {
   "cell_type": "code",
   "execution_count": 83,
   "metadata": {},
   "outputs": [],
   "source": [
    "global_test = global_test.filter(pl.col(\"user_id\").is_in(train_first_stage.get_column(\"user_id\").unique()))"
   ]
  },
  {
   "cell_type": "code",
   "execution_count": 84,
   "metadata": {},
   "outputs": [],
   "source": [
    "num_candidates = 200"
   ]
  },
  {
   "cell_type": "code",
   "execution_count": 85,
   "metadata": {},
   "outputs": [],
   "source": [
    "first_stage_global_pred = first_stage_recommender.recommend(global_test, num_recs_per_user=num_candidates)"
   ]
  },
  {
   "cell_type": "code",
   "execution_count": 86,
   "metadata": {},
   "outputs": [],
   "source": [
    "one_stage_model_metrics = compute_metrics(global_test, first_stage_global_pred, top_N, with_separate_k_col=True)"
   ]
  },
  {
   "cell_type": "code",
   "execution_count": 87,
   "metadata": {},
   "outputs": [],
   "source": [
    "global_test_features = first_stage_global_pred.lazy().join(df_items_features.lazy(), on=\"item_id\").join(df_users_features.lazy(), on=\"user_id\").collect()"
   ]
  },
  {
   "cell_type": "code",
   "execution_count": 88,
   "metadata": {},
   "outputs": [
    {
     "data": {
      "text/html": [
       "<div><style>\n",
       ".dataframe > thead > tr > th,\n",
       ".dataframe > tbody > tr > td {\n",
       "  text-align: right;\n",
       "}\n",
       "</style>\n",
       "<small>shape: (3, 7)</small><table border=\"1\" class=\"dataframe\"><thead><tr><th>user_id</th><th>item_id</th><th>rank</th><th>genres</th><th>year</th><th>age</th><th>sex</th></tr><tr><td>u32</td><td>u32</td><td>u32</td><td>str</td><td>str</td><td>str</td><td>str</td></tr></thead><tbody><tr><td>16</td><td>36447</td><td>1</td><td>&quot;здоровое и пра…</td><td>&quot;2015&quot;</td><td>&quot;45_54&quot;</td><td>&quot;0&quot;</td></tr><tr><td>16</td><td>209379</td><td>2</td><td>&quot;литература 20 …</td><td>&quot;1910&quot;</td><td>&quot;45_54&quot;</td><td>&quot;0&quot;</td></tr><tr><td>16</td><td>89152</td><td>3</td><td>&quot;практическая п…</td><td>&quot;2015&quot;</td><td>&quot;45_54&quot;</td><td>&quot;0&quot;</td></tr></tbody></table></div>"
      ],
      "text/plain": [
       "shape: (3, 7)\n",
       "┌─────────┬─────────┬──────┬───────────────────────────────────┬──────┬───────┬─────┐\n",
       "│ user_id ┆ item_id ┆ rank ┆ genres                            ┆ year ┆ age   ┆ sex │\n",
       "│ ---     ┆ ---     ┆ ---  ┆ ---                               ┆ ---  ┆ ---   ┆ --- │\n",
       "│ u32     ┆ u32     ┆ u32  ┆ str                               ┆ str  ┆ str   ┆ str │\n",
       "╞═════════╪═════════╪══════╪═══════════════════════════════════╪══════╪═══════╪═════╡\n",
       "│ 16      ┆ 36447   ┆ 1    ┆ здоровое и правильное питание,зд… ┆ 2015 ┆ 45_54 ┆ 0   │\n",
       "│ 16      ┆ 209379  ┆ 2    ┆ литература 20 века,русская класс… ┆ 1910 ┆ 45_54 ┆ 0   │\n",
       "│ 16      ┆ 89152   ┆ 3    ┆ практическая психология,психолог… ┆ 2015 ┆ 45_54 ┆ 0   │\n",
       "└─────────┴─────────┴──────┴───────────────────────────────────┴──────┴───────┴─────┘"
      ]
     },
     "execution_count": 88,
     "metadata": {},
     "output_type": "execute_result"
    }
   ],
   "source": [
    "global_test_features.head(n=3)"
   ]
  },
  {
   "cell_type": "code",
   "execution_count": 89,
   "metadata": {},
   "outputs": [],
   "source": [
    "catboost_global_test = convert_to_features_data(global_test_features, exclude_columns)"
   ]
  },
  {
   "cell_type": "code",
   "execution_count": 90,
   "metadata": {},
   "outputs": [],
   "source": [
    "predicted_proba = ranker.predict_proba(catboost_global_test)[:, 1]"
   ]
  },
  {
   "cell_type": "code",
   "execution_count": 91,
   "metadata": {},
   "outputs": [],
   "source": [
    "del catboost_global_test"
   ]
  },
  {
   "cell_type": "code",
   "execution_count": 92,
   "metadata": {},
   "outputs": [],
   "source": [
    "catboost_prediction = first_stage_global_pred.hstack(pl.DataFrame({\"catboost_score\": predicted_proba}, schema={\"catboost_score\": pl.Float32}))"
   ]
  },
  {
   "cell_type": "code",
   "execution_count": 93,
   "metadata": {},
   "outputs": [],
   "source": [
    "catboost_prediction = catboost_prediction.sort([\"user_id\", \"catboost_score\"], descending=[False, True]).with_columns(\n",
    "    pl.col(\"catboost_score\").rank(method=\"ordinal\", descending=True).over(\"user_id\").alias(\"catboost_rank\")\n",
    ")"
   ]
  },
  {
   "cell_type": "code",
   "execution_count": 94,
   "metadata": {},
   "outputs": [],
   "source": [
    "two_stage_model_metrics = compute_metrics(global_test, catboost_prediction.select(\n",
    "    pl.col(\"user_id\", \"item_id\"), pl.col(\"catboost_rank\").alias(\"rank\")), top_N, with_separate_k_col=True)\n"
   ]
  },
  {
   "cell_type": "code",
   "execution_count": 95,
   "metadata": {},
   "outputs": [],
   "source": [
    "all_metrics = one_stage_model_metrics.with_columns(pl.lit(\"one_stage\").alias(\"model\")).vstack(\n",
    "    two_stage_model_metrics.with_columns(pl.lit(\"two_stage\").alias(\"model\"))\n",
    ")"
   ]
  },
  {
   "cell_type": "code",
   "execution_count": 96,
   "metadata": {},
   "outputs": [
    {
     "data": {
      "text/html": [
       "<div><style>\n",
       ".dataframe > thead > tr > th,\n",
       ".dataframe > tbody > tr > td {\n",
       "  text-align: right;\n",
       "}\n",
       "</style>\n",
       "<small>shape: (5, 4)</small><table border=\"1\" class=\"dataframe\"><thead><tr><th>name</th><th>k</th><th>value</th><th>model</th></tr><tr><td>str</td><td>i64</td><td>f64</td><td>str</td></tr></thead><tbody><tr><td>&quot;prec&quot;</td><td>1</td><td>0.000381</td><td>&quot;one_stage&quot;</td></tr><tr><td>&quot;recall&quot;</td><td>1</td><td>0.000381</td><td>&quot;one_stage&quot;</td></tr><tr><td>&quot;prec&quot;</td><td>2</td><td>0.000508</td><td>&quot;one_stage&quot;</td></tr><tr><td>&quot;recall&quot;</td><td>2</td><td>0.000508</td><td>&quot;one_stage&quot;</td></tr><tr><td>&quot;prec&quot;</td><td>3</td><td>0.000338</td><td>&quot;one_stage&quot;</td></tr></tbody></table></div>"
      ],
      "text/plain": [
       "shape: (5, 4)\n",
       "┌────────┬─────┬──────────┬───────────┐\n",
       "│ name   ┆ k   ┆ value    ┆ model     │\n",
       "│ ---    ┆ --- ┆ ---      ┆ ---       │\n",
       "│ str    ┆ i64 ┆ f64      ┆ str       │\n",
       "╞════════╪═════╪══════════╪═══════════╡\n",
       "│ prec   ┆ 1   ┆ 0.000381 ┆ one_stage │\n",
       "│ recall ┆ 1   ┆ 0.000381 ┆ one_stage │\n",
       "│ prec   ┆ 2   ┆ 0.000508 ┆ one_stage │\n",
       "│ recall ┆ 2   ┆ 0.000508 ┆ one_stage │\n",
       "│ prec   ┆ 3   ┆ 0.000338 ┆ one_stage │\n",
       "└────────┴─────┴──────────┴───────────┘"
      ]
     },
     "execution_count": 96,
     "metadata": {},
     "output_type": "execute_result"
    }
   ],
   "source": [
    "all_metrics.head()"
   ]
  },
  {
   "cell_type": "code",
   "execution_count": 97,
   "metadata": {},
   "outputs": [
    {
     "data": {
      "text/html": [
       "<div><style>\n",
       ".dataframe > thead > tr > th,\n",
       ".dataframe > tbody > tr > td {\n",
       "  text-align: right;\n",
       "}\n",
       "</style>\n",
       "<small>shape: (20, 4)</small><table border=\"1\" class=\"dataframe\"><thead><tr><th>name</th><th>k</th><th>value</th><th>model</th></tr><tr><td>str</td><td>i64</td><td>f64</td><td>str</td></tr></thead><tbody><tr><td>&quot;prec&quot;</td><td>1</td><td>0.000381</td><td>&quot;one_stage&quot;</td></tr><tr><td>&quot;prec&quot;</td><td>2</td><td>0.000508</td><td>&quot;one_stage&quot;</td></tr><tr><td>&quot;prec&quot;</td><td>3</td><td>0.000338</td><td>&quot;one_stage&quot;</td></tr><tr><td>&quot;prec&quot;</td><td>4</td><td>0.000349</td><td>&quot;one_stage&quot;</td></tr><tr><td>&quot;prec&quot;</td><td>5</td><td>0.000355</td><td>&quot;one_stage&quot;</td></tr><tr><td>&quot;prec&quot;</td><td>6</td><td>0.000317</td><td>&quot;one_stage&quot;</td></tr><tr><td>&quot;prec&quot;</td><td>7</td><td>0.000417</td><td>&quot;one_stage&quot;</td></tr><tr><td>&quot;prec&quot;</td><td>8</td><td>0.000412</td><td>&quot;one_stage&quot;</td></tr><tr><td>&quot;prec&quot;</td><td>9</td><td>0.000395</td><td>&quot;one_stage&quot;</td></tr><tr><td>&quot;prec&quot;</td><td>10</td><td>0.000393</td><td>&quot;one_stage&quot;</td></tr><tr><td>&quot;prec&quot;</td><td>1</td><td>0.000635</td><td>&quot;two_stage&quot;</td></tr><tr><td>&quot;prec&quot;</td><td>2</td><td>0.000888</td><td>&quot;two_stage&quot;</td></tr><tr><td>&quot;prec&quot;</td><td>3</td><td>0.000677</td><td>&quot;two_stage&quot;</td></tr><tr><td>&quot;prec&quot;</td><td>4</td><td>0.000635</td><td>&quot;two_stage&quot;</td></tr><tr><td>&quot;prec&quot;</td><td>5</td><td>0.000584</td><td>&quot;two_stage&quot;</td></tr><tr><td>&quot;prec&quot;</td><td>6</td><td>0.000508</td><td>&quot;two_stage&quot;</td></tr><tr><td>&quot;prec&quot;</td><td>7</td><td>0.000471</td><td>&quot;two_stage&quot;</td></tr><tr><td>&quot;prec&quot;</td><td>8</td><td>0.00046</td><td>&quot;two_stage&quot;</td></tr><tr><td>&quot;prec&quot;</td><td>9</td><td>0.000451</td><td>&quot;two_stage&quot;</td></tr><tr><td>&quot;prec&quot;</td><td>10</td><td>0.000431</td><td>&quot;two_stage&quot;</td></tr></tbody></table></div>"
      ],
      "text/plain": [
       "shape: (20, 4)\n",
       "┌──────┬─────┬──────────┬───────────┐\n",
       "│ name ┆ k   ┆ value    ┆ model     │\n",
       "│ ---  ┆ --- ┆ ---      ┆ ---       │\n",
       "│ str  ┆ i64 ┆ f64      ┆ str       │\n",
       "╞══════╪═════╪══════════╪═══════════╡\n",
       "│ prec ┆ 1   ┆ 0.000381 ┆ one_stage │\n",
       "│ prec ┆ 2   ┆ 0.000508 ┆ one_stage │\n",
       "│ prec ┆ 3   ┆ 0.000338 ┆ one_stage │\n",
       "│ prec ┆ 4   ┆ 0.000349 ┆ one_stage │\n",
       "│ …    ┆ …   ┆ …        ┆ …         │\n",
       "│ prec ┆ 7   ┆ 0.000471 ┆ two_stage │\n",
       "│ prec ┆ 8   ┆ 0.00046  ┆ two_stage │\n",
       "│ prec ┆ 9   ┆ 0.000451 ┆ two_stage │\n",
       "│ prec ┆ 10  ┆ 0.000431 ┆ two_stage │\n",
       "└──────┴─────┴──────────┴───────────┘"
      ]
     },
     "execution_count": 97,
     "metadata": {},
     "output_type": "execute_result"
    }
   ],
   "source": [
    "all_metrics.filter(pl.col(\"name\").str.contains(\"prec\"))"
   ]
  },
  {
   "cell_type": "code",
   "execution_count": 98,
   "metadata": {},
   "outputs": [
    {
     "data": {
      "text/plain": [
       "<Axes: xlabel='k', ylabel='value'>"
      ]
     },
     "execution_count": 98,
     "metadata": {},
     "output_type": "execute_result"
    },
    {
     "data": {
      "image/png": "[encoded data removed]",
      "text/plain": [
       "<Figure size 640x480 with 1 Axes>"
      ]
     },
     "metadata": {},
     "output_type": "display_data"
    }
   ],
   "source": [
    "sns.scatterplot(all_metrics.filter(pl.col(\"name\") == \"prec\"), x=\"k\", y=\"value\",  hue=\"model\")"
   ]
  },
  {
   "cell_type": "code",
   "execution_count": 99,
   "metadata": {},
   "outputs": [
    {
     "data": {
      "text/plain": [
       "<Axes: xlabel='k', ylabel='value'>"
      ]
     },
     "execution_count": 99,
     "metadata": {},
     "output_type": "execute_result"
    },
    {
     "data": {
      "image/png": "[encoded data removed]",
      "text/plain": [
       "<Figure size 640x480 with 1 Axes>"
      ]
     },
     "metadata": {},
     "output_type": "display_data"
    }
   ],
   "source": [
    "sns.scatterplot(all_metrics.filter(pl.col(\"name\") == \"recall\"), x=\"k\", y=\"value\",  hue=\"model\")"
   ]
  },
  {
   "cell_type": "code",
   "execution_count": 100,
   "metadata": {},
   "outputs": [
    {
     "data": {
      "text/html": [
       "<div><style>\n",
       ".dataframe > thead > tr > th,\n",
       ".dataframe > tbody > tr > td {\n",
       "  text-align: right;\n",
       "}\n",
       "</style>\n",
       "<small>shape: (2, 3)</small><table border=\"1\" class=\"dataframe\"><thead><tr><th>model</th><th>MRR</th><th>MAP</th></tr><tr><td>str</td><td>f64</td><td>f64</td></tr></thead><tbody><tr><td>&quot;one_stage&quot;</td><td>0.0016</td><td>0.001367</td></tr><tr><td>&quot;two_stage&quot;</td><td>0.00199</td><td>0.00155</td></tr></tbody></table></div>"
      ],
      "text/plain": [
       "shape: (2, 3)\n",
       "┌───────────┬─────────┬──────────┐\n",
       "│ model     ┆ MRR     ┆ MAP      │\n",
       "│ ---       ┆ ---     ┆ ---      │\n",
       "│ str       ┆ f64     ┆ f64      │\n",
       "╞═══════════╪═════════╪══════════╡\n",
       "│ one_stage ┆ 0.0016  ┆ 0.001367 │\n",
       "│ two_stage ┆ 0.00199 ┆ 0.00155  │\n",
       "└───────────┴─────────┴──────────┘"
      ]
     },
     "execution_count": 100,
     "metadata": {},
     "output_type": "execute_result"
    }
   ],
   "source": [
    "all_metrics.filter(pl.col(\"name\").str.contains(\"MAP|MRR\")).pivot(index=\"model\", values=\"value\", columns=\"name\", aggregate_function=\"max\")"
   ]
  }
 ],
 "metadata": {
  "kernelspec": {
   "display_name": "recsys",
   "language": "python",
   "name": "python3"
  },
  "language_info": {
   "codemirror_mode": {
    "name": "ipython",
    "version": 3
   },
   "file_extension": ".py",
   "mimetype": "text/x-python",
   "name": "python",
   "nbconvert_exporter": "python",
   "pygments_lexer": "ipython3",
   "version": "3.10.11"
  },
  "orig_nbformat": 4
 },
 "nbformat": 4,
 "nbformat_minor": 2
}
