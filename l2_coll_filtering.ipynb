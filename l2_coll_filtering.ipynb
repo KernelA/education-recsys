{
 "cells": [
  {
   "attachments": {},
   "cell_type": "markdown",
   "metadata": {},
   "source": [
    "[Оригинальный notebook](https://www.kaggle.com/code/sharthz23/implicit-lightfm/notebook)"
   ]
  },
  {
   "cell_type": "code",
   "execution_count": 1,
   "metadata": {},
   "outputs": [],
   "source": [
    "from collections import defaultdict\n",
    "import os\n",
    "import datetime\n",
    "\n",
    "import seaborn as sns\n",
    "import pandas as pd\n",
    "import numpy as np\n",
    "from tqdm.auto import tqdm, trange\n",
    "from implicit.nearest_neighbours import CosineRecommender, BM25Recommender, TFIDFRecommender\n",
    "from implicit.als import AlternatingLeastSquares\n",
    "from implicit import gpu\n",
    "from lightfm.data import Dataset\n",
    "from lightfm import LightFM\n",
    "import polars as pl"
   ]
  },
  {
   "attachments": {},
   "cell_type": "markdown",
   "metadata": {},
   "source": [
    "Implicit ALS с GPU:"
   ]
  },
  {
   "cell_type": "code",
   "execution_count": 2,
   "metadata": {},
   "outputs": [
    {
     "data": {
      "text/plain": [
       "True"
      ]
     },
     "execution_count": 2,
     "metadata": {},
     "output_type": "execute_result"
    }
   ],
   "source": [
    "gpu.HAS_CUDA"
   ]
  },
  {
   "cell_type": "code",
   "execution_count": 3,
   "metadata": {},
   "outputs": [],
   "source": [
    "sns.set_style(\"darkgrid\")"
   ]
  },
  {
   "cell_type": "code",
   "execution_count": 4,
   "metadata": {},
   "outputs": [],
   "source": [
    "%load_ext autoreload\n",
    "%autoreload 2\n",
    "\n",
    "from recs_utils.metrics import compute_metrics, model_cross_validate\n",
    "from recs_utils.load_data import load_users, load_items, load_interactions, sample_true_rec_data\n",
    "from recs_utils.simple_rec import PopularRecommender, PopularRecommenderPerAge\n",
    "from recs_utils.split import train_test_split, TimeRangeSplit\n",
    "from recs_utils.matrix_ops import interactions_to_csr_matrix\n",
    "from recs_utils.implicit_model import ImplicitRecommender, LightFMRecommender\n",
    "from recs_utils.utils import get_direct_and_inv_mapping"
   ]
  },
  {
   "attachments": {},
   "cell_type": "markdown",
   "metadata": {},
   "source": [
    "# Подготовка данных"
   ]
  },
  {
   "cell_type": "code",
   "execution_count": 5,
   "metadata": {},
   "outputs": [],
   "source": [
    "data_dir = \"data\""
   ]
  },
  {
   "cell_type": "code",
   "execution_count": 6,
   "metadata": {},
   "outputs": [],
   "source": [
    "df = load_interactions(os.path.join(data_dir, \"interactions.csv\"))\n",
    "df_users = load_users(os.path.join(data_dir, \"users.csv\"))\n",
    "df_items = load_items(os.path.join(data_dir, \"items.csv\"))"
   ]
  },
  {
   "cell_type": "code",
   "execution_count": 7,
   "metadata": {},
   "outputs": [
    {
     "data": {
      "text/html": [
       "<div><style>\n",
       ".dataframe > thead > tr > th,\n",
       ".dataframe > tbody > tr > td {\n",
       "  text-align: right;\n",
       "}\n",
       "</style>\n",
       "<small>shape: (5, 5)</small><table border=\"1\" class=\"dataframe\"><thead><tr><th>item_id</th><th>title</th><th>genres</th><th>authors</th><th>year</th></tr><tr><td>u32</td><td>str</td><td>cat</td><td>cat</td><td>cat</td></tr></thead><tbody><tr><td>128115</td><td>&quot;Ворон-челобитч…</td><td>&quot;Зарубежные дет…</td><td>&quot;Михаил Салтыко…</td><td>&quot;1886&quot;</td></tr><tr><td>210979</td><td>&quot;Скрипка Ротшил…</td><td>&quot;Классическая п…</td><td>&quot;Антон Чехов&quot;</td><td>&quot;1894&quot;</td></tr><tr><td>95632</td><td>&quot;Испорченные де…</td><td>&quot;Зарубежная кла…</td><td>&quot;Михаил Салтыко…</td><td>&quot;1869&quot;</td></tr><tr><td>247906</td><td>&quot;Странный челов…</td><td>&quot;Пьесы и драмат…</td><td>&quot;Михаил Лермонт…</td><td>&quot;1831&quot;</td></tr><tr><td>294280</td><td>&quot;Господа ташкен…</td><td>&quot;Зарубежная кла…</td><td>&quot;Михаил Салтыко…</td><td>&quot;1873&quot;</td></tr></tbody></table></div>"
      ],
      "text/plain": [
       "shape: (5, 5)\n",
       "┌─────────┬───────────────────┬───────────────────────────────────┬────────────────────────┬──────┐\n",
       "│ item_id ┆ title             ┆ genres                            ┆ authors                ┆ year │\n",
       "│ ---     ┆ ---               ┆ ---                               ┆ ---                    ┆ ---  │\n",
       "│ u32     ┆ str               ┆ cat                               ┆ cat                    ┆ cat  │\n",
       "╞═════════╪═══════════════════╪═══════════════════════════════════╪════════════════════════╪══════╡\n",
       "│ 128115  ┆ Ворон-челобитчик  ┆ Зарубежные детские книги,Сказки,… ┆ Михаил Салтыков-Щедрин ┆ 1886 │\n",
       "│ 210979  ┆ Скрипка Ротшильда ┆ Классическая проза,Литература 19… ┆ Антон Чехов            ┆ 1894 │\n",
       "│ 95632   ┆ Испорченные дети  ┆ Зарубежная классика,Классическая… ┆ Михаил Салтыков-Щедрин ┆ 1869 │\n",
       "│ 247906  ┆ Странный человек  ┆ Пьесы и драматургия,Литература 1… ┆ Михаил Лермонтов       ┆ 1831 │\n",
       "│ 294280  ┆ Господа ташкентцы ┆ Зарубежная классика,Классическая… ┆ Михаил Салтыков-Щедрин ┆ 1873 │\n",
       "└─────────┴───────────────────┴───────────────────────────────────┴────────────────────────┴──────┘"
      ]
     },
     "execution_count": 7,
     "metadata": {},
     "output_type": "execute_result"
    }
   ],
   "source": [
    "df_items.head()"
   ]
  },
  {
   "cell_type": "code",
   "execution_count": 8,
   "metadata": {},
   "outputs": [
    {
     "data": {
      "text/plain": [
       "151600"
      ]
     },
     "execution_count": 8,
     "metadata": {},
     "output_type": "execute_result"
    }
   ],
   "source": [
    "users_mapping, users_inv_mapping = get_direct_and_inv_mapping(df, \"user_id\")\n",
    "len(users_mapping)"
   ]
  },
  {
   "cell_type": "code",
   "execution_count": 9,
   "metadata": {},
   "outputs": [
    {
     "data": {
      "text/plain": [
       "59599"
      ]
     },
     "execution_count": 9,
     "metadata": {},
     "output_type": "execute_result"
    }
   ],
   "source": [
    "items_mapping, items_inv_mapping = get_direct_and_inv_mapping(df, \"item_id\")\n",
    "len(items_mapping)"
   ]
  },
  {
   "cell_type": "code",
   "execution_count": 10,
   "metadata": {},
   "outputs": [],
   "source": [
    "df_items = df_items.with_columns(pl.col(\"title\").str.strip().str.to_lowercase().alias(\"title\"))"
   ]
  },
  {
   "cell_type": "code",
   "execution_count": 11,
   "metadata": {},
   "outputs": [],
   "source": [
    "item_titles = {item_info[\"item_id\"]: item_info[\"title\"] for item_info in df_items.select(pl.col(\"item_id\"), pl.col(\"title\")).unique().to_dicts()}"
   ]
  },
  {
   "cell_type": "code",
   "execution_count": 12,
   "metadata": {},
   "outputs": [
    {
     "data": {
      "text/plain": [
       "(59599, 'ворон-челобитчик')"
      ]
     },
     "execution_count": 12,
     "metadata": {},
     "output_type": "execute_result"
    }
   ],
   "source": [
    "len(item_titles), item_titles[128115]"
   ]
  },
  {
   "cell_type": "code",
   "execution_count": 13,
   "metadata": {},
   "outputs": [
    {
     "data": {
      "text/html": [
       "<div><style>\n",
       ".dataframe > thead > tr > th,\n",
       ".dataframe > tbody > tr > td {\n",
       "  text-align: right;\n",
       "}\n",
       "</style>\n",
       "<small>shape: (5, 5)</small><table border=\"1\" class=\"dataframe\"><thead><tr><th>item_id</th><th>title</th><th>genres</th><th>authors</th><th>year</th></tr><tr><td>u32</td><td>str</td><td>cat</td><td>cat</td><td>cat</td></tr></thead><tbody><tr><td>128115</td><td>&quot;ворон-челобитч…</td><td>&quot;Зарубежные дет…</td><td>&quot;Михаил Салтыко…</td><td>&quot;1886&quot;</td></tr><tr><td>210979</td><td>&quot;скрипка ротшил…</td><td>&quot;Классическая п…</td><td>&quot;Антон Чехов&quot;</td><td>&quot;1894&quot;</td></tr><tr><td>95632</td><td>&quot;испорченные де…</td><td>&quot;Зарубежная кла…</td><td>&quot;Михаил Салтыко…</td><td>&quot;1869&quot;</td></tr><tr><td>247906</td><td>&quot;странный челов…</td><td>&quot;Пьесы и драмат…</td><td>&quot;Михаил Лермонт…</td><td>&quot;1831&quot;</td></tr><tr><td>294280</td><td>&quot;господа ташкен…</td><td>&quot;Зарубежная кла…</td><td>&quot;Михаил Салтыко…</td><td>&quot;1873&quot;</td></tr></tbody></table></div>"
      ],
      "text/plain": [
       "shape: (5, 5)\n",
       "┌─────────┬───────────────────┬───────────────────────────────────┬────────────────────────┬──────┐\n",
       "│ item_id ┆ title             ┆ genres                            ┆ authors                ┆ year │\n",
       "│ ---     ┆ ---               ┆ ---                               ┆ ---                    ┆ ---  │\n",
       "│ u32     ┆ str               ┆ cat                               ┆ cat                    ┆ cat  │\n",
       "╞═════════╪═══════════════════╪═══════════════════════════════════╪════════════════════════╪══════╡\n",
       "│ 128115  ┆ ворон-челобитчик  ┆ Зарубежные детские книги,Сказки,… ┆ Михаил Салтыков-Щедрин ┆ 1886 │\n",
       "│ 210979  ┆ скрипка ротшильда ┆ Классическая проза,Литература 19… ┆ Антон Чехов            ┆ 1894 │\n",
       "│ 95632   ┆ испорченные дети  ┆ Зарубежная классика,Классическая… ┆ Михаил Салтыков-Щедрин ┆ 1869 │\n",
       "│ 247906  ┆ странный человек  ┆ Пьесы и драматургия,Литература 1… ┆ Михаил Лермонтов       ┆ 1831 │\n",
       "│ 294280  ┆ господа ташкентцы ┆ Зарубежная классика,Классическая… ┆ Михаил Салтыков-Щедрин ┆ 1873 │\n",
       "└─────────┴───────────────────┴───────────────────────────────────┴────────────────────────┴──────┘"
      ]
     },
     "execution_count": 13,
     "metadata": {},
     "output_type": "execute_result"
    }
   ],
   "source": [
    "df_items.head()"
   ]
  },
  {
   "cell_type": "code",
   "execution_count": 14,
   "metadata": {},
   "outputs": [],
   "source": [
    "title_items = df_items.sort(\"title\").select(\n",
    "    pl.col(\"title\"),\n",
    "    pl.col(\"item_id\").implode().over(\"title\"),\n",
    "    pl.count().over(\"title\")\n",
    ").unique(\"title\", maintain_order=True)"
   ]
  },
  {
   "cell_type": "code",
   "execution_count": 15,
   "metadata": {},
   "outputs": [
    {
     "data": {
      "text/html": [
       "<div><style>\n",
       ".dataframe > thead > tr > th,\n",
       ".dataframe > tbody > tr > td {\n",
       "  text-align: right;\n",
       "}\n",
       "</style>\n",
       "<small>shape: (4, 3)</small><table border=\"1\" class=\"dataframe\"><thead><tr><th>title</th><th>item_id</th><th>count</th></tr><tr><td>str</td><td>list[u32]</td><td>u32</td></tr></thead><tbody><tr><td>&quot;# 20 восьмая&quot;</td><td>[201623]</td><td>1</td></tr><tr><td>&quot;# duo&quot;</td><td>[72582]</td><td>1</td></tr><tr><td>&quot;# me too. рома…</td><td>[171172]</td><td>1</td></tr><tr><td>&quot;# партия&quot;</td><td>[224512]</td><td>1</td></tr></tbody></table></div>"
      ],
      "text/plain": [
       "shape: (4, 3)\n",
       "┌─────────────────┬───────────┬───────┐\n",
       "│ title           ┆ item_id   ┆ count │\n",
       "│ ---             ┆ ---       ┆ ---   │\n",
       "│ str             ┆ list[u32] ┆ u32   │\n",
       "╞═════════════════╪═══════════╪═══════╡\n",
       "│ # 20 восьмая    ┆ [201623]  ┆ 1     │\n",
       "│ # duo           ┆ [72582]   ┆ 1     │\n",
       "│ # me too. роман ┆ [171172]  ┆ 1     │\n",
       "│ # партия        ┆ [224512]  ┆ 1     │\n",
       "└─────────────────┴───────────┴───────┘"
      ]
     },
     "execution_count": 15,
     "metadata": {},
     "output_type": "execute_result"
    }
   ],
   "source": [
    "title_items.head(n=4)"
   ]
  },
  {
   "cell_type": "code",
   "execution_count": 16,
   "metadata": {},
   "outputs": [
    {
     "data": {
      "text/html": [
       "<div><style>\n",
       ".dataframe > thead > tr > th,\n",
       ".dataframe > tbody > tr > td {\n",
       "  text-align: right;\n",
       "}\n",
       "</style>\n",
       "<small>shape: (15, 1)</small><table border=\"1\" class=\"dataframe\"><thead><tr><th>count</th></tr><tr><td>struct[2]</td></tr></thead><tbody><tr><td>{1,55708}</td></tr><tr><td>{2,1197}</td></tr><tr><td>{3,245}</td></tr><tr><td>{4,71}</td></tr><tr><td>{5,38}</td></tr><tr><td>{6,11}</td></tr><tr><td>{7,8}</td></tr><tr><td>{8,3}</td></tr><tr><td>{9,2}</td></tr><tr><td>{18,1}</td></tr><tr><td>{11,1}</td></tr><tr><td>{13,1}</td></tr><tr><td>{23,1}</td></tr><tr><td>{12,1}</td></tr><tr><td>{47,1}</td></tr></tbody></table></div>"
      ],
      "text/plain": [
       "shape: (15, 1)\n",
       "┌───────────┐\n",
       "│ count     │\n",
       "│ ---       │\n",
       "│ struct[2] │\n",
       "╞═══════════╡\n",
       "│ {1,55708} │\n",
       "│ {2,1197}  │\n",
       "│ {3,245}   │\n",
       "│ {4,71}    │\n",
       "│ …         │\n",
       "│ {13,1}    │\n",
       "│ {23,1}    │\n",
       "│ {12,1}    │\n",
       "│ {47,1}    │\n",
       "└───────────┘"
      ]
     },
     "execution_count": 16,
     "metadata": {},
     "output_type": "execute_result"
    }
   ],
   "source": [
    "title_items.select(pl.col(\"count\").value_counts(sort=True))"
   ]
  },
  {
   "cell_type": "code",
   "execution_count": 17,
   "metadata": {},
   "outputs": [
    {
     "data": {
      "text/html": [
       "<div><style>\n",
       ".dataframe > thead > tr > th,\n",
       ".dataframe > tbody > tr > td {\n",
       "  text-align: right;\n",
       "}\n",
       "</style>\n",
       "<small>shape: (5, 3)</small><table border=\"1\" class=\"dataframe\"><thead><tr><th>title</th><th>item_id</th><th>count</th></tr><tr><td>str</td><td>list[u32]</td><td>u32</td></tr></thead><tbody><tr><td>&quot;яма&quot;</td><td>[60156, 165785]</td><td>2</td></tr><tr><td>&quot;янки из коннек…</td><td>[14759, 56530]</td><td>2</td></tr><tr><td>&quot;японская диета…</td><td>[168986, 74652]</td><td>2</td></tr><tr><td>&quot;яр&quot;</td><td>[168761, 5371]</td><td>2</td></tr><tr><td>&quot;ящик пандоры&quot;</td><td>[236465, 158851]</td><td>2</td></tr></tbody></table></div>"
      ],
      "text/plain": [
       "shape: (5, 3)\n",
       "┌───────────────────────────────────┬──────────────────┬───────┐\n",
       "│ title                             ┆ item_id          ┆ count │\n",
       "│ ---                               ┆ ---              ┆ ---   │\n",
       "│ str                               ┆ list[u32]        ┆ u32   │\n",
       "╞═══════════════════════════════════╪══════════════════╪═══════╡\n",
       "│ яма                               ┆ [60156, 165785]  ┆ 2     │\n",
       "│ янки из коннектикута при дворе к… ┆ [14759, 56530]   ┆ 2     │\n",
       "│ японская диета                    ┆ [168986, 74652]  ┆ 2     │\n",
       "│ яр                                ┆ [168761, 5371]   ┆ 2     │\n",
       "│ ящик пандоры                      ┆ [236465, 158851] ┆ 2     │\n",
       "└───────────────────────────────────┴──────────────────┴───────┘"
      ]
     },
     "execution_count": 17,
     "metadata": {},
     "output_type": "execute_result"
    }
   ],
   "source": [
    "title_items.filter(pl.col(\"count\") > 1).tail()"
   ]
  },
  {
   "cell_type": "code",
   "execution_count": 18,
   "metadata": {},
   "outputs": [
    {
     "data": {
      "text/html": [
       "<div><style>\n",
       ".dataframe > thead > tr > th,\n",
       ".dataframe > tbody > tr > td {\n",
       "  text-align: right;\n",
       "}\n",
       "</style>\n",
       "<small>shape: (2, 5)</small><table border=\"1\" class=\"dataframe\"><thead><tr><th>item_id</th><th>title</th><th>genres</th><th>authors</th><th>year</th></tr><tr><td>u32</td><td>str</td><td>cat</td><td>cat</td><td>cat</td></tr></thead><tbody><tr><td>236465</td><td>&quot;ящик пандоры&quot;</td><td>&quot;Любовно-фантас…</td><td>&quot;Филипп Хорват&quot;</td><td>&quot;2017&quot;</td></tr><tr><td>158851</td><td>&quot;ящик пандоры&quot;</td><td>&quot;Мистика,Соврем…</td><td>&quot;Бернар Вербер&quot;</td><td>&quot;2018&quot;</td></tr></tbody></table></div>"
      ],
      "text/plain": [
       "shape: (2, 5)\n",
       "┌─────────┬──────────────┬───────────────────────────────────┬───────────────┬──────┐\n",
       "│ item_id ┆ title        ┆ genres                            ┆ authors       ┆ year │\n",
       "│ ---     ┆ ---          ┆ ---                               ┆ ---           ┆ ---  │\n",
       "│ u32     ┆ str          ┆ cat                               ┆ cat           ┆ cat  │\n",
       "╞═════════╪══════════════╪═══════════════════════════════════╪═══════════════╪══════╡\n",
       "│ 236465  ┆ ящик пандоры ┆ Любовно-фантастические романы,На… ┆ Филипп Хорват ┆ 2017 │\n",
       "│ 158851  ┆ ящик пандоры ┆ Мистика,Современная зарубежная л… ┆ Бернар Вербер ┆ 2018 │\n",
       "└─────────┴──────────────┴───────────────────────────────────┴───────────────┴──────┘"
      ]
     },
     "execution_count": 18,
     "metadata": {},
     "output_type": "execute_result"
    }
   ],
   "source": [
    "df_items.filter(pl.col(\"title\") == \"ящик пандоры\")"
   ]
  },
  {
   "cell_type": "code",
   "execution_count": 19,
   "metadata": {},
   "outputs": [
    {
     "data": {
      "text/html": [
       "<div><style>\n",
       ".dataframe > thead > tr > th,\n",
       ".dataframe > tbody > tr > td {\n",
       "  text-align: right;\n",
       "}\n",
       "</style>\n",
       "<small>shape: (5, 3)</small><table border=\"1\" class=\"dataframe\"><thead><tr><th>title</th><th>item_id</th><th>count</th></tr><tr><td>str</td><td>list[u32]</td><td>u32</td></tr></thead><tbody><tr><td>&quot;(о переводе)&quot;</td><td>[61213, 145263]</td><td>2</td></tr><tr><td>&quot;2084&quot;</td><td>[177082, 281410]</td><td>2</td></tr><tr><td>&quot;451 градус по …</td><td>[44681, 162716]</td><td>2</td></tr><tr><td>&quot;playboy 02-201…</td><td>[114405, 8599]</td><td>2</td></tr><tr><td>&quot;playboy 03-201…</td><td>[31097, 121747]</td><td>2</td></tr></tbody></table></div>"
      ],
      "text/plain": [
       "shape: (5, 3)\n",
       "┌──────────────────────────┬──────────────────┬───────┐\n",
       "│ title                    ┆ item_id          ┆ count │\n",
       "│ ---                      ┆ ---              ┆ ---   │\n",
       "│ str                      ┆ list[u32]        ┆ u32   │\n",
       "╞══════════════════════════╪══════════════════╪═══════╡\n",
       "│ (о переводе)             ┆ [61213, 145263]  ┆ 2     │\n",
       "│ 2084                     ┆ [177082, 281410] ┆ 2     │\n",
       "│ 451 градус по фаренгейту ┆ [44681, 162716]  ┆ 2     │\n",
       "│ playboy 02-2018          ┆ [114405, 8599]   ┆ 2     │\n",
       "│ playboy 03-2018          ┆ [31097, 121747]  ┆ 2     │\n",
       "└──────────────────────────┴──────────────────┴───────┘"
      ]
     },
     "execution_count": 19,
     "metadata": {},
     "output_type": "execute_result"
    }
   ],
   "source": [
    "title_items.filter(pl.col(\"count\") > 1).head()"
   ]
  },
  {
   "cell_type": "code",
   "execution_count": 20,
   "metadata": {},
   "outputs": [
    {
     "data": {
      "text/html": [
       "<div><style>\n",
       ".dataframe > thead > tr > th,\n",
       ".dataframe > tbody > tr > td {\n",
       "  text-align: right;\n",
       "}\n",
       "</style>\n",
       "<small>shape: (2, 5)</small><table border=\"1\" class=\"dataframe\"><thead><tr><th>item_id</th><th>title</th><th>genres</th><th>authors</th><th>year</th></tr><tr><td>u32</td><td>str</td><td>cat</td><td>cat</td><td>cat</td></tr></thead><tbody><tr><td>44681</td><td>&quot;451 градус по …</td><td>&quot;Социальная фан…</td><td>&quot;Рэй Брэдбери&quot;</td><td>&quot;1953&quot;</td></tr><tr><td>162716</td><td>&quot;451 градус по …</td><td>&quot;Социальная фан…</td><td>&quot;Рэй Брэдбери&quot;</td><td>&quot;1951, 1953, 19…</td></tr></tbody></table></div>"
      ],
      "text/plain": [
       "shape: (2, 5)\n",
       "┌─────────┬──────────────────────────┬────────────────────────┬──────────────┬──────────────────┐\n",
       "│ item_id ┆ title                    ┆ genres                 ┆ authors      ┆ year             │\n",
       "│ ---     ┆ ---                      ┆ ---                    ┆ ---          ┆ ---              │\n",
       "│ u32     ┆ str                      ┆ cat                    ┆ cat          ┆ cat              │\n",
       "╞═════════╪══════════════════════════╪════════════════════════╪══════════════╪══════════════════╡\n",
       "│ 44681   ┆ 451 градус по фаренгейту ┆ Социальная             ┆ Рэй Брэдбери ┆ 1953             │\n",
       "│         ┆                          ┆ фантастика,Зарубежная… ┆              ┆                  │\n",
       "│ 162716  ┆ 451 градус по фаренгейту ┆ Социальная             ┆ Рэй Брэдбери ┆ 1951, 1953, 1967 │\n",
       "│         ┆                          ┆ фантастика,Зарубежная… ┆              ┆                  │\n",
       "└─────────┴──────────────────────────┴────────────────────────┴──────────────┴──────────────────┘"
      ]
     },
     "execution_count": 20,
     "metadata": {},
     "output_type": "execute_result"
    }
   ],
   "source": [
    "df_items.filter(pl.col(\"title\") == \"451 градус по фаренгейту\")"
   ]
  },
  {
   "cell_type": "code",
   "execution_count": 21,
   "metadata": {},
   "outputs": [
    {
     "data": {
      "text/html": [
       "<div><style>\n",
       ".dataframe > thead > tr > th,\n",
       ".dataframe > tbody > tr > td {\n",
       "  text-align: right;\n",
       "}\n",
       "</style>\n",
       "<small>shape: (3, 5)</small><table border=\"1\" class=\"dataframe\"><thead><tr><th>user_id</th><th>item_id</th><th>progress</th><th>rating</th><th>start_date</th></tr><tr><td>u32</td><td>u32</td><td>u8</td><td>f32</td><td>date</td></tr></thead><tbody><tr><td>126706</td><td>14433</td><td>80</td><td>NaN</td><td>2018-01-01</td></tr><tr><td>127290</td><td>140952</td><td>58</td><td>NaN</td><td>2018-01-01</td></tr><tr><td>66991</td><td>198453</td><td>89</td><td>NaN</td><td>2018-01-01</td></tr></tbody></table></div>"
      ],
      "text/plain": [
       "shape: (3, 5)\n",
       "┌─────────┬─────────┬──────────┬────────┬────────────┐\n",
       "│ user_id ┆ item_id ┆ progress ┆ rating ┆ start_date │\n",
       "│ ---     ┆ ---     ┆ ---      ┆ ---    ┆ ---        │\n",
       "│ u32     ┆ u32     ┆ u8       ┆ f32    ┆ date       │\n",
       "╞═════════╪═════════╪══════════╪════════╪════════════╡\n",
       "│ 126706  ┆ 14433   ┆ 80       ┆ NaN    ┆ 2018-01-01 │\n",
       "│ 127290  ┆ 140952  ┆ 58       ┆ NaN    ┆ 2018-01-01 │\n",
       "│ 66991   ┆ 198453  ┆ 89       ┆ NaN    ┆ 2018-01-01 │\n",
       "└─────────┴─────────┴──────────┴────────┴────────────┘"
      ]
     },
     "execution_count": 21,
     "metadata": {},
     "output_type": "execute_result"
    }
   ],
   "source": [
    "df.head(n=3)"
   ]
  },
  {
   "cell_type": "code",
   "execution_count": 22,
   "metadata": {},
   "outputs": [
    {
     "data": {
      "text/html": [
       "<div><style>\n",
       ".dataframe > thead > tr > th,\n",
       ".dataframe > tbody > tr > td {\n",
       "  text-align: right;\n",
       "}\n",
       "</style>\n",
       "<small>shape: (2, 7)</small><table border=\"1\" class=\"dataframe\"><thead><tr><th>item_id</th><th>progress</th><th>min_rating</th><th>mean_rating</th><th>max_rating</th><th>min_start_date</th><th>max_start_date</th></tr><tr><td>u32</td><td>u32</td><td>f32</td><td>f32</td><td>f32</td><td>date</td><td>date</td></tr></thead><tbody><tr><td>44681</td><td>353</td><td>1.0</td><td>4.56</td><td>5.0</td><td>2018-01-24</td><td>2019-12-20</td></tr><tr><td>162716</td><td>59</td><td>4.0</td><td>4.8</td><td>5.0</td><td>2018-01-25</td><td>2019-12-30</td></tr></tbody></table></div>"
      ],
      "text/plain": [
       "shape: (2, 7)\n",
       "┌─────────┬──────────┬────────────┬─────────────┬────────────┬────────────────┬────────────────┐\n",
       "│ item_id ┆ progress ┆ min_rating ┆ mean_rating ┆ max_rating ┆ min_start_date ┆ max_start_date │\n",
       "│ ---     ┆ ---      ┆ ---        ┆ ---         ┆ ---        ┆ ---            ┆ ---            │\n",
       "│ u32     ┆ u32      ┆ f32        ┆ f32         ┆ f32        ┆ date           ┆ date           │\n",
       "╞═════════╪══════════╪════════════╪═════════════╪════════════╪════════════════╪════════════════╡\n",
       "│ 44681   ┆ 353      ┆ 1.0        ┆ 4.56        ┆ 5.0        ┆ 2018-01-24     ┆ 2019-12-20     │\n",
       "│ 162716  ┆ 59       ┆ 4.0        ┆ 4.8         ┆ 5.0        ┆ 2018-01-25     ┆ 2019-12-30     │\n",
       "└─────────┴──────────┴────────────┴─────────────┴────────────┴────────────────┴────────────────┘"
      ]
     },
     "execution_count": 22,
     "metadata": {},
     "output_type": "execute_result"
    }
   ],
   "source": [
    "df.lazy().filter(pl.col(\"item_id\").is_in([44681, 162716])).fill_nan(None).groupby(\"item_id\").agg(\n",
    "    [\n",
    "        pl.count(\"progress\"),\n",
    "        pl.col(\"rating\").min().alias(\"min_rating\"),\n",
    "        pl.col(\"rating\").mean().alias(\"mean_rating\"),\n",
    "        pl.col(\"rating\").max().alias(\"max_rating\"),\n",
    "        pl.col(\"start_date\").min().alias(\"min_start_date\"),\n",
    "        pl.col(\"start_date\").max().alias(\"max_start_date\")\n",
    "    ]\n",
    ").collect()"
   ]
  },
  {
   "cell_type": "code",
   "execution_count": 23,
   "metadata": {},
   "outputs": [],
   "source": [
    "last_date = df.select(pl.col(\"start_date\").max())[0, 0]"
   ]
  },
  {
   "cell_type": "code",
   "execution_count": 24,
   "metadata": {},
   "outputs": [
    {
     "data": {
      "text/plain": [
       "(datetime.date(2019, 12, 24), datetime.date(2019, 12, 31))"
      ]
     },
     "execution_count": 24,
     "metadata": {},
     "output_type": "execute_result"
    }
   ],
   "source": [
    "folds = 7\n",
    "start_date = last_date - datetime.timedelta(days=folds)\n",
    "start_date, last_date"
   ]
  },
  {
   "cell_type": "code",
   "execution_count": 25,
   "metadata": {},
   "outputs": [
    {
     "data": {
      "text/plain": [
       "(7, 7)"
      ]
     },
     "execution_count": 25,
     "metadata": {},
     "output_type": "execute_result"
    }
   ],
   "source": [
    "cv = TimeRangeSplit(start_date=start_date, interval=datetime.timedelta(days=1), folds=folds)\n",
    "\n",
    "cv.max_n_splits, cv.get_n_splits(df, datetime_column='start_date')"
   ]
  },
  {
   "cell_type": "code",
   "execution_count": 26,
   "metadata": {},
   "outputs": [
    {
     "data": {
      "text/html": [
       "<div><style>\n",
       ".dataframe > thead > tr > th,\n",
       ".dataframe > tbody > tr > td {\n",
       "  text-align: right;\n",
       "}\n",
       "</style>\n",
       "<small>shape: (7,)</small><table border=\"1\" class=\"dataframe\"><thead><tr><th>date_col</th></tr><tr><td>date</td></tr></thead><tbody><tr><td>2019-12-25</td></tr><tr><td>2019-12-26</td></tr><tr><td>2019-12-27</td></tr><tr><td>2019-12-28</td></tr><tr><td>2019-12-29</td></tr><tr><td>2019-12-30</td></tr><tr><td>2019-12-31</td></tr></tbody></table></div>"
      ],
      "text/plain": [
       "shape: (7,)\n",
       "Series: 'date_col' [date]\n",
       "[\n",
       "\t2019-12-25\n",
       "\t2019-12-26\n",
       "\t2019-12-27\n",
       "\t2019-12-28\n",
       "\t2019-12-29\n",
       "\t2019-12-30\n",
       "\t2019-12-31\n",
       "]"
      ]
     },
     "execution_count": 26,
     "metadata": {},
     "output_type": "execute_result"
    }
   ],
   "source": [
    "cv.date_range[1:]"
   ]
  },
  {
   "cell_type": "code",
   "execution_count": 27,
   "metadata": {},
   "outputs": [],
   "source": [
    "folds_with_stats = list(cv.split(\n",
    "    df, \n",
    "    user_column='user_id',\n",
    "    item_column='item_id',\n",
    "    datetime_column='start_date',\n",
    "    fold_stats=True\n",
    ")\n",
    ")\n",
    "\n",
    "folds_info_with_stats = pl.DataFrame([info for _, _, info in folds_with_stats])"
   ]
  },
  {
   "cell_type": "code",
   "execution_count": 28,
   "metadata": {},
   "outputs": [
    {
     "data": {
      "text/html": [
       "<div><style>\n",
       ".dataframe > thead > tr > th,\n",
       ".dataframe > tbody > tr > td {\n",
       "  text-align: right;\n",
       "}\n",
       "</style>\n",
       "<small>shape: (7, 9)</small><table border=\"1\" class=\"dataframe\"><thead><tr><th>Start date</th><th>End date</th><th>Train</th><th>New users</th><th>New users interactions</th><th>New items</th><th>New items interactions</th><th>Known interactions</th><th>Test</th></tr><tr><td>date</td><td>date</td><td>i64</td><td>i64</td><td>i64</td><td>i64</td><td>i64</td><td>i64</td><td>i64</td></tr></thead><tbody><tr><td>2019-12-24</td><td>2019-12-25</td><td>1515946</td><td>3</td><td>3</td><td>0</td><td>0</td><td>0</td><td>2045</td></tr><tr><td>2019-12-25</td><td>2019-12-26</td><td>1517994</td><td>1</td><td>1</td><td>0</td><td>0</td><td>0</td><td>2141</td></tr><tr><td>2019-12-26</td><td>2019-12-27</td><td>1520136</td><td>0</td><td>0</td><td>0</td><td>0</td><td>0</td><td>2177</td></tr><tr><td>2019-12-27</td><td>2019-12-28</td><td>1522313</td><td>0</td><td>0</td><td>0</td><td>0</td><td>0</td><td>2110</td></tr><tr><td>2019-12-28</td><td>2019-12-29</td><td>1524423</td><td>2</td><td>4</td><td>0</td><td>0</td><td>0</td><td>2205</td></tr><tr><td>2019-12-29</td><td>2019-12-30</td><td>1526632</td><td>4</td><td>4</td><td>0</td><td>0</td><td>0</td><td>2118</td></tr><tr><td>2019-12-30</td><td>2019-12-31</td><td>1528754</td><td>1</td><td>1</td><td>0</td><td>0</td><td>0</td><td>2168</td></tr></tbody></table></div>"
      ],
      "text/plain": [
       "shape: (7, 9)\n",
       "┌────────────┬────────────┬─────────┬───────────┬───┬───────────┬────────────┬──────────────┬──────┐\n",
       "│ Start date ┆ End date   ┆ Train   ┆ New users ┆ … ┆ New items ┆ New items  ┆ Known        ┆ Test │\n",
       "│ ---        ┆ ---        ┆ ---     ┆ ---       ┆   ┆ ---       ┆ interactio ┆ interactions ┆ ---  │\n",
       "│ date       ┆ date       ┆ i64     ┆ i64       ┆   ┆ i64       ┆ ns         ┆ ---          ┆ i64  │\n",
       "│            ┆            ┆         ┆           ┆   ┆           ┆ ---        ┆ i64          ┆      │\n",
       "│            ┆            ┆         ┆           ┆   ┆           ┆ i64        ┆              ┆      │\n",
       "╞════════════╪════════════╪═════════╪═══════════╪═══╪═══════════╪════════════╪══════════════╪══════╡\n",
       "│ 2019-12-24 ┆ 2019-12-25 ┆ 1515946 ┆ 3         ┆ … ┆ 0         ┆ 0          ┆ 0            ┆ 2045 │\n",
       "│ 2019-12-25 ┆ 2019-12-26 ┆ 1517994 ┆ 1         ┆ … ┆ 0         ┆ 0          ┆ 0            ┆ 2141 │\n",
       "│ 2019-12-26 ┆ 2019-12-27 ┆ 1520136 ┆ 0         ┆ … ┆ 0         ┆ 0          ┆ 0            ┆ 2177 │\n",
       "│ 2019-12-27 ┆ 2019-12-28 ┆ 1522313 ┆ 0         ┆ … ┆ 0         ┆ 0          ┆ 0            ┆ 2110 │\n",
       "│ 2019-12-28 ┆ 2019-12-29 ┆ 1524423 ┆ 2         ┆ … ┆ 0         ┆ 0          ┆ 0            ┆ 2205 │\n",
       "│ 2019-12-29 ┆ 2019-12-30 ┆ 1526632 ┆ 4         ┆ … ┆ 0         ┆ 0          ┆ 0            ┆ 2118 │\n",
       "│ 2019-12-30 ┆ 2019-12-31 ┆ 1528754 ┆ 1         ┆ … ┆ 0         ┆ 0          ┆ 0            ┆ 2168 │\n",
       "└────────────┴────────────┴─────────┴───────────┴───┴───────────┴────────────┴──────────────┴──────┘"
      ]
     },
     "execution_count": 28,
     "metadata": {},
     "output_type": "execute_result"
    }
   ],
   "source": [
    "folds_info_with_stats"
   ]
  },
  {
   "cell_type": "code",
   "execution_count": 29,
   "metadata": {},
   "outputs": [],
   "source": [
    "top_N = 10"
   ]
  },
  {
   "attachments": {},
   "cell_type": "markdown",
   "metadata": {},
   "source": [
    "# Implicit"
   ]
  },
  {
   "cell_type": "code",
   "execution_count": 30,
   "metadata": {},
   "outputs": [
    {
     "data": {
      "text/plain": [
       "((1515946, 5), (2045, 5))"
      ]
     },
     "execution_count": 30,
     "metadata": {},
     "output_type": "execute_result"
    }
   ],
   "source": [
    "train_idx, test_idx, info = folds_with_stats[0]\n",
    "\n",
    "train = df.join(train_idx, on=[\"user_id\", \"item_id\"], how=\"inner\")\n",
    "test = df.join(test_idx, on=[\"user_id\", \"item_id\"], how=\"inner\")\n",
    "train.shape, test.shape"
   ]
  },
  {
   "cell_type": "code",
   "execution_count": 31,
   "metadata": {},
   "outputs": [],
   "source": [
    "cosine_model = ImplicitRecommender(CosineRecommender(K=10), users_mapping, items_mapping, items_inv_mapping)"
   ]
  },
  {
   "cell_type": "code",
   "execution_count": 32,
   "metadata": {},
   "outputs": [
    {
     "name": "stderr",
     "output_type": "stream",
     "text": [
      "/home/alex/miniconda3/envs/recsys/lib/python3.10/site-packages/implicit/utils.py:138: ParameterWarning: Method expects CSR input, and was passed coo_matrix instead. Converting to CSR took 0.008853673934936523 seconds\n",
      "  warnings.warn(\n"
     ]
    },
    {
     "data": {
      "application/vnd.jupyter.widget-view+json": {
       "model_id": "d9134fad999c4742ba1a9e492d76aa27",
       "version_major": 2,
       "version_minor": 0
      },
      "text/plain": [
       "  0%|          | 0/59599 [00:00<?, ?it/s]"
      ]
     },
     "metadata": {},
     "output_type": "display_data"
    }
   ],
   "source": [
    "cosine_model.fit(train)"
   ]
  },
  {
   "cell_type": "code",
   "execution_count": 33,
   "metadata": {},
   "outputs": [
    {
     "name": "stdout",
     "output_type": "stream",
     "text": [
      "Рекомендации для пользователя 139942\n"
     ]
    }
   ],
   "source": [
    "user_id = test.select(pl.col(\"user_id\"))[0, 0]\n",
    "print(f'Рекомендации для пользователя {user_id}')"
   ]
  },
  {
   "cell_type": "code",
   "execution_count": 34,
   "metadata": {},
   "outputs": [],
   "source": [
    "pred_recs = cosine_model.recommend([user_id], n=top_N)"
   ]
  },
  {
   "cell_type": "code",
   "execution_count": 35,
   "metadata": {},
   "outputs": [
    {
     "data": {
      "text/html": [
       "<div><style>\n",
       ".dataframe > thead > tr > th,\n",
       ".dataframe > tbody > tr > td {\n",
       "  text-align: right;\n",
       "}\n",
       "</style>\n",
       "<small>shape: (10, 3)</small><table border=\"1\" class=\"dataframe\"><thead><tr><th>user_id</th><th>item_id</th><th>rank</th></tr><tr><td>u32</td><td>u32</td><td>u32</td></tr></thead><tbody><tr><td>139942</td><td>193358</td><td>1</td></tr><tr><td>139942</td><td>125586</td><td>2</td></tr><tr><td>139942</td><td>203882</td><td>3</td></tr><tr><td>139942</td><td>90986</td><td>4</td></tr><tr><td>139942</td><td>146180</td><td>5</td></tr><tr><td>139942</td><td>264849</td><td>6</td></tr><tr><td>139942</td><td>238155</td><td>7</td></tr><tr><td>139942</td><td>7094</td><td>8</td></tr><tr><td>139942</td><td>240226</td><td>9</td></tr><tr><td>139942</td><td>1728</td><td>10</td></tr></tbody></table></div>"
      ],
      "text/plain": [
       "shape: (10, 3)\n",
       "┌─────────┬─────────┬──────┐\n",
       "│ user_id ┆ item_id ┆ rank │\n",
       "│ ---     ┆ ---     ┆ ---  │\n",
       "│ u32     ┆ u32     ┆ u32  │\n",
       "╞═════════╪═════════╪══════╡\n",
       "│ 139942  ┆ 193358  ┆ 1    │\n",
       "│ 139942  ┆ 125586  ┆ 2    │\n",
       "│ 139942  ┆ 203882  ┆ 3    │\n",
       "│ 139942  ┆ 90986   ┆ 4    │\n",
       "│ …       ┆ …       ┆ …    │\n",
       "│ 139942  ┆ 238155  ┆ 7    │\n",
       "│ 139942  ┆ 7094    ┆ 8    │\n",
       "│ 139942  ┆ 240226  ┆ 9    │\n",
       "│ 139942  ┆ 1728    ┆ 10   │\n",
       "└─────────┴─────────┴──────┘"
      ]
     },
     "execution_count": 35,
     "metadata": {},
     "output_type": "execute_result"
    }
   ],
   "source": [
    "pred_recs"
   ]
  },
  {
   "cell_type": "code",
   "execution_count": 36,
   "metadata": {},
   "outputs": [
    {
     "data": {
      "text/html": [
       "<div><style>\n",
       ".dataframe > thead > tr > th,\n",
       ".dataframe > tbody > tr > td {\n",
       "  text-align: right;\n",
       "}\n",
       "</style>\n",
       "<small>shape: (5, 5)</small><table border=\"1\" class=\"dataframe\"><thead><tr><th>user_id</th><th>item_id</th><th>progress</th><th>rating</th><th>start_date</th></tr><tr><td>u32</td><td>u32</td><td>u8</td><td>f32</td><td>date</td></tr></thead><tbody><tr><td>139942</td><td>26270</td><td>58</td><td>NaN</td><td>2019-12-24</td></tr><tr><td>136607</td><td>82392</td><td>39</td><td>NaN</td><td>2019-12-24</td></tr><tr><td>142287</td><td>84446</td><td>79</td><td>NaN</td><td>2019-12-24</td></tr><tr><td>114933</td><td>319155</td><td>9</td><td>NaN</td><td>2019-12-24</td></tr><tr><td>32926</td><td>120339</td><td>73</td><td>NaN</td><td>2019-12-24</td></tr></tbody></table></div>"
      ],
      "text/plain": [
       "shape: (5, 5)\n",
       "┌─────────┬─────────┬──────────┬────────┬────────────┐\n",
       "│ user_id ┆ item_id ┆ progress ┆ rating ┆ start_date │\n",
       "│ ---     ┆ ---     ┆ ---      ┆ ---    ┆ ---        │\n",
       "│ u32     ┆ u32     ┆ u8       ┆ f32    ┆ date       │\n",
       "╞═════════╪═════════╪══════════╪════════╪════════════╡\n",
       "│ 139942  ┆ 26270   ┆ 58       ┆ NaN    ┆ 2019-12-24 │\n",
       "│ 136607  ┆ 82392   ┆ 39       ┆ NaN    ┆ 2019-12-24 │\n",
       "│ 142287  ┆ 84446   ┆ 79       ┆ NaN    ┆ 2019-12-24 │\n",
       "│ 114933  ┆ 319155  ┆ 9        ┆ NaN    ┆ 2019-12-24 │\n",
       "│ 32926   ┆ 120339  ┆ 73       ┆ NaN    ┆ 2019-12-24 │\n",
       "└─────────┴─────────┴──────────┴────────┴────────────┘"
      ]
     },
     "execution_count": 36,
     "metadata": {},
     "output_type": "execute_result"
    }
   ],
   "source": [
    "test.head()"
   ]
  },
  {
   "cell_type": "code",
   "execution_count": 37,
   "metadata": {},
   "outputs": [],
   "source": [
    "pred_recs = cosine_model.recommend(test.select(pl.col(\"user_id\").unique()).to_series(), n=top_N)"
   ]
  },
  {
   "cell_type": "code",
   "execution_count": 38,
   "metadata": {},
   "outputs": [
    {
     "data": {
      "text/html": [
       "<div><style>\n",
       ".dataframe > thead > tr > th,\n",
       ".dataframe > tbody > tr > td {\n",
       "  text-align: right;\n",
       "}\n",
       "</style>\n",
       "<small>shape: (16_340, 3)</small><table border=\"1\" class=\"dataframe\"><thead><tr><th>user_id</th><th>item_id</th><th>rank</th></tr><tr><td>u32</td><td>u32</td><td>u32</td></tr></thead><tbody><tr><td>27</td><td>205779</td><td>1</td></tr><tr><td>27</td><td>270698</td><td>2</td></tr><tr><td>27</td><td>300693</td><td>3</td></tr><tr><td>27</td><td>44437</td><td>4</td></tr><tr><td>27</td><td>128993</td><td>5</td></tr><tr><td>27</td><td>251031</td><td>6</td></tr><tr><td>27</td><td>261532</td><td>7</td></tr><tr><td>27</td><td>305853</td><td>8</td></tr><tr><td>27</td><td>57696</td><td>9</td></tr><tr><td>27</td><td>140826</td><td>10</td></tr><tr><td>45</td><td>20730</td><td>1</td></tr><tr><td>45</td><td>292015</td><td>2</td></tr><tr><td>&hellip;</td><td>&hellip;</td><td>&hellip;</td></tr><tr><td>159365</td><td>250599</td><td>9</td></tr><tr><td>159365</td><td>321442</td><td>10</td></tr><tr><td>159454</td><td>193170</td><td>1</td></tr><tr><td>159454</td><td>106235</td><td>2</td></tr><tr><td>159454</td><td>240995</td><td>3</td></tr><tr><td>159454</td><td>42644</td><td>4</td></tr><tr><td>159454</td><td>132986</td><td>5</td></tr><tr><td>159454</td><td>44200</td><td>6</td></tr><tr><td>159454</td><td>273234</td><td>7</td></tr><tr><td>159454</td><td>60973</td><td>8</td></tr><tr><td>159454</td><td>315103</td><td>9</td></tr><tr><td>159454</td><td>284396</td><td>10</td></tr></tbody></table></div>"
      ],
      "text/plain": [
       "shape: (16_340, 3)\n",
       "┌─────────┬─────────┬──────┐\n",
       "│ user_id ┆ item_id ┆ rank │\n",
       "│ ---     ┆ ---     ┆ ---  │\n",
       "│ u32     ┆ u32     ┆ u32  │\n",
       "╞═════════╪═════════╪══════╡\n",
       "│ 27      ┆ 205779  ┆ 1    │\n",
       "│ 27      ┆ 270698  ┆ 2    │\n",
       "│ 27      ┆ 300693  ┆ 3    │\n",
       "│ 27      ┆ 44437   ┆ 4    │\n",
       "│ …       ┆ …       ┆ …    │\n",
       "│ 159454  ┆ 273234  ┆ 7    │\n",
       "│ 159454  ┆ 60973   ┆ 8    │\n",
       "│ 159454  ┆ 315103  ┆ 9    │\n",
       "│ 159454  ┆ 284396  ┆ 10   │\n",
       "└─────────┴─────────┴──────┘"
      ]
     },
     "execution_count": 38,
     "metadata": {},
     "output_type": "execute_result"
    }
   ],
   "source": [
    "pred_recs"
   ]
  },
  {
   "cell_type": "code",
   "execution_count": 39,
   "metadata": {},
   "outputs": [
    {
     "data": {
      "text/html": [
       "<div><style>\n",
       ".dataframe > thead > tr > th,\n",
       ".dataframe > tbody > tr > td {\n",
       "  text-align: right;\n",
       "}\n",
       "</style>\n",
       "<small>shape: (13, 3)</small><table border=\"1\" class=\"dataframe\"><thead><tr><th>user_id</th><th>item_id</th><th>rank</th></tr><tr><td>u32</td><td>u32</td><td>u32</td></tr></thead><tbody><tr><td>27</td><td>205779</td><td>1</td></tr><tr><td>27</td><td>270698</td><td>2</td></tr><tr><td>27</td><td>300693</td><td>3</td></tr><tr><td>27</td><td>44437</td><td>4</td></tr><tr><td>27</td><td>128993</td><td>5</td></tr><tr><td>27</td><td>251031</td><td>6</td></tr><tr><td>27</td><td>261532</td><td>7</td></tr><tr><td>27</td><td>305853</td><td>8</td></tr><tr><td>27</td><td>57696</td><td>9</td></tr><tr><td>27</td><td>140826</td><td>10</td></tr><tr><td>45</td><td>20730</td><td>1</td></tr><tr><td>45</td><td>292015</td><td>2</td></tr><tr><td>45</td><td>175263</td><td>3</td></tr></tbody></table></div>"
      ],
      "text/plain": [
       "shape: (13, 3)\n",
       "┌─────────┬─────────┬──────┐\n",
       "│ user_id ┆ item_id ┆ rank │\n",
       "│ ---     ┆ ---     ┆ ---  │\n",
       "│ u32     ┆ u32     ┆ u32  │\n",
       "╞═════════╪═════════╪══════╡\n",
       "│ 27      ┆ 205779  ┆ 1    │\n",
       "│ 27      ┆ 270698  ┆ 2    │\n",
       "│ 27      ┆ 300693  ┆ 3    │\n",
       "│ 27      ┆ 44437   ┆ 4    │\n",
       "│ …       ┆ …       ┆ …    │\n",
       "│ 27      ┆ 140826  ┆ 10   │\n",
       "│ 45      ┆ 20730   ┆ 1    │\n",
       "│ 45      ┆ 292015  ┆ 2    │\n",
       "│ 45      ┆ 175263  ┆ 3    │\n",
       "└─────────┴─────────┴──────┘"
      ]
     },
     "execution_count": 39,
     "metadata": {},
     "output_type": "execute_result"
    }
   ],
   "source": [
    "pred_recs.head(top_N + 3)"
   ]
  },
  {
   "cell_type": "code",
   "execution_count": 40,
   "metadata": {},
   "outputs": [
    {
     "data": {
      "text/html": [
       "<div><style>\n",
       ".dataframe > thead > tr > th,\n",
       ".dataframe > tbody > tr > td {\n",
       "  text-align: right;\n",
       "}\n",
       "</style>\n",
       "<small>shape: (10, 3)</small><table border=\"1\" class=\"dataframe\"><thead><tr><th>user_id</th><th>item_id</th><th>rank</th></tr><tr><td>u32</td><td>u32</td><td>u32</td></tr></thead><tbody><tr><td>139942</td><td>193358</td><td>1</td></tr><tr><td>139942</td><td>125586</td><td>2</td></tr><tr><td>139942</td><td>203882</td><td>3</td></tr><tr><td>139942</td><td>90986</td><td>4</td></tr><tr><td>139942</td><td>146180</td><td>5</td></tr><tr><td>139942</td><td>264849</td><td>6</td></tr><tr><td>139942</td><td>238155</td><td>7</td></tr><tr><td>139942</td><td>7094</td><td>8</td></tr><tr><td>139942</td><td>240226</td><td>9</td></tr><tr><td>139942</td><td>1728</td><td>10</td></tr></tbody></table></div>"
      ],
      "text/plain": [
       "shape: (10, 3)\n",
       "┌─────────┬─────────┬──────┐\n",
       "│ user_id ┆ item_id ┆ rank │\n",
       "│ ---     ┆ ---     ┆ ---  │\n",
       "│ u32     ┆ u32     ┆ u32  │\n",
       "╞═════════╪═════════╪══════╡\n",
       "│ 139942  ┆ 193358  ┆ 1    │\n",
       "│ 139942  ┆ 125586  ┆ 2    │\n",
       "│ 139942  ┆ 203882  ┆ 3    │\n",
       "│ 139942  ┆ 90986   ┆ 4    │\n",
       "│ …       ┆ …       ┆ …    │\n",
       "│ 139942  ┆ 238155  ┆ 7    │\n",
       "│ 139942  ┆ 7094    ┆ 8    │\n",
       "│ 139942  ┆ 240226  ┆ 9    │\n",
       "│ 139942  ┆ 1728    ┆ 10   │\n",
       "└─────────┴─────────┴──────┘"
      ]
     },
     "execution_count": 40,
     "metadata": {},
     "output_type": "execute_result"
    }
   ],
   "source": [
    "pred_recs.filter(pl.col(\"user_id\") == 139942).head(top_N + 3)"
   ]
  },
  {
   "cell_type": "code",
   "execution_count": 41,
   "metadata": {},
   "outputs": [
    {
     "data": {
      "text/html": [
       "<div><style>\n",
       ".dataframe > thead > tr > th,\n",
       ".dataframe > tbody > tr > td {\n",
       "  text-align: right;\n",
       "}\n",
       "</style>\n",
       "<small>shape: (5, 5)</small><table border=\"1\" class=\"dataframe\"><thead><tr><th>user_id</th><th>item_id</th><th>progress</th><th>rating</th><th>start_date</th></tr><tr><td>u32</td><td>u32</td><td>u8</td><td>f32</td><td>date</td></tr></thead><tbody><tr><td>139942</td><td>26270</td><td>58</td><td>NaN</td><td>2019-12-24</td></tr><tr><td>136607</td><td>82392</td><td>39</td><td>NaN</td><td>2019-12-24</td></tr><tr><td>142287</td><td>84446</td><td>79</td><td>NaN</td><td>2019-12-24</td></tr><tr><td>114933</td><td>319155</td><td>9</td><td>NaN</td><td>2019-12-24</td></tr><tr><td>32926</td><td>120339</td><td>73</td><td>NaN</td><td>2019-12-24</td></tr></tbody></table></div>"
      ],
      "text/plain": [
       "shape: (5, 5)\n",
       "┌─────────┬─────────┬──────────┬────────┬────────────┐\n",
       "│ user_id ┆ item_id ┆ progress ┆ rating ┆ start_date │\n",
       "│ ---     ┆ ---     ┆ ---      ┆ ---    ┆ ---        │\n",
       "│ u32     ┆ u32     ┆ u8       ┆ f32    ┆ date       │\n",
       "╞═════════╪═════════╪══════════╪════════╪════════════╡\n",
       "│ 139942  ┆ 26270   ┆ 58       ┆ NaN    ┆ 2019-12-24 │\n",
       "│ 136607  ┆ 82392   ┆ 39       ┆ NaN    ┆ 2019-12-24 │\n",
       "│ 142287  ┆ 84446   ┆ 79       ┆ NaN    ┆ 2019-12-24 │\n",
       "│ 114933  ┆ 319155  ┆ 9        ┆ NaN    ┆ 2019-12-24 │\n",
       "│ 32926   ┆ 120339  ┆ 73       ┆ NaN    ┆ 2019-12-24 │\n",
       "└─────────┴─────────┴──────────┴────────┴────────────┘"
      ]
     },
     "execution_count": 41,
     "metadata": {},
     "output_type": "execute_result"
    }
   ],
   "source": [
    "test.head()"
   ]
  },
  {
   "cell_type": "code",
   "execution_count": 42,
   "metadata": {},
   "outputs": [],
   "source": [
    "metrics = compute_metrics(test, pred_recs, top_N)"
   ]
  },
  {
   "cell_type": "code",
   "execution_count": 43,
   "metadata": {},
   "outputs": [
    {
     "data": {
      "text/html": [
       "<div><style>\n",
       ".dataframe > thead > tr > th,\n",
       ".dataframe > tbody > tr > td {\n",
       "  text-align: right;\n",
       "}\n",
       "</style>\n",
       "<small>shape: (22, 2)</small><table border=\"1\" class=\"dataframe\"><thead><tr><th>name</th><th>value</th></tr><tr><td>str</td><td>f64</td></tr></thead><tbody><tr><td>&quot;prec@1&quot;</td><td>0.011628</td></tr><tr><td>&quot;recall@1&quot;</td><td>0.011628</td></tr><tr><td>&quot;prec@2&quot;</td><td>0.010098</td></tr><tr><td>&quot;recall@2&quot;</td><td>0.010098</td></tr><tr><td>&quot;prec@3&quot;</td><td>0.00918</td></tr><tr><td>&quot;recall@3&quot;</td><td>0.00918</td></tr><tr><td>&quot;prec@4&quot;</td><td>0.007956</td></tr><tr><td>&quot;recall@4&quot;</td><td>0.007956</td></tr><tr><td>&quot;prec@5&quot;</td><td>0.007222</td></tr><tr><td>&quot;recall@5&quot;</td><td>0.007222</td></tr><tr><td>&quot;prec@6&quot;</td><td>0.006222</td></tr><tr><td>&quot;recall@6&quot;</td><td>0.006222</td></tr><tr><td>&quot;prec@7&quot;</td><td>0.005595</td></tr><tr><td>&quot;recall@7&quot;</td><td>0.005595</td></tr><tr><td>&quot;prec@8&quot;</td><td>0.005737</td></tr><tr><td>&quot;recall@8&quot;</td><td>0.005737</td></tr><tr><td>&quot;prec@9&quot;</td><td>0.005168</td></tr><tr><td>&quot;recall@9&quot;</td><td>0.005168</td></tr><tr><td>&quot;prec@10&quot;</td><td>0.004896</td></tr><tr><td>&quot;recall@10&quot;</td><td>0.004896</td></tr><tr><td>&quot;MRR&quot;</td><td>0.021611</td></tr><tr><td>&quot;MAP&quot;</td><td>0.02005</td></tr></tbody></table></div>"
      ],
      "text/plain": [
       "shape: (22, 2)\n",
       "┌───────────┬──────────┐\n",
       "│ name      ┆ value    │\n",
       "│ ---       ┆ ---      │\n",
       "│ str       ┆ f64      │\n",
       "╞═══════════╪══════════╡\n",
       "│ prec@1    ┆ 0.011628 │\n",
       "│ recall@1  ┆ 0.011628 │\n",
       "│ prec@2    ┆ 0.010098 │\n",
       "│ recall@2  ┆ 0.010098 │\n",
       "│ …         ┆ …        │\n",
       "│ prec@10   ┆ 0.004896 │\n",
       "│ recall@10 ┆ 0.004896 │\n",
       "│ MRR       ┆ 0.021611 │\n",
       "│ MAP       ┆ 0.02005  │\n",
       "└───────────┴──────────┘"
      ]
     },
     "execution_count": 43,
     "metadata": {},
     "output_type": "execute_result"
    }
   ],
   "source": [
    "metrics"
   ]
  },
  {
   "cell_type": "code",
   "execution_count": 44,
   "metadata": {},
   "outputs": [],
   "source": [
    "def create_cosine_model():\n",
    "    return ImplicitRecommender(CosineRecommender(K=top_N), users_mapping, items_mapping, items_inv_mapping)\n",
    "\n",
    "\n",
    "def create_bm25():\n",
    "    return ImplicitRecommender(BM25Recommender(K=top_N), users_mapping, items_mapping, items_inv_mapping)\n",
    "\n",
    "def create_tfidf():\n",
    "    return ImplicitRecommender(TFIDFRecommender(K=top_N), users_mapping, items_mapping, items_inv_mapping)\n",
    "\n",
    "def create_alsm():\n",
    "    return ImplicitRecommender(AlternatingLeastSquares(factors=32, iterations=10), users_mapping, items_mapping, items_inv_mapping)"
   ]
  },
  {
   "cell_type": "code",
   "execution_count": 45,
   "metadata": {},
   "outputs": [],
   "source": [
    "cv_res_per_model = []\n",
    "models = {}"
   ]
  },
  {
   "cell_type": "code",
   "execution_count": 46,
   "metadata": {},
   "outputs": [
    {
     "data": {
      "application/vnd.jupyter.widget-view+json": {
       "model_id": "fcb884e2967044b0a31518a18533971c",
       "version_major": 2,
       "version_minor": 0
      },
      "text/plain": [
       "  0%|          | 0/7 [00:00<?, ?it/s]"
      ]
     },
     "metadata": {},
     "output_type": "display_data"
    },
    {
     "name": "stderr",
     "output_type": "stream",
     "text": [
      "/home/alex/miniconda3/envs/recsys/lib/python3.10/site-packages/implicit/utils.py:138: ParameterWarning: Method expects CSR input, and was passed coo_matrix instead. Converting to CSR took 0.00917196273803711 seconds\n",
      "  warnings.warn(\n",
      "/home/alex/miniconda3/envs/recsys/lib/python3.10/site-packages/implicit/utils.py:138: ParameterWarning: Method expects CSR input, and was passed coo_matrix instead. Converting to CSR took 0.008222579956054688 seconds\n",
      "  warnings.warn(\n",
      "/home/alex/miniconda3/envs/recsys/lib/python3.10/site-packages/implicit/utils.py:138: ParameterWarning: Method expects CSR input, and was passed coo_matrix instead. Converting to CSR took 0.00911569595336914 seconds\n",
      "  warnings.warn(\n",
      "/home/alex/miniconda3/envs/recsys/lib/python3.10/site-packages/implicit/utils.py:138: ParameterWarning: Method expects CSR input, and was passed coo_matrix instead. Converting to CSR took 0.009116172790527344 seconds\n",
      "  warnings.warn(\n",
      "/home/alex/miniconda3/envs/recsys/lib/python3.10/site-packages/implicit/utils.py:138: ParameterWarning: Method expects CSR input, and was passed coo_matrix instead. Converting to CSR took 0.00908660888671875 seconds\n",
      "  warnings.warn(\n",
      "/home/alex/miniconda3/envs/recsys/lib/python3.10/site-packages/implicit/utils.py:138: ParameterWarning: Method expects CSR input, and was passed coo_matrix instead. Converting to CSR took 0.008213043212890625 seconds\n",
      "  warnings.warn(\n",
      "/home/alex/miniconda3/envs/recsys/lib/python3.10/site-packages/implicit/utils.py:138: ParameterWarning: Method expects CSR input, and was passed coo_matrix instead. Converting to CSR took 0.008545637130737305 seconds\n",
      "  warnings.warn(\n"
     ]
    },
    {
     "data": {
      "application/vnd.jupyter.widget-view+json": {
       "model_id": "e8a0b4c5a69b4593adf36689e53225bd",
       "version_major": 2,
       "version_minor": 0
      },
      "text/plain": [
       "  0%|          | 0/7 [00:00<?, ?it/s]"
      ]
     },
     "metadata": {},
     "output_type": "display_data"
    },
    {
     "name": "stderr",
     "output_type": "stream",
     "text": [
      "/home/alex/miniconda3/envs/recsys/lib/python3.10/site-packages/implicit/utils.py:138: ParameterWarning: Method expects CSR input, and was passed coo_matrix instead. Converting to CSR took 0.00940704345703125 seconds\n",
      "  warnings.warn(\n",
      "/home/alex/miniconda3/envs/recsys/lib/python3.10/site-packages/implicit/utils.py:138: ParameterWarning: Method expects CSR input, and was passed coo_matrix instead. Converting to CSR took 0.009647369384765625 seconds\n",
      "  warnings.warn(\n",
      "/home/alex/miniconda3/envs/recsys/lib/python3.10/site-packages/implicit/utils.py:138: ParameterWarning: Method expects CSR input, and was passed coo_matrix instead. Converting to CSR took 0.012760162353515625 seconds\n",
      "  warnings.warn(\n",
      "/home/alex/miniconda3/envs/recsys/lib/python3.10/site-packages/implicit/utils.py:138: ParameterWarning: Method expects CSR input, and was passed coo_matrix instead. Converting to CSR took 0.0091705322265625 seconds\n",
      "  warnings.warn(\n",
      "/home/alex/miniconda3/envs/recsys/lib/python3.10/site-packages/implicit/utils.py:138: ParameterWarning: Method expects CSR input, and was passed coo_matrix instead. Converting to CSR took 0.010083198547363281 seconds\n",
      "  warnings.warn(\n",
      "/home/alex/miniconda3/envs/recsys/lib/python3.10/site-packages/implicit/utils.py:138: ParameterWarning: Method expects CSR input, and was passed coo_matrix instead. Converting to CSR took 0.01143336296081543 seconds\n",
      "  warnings.warn(\n",
      "/home/alex/miniconda3/envs/recsys/lib/python3.10/site-packages/implicit/utils.py:138: ParameterWarning: Method expects CSR input, and was passed coo_matrix instead. Converting to CSR took 0.010610342025756836 seconds\n",
      "  warnings.warn(\n"
     ]
    },
    {
     "data": {
      "application/vnd.jupyter.widget-view+json": {
       "model_id": "09b34722ec70455699f0438a2ca12fd6",
       "version_major": 2,
       "version_minor": 0
      },
      "text/plain": [
       "  0%|          | 0/7 [00:00<?, ?it/s]"
      ]
     },
     "metadata": {},
     "output_type": "display_data"
    },
    {
     "name": "stderr",
     "output_type": "stream",
     "text": [
      "/home/alex/miniconda3/envs/recsys/lib/python3.10/site-packages/implicit/utils.py:138: ParameterWarning: Method expects CSR input, and was passed coo_matrix instead. Converting to CSR took 0.00896596908569336 seconds\n",
      "  warnings.warn(\n",
      "/home/alex/miniconda3/envs/recsys/lib/python3.10/site-packages/implicit/utils.py:138: ParameterWarning: Method expects CSR input, and was passed coo_matrix instead. Converting to CSR took 0.009010553359985352 seconds\n",
      "  warnings.warn(\n",
      "/home/alex/miniconda3/envs/recsys/lib/python3.10/site-packages/implicit/utils.py:138: ParameterWarning: Method expects CSR input, and was passed coo_matrix instead. Converting to CSR took 0.011895895004272461 seconds\n",
      "  warnings.warn(\n",
      "/home/alex/miniconda3/envs/recsys/lib/python3.10/site-packages/implicit/utils.py:138: ParameterWarning: Method expects CSR input, and was passed coo_matrix instead. Converting to CSR took 0.008475780487060547 seconds\n",
      "  warnings.warn(\n",
      "/home/alex/miniconda3/envs/recsys/lib/python3.10/site-packages/implicit/utils.py:138: ParameterWarning: Method expects CSR input, and was passed coo_matrix instead. Converting to CSR took 0.009165525436401367 seconds\n",
      "  warnings.warn(\n",
      "/home/alex/miniconda3/envs/recsys/lib/python3.10/site-packages/implicit/utils.py:138: ParameterWarning: Method expects CSR input, and was passed coo_matrix instead. Converting to CSR took 0.009539365768432617 seconds\n",
      "  warnings.warn(\n",
      "/home/alex/miniconda3/envs/recsys/lib/python3.10/site-packages/implicit/utils.py:138: ParameterWarning: Method expects CSR input, and was passed coo_matrix instead. Converting to CSR took 0.01021122932434082 seconds\n",
      "  warnings.warn(\n"
     ]
    },
    {
     "data": {
      "application/vnd.jupyter.widget-view+json": {
       "model_id": "fe2af30bf2664b0486398f05beb567bf",
       "version_major": 2,
       "version_minor": 0
      },
      "text/plain": [
       "  0%|          | 0/7 [00:00<?, ?it/s]"
      ]
     },
     "metadata": {},
     "output_type": "display_data"
    }
   ],
   "source": [
    "for factory in (create_cosine_model, create_bm25, create_tfidf, create_alsm):\n",
    "    cross_valid_res_model, model = model_cross_validate(\n",
    "        df, \n",
    "        user_features=df_users, \n",
    "        item_features=df_items, \n",
    "        folds=folds_with_stats, \n",
    "        model_factory=factory, \n",
    "        n=top_N)\n",
    "    models[model.model_name()] = model\n",
    "    cv_res_per_model.append(cross_valid_res_model.to_pandas())\n",
    "    del cross_valid_res_model"
   ]
  },
  {
   "cell_type": "code",
   "execution_count": 47,
   "metadata": {},
   "outputs": [],
   "source": [
    "cross_valid_res = pd.concat(cv_res_per_model)\n",
    "cv_res_per_model.clear()"
   ]
  },
  {
   "cell_type": "code",
   "execution_count": 48,
   "metadata": {},
   "outputs": [
    {
     "data": {
      "image/png": "[encoded data removed]",
      "text/plain": [
       "<Figure size 640x480 with 1 Axes>"
      ]
     },
     "metadata": {},
     "output_type": "display_data"
    }
   ],
   "source": [
    "ax = sns.scatterplot(cross_valid_res[cross_valid_res[\"name\"].isin([\"MAP\", \"MRR\"])], x=\"fold\", y=\"value\", style=\"name\", hue=\"model\")\n",
    "sns.move_legend(ax, \"upper left\", bbox_to_anchor=(1, 1))"
   ]
  },
  {
   "cell_type": "code",
   "execution_count": 49,
   "metadata": {},
   "outputs": [
    {
     "data": {
      "text/html": [
       "<div>\n",
       "<style scoped>\n",
       "    .dataframe tbody tr th:only-of-type {\n",
       "        vertical-align: middle;\n",
       "    }\n",
       "\n",
       "    .dataframe tbody tr th {\n",
       "        vertical-align: top;\n",
       "    }\n",
       "\n",
       "    .dataframe thead tr th {\n",
       "        text-align: left;\n",
       "    }\n",
       "\n",
       "    .dataframe thead tr:last-of-type th {\n",
       "        text-align: right;\n",
       "    }\n",
       "</style>\n",
       "<table border=\"1\" class=\"dataframe\">\n",
       "  <thead>\n",
       "    <tr>\n",
       "      <th>name</th>\n",
       "      <th colspan=\"4\" halign=\"left\">MRR</th>\n",
       "      <th colspan=\"4\" halign=\"left\">MAP</th>\n",
       "      <th colspan=\"4\" halign=\"left\">recall@10</th>\n",
       "    </tr>\n",
       "    <tr>\n",
       "      <th></th>\n",
       "      <th>mean</th>\n",
       "      <th>std</th>\n",
       "      <th>min</th>\n",
       "      <th>max</th>\n",
       "      <th>mean</th>\n",
       "      <th>std</th>\n",
       "      <th>min</th>\n",
       "      <th>max</th>\n",
       "      <th>mean</th>\n",
       "      <th>std</th>\n",
       "      <th>min</th>\n",
       "      <th>max</th>\n",
       "    </tr>\n",
       "    <tr>\n",
       "      <th>model</th>\n",
       "      <th></th>\n",
       "      <th></th>\n",
       "      <th></th>\n",
       "      <th></th>\n",
       "      <th></th>\n",
       "      <th></th>\n",
       "      <th></th>\n",
       "      <th></th>\n",
       "      <th></th>\n",
       "      <th></th>\n",
       "      <th></th>\n",
       "      <th></th>\n",
       "    </tr>\n",
       "  </thead>\n",
       "  <tbody>\n",
       "    <tr>\n",
       "      <th>AlternatingLeastSquares</th>\n",
       "      <td>0.004777</td>\n",
       "      <td>0.000695</td>\n",
       "      <td>0.003831</td>\n",
       "      <td>0.006044</td>\n",
       "      <td>0.004372</td>\n",
       "      <td>0.000654</td>\n",
       "      <td>0.003605</td>\n",
       "      <td>0.005469</td>\n",
       "      <td>0.001427</td>\n",
       "      <td>0.000215</td>\n",
       "      <td>0.001265</td>\n",
       "      <td>0.001890</td>\n",
       "    </tr>\n",
       "    <tr>\n",
       "      <th>BM25Recommender</th>\n",
       "      <td>0.015759</td>\n",
       "      <td>0.003429</td>\n",
       "      <td>0.010862</td>\n",
       "      <td>0.022296</td>\n",
       "      <td>0.014975</td>\n",
       "      <td>0.003163</td>\n",
       "      <td>0.009854</td>\n",
       "      <td>0.020521</td>\n",
       "      <td>0.003588</td>\n",
       "      <td>0.000606</td>\n",
       "      <td>0.003078</td>\n",
       "      <td>0.004774</td>\n",
       "    </tr>\n",
       "    <tr>\n",
       "      <th>CosineRecommender</th>\n",
       "      <td>0.015503</td>\n",
       "      <td>0.003368</td>\n",
       "      <td>0.011206</td>\n",
       "      <td>0.021611</td>\n",
       "      <td>0.014784</td>\n",
       "      <td>0.003035</td>\n",
       "      <td>0.010556</td>\n",
       "      <td>0.020050</td>\n",
       "      <td>0.003562</td>\n",
       "      <td>0.000772</td>\n",
       "      <td>0.002873</td>\n",
       "      <td>0.004896</td>\n",
       "    </tr>\n",
       "    <tr>\n",
       "      <th>TFIDFRecommender</th>\n",
       "      <td>0.015844</td>\n",
       "      <td>0.003811</td>\n",
       "      <td>0.011226</td>\n",
       "      <td>0.023071</td>\n",
       "      <td>0.015038</td>\n",
       "      <td>0.003484</td>\n",
       "      <td>0.010563</td>\n",
       "      <td>0.021505</td>\n",
       "      <td>0.003622</td>\n",
       "      <td>0.000650</td>\n",
       "      <td>0.002998</td>\n",
       "      <td>0.004712</td>\n",
       "    </tr>\n",
       "  </tbody>\n",
       "</table>\n",
       "</div>"
      ],
      "text/plain": [
       "name                          MRR                                     MAP   \n",
       "                             mean       std       min       max      mean   \n",
       "model                                                                       \n",
       "AlternatingLeastSquares  0.004777  0.000695  0.003831  0.006044  0.004372  \\\n",
       "BM25Recommender          0.015759  0.003429  0.010862  0.022296  0.014975   \n",
       "CosineRecommender        0.015503  0.003368  0.011206  0.021611  0.014784   \n",
       "TFIDFRecommender         0.015844  0.003811  0.011226  0.023071  0.015038   \n",
       "\n",
       "name                                                  recall@10             \n",
       "                              std       min       max      mean       std   \n",
       "model                                                                       \n",
       "AlternatingLeastSquares  0.000654  0.003605  0.005469  0.001427  0.000215  \\\n",
       "BM25Recommender          0.003163  0.009854  0.020521  0.003588  0.000606   \n",
       "CosineRecommender        0.003035  0.010556  0.020050  0.003562  0.000772   \n",
       "TFIDFRecommender         0.003484  0.010563  0.021505  0.003622  0.000650   \n",
       "\n",
       "name                                         \n",
       "                              min       max  \n",
       "model                                        \n",
       "AlternatingLeastSquares  0.001265  0.001890  \n",
       "BM25Recommender          0.003078  0.004774  \n",
       "CosineRecommender        0.002873  0.004896  \n",
       "TFIDFRecommender         0.002998  0.004712  "
      ]
     },
     "execution_count": 49,
     "metadata": {},
     "output_type": "execute_result"
    }
   ],
   "source": [
    "cross_valid_res.pivot(index=[\"fold\", \"model\"], columns=[\"name\"], values=[\"value\"]).droplevel(level=0, axis=\"columns\").groupby(\"model\").agg(\n",
    "    {\n",
    "    \"MRR\": ['mean', 'std', 'min', 'max'],\n",
    "    'MAP': ['mean', 'std', 'min', 'max'],\n",
    "    f'recall@{top_N}': ['mean', 'std', 'min', 'max'],\n",
    "    }\n",
    ")"
   ]
  },
  {
   "cell_type": "code",
   "execution_count": 50,
   "metadata": {},
   "outputs": [
    {
     "data": {
      "text/plain": [
       "dict_keys(['CosineRecommender', 'BM25Recommender', 'TFIDFRecommender', 'AlternatingLeastSquares'])"
      ]
     },
     "execution_count": 50,
     "metadata": {},
     "output_type": "execute_result"
    }
   ],
   "source": [
    "models.keys()"
   ]
  },
  {
   "cell_type": "code",
   "execution_count": 51,
   "metadata": {},
   "outputs": [],
   "source": [
    "similiar_items = models[\"TFIDFRecommender\"].similiar_items([60193], top_N)"
   ]
  },
  {
   "cell_type": "code",
   "execution_count": 52,
   "metadata": {},
   "outputs": [],
   "source": [
    "similiar_items = similiar_items.with_columns(\n",
    "    pl.col(\"item_id\").apply(item_titles.get).alias(\"orig_titles\"),\n",
    "    pl.col(\"similiar_item_id\").apply(item_titles.get).alias(\"sim_titles\")\n",
    "    )"
   ]
  },
  {
   "cell_type": "code",
   "execution_count": 53,
   "metadata": {},
   "outputs": [
    {
     "data": {
      "text/html": [
       "<div><style>\n",
       ".dataframe > thead > tr > th,\n",
       ".dataframe > tbody > tr > td {\n",
       "  text-align: right;\n",
       "}\n",
       "</style>\n",
       "<small>shape: (10, 5)</small><table border=\"1\" class=\"dataframe\"><thead><tr><th>item_id</th><th>similiar_item_id</th><th>score</th><th>orig_titles</th><th>sim_titles</th></tr><tr><td>u32</td><td>u32</td><td>f32</td><td>str</td><td>str</td></tr></thead><tbody><tr><td>60193</td><td>60193</td><td>1.0</td><td>&quot;мастер и марга…</td><td>&quot;мастер и марга…</td></tr><tr><td>60193</td><td>252228</td><td>0.085901</td><td>&quot;мастер и марга…</td><td>&quot;мастер и марга…</td></tr><tr><td>60193</td><td>283431</td><td>0.057461</td><td>&quot;мастер и марга…</td><td>&quot;мастер и марга…</td></tr><tr><td>60193</td><td>106146</td><td>0.038287</td><td>&quot;мастер и марга…</td><td>&quot;без имени&quot;</td></tr><tr><td>60193</td><td>129959</td><td>0.034565</td><td>&quot;мастер и марга…</td><td>&quot;белая гвардия.…</td></tr><tr><td>60193</td><td>229856</td><td>0.033712</td><td>&quot;мастер и марга…</td><td>&quot;булгаков и «ма…</td></tr><tr><td>60193</td><td>284757</td><td>0.033223</td><td>&quot;мастер и марга…</td><td>&quot;стори 11-2015&quot;</td></tr><tr><td>60193</td><td>214968</td><td>0.03252</td><td>&quot;мастер и марга…</td><td>&quot;драгоценная пл…</td></tr><tr><td>60193</td><td>303726</td><td>0.031764</td><td>&quot;мастер и марга…</td><td>&quot;ничего не возь…</td></tr><tr><td>60193</td><td>9282</td><td>0.03139</td><td>&quot;мастер и марга…</td><td>&quot;идущий на севе…</td></tr></tbody></table></div>"
      ],
      "text/plain": [
       "shape: (10, 5)\n",
       "┌─────────┬──────────────────┬──────────┬────────────────────┬───────────────────────────────────┐\n",
       "│ item_id ┆ similiar_item_id ┆ score    ┆ orig_titles        ┆ sim_titles                        │\n",
       "│ ---     ┆ ---              ┆ ---      ┆ ---                ┆ ---                               │\n",
       "│ u32     ┆ u32              ┆ f32      ┆ str                ┆ str                               │\n",
       "╞═════════╪══════════════════╪══════════╪════════════════════╪═══════════════════════════════════╡\n",
       "│ 60193   ┆ 60193            ┆ 1.0      ┆ мастер и маргарита ┆ мастер и маргарита                │\n",
       "│ 60193   ┆ 252228           ┆ 0.085901 ┆ мастер и маргарита ┆ мастер и маргарита (иллюстрирова… │\n",
       "│ 60193   ┆ 283431           ┆ 0.057461 ┆ мастер и маргарита ┆ мастер и маргарита краткий перес… │\n",
       "│ 60193   ┆ 106146           ┆ 0.038287 ┆ мастер и маргарита ┆ без имени                         │\n",
       "│ …       ┆ …                ┆ …        ┆ …                  ┆ …                                 │\n",
       "│ 60193   ┆ 284757           ┆ 0.033223 ┆ мастер и маргарита ┆ стори 11-2015                     │\n",
       "│ 60193   ┆ 214968           ┆ 0.03252  ┆ мастер и маргарита ┆ драгоценная плоть                 │\n",
       "│ 60193   ┆ 303726           ┆ 0.031764 ┆ мастер и маргарита ┆ ничего не возьму с собой          │\n",
       "│ 60193   ┆ 9282             ┆ 0.03139  ┆ мастер и маргарита ┆ идущий на север. долина башен     │\n",
       "└─────────┴──────────────────┴──────────┴────────────────────┴───────────────────────────────────┘"
      ]
     },
     "execution_count": 53,
     "metadata": {},
     "output_type": "execute_result"
    }
   ],
   "source": [
    "similiar_items"
   ]
  },
  {
   "attachments": {},
   "cell_type": "markdown",
   "metadata": {},
   "source": [
    "# LightFM"
   ]
  },
  {
   "cell_type": "code",
   "execution_count": 54,
   "metadata": {},
   "outputs": [],
   "source": [
    "dataset = Dataset()"
   ]
  },
  {
   "cell_type": "code",
   "execution_count": 55,
   "metadata": {},
   "outputs": [],
   "source": [
    "dataset.fit(df.select(pl.col(\"user_id\")).unique().to_series(), df.select(pl.col(\"item_id\")).unique().to_series())"
   ]
  },
  {
   "cell_type": "code",
   "execution_count": 56,
   "metadata": {},
   "outputs": [],
   "source": [
    "lfm_df_users = df_users.clone()\n",
    "lfm_df_items = df_items.clone()"
   ]
  },
  {
   "cell_type": "code",
   "execution_count": 57,
   "metadata": {},
   "outputs": [],
   "source": [
    "lfm_df_users = lfm_df_users.with_columns(\n",
    "    pl.col(\"age\").cast(str).fill_null(\"age_unknown\").cast(pl.Categorical).alias(\"age\"),\n",
    "    pl.col(\"sex\").cast(str).fill_null(\"sex_unknown\").cast(pl.Categorical).alias(\"sex\")\n",
    ")"
   ]
  },
  {
   "cell_type": "code",
   "execution_count": 58,
   "metadata": {},
   "outputs": [
    {
     "data": {
      "text/html": [
       "<div><style>\n",
       ".dataframe > thead > tr > th,\n",
       ".dataframe > tbody > tr > td {\n",
       "  text-align: right;\n",
       "}\n",
       "</style>\n",
       "<small>shape: (3, 1)</small><table border=\"1\" class=\"dataframe\"><thead><tr><th>sex</th></tr><tr><td>cat</td></tr></thead><tbody><tr><td>&quot;sex_unknown&quot;</td></tr><tr><td>&quot;0.0&quot;</td></tr><tr><td>&quot;1.0&quot;</td></tr></tbody></table></div>"
      ],
      "text/plain": [
       "shape: (3, 1)\n",
       "┌─────────────┐\n",
       "│ sex         │\n",
       "│ ---         │\n",
       "│ cat         │\n",
       "╞═════════════╡\n",
       "│ sex_unknown │\n",
       "│ 0.0         │\n",
       "│ 1.0         │\n",
       "└─────────────┘"
      ]
     },
     "execution_count": 58,
     "metadata": {},
     "output_type": "execute_result"
    }
   ],
   "source": [
    "lfm_df_users.select(pl.col(\"sex\").unique())"
   ]
  },
  {
   "cell_type": "code",
   "execution_count": 59,
   "metadata": {},
   "outputs": [
    {
     "data": {
      "text/html": [
       "<div><style>\n",
       ".dataframe > thead > tr > th,\n",
       ".dataframe > tbody > tr > td {\n",
       "  text-align: right;\n",
       "}\n",
       "</style>\n",
       "<small>shape: (7, 1)</small><table border=\"1\" class=\"dataframe\"><thead><tr><th>age</th></tr><tr><td>cat</td></tr></thead><tbody><tr><td>&quot;45_54&quot;</td></tr><tr><td>&quot;18_24&quot;</td></tr><tr><td>&quot;65_inf&quot;</td></tr><tr><td>&quot;35_44&quot;</td></tr><tr><td>&quot;55_64&quot;</td></tr><tr><td>&quot;25_34&quot;</td></tr><tr><td>&quot;age_unknown&quot;</td></tr></tbody></table></div>"
      ],
      "text/plain": [
       "shape: (7, 1)\n",
       "┌─────────────┐\n",
       "│ age         │\n",
       "│ ---         │\n",
       "│ cat         │\n",
       "╞═════════════╡\n",
       "│ 45_54       │\n",
       "│ 18_24       │\n",
       "│ 65_inf      │\n",
       "│ 35_44       │\n",
       "│ 55_64       │\n",
       "│ 25_34       │\n",
       "│ age_unknown │\n",
       "└─────────────┘"
      ]
     },
     "execution_count": 59,
     "metadata": {},
     "output_type": "execute_result"
    }
   ],
   "source": [
    "lfm_df_users.select(pl.col(\"age\").unique())"
   ]
  },
  {
   "cell_type": "code",
   "execution_count": 60,
   "metadata": {},
   "outputs": [],
   "source": [
    "age_features = lfm_df_users.select(pl.col(\"age\").unique()).to_series().to_list()\n",
    "sex_features = lfm_df_users.select(pl.col(\"sex\").unique()).to_series().to_list()"
   ]
  },
  {
   "cell_type": "code",
   "execution_count": 61,
   "metadata": {},
   "outputs": [
    {
     "data": {
      "text/plain": [
       "['45_54',\n",
       " '18_24',\n",
       " '65_inf',\n",
       " '35_44',\n",
       " '55_64',\n",
       " '25_34',\n",
       " 'age_unknown',\n",
       " 'sex_unknown',\n",
       " '0.0',\n",
       " '1.0']"
      ]
     },
     "execution_count": 61,
     "metadata": {},
     "output_type": "execute_result"
    }
   ],
   "source": [
    "users_features = age_features + sex_features\n",
    "users_features"
   ]
  },
  {
   "cell_type": "code",
   "execution_count": 62,
   "metadata": {},
   "outputs": [],
   "source": [
    "dataset.fit_partial(user_features=users_features)"
   ]
  },
  {
   "cell_type": "code",
   "execution_count": 63,
   "metadata": {},
   "outputs": [],
   "source": [
    "lfm_df_items = lfm_df_items.with_columns(\n",
    "    pl.col(\"genres\").cast(str).fill_null(\"genre_unknown\").cast(pl.Categorical).alias(\"genres\")\n",
    ")"
   ]
  },
  {
   "cell_type": "code",
   "execution_count": 64,
   "metadata": {},
   "outputs": [
    {
     "data": {
      "text/plain": [
       "641"
      ]
     },
     "execution_count": 64,
     "metadata": {},
     "output_type": "execute_result"
    }
   ],
   "source": [
    "genres = lfm_df_items.select(pl.col(\"genres\").cast(str).str.split(',').explode().unique()).to_series().to_list()\n",
    "len(genres)"
   ]
  },
  {
   "cell_type": "code",
   "execution_count": 65,
   "metadata": {},
   "outputs": [],
   "source": [
    "dataset.fit_partial(item_features=genres)"
   ]
  },
  {
   "cell_type": "code",
   "execution_count": 66,
   "metadata": {},
   "outputs": [
    {
     "data": {
      "text/plain": [
       "(151600, 59599)"
      ]
     },
     "execution_count": 66,
     "metadata": {},
     "output_type": "execute_result"
    }
   ],
   "source": [
    "num_users, num_items = dataset.interactions_shape()\n",
    "num_users, num_items"
   ]
  },
  {
   "cell_type": "code",
   "execution_count": 67,
   "metadata": {},
   "outputs": [
    {
     "name": "stdout",
     "output_type": "stream",
     "text": [
      "users_mapping len -  151600\n",
      "user_features_mapping len -  151610\n",
      "items_mapping len -  59599\n",
      "Users item_features_mapping len -  60240\n"
     ]
    }
   ],
   "source": [
    "lightfm_mapping = dataset.mapping()\n",
    "lightfm_mapping = {\n",
    "    'users_mapping': lightfm_mapping[0],\n",
    "    'user_features_mapping': lightfm_mapping[1],\n",
    "    'items_mapping': lightfm_mapping[2],\n",
    "    'item_features_mapping': lightfm_mapping[3],\n",
    "}\n",
    "print('users_mapping len - ', len(lightfm_mapping['users_mapping']))\n",
    "print('user_features_mapping len - ', len(lightfm_mapping['user_features_mapping']))\n",
    "print('items_mapping len - ', len(lightfm_mapping['items_mapping']))\n",
    "print('Users item_features_mapping len - ', len(lightfm_mapping['item_features_mapping']))"
   ]
  },
  {
   "cell_type": "code",
   "execution_count": 68,
   "metadata": {},
   "outputs": [],
   "source": [
    "lightfm_mapping['users_inv_mapping'] = {v: k for k, v in lightfm_mapping['users_mapping'].items()}\n",
    "lightfm_mapping['items_inv_mapping'] = {v: k for k, v in lightfm_mapping['items_mapping'].items()}"
   ]
  },
  {
   "cell_type": "code",
   "execution_count": 69,
   "metadata": {},
   "outputs": [
    {
     "name": "stdout",
     "output_type": "stream",
     "text": [
      "Num user features: 10 -> 151610\n",
      "num item features: 641 -> 60240.\n"
     ]
    }
   ],
   "source": [
    "num_user_features = dataset.user_features_shape()\n",
    "num_show_features = dataset.item_features_shape()\n",
    "print('Num user features: {} -> {}\\nnum item features: {} -> {}.'.format(\n",
    "    num_user_features[1] - num_users, num_user_features[1], \n",
    "    num_show_features[1] - num_items, num_show_features[1]))"
   ]
  },
  {
   "cell_type": "code",
   "execution_count": 70,
   "metadata": {},
   "outputs": [],
   "source": [
    "train_idx, test_idx, info = folds_with_stats[0]\n",
    "\n",
    "train = df.join(train_idx, on=[\"user_id\", \"item_id\"], how=\"inner\")\n",
    "test = df.join(test_idx, on=[\"user_id\", \"item_id\"], how=\"inner\")"
   ]
  },
  {
   "cell_type": "code",
   "execution_count": 71,
   "metadata": {},
   "outputs": [
    {
     "data": {
      "text/plain": [
       "<151600x59599 sparse matrix of type '<class 'numpy.int32'>'\n",
       "\twith 1515946 stored elements in COOrdinate format>"
      ]
     },
     "execution_count": 71,
     "metadata": {},
     "output_type": "execute_result"
    }
   ],
   "source": [
    "train_mat, train_mat_weights = dataset.build_interactions(train.select(\n",
    "    pl.col(\"user_id\"),\n",
    "    pl.col(\"item_id\")\n",
    ").to_numpy()\n",
    ")\n",
    "train_mat"
   ]
  },
  {
   "cell_type": "code",
   "execution_count": 72,
   "metadata": {},
   "outputs": [
    {
     "data": {
      "text/plain": [
       "<151600x59599 sparse matrix of type '<class 'numpy.float32'>'\n",
       "\twith 1515946 stored elements in COOrdinate format>"
      ]
     },
     "execution_count": 72,
     "metadata": {},
     "output_type": "execute_result"
    }
   ],
   "source": [
    "train_mat_weights"
   ]
  },
  {
   "cell_type": "code",
   "execution_count": 73,
   "metadata": {},
   "outputs": [],
   "source": [
    "lfm_df_users = lfm_df_users.with_columns(\n",
    "    pl.concat_list(pl.col(\"age\").cast(str), pl.col(\"sex\").cast(str)).alias(\"features\")\n",
    ")"
   ]
  },
  {
   "cell_type": "code",
   "execution_count": 74,
   "metadata": {},
   "outputs": [
    {
     "data": {
      "text/html": [
       "<div><style>\n",
       ".dataframe > thead > tr > th,\n",
       ".dataframe > tbody > tr > td {\n",
       "  text-align: right;\n",
       "}\n",
       "</style>\n",
       "<small>shape: (5, 4)</small><table border=\"1\" class=\"dataframe\"><thead><tr><th>user_id</th><th>age</th><th>sex</th><th>features</th></tr><tr><td>u32</td><td>cat</td><td>cat</td><td>list[str]</td></tr></thead><tbody><tr><td>1</td><td>&quot;45_54&quot;</td><td>&quot;sex_unknown&quot;</td><td>[&quot;45_54&quot;, &quot;sex_unknown&quot;]</td></tr><tr><td>2</td><td>&quot;18_24&quot;</td><td>&quot;0.0&quot;</td><td>[&quot;18_24&quot;, &quot;0.0&quot;]</td></tr><tr><td>3</td><td>&quot;65_inf&quot;</td><td>&quot;0.0&quot;</td><td>[&quot;65_inf&quot;, &quot;0.0&quot;]</td></tr><tr><td>4</td><td>&quot;18_24&quot;</td><td>&quot;0.0&quot;</td><td>[&quot;18_24&quot;, &quot;0.0&quot;]</td></tr><tr><td>5</td><td>&quot;35_44&quot;</td><td>&quot;0.0&quot;</td><td>[&quot;35_44&quot;, &quot;0.0&quot;]</td></tr></tbody></table></div>"
      ],
      "text/plain": [
       "shape: (5, 4)\n",
       "┌─────────┬────────┬─────────────┬──────────────────────────┐\n",
       "│ user_id ┆ age    ┆ sex         ┆ features                 │\n",
       "│ ---     ┆ ---    ┆ ---         ┆ ---                      │\n",
       "│ u32     ┆ cat    ┆ cat         ┆ list[str]                │\n",
       "╞═════════╪════════╪═════════════╪══════════════════════════╡\n",
       "│ 1       ┆ 45_54  ┆ sex_unknown ┆ [\"45_54\", \"sex_unknown\"] │\n",
       "│ 2       ┆ 18_24  ┆ 0.0         ┆ [\"18_24\", \"0.0\"]         │\n",
       "│ 3       ┆ 65_inf ┆ 0.0         ┆ [\"65_inf\", \"0.0\"]        │\n",
       "│ 4       ┆ 18_24  ┆ 0.0         ┆ [\"18_24\", \"0.0\"]         │\n",
       "│ 5       ┆ 35_44  ┆ 0.0         ┆ [\"35_44\", \"0.0\"]         │\n",
       "└─────────┴────────┴─────────────┴──────────────────────────┘"
      ]
     },
     "execution_count": 74,
     "metadata": {},
     "output_type": "execute_result"
    }
   ],
   "source": [
    "lfm_df_users.head()"
   ]
  },
  {
   "cell_type": "code",
   "execution_count": 75,
   "metadata": {},
   "outputs": [],
   "source": [
    "def to_light_fm_feature(row_info: dict, entity_key: str):\n",
    "    return (row_info[entity_key], row_info[\"features\"])"
   ]
  },
  {
   "cell_type": "code",
   "execution_count": 76,
   "metadata": {},
   "outputs": [
    {
     "data": {
      "text/plain": [
       "<151600x151610 sparse matrix of type '<class 'numpy.float32'>'\n",
       "\twith 422954 stored elements in Compressed Sparse Row format>"
      ]
     },
     "execution_count": 76,
     "metadata": {},
     "output_type": "execute_result"
    }
   ],
   "source": [
    "known_users_mask = lfm_df_users.select(pl.col(\"user_id\").is_in(df.select(pl.col(\"user_id\").unique()).to_series())).to_series()\n",
    "\n",
    "train_user_features = dataset.build_user_features(\n",
    "    map(lambda x: to_light_fm_feature(x, \"user_id\"), lfm_df_users.filter(known_users_mask).select(pl.col(\"user_id\"), pl.col('features')).to_dicts())\n",
    ")\n",
    "\n",
    "train_user_features"
   ]
  },
  {
   "cell_type": "code",
   "execution_count": 77,
   "metadata": {},
   "outputs": [],
   "source": [
    "lfm_df_items = lfm_df_items.with_columns(\n",
    "    pl.col(\"genres\").cast(str).str.split(\",\").alias(\"features\")\n",
    ")"
   ]
  },
  {
   "cell_type": "code",
   "execution_count": 78,
   "metadata": {},
   "outputs": [
    {
     "data": {
      "text/html": [
       "<div><style>\n",
       ".dataframe > thead > tr > th,\n",
       ".dataframe > tbody > tr > td {\n",
       "  text-align: right;\n",
       "}\n",
       "</style>\n",
       "<small>shape: (5, 6)</small><table border=\"1\" class=\"dataframe\"><thead><tr><th>item_id</th><th>title</th><th>genres</th><th>authors</th><th>year</th><th>features</th></tr><tr><td>u32</td><td>str</td><td>cat</td><td>cat</td><td>cat</td><td>list[str]</td></tr></thead><tbody><tr><td>128115</td><td>&quot;ворон-челобитч…</td><td>&quot;Зарубежные дет…</td><td>&quot;Михаил Салтыко…</td><td>&quot;1886&quot;</td><td>[&quot;Зарубежные детские книги&quot;, &quot;Сказки&quot;, … &quot;Русская классика&quot;]</td></tr><tr><td>210979</td><td>&quot;скрипка ротшил…</td><td>&quot;Классическая п…</td><td>&quot;Антон Чехов&quot;</td><td>&quot;1894&quot;</td><td>[&quot;Классическая проза&quot;, &quot;Литература 19 века&quot;, &quot;Русская классика&quot;]</td></tr><tr><td>95632</td><td>&quot;испорченные де…</td><td>&quot;Зарубежная кла…</td><td>&quot;Михаил Салтыко…</td><td>&quot;1869&quot;</td><td>[&quot;Зарубежная классика&quot;, &quot;Классическая проза&quot;, … &quot;Русская классика&quot;]</td></tr><tr><td>247906</td><td>&quot;странный челов…</td><td>&quot;Пьесы и драмат…</td><td>&quot;Михаил Лермонт…</td><td>&quot;1831&quot;</td><td>[&quot;Пьесы и драматургия&quot;, &quot;Литература 19 века&quot;]</td></tr><tr><td>294280</td><td>&quot;господа ташкен…</td><td>&quot;Зарубежная кла…</td><td>&quot;Михаил Салтыко…</td><td>&quot;1873&quot;</td><td>[&quot;Зарубежная классика&quot;, &quot;Классическая проза&quot;, … &quot;Русская классика&quot;]</td></tr></tbody></table></div>"
      ],
      "text/plain": [
       "shape: (5, 6)\n",
       "┌─────────┬───────────────────┬────────────────────┬────────────────────┬──────┬───────────────────┐\n",
       "│ item_id ┆ title             ┆ genres             ┆ authors            ┆ year ┆ features          │\n",
       "│ ---     ┆ ---               ┆ ---                ┆ ---                ┆ ---  ┆ ---               │\n",
       "│ u32     ┆ str               ┆ cat                ┆ cat                ┆ cat  ┆ list[str]         │\n",
       "╞═════════╪═══════════════════╪════════════════════╪════════════════════╪══════╪═══════════════════╡\n",
       "│ 128115  ┆ ворон-челобитчик  ┆ Зарубежные детские ┆ Михаил             ┆ 1886 ┆ [\"Зарубежные      │\n",
       "│         ┆                   ┆ книги,Сказки,…     ┆ Салтыков-Щедрин    ┆      ┆ детские книги\",   │\n",
       "│         ┆                   ┆                    ┆                    ┆      ┆ \"Ск…              │\n",
       "│ 210979  ┆ скрипка ротшильда ┆ Классическая       ┆ Антон Чехов        ┆ 1894 ┆ [\"Классическая    │\n",
       "│         ┆                   ┆ проза,Литература   ┆                    ┆      ┆ проза\",           │\n",
       "│         ┆                   ┆ 19…                ┆                    ┆      ┆ \"Литерату…        │\n",
       "│ 95632   ┆ испорченные дети  ┆ Зарубежная классик ┆ Михаил             ┆ 1869 ┆ [\"Зарубежная      │\n",
       "│         ┆                   ┆ а,Классическая…    ┆ Салтыков-Щедрин    ┆      ┆ классика\",        │\n",
       "│         ┆                   ┆                    ┆                    ┆      ┆ \"Классич…         │\n",
       "│ 247906  ┆ странный человек  ┆ Пьесы и драматурги ┆ Михаил Лермонтов   ┆ 1831 ┆ [\"Пьесы и         │\n",
       "│         ┆                   ┆ я,Литература 1…    ┆                    ┆      ┆ драматургия\",     │\n",
       "│         ┆                   ┆                    ┆                    ┆      ┆ \"Литерат…         │\n",
       "│ 294280  ┆ господа ташкентцы ┆ Зарубежная классик ┆ Михаил             ┆ 1873 ┆ [\"Зарубежная      │\n",
       "│         ┆                   ┆ а,Классическая…    ┆ Салтыков-Щедрин    ┆      ┆ классика\",        │\n",
       "│         ┆                   ┆                    ┆                    ┆      ┆ \"Классич…         │\n",
       "└─────────┴───────────────────┴────────────────────┴────────────────────┴──────┴───────────────────┘"
      ]
     },
     "execution_count": 78,
     "metadata": {},
     "output_type": "execute_result"
    }
   ],
   "source": [
    "lfm_df_items.head()"
   ]
  },
  {
   "cell_type": "code",
   "execution_count": 79,
   "metadata": {},
   "outputs": [
    {
     "data": {
      "text/html": [
       "<div><style>\n",
       ".dataframe > thead > tr > th,\n",
       ".dataframe > tbody > tr > td {\n",
       "  text-align: right;\n",
       "}\n",
       "</style>\n",
       "<small>shape: (15, 1)</small><table border=\"1\" class=\"dataframe\"><thead><tr><th>features</th></tr><tr><td>struct[2]</td></tr></thead><tbody><tr><td>{2,20734}</td></tr><tr><td>{1,20172}</td></tr><tr><td>{3,12699}</td></tr><tr><td>{4,4248}</td></tr><tr><td>{5,1074}</td></tr><tr><td>{6,373}</td></tr><tr><td>{7,146}</td></tr><tr><td>{8,74}</td></tr><tr><td>{9,34}</td></tr><tr><td>{10,22}</td></tr><tr><td>{11,12}</td></tr><tr><td>{13,6}</td></tr><tr><td>{12,2}</td></tr><tr><td>{17,2}</td></tr><tr><td>{16,1}</td></tr></tbody></table></div>"
      ],
      "text/plain": [
       "shape: (15, 1)\n",
       "┌───────────┐\n",
       "│ features  │\n",
       "│ ---       │\n",
       "│ struct[2] │\n",
       "╞═══════════╡\n",
       "│ {2,20734} │\n",
       "│ {1,20172} │\n",
       "│ {3,12699} │\n",
       "│ {4,4248}  │\n",
       "│ …         │\n",
       "│ {13,6}    │\n",
       "│ {12,2}    │\n",
       "│ {17,2}    │\n",
       "│ {16,1}    │\n",
       "└───────────┘"
      ]
     },
     "execution_count": 79,
     "metadata": {},
     "output_type": "execute_result"
    }
   ],
   "source": [
    "lfm_df_items.select(\n",
    "    pl.col(\"features\").apply(len).value_counts(sort=True)\n",
    ")"
   ]
  },
  {
   "cell_type": "code",
   "execution_count": 80,
   "metadata": {},
   "outputs": [
    {
     "data": {
      "text/plain": [
       "<59599x60240 sparse matrix of type '<class 'numpy.float32'>'\n",
       "\twith 186360 stored elements in Compressed Sparse Row format>"
      ]
     },
     "execution_count": 80,
     "metadata": {},
     "output_type": "execute_result"
    }
   ],
   "source": [
    "known_items_mask = lfm_df_items.select(pl.col(\"item_id\").is_in(df.select(\"item_id\").unique().to_series())).to_series()\n",
    "\n",
    "train_items_features = dataset.build_item_features(\n",
    "        map(lambda x: to_light_fm_feature(x, \"item_id\"), lfm_df_items.filter(known_items_mask).select(\n",
    "    pl.col(\"item_id\"),\n",
    "    pl.col(\"features\")\n",
    "        ).to_dicts())\n",
    ")\n",
    "train_items_features"
   ]
  },
  {
   "cell_type": "code",
   "execution_count": 81,
   "metadata": {},
   "outputs": [],
   "source": [
    "lfm_model = LightFM(no_components=64, learning_rate=0.05, loss='warp', max_sampled=5, random_state=23)"
   ]
  },
  {
   "cell_type": "code",
   "execution_count": 82,
   "metadata": {},
   "outputs": [
    {
     "data": {
      "application/vnd.jupyter.widget-view+json": {
       "model_id": "ec91173684964916b33b6cc23d9592db",
       "version_major": 2,
       "version_minor": 0
      },
      "text/plain": [
       "  0%|          | 0/5 [00:00<?, ?it/s]"
      ]
     },
     "metadata": {},
     "output_type": "display_data"
    }
   ],
   "source": [
    "num_epochs = 5\n",
    "\n",
    "for _ in trange(num_epochs):\n",
    "    lfm_model.fit_partial(\n",
    "        train_mat, \n",
    "        user_features=train_user_features,\n",
    "        item_features=train_items_features,\n",
    "        num_threads=4\n",
    "    )"
   ]
  },
  {
   "cell_type": "code",
   "execution_count": 83,
   "metadata": {},
   "outputs": [
    {
     "name": "stdout",
     "output_type": "stream",
     "text": [
      "Рекомендации для пользователя 139942, номер строки - 118624\n"
     ]
    }
   ],
   "source": [
    "user_id = test.filter(pl.col(\"user_id\") == 139942).select(pl.col(\"user_id\"))[0, 0]\n",
    "row_id = lightfm_mapping['users_mapping'][user_id]\n",
    "print(f'Рекомендации для пользователя {user_id}, номер строки - {row_id}')"
   ]
  },
  {
   "cell_type": "code",
   "execution_count": 84,
   "metadata": {},
   "outputs": [
    {
     "data": {
      "text/plain": [
       "59599"
      ]
     },
     "execution_count": 84,
     "metadata": {},
     "output_type": "execute_result"
    }
   ],
   "source": [
    "all_cols = list(lightfm_mapping['items_mapping'].values())\n",
    "len(all_cols)"
   ]
  },
  {
   "cell_type": "code",
   "execution_count": 85,
   "metadata": {},
   "outputs": [
    {
     "data": {
      "text/plain": [
       "(array([-102.696304, -104.030266, -102.655075, ..., -103.08725 ,\n",
       "        -101.69688 , -102.9859  ], dtype=float32),\n",
       " (59599,))"
      ]
     },
     "execution_count": 85,
     "metadata": {},
     "output_type": "execute_result"
    }
   ],
   "source": [
    "pred = lfm_model.predict(row_id, all_cols, user_features=train_user_features, item_features=train_items_features)\n",
    "pred, pred.shape"
   ]
  },
  {
   "cell_type": "code",
   "execution_count": 86,
   "metadata": {},
   "outputs": [
    {
     "data": {
      "text/plain": [
       "array([40476,  8982, 44037, 23361, 57867, 54292,  2905, 30751,  3270,\n",
       "       28360])"
      ]
     },
     "execution_count": 86,
     "metadata": {},
     "output_type": "execute_result"
    }
   ],
   "source": [
    "top_cols = np.argpartition(pred, -np.arange(top_N))[-top_N:][::-1]\n",
    "top_cols"
   ]
  },
  {
   "cell_type": "code",
   "execution_count": 87,
   "metadata": {},
   "outputs": [
    {
     "data": {
      "text/plain": [
       "array([-98.44744 , -98.76437 , -98.76509 , -98.98874 , -98.99312 ,\n",
       "       -99.02999 , -99.0353  , -99.06246 , -99.06981 , -99.072296],\n",
       "      dtype=float32)"
      ]
     },
     "execution_count": 87,
     "metadata": {},
     "output_type": "execute_result"
    }
   ],
   "source": [
    "pred[top_cols]"
   ]
  },
  {
   "cell_type": "code",
   "execution_count": 88,
   "metadata": {},
   "outputs": [
    {
     "data": {
      "text/plain": [
       "-98.44744"
      ]
     },
     "execution_count": 88,
     "metadata": {},
     "output_type": "execute_result"
    }
   ],
   "source": [
    "pred.max()"
   ]
  },
  {
   "cell_type": "code",
   "execution_count": 89,
   "metadata": {},
   "outputs": [
    {
     "data": {
      "text/html": [
       "<div><style>\n",
       ".dataframe > thead > tr > th,\n",
       ".dataframe > tbody > tr > td {\n",
       "  text-align: right;\n",
       "}\n",
       "</style>\n",
       "<small>shape: (10, 3)</small><table border=\"1\" class=\"dataframe\"><thead><tr><th>col_id</th><th>item_id</th><th>title</th></tr><tr><td>u32</td><td>u32</td><td>str</td></tr></thead><tbody><tr><td>40476</td><td>99357</td><td>&quot;сила подсознан…</td></tr><tr><td>8982</td><td>211217</td><td>&quot;ни сы. восточн…</td></tr><tr><td>44037</td><td>281005</td><td>&quot;богатый папа, …</td></tr><tr><td>23361</td><td>155451</td><td>&quot;выйди из зоны …</td></tr><tr><td>57867</td><td>90519</td><td>&quot;думай медленно…</td></tr><tr><td>54292</td><td>24551</td><td>&quot;магическая убо…</td></tr><tr><td>2905</td><td>89152</td><td>&quot;50 правил умно…</td></tr><tr><td>30751</td><td>159580</td><td>&quot;пятьдесят отте…</td></tr><tr><td>3270</td><td>310952</td><td>&quot;вы ничего не з…</td></tr><tr><td>28360</td><td>26963</td><td>&quot;шантарам&quot;</td></tr></tbody></table></div>"
      ],
      "text/plain": [
       "shape: (10, 3)\n",
       "┌────────┬─────────┬───────────────────────────────────┐\n",
       "│ col_id ┆ item_id ┆ title                             │\n",
       "│ ---    ┆ ---     ┆ ---                               │\n",
       "│ u32    ┆ u32     ┆ str                               │\n",
       "╞════════╪═════════╪═══════════════════════════════════╡\n",
       "│ 40476  ┆ 99357   ┆ сила подсознания, или как измени… │\n",
       "│ 8982   ┆ 211217  ┆ ни сы. восточная мудрость, котор… │\n",
       "│ 44037  ┆ 281005  ┆ богатый папа, бедный папа. робер… │\n",
       "│ 23361  ┆ 155451  ┆ выйди из зоны комфорта. измени с… │\n",
       "│ …      ┆ …       ┆ …                                 │\n",
       "│ 2905   ┆ 89152   ┆ 50 правил умной дуры              │\n",
       "│ 30751  ┆ 159580  ┆ пятьдесят оттенков серого         │\n",
       "│ 3270   ┆ 310952  ┆ вы ничего не знаете о мужчинах    │\n",
       "│ 28360  ┆ 26963   ┆ шантарам                          │\n",
       "└────────┴─────────┴───────────────────────────────────┘"
      ]
     },
     "execution_count": 89,
     "metadata": {},
     "output_type": "execute_result"
    }
   ],
   "source": [
    "recs = pl.DataFrame(\n",
    "    {\"col_id\": top_cols,\n",
    "     \"item_id\": list(map(lightfm_mapping['items_inv_mapping'].get, top_cols))\n",
    "    },\n",
    "    schema={\"col_id\": test.schema[\"item_id\"], \"item_id\": test.schema[\"item_id\"]}\n",
    ")\n",
    "recs = recs.with_columns(pl.col(\"item_id\").apply(item_titles.get).alias(\"title\"))\n",
    "recs"
   ]
  },
  {
   "cell_type": "code",
   "execution_count": 90,
   "metadata": {},
   "outputs": [],
   "source": [
    "def create_lightfm():\n",
    "    return LightFMRecommender(\n",
    "        LightFM(\n",
    "            no_components=64, \n",
    "            learning_rate=0.05, \n",
    "            loss='warp', \n",
    "            max_sampled=5, \n",
    "            random_state=23),\n",
    "             num_epoch=15,\n",
    "             num_threads=5)"
   ]
  },
  {
   "cell_type": "code",
   "execution_count": 91,
   "metadata": {},
   "outputs": [],
   "source": [
    "cv_res_per_model.clear()"
   ]
  },
  {
   "cell_type": "code",
   "execution_count": 92,
   "metadata": {},
   "outputs": [
    {
     "data": {
      "application/vnd.jupyter.widget-view+json": {
       "model_id": "6858c4dd4c2e49b6b350e8919421d77d",
       "version_major": 2,
       "version_minor": 0
      },
      "text/plain": [
       "  0%|          | 0/7 [00:00<?, ?it/s]"
      ]
     },
     "metadata": {},
     "output_type": "display_data"
    }
   ],
   "source": [
    "for factory in (create_lightfm, ):\n",
    "    cross_valid_res_model, model = model_cross_validate(\n",
    "        df, \n",
    "        user_features=df_users, \n",
    "        item_features=df_items, \n",
    "        folds=folds_with_stats, \n",
    "        model_factory=factory, \n",
    "        n=top_N)\n",
    "    models[model.model_name()] = model\n",
    "    cv_res_per_model.append(cross_valid_res_model.to_pandas())\n",
    "    del cross_valid_res_model"
   ]
  },
  {
   "cell_type": "code",
   "execution_count": 93,
   "metadata": {},
   "outputs": [],
   "source": [
    "cross_valid_res = pd.concat([cross_valid_res] + cv_res_per_model)\n",
    "cv_res_per_model.clear()"
   ]
  },
  {
   "cell_type": "code",
   "execution_count": 94,
   "metadata": {},
   "outputs": [
    {
     "data": {
      "image/png": "[encoded data removed]",
      "text/plain": [
       "<Figure size 640x480 with 1 Axes>"
      ]
     },
     "metadata": {},
     "output_type": "display_data"
    }
   ],
   "source": [
    "ax = sns.scatterplot(cross_valid_res[cross_valid_res[\"name\"].isin([\"MAP\", \"MRR\"])], x=\"fold\", y=\"value\", style=\"name\", hue=\"model\")\n",
    "sns.move_legend(ax, \"upper left\", bbox_to_anchor=(1, 1))"
   ]
  },
  {
   "cell_type": "code",
   "execution_count": null,
   "metadata": {},
   "outputs": [],
   "source": []
  }
 ],
 "metadata": {
  "kernelspec": {
   "display_name": "recsys-l1-metrics",
   "language": "python",
   "name": "python3"
  },
  "language_info": {
   "codemirror_mode": {
    "name": "ipython",
    "version": 3
   },
   "file_extension": ".py",
   "mimetype": "text/x-python",
   "name": "python",
   "nbconvert_exporter": "python",
   "pygments_lexer": "ipython3",
   "version": "3.10.11"
  },
  "orig_nbformat": 4
 },
 "nbformat": 4,
 "nbformat_minor": 2
}
