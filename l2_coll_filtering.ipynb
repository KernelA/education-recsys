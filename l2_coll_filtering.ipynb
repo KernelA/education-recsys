{
 "cells": [
  {
   "attachments": {},
   "cell_type": "markdown",
   "metadata": {},
   "source": [
    "[Оригинальный notebook](https://www.kaggle.com/code/sharthz23/implicit-lightfm/notebook)"
   ]
  },
  {
   "cell_type": "code",
   "execution_count": 1,
   "metadata": {},
   "outputs": [],
   "source": [
    "from collections import defaultdict\n",
    "import os\n",
    "\n",
    "import seaborn as sns\n",
    "import pandas as pd\n",
    "import numpy as np\n",
    "from tqdm.auto import tqdm, trange\n",
    "from implicit.nearest_neighbours import CosineRecommender, BM25Recommender, TFIDFRecommender\n",
    "from implicit.als import AlternatingLeastSquares\n",
    "from implicit import gpu\n",
    "from lightfm.data import Dataset\n",
    "from lightfm import LightFM"
   ]
  },
  {
   "attachments": {},
   "cell_type": "markdown",
   "metadata": {},
   "source": [
    "Implicit ALS с GPU:"
   ]
  },
  {
   "cell_type": "code",
   "execution_count": 2,
   "metadata": {},
   "outputs": [
    {
     "data": {
      "text/plain": [
       "True"
      ]
     },
     "execution_count": 2,
     "metadata": {},
     "output_type": "execute_result"
    }
   ],
   "source": [
    "gpu.HAS_CUDA"
   ]
  },
  {
   "cell_type": "code",
   "execution_count": 3,
   "metadata": {},
   "outputs": [],
   "source": [
    "sns.set_style(\"darkgrid\")"
   ]
  },
  {
   "cell_type": "code",
   "execution_count": 4,
   "metadata": {},
   "outputs": [],
   "source": [
    "%load_ext autoreload\n",
    "%autoreload 2\n",
    "\n",
    "from recs_utils.metrics import compute_metrics, model_cross_validate\n",
    "from recs_utils.load_data import load_users, load_items, load_interactions, sample_true_rec_data\n",
    "from recs_utils.simple_rec import PopularRecommender, PopularRecommenderPerAge\n",
    "from recs_utils.split import train_test_split, TimeRangeSplit\n",
    "from recs_utils.matrix_ops import interactions_to_csr_matrix\n",
    "from recs_utils.implicit_model import ImplicitRecommender, LightFMRecommender"
   ]
  },
  {
   "attachments": {},
   "cell_type": "markdown",
   "metadata": {},
   "source": [
    "# Подготовка данных"
   ]
  },
  {
   "cell_type": "code",
   "execution_count": 5,
   "metadata": {},
   "outputs": [],
   "source": [
    "data_dir = \"data\""
   ]
  },
  {
   "cell_type": "code",
   "execution_count": 6,
   "metadata": {},
   "outputs": [],
   "source": [
    "df = load_interactions(os.path.join(data_dir, \"interactions.csv\"))\n",
    "df_users = load_users(os.path.join(data_dir, \"users.csv\"))\n",
    "df_items = load_items(os.path.join(data_dir, \"items.csv\"))"
   ]
  },
  {
   "cell_type": "code",
   "execution_count": 7,
   "metadata": {},
   "outputs": [
    {
     "data": {
      "text/html": [
       "<div>\n",
       "<style scoped>\n",
       "    .dataframe tbody tr th:only-of-type {\n",
       "        vertical-align: middle;\n",
       "    }\n",
       "\n",
       "    .dataframe tbody tr th {\n",
       "        vertical-align: top;\n",
       "    }\n",
       "\n",
       "    .dataframe thead th {\n",
       "        text-align: right;\n",
       "    }\n",
       "</style>\n",
       "<table border=\"1\" class=\"dataframe\">\n",
       "  <thead>\n",
       "    <tr style=\"text-align: right;\">\n",
       "      <th></th>\n",
       "      <th>title</th>\n",
       "      <th>genres</th>\n",
       "      <th>authors</th>\n",
       "      <th>year</th>\n",
       "    </tr>\n",
       "    <tr>\n",
       "      <th>item_id</th>\n",
       "      <th></th>\n",
       "      <th></th>\n",
       "      <th></th>\n",
       "      <th></th>\n",
       "    </tr>\n",
       "  </thead>\n",
       "  <tbody>\n",
       "    <tr>\n",
       "      <th>128115</th>\n",
       "      <td>Ворон-челобитчик</td>\n",
       "      <td>Зарубежные детские книги,Сказки,Зарубежная кла...</td>\n",
       "      <td>Михаил Салтыков-Щедрин</td>\n",
       "      <td>1886</td>\n",
       "    </tr>\n",
       "    <tr>\n",
       "      <th>210979</th>\n",
       "      <td>Скрипка Ротшильда</td>\n",
       "      <td>Классическая проза,Литература 19 века,Русская ...</td>\n",
       "      <td>Антон Чехов</td>\n",
       "      <td>1894</td>\n",
       "    </tr>\n",
       "    <tr>\n",
       "      <th>95632</th>\n",
       "      <td>Испорченные дети</td>\n",
       "      <td>Зарубежная классика,Классическая проза,Литерат...</td>\n",
       "      <td>Михаил Салтыков-Щедрин</td>\n",
       "      <td>1869</td>\n",
       "    </tr>\n",
       "    <tr>\n",
       "      <th>247906</th>\n",
       "      <td>Странный человек</td>\n",
       "      <td>Пьесы и драматургия,Литература 19 века</td>\n",
       "      <td>Михаил Лермонтов</td>\n",
       "      <td>1831</td>\n",
       "    </tr>\n",
       "    <tr>\n",
       "      <th>294280</th>\n",
       "      <td>Господа ташкентцы</td>\n",
       "      <td>Зарубежная классика,Классическая проза,Литерат...</td>\n",
       "      <td>Михаил Салтыков-Щедрин</td>\n",
       "      <td>1873</td>\n",
       "    </tr>\n",
       "  </tbody>\n",
       "</table>\n",
       "</div>"
      ],
      "text/plain": [
       "                     title                                             genres   \n",
       "item_id                                                                         \n",
       "128115    Ворон-челобитчик  Зарубежные детские книги,Сказки,Зарубежная кла...  \\\n",
       "210979   Скрипка Ротшильда  Классическая проза,Литература 19 века,Русская ...   \n",
       "95632     Испорченные дети  Зарубежная классика,Классическая проза,Литерат...   \n",
       "247906    Странный человек             Пьесы и драматургия,Литература 19 века   \n",
       "294280   Господа ташкентцы  Зарубежная классика,Классическая проза,Литерат...   \n",
       "\n",
       "                        authors  year  \n",
       "item_id                                \n",
       "128115   Михаил Салтыков-Щедрин  1886  \n",
       "210979              Антон Чехов  1894  \n",
       "95632    Михаил Салтыков-Щедрин  1869  \n",
       "247906         Михаил Лермонтов  1831  \n",
       "294280   Михаил Салтыков-Щедрин  1873  "
      ]
     },
     "execution_count": 7,
     "metadata": {},
     "output_type": "execute_result"
    }
   ],
   "source": [
    "df_items.head()"
   ]
  },
  {
   "cell_type": "code",
   "execution_count": 8,
   "metadata": {},
   "outputs": [
    {
     "data": {
      "text/plain": [
       "151600"
      ]
     },
     "execution_count": 8,
     "metadata": {},
     "output_type": "execute_result"
    }
   ],
   "source": [
    "users_inv_mapping = dict(enumerate(df.index.unique(\"user_id\")))\n",
    "users_mapping = {v: k for k, v in users_inv_mapping.items()}\n",
    "len(users_mapping)"
   ]
  },
  {
   "cell_type": "code",
   "execution_count": 9,
   "metadata": {},
   "outputs": [
    {
     "data": {
      "text/plain": [
       "59599"
      ]
     },
     "execution_count": 9,
     "metadata": {},
     "output_type": "execute_result"
    }
   ],
   "source": [
    "items_inv_mapping = dict(enumerate(df.index.unique(\"item_id\")))\n",
    "items_mapping = {v: k for k, v in items_inv_mapping.items()}\n",
    "len(items_mapping)"
   ]
  },
  {
   "cell_type": "code",
   "execution_count": 10,
   "metadata": {},
   "outputs": [],
   "source": [
    "df_items[\"title\"] = df_items[\"title\"].str.strip().str.lower()"
   ]
  },
  {
   "cell_type": "code",
   "execution_count": 11,
   "metadata": {},
   "outputs": [
    {
     "data": {
      "text/plain": [
       "(59599, 'ворон-челобитчик')"
      ]
     },
     "execution_count": 11,
     "metadata": {},
     "output_type": "execute_result"
    }
   ],
   "source": [
    "item_titles = pd.Series(df_items['title'], index=df_items.index).to_dict()\n",
    "len(item_titles), item_titles[128115]"
   ]
  },
  {
   "cell_type": "code",
   "execution_count": 12,
   "metadata": {},
   "outputs": [
    {
     "data": {
      "text/html": [
       "<div>\n",
       "<style scoped>\n",
       "    .dataframe tbody tr th:only-of-type {\n",
       "        vertical-align: middle;\n",
       "    }\n",
       "\n",
       "    .dataframe tbody tr th {\n",
       "        vertical-align: top;\n",
       "    }\n",
       "\n",
       "    .dataframe thead th {\n",
       "        text-align: right;\n",
       "    }\n",
       "</style>\n",
       "<table border=\"1\" class=\"dataframe\">\n",
       "  <thead>\n",
       "    <tr style=\"text-align: right;\">\n",
       "      <th></th>\n",
       "      <th>item_id</th>\n",
       "      <th>title</th>\n",
       "      <th>genres</th>\n",
       "      <th>authors</th>\n",
       "      <th>year</th>\n",
       "    </tr>\n",
       "  </thead>\n",
       "  <tbody>\n",
       "    <tr>\n",
       "      <th>0</th>\n",
       "      <td>128115</td>\n",
       "      <td>ворон-челобитчик</td>\n",
       "      <td>Зарубежные детские книги,Сказки,Зарубежная кла...</td>\n",
       "      <td>Михаил Салтыков-Щедрин</td>\n",
       "      <td>1886</td>\n",
       "    </tr>\n",
       "    <tr>\n",
       "      <th>1</th>\n",
       "      <td>210979</td>\n",
       "      <td>скрипка ротшильда</td>\n",
       "      <td>Классическая проза,Литература 19 века,Русская ...</td>\n",
       "      <td>Антон Чехов</td>\n",
       "      <td>1894</td>\n",
       "    </tr>\n",
       "    <tr>\n",
       "      <th>2</th>\n",
       "      <td>95632</td>\n",
       "      <td>испорченные дети</td>\n",
       "      <td>Зарубежная классика,Классическая проза,Литерат...</td>\n",
       "      <td>Михаил Салтыков-Щедрин</td>\n",
       "      <td>1869</td>\n",
       "    </tr>\n",
       "    <tr>\n",
       "      <th>3</th>\n",
       "      <td>247906</td>\n",
       "      <td>странный человек</td>\n",
       "      <td>Пьесы и драматургия,Литература 19 века</td>\n",
       "      <td>Михаил Лермонтов</td>\n",
       "      <td>1831</td>\n",
       "    </tr>\n",
       "    <tr>\n",
       "      <th>4</th>\n",
       "      <td>294280</td>\n",
       "      <td>господа ташкентцы</td>\n",
       "      <td>Зарубежная классика,Классическая проза,Литерат...</td>\n",
       "      <td>Михаил Салтыков-Щедрин</td>\n",
       "      <td>1873</td>\n",
       "    </tr>\n",
       "  </tbody>\n",
       "</table>\n",
       "</div>"
      ],
      "text/plain": [
       "   item_id              title   \n",
       "0   128115   ворон-челобитчик  \\\n",
       "1   210979  скрипка ротшильда   \n",
       "2    95632   испорченные дети   \n",
       "3   247906   странный человек   \n",
       "4   294280  господа ташкентцы   \n",
       "\n",
       "                                              genres                 authors   \n",
       "0  Зарубежные детские книги,Сказки,Зарубежная кла...  Михаил Салтыков-Щедрин  \\\n",
       "1  Классическая проза,Литература 19 века,Русская ...             Антон Чехов   \n",
       "2  Зарубежная классика,Классическая проза,Литерат...  Михаил Салтыков-Щедрин   \n",
       "3             Пьесы и драматургия,Литература 19 века        Михаил Лермонтов   \n",
       "4  Зарубежная классика,Классическая проза,Литерат...  Михаил Салтыков-Щедрин   \n",
       "\n",
       "   year  \n",
       "0  1886  \n",
       "1  1894  \n",
       "2  1869  \n",
       "3  1831  \n",
       "4  1873  "
      ]
     },
     "execution_count": 12,
     "metadata": {},
     "output_type": "execute_result"
    }
   ],
   "source": [
    "df_items.reset_index().head()"
   ]
  },
  {
   "cell_type": "code",
   "execution_count": 13,
   "metadata": {},
   "outputs": [
    {
     "data": {
      "text/plain": [
       "title\n",
       "# 20 восьмая       [201623]\n",
       "# duo               [72582]\n",
       "# me too. роман    [171172]\n",
       "# партия           [224512]\n",
       "Name: item_id, dtype: object"
      ]
     },
     "execution_count": 13,
     "metadata": {},
     "output_type": "execute_result"
    }
   ],
   "source": [
    "title_items = df_items.reset_index().groupby('title')[\"item_id\"].agg(list)\n",
    "title_items.head(n=4)"
   ]
  },
  {
   "cell_type": "code",
   "execution_count": 14,
   "metadata": {},
   "outputs": [
    {
     "data": {
      "text/plain": [
       "item_id\n",
       "1     55708\n",
       "2      1197\n",
       "3       245\n",
       "4        71\n",
       "5        38\n",
       "6        11\n",
       "7         8\n",
       "8         3\n",
       "9         2\n",
       "18        1\n",
       "11        1\n",
       "13        1\n",
       "23        1\n",
       "12        1\n",
       "47        1\n",
       "Name: count, dtype: int64"
      ]
     },
     "execution_count": 14,
     "metadata": {},
     "output_type": "execute_result"
    }
   ],
   "source": [
    "title_count = title_items.map(len)\n",
    "title_count.value_counts()"
   ]
  },
  {
   "cell_type": "code",
   "execution_count": 15,
   "metadata": {},
   "outputs": [
    {
     "data": {
      "text/plain": [
       "title\n",
       "яма                                              [60156, 165785]\n",
       "янки из коннектикута при дворе короля артура      [14759, 56530]\n",
       "японская диета                                   [168986, 74652]\n",
       "яр                                                [168761, 5371]\n",
       "ящик пандоры                                    [236465, 158851]\n",
       "Name: item_id, dtype: object"
      ]
     },
     "execution_count": 15,
     "metadata": {},
     "output_type": "execute_result"
    }
   ],
   "source": [
    "title_items[title_count > 1].tail()"
   ]
  },
  {
   "cell_type": "code",
   "execution_count": 16,
   "metadata": {},
   "outputs": [
    {
     "data": {
      "text/html": [
       "<div>\n",
       "<style scoped>\n",
       "    .dataframe tbody tr th:only-of-type {\n",
       "        vertical-align: middle;\n",
       "    }\n",
       "\n",
       "    .dataframe tbody tr th {\n",
       "        vertical-align: top;\n",
       "    }\n",
       "\n",
       "    .dataframe thead th {\n",
       "        text-align: right;\n",
       "    }\n",
       "</style>\n",
       "<table border=\"1\" class=\"dataframe\">\n",
       "  <thead>\n",
       "    <tr style=\"text-align: right;\">\n",
       "      <th></th>\n",
       "      <th>title</th>\n",
       "      <th>genres</th>\n",
       "      <th>authors</th>\n",
       "      <th>year</th>\n",
       "    </tr>\n",
       "    <tr>\n",
       "      <th>item_id</th>\n",
       "      <th></th>\n",
       "      <th></th>\n",
       "      <th></th>\n",
       "      <th></th>\n",
       "    </tr>\n",
       "  </thead>\n",
       "  <tbody>\n",
       "    <tr>\n",
       "      <th>236465</th>\n",
       "      <td>ящик пандоры</td>\n",
       "      <td>Любовно-фантастические романы,Научная фантастика</td>\n",
       "      <td>Филипп Хорват</td>\n",
       "      <td>2017</td>\n",
       "    </tr>\n",
       "    <tr>\n",
       "      <th>158851</th>\n",
       "      <td>ящик пандоры</td>\n",
       "      <td>Мистика,Современная зарубежная литература</td>\n",
       "      <td>Бернар Вербер</td>\n",
       "      <td>2018</td>\n",
       "    </tr>\n",
       "  </tbody>\n",
       "</table>\n",
       "</div>"
      ],
      "text/plain": [
       "                title                                            genres   \n",
       "item_id                                                                   \n",
       "236465   ящик пандоры  Любовно-фантастические романы,Научная фантастика  \\\n",
       "158851   ящик пандоры         Мистика,Современная зарубежная литература   \n",
       "\n",
       "               authors  year  \n",
       "item_id                       \n",
       "236465   Филипп Хорват  2017  \n",
       "158851   Бернар Вербер  2018  "
      ]
     },
     "execution_count": 16,
     "metadata": {},
     "output_type": "execute_result"
    }
   ],
   "source": [
    "df_items[df_items['title'] == 'ящик пандоры']"
   ]
  },
  {
   "cell_type": "code",
   "execution_count": 17,
   "metadata": {},
   "outputs": [
    {
     "data": {
      "text/plain": [
       "title\n",
       "(о переводе)                 [61213, 145263]\n",
       "2084                        [177082, 281410]\n",
       "451 градус по фаренгейту     [44681, 162716]\n",
       "playboy 02-2018               [114405, 8599]\n",
       "playboy 03-2018              [31097, 121747]\n",
       "Name: item_id, dtype: object"
      ]
     },
     "execution_count": 17,
     "metadata": {},
     "output_type": "execute_result"
    }
   ],
   "source": [
    "title_items[title_count > 1].head()"
   ]
  },
  {
   "cell_type": "code",
   "execution_count": 18,
   "metadata": {},
   "outputs": [
    {
     "data": {
      "text/html": [
       "<div>\n",
       "<style scoped>\n",
       "    .dataframe tbody tr th:only-of-type {\n",
       "        vertical-align: middle;\n",
       "    }\n",
       "\n",
       "    .dataframe tbody tr th {\n",
       "        vertical-align: top;\n",
       "    }\n",
       "\n",
       "    .dataframe thead th {\n",
       "        text-align: right;\n",
       "    }\n",
       "</style>\n",
       "<table border=\"1\" class=\"dataframe\">\n",
       "  <thead>\n",
       "    <tr style=\"text-align: right;\">\n",
       "      <th></th>\n",
       "      <th>title</th>\n",
       "      <th>genres</th>\n",
       "      <th>authors</th>\n",
       "      <th>year</th>\n",
       "    </tr>\n",
       "    <tr>\n",
       "      <th>item_id</th>\n",
       "      <th></th>\n",
       "      <th></th>\n",
       "      <th></th>\n",
       "      <th></th>\n",
       "    </tr>\n",
       "  </thead>\n",
       "  <tbody>\n",
       "    <tr>\n",
       "      <th>44681</th>\n",
       "      <td>451 градус по фаренгейту</td>\n",
       "      <td>Социальная фантастика,Зарубежная фантастика,На...</td>\n",
       "      <td>Рэй Брэдбери</td>\n",
       "      <td>1953</td>\n",
       "    </tr>\n",
       "    <tr>\n",
       "      <th>162716</th>\n",
       "      <td>451 градус по фаренгейту</td>\n",
       "      <td>Социальная фантастика,Зарубежная фантастика,На...</td>\n",
       "      <td>Рэй Брэдбери</td>\n",
       "      <td>1951, 1953, 1967</td>\n",
       "    </tr>\n",
       "  </tbody>\n",
       "</table>\n",
       "</div>"
      ],
      "text/plain": [
       "                            title   \n",
       "item_id                             \n",
       "44681    451 градус по фаренгейту  \\\n",
       "162716   451 градус по фаренгейту   \n",
       "\n",
       "                                                    genres       authors   \n",
       "item_id                                                                    \n",
       "44681    Социальная фантастика,Зарубежная фантастика,На...  Рэй Брэдбери  \\\n",
       "162716   Социальная фантастика,Зарубежная фантастика,На...  Рэй Брэдбери   \n",
       "\n",
       "                     year  \n",
       "item_id                    \n",
       "44681                1953  \n",
       "162716   1951, 1953, 1967  "
      ]
     },
     "execution_count": 18,
     "metadata": {},
     "output_type": "execute_result"
    }
   ],
   "source": [
    "df_items[df_items['title'] == '451 градус по фаренгейту']"
   ]
  },
  {
   "cell_type": "code",
   "execution_count": 19,
   "metadata": {},
   "outputs": [
    {
     "data": {
      "text/html": [
       "<div>\n",
       "<style scoped>\n",
       "    .dataframe tbody tr th:only-of-type {\n",
       "        vertical-align: middle;\n",
       "    }\n",
       "\n",
       "    .dataframe tbody tr th {\n",
       "        vertical-align: top;\n",
       "    }\n",
       "\n",
       "    .dataframe thead th {\n",
       "        text-align: right;\n",
       "    }\n",
       "</style>\n",
       "<table border=\"1\" class=\"dataframe\">\n",
       "  <thead>\n",
       "    <tr style=\"text-align: right;\">\n",
       "      <th></th>\n",
       "      <th></th>\n",
       "      <th>progress</th>\n",
       "      <th>rating</th>\n",
       "      <th>start_date</th>\n",
       "    </tr>\n",
       "    <tr>\n",
       "      <th>user_id</th>\n",
       "      <th>item_id</th>\n",
       "      <th></th>\n",
       "      <th></th>\n",
       "      <th></th>\n",
       "    </tr>\n",
       "  </thead>\n",
       "  <tbody>\n",
       "    <tr>\n",
       "      <th>126706</th>\n",
       "      <th>14433</th>\n",
       "      <td>80</td>\n",
       "      <td>NaN</td>\n",
       "      <td>2018-01-01</td>\n",
       "    </tr>\n",
       "    <tr>\n",
       "      <th>127290</th>\n",
       "      <th>140952</th>\n",
       "      <td>58</td>\n",
       "      <td>NaN</td>\n",
       "      <td>2018-01-01</td>\n",
       "    </tr>\n",
       "    <tr>\n",
       "      <th>66991</th>\n",
       "      <th>198453</th>\n",
       "      <td>89</td>\n",
       "      <td>NaN</td>\n",
       "      <td>2018-01-01</td>\n",
       "    </tr>\n",
       "  </tbody>\n",
       "</table>\n",
       "</div>"
      ],
      "text/plain": [
       "                 progress  rating start_date\n",
       "user_id item_id                             \n",
       "126706  14433          80     NaN 2018-01-01\n",
       "127290  140952         58     NaN 2018-01-01\n",
       "66991   198453         89     NaN 2018-01-01"
      ]
     },
     "execution_count": 19,
     "metadata": {},
     "output_type": "execute_result"
    }
   ],
   "source": [
    "df.head(n=3)"
   ]
  },
  {
   "cell_type": "code",
   "execution_count": 20,
   "metadata": {},
   "outputs": [
    {
     "data": {
      "text/html": [
       "<div>\n",
       "<style scoped>\n",
       "    .dataframe tbody tr th:only-of-type {\n",
       "        vertical-align: middle;\n",
       "    }\n",
       "\n",
       "    .dataframe tbody tr th {\n",
       "        vertical-align: top;\n",
       "    }\n",
       "\n",
       "    .dataframe thead tr th {\n",
       "        text-align: left;\n",
       "    }\n",
       "\n",
       "    .dataframe thead tr:last-of-type th {\n",
       "        text-align: right;\n",
       "    }\n",
       "</style>\n",
       "<table border=\"1\" class=\"dataframe\">\n",
       "  <thead>\n",
       "    <tr>\n",
       "      <th></th>\n",
       "      <th>progress</th>\n",
       "      <th colspan=\"3\" halign=\"left\">rating</th>\n",
       "      <th colspan=\"2\" halign=\"left\">start_date</th>\n",
       "    </tr>\n",
       "    <tr>\n",
       "      <th></th>\n",
       "      <th>size</th>\n",
       "      <th>mean</th>\n",
       "      <th>min</th>\n",
       "      <th>max</th>\n",
       "      <th>min</th>\n",
       "      <th>max</th>\n",
       "    </tr>\n",
       "    <tr>\n",
       "      <th>item_id</th>\n",
       "      <th></th>\n",
       "      <th></th>\n",
       "      <th></th>\n",
       "      <th></th>\n",
       "      <th></th>\n",
       "      <th></th>\n",
       "    </tr>\n",
       "  </thead>\n",
       "  <tbody>\n",
       "    <tr>\n",
       "      <th>44681</th>\n",
       "      <td>353</td>\n",
       "      <td>4.56</td>\n",
       "      <td>1.0</td>\n",
       "      <td>5.0</td>\n",
       "      <td>2018-01-24</td>\n",
       "      <td>2019-12-20</td>\n",
       "    </tr>\n",
       "    <tr>\n",
       "      <th>162716</th>\n",
       "      <td>59</td>\n",
       "      <td>4.80</td>\n",
       "      <td>4.0</td>\n",
       "      <td>5.0</td>\n",
       "      <td>2018-01-25</td>\n",
       "      <td>2019-12-30</td>\n",
       "    </tr>\n",
       "  </tbody>\n",
       "</table>\n",
       "</div>"
      ],
      "text/plain": [
       "        progress rating           start_date           \n",
       "            size   mean  min  max        min        max\n",
       "item_id                                                \n",
       "44681        353   4.56  1.0  5.0 2018-01-24 2019-12-20\n",
       "162716        59   4.80  4.0  5.0 2018-01-25 2019-12-30"
      ]
     },
     "execution_count": 20,
     "metadata": {},
     "output_type": "execute_result"
    }
   ],
   "source": [
    "df['rating'] = df['rating'].to_numpy(dtype=np.float32)\n",
    "\n",
    "df.loc[(slice(None), [44681, 162716]), :].groupby('item_id').agg({\n",
    "    'progress': np.size,\n",
    "    'rating': ['mean', \"min\", \"max\"],\n",
    "    'start_date': ['min', 'max'],\n",
    "})"
   ]
  },
  {
   "cell_type": "code",
   "execution_count": 21,
   "metadata": {},
   "outputs": [
    {
     "data": {
      "text/plain": [
       "(Timestamp('2019-12-24 00:00:00'), Timestamp('2019-12-31 00:00:00'))"
      ]
     },
     "execution_count": 21,
     "metadata": {},
     "output_type": "execute_result"
    }
   ],
   "source": [
    "last_date = df['start_date'].max().normalize()\n",
    "folds = 7\n",
    "start_date = last_date - pd.Timedelta(days=folds)\n",
    "start_date, last_date"
   ]
  },
  {
   "cell_type": "code",
   "execution_count": 22,
   "metadata": {},
   "outputs": [
    {
     "data": {
      "text/plain": [
       "(7, 7)"
      ]
     },
     "execution_count": 22,
     "metadata": {},
     "output_type": "execute_result"
    }
   ],
   "source": [
    "cv = TimeRangeSplit(start_date=start_date, periods=folds + 1)\n",
    "\n",
    "cv.max_n_splits, cv.get_n_splits(df, datetime_column='start_date')"
   ]
  },
  {
   "cell_type": "code",
   "execution_count": 23,
   "metadata": {},
   "outputs": [
    {
     "data": {
      "text/plain": [
       "DatetimeIndex(['2019-12-24', '2019-12-25', '2019-12-26', '2019-12-27',\n",
       "               '2019-12-28', '2019-12-29', '2019-12-30', '2019-12-31'],\n",
       "              dtype='datetime64[ns]', freq='D')"
      ]
     },
     "execution_count": 23,
     "metadata": {},
     "output_type": "execute_result"
    }
   ],
   "source": [
    "cv.date_range"
   ]
  },
  {
   "cell_type": "code",
   "execution_count": 24,
   "metadata": {},
   "outputs": [],
   "source": [
    "folds_with_stats = list(cv.split(\n",
    "    df, \n",
    "    user_column='user_id',\n",
    "    item_column='item_id',\n",
    "    datetime_column='start_date',\n",
    "    fold_stats=True\n",
    ")\n",
    ")\n",
    "\n",
    "folds_info_with_stats = pd.DataFrame([info for _, _, info in folds_with_stats])"
   ]
  },
  {
   "cell_type": "code",
   "execution_count": 25,
   "metadata": {},
   "outputs": [
    {
     "data": {
      "text/html": [
       "<div>\n",
       "<style scoped>\n",
       "    .dataframe tbody tr th:only-of-type {\n",
       "        vertical-align: middle;\n",
       "    }\n",
       "\n",
       "    .dataframe tbody tr th {\n",
       "        vertical-align: top;\n",
       "    }\n",
       "\n",
       "    .dataframe thead th {\n",
       "        text-align: right;\n",
       "    }\n",
       "</style>\n",
       "<table border=\"1\" class=\"dataframe\">\n",
       "  <thead>\n",
       "    <tr style=\"text-align: right;\">\n",
       "      <th></th>\n",
       "      <th>Start date</th>\n",
       "      <th>End date</th>\n",
       "      <th>Train</th>\n",
       "      <th>New users</th>\n",
       "      <th>New users interactions</th>\n",
       "      <th>New items</th>\n",
       "      <th>New items interactions</th>\n",
       "      <th>Known interactions</th>\n",
       "      <th>Test</th>\n",
       "    </tr>\n",
       "  </thead>\n",
       "  <tbody>\n",
       "    <tr>\n",
       "      <th>0</th>\n",
       "      <td>2019-12-24</td>\n",
       "      <td>2019-12-25</td>\n",
       "      <td>1515946</td>\n",
       "      <td>3</td>\n",
       "      <td>3</td>\n",
       "      <td>0</td>\n",
       "      <td>0</td>\n",
       "      <td>0</td>\n",
       "      <td>2045</td>\n",
       "    </tr>\n",
       "    <tr>\n",
       "      <th>1</th>\n",
       "      <td>2019-12-25</td>\n",
       "      <td>2019-12-26</td>\n",
       "      <td>1517994</td>\n",
       "      <td>1</td>\n",
       "      <td>1</td>\n",
       "      <td>0</td>\n",
       "      <td>0</td>\n",
       "      <td>0</td>\n",
       "      <td>2141</td>\n",
       "    </tr>\n",
       "    <tr>\n",
       "      <th>2</th>\n",
       "      <td>2019-12-26</td>\n",
       "      <td>2019-12-27</td>\n",
       "      <td>1520136</td>\n",
       "      <td>0</td>\n",
       "      <td>0</td>\n",
       "      <td>0</td>\n",
       "      <td>0</td>\n",
       "      <td>0</td>\n",
       "      <td>2177</td>\n",
       "    </tr>\n",
       "    <tr>\n",
       "      <th>3</th>\n",
       "      <td>2019-12-27</td>\n",
       "      <td>2019-12-28</td>\n",
       "      <td>1522313</td>\n",
       "      <td>0</td>\n",
       "      <td>0</td>\n",
       "      <td>0</td>\n",
       "      <td>0</td>\n",
       "      <td>0</td>\n",
       "      <td>2110</td>\n",
       "    </tr>\n",
       "    <tr>\n",
       "      <th>4</th>\n",
       "      <td>2019-12-28</td>\n",
       "      <td>2019-12-29</td>\n",
       "      <td>1524423</td>\n",
       "      <td>2</td>\n",
       "      <td>4</td>\n",
       "      <td>0</td>\n",
       "      <td>0</td>\n",
       "      <td>0</td>\n",
       "      <td>2205</td>\n",
       "    </tr>\n",
       "    <tr>\n",
       "      <th>5</th>\n",
       "      <td>2019-12-29</td>\n",
       "      <td>2019-12-30</td>\n",
       "      <td>1526632</td>\n",
       "      <td>4</td>\n",
       "      <td>4</td>\n",
       "      <td>0</td>\n",
       "      <td>0</td>\n",
       "      <td>0</td>\n",
       "      <td>2118</td>\n",
       "    </tr>\n",
       "    <tr>\n",
       "      <th>6</th>\n",
       "      <td>2019-12-30</td>\n",
       "      <td>2019-12-31</td>\n",
       "      <td>1528754</td>\n",
       "      <td>1</td>\n",
       "      <td>1</td>\n",
       "      <td>0</td>\n",
       "      <td>0</td>\n",
       "      <td>0</td>\n",
       "      <td>2168</td>\n",
       "    </tr>\n",
       "  </tbody>\n",
       "</table>\n",
       "</div>"
      ],
      "text/plain": [
       "  Start date   End date    Train  New users  New users interactions   \n",
       "0 2019-12-24 2019-12-25  1515946          3                       3  \\\n",
       "1 2019-12-25 2019-12-26  1517994          1                       1   \n",
       "2 2019-12-26 2019-12-27  1520136          0                       0   \n",
       "3 2019-12-27 2019-12-28  1522313          0                       0   \n",
       "4 2019-12-28 2019-12-29  1524423          2                       4   \n",
       "5 2019-12-29 2019-12-30  1526632          4                       4   \n",
       "6 2019-12-30 2019-12-31  1528754          1                       1   \n",
       "\n",
       "   New items  New items interactions  Known interactions  Test  \n",
       "0          0                       0                   0  2045  \n",
       "1          0                       0                   0  2141  \n",
       "2          0                       0                   0  2177  \n",
       "3          0                       0                   0  2110  \n",
       "4          0                       0                   0  2205  \n",
       "5          0                       0                   0  2118  \n",
       "6          0                       0                   0  2168  "
      ]
     },
     "execution_count": 25,
     "metadata": {},
     "output_type": "execute_result"
    }
   ],
   "source": [
    "folds_info_with_stats"
   ]
  },
  {
   "cell_type": "code",
   "execution_count": 26,
   "metadata": {},
   "outputs": [],
   "source": [
    "top_N = 10"
   ]
  },
  {
   "attachments": {},
   "cell_type": "markdown",
   "metadata": {},
   "source": [
    "# Implicit"
   ]
  },
  {
   "cell_type": "code",
   "execution_count": 27,
   "metadata": {},
   "outputs": [
    {
     "data": {
      "text/plain": [
       "((1515946, 3), (2045, 3))"
      ]
     },
     "execution_count": 27,
     "metadata": {},
     "output_type": "execute_result"
    }
   ],
   "source": [
    "train_idx, test_idx, info = folds_with_stats[0]\n",
    "\n",
    "train = df.loc[train_idx, :]\n",
    "test = df.loc[test_idx, :]\n",
    "train.shape, test.shape"
   ]
  },
  {
   "cell_type": "code",
   "execution_count": 28,
   "metadata": {},
   "outputs": [],
   "source": [
    "cosine_model = ImplicitRecommender(CosineRecommender(K=10), users_mapping, items_mapping, items_inv_mapping)"
   ]
  },
  {
   "cell_type": "code",
   "execution_count": 29,
   "metadata": {},
   "outputs": [
    {
     "name": "stderr",
     "output_type": "stream",
     "text": [
      "/home/alex/miniconda3/envs/recsys/lib/python3.10/site-packages/implicit/utils.py:138: ParameterWarning: Method expects CSR input, and was passed coo_matrix instead. Converting to CSR took 0.008523702621459961 seconds\n",
      "  warnings.warn(\n"
     ]
    },
    {
     "data": {
      "application/vnd.jupyter.widget-view+json": {
       "model_id": "3db3e7e9ca8741a29e78991fcd2298bd",
       "version_major": 2,
       "version_minor": 0
      },
      "text/plain": [
       "  0%|          | 0/59599 [00:00<?, ?it/s]"
      ]
     },
     "metadata": {},
     "output_type": "display_data"
    }
   ],
   "source": [
    "cosine_model.fit(train)"
   ]
  },
  {
   "cell_type": "code",
   "execution_count": 30,
   "metadata": {},
   "outputs": [
    {
     "name": "stdout",
     "output_type": "stream",
     "text": [
      "Рекомендации для пользователя 139942\n"
     ]
    }
   ],
   "source": [
    "user_id = test.index.get_level_values(\"user_id\")[0]\n",
    "print(f'Рекомендации для пользователя {user_id}')"
   ]
  },
  {
   "cell_type": "code",
   "execution_count": 31,
   "metadata": {},
   "outputs": [],
   "source": [
    "pred_recs = cosine_model.recommend([user_id], n=top_N)"
   ]
  },
  {
   "cell_type": "code",
   "execution_count": 32,
   "metadata": {},
   "outputs": [
    {
     "data": {
      "text/html": [
       "<div>\n",
       "<style scoped>\n",
       "    .dataframe tbody tr th:only-of-type {\n",
       "        vertical-align: middle;\n",
       "    }\n",
       "\n",
       "    .dataframe tbody tr th {\n",
       "        vertical-align: top;\n",
       "    }\n",
       "\n",
       "    .dataframe thead th {\n",
       "        text-align: right;\n",
       "    }\n",
       "</style>\n",
       "<table border=\"1\" class=\"dataframe\">\n",
       "  <thead>\n",
       "    <tr style=\"text-align: right;\">\n",
       "      <th></th>\n",
       "      <th></th>\n",
       "      <th>rank</th>\n",
       "    </tr>\n",
       "    <tr>\n",
       "      <th>user_id</th>\n",
       "      <th>item_id</th>\n",
       "      <th></th>\n",
       "    </tr>\n",
       "  </thead>\n",
       "  <tbody>\n",
       "    <tr>\n",
       "      <th rowspan=\"10\" valign=\"top\">139942</th>\n",
       "      <th>193358</th>\n",
       "      <td>1</td>\n",
       "    </tr>\n",
       "    <tr>\n",
       "      <th>125586</th>\n",
       "      <td>2</td>\n",
       "    </tr>\n",
       "    <tr>\n",
       "      <th>203882</th>\n",
       "      <td>3</td>\n",
       "    </tr>\n",
       "    <tr>\n",
       "      <th>90986</th>\n",
       "      <td>4</td>\n",
       "    </tr>\n",
       "    <tr>\n",
       "      <th>146180</th>\n",
       "      <td>5</td>\n",
       "    </tr>\n",
       "    <tr>\n",
       "      <th>264849</th>\n",
       "      <td>6</td>\n",
       "    </tr>\n",
       "    <tr>\n",
       "      <th>238155</th>\n",
       "      <td>7</td>\n",
       "    </tr>\n",
       "    <tr>\n",
       "      <th>7094</th>\n",
       "      <td>8</td>\n",
       "    </tr>\n",
       "    <tr>\n",
       "      <th>1728</th>\n",
       "      <td>9</td>\n",
       "    </tr>\n",
       "    <tr>\n",
       "      <th>240226</th>\n",
       "      <td>10</td>\n",
       "    </tr>\n",
       "  </tbody>\n",
       "</table>\n",
       "</div>"
      ],
      "text/plain": [
       "                 rank\n",
       "user_id item_id      \n",
       "139942  193358      1\n",
       "        125586      2\n",
       "        203882      3\n",
       "        90986       4\n",
       "        146180      5\n",
       "        264849      6\n",
       "        238155      7\n",
       "        7094        8\n",
       "        1728        9\n",
       "        240226     10"
      ]
     },
     "execution_count": 32,
     "metadata": {},
     "output_type": "execute_result"
    }
   ],
   "source": [
    "pred_recs"
   ]
  },
  {
   "cell_type": "code",
   "execution_count": 33,
   "metadata": {},
   "outputs": [
    {
     "data": {
      "text/html": [
       "<div>\n",
       "<style scoped>\n",
       "    .dataframe tbody tr th:only-of-type {\n",
       "        vertical-align: middle;\n",
       "    }\n",
       "\n",
       "    .dataframe tbody tr th {\n",
       "        vertical-align: top;\n",
       "    }\n",
       "\n",
       "    .dataframe thead th {\n",
       "        text-align: right;\n",
       "    }\n",
       "</style>\n",
       "<table border=\"1\" class=\"dataframe\">\n",
       "  <thead>\n",
       "    <tr style=\"text-align: right;\">\n",
       "      <th></th>\n",
       "      <th></th>\n",
       "      <th>progress</th>\n",
       "      <th>rating</th>\n",
       "      <th>start_date</th>\n",
       "    </tr>\n",
       "    <tr>\n",
       "      <th>user_id</th>\n",
       "      <th>item_id</th>\n",
       "      <th></th>\n",
       "      <th></th>\n",
       "      <th></th>\n",
       "    </tr>\n",
       "  </thead>\n",
       "  <tbody>\n",
       "    <tr>\n",
       "      <th>139942</th>\n",
       "      <th>26270</th>\n",
       "      <td>58</td>\n",
       "      <td>NaN</td>\n",
       "      <td>2019-12-24</td>\n",
       "    </tr>\n",
       "    <tr>\n",
       "      <th>136607</th>\n",
       "      <th>82392</th>\n",
       "      <td>39</td>\n",
       "      <td>NaN</td>\n",
       "      <td>2019-12-24</td>\n",
       "    </tr>\n",
       "    <tr>\n",
       "      <th>142287</th>\n",
       "      <th>84446</th>\n",
       "      <td>79</td>\n",
       "      <td>NaN</td>\n",
       "      <td>2019-12-24</td>\n",
       "    </tr>\n",
       "    <tr>\n",
       "      <th>114933</th>\n",
       "      <th>319155</th>\n",
       "      <td>9</td>\n",
       "      <td>NaN</td>\n",
       "      <td>2019-12-24</td>\n",
       "    </tr>\n",
       "    <tr>\n",
       "      <th>32926</th>\n",
       "      <th>120339</th>\n",
       "      <td>73</td>\n",
       "      <td>NaN</td>\n",
       "      <td>2019-12-24</td>\n",
       "    </tr>\n",
       "  </tbody>\n",
       "</table>\n",
       "</div>"
      ],
      "text/plain": [
       "                 progress  rating start_date\n",
       "user_id item_id                             \n",
       "139942  26270          58     NaN 2019-12-24\n",
       "136607  82392          39     NaN 2019-12-24\n",
       "142287  84446          79     NaN 2019-12-24\n",
       "114933  319155          9     NaN 2019-12-24\n",
       "32926   120339         73     NaN 2019-12-24"
      ]
     },
     "execution_count": 33,
     "metadata": {},
     "output_type": "execute_result"
    }
   ],
   "source": [
    "test.head()"
   ]
  },
  {
   "cell_type": "code",
   "execution_count": 34,
   "metadata": {},
   "outputs": [],
   "source": [
    "pred_recs = cosine_model.recommend(test.index.get_level_values(\"user_id\").unique(), n=top_N)"
   ]
  },
  {
   "cell_type": "code",
   "execution_count": 35,
   "metadata": {},
   "outputs": [
    {
     "data": {
      "text/html": [
       "<div>\n",
       "<style scoped>\n",
       "    .dataframe tbody tr th:only-of-type {\n",
       "        vertical-align: middle;\n",
       "    }\n",
       "\n",
       "    .dataframe tbody tr th {\n",
       "        vertical-align: top;\n",
       "    }\n",
       "\n",
       "    .dataframe thead th {\n",
       "        text-align: right;\n",
       "    }\n",
       "</style>\n",
       "<table border=\"1\" class=\"dataframe\">\n",
       "  <thead>\n",
       "    <tr style=\"text-align: right;\">\n",
       "      <th></th>\n",
       "      <th></th>\n",
       "      <th>rank</th>\n",
       "    </tr>\n",
       "    <tr>\n",
       "      <th>user_id</th>\n",
       "      <th>item_id</th>\n",
       "      <th></th>\n",
       "    </tr>\n",
       "  </thead>\n",
       "  <tbody>\n",
       "    <tr>\n",
       "      <th rowspan=\"10\" valign=\"top\">139942</th>\n",
       "      <th>193358</th>\n",
       "      <td>1</td>\n",
       "    </tr>\n",
       "    <tr>\n",
       "      <th>125586</th>\n",
       "      <td>2</td>\n",
       "    </tr>\n",
       "    <tr>\n",
       "      <th>203882</th>\n",
       "      <td>3</td>\n",
       "    </tr>\n",
       "    <tr>\n",
       "      <th>90986</th>\n",
       "      <td>4</td>\n",
       "    </tr>\n",
       "    <tr>\n",
       "      <th>146180</th>\n",
       "      <td>5</td>\n",
       "    </tr>\n",
       "    <tr>\n",
       "      <th>264849</th>\n",
       "      <td>6</td>\n",
       "    </tr>\n",
       "    <tr>\n",
       "      <th>238155</th>\n",
       "      <td>7</td>\n",
       "    </tr>\n",
       "    <tr>\n",
       "      <th>7094</th>\n",
       "      <td>8</td>\n",
       "    </tr>\n",
       "    <tr>\n",
       "      <th>1728</th>\n",
       "      <td>9</td>\n",
       "    </tr>\n",
       "    <tr>\n",
       "      <th>240226</th>\n",
       "      <td>10</td>\n",
       "    </tr>\n",
       "    <tr>\n",
       "      <th rowspan=\"3\" valign=\"top\">136607</th>\n",
       "      <th>250158</th>\n",
       "      <td>1</td>\n",
       "    </tr>\n",
       "    <tr>\n",
       "      <th>121182</th>\n",
       "      <td>2</td>\n",
       "    </tr>\n",
       "    <tr>\n",
       "      <th>141120</th>\n",
       "      <td>3</td>\n",
       "    </tr>\n",
       "  </tbody>\n",
       "</table>\n",
       "</div>"
      ],
      "text/plain": [
       "                 rank\n",
       "user_id item_id      \n",
       "139942  193358      1\n",
       "        125586      2\n",
       "        203882      3\n",
       "        90986       4\n",
       "        146180      5\n",
       "        264849      6\n",
       "        238155      7\n",
       "        7094        8\n",
       "        1728        9\n",
       "        240226     10\n",
       "136607  250158      1\n",
       "        121182      2\n",
       "        141120      3"
      ]
     },
     "execution_count": 35,
     "metadata": {},
     "output_type": "execute_result"
    }
   ],
   "source": [
    "pred_recs.head(top_N + 3)"
   ]
  },
  {
   "cell_type": "code",
   "execution_count": 36,
   "metadata": {},
   "outputs": [
    {
     "data": {
      "text/html": [
       "<div>\n",
       "<style scoped>\n",
       "    .dataframe tbody tr th:only-of-type {\n",
       "        vertical-align: middle;\n",
       "    }\n",
       "\n",
       "    .dataframe tbody tr th {\n",
       "        vertical-align: top;\n",
       "    }\n",
       "\n",
       "    .dataframe thead th {\n",
       "        text-align: right;\n",
       "    }\n",
       "</style>\n",
       "<table border=\"1\" class=\"dataframe\">\n",
       "  <thead>\n",
       "    <tr style=\"text-align: right;\">\n",
       "      <th></th>\n",
       "      <th></th>\n",
       "      <th>rank</th>\n",
       "    </tr>\n",
       "    <tr>\n",
       "      <th>user_id</th>\n",
       "      <th>item_id</th>\n",
       "      <th></th>\n",
       "    </tr>\n",
       "  </thead>\n",
       "  <tbody>\n",
       "    <tr>\n",
       "      <th rowspan=\"10\" valign=\"top\">139942</th>\n",
       "      <th>193358</th>\n",
       "      <td>1</td>\n",
       "    </tr>\n",
       "    <tr>\n",
       "      <th>125586</th>\n",
       "      <td>2</td>\n",
       "    </tr>\n",
       "    <tr>\n",
       "      <th>203882</th>\n",
       "      <td>3</td>\n",
       "    </tr>\n",
       "    <tr>\n",
       "      <th>90986</th>\n",
       "      <td>4</td>\n",
       "    </tr>\n",
       "    <tr>\n",
       "      <th>146180</th>\n",
       "      <td>5</td>\n",
       "    </tr>\n",
       "    <tr>\n",
       "      <th>264849</th>\n",
       "      <td>6</td>\n",
       "    </tr>\n",
       "    <tr>\n",
       "      <th>238155</th>\n",
       "      <td>7</td>\n",
       "    </tr>\n",
       "    <tr>\n",
       "      <th>7094</th>\n",
       "      <td>8</td>\n",
       "    </tr>\n",
       "    <tr>\n",
       "      <th>1728</th>\n",
       "      <td>9</td>\n",
       "    </tr>\n",
       "    <tr>\n",
       "      <th>240226</th>\n",
       "      <td>10</td>\n",
       "    </tr>\n",
       "  </tbody>\n",
       "</table>\n",
       "</div>"
      ],
      "text/plain": [
       "                 rank\n",
       "user_id item_id      \n",
       "139942  193358      1\n",
       "        125586      2\n",
       "        203882      3\n",
       "        90986       4\n",
       "        146180      5\n",
       "        264849      6\n",
       "        238155      7\n",
       "        7094        8\n",
       "        1728        9\n",
       "        240226     10"
      ]
     },
     "execution_count": 36,
     "metadata": {},
     "output_type": "execute_result"
    }
   ],
   "source": [
    "pred_recs.loc[(user_id, slice(None)), :]"
   ]
  },
  {
   "cell_type": "code",
   "execution_count": 37,
   "metadata": {},
   "outputs": [],
   "source": [
    "metrics = compute_metrics(test, pred_recs, top_N)"
   ]
  },
  {
   "cell_type": "code",
   "execution_count": 38,
   "metadata": {},
   "outputs": [
    {
     "data": {
      "text/html": [
       "<div>\n",
       "<style scoped>\n",
       "    .dataframe tbody tr th:only-of-type {\n",
       "        vertical-align: middle;\n",
       "    }\n",
       "\n",
       "    .dataframe tbody tr th {\n",
       "        vertical-align: top;\n",
       "    }\n",
       "\n",
       "    .dataframe thead th {\n",
       "        text-align: right;\n",
       "    }\n",
       "</style>\n",
       "<table border=\"1\" class=\"dataframe\">\n",
       "  <thead>\n",
       "    <tr style=\"text-align: right;\">\n",
       "      <th></th>\n",
       "      <th>value</th>\n",
       "    </tr>\n",
       "    <tr>\n",
       "      <th>name</th>\n",
       "      <th></th>\n",
       "    </tr>\n",
       "  </thead>\n",
       "  <tbody>\n",
       "    <tr>\n",
       "      <th>prec@1</th>\n",
       "      <td>0.011628</td>\n",
       "    </tr>\n",
       "    <tr>\n",
       "      <th>recall@1</th>\n",
       "      <td>0.010200</td>\n",
       "    </tr>\n",
       "    <tr>\n",
       "      <th>prec@2</th>\n",
       "      <td>0.010098</td>\n",
       "    </tr>\n",
       "    <tr>\n",
       "      <th>recall@2</th>\n",
       "      <td>0.018054</td>\n",
       "    </tr>\n",
       "    <tr>\n",
       "      <th>prec@3</th>\n",
       "      <td>0.009384</td>\n",
       "    </tr>\n",
       "    <tr>\n",
       "      <th>recall@3</th>\n",
       "      <td>0.024057</td>\n",
       "    </tr>\n",
       "    <tr>\n",
       "      <th>prec@4</th>\n",
       "      <td>0.007956</td>\n",
       "    </tr>\n",
       "    <tr>\n",
       "      <th>recall@4</th>\n",
       "      <td>0.026811</td>\n",
       "    </tr>\n",
       "    <tr>\n",
       "      <th>prec@5</th>\n",
       "      <td>0.007222</td>\n",
       "    </tr>\n",
       "    <tr>\n",
       "      <th>recall@5</th>\n",
       "      <td>0.030075</td>\n",
       "    </tr>\n",
       "    <tr>\n",
       "      <th>prec@6</th>\n",
       "      <td>0.006222</td>\n",
       "    </tr>\n",
       "    <tr>\n",
       "      <th>recall@6</th>\n",
       "      <td>0.031299</td>\n",
       "    </tr>\n",
       "    <tr>\n",
       "      <th>prec@7</th>\n",
       "      <td>0.005595</td>\n",
       "    </tr>\n",
       "    <tr>\n",
       "      <th>recall@7</th>\n",
       "      <td>0.032421</td>\n",
       "    </tr>\n",
       "    <tr>\n",
       "      <th>prec@8</th>\n",
       "      <td>0.005661</td>\n",
       "    </tr>\n",
       "    <tr>\n",
       "      <th>recall@8</th>\n",
       "      <td>0.036589</td>\n",
       "    </tr>\n",
       "    <tr>\n",
       "      <th>prec@9</th>\n",
       "      <td>0.005168</td>\n",
       "    </tr>\n",
       "    <tr>\n",
       "      <th>recall@9</th>\n",
       "      <td>0.037099</td>\n",
       "    </tr>\n",
       "    <tr>\n",
       "      <th>prec@10</th>\n",
       "      <td>0.004896</td>\n",
       "    </tr>\n",
       "    <tr>\n",
       "      <th>recall@10</th>\n",
       "      <td>0.039139</td>\n",
       "    </tr>\n",
       "    <tr>\n",
       "      <th>MRR</th>\n",
       "      <td>0.021653</td>\n",
       "    </tr>\n",
       "    <tr>\n",
       "      <th>MAP</th>\n",
       "      <td>0.018753</td>\n",
       "    </tr>\n",
       "  </tbody>\n",
       "</table>\n",
       "</div>"
      ],
      "text/plain": [
       "              value\n",
       "name               \n",
       "prec@1     0.011628\n",
       "recall@1   0.010200\n",
       "prec@2     0.010098\n",
       "recall@2   0.018054\n",
       "prec@3     0.009384\n",
       "recall@3   0.024057\n",
       "prec@4     0.007956\n",
       "recall@4   0.026811\n",
       "prec@5     0.007222\n",
       "recall@5   0.030075\n",
       "prec@6     0.006222\n",
       "recall@6   0.031299\n",
       "prec@7     0.005595\n",
       "recall@7   0.032421\n",
       "prec@8     0.005661\n",
       "recall@8   0.036589\n",
       "prec@9     0.005168\n",
       "recall@9   0.037099\n",
       "prec@10    0.004896\n",
       "recall@10  0.039139\n",
       "MRR        0.021653\n",
       "MAP        0.018753"
      ]
     },
     "execution_count": 38,
     "metadata": {},
     "output_type": "execute_result"
    }
   ],
   "source": [
    "metrics"
   ]
  },
  {
   "cell_type": "code",
   "execution_count": 39,
   "metadata": {},
   "outputs": [],
   "source": [
    "def create_cosine_model():\n",
    "    return ImplicitRecommender(CosineRecommender(K=top_N), users_mapping, items_mapping, items_inv_mapping)\n",
    "\n",
    "\n",
    "def create_bm25():\n",
    "    return ImplicitRecommender(BM25Recommender(K=top_N), users_mapping, items_mapping, items_inv_mapping)\n",
    "\n",
    "def create_tfidf():\n",
    "    return ImplicitRecommender(TFIDFRecommender(K=top_N), users_mapping, items_mapping, items_inv_mapping)\n",
    "\n",
    "def create_alsm():\n",
    "    return ImplicitRecommender(AlternatingLeastSquares(factors=32, iterations=10), users_mapping, items_mapping, items_inv_mapping)"
   ]
  },
  {
   "cell_type": "code",
   "execution_count": 40,
   "metadata": {},
   "outputs": [],
   "source": [
    "cv_res_per_model = []\n",
    "models = {}"
   ]
  },
  {
   "cell_type": "code",
   "execution_count": 87,
   "metadata": {},
   "outputs": [
    {
     "data": {
      "application/vnd.jupyter.widget-view+json": {
       "model_id": "b2f6f5e44395495cb9ebd4d486f6d4dd",
       "version_major": 2,
       "version_minor": 0
      },
      "text/plain": [
       "  0%|          | 0/7 [00:00<?, ?it/s]"
      ]
     },
     "metadata": {},
     "output_type": "display_data"
    },
    {
     "name": "stderr",
     "output_type": "stream",
     "text": [
      "/home/alex/miniconda3/envs/recsys/lib/python3.10/site-packages/implicit/utils.py:138: ParameterWarning: Method expects CSR input, and was passed coo_matrix instead. Converting to CSR took 0.00838017463684082 seconds\n",
      "  warnings.warn(\n",
      "/home/alex/miniconda3/envs/recsys/lib/python3.10/site-packages/implicit/utils.py:138: ParameterWarning: Method expects CSR input, and was passed coo_matrix instead. Converting to CSR took 0.008441686630249023 seconds\n",
      "  warnings.warn(\n",
      "/home/alex/miniconda3/envs/recsys/lib/python3.10/site-packages/implicit/utils.py:138: ParameterWarning: Method expects CSR input, and was passed coo_matrix instead. Converting to CSR took 0.008302450180053711 seconds\n",
      "  warnings.warn(\n",
      "/home/alex/miniconda3/envs/recsys/lib/python3.10/site-packages/implicit/utils.py:138: ParameterWarning: Method expects CSR input, and was passed coo_matrix instead. Converting to CSR took 0.01039266586303711 seconds\n",
      "  warnings.warn(\n",
      "/home/alex/miniconda3/envs/recsys/lib/python3.10/site-packages/implicit/utils.py:138: ParameterWarning: Method expects CSR input, and was passed coo_matrix instead. Converting to CSR took 0.008655309677124023 seconds\n",
      "  warnings.warn(\n",
      "/home/alex/miniconda3/envs/recsys/lib/python3.10/site-packages/implicit/utils.py:138: ParameterWarning: Method expects CSR input, and was passed coo_matrix instead. Converting to CSR took 0.009000778198242188 seconds\n",
      "  warnings.warn(\n",
      "/home/alex/miniconda3/envs/recsys/lib/python3.10/site-packages/implicit/utils.py:138: ParameterWarning: Method expects CSR input, and was passed coo_matrix instead. Converting to CSR took 0.008131265640258789 seconds\n",
      "  warnings.warn(\n"
     ]
    },
    {
     "data": {
      "application/vnd.jupyter.widget-view+json": {
       "model_id": "0eef7cdda43945b7aa8f2016cd31fed5",
       "version_major": 2,
       "version_minor": 0
      },
      "text/plain": [
       "  0%|          | 0/7 [00:00<?, ?it/s]"
      ]
     },
     "metadata": {},
     "output_type": "display_data"
    },
    {
     "name": "stderr",
     "output_type": "stream",
     "text": [
      "/home/alex/miniconda3/envs/recsys/lib/python3.10/site-packages/implicit/utils.py:138: ParameterWarning: Method expects CSR input, and was passed coo_matrix instead. Converting to CSR took 0.009989738464355469 seconds\n",
      "  warnings.warn(\n",
      "/home/alex/miniconda3/envs/recsys/lib/python3.10/site-packages/implicit/utils.py:138: ParameterWarning: Method expects CSR input, and was passed coo_matrix instead. Converting to CSR took 0.008583784103393555 seconds\n",
      "  warnings.warn(\n",
      "/home/alex/miniconda3/envs/recsys/lib/python3.10/site-packages/implicit/utils.py:138: ParameterWarning: Method expects CSR input, and was passed coo_matrix instead. Converting to CSR took 0.007918119430541992 seconds\n",
      "  warnings.warn(\n",
      "/home/alex/miniconda3/envs/recsys/lib/python3.10/site-packages/implicit/utils.py:138: ParameterWarning: Method expects CSR input, and was passed coo_matrix instead. Converting to CSR took 0.00792837142944336 seconds\n",
      "  warnings.warn(\n",
      "/home/alex/miniconda3/envs/recsys/lib/python3.10/site-packages/implicit/utils.py:138: ParameterWarning: Method expects CSR input, and was passed coo_matrix instead. Converting to CSR took 0.009340047836303711 seconds\n",
      "  warnings.warn(\n",
      "/home/alex/miniconda3/envs/recsys/lib/python3.10/site-packages/implicit/utils.py:138: ParameterWarning: Method expects CSR input, and was passed coo_matrix instead. Converting to CSR took 0.009942293167114258 seconds\n",
      "  warnings.warn(\n",
      "/home/alex/miniconda3/envs/recsys/lib/python3.10/site-packages/implicit/utils.py:138: ParameterWarning: Method expects CSR input, and was passed coo_matrix instead. Converting to CSR took 0.008152008056640625 seconds\n",
      "  warnings.warn(\n"
     ]
    },
    {
     "data": {
      "application/vnd.jupyter.widget-view+json": {
       "model_id": "69e44d6cf4e84491a63687864db83d42",
       "version_major": 2,
       "version_minor": 0
      },
      "text/plain": [
       "  0%|          | 0/7 [00:00<?, ?it/s]"
      ]
     },
     "metadata": {},
     "output_type": "display_data"
    },
    {
     "name": "stderr",
     "output_type": "stream",
     "text": [
      "/home/alex/miniconda3/envs/recsys/lib/python3.10/site-packages/implicit/utils.py:138: ParameterWarning: Method expects CSR input, and was passed coo_matrix instead. Converting to CSR took 0.008374929428100586 seconds\n",
      "  warnings.warn(\n",
      "/home/alex/miniconda3/envs/recsys/lib/python3.10/site-packages/implicit/utils.py:138: ParameterWarning: Method expects CSR input, and was passed coo_matrix instead. Converting to CSR took 0.009269237518310547 seconds\n",
      "  warnings.warn(\n",
      "/home/alex/miniconda3/envs/recsys/lib/python3.10/site-packages/implicit/utils.py:138: ParameterWarning: Method expects CSR input, and was passed coo_matrix instead. Converting to CSR took 0.008784055709838867 seconds\n",
      "  warnings.warn(\n",
      "/home/alex/miniconda3/envs/recsys/lib/python3.10/site-packages/implicit/utils.py:138: ParameterWarning: Method expects CSR input, and was passed coo_matrix instead. Converting to CSR took 0.014273643493652344 seconds\n",
      "  warnings.warn(\n",
      "/home/alex/miniconda3/envs/recsys/lib/python3.10/site-packages/implicit/utils.py:138: ParameterWarning: Method expects CSR input, and was passed coo_matrix instead. Converting to CSR took 0.008969545364379883 seconds\n",
      "  warnings.warn(\n",
      "/home/alex/miniconda3/envs/recsys/lib/python3.10/site-packages/implicit/utils.py:138: ParameterWarning: Method expects CSR input, and was passed coo_matrix instead. Converting to CSR took 0.010196685791015625 seconds\n",
      "  warnings.warn(\n",
      "/home/alex/miniconda3/envs/recsys/lib/python3.10/site-packages/implicit/utils.py:138: ParameterWarning: Method expects CSR input, and was passed coo_matrix instead. Converting to CSR took 0.00868535041809082 seconds\n",
      "  warnings.warn(\n"
     ]
    },
    {
     "data": {
      "application/vnd.jupyter.widget-view+json": {
       "model_id": "7e1f9a4e83d647df8fc6ae144e575e7e",
       "version_major": 2,
       "version_minor": 0
      },
      "text/plain": [
       "  0%|          | 0/7 [00:00<?, ?it/s]"
      ]
     },
     "metadata": {},
     "output_type": "display_data"
    }
   ],
   "source": [
    "for factory in (create_cosine_model, create_bm25, create_tfidf, create_alsm):\n",
    "    cross_valid_res_model, model = model_cross_validate(\n",
    "        df, \n",
    "        user_features=df_users, \n",
    "        item_features=df_items, \n",
    "        folds=folds_with_stats, \n",
    "        model_factory=factory, \n",
    "        n=top_N)\n",
    "    models[model.model_name()] = model\n",
    "    cv_res_per_model.append(cross_valid_res_model)\n",
    "    del cross_valid_res_model"
   ]
  },
  {
   "cell_type": "code",
   "execution_count": 88,
   "metadata": {},
   "outputs": [],
   "source": [
    "cross_valid_res = pd.concat(cv_res_per_model)\n",
    "cv_res_per_model.clear()"
   ]
  },
  {
   "cell_type": "code",
   "execution_count": 89,
   "metadata": {},
   "outputs": [
    {
     "data": {
      "image/png": "[encoded data removed]",
      "text/plain": [
       "<Figure size 640x480 with 1 Axes>"
      ]
     },
     "metadata": {},
     "output_type": "display_data"
    }
   ],
   "source": [
    "ax = sns.scatterplot(cross_valid_res[cross_valid_res[\"metric_name\"].isin([\"MAP\", \"MRR\"])], x=\"fold\", y=\"value\", style=\"metric_name\", hue=\"model\")\n",
    "sns.move_legend(ax, \"upper left\", bbox_to_anchor=(1, 1))"
   ]
  },
  {
   "cell_type": "code",
   "execution_count": 44,
   "metadata": {},
   "outputs": [
    {
     "data": {
      "text/html": [
       "<div>\n",
       "<style scoped>\n",
       "    .dataframe tbody tr th:only-of-type {\n",
       "        vertical-align: middle;\n",
       "    }\n",
       "\n",
       "    .dataframe tbody tr th {\n",
       "        vertical-align: top;\n",
       "    }\n",
       "\n",
       "    .dataframe thead tr th {\n",
       "        text-align: left;\n",
       "    }\n",
       "\n",
       "    .dataframe thead tr:last-of-type th {\n",
       "        text-align: right;\n",
       "    }\n",
       "</style>\n",
       "<table border=\"1\" class=\"dataframe\">\n",
       "  <thead>\n",
       "    <tr>\n",
       "      <th>metric_name</th>\n",
       "      <th colspan=\"4\" halign=\"left\">MRR</th>\n",
       "      <th colspan=\"4\" halign=\"left\">MAP</th>\n",
       "      <th colspan=\"4\" halign=\"left\">recall@10</th>\n",
       "    </tr>\n",
       "    <tr>\n",
       "      <th></th>\n",
       "      <th>mean</th>\n",
       "      <th>std</th>\n",
       "      <th>min</th>\n",
       "      <th>max</th>\n",
       "      <th>mean</th>\n",
       "      <th>std</th>\n",
       "      <th>min</th>\n",
       "      <th>max</th>\n",
       "      <th>mean</th>\n",
       "      <th>std</th>\n",
       "      <th>min</th>\n",
       "      <th>max</th>\n",
       "    </tr>\n",
       "    <tr>\n",
       "      <th>model</th>\n",
       "      <th></th>\n",
       "      <th></th>\n",
       "      <th></th>\n",
       "      <th></th>\n",
       "      <th></th>\n",
       "      <th></th>\n",
       "      <th></th>\n",
       "      <th></th>\n",
       "      <th></th>\n",
       "      <th></th>\n",
       "      <th></th>\n",
       "      <th></th>\n",
       "    </tr>\n",
       "  </thead>\n",
       "  <tbody>\n",
       "    <tr>\n",
       "      <th>AlternatingLeastSquares</th>\n",
       "      <td>0.005003</td>\n",
       "      <td>0.001139</td>\n",
       "      <td>0.003245</td>\n",
       "      <td>0.006931</td>\n",
       "      <td>0.004136</td>\n",
       "      <td>0.001083</td>\n",
       "      <td>0.003027</td>\n",
       "      <td>0.005788</td>\n",
       "      <td>0.010705</td>\n",
       "      <td>0.001767</td>\n",
       "      <td>0.008491</td>\n",
       "      <td>0.013732</td>\n",
       "    </tr>\n",
       "    <tr>\n",
       "      <th>BM25Recommender</th>\n",
       "      <td>0.015761</td>\n",
       "      <td>0.003428</td>\n",
       "      <td>0.010862</td>\n",
       "      <td>0.022296</td>\n",
       "      <td>0.013909</td>\n",
       "      <td>0.002879</td>\n",
       "      <td>0.009243</td>\n",
       "      <td>0.018977</td>\n",
       "      <td>0.029273</td>\n",
       "      <td>0.004234</td>\n",
       "      <td>0.024603</td>\n",
       "      <td>0.037113</td>\n",
       "    </tr>\n",
       "    <tr>\n",
       "      <th>CosineRecommender</th>\n",
       "      <td>0.015466</td>\n",
       "      <td>0.003430</td>\n",
       "      <td>0.011132</td>\n",
       "      <td>0.021653</td>\n",
       "      <td>0.013770</td>\n",
       "      <td>0.002792</td>\n",
       "      <td>0.010155</td>\n",
       "      <td>0.018753</td>\n",
       "      <td>0.029178</td>\n",
       "      <td>0.006035</td>\n",
       "      <td>0.023708</td>\n",
       "      <td>0.039139</td>\n",
       "    </tr>\n",
       "    <tr>\n",
       "      <th>TFIDFRecommender</th>\n",
       "      <td>0.015844</td>\n",
       "      <td>0.003811</td>\n",
       "      <td>0.011226</td>\n",
       "      <td>0.023071</td>\n",
       "      <td>0.014056</td>\n",
       "      <td>0.003195</td>\n",
       "      <td>0.010224</td>\n",
       "      <td>0.020040</td>\n",
       "      <td>0.029277</td>\n",
       "      <td>0.005309</td>\n",
       "      <td>0.023529</td>\n",
       "      <td>0.037929</td>\n",
       "    </tr>\n",
       "  </tbody>\n",
       "</table>\n",
       "</div>"
      ],
      "text/plain": [
       "metric_name                   MRR                                     MAP   \n",
       "                             mean       std       min       max      mean   \n",
       "model                                                                       \n",
       "AlternatingLeastSquares  0.005003  0.001139  0.003245  0.006931  0.004136  \\\n",
       "BM25Recommender          0.015761  0.003428  0.010862  0.022296  0.013909   \n",
       "CosineRecommender        0.015466  0.003430  0.011132  0.021653  0.013770   \n",
       "TFIDFRecommender         0.015844  0.003811  0.011226  0.023071  0.014056   \n",
       "\n",
       "metric_name                                           recall@10             \n",
       "                              std       min       max      mean       std   \n",
       "model                                                                       \n",
       "AlternatingLeastSquares  0.001083  0.003027  0.005788  0.010705  0.001767  \\\n",
       "BM25Recommender          0.002879  0.009243  0.018977  0.029273  0.004234   \n",
       "CosineRecommender        0.002792  0.010155  0.018753  0.029178  0.006035   \n",
       "TFIDFRecommender         0.003195  0.010224  0.020040  0.029277  0.005309   \n",
       "\n",
       "metric_name                                  \n",
       "                              min       max  \n",
       "model                                        \n",
       "AlternatingLeastSquares  0.008491  0.013732  \n",
       "BM25Recommender          0.024603  0.037113  \n",
       "CosineRecommender        0.023708  0.039139  \n",
       "TFIDFRecommender         0.023529  0.037929  "
      ]
     },
     "execution_count": 44,
     "metadata": {},
     "output_type": "execute_result"
    }
   ],
   "source": [
    "cross_valid_res.pivot(index=[\"fold\", \"model\"], columns=[\"metric_name\"], values=[\"value\"]).droplevel(level=0, axis=\"columns\").groupby(\"model\").agg(\n",
    "    {\n",
    "    \"MRR\": ['mean', 'std', 'min', 'max'],\n",
    "    'MAP': ['mean', 'std', 'min', 'max'],\n",
    "    f'recall@{top_N}': ['mean', 'std', 'min', 'max'],\n",
    "    }\n",
    ")"
   ]
  },
  {
   "cell_type": "code",
   "execution_count": 45,
   "metadata": {},
   "outputs": [
    {
     "data": {
      "text/plain": [
       "dict_keys(['CosineRecommender', 'BM25Recommender', 'TFIDFRecommender', 'AlternatingLeastSquares'])"
      ]
     },
     "execution_count": 45,
     "metadata": {},
     "output_type": "execute_result"
    }
   ],
   "source": [
    "models.keys()"
   ]
  },
  {
   "cell_type": "code",
   "execution_count": 46,
   "metadata": {},
   "outputs": [],
   "source": [
    "similiar_items = models[\"TFIDFRecommender\"].similiar_items([60193], top_N)"
   ]
  },
  {
   "cell_type": "code",
   "execution_count": 47,
   "metadata": {},
   "outputs": [],
   "source": [
    "similiar_items[\"orig_title\"] = similiar_items[\"item_id\"].map(item_titles.get)\n",
    "similiar_items[\"sim_titles\"] = similiar_items[\"similiar_item_id\"].map(item_titles.get)"
   ]
  },
  {
   "cell_type": "code",
   "execution_count": 48,
   "metadata": {},
   "outputs": [
    {
     "data": {
      "text/html": [
       "<div>\n",
       "<style scoped>\n",
       "    .dataframe tbody tr th:only-of-type {\n",
       "        vertical-align: middle;\n",
       "    }\n",
       "\n",
       "    .dataframe tbody tr th {\n",
       "        vertical-align: top;\n",
       "    }\n",
       "\n",
       "    .dataframe thead th {\n",
       "        text-align: right;\n",
       "    }\n",
       "</style>\n",
       "<table border=\"1\" class=\"dataframe\">\n",
       "  <thead>\n",
       "    <tr style=\"text-align: right;\">\n",
       "      <th></th>\n",
       "      <th>item_id</th>\n",
       "      <th>similiar_item_id</th>\n",
       "      <th>score</th>\n",
       "      <th>orig_title</th>\n",
       "      <th>sim_titles</th>\n",
       "    </tr>\n",
       "  </thead>\n",
       "  <tbody>\n",
       "    <tr>\n",
       "      <th>0</th>\n",
       "      <td>60193</td>\n",
       "      <td>60193</td>\n",
       "      <td>1.000000</td>\n",
       "      <td>мастер и маргарита</td>\n",
       "      <td>мастер и маргарита</td>\n",
       "    </tr>\n",
       "    <tr>\n",
       "      <th>1</th>\n",
       "      <td>60193</td>\n",
       "      <td>252228</td>\n",
       "      <td>0.085901</td>\n",
       "      <td>мастер и маргарита</td>\n",
       "      <td>мастер и маргарита (иллюстрированное издание)</td>\n",
       "    </tr>\n",
       "    <tr>\n",
       "      <th>2</th>\n",
       "      <td>60193</td>\n",
       "      <td>283431</td>\n",
       "      <td>0.057461</td>\n",
       "      <td>мастер и маргарита</td>\n",
       "      <td>мастер и маргарита краткий пересказ произведен...</td>\n",
       "    </tr>\n",
       "    <tr>\n",
       "      <th>3</th>\n",
       "      <td>60193</td>\n",
       "      <td>106146</td>\n",
       "      <td>0.038287</td>\n",
       "      <td>мастер и маргарита</td>\n",
       "      <td>без имени</td>\n",
       "    </tr>\n",
       "    <tr>\n",
       "      <th>4</th>\n",
       "      <td>60193</td>\n",
       "      <td>129959</td>\n",
       "      <td>0.034565</td>\n",
       "      <td>мастер и маргарита</td>\n",
       "      <td>белая гвардия. мастер и маргарита (иллюстриров...</td>\n",
       "    </tr>\n",
       "    <tr>\n",
       "      <th>5</th>\n",
       "      <td>60193</td>\n",
       "      <td>229856</td>\n",
       "      <td>0.033712</td>\n",
       "      <td>мастер и маргарита</td>\n",
       "      <td>булгаков и «маргарита», или история несчастной...</td>\n",
       "    </tr>\n",
       "    <tr>\n",
       "      <th>6</th>\n",
       "      <td>60193</td>\n",
       "      <td>284757</td>\n",
       "      <td>0.033223</td>\n",
       "      <td>мастер и маргарита</td>\n",
       "      <td>стори 11-2015</td>\n",
       "    </tr>\n",
       "    <tr>\n",
       "      <th>7</th>\n",
       "      <td>60193</td>\n",
       "      <td>214968</td>\n",
       "      <td>0.032520</td>\n",
       "      <td>мастер и маргарита</td>\n",
       "      <td>драгоценная плоть</td>\n",
       "    </tr>\n",
       "    <tr>\n",
       "      <th>8</th>\n",
       "      <td>60193</td>\n",
       "      <td>303726</td>\n",
       "      <td>0.031764</td>\n",
       "      <td>мастер и маргарита</td>\n",
       "      <td>ничего не возьму с собой</td>\n",
       "    </tr>\n",
       "    <tr>\n",
       "      <th>9</th>\n",
       "      <td>60193</td>\n",
       "      <td>9282</td>\n",
       "      <td>0.031390</td>\n",
       "      <td>мастер и маргарита</td>\n",
       "      <td>идущий на север. долина башен</td>\n",
       "    </tr>\n",
       "  </tbody>\n",
       "</table>\n",
       "</div>"
      ],
      "text/plain": [
       "   item_id  similiar_item_id     score          orig_title   \n",
       "0    60193             60193  1.000000  мастер и маргарита  \\\n",
       "1    60193            252228  0.085901  мастер и маргарита   \n",
       "2    60193            283431  0.057461  мастер и маргарита   \n",
       "3    60193            106146  0.038287  мастер и маргарита   \n",
       "4    60193            129959  0.034565  мастер и маргарита   \n",
       "5    60193            229856  0.033712  мастер и маргарита   \n",
       "6    60193            284757  0.033223  мастер и маргарита   \n",
       "7    60193            214968  0.032520  мастер и маргарита   \n",
       "8    60193            303726  0.031764  мастер и маргарита   \n",
       "9    60193              9282  0.031390  мастер и маргарита   \n",
       "\n",
       "                                          sim_titles  \n",
       "0                                 мастер и маргарита  \n",
       "1      мастер и маргарита (иллюстрированное издание)  \n",
       "2  мастер и маргарита краткий пересказ произведен...  \n",
       "3                                          без имени  \n",
       "4  белая гвардия. мастер и маргарита (иллюстриров...  \n",
       "5  булгаков и «маргарита», или история несчастной...  \n",
       "6                                      стори 11-2015  \n",
       "7                                  драгоценная плоть  \n",
       "8                           ничего не возьму с собой  \n",
       "9                      идущий на север. долина башен  "
      ]
     },
     "execution_count": 48,
     "metadata": {},
     "output_type": "execute_result"
    }
   ],
   "source": [
    "similiar_items"
   ]
  },
  {
   "attachments": {},
   "cell_type": "markdown",
   "metadata": {},
   "source": [
    "# LightFM"
   ]
  },
  {
   "cell_type": "code",
   "execution_count": 49,
   "metadata": {},
   "outputs": [],
   "source": [
    "dataset = Dataset()"
   ]
  },
  {
   "cell_type": "code",
   "execution_count": 50,
   "metadata": {},
   "outputs": [],
   "source": [
    "dataset.fit(df.index.get_level_values(\"user_id\").unique(), df.index.get_level_values(\"item_id\").unique())"
   ]
  },
  {
   "cell_type": "code",
   "execution_count": 51,
   "metadata": {},
   "outputs": [],
   "source": [
    "lfm_df_users = df_users.copy()\n",
    "lfm_df_items = df_items.copy()"
   ]
  },
  {
   "cell_type": "code",
   "execution_count": 52,
   "metadata": {},
   "outputs": [
    {
     "data": {
      "text/plain": [
       "['45_54', '18_24', '65_inf', '35_44', '55_64', '25_34', 'age_unknown']\n",
       "Categories (7, object): ['18_24', '25_34', '35_44', '45_54', '55_64', '65_inf', 'age_unknown']"
      ]
     },
     "execution_count": 52,
     "metadata": {},
     "output_type": "execute_result"
    }
   ],
   "source": [
    "lfm_df_users['age'] = lfm_df_users['age'].cat.add_categories('age_unknown')\n",
    "lfm_df_users['age'] = lfm_df_users['age'].fillna('age_unknown')\n",
    "age_features = lfm_df_users['age'].unique()\n",
    "age_features"
   ]
  },
  {
   "cell_type": "code",
   "execution_count": 53,
   "metadata": {},
   "outputs": [
    {
     "data": {
      "text/plain": [
       "array(['nan', '0.0', '1.0'], dtype=object)"
      ]
     },
     "execution_count": 53,
     "metadata": {},
     "output_type": "execute_result"
    }
   ],
   "source": [
    "lfm_df_users['sex'] = np.array(lfm_df_users['sex'].astype(str))\n",
    "lfm_df_users['sex'] = lfm_df_users['sex'].fillna('sex_unknown')\n",
    "sex_features = lfm_df_users['sex'].unique()\n",
    "sex_features"
   ]
  },
  {
   "cell_type": "code",
   "execution_count": 54,
   "metadata": {},
   "outputs": [
    {
     "data": {
      "text/plain": [
       "array(['45_54', '18_24', '65_inf', '35_44', '55_64', '25_34',\n",
       "       'age_unknown', 'nan', '0.0', '1.0'], dtype=object)"
      ]
     },
     "execution_count": 54,
     "metadata": {},
     "output_type": "execute_result"
    }
   ],
   "source": [
    "users_features = np.append(age_features, sex_features)\n",
    "users_features"
   ]
  },
  {
   "cell_type": "code",
   "execution_count": 55,
   "metadata": {},
   "outputs": [],
   "source": [
    "dataset.fit_partial(user_features=users_features)"
   ]
  },
  {
   "cell_type": "code",
   "execution_count": 56,
   "metadata": {},
   "outputs": [
    {
     "data": {
      "text/plain": [
       "641"
      ]
     },
     "execution_count": 56,
     "metadata": {},
     "output_type": "execute_result"
    }
   ],
   "source": [
    "lfm_df_items['genres'] = lfm_df_items['genres'].cat.add_categories('genre_unknown')\n",
    "lfm_df_items['genres'] = lfm_df_items['genres'].fillna('genre_unknown')\n",
    "genres = list(lfm_df_items['genres'].str.split(',').explode().unique())\n",
    "len(genres)"
   ]
  },
  {
   "cell_type": "code",
   "execution_count": 57,
   "metadata": {},
   "outputs": [],
   "source": [
    "dataset.fit_partial(item_features=genres)"
   ]
  },
  {
   "cell_type": "code",
   "execution_count": 58,
   "metadata": {},
   "outputs": [
    {
     "data": {
      "text/plain": [
       "(151600, 59599)"
      ]
     },
     "execution_count": 58,
     "metadata": {},
     "output_type": "execute_result"
    }
   ],
   "source": [
    "num_users, num_items = dataset.interactions_shape()\n",
    "num_users, num_items"
   ]
  },
  {
   "cell_type": "code",
   "execution_count": 59,
   "metadata": {},
   "outputs": [
    {
     "name": "stdout",
     "output_type": "stream",
     "text": [
      "users_mapping len -  151600\n",
      "user_features_mapping len -  151610\n",
      "items_mapping len -  59599\n",
      "Users item_features_mapping len -  60240\n"
     ]
    }
   ],
   "source": [
    "lightfm_mapping = dataset.mapping()\n",
    "lightfm_mapping = {\n",
    "    'users_mapping': lightfm_mapping[0],\n",
    "    'user_features_mapping': lightfm_mapping[1],\n",
    "    'items_mapping': lightfm_mapping[2],\n",
    "    'item_features_mapping': lightfm_mapping[3],\n",
    "}\n",
    "print('users_mapping len - ', len(lightfm_mapping['users_mapping']))\n",
    "print('user_features_mapping len - ', len(lightfm_mapping['user_features_mapping']))\n",
    "print('items_mapping len - ', len(lightfm_mapping['items_mapping']))\n",
    "print('Users item_features_mapping len - ', len(lightfm_mapping['item_features_mapping']))"
   ]
  },
  {
   "cell_type": "code",
   "execution_count": 60,
   "metadata": {},
   "outputs": [],
   "source": [
    "lightfm_mapping['users_inv_mapping'] = {v: k for k, v in lightfm_mapping['users_mapping'].items()}\n",
    "lightfm_mapping['items_inv_mapping'] = {v: k for k, v in lightfm_mapping['items_mapping'].items()}"
   ]
  },
  {
   "cell_type": "code",
   "execution_count": 61,
   "metadata": {},
   "outputs": [
    {
     "name": "stdout",
     "output_type": "stream",
     "text": [
      "Num user features: 10 -> 151610\n",
      "num item features: 641 -> 60240.\n"
     ]
    }
   ],
   "source": [
    "num_user_features = dataset.user_features_shape()\n",
    "num_show_features = dataset.item_features_shape()\n",
    "print('Num user features: {} -> {}\\nnum item features: {} -> {}.'.format(\n",
    "    num_user_features[1] - num_users, num_user_features[1], \n",
    "    num_show_features[1] - num_items, num_show_features[1]))"
   ]
  },
  {
   "cell_type": "code",
   "execution_count": 62,
   "metadata": {},
   "outputs": [],
   "source": [
    "train_idx, test_idx, info = folds_with_stats[0]\n",
    "\n",
    "train = df.loc[train_idx]\n",
    "test = df.loc[test_idx]"
   ]
  },
  {
   "cell_type": "code",
   "execution_count": 63,
   "metadata": {},
   "outputs": [
    {
     "data": {
      "text/plain": [
       "<151600x59599 sparse matrix of type '<class 'numpy.int32'>'\n",
       "\twith 1515946 stored elements in COOrdinate format>"
      ]
     },
     "execution_count": 63,
     "metadata": {},
     "output_type": "execute_result"
    }
   ],
   "source": [
    "train_mat, train_mat_weights = dataset.build_interactions(train.index)\n",
    "train_mat"
   ]
  },
  {
   "cell_type": "code",
   "execution_count": 64,
   "metadata": {},
   "outputs": [
    {
     "data": {
      "text/plain": [
       "<151600x59599 sparse matrix of type '<class 'numpy.float32'>'\n",
       "\twith 1515946 stored elements in COOrdinate format>"
      ]
     },
     "execution_count": 64,
     "metadata": {},
     "output_type": "execute_result"
    }
   ],
   "source": [
    "train_mat_weights"
   ]
  },
  {
   "cell_type": "code",
   "execution_count": 65,
   "metadata": {},
   "outputs": [
    {
     "data": {
      "text/html": [
       "<div>\n",
       "<style scoped>\n",
       "    .dataframe tbody tr th:only-of-type {\n",
       "        vertical-align: middle;\n",
       "    }\n",
       "\n",
       "    .dataframe tbody tr th {\n",
       "        vertical-align: top;\n",
       "    }\n",
       "\n",
       "    .dataframe thead th {\n",
       "        text-align: right;\n",
       "    }\n",
       "</style>\n",
       "<table border=\"1\" class=\"dataframe\">\n",
       "  <thead>\n",
       "    <tr style=\"text-align: right;\">\n",
       "      <th></th>\n",
       "      <th>age</th>\n",
       "      <th>sex</th>\n",
       "      <th>features</th>\n",
       "    </tr>\n",
       "    <tr>\n",
       "      <th>user_id</th>\n",
       "      <th></th>\n",
       "      <th></th>\n",
       "      <th></th>\n",
       "    </tr>\n",
       "  </thead>\n",
       "  <tbody>\n",
       "    <tr>\n",
       "      <th>1</th>\n",
       "      <td>45_54</td>\n",
       "      <td>nan</td>\n",
       "      <td>[45_54, nan]</td>\n",
       "    </tr>\n",
       "    <tr>\n",
       "      <th>2</th>\n",
       "      <td>18_24</td>\n",
       "      <td>0.0</td>\n",
       "      <td>[18_24, 0.0]</td>\n",
       "    </tr>\n",
       "    <tr>\n",
       "      <th>3</th>\n",
       "      <td>65_inf</td>\n",
       "      <td>0.0</td>\n",
       "      <td>[65_inf, 0.0]</td>\n",
       "    </tr>\n",
       "    <tr>\n",
       "      <th>4</th>\n",
       "      <td>18_24</td>\n",
       "      <td>0.0</td>\n",
       "      <td>[18_24, 0.0]</td>\n",
       "    </tr>\n",
       "    <tr>\n",
       "      <th>5</th>\n",
       "      <td>35_44</td>\n",
       "      <td>0.0</td>\n",
       "      <td>[35_44, 0.0]</td>\n",
       "    </tr>\n",
       "  </tbody>\n",
       "</table>\n",
       "</div>"
      ],
      "text/plain": [
       "            age  sex       features\n",
       "user_id                            \n",
       "1         45_54  nan   [45_54, nan]\n",
       "2         18_24  0.0   [18_24, 0.0]\n",
       "3        65_inf  0.0  [65_inf, 0.0]\n",
       "4         18_24  0.0   [18_24, 0.0]\n",
       "5         35_44  0.0   [35_44, 0.0]"
      ]
     },
     "execution_count": 65,
     "metadata": {},
     "output_type": "execute_result"
    }
   ],
   "source": [
    "lfm_df_users['features'] = lfm_df_users[['age', 'sex']].astype(str).apply(lambda x: list(x), axis=1)\n",
    "lfm_df_users.head()"
   ]
  },
  {
   "cell_type": "code",
   "execution_count": 66,
   "metadata": {},
   "outputs": [
    {
     "data": {
      "text/plain": [
       "<151600x151610 sparse matrix of type '<class 'numpy.float32'>'\n",
       "\twith 422954 stored elements in Compressed Sparse Row format>"
      ]
     },
     "execution_count": 66,
     "metadata": {},
     "output_type": "execute_result"
    }
   ],
   "source": [
    "known_users_mask = lfm_df_users.index.get_level_values(\"user_id\").isin(df.index.get_level_values(\"user_id\").unique())\n",
    "\n",
    "train_user_features = dataset.build_user_features(\n",
    "    lfm_df_users.loc[known_users_mask]['features'].items()\n",
    ")\n",
    "train_user_features"
   ]
  },
  {
   "cell_type": "code",
   "execution_count": 67,
   "metadata": {},
   "outputs": [
    {
     "data": {
      "text/html": [
       "<div>\n",
       "<style scoped>\n",
       "    .dataframe tbody tr th:only-of-type {\n",
       "        vertical-align: middle;\n",
       "    }\n",
       "\n",
       "    .dataframe tbody tr th {\n",
       "        vertical-align: top;\n",
       "    }\n",
       "\n",
       "    .dataframe thead th {\n",
       "        text-align: right;\n",
       "    }\n",
       "</style>\n",
       "<table border=\"1\" class=\"dataframe\">\n",
       "  <thead>\n",
       "    <tr style=\"text-align: right;\">\n",
       "      <th></th>\n",
       "      <th>title</th>\n",
       "      <th>genres</th>\n",
       "      <th>authors</th>\n",
       "      <th>year</th>\n",
       "      <th>features</th>\n",
       "    </tr>\n",
       "    <tr>\n",
       "      <th>item_id</th>\n",
       "      <th></th>\n",
       "      <th></th>\n",
       "      <th></th>\n",
       "      <th></th>\n",
       "      <th></th>\n",
       "    </tr>\n",
       "  </thead>\n",
       "  <tbody>\n",
       "    <tr>\n",
       "      <th>128115</th>\n",
       "      <td>ворон-челобитчик</td>\n",
       "      <td>Зарубежные детские книги,Сказки,Зарубежная кла...</td>\n",
       "      <td>Михаил Салтыков-Щедрин</td>\n",
       "      <td>1886</td>\n",
       "      <td>[Зарубежные детские книги, Сказки, Зарубежная ...</td>\n",
       "    </tr>\n",
       "    <tr>\n",
       "      <th>210979</th>\n",
       "      <td>скрипка ротшильда</td>\n",
       "      <td>Классическая проза,Литература 19 века,Русская ...</td>\n",
       "      <td>Антон Чехов</td>\n",
       "      <td>1894</td>\n",
       "      <td>[Классическая проза, Литература 19 века, Русск...</td>\n",
       "    </tr>\n",
       "    <tr>\n",
       "      <th>95632</th>\n",
       "      <td>испорченные дети</td>\n",
       "      <td>Зарубежная классика,Классическая проза,Литерат...</td>\n",
       "      <td>Михаил Салтыков-Щедрин</td>\n",
       "      <td>1869</td>\n",
       "      <td>[Зарубежная классика, Классическая проза, Лите...</td>\n",
       "    </tr>\n",
       "    <tr>\n",
       "      <th>247906</th>\n",
       "      <td>странный человек</td>\n",
       "      <td>Пьесы и драматургия,Литература 19 века</td>\n",
       "      <td>Михаил Лермонтов</td>\n",
       "      <td>1831</td>\n",
       "      <td>[Пьесы и драматургия, Литература 19 века]</td>\n",
       "    </tr>\n",
       "    <tr>\n",
       "      <th>294280</th>\n",
       "      <td>господа ташкентцы</td>\n",
       "      <td>Зарубежная классика,Классическая проза,Литерат...</td>\n",
       "      <td>Михаил Салтыков-Щедрин</td>\n",
       "      <td>1873</td>\n",
       "      <td>[Зарубежная классика, Классическая проза, Лите...</td>\n",
       "    </tr>\n",
       "  </tbody>\n",
       "</table>\n",
       "</div>"
      ],
      "text/plain": [
       "                     title                                             genres   \n",
       "item_id                                                                         \n",
       "128115    ворон-челобитчик  Зарубежные детские книги,Сказки,Зарубежная кла...  \\\n",
       "210979   скрипка ротшильда  Классическая проза,Литература 19 века,Русская ...   \n",
       "95632     испорченные дети  Зарубежная классика,Классическая проза,Литерат...   \n",
       "247906    странный человек             Пьесы и драматургия,Литература 19 века   \n",
       "294280   господа ташкентцы  Зарубежная классика,Классическая проза,Литерат...   \n",
       "\n",
       "                        authors  year   \n",
       "item_id                                 \n",
       "128115   Михаил Салтыков-Щедрин  1886  \\\n",
       "210979              Антон Чехов  1894   \n",
       "95632    Михаил Салтыков-Щедрин  1869   \n",
       "247906         Михаил Лермонтов  1831   \n",
       "294280   Михаил Салтыков-Щедрин  1873   \n",
       "\n",
       "                                                  features  \n",
       "item_id                                                     \n",
       "128115   [Зарубежные детские книги, Сказки, Зарубежная ...  \n",
       "210979   [Классическая проза, Литература 19 века, Русск...  \n",
       "95632    [Зарубежная классика, Классическая проза, Лите...  \n",
       "247906           [Пьесы и драматургия, Литература 19 века]  \n",
       "294280   [Зарубежная классика, Классическая проза, Лите...  "
      ]
     },
     "execution_count": 67,
     "metadata": {},
     "output_type": "execute_result"
    }
   ],
   "source": [
    "lfm_df_items['features'] = lfm_df_items['genres'].str.split(',')\n",
    "lfm_df_items.head()"
   ]
  },
  {
   "cell_type": "code",
   "execution_count": 68,
   "metadata": {},
   "outputs": [
    {
     "data": {
      "text/plain": [
       "features\n",
       "2     20734\n",
       "1     20172\n",
       "3     12699\n",
       "4      4248\n",
       "5      1074\n",
       "6       373\n",
       "7       146\n",
       "8        74\n",
       "9        34\n",
       "10       22\n",
       "11       12\n",
       "13        6\n",
       "12        2\n",
       "17        2\n",
       "16        1\n",
       "Name: count, dtype: int64"
      ]
     },
     "execution_count": 68,
     "metadata": {},
     "output_type": "execute_result"
    }
   ],
   "source": [
    "lfm_df_items['features'].map(len).value_counts(dropna=False)"
   ]
  },
  {
   "cell_type": "code",
   "execution_count": 69,
   "metadata": {},
   "outputs": [
    {
     "data": {
      "text/plain": [
       "<59599x60240 sparse matrix of type '<class 'numpy.float32'>'\n",
       "\twith 186360 stored elements in Compressed Sparse Row format>"
      ]
     },
     "execution_count": 69,
     "metadata": {},
     "output_type": "execute_result"
    }
   ],
   "source": [
    "known_items_mask = lfm_df_items.index.get_level_values('item_id').isin(df.index.get_level_values('item_id').unique())\n",
    "\n",
    "train_items_features = dataset.build_item_features(\n",
    "        lfm_df_items.loc[known_items_mask][\"features\"].items()\n",
    ")\n",
    "train_items_features"
   ]
  },
  {
   "cell_type": "code",
   "execution_count": 70,
   "metadata": {},
   "outputs": [],
   "source": [
    "lfm_model = LightFM(no_components=64, learning_rate=0.05, loss='warp', max_sampled=5, random_state=23)"
   ]
  },
  {
   "cell_type": "code",
   "execution_count": 71,
   "metadata": {},
   "outputs": [
    {
     "data": {
      "application/vnd.jupyter.widget-view+json": {
       "model_id": "b8d9f76ab40e480c808681d35b858271",
       "version_major": 2,
       "version_minor": 0
      },
      "text/plain": [
       "  0%|          | 0/5 [00:00<?, ?it/s]"
      ]
     },
     "metadata": {},
     "output_type": "display_data"
    }
   ],
   "source": [
    "num_epochs = 5\n",
    "\n",
    "for _ in trange(num_epochs):\n",
    "    lfm_model.fit_partial(\n",
    "        train_mat, \n",
    "        user_features=train_user_features,\n",
    "        item_features=train_items_features,\n",
    "        num_threads=4\n",
    "    )"
   ]
  },
  {
   "cell_type": "code",
   "execution_count": 72,
   "metadata": {},
   "outputs": [
    {
     "name": "stdout",
     "output_type": "stream",
     "text": [
      "Рекомендации для пользователя 139942, номер строки - 10346\n"
     ]
    }
   ],
   "source": [
    "user_id = test.index.get_level_values(\"user_id\")[0]\n",
    "row_id = lightfm_mapping['users_mapping'][user_id]\n",
    "print(f'Рекомендации для пользователя {user_id}, номер строки - {row_id}')"
   ]
  },
  {
   "cell_type": "code",
   "execution_count": 73,
   "metadata": {},
   "outputs": [
    {
     "data": {
      "text/plain": [
       "59599"
      ]
     },
     "execution_count": 73,
     "metadata": {},
     "output_type": "execute_result"
    }
   ],
   "source": [
    "all_cols = list(lightfm_mapping['items_mapping'].values())\n",
    "len(all_cols)"
   ]
  },
  {
   "cell_type": "code",
   "execution_count": 74,
   "metadata": {},
   "outputs": [
    {
     "data": {
      "text/plain": [
       "(array([-101.566025, -102.206276, -102.384476, ..., -102.99845 ,\n",
       "        -102.82235 , -102.66293 ], dtype=float32),\n",
       " (59599,))"
      ]
     },
     "execution_count": 74,
     "metadata": {},
     "output_type": "execute_result"
    }
   ],
   "source": [
    "pred = lfm_model.predict(row_id, all_cols, user_features=train_user_features, item_features=train_items_features)\n",
    "pred, pred.shape"
   ]
  },
  {
   "cell_type": "code",
   "execution_count": 75,
   "metadata": {},
   "outputs": [
    {
     "data": {
      "text/plain": [
       "array([ 4681,  1833, 27841,  4059,   684,   465,  1075,  1258,   443,\n",
       "       30764])"
      ]
     },
     "execution_count": 75,
     "metadata": {},
     "output_type": "execute_result"
    }
   ],
   "source": [
    "top_cols = np.argpartition(pred, -np.arange(top_N))[-top_N:][::-1]\n",
    "top_cols"
   ]
  },
  {
   "cell_type": "code",
   "execution_count": 76,
   "metadata": {},
   "outputs": [
    {
     "data": {
      "text/plain": [
       "array([-98.23288 , -98.570274, -98.675674, -98.68404 , -98.8119  ,\n",
       "       -98.81601 , -98.81661 , -98.83992 , -98.84854 , -98.87332 ],\n",
       "      dtype=float32)"
      ]
     },
     "execution_count": 76,
     "metadata": {},
     "output_type": "execute_result"
    }
   ],
   "source": [
    "pred[top_cols]"
   ]
  },
  {
   "cell_type": "code",
   "execution_count": 77,
   "metadata": {},
   "outputs": [
    {
     "data": {
      "text/plain": [
       "-98.23288"
      ]
     },
     "execution_count": 77,
     "metadata": {},
     "output_type": "execute_result"
    }
   ],
   "source": [
    "pred.max()"
   ]
  },
  {
   "cell_type": "code",
   "execution_count": 78,
   "metadata": {},
   "outputs": [
    {
     "data": {
      "text/html": [
       "<div>\n",
       "<style scoped>\n",
       "    .dataframe tbody tr th:only-of-type {\n",
       "        vertical-align: middle;\n",
       "    }\n",
       "\n",
       "    .dataframe tbody tr th {\n",
       "        vertical-align: top;\n",
       "    }\n",
       "\n",
       "    .dataframe thead th {\n",
       "        text-align: right;\n",
       "    }\n",
       "</style>\n",
       "<table border=\"1\" class=\"dataframe\">\n",
       "  <thead>\n",
       "    <tr style=\"text-align: right;\">\n",
       "      <th></th>\n",
       "      <th>col_id</th>\n",
       "      <th>item_id</th>\n",
       "      <th>title</th>\n",
       "    </tr>\n",
       "  </thead>\n",
       "  <tbody>\n",
       "    <tr>\n",
       "      <th>0</th>\n",
       "      <td>4681</td>\n",
       "      <td>99357</td>\n",
       "      <td>сила подсознания, или как изменить жизнь за 4 ...</td>\n",
       "    </tr>\n",
       "    <tr>\n",
       "      <th>1</th>\n",
       "      <td>1833</td>\n",
       "      <td>281005</td>\n",
       "      <td>богатый папа, бедный папа. роберт кийосаки (об...</td>\n",
       "    </tr>\n",
       "    <tr>\n",
       "      <th>2</th>\n",
       "      <td>27841</td>\n",
       "      <td>211217</td>\n",
       "      <td>ни сы. восточная мудрость, которая гласит: буд...</td>\n",
       "    </tr>\n",
       "    <tr>\n",
       "      <th>3</th>\n",
       "      <td>4059</td>\n",
       "      <td>90519</td>\n",
       "      <td>думай медленно… решай быстро</td>\n",
       "    </tr>\n",
       "    <tr>\n",
       "      <th>4</th>\n",
       "      <td>684</td>\n",
       "      <td>308529</td>\n",
       "      <td>игра престолов. часть i</td>\n",
       "    </tr>\n",
       "    <tr>\n",
       "      <th>5</th>\n",
       "      <td>465</td>\n",
       "      <td>58803</td>\n",
       "      <td>ведьмак</td>\n",
       "    </tr>\n",
       "    <tr>\n",
       "      <th>6</th>\n",
       "      <td>1075</td>\n",
       "      <td>24551</td>\n",
       "      <td>магическая уборка. японское искусство наведени...</td>\n",
       "    </tr>\n",
       "    <tr>\n",
       "      <th>7</th>\n",
       "      <td>1258</td>\n",
       "      <td>89152</td>\n",
       "      <td>50 правил умной дуры</td>\n",
       "    </tr>\n",
       "    <tr>\n",
       "      <th>8</th>\n",
       "      <td>443</td>\n",
       "      <td>26963</td>\n",
       "      <td>шантарам</td>\n",
       "    </tr>\n",
       "    <tr>\n",
       "      <th>9</th>\n",
       "      <td>30764</td>\n",
       "      <td>32603</td>\n",
       "      <td>игра престолов</td>\n",
       "    </tr>\n",
       "  </tbody>\n",
       "</table>\n",
       "</div>"
      ],
      "text/plain": [
       "   col_id  item_id                                              title\n",
       "0    4681    99357  сила подсознания, или как изменить жизнь за 4 ...\n",
       "1    1833   281005  богатый папа, бедный папа. роберт кийосаки (об...\n",
       "2   27841   211217  ни сы. восточная мудрость, которая гласит: буд...\n",
       "3    4059    90519                       думай медленно… решай быстро\n",
       "4     684   308529                            игра престолов. часть i\n",
       "5     465    58803                                            ведьмак\n",
       "6    1075    24551  магическая уборка. японское искусство наведени...\n",
       "7    1258    89152                               50 правил умной дуры\n",
       "8     443    26963                                           шантарам\n",
       "9   30764    32603                                     игра престолов"
      ]
     },
     "execution_count": 78,
     "metadata": {},
     "output_type": "execute_result"
    }
   ],
   "source": [
    "recs = pd.DataFrame({'col_id': top_cols})\n",
    "recs['item_id'] = recs['col_id'].map(lightfm_mapping['items_inv_mapping'].get)\n",
    "recs['title'] = recs['item_id'].map(item_titles.get)\n",
    "recs"
   ]
  },
  {
   "cell_type": "code",
   "execution_count": 79,
   "metadata": {},
   "outputs": [],
   "source": [
    "def create_lightfm():\n",
    "    return LightFMRecommender(\n",
    "        LightFM(\n",
    "            no_components=64, \n",
    "            learning_rate=0.05, \n",
    "            loss='warp', \n",
    "            max_sampled=5, \n",
    "            random_state=23),\n",
    "             num_epoch=15,\n",
    "             num_threads=4)"
   ]
  },
  {
   "cell_type": "code",
   "execution_count": 90,
   "metadata": {},
   "outputs": [
    {
     "data": {
      "application/vnd.jupyter.widget-view+json": {
       "model_id": "1405a0d88b154f3a947d0954bedf3882",
       "version_major": 2,
       "version_minor": 0
      },
      "text/plain": [
       "  0%|          | 0/7 [00:00<?, ?it/s]"
      ]
     },
     "metadata": {},
     "output_type": "display_data"
    }
   ],
   "source": [
    "for factory in (create_lightfm, ):\n",
    "    cross_valid_res_model, model = model_cross_validate(\n",
    "        df, \n",
    "        user_features=df_users, \n",
    "        item_features=df_items, \n",
    "        folds=folds_with_stats, \n",
    "        model_factory=factory, \n",
    "        n=top_N)\n",
    "    models[model.model_name()] = model\n",
    "    cv_res_per_model.append(cross_valid_res_model)\n",
    "    del cross_valid_res_model"
   ]
  },
  {
   "cell_type": "code",
   "execution_count": 91,
   "metadata": {},
   "outputs": [],
   "source": [
    "cross_valid_res = pd.concat([cross_valid_res] + cv_res_per_model)\n",
    "cv_res_per_model.clear()"
   ]
  },
  {
   "cell_type": "code",
   "execution_count": 92,
   "metadata": {},
   "outputs": [
    {
     "data": {
      "image/png": "[encoded data removed]",
      "text/plain": [
       "<Figure size 640x480 with 1 Axes>"
      ]
     },
     "metadata": {},
     "output_type": "display_data"
    }
   ],
   "source": [
    "ax = sns.scatterplot(cross_valid_res[cross_valid_res[\"metric_name\"].isin([\"MAP\", \"MRR\"])], x=\"fold\", y=\"value\", style=\"metric_name\", hue=\"model\")\n",
    "sns.move_legend(ax, \"upper left\", bbox_to_anchor=(1, 1))"
   ]
  },
  {
   "cell_type": "code",
   "execution_count": null,
   "metadata": {},
   "outputs": [],
   "source": []
  }
 ],
 "metadata": {
  "kernelspec": {
   "display_name": "recsys-l1-metrics",
   "language": "python",
   "name": "python3"
  },
  "language_info": {
   "codemirror_mode": {
    "name": "ipython",
    "version": 3
   },
   "file_extension": ".py",
   "mimetype": "text/x-python",
   "name": "python",
   "nbconvert_exporter": "python",
   "pygments_lexer": "ipython3",
   "version": "3.10.11"
  },
  "orig_nbformat": 4
 },
 "nbformat": 4,
 "nbformat_minor": 2
}
