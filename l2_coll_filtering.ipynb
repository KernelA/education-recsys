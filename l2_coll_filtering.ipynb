{
 "cells": [
  {
   "attachments": {},
   "cell_type": "markdown",
   "metadata": {},
   "source": [
    "[Оригинальный notebook](https://www.kaggle.com/code/sharthz23/implicit-lightfm/notebook)\n",
    "\n",
    "Не все результаты совпадают т. к. используются некоторые модификации в обработке признаков"
   ]
  },
  {
   "cell_type": "code",
   "execution_count": 237,
   "metadata": {},
   "outputs": [],
   "source": [
    "import os\n",
    "import datetime\n",
    "\n",
    "import seaborn as sns\n",
    "import pandas as pd\n",
    "import numpy as np\n",
    "from tqdm.auto import tqdm, trange\n",
    "from implicit.nearest_neighbours import CosineRecommender, BM25Recommender, TFIDFRecommender\n",
    "from implicit.als import AlternatingLeastSquares\n",
    "from implicit import gpu\n",
    "from lightfm.data import Dataset\n",
    "from lightfm import LightFM\n",
    "import polars as pl"
   ]
  },
  {
   "attachments": {},
   "cell_type": "markdown",
   "metadata": {},
   "source": [
    "Implicit ALS с GPU:"
   ]
  },
  {
   "cell_type": "code",
   "execution_count": 144,
   "metadata": {},
   "outputs": [
    {
     "data": {
      "text/plain": [
       "True"
      ]
     },
     "execution_count": 144,
     "metadata": {},
     "output_type": "execute_result"
    }
   ],
   "source": [
    "gpu.HAS_CUDA"
   ]
  },
  {
   "cell_type": "code",
   "execution_count": 145,
   "metadata": {},
   "outputs": [],
   "source": [
    "sns.set_style(\"darkgrid\")"
   ]
  },
  {
   "cell_type": "code",
   "execution_count": 146,
   "metadata": {},
   "outputs": [
    {
     "name": "stdout",
     "output_type": "stream",
     "text": [
      "The autoreload extension is already loaded. To reload it, use:\n",
      "  %reload_ext autoreload\n"
     ]
    }
   ],
   "source": [
    "%load_ext autoreload\n",
    "%autoreload 2\n",
    "\n",
    "from recs_utils.metrics import compute_metrics, model_cross_validate\n",
    "from recs_utils.load_data import MTSDataset\n",
    "from recs_utils.split import TimeRangeSplit\n",
    "from recs_utils.implicit_model import ImplicitRecommender, LightFMRecommender\n",
    "from recs_utils.utils import get_direct_and_inv_mapping"
   ]
  },
  {
   "attachments": {},
   "cell_type": "markdown",
   "metadata": {},
   "source": [
    "# Подготовка данных"
   ]
  },
  {
   "cell_type": "code",
   "execution_count": 147,
   "metadata": {},
   "outputs": [],
   "source": [
    "data_dir = \"data\""
   ]
  },
  {
   "cell_type": "code",
   "execution_count": 148,
   "metadata": {},
   "outputs": [],
   "source": [
    "df = MTSDataset.load_interactions(os.path.join(data_dir, \"interactions.csv\"))\n",
    "df_users = MTSDataset.load_users(os.path.join(data_dir, \"users.csv\"))\n",
    "df_items = MTSDataset.load_items(os.path.join(data_dir, \"items.csv\"))"
   ]
  },
  {
   "cell_type": "code",
   "execution_count": 149,
   "metadata": {},
   "outputs": [],
   "source": [
    "df_items = MTSDataset.select_genres(df_items, 0.98)"
   ]
  },
  {
   "cell_type": "code",
   "execution_count": 150,
   "metadata": {},
   "outputs": [
    {
     "data": {
      "text/html": [
       "<div><style>\n",
       ".dataframe > thead > tr > th,\n",
       ".dataframe > tbody > tr > td {\n",
       "  text-align: right;\n",
       "}\n",
       "</style>\n",
       "<small>shape: (5, 5)</small><table border=\"1\" class=\"dataframe\"><thead><tr><th>item_id</th><th>title</th><th>genres</th><th>authors</th><th>year</th></tr><tr><td>u32</td><td>str</td><td>str</td><td>cat</td><td>cat</td></tr></thead><tbody><tr><td>128115</td><td>&quot;ворон-челобитч…</td><td>&quot;зарубежная кла…</td><td>&quot;Михаил Салтыко…</td><td>&quot;1886&quot;</td></tr><tr><td>210979</td><td>&quot;скрипка ротшил…</td><td>&quot;классическая п…</td><td>&quot;Антон Чехов&quot;</td><td>&quot;1894&quot;</td></tr><tr><td>95632</td><td>&quot;испорченные де…</td><td>&quot;зарубежная кла…</td><td>&quot;Михаил Салтыко…</td><td>&quot;1869&quot;</td></tr><tr><td>247906</td><td>&quot;странный челов…</td><td>&quot;литература 19 …</td><td>&quot;Михаил Лермонт…</td><td>&quot;1831&quot;</td></tr><tr><td>294280</td><td>&quot;господа ташкен…</td><td>&quot;зарубежная кла…</td><td>&quot;Михаил Салтыко…</td><td>&quot;1873&quot;</td></tr></tbody></table></div>"
      ],
      "text/plain": [
       "shape: (5, 5)\n",
       "┌─────────┬───────────────────┬───────────────────────────────────┬────────────────────────┬──────┐\n",
       "│ item_id ┆ title             ┆ genres                            ┆ authors                ┆ year │\n",
       "│ ---     ┆ ---               ┆ ---                               ┆ ---                    ┆ ---  │\n",
       "│ u32     ┆ str               ┆ str                               ┆ cat                    ┆ cat  │\n",
       "╞═════════╪═══════════════════╪═══════════════════════════════════╪════════════════════════╪══════╡\n",
       "│ 128115  ┆ ворон-челобитчик  ┆ зарубежная классика,зарубежные д… ┆ Михаил Салтыков-Щедрин ┆ 1886 │\n",
       "│ 210979  ┆ скрипка ротшильда ┆ классическая проза,литература 19… ┆ Антон Чехов            ┆ 1894 │\n",
       "│ 95632   ┆ испорченные дети  ┆ зарубежная классика,классическая… ┆ Михаил Салтыков-Щедрин ┆ 1869 │\n",
       "│ 247906  ┆ странный человек  ┆ литература 19 века,пьесы и драма… ┆ Михаил Лермонтов       ┆ 1831 │\n",
       "│ 294280  ┆ господа ташкентцы ┆ зарубежная классика,классическая… ┆ Михаил Салтыков-Щедрин ┆ 1873 │\n",
       "└─────────┴───────────────────┴───────────────────────────────────┴────────────────────────┴──────┘"
      ]
     },
     "execution_count": 150,
     "metadata": {},
     "output_type": "execute_result"
    }
   ],
   "source": [
    "df_items.head()"
   ]
  },
  {
   "cell_type": "code",
   "execution_count": 151,
   "metadata": {},
   "outputs": [
    {
     "data": {
      "text/plain": [
       "151600"
      ]
     },
     "execution_count": 151,
     "metadata": {},
     "output_type": "execute_result"
    }
   ],
   "source": [
    "users_mapping, users_inv_mapping = get_direct_and_inv_mapping(df, \"user_id\")\n",
    "len(users_mapping)"
   ]
  },
  {
   "cell_type": "code",
   "execution_count": 152,
   "metadata": {},
   "outputs": [
    {
     "data": {
      "text/plain": [
       "59599"
      ]
     },
     "execution_count": 152,
     "metadata": {},
     "output_type": "execute_result"
    }
   ],
   "source": [
    "items_mapping, items_inv_mapping = get_direct_and_inv_mapping(df, \"item_id\")\n",
    "len(items_mapping)"
   ]
  },
  {
   "cell_type": "code",
   "execution_count": 153,
   "metadata": {},
   "outputs": [],
   "source": [
    "df_items = df_items.with_columns(pl.col(\"title\").str.strip().str.to_lowercase().alias(\"title\"))"
   ]
  },
  {
   "cell_type": "code",
   "execution_count": 154,
   "metadata": {},
   "outputs": [],
   "source": [
    "item_titles = {item_info[\"item_id\"]: item_info[\"title\"] for item_info in df_items.select(pl.col(\"item_id\"), pl.col(\"title\")).unique().to_dicts()}"
   ]
  },
  {
   "cell_type": "code",
   "execution_count": 155,
   "metadata": {},
   "outputs": [
    {
     "data": {
      "text/plain": [
       "(59599, 'ворон-челобитчик')"
      ]
     },
     "execution_count": 155,
     "metadata": {},
     "output_type": "execute_result"
    }
   ],
   "source": [
    "len(item_titles), item_titles[128115]"
   ]
  },
  {
   "cell_type": "code",
   "execution_count": 156,
   "metadata": {},
   "outputs": [
    {
     "data": {
      "text/html": [
       "<div><style>\n",
       ".dataframe > thead > tr > th,\n",
       ".dataframe > tbody > tr > td {\n",
       "  text-align: right;\n",
       "}\n",
       "</style>\n",
       "<small>shape: (5, 5)</small><table border=\"1\" class=\"dataframe\"><thead><tr><th>item_id</th><th>title</th><th>genres</th><th>authors</th><th>year</th></tr><tr><td>u32</td><td>str</td><td>str</td><td>cat</td><td>cat</td></tr></thead><tbody><tr><td>128115</td><td>&quot;ворон-челобитч…</td><td>&quot;зарубежная кла…</td><td>&quot;Михаил Салтыко…</td><td>&quot;1886&quot;</td></tr><tr><td>210979</td><td>&quot;скрипка ротшил…</td><td>&quot;классическая п…</td><td>&quot;Антон Чехов&quot;</td><td>&quot;1894&quot;</td></tr><tr><td>95632</td><td>&quot;испорченные де…</td><td>&quot;зарубежная кла…</td><td>&quot;Михаил Салтыко…</td><td>&quot;1869&quot;</td></tr><tr><td>247906</td><td>&quot;странный челов…</td><td>&quot;литература 19 …</td><td>&quot;Михаил Лермонт…</td><td>&quot;1831&quot;</td></tr><tr><td>294280</td><td>&quot;господа ташкен…</td><td>&quot;зарубежная кла…</td><td>&quot;Михаил Салтыко…</td><td>&quot;1873&quot;</td></tr></tbody></table></div>"
      ],
      "text/plain": [
       "shape: (5, 5)\n",
       "┌─────────┬───────────────────┬───────────────────────────────────┬────────────────────────┬──────┐\n",
       "│ item_id ┆ title             ┆ genres                            ┆ authors                ┆ year │\n",
       "│ ---     ┆ ---               ┆ ---                               ┆ ---                    ┆ ---  │\n",
       "│ u32     ┆ str               ┆ str                               ┆ cat                    ┆ cat  │\n",
       "╞═════════╪═══════════════════╪═══════════════════════════════════╪════════════════════════╪══════╡\n",
       "│ 128115  ┆ ворон-челобитчик  ┆ зарубежная классика,зарубежные д… ┆ Михаил Салтыков-Щедрин ┆ 1886 │\n",
       "│ 210979  ┆ скрипка ротшильда ┆ классическая проза,литература 19… ┆ Антон Чехов            ┆ 1894 │\n",
       "│ 95632   ┆ испорченные дети  ┆ зарубежная классика,классическая… ┆ Михаил Салтыков-Щедрин ┆ 1869 │\n",
       "│ 247906  ┆ странный человек  ┆ литература 19 века,пьесы и драма… ┆ Михаил Лермонтов       ┆ 1831 │\n",
       "│ 294280  ┆ господа ташкентцы ┆ зарубежная классика,классическая… ┆ Михаил Салтыков-Щедрин ┆ 1873 │\n",
       "└─────────┴───────────────────┴───────────────────────────────────┴────────────────────────┴──────┘"
      ]
     },
     "execution_count": 156,
     "metadata": {},
     "output_type": "execute_result"
    }
   ],
   "source": [
    "df_items.head()"
   ]
  },
  {
   "cell_type": "code",
   "execution_count": 157,
   "metadata": {},
   "outputs": [],
   "source": [
    "title_items = df_items.sort(\"title\").select(\n",
    "    pl.col(\"title\"),\n",
    "    pl.col(\"item_id\").implode().over(\"title\"),\n",
    "    pl.count().over(\"title\")\n",
    ").unique(\"title\", maintain_order=True)"
   ]
  },
  {
   "cell_type": "code",
   "execution_count": 158,
   "metadata": {},
   "outputs": [
    {
     "data": {
      "text/html": [
       "<div><style>\n",
       ".dataframe > thead > tr > th,\n",
       ".dataframe > tbody > tr > td {\n",
       "  text-align: right;\n",
       "}\n",
       "</style>\n",
       "<small>shape: (4, 3)</small><table border=\"1\" class=\"dataframe\"><thead><tr><th>title</th><th>item_id</th><th>count</th></tr><tr><td>str</td><td>list[u32]</td><td>u32</td></tr></thead><tbody><tr><td>&quot;# 20 восьмая&quot;</td><td>[201623]</td><td>1</td></tr><tr><td>&quot;# duo&quot;</td><td>[72582]</td><td>1</td></tr><tr><td>&quot;# me too. рома…</td><td>[171172]</td><td>1</td></tr><tr><td>&quot;# партия&quot;</td><td>[224512]</td><td>1</td></tr></tbody></table></div>"
      ],
      "text/plain": [
       "shape: (4, 3)\n",
       "┌─────────────────┬───────────┬───────┐\n",
       "│ title           ┆ item_id   ┆ count │\n",
       "│ ---             ┆ ---       ┆ ---   │\n",
       "│ str             ┆ list[u32] ┆ u32   │\n",
       "╞═════════════════╪═══════════╪═══════╡\n",
       "│ # 20 восьмая    ┆ [201623]  ┆ 1     │\n",
       "│ # duo           ┆ [72582]   ┆ 1     │\n",
       "│ # me too. роман ┆ [171172]  ┆ 1     │\n",
       "│ # партия        ┆ [224512]  ┆ 1     │\n",
       "└─────────────────┴───────────┴───────┘"
      ]
     },
     "execution_count": 158,
     "metadata": {},
     "output_type": "execute_result"
    }
   ],
   "source": [
    "title_items.head(n=4)"
   ]
  },
  {
   "cell_type": "code",
   "execution_count": 159,
   "metadata": {},
   "outputs": [
    {
     "data": {
      "text/html": [
       "<div><style>\n",
       ".dataframe > thead > tr > th,\n",
       ".dataframe > tbody > tr > td {\n",
       "  text-align: right;\n",
       "}\n",
       "</style>\n",
       "<small>shape: (15, 1)</small><table border=\"1\" class=\"dataframe\"><thead><tr><th>count</th></tr><tr><td>struct[2]</td></tr></thead><tbody><tr><td>{1,55708}</td></tr><tr><td>{2,1197}</td></tr><tr><td>{3,245}</td></tr><tr><td>{4,71}</td></tr><tr><td>{5,38}</td></tr><tr><td>{6,11}</td></tr><tr><td>{7,8}</td></tr><tr><td>{8,3}</td></tr><tr><td>{9,2}</td></tr><tr><td>{18,1}</td></tr><tr><td>{11,1}</td></tr><tr><td>{13,1}</td></tr><tr><td>{23,1}</td></tr><tr><td>{12,1}</td></tr><tr><td>{47,1}</td></tr></tbody></table></div>"
      ],
      "text/plain": [
       "shape: (15, 1)\n",
       "┌───────────┐\n",
       "│ count     │\n",
       "│ ---       │\n",
       "│ struct[2] │\n",
       "╞═══════════╡\n",
       "│ {1,55708} │\n",
       "│ {2,1197}  │\n",
       "│ {3,245}   │\n",
       "│ {4,71}    │\n",
       "│ …         │\n",
       "│ {13,1}    │\n",
       "│ {23,1}    │\n",
       "│ {12,1}    │\n",
       "│ {47,1}    │\n",
       "└───────────┘"
      ]
     },
     "execution_count": 159,
     "metadata": {},
     "output_type": "execute_result"
    }
   ],
   "source": [
    "title_items.select(pl.col(\"count\").value_counts(sort=True))"
   ]
  },
  {
   "cell_type": "code",
   "execution_count": 160,
   "metadata": {},
   "outputs": [
    {
     "data": {
      "text/html": [
       "<div><style>\n",
       ".dataframe > thead > tr > th,\n",
       ".dataframe > tbody > tr > td {\n",
       "  text-align: right;\n",
       "}\n",
       "</style>\n",
       "<small>shape: (5, 3)</small><table border=\"1\" class=\"dataframe\"><thead><tr><th>title</th><th>item_id</th><th>count</th></tr><tr><td>str</td><td>list[u32]</td><td>u32</td></tr></thead><tbody><tr><td>&quot;яма&quot;</td><td>[60156, 165785]</td><td>2</td></tr><tr><td>&quot;янки из коннек…</td><td>[14759, 56530]</td><td>2</td></tr><tr><td>&quot;японская диета…</td><td>[168986, 74652]</td><td>2</td></tr><tr><td>&quot;яр&quot;</td><td>[168761, 5371]</td><td>2</td></tr><tr><td>&quot;ящик пандоры&quot;</td><td>[236465, 158851]</td><td>2</td></tr></tbody></table></div>"
      ],
      "text/plain": [
       "shape: (5, 3)\n",
       "┌───────────────────────────────────┬──────────────────┬───────┐\n",
       "│ title                             ┆ item_id          ┆ count │\n",
       "│ ---                               ┆ ---              ┆ ---   │\n",
       "│ str                               ┆ list[u32]        ┆ u32   │\n",
       "╞═══════════════════════════════════╪══════════════════╪═══════╡\n",
       "│ яма                               ┆ [60156, 165785]  ┆ 2     │\n",
       "│ янки из коннектикута при дворе к… ┆ [14759, 56530]   ┆ 2     │\n",
       "│ японская диета                    ┆ [168986, 74652]  ┆ 2     │\n",
       "│ яр                                ┆ [168761, 5371]   ┆ 2     │\n",
       "│ ящик пандоры                      ┆ [236465, 158851] ┆ 2     │\n",
       "└───────────────────────────────────┴──────────────────┴───────┘"
      ]
     },
     "execution_count": 160,
     "metadata": {},
     "output_type": "execute_result"
    }
   ],
   "source": [
    "title_items.filter(pl.col(\"count\") > 1).tail()"
   ]
  },
  {
   "cell_type": "code",
   "execution_count": 161,
   "metadata": {},
   "outputs": [
    {
     "data": {
      "text/html": [
       "<div><style>\n",
       ".dataframe > thead > tr > th,\n",
       ".dataframe > tbody > tr > td {\n",
       "  text-align: right;\n",
       "}\n",
       "</style>\n",
       "<small>shape: (2, 5)</small><table border=\"1\" class=\"dataframe\"><thead><tr><th>item_id</th><th>title</th><th>genres</th><th>authors</th><th>year</th></tr><tr><td>u32</td><td>str</td><td>str</td><td>cat</td><td>cat</td></tr></thead><tbody><tr><td>236465</td><td>&quot;ящик пандоры&quot;</td><td>&quot;любовно-фантас…</td><td>&quot;Филипп Хорват&quot;</td><td>&quot;2017&quot;</td></tr><tr><td>158851</td><td>&quot;ящик пандоры&quot;</td><td>&quot;мистика,соврем…</td><td>&quot;Бернар Вербер&quot;</td><td>&quot;2018&quot;</td></tr></tbody></table></div>"
      ],
      "text/plain": [
       "shape: (2, 5)\n",
       "┌─────────┬──────────────┬───────────────────────────────────┬───────────────┬──────┐\n",
       "│ item_id ┆ title        ┆ genres                            ┆ authors       ┆ year │\n",
       "│ ---     ┆ ---          ┆ ---                               ┆ ---           ┆ ---  │\n",
       "│ u32     ┆ str          ┆ str                               ┆ cat           ┆ cat  │\n",
       "╞═════════╪══════════════╪═══════════════════════════════════╪═══════════════╪══════╡\n",
       "│ 236465  ┆ ящик пандоры ┆ любовно-фантастические романы,на… ┆ Филипп Хорват ┆ 2017 │\n",
       "│ 158851  ┆ ящик пандоры ┆ мистика,современная зарубежная л… ┆ Бернар Вербер ┆ 2018 │\n",
       "└─────────┴──────────────┴───────────────────────────────────┴───────────────┴──────┘"
      ]
     },
     "execution_count": 161,
     "metadata": {},
     "output_type": "execute_result"
    }
   ],
   "source": [
    "df_items.filter(pl.col(\"title\") == \"ящик пандоры\")"
   ]
  },
  {
   "cell_type": "code",
   "execution_count": 162,
   "metadata": {},
   "outputs": [
    {
     "data": {
      "text/html": [
       "<div><style>\n",
       ".dataframe > thead > tr > th,\n",
       ".dataframe > tbody > tr > td {\n",
       "  text-align: right;\n",
       "}\n",
       "</style>\n",
       "<small>shape: (5, 3)</small><table border=\"1\" class=\"dataframe\"><thead><tr><th>title</th><th>item_id</th><th>count</th></tr><tr><td>str</td><td>list[u32]</td><td>u32</td></tr></thead><tbody><tr><td>&quot;(о переводе)&quot;</td><td>[61213, 145263]</td><td>2</td></tr><tr><td>&quot;2084&quot;</td><td>[177082, 281410]</td><td>2</td></tr><tr><td>&quot;451 градус по …</td><td>[44681, 162716]</td><td>2</td></tr><tr><td>&quot;playboy 02-201…</td><td>[114405, 8599]</td><td>2</td></tr><tr><td>&quot;playboy 03-201…</td><td>[31097, 121747]</td><td>2</td></tr></tbody></table></div>"
      ],
      "text/plain": [
       "shape: (5, 3)\n",
       "┌──────────────────────────┬──────────────────┬───────┐\n",
       "│ title                    ┆ item_id          ┆ count │\n",
       "│ ---                      ┆ ---              ┆ ---   │\n",
       "│ str                      ┆ list[u32]        ┆ u32   │\n",
       "╞══════════════════════════╪══════════════════╪═══════╡\n",
       "│ (о переводе)             ┆ [61213, 145263]  ┆ 2     │\n",
       "│ 2084                     ┆ [177082, 281410] ┆ 2     │\n",
       "│ 451 градус по фаренгейту ┆ [44681, 162716]  ┆ 2     │\n",
       "│ playboy 02-2018          ┆ [114405, 8599]   ┆ 2     │\n",
       "│ playboy 03-2018          ┆ [31097, 121747]  ┆ 2     │\n",
       "└──────────────────────────┴──────────────────┴───────┘"
      ]
     },
     "execution_count": 162,
     "metadata": {},
     "output_type": "execute_result"
    }
   ],
   "source": [
    "title_items.filter(pl.col(\"count\") > 1).head()"
   ]
  },
  {
   "cell_type": "code",
   "execution_count": 163,
   "metadata": {},
   "outputs": [
    {
     "data": {
      "text/html": [
       "<div><style>\n",
       ".dataframe > thead > tr > th,\n",
       ".dataframe > tbody > tr > td {\n",
       "  text-align: right;\n",
       "}\n",
       "</style>\n",
       "<small>shape: (2, 5)</small><table border=\"1\" class=\"dataframe\"><thead><tr><th>item_id</th><th>title</th><th>genres</th><th>authors</th><th>year</th></tr><tr><td>u32</td><td>str</td><td>str</td><td>cat</td><td>cat</td></tr></thead><tbody><tr><td>44681</td><td>&quot;451 градус по …</td><td>&quot;зарубежная фан…</td><td>&quot;Рэй Брэдбери&quot;</td><td>&quot;1953&quot;</td></tr><tr><td>162716</td><td>&quot;451 градус по …</td><td>&quot;зарубежная фан…</td><td>&quot;Рэй Брэдбери&quot;</td><td>&quot;1951, 1953, 19…</td></tr></tbody></table></div>"
      ],
      "text/plain": [
       "shape: (2, 5)\n",
       "┌─────────┬──────────────────────────┬────────────────────────┬──────────────┬──────────────────┐\n",
       "│ item_id ┆ title                    ┆ genres                 ┆ authors      ┆ year             │\n",
       "│ ---     ┆ ---                      ┆ ---                    ┆ ---          ┆ ---              │\n",
       "│ u32     ┆ str                      ┆ str                    ┆ cat          ┆ cat              │\n",
       "╞═════════╪══════════════════════════╪════════════════════════╪══════════════╪══════════════════╡\n",
       "│ 44681   ┆ 451 градус по фаренгейту ┆ зарубежная             ┆ Рэй Брэдбери ┆ 1953             │\n",
       "│         ┆                          ┆ фантастика,классика ф… ┆              ┆                  │\n",
       "│ 162716  ┆ 451 градус по фаренгейту ┆ зарубежная             ┆ Рэй Брэдбери ┆ 1951, 1953, 1967 │\n",
       "│         ┆                          ┆ фантастика,классика ф… ┆              ┆                  │\n",
       "└─────────┴──────────────────────────┴────────────────────────┴──────────────┴──────────────────┘"
      ]
     },
     "execution_count": 163,
     "metadata": {},
     "output_type": "execute_result"
    }
   ],
   "source": [
    "df_items.filter(pl.col(\"title\") == \"451 градус по фаренгейту\")"
   ]
  },
  {
   "cell_type": "code",
   "execution_count": 164,
   "metadata": {},
   "outputs": [
    {
     "data": {
      "text/html": [
       "<div><style>\n",
       ".dataframe > thead > tr > th,\n",
       ".dataframe > tbody > tr > td {\n",
       "  text-align: right;\n",
       "}\n",
       "</style>\n",
       "<small>shape: (3, 5)</small><table border=\"1\" class=\"dataframe\"><thead><tr><th>user_id</th><th>item_id</th><th>progress</th><th>rating</th><th>start_date</th></tr><tr><td>u32</td><td>u32</td><td>u8</td><td>f32</td><td>date</td></tr></thead><tbody><tr><td>126706</td><td>14433</td><td>80</td><td>NaN</td><td>2018-01-01</td></tr><tr><td>127290</td><td>140952</td><td>58</td><td>NaN</td><td>2018-01-01</td></tr><tr><td>66991</td><td>198453</td><td>89</td><td>NaN</td><td>2018-01-01</td></tr></tbody></table></div>"
      ],
      "text/plain": [
       "shape: (3, 5)\n",
       "┌─────────┬─────────┬──────────┬────────┬────────────┐\n",
       "│ user_id ┆ item_id ┆ progress ┆ rating ┆ start_date │\n",
       "│ ---     ┆ ---     ┆ ---      ┆ ---    ┆ ---        │\n",
       "│ u32     ┆ u32     ┆ u8       ┆ f32    ┆ date       │\n",
       "╞═════════╪═════════╪══════════╪════════╪════════════╡\n",
       "│ 126706  ┆ 14433   ┆ 80       ┆ NaN    ┆ 2018-01-01 │\n",
       "│ 127290  ┆ 140952  ┆ 58       ┆ NaN    ┆ 2018-01-01 │\n",
       "│ 66991   ┆ 198453  ┆ 89       ┆ NaN    ┆ 2018-01-01 │\n",
       "└─────────┴─────────┴──────────┴────────┴────────────┘"
      ]
     },
     "execution_count": 164,
     "metadata": {},
     "output_type": "execute_result"
    }
   ],
   "source": [
    "df.head(n=3)"
   ]
  },
  {
   "cell_type": "code",
   "execution_count": 165,
   "metadata": {},
   "outputs": [
    {
     "data": {
      "text/html": [
       "<div><style>\n",
       ".dataframe > thead > tr > th,\n",
       ".dataframe > tbody > tr > td {\n",
       "  text-align: right;\n",
       "}\n",
       "</style>\n",
       "<small>shape: (2, 7)</small><table border=\"1\" class=\"dataframe\"><thead><tr><th>item_id</th><th>progress</th><th>min_rating</th><th>mean_rating</th><th>max_rating</th><th>min_start_date</th><th>max_start_date</th></tr><tr><td>u32</td><td>u32</td><td>f32</td><td>f32</td><td>f32</td><td>date</td><td>date</td></tr></thead><tbody><tr><td>44681</td><td>353</td><td>1.0</td><td>4.56</td><td>5.0</td><td>2018-01-24</td><td>2019-12-20</td></tr><tr><td>162716</td><td>59</td><td>4.0</td><td>4.8</td><td>5.0</td><td>2018-01-25</td><td>2019-12-30</td></tr></tbody></table></div>"
      ],
      "text/plain": [
       "shape: (2, 7)\n",
       "┌─────────┬──────────┬────────────┬─────────────┬────────────┬────────────────┬────────────────┐\n",
       "│ item_id ┆ progress ┆ min_rating ┆ mean_rating ┆ max_rating ┆ min_start_date ┆ max_start_date │\n",
       "│ ---     ┆ ---      ┆ ---        ┆ ---         ┆ ---        ┆ ---            ┆ ---            │\n",
       "│ u32     ┆ u32      ┆ f32        ┆ f32         ┆ f32        ┆ date           ┆ date           │\n",
       "╞═════════╪══════════╪════════════╪═════════════╪════════════╪════════════════╪════════════════╡\n",
       "│ 44681   ┆ 353      ┆ 1.0        ┆ 4.56        ┆ 5.0        ┆ 2018-01-24     ┆ 2019-12-20     │\n",
       "│ 162716  ┆ 59       ┆ 4.0        ┆ 4.8         ┆ 5.0        ┆ 2018-01-25     ┆ 2019-12-30     │\n",
       "└─────────┴──────────┴────────────┴─────────────┴────────────┴────────────────┴────────────────┘"
      ]
     },
     "execution_count": 165,
     "metadata": {},
     "output_type": "execute_result"
    }
   ],
   "source": [
    "df.lazy().filter(pl.col(\"item_id\").is_in([44681, 162716])).fill_nan(None).groupby(\"item_id\").agg(\n",
    "    [\n",
    "        pl.count(\"progress\"),\n",
    "        pl.col(\"rating\").min().alias(\"min_rating\"),\n",
    "        pl.col(\"rating\").mean().alias(\"mean_rating\"),\n",
    "        pl.col(\"rating\").max().alias(\"max_rating\"),\n",
    "        pl.col(\"start_date\").min().alias(\"min_start_date\"),\n",
    "        pl.col(\"start_date\").max().alias(\"max_start_date\")\n",
    "    ]\n",
    ").collect()"
   ]
  },
  {
   "cell_type": "code",
   "execution_count": 166,
   "metadata": {},
   "outputs": [],
   "source": [
    "last_date = df.select(pl.col(\"start_date\").max())[0, 0]"
   ]
  },
  {
   "cell_type": "code",
   "execution_count": 167,
   "metadata": {},
   "outputs": [
    {
     "data": {
      "text/plain": [
       "(datetime.date(2019, 12, 24), datetime.date(2019, 12, 31))"
      ]
     },
     "execution_count": 167,
     "metadata": {},
     "output_type": "execute_result"
    }
   ],
   "source": [
    "folds = 7\n",
    "start_date = last_date - datetime.timedelta(days=folds)\n",
    "start_date, last_date"
   ]
  },
  {
   "cell_type": "code",
   "execution_count": 168,
   "metadata": {},
   "outputs": [
    {
     "data": {
      "text/plain": [
       "(7, 7)"
      ]
     },
     "execution_count": 168,
     "metadata": {},
     "output_type": "execute_result"
    }
   ],
   "source": [
    "cv = TimeRangeSplit(start_date=start_date, interval=datetime.timedelta(days=1), folds=folds)\n",
    "\n",
    "cv.max_n_splits, cv.get_n_splits(df, datetime_column='start_date')"
   ]
  },
  {
   "cell_type": "code",
   "execution_count": 169,
   "metadata": {},
   "outputs": [
    {
     "data": {
      "text/html": [
       "<div><style>\n",
       ".dataframe > thead > tr > th,\n",
       ".dataframe > tbody > tr > td {\n",
       "  text-align: right;\n",
       "}\n",
       "</style>\n",
       "<small>shape: (7,)</small><table border=\"1\" class=\"dataframe\"><thead><tr><th>date_col</th></tr><tr><td>date</td></tr></thead><tbody><tr><td>2019-12-25</td></tr><tr><td>2019-12-26</td></tr><tr><td>2019-12-27</td></tr><tr><td>2019-12-28</td></tr><tr><td>2019-12-29</td></tr><tr><td>2019-12-30</td></tr><tr><td>2019-12-31</td></tr></tbody></table></div>"
      ],
      "text/plain": [
       "shape: (7,)\n",
       "Series: 'date_col' [date]\n",
       "[\n",
       "\t2019-12-25\n",
       "\t2019-12-26\n",
       "\t2019-12-27\n",
       "\t2019-12-28\n",
       "\t2019-12-29\n",
       "\t2019-12-30\n",
       "\t2019-12-31\n",
       "]"
      ]
     },
     "execution_count": 169,
     "metadata": {},
     "output_type": "execute_result"
    }
   ],
   "source": [
    "cv.date_range[1:]"
   ]
  },
  {
   "cell_type": "code",
   "execution_count": 170,
   "metadata": {},
   "outputs": [],
   "source": [
    "folds_with_stats = list(cv.split(\n",
    "    df, \n",
    "    user_column='user_id',\n",
    "    item_column='item_id',\n",
    "    datetime_column='start_date',\n",
    "    fold_stats=True\n",
    ")\n",
    ")\n",
    "\n",
    "folds_info_with_stats = pl.DataFrame([info for _, _, info in folds_with_stats])"
   ]
  },
  {
   "cell_type": "code",
   "execution_count": 171,
   "metadata": {},
   "outputs": [
    {
     "data": {
      "text/html": [
       "<div><style>\n",
       ".dataframe > thead > tr > th,\n",
       ".dataframe > tbody > tr > td {\n",
       "  text-align: right;\n",
       "}\n",
       "</style>\n",
       "<small>shape: (7, 9)</small><table border=\"1\" class=\"dataframe\"><thead><tr><th>Start date</th><th>End date</th><th>Train</th><th>New users</th><th>New users interactions</th><th>New items</th><th>New items interactions</th><th>Known interactions</th><th>Test</th></tr><tr><td>date</td><td>date</td><td>i64</td><td>i64</td><td>i64</td><td>i64</td><td>i64</td><td>i64</td><td>i64</td></tr></thead><tbody><tr><td>2019-12-24</td><td>2019-12-25</td><td>1515946</td><td>3</td><td>3</td><td>0</td><td>0</td><td>0</td><td>2045</td></tr><tr><td>2019-12-25</td><td>2019-12-26</td><td>1517994</td><td>1</td><td>1</td><td>0</td><td>0</td><td>0</td><td>2141</td></tr><tr><td>2019-12-26</td><td>2019-12-27</td><td>1520136</td><td>0</td><td>0</td><td>0</td><td>0</td><td>0</td><td>2177</td></tr><tr><td>2019-12-27</td><td>2019-12-28</td><td>1522313</td><td>0</td><td>0</td><td>0</td><td>0</td><td>0</td><td>2110</td></tr><tr><td>2019-12-28</td><td>2019-12-29</td><td>1524423</td><td>2</td><td>4</td><td>0</td><td>0</td><td>0</td><td>2205</td></tr><tr><td>2019-12-29</td><td>2019-12-30</td><td>1526632</td><td>4</td><td>4</td><td>0</td><td>0</td><td>0</td><td>2118</td></tr><tr><td>2019-12-30</td><td>2019-12-31</td><td>1528754</td><td>1</td><td>1</td><td>0</td><td>0</td><td>0</td><td>2168</td></tr></tbody></table></div>"
      ],
      "text/plain": [
       "shape: (7, 9)\n",
       "┌────────────┬────────────┬─────────┬───────────┬───┬───────────┬────────────┬──────────────┬──────┐\n",
       "│ Start date ┆ End date   ┆ Train   ┆ New users ┆ … ┆ New items ┆ New items  ┆ Known        ┆ Test │\n",
       "│ ---        ┆ ---        ┆ ---     ┆ ---       ┆   ┆ ---       ┆ interactio ┆ interactions ┆ ---  │\n",
       "│ date       ┆ date       ┆ i64     ┆ i64       ┆   ┆ i64       ┆ ns         ┆ ---          ┆ i64  │\n",
       "│            ┆            ┆         ┆           ┆   ┆           ┆ ---        ┆ i64          ┆      │\n",
       "│            ┆            ┆         ┆           ┆   ┆           ┆ i64        ┆              ┆      │\n",
       "╞════════════╪════════════╪═════════╪═══════════╪═══╪═══════════╪════════════╪══════════════╪══════╡\n",
       "│ 2019-12-24 ┆ 2019-12-25 ┆ 1515946 ┆ 3         ┆ … ┆ 0         ┆ 0          ┆ 0            ┆ 2045 │\n",
       "│ 2019-12-25 ┆ 2019-12-26 ┆ 1517994 ┆ 1         ┆ … ┆ 0         ┆ 0          ┆ 0            ┆ 2141 │\n",
       "│ 2019-12-26 ┆ 2019-12-27 ┆ 1520136 ┆ 0         ┆ … ┆ 0         ┆ 0          ┆ 0            ┆ 2177 │\n",
       "│ 2019-12-27 ┆ 2019-12-28 ┆ 1522313 ┆ 0         ┆ … ┆ 0         ┆ 0          ┆ 0            ┆ 2110 │\n",
       "│ 2019-12-28 ┆ 2019-12-29 ┆ 1524423 ┆ 2         ┆ … ┆ 0         ┆ 0          ┆ 0            ┆ 2205 │\n",
       "│ 2019-12-29 ┆ 2019-12-30 ┆ 1526632 ┆ 4         ┆ … ┆ 0         ┆ 0          ┆ 0            ┆ 2118 │\n",
       "│ 2019-12-30 ┆ 2019-12-31 ┆ 1528754 ┆ 1         ┆ … ┆ 0         ┆ 0          ┆ 0            ┆ 2168 │\n",
       "└────────────┴────────────┴─────────┴───────────┴───┴───────────┴────────────┴──────────────┴──────┘"
      ]
     },
     "execution_count": 171,
     "metadata": {},
     "output_type": "execute_result"
    }
   ],
   "source": [
    "folds_info_with_stats"
   ]
  },
  {
   "cell_type": "code",
   "execution_count": 172,
   "metadata": {},
   "outputs": [],
   "source": [
    "top_N = 10"
   ]
  },
  {
   "attachments": {},
   "cell_type": "markdown",
   "metadata": {},
   "source": [
    "# Implicit"
   ]
  },
  {
   "cell_type": "code",
   "execution_count": 173,
   "metadata": {},
   "outputs": [
    {
     "data": {
      "text/plain": [
       "((1515946, 5), (2045, 5))"
      ]
     },
     "execution_count": 173,
     "metadata": {},
     "output_type": "execute_result"
    }
   ],
   "source": [
    "train_idx, test_idx, info = folds_with_stats[0]\n",
    "\n",
    "train = df.join(train_idx, on=[\"user_id\", \"item_id\"], how=\"inner\")\n",
    "test = df.join(test_idx, on=[\"user_id\", \"item_id\"], how=\"inner\")\n",
    "train.shape, test.shape"
   ]
  },
  {
   "cell_type": "code",
   "execution_count": 174,
   "metadata": {},
   "outputs": [],
   "source": [
    "cosine_model = ImplicitRecommender(CosineRecommender(K=10), users_mapping, items_mapping, items_inv_mapping)"
   ]
  },
  {
   "cell_type": "code",
   "execution_count": 175,
   "metadata": {},
   "outputs": [
    {
     "name": "stderr",
     "output_type": "stream",
     "text": [
      "/home/alex/miniconda3/envs/recsys/lib/python3.10/site-packages/implicit/utils.py:138: ParameterWarning: Method expects CSR input, and was passed coo_matrix instead. Converting to CSR took 0.010876655578613281 seconds\n",
      "  warnings.warn(\n"
     ]
    },
    {
     "data": {
      "application/vnd.jupyter.widget-view+json": {
       "model_id": "a608e8cd1d954affa504fff697ef35c6",
       "version_major": 2,
       "version_minor": 0
      },
      "text/plain": [
       "  0%|          | 0/59599 [00:00<?, ?it/s]"
      ]
     },
     "metadata": {},
     "output_type": "display_data"
    }
   ],
   "source": [
    "cosine_model.fit(train)"
   ]
  },
  {
   "cell_type": "code",
   "execution_count": 176,
   "metadata": {},
   "outputs": [
    {
     "name": "stdout",
     "output_type": "stream",
     "text": [
      "Рекомендации для пользователя 139942\n"
     ]
    }
   ],
   "source": [
    "user_id = test.select(pl.col(\"user_id\"))[0, 0]\n",
    "print(f'Рекомендации для пользователя {user_id}')"
   ]
  },
  {
   "cell_type": "code",
   "execution_count": 177,
   "metadata": {},
   "outputs": [],
   "source": [
    "pred_recs = cosine_model.recommend([user_id], n=top_N)"
   ]
  },
  {
   "cell_type": "code",
   "execution_count": 178,
   "metadata": {},
   "outputs": [
    {
     "data": {
      "text/html": [
       "<div><style>\n",
       ".dataframe > thead > tr > th,\n",
       ".dataframe > tbody > tr > td {\n",
       "  text-align: right;\n",
       "}\n",
       "</style>\n",
       "<small>shape: (10, 3)</small><table border=\"1\" class=\"dataframe\"><thead><tr><th>user_id</th><th>item_id</th><th>rank</th></tr><tr><td>u32</td><td>u32</td><td>u32</td></tr></thead><tbody><tr><td>139942</td><td>193358</td><td>1</td></tr><tr><td>139942</td><td>125586</td><td>2</td></tr><tr><td>139942</td><td>203882</td><td>3</td></tr><tr><td>139942</td><td>90986</td><td>4</td></tr><tr><td>139942</td><td>146180</td><td>5</td></tr><tr><td>139942</td><td>264849</td><td>6</td></tr><tr><td>139942</td><td>238155</td><td>7</td></tr><tr><td>139942</td><td>7094</td><td>8</td></tr><tr><td>139942</td><td>240226</td><td>9</td></tr><tr><td>139942</td><td>1728</td><td>10</td></tr></tbody></table></div>"
      ],
      "text/plain": [
       "shape: (10, 3)\n",
       "┌─────────┬─────────┬──────┐\n",
       "│ user_id ┆ item_id ┆ rank │\n",
       "│ ---     ┆ ---     ┆ ---  │\n",
       "│ u32     ┆ u32     ┆ u32  │\n",
       "╞═════════╪═════════╪══════╡\n",
       "│ 139942  ┆ 193358  ┆ 1    │\n",
       "│ 139942  ┆ 125586  ┆ 2    │\n",
       "│ 139942  ┆ 203882  ┆ 3    │\n",
       "│ 139942  ┆ 90986   ┆ 4    │\n",
       "│ …       ┆ …       ┆ …    │\n",
       "│ 139942  ┆ 238155  ┆ 7    │\n",
       "│ 139942  ┆ 7094    ┆ 8    │\n",
       "│ 139942  ┆ 240226  ┆ 9    │\n",
       "│ 139942  ┆ 1728    ┆ 10   │\n",
       "└─────────┴─────────┴──────┘"
      ]
     },
     "execution_count": 178,
     "metadata": {},
     "output_type": "execute_result"
    }
   ],
   "source": [
    "pred_recs"
   ]
  },
  {
   "cell_type": "code",
   "execution_count": 179,
   "metadata": {},
   "outputs": [
    {
     "data": {
      "text/html": [
       "<div><style>\n",
       ".dataframe > thead > tr > th,\n",
       ".dataframe > tbody > tr > td {\n",
       "  text-align: right;\n",
       "}\n",
       "</style>\n",
       "<small>shape: (5, 5)</small><table border=\"1\" class=\"dataframe\"><thead><tr><th>user_id</th><th>item_id</th><th>progress</th><th>rating</th><th>start_date</th></tr><tr><td>u32</td><td>u32</td><td>u8</td><td>f32</td><td>date</td></tr></thead><tbody><tr><td>139942</td><td>26270</td><td>58</td><td>NaN</td><td>2019-12-24</td></tr><tr><td>136607</td><td>82392</td><td>39</td><td>NaN</td><td>2019-12-24</td></tr><tr><td>142287</td><td>84446</td><td>79</td><td>NaN</td><td>2019-12-24</td></tr><tr><td>114933</td><td>319155</td><td>9</td><td>NaN</td><td>2019-12-24</td></tr><tr><td>32926</td><td>120339</td><td>73</td><td>NaN</td><td>2019-12-24</td></tr></tbody></table></div>"
      ],
      "text/plain": [
       "shape: (5, 5)\n",
       "┌─────────┬─────────┬──────────┬────────┬────────────┐\n",
       "│ user_id ┆ item_id ┆ progress ┆ rating ┆ start_date │\n",
       "│ ---     ┆ ---     ┆ ---      ┆ ---    ┆ ---        │\n",
       "│ u32     ┆ u32     ┆ u8       ┆ f32    ┆ date       │\n",
       "╞═════════╪═════════╪══════════╪════════╪════════════╡\n",
       "│ 139942  ┆ 26270   ┆ 58       ┆ NaN    ┆ 2019-12-24 │\n",
       "│ 136607  ┆ 82392   ┆ 39       ┆ NaN    ┆ 2019-12-24 │\n",
       "│ 142287  ┆ 84446   ┆ 79       ┆ NaN    ┆ 2019-12-24 │\n",
       "│ 114933  ┆ 319155  ┆ 9        ┆ NaN    ┆ 2019-12-24 │\n",
       "│ 32926   ┆ 120339  ┆ 73       ┆ NaN    ┆ 2019-12-24 │\n",
       "└─────────┴─────────┴──────────┴────────┴────────────┘"
      ]
     },
     "execution_count": 179,
     "metadata": {},
     "output_type": "execute_result"
    }
   ],
   "source": [
    "test.head()"
   ]
  },
  {
   "cell_type": "code",
   "execution_count": 180,
   "metadata": {},
   "outputs": [],
   "source": [
    "pred_recs = cosine_model.recommend(test.select(pl.col(\"user_id\").unique()).to_series(), n=top_N)"
   ]
  },
  {
   "cell_type": "code",
   "execution_count": 181,
   "metadata": {},
   "outputs": [
    {
     "data": {
      "text/html": [
       "<div><style>\n",
       ".dataframe > thead > tr > th,\n",
       ".dataframe > tbody > tr > td {\n",
       "  text-align: right;\n",
       "}\n",
       "</style>\n",
       "<small>shape: (13, 3)</small><table border=\"1\" class=\"dataframe\"><thead><tr><th>user_id</th><th>item_id</th><th>rank</th></tr><tr><td>u32</td><td>u32</td><td>u32</td></tr></thead><tbody><tr><td>27</td><td>205779</td><td>1</td></tr><tr><td>27</td><td>270698</td><td>2</td></tr><tr><td>27</td><td>300693</td><td>3</td></tr><tr><td>27</td><td>44437</td><td>4</td></tr><tr><td>27</td><td>128993</td><td>5</td></tr><tr><td>27</td><td>251031</td><td>6</td></tr><tr><td>27</td><td>261532</td><td>7</td></tr><tr><td>27</td><td>305853</td><td>8</td></tr><tr><td>27</td><td>57696</td><td>9</td></tr><tr><td>27</td><td>140826</td><td>10</td></tr><tr><td>45</td><td>20730</td><td>1</td></tr><tr><td>45</td><td>292015</td><td>2</td></tr><tr><td>45</td><td>175263</td><td>3</td></tr></tbody></table></div>"
      ],
      "text/plain": [
       "shape: (13, 3)\n",
       "┌─────────┬─────────┬──────┐\n",
       "│ user_id ┆ item_id ┆ rank │\n",
       "│ ---     ┆ ---     ┆ ---  │\n",
       "│ u32     ┆ u32     ┆ u32  │\n",
       "╞═════════╪═════════╪══════╡\n",
       "│ 27      ┆ 205779  ┆ 1    │\n",
       "│ 27      ┆ 270698  ┆ 2    │\n",
       "│ 27      ┆ 300693  ┆ 3    │\n",
       "│ 27      ┆ 44437   ┆ 4    │\n",
       "│ …       ┆ …       ┆ …    │\n",
       "│ 27      ┆ 140826  ┆ 10   │\n",
       "│ 45      ┆ 20730   ┆ 1    │\n",
       "│ 45      ┆ 292015  ┆ 2    │\n",
       "│ 45      ┆ 175263  ┆ 3    │\n",
       "└─────────┴─────────┴──────┘"
      ]
     },
     "execution_count": 181,
     "metadata": {},
     "output_type": "execute_result"
    }
   ],
   "source": [
    "pred_recs.head(top_N + 3)"
   ]
  },
  {
   "cell_type": "code",
   "execution_count": 182,
   "metadata": {},
   "outputs": [
    {
     "data": {
      "text/html": [
       "<div><style>\n",
       ".dataframe > thead > tr > th,\n",
       ".dataframe > tbody > tr > td {\n",
       "  text-align: right;\n",
       "}\n",
       "</style>\n",
       "<small>shape: (10, 3)</small><table border=\"1\" class=\"dataframe\"><thead><tr><th>user_id</th><th>item_id</th><th>rank</th></tr><tr><td>u32</td><td>u32</td><td>u32</td></tr></thead><tbody><tr><td>139942</td><td>193358</td><td>1</td></tr><tr><td>139942</td><td>125586</td><td>2</td></tr><tr><td>139942</td><td>203882</td><td>3</td></tr><tr><td>139942</td><td>90986</td><td>4</td></tr><tr><td>139942</td><td>146180</td><td>5</td></tr><tr><td>139942</td><td>264849</td><td>6</td></tr><tr><td>139942</td><td>238155</td><td>7</td></tr><tr><td>139942</td><td>7094</td><td>8</td></tr><tr><td>139942</td><td>240226</td><td>9</td></tr><tr><td>139942</td><td>1728</td><td>10</td></tr></tbody></table></div>"
      ],
      "text/plain": [
       "shape: (10, 3)\n",
       "┌─────────┬─────────┬──────┐\n",
       "│ user_id ┆ item_id ┆ rank │\n",
       "│ ---     ┆ ---     ┆ ---  │\n",
       "│ u32     ┆ u32     ┆ u32  │\n",
       "╞═════════╪═════════╪══════╡\n",
       "│ 139942  ┆ 193358  ┆ 1    │\n",
       "│ 139942  ┆ 125586  ┆ 2    │\n",
       "│ 139942  ┆ 203882  ┆ 3    │\n",
       "│ 139942  ┆ 90986   ┆ 4    │\n",
       "│ …       ┆ …       ┆ …    │\n",
       "│ 139942  ┆ 238155  ┆ 7    │\n",
       "│ 139942  ┆ 7094    ┆ 8    │\n",
       "│ 139942  ┆ 240226  ┆ 9    │\n",
       "│ 139942  ┆ 1728    ┆ 10   │\n",
       "└─────────┴─────────┴──────┘"
      ]
     },
     "execution_count": 182,
     "metadata": {},
     "output_type": "execute_result"
    }
   ],
   "source": [
    "pred_recs.filter(pl.col(\"user_id\") == 139942).head(top_N + 3)"
   ]
  },
  {
   "cell_type": "code",
   "execution_count": 183,
   "metadata": {},
   "outputs": [
    {
     "data": {
      "text/html": [
       "<div><style>\n",
       ".dataframe > thead > tr > th,\n",
       ".dataframe > tbody > tr > td {\n",
       "  text-align: right;\n",
       "}\n",
       "</style>\n",
       "<small>shape: (5, 5)</small><table border=\"1\" class=\"dataframe\"><thead><tr><th>user_id</th><th>item_id</th><th>progress</th><th>rating</th><th>start_date</th></tr><tr><td>u32</td><td>u32</td><td>u8</td><td>f32</td><td>date</td></tr></thead><tbody><tr><td>139942</td><td>26270</td><td>58</td><td>NaN</td><td>2019-12-24</td></tr><tr><td>136607</td><td>82392</td><td>39</td><td>NaN</td><td>2019-12-24</td></tr><tr><td>142287</td><td>84446</td><td>79</td><td>NaN</td><td>2019-12-24</td></tr><tr><td>114933</td><td>319155</td><td>9</td><td>NaN</td><td>2019-12-24</td></tr><tr><td>32926</td><td>120339</td><td>73</td><td>NaN</td><td>2019-12-24</td></tr></tbody></table></div>"
      ],
      "text/plain": [
       "shape: (5, 5)\n",
       "┌─────────┬─────────┬──────────┬────────┬────────────┐\n",
       "│ user_id ┆ item_id ┆ progress ┆ rating ┆ start_date │\n",
       "│ ---     ┆ ---     ┆ ---      ┆ ---    ┆ ---        │\n",
       "│ u32     ┆ u32     ┆ u8       ┆ f32    ┆ date       │\n",
       "╞═════════╪═════════╪══════════╪════════╪════════════╡\n",
       "│ 139942  ┆ 26270   ┆ 58       ┆ NaN    ┆ 2019-12-24 │\n",
       "│ 136607  ┆ 82392   ┆ 39       ┆ NaN    ┆ 2019-12-24 │\n",
       "│ 142287  ┆ 84446   ┆ 79       ┆ NaN    ┆ 2019-12-24 │\n",
       "│ 114933  ┆ 319155  ┆ 9        ┆ NaN    ┆ 2019-12-24 │\n",
       "│ 32926   ┆ 120339  ┆ 73       ┆ NaN    ┆ 2019-12-24 │\n",
       "└─────────┴─────────┴──────────┴────────┴────────────┘"
      ]
     },
     "execution_count": 183,
     "metadata": {},
     "output_type": "execute_result"
    }
   ],
   "source": [
    "test.head()"
   ]
  },
  {
   "cell_type": "code",
   "execution_count": 184,
   "metadata": {},
   "outputs": [],
   "source": [
    "metrics = compute_metrics(test, pred_recs, top_N)"
   ]
  },
  {
   "cell_type": "code",
   "execution_count": 185,
   "metadata": {},
   "outputs": [
    {
     "data": {
      "text/html": [
       "<div><style>\n",
       ".dataframe > thead > tr > th,\n",
       ".dataframe > tbody > tr > td {\n",
       "  text-align: right;\n",
       "}\n",
       "</style>\n",
       "<small>shape: (22, 2)</small><table border=\"1\" class=\"dataframe\"><thead><tr><th>name</th><th>value</th></tr><tr><td>str</td><td>f64</td></tr></thead><tbody><tr><td>&quot;prec@1&quot;</td><td>0.011628</td></tr><tr><td>&quot;recall@1&quot;</td><td>0.011628</td></tr><tr><td>&quot;prec@2&quot;</td><td>0.010098</td></tr><tr><td>&quot;recall@2&quot;</td><td>0.010098</td></tr><tr><td>&quot;prec@3&quot;</td><td>0.00918</td></tr><tr><td>&quot;recall@3&quot;</td><td>0.00918</td></tr><tr><td>&quot;prec@4&quot;</td><td>0.007956</td></tr><tr><td>&quot;recall@4&quot;</td><td>0.007956</td></tr><tr><td>&quot;prec@5&quot;</td><td>0.007222</td></tr><tr><td>&quot;recall@5&quot;</td><td>0.007222</td></tr><tr><td>&quot;prec@6&quot;</td><td>0.006222</td></tr><tr><td>&quot;recall@6&quot;</td><td>0.006222</td></tr><tr><td>&quot;prec@7&quot;</td><td>0.005595</td></tr><tr><td>&quot;recall@7&quot;</td><td>0.005595</td></tr><tr><td>&quot;prec@8&quot;</td><td>0.005737</td></tr><tr><td>&quot;recall@8&quot;</td><td>0.005737</td></tr><tr><td>&quot;prec@9&quot;</td><td>0.005168</td></tr><tr><td>&quot;recall@9&quot;</td><td>0.005168</td></tr><tr><td>&quot;prec@10&quot;</td><td>0.004896</td></tr><tr><td>&quot;recall@10&quot;</td><td>0.004896</td></tr><tr><td>&quot;MRR&quot;</td><td>0.021611</td></tr><tr><td>&quot;MAP&quot;</td><td>0.02005</td></tr></tbody></table></div>"
      ],
      "text/plain": [
       "shape: (22, 2)\n",
       "┌───────────┬──────────┐\n",
       "│ name      ┆ value    │\n",
       "│ ---       ┆ ---      │\n",
       "│ str       ┆ f64      │\n",
       "╞═══════════╪══════════╡\n",
       "│ prec@1    ┆ 0.011628 │\n",
       "│ recall@1  ┆ 0.011628 │\n",
       "│ prec@2    ┆ 0.010098 │\n",
       "│ recall@2  ┆ 0.010098 │\n",
       "│ …         ┆ …        │\n",
       "│ prec@10   ┆ 0.004896 │\n",
       "│ recall@10 ┆ 0.004896 │\n",
       "│ MRR       ┆ 0.021611 │\n",
       "│ MAP       ┆ 0.02005  │\n",
       "└───────────┴──────────┘"
      ]
     },
     "execution_count": 185,
     "metadata": {},
     "output_type": "execute_result"
    }
   ],
   "source": [
    "metrics"
   ]
  },
  {
   "cell_type": "code",
   "execution_count": 186,
   "metadata": {},
   "outputs": [],
   "source": [
    "def create_cosine_model():\n",
    "    return ImplicitRecommender(CosineRecommender(K=top_N), users_mapping, items_mapping, items_inv_mapping)\n",
    "\n",
    "\n",
    "def create_bm25():\n",
    "    return ImplicitRecommender(BM25Recommender(K=top_N), users_mapping, items_mapping, items_inv_mapping)\n",
    "\n",
    "def create_tfidf():\n",
    "    return ImplicitRecommender(TFIDFRecommender(K=top_N), users_mapping, items_mapping, items_inv_mapping)\n",
    "\n",
    "def create_alsm():\n",
    "    return ImplicitRecommender(AlternatingLeastSquares(factors=32, iterations=10), users_mapping, items_mapping, items_inv_mapping)"
   ]
  },
  {
   "cell_type": "code",
   "execution_count": 187,
   "metadata": {},
   "outputs": [],
   "source": [
    "cv_res_per_model = []\n",
    "models = {}"
   ]
  },
  {
   "cell_type": "code",
   "execution_count": 188,
   "metadata": {},
   "outputs": [
    {
     "data": {
      "application/vnd.jupyter.widget-view+json": {
       "model_id": "f412afd780dd4322975f683bbf1cc09c",
       "version_major": 2,
       "version_minor": 0
      },
      "text/plain": [
       "  0%|          | 0/7 [00:00<?, ?it/s]"
      ]
     },
     "metadata": {},
     "output_type": "display_data"
    },
    {
     "name": "stderr",
     "output_type": "stream",
     "text": [
      "/home/alex/miniconda3/envs/recsys/lib/python3.10/site-packages/implicit/utils.py:138: ParameterWarning: Method expects CSR input, and was passed coo_matrix instead. Converting to CSR took 0.010511398315429688 seconds\n",
      "  warnings.warn(\n",
      "/home/alex/miniconda3/envs/recsys/lib/python3.10/site-packages/implicit/utils.py:138: ParameterWarning: Method expects CSR input, and was passed coo_matrix instead. Converting to CSR took 0.0089569091796875 seconds\n",
      "  warnings.warn(\n",
      "/home/alex/miniconda3/envs/recsys/lib/python3.10/site-packages/implicit/utils.py:138: ParameterWarning: Method expects CSR input, and was passed coo_matrix instead. Converting to CSR took 0.012376785278320312 seconds\n",
      "  warnings.warn(\n",
      "/home/alex/miniconda3/envs/recsys/lib/python3.10/site-packages/implicit/utils.py:138: ParameterWarning: Method expects CSR input, and was passed coo_matrix instead. Converting to CSR took 0.01205301284790039 seconds\n",
      "  warnings.warn(\n",
      "/home/alex/miniconda3/envs/recsys/lib/python3.10/site-packages/implicit/utils.py:138: ParameterWarning: Method expects CSR input, and was passed coo_matrix instead. Converting to CSR took 0.00992727279663086 seconds\n",
      "  warnings.warn(\n",
      "/home/alex/miniconda3/envs/recsys/lib/python3.10/site-packages/implicit/utils.py:138: ParameterWarning: Method expects CSR input, and was passed coo_matrix instead. Converting to CSR took 0.012786388397216797 seconds\n",
      "  warnings.warn(\n",
      "/home/alex/miniconda3/envs/recsys/lib/python3.10/site-packages/implicit/utils.py:138: ParameterWarning: Method expects CSR input, and was passed coo_matrix instead. Converting to CSR took 0.008900880813598633 seconds\n",
      "  warnings.warn(\n"
     ]
    },
    {
     "data": {
      "application/vnd.jupyter.widget-view+json": {
       "model_id": "b613e7e61f0943c0b633bc89de8ecdcf",
       "version_major": 2,
       "version_minor": 0
      },
      "text/plain": [
       "  0%|          | 0/7 [00:00<?, ?it/s]"
      ]
     },
     "metadata": {},
     "output_type": "display_data"
    },
    {
     "name": "stderr",
     "output_type": "stream",
     "text": [
      "/home/alex/miniconda3/envs/recsys/lib/python3.10/site-packages/implicit/utils.py:138: ParameterWarning: Method expects CSR input, and was passed coo_matrix instead. Converting to CSR took 0.01009678840637207 seconds\n",
      "  warnings.warn(\n",
      "/home/alex/miniconda3/envs/recsys/lib/python3.10/site-packages/implicit/utils.py:138: ParameterWarning: Method expects CSR input, and was passed coo_matrix instead. Converting to CSR took 0.01040196418762207 seconds\n",
      "  warnings.warn(\n",
      "/home/alex/miniconda3/envs/recsys/lib/python3.10/site-packages/implicit/utils.py:138: ParameterWarning: Method expects CSR input, and was passed coo_matrix instead. Converting to CSR took 0.01168966293334961 seconds\n",
      "  warnings.warn(\n",
      "/home/alex/miniconda3/envs/recsys/lib/python3.10/site-packages/implicit/utils.py:138: ParameterWarning: Method expects CSR input, and was passed coo_matrix instead. Converting to CSR took 0.011110305786132812 seconds\n",
      "  warnings.warn(\n",
      "/home/alex/miniconda3/envs/recsys/lib/python3.10/site-packages/implicit/utils.py:138: ParameterWarning: Method expects CSR input, and was passed coo_matrix instead. Converting to CSR took 0.012064218521118164 seconds\n",
      "  warnings.warn(\n",
      "/home/alex/miniconda3/envs/recsys/lib/python3.10/site-packages/implicit/utils.py:138: ParameterWarning: Method expects CSR input, and was passed coo_matrix instead. Converting to CSR took 0.012565851211547852 seconds\n",
      "  warnings.warn(\n",
      "/home/alex/miniconda3/envs/recsys/lib/python3.10/site-packages/implicit/utils.py:138: ParameterWarning: Method expects CSR input, and was passed coo_matrix instead. Converting to CSR took 0.01417398452758789 seconds\n",
      "  warnings.warn(\n"
     ]
    },
    {
     "data": {
      "application/vnd.jupyter.widget-view+json": {
       "model_id": "68747282068a4267828b9fc5df4dffe5",
       "version_major": 2,
       "version_minor": 0
      },
      "text/plain": [
       "  0%|          | 0/7 [00:00<?, ?it/s]"
      ]
     },
     "metadata": {},
     "output_type": "display_data"
    },
    {
     "name": "stderr",
     "output_type": "stream",
     "text": [
      "/home/alex/miniconda3/envs/recsys/lib/python3.10/site-packages/implicit/utils.py:138: ParameterWarning: Method expects CSR input, and was passed coo_matrix instead. Converting to CSR took 0.009714365005493164 seconds\n",
      "  warnings.warn(\n",
      "/home/alex/miniconda3/envs/recsys/lib/python3.10/site-packages/implicit/utils.py:138: ParameterWarning: Method expects CSR input, and was passed coo_matrix instead. Converting to CSR took 0.011556625366210938 seconds\n",
      "  warnings.warn(\n",
      "/home/alex/miniconda3/envs/recsys/lib/python3.10/site-packages/implicit/utils.py:138: ParameterWarning: Method expects CSR input, and was passed coo_matrix instead. Converting to CSR took 0.011826515197753906 seconds\n",
      "  warnings.warn(\n",
      "/home/alex/miniconda3/envs/recsys/lib/python3.10/site-packages/implicit/utils.py:138: ParameterWarning: Method expects CSR input, and was passed coo_matrix instead. Converting to CSR took 0.010090351104736328 seconds\n",
      "  warnings.warn(\n",
      "/home/alex/miniconda3/envs/recsys/lib/python3.10/site-packages/implicit/utils.py:138: ParameterWarning: Method expects CSR input, and was passed coo_matrix instead. Converting to CSR took 0.011932611465454102 seconds\n",
      "  warnings.warn(\n",
      "/home/alex/miniconda3/envs/recsys/lib/python3.10/site-packages/implicit/utils.py:138: ParameterWarning: Method expects CSR input, and was passed coo_matrix instead. Converting to CSR took 0.011699199676513672 seconds\n",
      "  warnings.warn(\n",
      "/home/alex/miniconda3/envs/recsys/lib/python3.10/site-packages/implicit/utils.py:138: ParameterWarning: Method expects CSR input, and was passed coo_matrix instead. Converting to CSR took 0.012438297271728516 seconds\n",
      "  warnings.warn(\n"
     ]
    },
    {
     "data": {
      "application/vnd.jupyter.widget-view+json": {
       "model_id": "00aadf28918f4ef79410cde29d64a397",
       "version_major": 2,
       "version_minor": 0
      },
      "text/plain": [
       "  0%|          | 0/7 [00:00<?, ?it/s]"
      ]
     },
     "metadata": {},
     "output_type": "display_data"
    }
   ],
   "source": [
    "for factory in (create_cosine_model, create_bm25, create_tfidf, create_alsm):\n",
    "    cross_valid_res_model, model = model_cross_validate(\n",
    "        df, \n",
    "        user_features=df_users, \n",
    "        item_features=df_items, \n",
    "        folds=folds_with_stats, \n",
    "        model_factory=factory, \n",
    "        n=top_N)\n",
    "    models[model.model_name()] = model\n",
    "    cv_res_per_model.append(cross_valid_res_model.to_pandas())\n",
    "    del cross_valid_res_model"
   ]
  },
  {
   "cell_type": "code",
   "execution_count": 189,
   "metadata": {},
   "outputs": [],
   "source": [
    "cross_valid_res = pd.concat(cv_res_per_model)\n",
    "cv_res_per_model.clear()"
   ]
  },
  {
   "cell_type": "code",
   "execution_count": 190,
   "metadata": {},
   "outputs": [
    {
     "data": {
      "image/png": "[encoded data removed]",
      "text/plain": [
       "<Figure size 640x480 with 1 Axes>"
      ]
     },
     "metadata": {},
     "output_type": "display_data"
    }
   ],
   "source": [
    "ax = sns.scatterplot(cross_valid_res[cross_valid_res[\"name\"].isin([\"MAP\", \"MRR\"])], x=\"fold\", y=\"value\", style=\"name\", hue=\"model\")\n",
    "sns.move_legend(ax, \"upper left\", bbox_to_anchor=(1, 1))"
   ]
  },
  {
   "cell_type": "code",
   "execution_count": 191,
   "metadata": {},
   "outputs": [
    {
     "data": {
      "text/html": [
       "<div>\n",
       "<style scoped>\n",
       "    .dataframe tbody tr th:only-of-type {\n",
       "        vertical-align: middle;\n",
       "    }\n",
       "\n",
       "    .dataframe tbody tr th {\n",
       "        vertical-align: top;\n",
       "    }\n",
       "\n",
       "    .dataframe thead tr th {\n",
       "        text-align: left;\n",
       "    }\n",
       "\n",
       "    .dataframe thead tr:last-of-type th {\n",
       "        text-align: right;\n",
       "    }\n",
       "</style>\n",
       "<table border=\"1\" class=\"dataframe\">\n",
       "  <thead>\n",
       "    <tr>\n",
       "      <th>name</th>\n",
       "      <th colspan=\"4\" halign=\"left\">MRR</th>\n",
       "      <th colspan=\"4\" halign=\"left\">MAP</th>\n",
       "      <th colspan=\"4\" halign=\"left\">recall@10</th>\n",
       "    </tr>\n",
       "    <tr>\n",
       "      <th></th>\n",
       "      <th>mean</th>\n",
       "      <th>std</th>\n",
       "      <th>min</th>\n",
       "      <th>max</th>\n",
       "      <th>mean</th>\n",
       "      <th>std</th>\n",
       "      <th>min</th>\n",
       "      <th>max</th>\n",
       "      <th>mean</th>\n",
       "      <th>std</th>\n",
       "      <th>min</th>\n",
       "      <th>max</th>\n",
       "    </tr>\n",
       "    <tr>\n",
       "      <th>model</th>\n",
       "      <th></th>\n",
       "      <th></th>\n",
       "      <th></th>\n",
       "      <th></th>\n",
       "      <th></th>\n",
       "      <th></th>\n",
       "      <th></th>\n",
       "      <th></th>\n",
       "      <th></th>\n",
       "      <th></th>\n",
       "      <th></th>\n",
       "      <th></th>\n",
       "    </tr>\n",
       "  </thead>\n",
       "  <tbody>\n",
       "    <tr>\n",
       "      <th>AlternatingLeastSquares</th>\n",
       "      <td>0.005118</td>\n",
       "      <td>0.000925</td>\n",
       "      <td>0.003605</td>\n",
       "      <td>0.006239</td>\n",
       "      <td>0.004655</td>\n",
       "      <td>0.000690</td>\n",
       "      <td>0.003479</td>\n",
       "      <td>0.005521</td>\n",
       "      <td>0.001401</td>\n",
       "      <td>0.000171</td>\n",
       "      <td>0.001285</td>\n",
       "      <td>0.001775</td>\n",
       "    </tr>\n",
       "    <tr>\n",
       "      <th>BM25Recommender</th>\n",
       "      <td>0.015759</td>\n",
       "      <td>0.003429</td>\n",
       "      <td>0.010862</td>\n",
       "      <td>0.022296</td>\n",
       "      <td>0.014975</td>\n",
       "      <td>0.003163</td>\n",
       "      <td>0.009854</td>\n",
       "      <td>0.020521</td>\n",
       "      <td>0.003588</td>\n",
       "      <td>0.000606</td>\n",
       "      <td>0.003078</td>\n",
       "      <td>0.004774</td>\n",
       "    </tr>\n",
       "    <tr>\n",
       "      <th>CosineRecommender</th>\n",
       "      <td>0.015503</td>\n",
       "      <td>0.003368</td>\n",
       "      <td>0.011206</td>\n",
       "      <td>0.021611</td>\n",
       "      <td>0.014784</td>\n",
       "      <td>0.003035</td>\n",
       "      <td>0.010556</td>\n",
       "      <td>0.020050</td>\n",
       "      <td>0.003562</td>\n",
       "      <td>0.000772</td>\n",
       "      <td>0.002873</td>\n",
       "      <td>0.004896</td>\n",
       "    </tr>\n",
       "    <tr>\n",
       "      <th>TFIDFRecommender</th>\n",
       "      <td>0.015844</td>\n",
       "      <td>0.003811</td>\n",
       "      <td>0.011226</td>\n",
       "      <td>0.023071</td>\n",
       "      <td>0.015038</td>\n",
       "      <td>0.003484</td>\n",
       "      <td>0.010563</td>\n",
       "      <td>0.021505</td>\n",
       "      <td>0.003622</td>\n",
       "      <td>0.000650</td>\n",
       "      <td>0.002998</td>\n",
       "      <td>0.004712</td>\n",
       "    </tr>\n",
       "  </tbody>\n",
       "</table>\n",
       "</div>"
      ],
      "text/plain": [
       "name                          MRR                                     MAP   \n",
       "                             mean       std       min       max      mean   \n",
       "model                                                                       \n",
       "AlternatingLeastSquares  0.005118  0.000925  0.003605  0.006239  0.004655  \\\n",
       "BM25Recommender          0.015759  0.003429  0.010862  0.022296  0.014975   \n",
       "CosineRecommender        0.015503  0.003368  0.011206  0.021611  0.014784   \n",
       "TFIDFRecommender         0.015844  0.003811  0.011226  0.023071  0.015038   \n",
       "\n",
       "name                                                  recall@10             \n",
       "                              std       min       max      mean       std   \n",
       "model                                                                       \n",
       "AlternatingLeastSquares  0.000690  0.003479  0.005521  0.001401  0.000171  \\\n",
       "BM25Recommender          0.003163  0.009854  0.020521  0.003588  0.000606   \n",
       "CosineRecommender        0.003035  0.010556  0.020050  0.003562  0.000772   \n",
       "TFIDFRecommender         0.003484  0.010563  0.021505  0.003622  0.000650   \n",
       "\n",
       "name                                         \n",
       "                              min       max  \n",
       "model                                        \n",
       "AlternatingLeastSquares  0.001285  0.001775  \n",
       "BM25Recommender          0.003078  0.004774  \n",
       "CosineRecommender        0.002873  0.004896  \n",
       "TFIDFRecommender         0.002998  0.004712  "
      ]
     },
     "execution_count": 191,
     "metadata": {},
     "output_type": "execute_result"
    }
   ],
   "source": [
    "cross_valid_res.pivot(index=[\"fold\", \"model\"], columns=[\"name\"], values=[\"value\"]).droplevel(level=0, axis=\"columns\").groupby(\"model\").agg(\n",
    "    {\n",
    "    \"MRR\": ['mean', 'std', 'min', 'max'],\n",
    "    'MAP': ['mean', 'std', 'min', 'max'],\n",
    "    f'recall@{top_N}': ['mean', 'std', 'min', 'max'],\n",
    "    }\n",
    ")"
   ]
  },
  {
   "cell_type": "code",
   "execution_count": 192,
   "metadata": {},
   "outputs": [
    {
     "data": {
      "text/plain": [
       "dict_keys(['CosineRecommender', 'BM25Recommender', 'TFIDFRecommender', 'AlternatingLeastSquares'])"
      ]
     },
     "execution_count": 192,
     "metadata": {},
     "output_type": "execute_result"
    }
   ],
   "source": [
    "models.keys()"
   ]
  },
  {
   "cell_type": "code",
   "execution_count": 193,
   "metadata": {},
   "outputs": [],
   "source": [
    "similiar_items = models[\"TFIDFRecommender\"].similiar_items([60193], top_N)"
   ]
  },
  {
   "cell_type": "code",
   "execution_count": 194,
   "metadata": {},
   "outputs": [],
   "source": [
    "similiar_items = similiar_items.with_columns(\n",
    "    pl.col(\"item_id\").apply(item_titles.get).alias(\"orig_titles\"),\n",
    "    pl.col(\"similiar_item_id\").apply(item_titles.get).alias(\"sim_titles\")\n",
    "    )"
   ]
  },
  {
   "cell_type": "code",
   "execution_count": 195,
   "metadata": {},
   "outputs": [
    {
     "data": {
      "text/html": [
       "<div><style>\n",
       ".dataframe > thead > tr > th,\n",
       ".dataframe > tbody > tr > td {\n",
       "  text-align: right;\n",
       "}\n",
       "</style>\n",
       "<small>shape: (10, 5)</small><table border=\"1\" class=\"dataframe\"><thead><tr><th>item_id</th><th>similiar_item_id</th><th>score</th><th>orig_titles</th><th>sim_titles</th></tr><tr><td>u32</td><td>u32</td><td>f32</td><td>str</td><td>str</td></tr></thead><tbody><tr><td>60193</td><td>60193</td><td>1.0</td><td>&quot;мастер и марга…</td><td>&quot;мастер и марга…</td></tr><tr><td>60193</td><td>252228</td><td>0.085901</td><td>&quot;мастер и марга…</td><td>&quot;мастер и марга…</td></tr><tr><td>60193</td><td>283431</td><td>0.057461</td><td>&quot;мастер и марга…</td><td>&quot;мастер и марга…</td></tr><tr><td>60193</td><td>106146</td><td>0.038287</td><td>&quot;мастер и марга…</td><td>&quot;без имени&quot;</td></tr><tr><td>60193</td><td>129959</td><td>0.034565</td><td>&quot;мастер и марга…</td><td>&quot;белая гвардия.…</td></tr><tr><td>60193</td><td>229856</td><td>0.033712</td><td>&quot;мастер и марга…</td><td>&quot;булгаков и «ма…</td></tr><tr><td>60193</td><td>284757</td><td>0.033223</td><td>&quot;мастер и марга…</td><td>&quot;стори 11-2015&quot;</td></tr><tr><td>60193</td><td>214968</td><td>0.03252</td><td>&quot;мастер и марга…</td><td>&quot;драгоценная пл…</td></tr><tr><td>60193</td><td>303726</td><td>0.031764</td><td>&quot;мастер и марга…</td><td>&quot;ничего не возь…</td></tr><tr><td>60193</td><td>9282</td><td>0.03139</td><td>&quot;мастер и марга…</td><td>&quot;идущий на севе…</td></tr></tbody></table></div>"
      ],
      "text/plain": [
       "shape: (10, 5)\n",
       "┌─────────┬──────────────────┬──────────┬────────────────────┬───────────────────────────────────┐\n",
       "│ item_id ┆ similiar_item_id ┆ score    ┆ orig_titles        ┆ sim_titles                        │\n",
       "│ ---     ┆ ---              ┆ ---      ┆ ---                ┆ ---                               │\n",
       "│ u32     ┆ u32              ┆ f32      ┆ str                ┆ str                               │\n",
       "╞═════════╪══════════════════╪══════════╪════════════════════╪═══════════════════════════════════╡\n",
       "│ 60193   ┆ 60193            ┆ 1.0      ┆ мастер и маргарита ┆ мастер и маргарита                │\n",
       "│ 60193   ┆ 252228           ┆ 0.085901 ┆ мастер и маргарита ┆ мастер и маргарита (иллюстрирова… │\n",
       "│ 60193   ┆ 283431           ┆ 0.057461 ┆ мастер и маргарита ┆ мастер и маргарита краткий перес… │\n",
       "│ 60193   ┆ 106146           ┆ 0.038287 ┆ мастер и маргарита ┆ без имени                         │\n",
       "│ …       ┆ …                ┆ …        ┆ …                  ┆ …                                 │\n",
       "│ 60193   ┆ 284757           ┆ 0.033223 ┆ мастер и маргарита ┆ стори 11-2015                     │\n",
       "│ 60193   ┆ 214968           ┆ 0.03252  ┆ мастер и маргарита ┆ драгоценная плоть                 │\n",
       "│ 60193   ┆ 303726           ┆ 0.031764 ┆ мастер и маргарита ┆ ничего не возьму с собой          │\n",
       "│ 60193   ┆ 9282             ┆ 0.03139  ┆ мастер и маргарита ┆ идущий на север. долина башен     │\n",
       "└─────────┴──────────────────┴──────────┴────────────────────┴───────────────────────────────────┘"
      ]
     },
     "execution_count": 195,
     "metadata": {},
     "output_type": "execute_result"
    }
   ],
   "source": [
    "similiar_items"
   ]
  },
  {
   "attachments": {},
   "cell_type": "markdown",
   "metadata": {},
   "source": [
    "# LightFM"
   ]
  },
  {
   "cell_type": "code",
   "execution_count": 196,
   "metadata": {},
   "outputs": [],
   "source": [
    "dataset = Dataset()"
   ]
  },
  {
   "cell_type": "code",
   "execution_count": 197,
   "metadata": {},
   "outputs": [],
   "source": [
    "dataset.fit(df.select(pl.col(\"user_id\")).unique().to_series(), df.select(pl.col(\"item_id\")).unique().to_series())"
   ]
  },
  {
   "cell_type": "code",
   "execution_count": 198,
   "metadata": {},
   "outputs": [],
   "source": [
    "lfm_df_users = df_users.clone()\n",
    "lfm_df_items = df_items.clone()"
   ]
  },
  {
   "cell_type": "code",
   "execution_count": 199,
   "metadata": {},
   "outputs": [],
   "source": [
    "lfm_df_users = lfm_df_users.with_columns(\n",
    "    pl.col(\"age\").cast(str).fill_null(\"age_unknown\").cast(pl.Categorical).alias(\"age\"),\n",
    "    pl.col(\"sex\").cast(str).fill_null(\"sex_unknown\").cast(pl.Categorical).alias(\"sex\")\n",
    ")"
   ]
  },
  {
   "cell_type": "code",
   "execution_count": 200,
   "metadata": {},
   "outputs": [
    {
     "data": {
      "text/html": [
       "<div><style>\n",
       ".dataframe > thead > tr > th,\n",
       ".dataframe > tbody > tr > td {\n",
       "  text-align: right;\n",
       "}\n",
       "</style>\n",
       "<small>shape: (3, 1)</small><table border=\"1\" class=\"dataframe\"><thead><tr><th>sex</th></tr><tr><td>cat</td></tr></thead><tbody><tr><td>&quot;sex_unknown&quot;</td></tr><tr><td>&quot;0&quot;</td></tr><tr><td>&quot;1&quot;</td></tr></tbody></table></div>"
      ],
      "text/plain": [
       "shape: (3, 1)\n",
       "┌─────────────┐\n",
       "│ sex         │\n",
       "│ ---         │\n",
       "│ cat         │\n",
       "╞═════════════╡\n",
       "│ sex_unknown │\n",
       "│ 0           │\n",
       "│ 1           │\n",
       "└─────────────┘"
      ]
     },
     "execution_count": 200,
     "metadata": {},
     "output_type": "execute_result"
    }
   ],
   "source": [
    "lfm_df_users.select(pl.col(\"sex\").unique())"
   ]
  },
  {
   "cell_type": "code",
   "execution_count": 201,
   "metadata": {},
   "outputs": [
    {
     "data": {
      "text/html": [
       "<div><style>\n",
       ".dataframe > thead > tr > th,\n",
       ".dataframe > tbody > tr > td {\n",
       "  text-align: right;\n",
       "}\n",
       "</style>\n",
       "<small>shape: (7, 1)</small><table border=\"1\" class=\"dataframe\"><thead><tr><th>age</th></tr><tr><td>cat</td></tr></thead><tbody><tr><td>&quot;45_54&quot;</td></tr><tr><td>&quot;18_24&quot;</td></tr><tr><td>&quot;65_inf&quot;</td></tr><tr><td>&quot;35_44&quot;</td></tr><tr><td>&quot;55_64&quot;</td></tr><tr><td>&quot;25_34&quot;</td></tr><tr><td>&quot;age_unknown&quot;</td></tr></tbody></table></div>"
      ],
      "text/plain": [
       "shape: (7, 1)\n",
       "┌─────────────┐\n",
       "│ age         │\n",
       "│ ---         │\n",
       "│ cat         │\n",
       "╞═════════════╡\n",
       "│ 45_54       │\n",
       "│ 18_24       │\n",
       "│ 65_inf      │\n",
       "│ 35_44       │\n",
       "│ 55_64       │\n",
       "│ 25_34       │\n",
       "│ age_unknown │\n",
       "└─────────────┘"
      ]
     },
     "execution_count": 201,
     "metadata": {},
     "output_type": "execute_result"
    }
   ],
   "source": [
    "lfm_df_users.select(pl.col(\"age\").unique())"
   ]
  },
  {
   "cell_type": "code",
   "execution_count": 202,
   "metadata": {},
   "outputs": [],
   "source": [
    "age_features = lfm_df_users.select(pl.col(\"age\").unique()).to_series().to_list()\n",
    "sex_features = lfm_df_users.select(pl.col(\"sex\").unique()).to_series().to_list()"
   ]
  },
  {
   "cell_type": "code",
   "execution_count": 203,
   "metadata": {},
   "outputs": [
    {
     "data": {
      "text/plain": [
       "['45_54',\n",
       " '18_24',\n",
       " '65_inf',\n",
       " '35_44',\n",
       " '55_64',\n",
       " '25_34',\n",
       " 'age_unknown',\n",
       " 'sex_unknown',\n",
       " '0',\n",
       " '1']"
      ]
     },
     "execution_count": 203,
     "metadata": {},
     "output_type": "execute_result"
    }
   ],
   "source": [
    "users_features = age_features + sex_features\n",
    "users_features"
   ]
  },
  {
   "cell_type": "code",
   "execution_count": 204,
   "metadata": {},
   "outputs": [],
   "source": [
    "dataset.fit_partial(user_features=users_features)"
   ]
  },
  {
   "cell_type": "code",
   "execution_count": 205,
   "metadata": {},
   "outputs": [
    {
     "data": {
      "text/plain": [
       "236"
      ]
     },
     "execution_count": 205,
     "metadata": {},
     "output_type": "execute_result"
    }
   ],
   "source": [
    "genres = lfm_df_items.select(pl.col(\"genres\").cast(str).str.split(',').explode().unique()).to_series().to_list()\n",
    "len(genres)"
   ]
  },
  {
   "cell_type": "code",
   "execution_count": 206,
   "metadata": {},
   "outputs": [],
   "source": [
    "dataset.fit_partial(item_features=genres)"
   ]
  },
  {
   "cell_type": "code",
   "execution_count": 207,
   "metadata": {},
   "outputs": [
    {
     "data": {
      "text/plain": [
       "(151600, 59599)"
      ]
     },
     "execution_count": 207,
     "metadata": {},
     "output_type": "execute_result"
    }
   ],
   "source": [
    "num_users, num_items = dataset.interactions_shape()\n",
    "num_users, num_items"
   ]
  },
  {
   "cell_type": "code",
   "execution_count": 208,
   "metadata": {},
   "outputs": [
    {
     "name": "stdout",
     "output_type": "stream",
     "text": [
      "users_mapping len -  151600\n",
      "user_features_mapping len -  151610\n",
      "items_mapping len -  59599\n",
      "Users item_features_mapping len -  59835\n"
     ]
    }
   ],
   "source": [
    "lightfm_mapping = dataset.mapping()\n",
    "lightfm_mapping = {\n",
    "    'users_mapping': lightfm_mapping[0],\n",
    "    'user_features_mapping': lightfm_mapping[1],\n",
    "    'items_mapping': lightfm_mapping[2],\n",
    "    'item_features_mapping': lightfm_mapping[3],\n",
    "}\n",
    "print('users_mapping len - ', len(lightfm_mapping['users_mapping']))\n",
    "print('user_features_mapping len - ', len(lightfm_mapping['user_features_mapping']))\n",
    "print('items_mapping len - ', len(lightfm_mapping['items_mapping']))\n",
    "print('Users item_features_mapping len - ', len(lightfm_mapping['item_features_mapping']))"
   ]
  },
  {
   "cell_type": "code",
   "execution_count": 209,
   "metadata": {},
   "outputs": [],
   "source": [
    "lightfm_mapping['users_inv_mapping'] = {v: k for k, v in lightfm_mapping['users_mapping'].items()}\n",
    "lightfm_mapping['items_inv_mapping'] = {v: k for k, v in lightfm_mapping['items_mapping'].items()}"
   ]
  },
  {
   "cell_type": "code",
   "execution_count": 210,
   "metadata": {},
   "outputs": [
    {
     "name": "stdout",
     "output_type": "stream",
     "text": [
      "Num user features: 10 -> 151610\n",
      "num item features: 236 -> 59835.\n"
     ]
    }
   ],
   "source": [
    "num_user_features = dataset.user_features_shape()\n",
    "num_show_features = dataset.item_features_shape()\n",
    "print('Num user features: {} -> {}\\nnum item features: {} -> {}.'.format(\n",
    "    num_user_features[1] - num_users, num_user_features[1], \n",
    "    num_show_features[1] - num_items, num_show_features[1]))"
   ]
  },
  {
   "cell_type": "code",
   "execution_count": 211,
   "metadata": {},
   "outputs": [],
   "source": [
    "train_idx, test_idx, info = folds_with_stats[0]\n",
    "\n",
    "train = df.join(train_idx, on=[\"user_id\", \"item_id\"], how=\"inner\")\n",
    "test = df.join(test_idx, on=[\"user_id\", \"item_id\"], how=\"inner\")"
   ]
  },
  {
   "cell_type": "code",
   "execution_count": 212,
   "metadata": {},
   "outputs": [
    {
     "data": {
      "text/plain": [
       "<151600x59599 sparse matrix of type '<class 'numpy.int32'>'\n",
       "\twith 1515946 stored elements in COOrdinate format>"
      ]
     },
     "execution_count": 212,
     "metadata": {},
     "output_type": "execute_result"
    }
   ],
   "source": [
    "train_mat, train_mat_weights = dataset.build_interactions(train.select(\n",
    "    pl.col(\"user_id\"),\n",
    "    pl.col(\"item_id\")\n",
    ").to_numpy()\n",
    ")\n",
    "train_mat"
   ]
  },
  {
   "cell_type": "code",
   "execution_count": 213,
   "metadata": {},
   "outputs": [
    {
     "data": {
      "text/plain": [
       "<151600x59599 sparse matrix of type '<class 'numpy.float32'>'\n",
       "\twith 1515946 stored elements in COOrdinate format>"
      ]
     },
     "execution_count": 213,
     "metadata": {},
     "output_type": "execute_result"
    }
   ],
   "source": [
    "train_mat_weights"
   ]
  },
  {
   "cell_type": "code",
   "execution_count": 214,
   "metadata": {},
   "outputs": [],
   "source": [
    "lfm_df_users = lfm_df_users.with_columns(\n",
    "    pl.concat_list(pl.col(\"age\").cast(str), pl.col(\"sex\").cast(str)).alias(\"features\")\n",
    ")"
   ]
  },
  {
   "cell_type": "code",
   "execution_count": 215,
   "metadata": {},
   "outputs": [
    {
     "data": {
      "text/html": [
       "<div><style>\n",
       ".dataframe > thead > tr > th,\n",
       ".dataframe > tbody > tr > td {\n",
       "  text-align: right;\n",
       "}\n",
       "</style>\n",
       "<small>shape: (5, 4)</small><table border=\"1\" class=\"dataframe\"><thead><tr><th>user_id</th><th>age</th><th>sex</th><th>features</th></tr><tr><td>u32</td><td>cat</td><td>cat</td><td>list[str]</td></tr></thead><tbody><tr><td>1</td><td>&quot;45_54&quot;</td><td>&quot;sex_unknown&quot;</td><td>[&quot;45_54&quot;, &quot;sex_unknown&quot;]</td></tr><tr><td>2</td><td>&quot;18_24&quot;</td><td>&quot;0&quot;</td><td>[&quot;18_24&quot;, &quot;0&quot;]</td></tr><tr><td>3</td><td>&quot;65_inf&quot;</td><td>&quot;0&quot;</td><td>[&quot;65_inf&quot;, &quot;0&quot;]</td></tr><tr><td>4</td><td>&quot;18_24&quot;</td><td>&quot;0&quot;</td><td>[&quot;18_24&quot;, &quot;0&quot;]</td></tr><tr><td>5</td><td>&quot;35_44&quot;</td><td>&quot;0&quot;</td><td>[&quot;35_44&quot;, &quot;0&quot;]</td></tr></tbody></table></div>"
      ],
      "text/plain": [
       "shape: (5, 4)\n",
       "┌─────────┬────────┬─────────────┬──────────────────────────┐\n",
       "│ user_id ┆ age    ┆ sex         ┆ features                 │\n",
       "│ ---     ┆ ---    ┆ ---         ┆ ---                      │\n",
       "│ u32     ┆ cat    ┆ cat         ┆ list[str]                │\n",
       "╞═════════╪════════╪═════════════╪══════════════════════════╡\n",
       "│ 1       ┆ 45_54  ┆ sex_unknown ┆ [\"45_54\", \"sex_unknown\"] │\n",
       "│ 2       ┆ 18_24  ┆ 0           ┆ [\"18_24\", \"0\"]           │\n",
       "│ 3       ┆ 65_inf ┆ 0           ┆ [\"65_inf\", \"0\"]          │\n",
       "│ 4       ┆ 18_24  ┆ 0           ┆ [\"18_24\", \"0\"]           │\n",
       "│ 5       ┆ 35_44  ┆ 0           ┆ [\"35_44\", \"0\"]           │\n",
       "└─────────┴────────┴─────────────┴──────────────────────────┘"
      ]
     },
     "execution_count": 215,
     "metadata": {},
     "output_type": "execute_result"
    }
   ],
   "source": [
    "lfm_df_users.head()"
   ]
  },
  {
   "cell_type": "code",
   "execution_count": 216,
   "metadata": {},
   "outputs": [],
   "source": [
    "def to_light_fm_feature(row_info: dict, entity_key: str):\n",
    "    return (row_info[entity_key], row_info[\"features\"])"
   ]
  },
  {
   "cell_type": "code",
   "execution_count": 217,
   "metadata": {},
   "outputs": [
    {
     "data": {
      "text/plain": [
       "<151600x151610 sparse matrix of type '<class 'numpy.float32'>'\n",
       "\twith 422954 stored elements in Compressed Sparse Row format>"
      ]
     },
     "execution_count": 217,
     "metadata": {},
     "output_type": "execute_result"
    }
   ],
   "source": [
    "known_users_mask = lfm_df_users.select(pl.col(\"user_id\").is_in(df.select(pl.col(\"user_id\").unique()).to_series())).to_series()\n",
    "\n",
    "train_user_features = dataset.build_user_features(\n",
    "    map(lambda x: to_light_fm_feature(x, \"user_id\"), lfm_df_users.filter(known_users_mask).select(pl.col(\"user_id\"), pl.col('features')).to_dicts())\n",
    ")\n",
    "\n",
    "train_user_features"
   ]
  },
  {
   "cell_type": "code",
   "execution_count": 218,
   "metadata": {},
   "outputs": [],
   "source": [
    "lfm_df_items = lfm_df_items.with_columns(\n",
    "    pl.col(\"genres\").cast(str).str.split(\",\").alias(\"features\")\n",
    ")"
   ]
  },
  {
   "cell_type": "code",
   "execution_count": 219,
   "metadata": {},
   "outputs": [
    {
     "data": {
      "text/html": [
       "<div><style>\n",
       ".dataframe > thead > tr > th,\n",
       ".dataframe > tbody > tr > td {\n",
       "  text-align: right;\n",
       "}\n",
       "</style>\n",
       "<small>shape: (5, 6)</small><table border=\"1\" class=\"dataframe\"><thead><tr><th>item_id</th><th>title</th><th>genres</th><th>authors</th><th>year</th><th>features</th></tr><tr><td>u32</td><td>str</td><td>str</td><td>cat</td><td>cat</td><td>list[str]</td></tr></thead><tbody><tr><td>128115</td><td>&quot;ворон-челобитч…</td><td>&quot;зарубежная кла…</td><td>&quot;Михаил Салтыко…</td><td>&quot;1886&quot;</td><td>[&quot;зарубежная классика&quot;, &quot;зарубежные детские книги&quot;, … &quot;сказки&quot;]</td></tr><tr><td>210979</td><td>&quot;скрипка ротшил…</td><td>&quot;классическая п…</td><td>&quot;Антон Чехов&quot;</td><td>&quot;1894&quot;</td><td>[&quot;классическая проза&quot;, &quot;литература 19 века&quot;, &quot;русская классика&quot;]</td></tr><tr><td>95632</td><td>&quot;испорченные де…</td><td>&quot;зарубежная кла…</td><td>&quot;Михаил Салтыко…</td><td>&quot;1869&quot;</td><td>[&quot;зарубежная классика&quot;, &quot;классическая проза&quot;, … &quot;русская классика&quot;]</td></tr><tr><td>247906</td><td>&quot;странный челов…</td><td>&quot;литература 19 …</td><td>&quot;Михаил Лермонт…</td><td>&quot;1831&quot;</td><td>[&quot;литература 19 века&quot;, &quot;пьесы и драматургия&quot;]</td></tr><tr><td>294280</td><td>&quot;господа ташкен…</td><td>&quot;зарубежная кла…</td><td>&quot;Михаил Салтыко…</td><td>&quot;1873&quot;</td><td>[&quot;зарубежная классика&quot;, &quot;классическая проза&quot;, … &quot;русская классика&quot;]</td></tr></tbody></table></div>"
      ],
      "text/plain": [
       "shape: (5, 6)\n",
       "┌─────────┬───────────────────┬────────────────────┬────────────────────┬──────┬───────────────────┐\n",
       "│ item_id ┆ title             ┆ genres             ┆ authors            ┆ year ┆ features          │\n",
       "│ ---     ┆ ---               ┆ ---                ┆ ---                ┆ ---  ┆ ---               │\n",
       "│ u32     ┆ str               ┆ str                ┆ cat                ┆ cat  ┆ list[str]         │\n",
       "╞═════════╪═══════════════════╪════════════════════╪════════════════════╪══════╪═══════════════════╡\n",
       "│ 128115  ┆ ворон-челобитчик  ┆ зарубежная классик ┆ Михаил             ┆ 1886 ┆ [\"зарубежная      │\n",
       "│         ┆                   ┆ а,зарубежные д…    ┆ Салтыков-Щедрин    ┆      ┆ классика\",        │\n",
       "│         ┆                   ┆                    ┆                    ┆      ┆ \"зарубеж…         │\n",
       "│ 210979  ┆ скрипка ротшильда ┆ классическая       ┆ Антон Чехов        ┆ 1894 ┆ [\"классическая    │\n",
       "│         ┆                   ┆ проза,литература   ┆                    ┆      ┆ проза\",           │\n",
       "│         ┆                   ┆ 19…                ┆                    ┆      ┆ \"литерату…        │\n",
       "│ 95632   ┆ испорченные дети  ┆ зарубежная классик ┆ Михаил             ┆ 1869 ┆ [\"зарубежная      │\n",
       "│         ┆                   ┆ а,классическая…    ┆ Салтыков-Щедрин    ┆      ┆ классика\",        │\n",
       "│         ┆                   ┆                    ┆                    ┆      ┆ \"классич…         │\n",
       "│ 247906  ┆ странный человек  ┆ литература 19      ┆ Михаил Лермонтов   ┆ 1831 ┆ [\"литература 19   │\n",
       "│         ┆                   ┆ века,пьесы и       ┆                    ┆      ┆ века\", \"пьесы и … │\n",
       "│         ┆                   ┆ драма…             ┆                    ┆      ┆                   │\n",
       "│ 294280  ┆ господа ташкентцы ┆ зарубежная классик ┆ Михаил             ┆ 1873 ┆ [\"зарубежная      │\n",
       "│         ┆                   ┆ а,классическая…    ┆ Салтыков-Щедрин    ┆      ┆ классика\",        │\n",
       "│         ┆                   ┆                    ┆                    ┆      ┆ \"классич…         │\n",
       "└─────────┴───────────────────┴────────────────────┴────────────────────┴──────┴───────────────────┘"
      ]
     },
     "execution_count": 219,
     "metadata": {},
     "output_type": "execute_result"
    }
   ],
   "source": [
    "lfm_df_items.head()"
   ]
  },
  {
   "cell_type": "code",
   "execution_count": 220,
   "metadata": {},
   "outputs": [
    {
     "data": {
      "text/html": [
       "<div><style>\n",
       ".dataframe > thead > tr > th,\n",
       ".dataframe > tbody > tr > td {\n",
       "  text-align: right;\n",
       "}\n",
       "</style>\n",
       "<small>shape: (15, 1)</small><table border=\"1\" class=\"dataframe\"><thead><tr><th>features</th></tr><tr><td>struct[2]</td></tr></thead><tbody><tr><td>{1,21591}</td></tr><tr><td>{2,21037}</td></tr><tr><td>{3,11909}</td></tr><tr><td>{4,3707}</td></tr><tr><td>{5,846}</td></tr><tr><td>{6,278}</td></tr><tr><td>{7,107}</td></tr><tr><td>{8,61}</td></tr><tr><td>{9,27}</td></tr><tr><td>{10,17}</td></tr><tr><td>{11,11}</td></tr><tr><td>{13,4}</td></tr><tr><td>{17,2}</td></tr><tr><td>{12,1}</td></tr><tr><td>{16,1}</td></tr></tbody></table></div>"
      ],
      "text/plain": [
       "shape: (15, 1)\n",
       "┌───────────┐\n",
       "│ features  │\n",
       "│ ---       │\n",
       "│ struct[2] │\n",
       "╞═══════════╡\n",
       "│ {1,21591} │\n",
       "│ {2,21037} │\n",
       "│ {3,11909} │\n",
       "│ {4,3707}  │\n",
       "│ …         │\n",
       "│ {13,4}    │\n",
       "│ {17,2}    │\n",
       "│ {12,1}    │\n",
       "│ {16,1}    │\n",
       "└───────────┘"
      ]
     },
     "execution_count": 220,
     "metadata": {},
     "output_type": "execute_result"
    }
   ],
   "source": [
    "lfm_df_items.select(\n",
    "    pl.col(\"features\").apply(len).value_counts(sort=True)\n",
    ")"
   ]
  },
  {
   "cell_type": "code",
   "execution_count": 221,
   "metadata": {},
   "outputs": [
    {
     "data": {
      "text/plain": [
       "<59599x59835 sparse matrix of type '<class 'numpy.float32'>'\n",
       "\twith 181602 stored elements in Compressed Sparse Row format>"
      ]
     },
     "execution_count": 221,
     "metadata": {},
     "output_type": "execute_result"
    }
   ],
   "source": [
    "known_items_mask = lfm_df_items.select(pl.col(\"item_id\").is_in(df.select(\"item_id\").unique().to_series())).to_series()\n",
    "\n",
    "train_items_features = dataset.build_item_features(\n",
    "        map(lambda x: to_light_fm_feature(x, \"item_id\"), lfm_df_items.filter(known_items_mask).select(\n",
    "    pl.col(\"item_id\"),\n",
    "    pl.col(\"features\")\n",
    "        ).to_dicts())\n",
    ")\n",
    "train_items_features"
   ]
  },
  {
   "cell_type": "code",
   "execution_count": 222,
   "metadata": {},
   "outputs": [],
   "source": [
    "lfm_model = LightFM(no_components=64, learning_rate=0.05, loss='warp', max_sampled=5, random_state=23)"
   ]
  },
  {
   "cell_type": "code",
   "execution_count": 223,
   "metadata": {},
   "outputs": [
    {
     "data": {
      "application/vnd.jupyter.widget-view+json": {
       "model_id": "2f22a0d0a8334f21b8194af2d3fec01b",
       "version_major": 2,
       "version_minor": 0
      },
      "text/plain": [
       "  0%|          | 0/5 [00:00<?, ?it/s]"
      ]
     },
     "metadata": {},
     "output_type": "display_data"
    }
   ],
   "source": [
    "num_epochs = 5\n",
    "\n",
    "for _ in trange(num_epochs):\n",
    "    lfm_model.fit_partial(\n",
    "        train_mat, \n",
    "        user_features=train_user_features,\n",
    "        item_features=train_items_features,\n",
    "        num_threads=4\n",
    "    )"
   ]
  },
  {
   "cell_type": "code",
   "execution_count": 224,
   "metadata": {},
   "outputs": [
    {
     "name": "stdout",
     "output_type": "stream",
     "text": [
      "Рекомендации для пользователя 139942, номер строки - 119847\n"
     ]
    }
   ],
   "source": [
    "user_id = test.filter(pl.col(\"user_id\") == 139942).select(pl.col(\"user_id\"))[0, 0]\n",
    "row_id = lightfm_mapping['users_mapping'][user_id]\n",
    "print(f'Рекомендации для пользователя {user_id}, номер строки - {row_id}')"
   ]
  },
  {
   "cell_type": "code",
   "execution_count": 225,
   "metadata": {},
   "outputs": [
    {
     "data": {
      "text/plain": [
       "59599"
      ]
     },
     "execution_count": 225,
     "metadata": {},
     "output_type": "execute_result"
    }
   ],
   "source": [
    "all_cols = list(lightfm_mapping['items_mapping'].values())\n",
    "len(all_cols)"
   ]
  },
  {
   "cell_type": "code",
   "execution_count": 226,
   "metadata": {},
   "outputs": [
    {
     "data": {
      "text/plain": [
       "(array([-102.399666, -102.27788 , -100.914604, ..., -102.00917 ,\n",
       "        -103.496284, -102.586174], dtype=float32),\n",
       " (59599,))"
      ]
     },
     "execution_count": 226,
     "metadata": {},
     "output_type": "execute_result"
    }
   ],
   "source": [
    "pred = lfm_model.predict(row_id, all_cols, user_features=train_user_features, item_features=train_items_features)\n",
    "pred, pred.shape"
   ]
  },
  {
   "cell_type": "code",
   "execution_count": 227,
   "metadata": {},
   "outputs": [
    {
     "data": {
      "text/plain": [
       "array([43123, 38371, 53841,  4872,  7267, 13883, 43849, 55704, 35407,\n",
       "       13245])"
      ]
     },
     "execution_count": 227,
     "metadata": {},
     "output_type": "execute_result"
    }
   ],
   "source": [
    "top_cols = np.argpartition(pred, -np.arange(top_N))[-top_N:][::-1]\n",
    "top_cols"
   ]
  },
  {
   "cell_type": "code",
   "execution_count": 228,
   "metadata": {},
   "outputs": [
    {
     "data": {
      "text/plain": [
       "array([-98.128944, -98.70728 , -98.781395, -98.78466 , -98.78621 ,\n",
       "       -98.82544 , -98.8553  , -98.86375 , -98.86632 , -98.92416 ],\n",
       "      dtype=float32)"
      ]
     },
     "execution_count": 228,
     "metadata": {},
     "output_type": "execute_result"
    }
   ],
   "source": [
    "pred[top_cols]"
   ]
  },
  {
   "cell_type": "code",
   "execution_count": 229,
   "metadata": {},
   "outputs": [
    {
     "data": {
      "text/plain": [
       "-98.128944"
      ]
     },
     "execution_count": 229,
     "metadata": {},
     "output_type": "execute_result"
    }
   ],
   "source": [
    "pred.max()"
   ]
  },
  {
   "cell_type": "code",
   "execution_count": 230,
   "metadata": {},
   "outputs": [
    {
     "data": {
      "text/html": [
       "<div><style>\n",
       ".dataframe > thead > tr > th,\n",
       ".dataframe > tbody > tr > td {\n",
       "  text-align: right;\n",
       "}\n",
       "</style>\n",
       "<small>shape: (10, 3)</small><table border=\"1\" class=\"dataframe\"><thead><tr><th>col_id</th><th>item_id</th><th>title</th></tr><tr><td>u32</td><td>u32</td><td>str</td></tr></thead><tbody><tr><td>43123</td><td>99357</td><td>&quot;сила подсознан…</td></tr><tr><td>38371</td><td>281005</td><td>&quot;богатый папа, …</td></tr><tr><td>53841</td><td>90519</td><td>&quot;думай медленно…</td></tr><tr><td>4872</td><td>310952</td><td>&quot;вы ничего не з…</td></tr><tr><td>7267</td><td>89152</td><td>&quot;50 правил умно…</td></tr><tr><td>13883</td><td>211217</td><td>&quot;ни сы. восточн…</td></tr><tr><td>43849</td><td>264997</td><td>&quot;после&quot;</td></tr><tr><td>55704</td><td>24551</td><td>&quot;магическая убо…</td></tr><tr><td>35407</td><td>159580</td><td>&quot;пятьдесят отте…</td></tr><tr><td>13245</td><td>232537</td><td>&quot;поступай как ж…</td></tr></tbody></table></div>"
      ],
      "text/plain": [
       "shape: (10, 3)\n",
       "┌────────┬─────────┬───────────────────────────────────┐\n",
       "│ col_id ┆ item_id ┆ title                             │\n",
       "│ ---    ┆ ---     ┆ ---                               │\n",
       "│ u32    ┆ u32     ┆ str                               │\n",
       "╞════════╪═════════╪═══════════════════════════════════╡\n",
       "│ 43123  ┆ 99357   ┆ сила подсознания, или как измени… │\n",
       "│ 38371  ┆ 281005  ┆ богатый папа, бедный папа. робер… │\n",
       "│ 53841  ┆ 90519   ┆ думай медленно… решай быстро      │\n",
       "│ 4872   ┆ 310952  ┆ вы ничего не знаете о мужчинах    │\n",
       "│ …      ┆ …       ┆ …                                 │\n",
       "│ 43849  ┆ 264997  ┆ после                             │\n",
       "│ 55704  ┆ 24551   ┆ магическая уборка. японское иску… │\n",
       "│ 35407  ┆ 159580  ┆ пятьдесят оттенков серого         │\n",
       "│ 13245  ┆ 232537  ┆ поступай как женщина, думай как … │\n",
       "└────────┴─────────┴───────────────────────────────────┘"
      ]
     },
     "execution_count": 230,
     "metadata": {},
     "output_type": "execute_result"
    }
   ],
   "source": [
    "recs = pl.DataFrame(\n",
    "    {\"col_id\": top_cols,\n",
    "     \"item_id\": list(map(lightfm_mapping['items_inv_mapping'].get, top_cols))\n",
    "    },\n",
    "    schema={\"col_id\": test.schema[\"item_id\"], \"item_id\": test.schema[\"item_id\"]}\n",
    ")\n",
    "recs = recs.with_columns(pl.col(\"item_id\").apply(item_titles.get).alias(\"title\"))\n",
    "recs"
   ]
  },
  {
   "cell_type": "code",
   "execution_count": 231,
   "metadata": {},
   "outputs": [],
   "source": [
    "def create_lightfm():\n",
    "    return LightFMRecommender(\n",
    "        LightFM(\n",
    "            no_components=64, \n",
    "            learning_rate=0.05, \n",
    "            loss='warp', \n",
    "            max_sampled=5, \n",
    "            random_state=23),\n",
    "             num_epoch=15,\n",
    "             num_threads=5)"
   ]
  },
  {
   "cell_type": "code",
   "execution_count": 232,
   "metadata": {},
   "outputs": [],
   "source": [
    "cv_res_per_model.clear()"
   ]
  },
  {
   "cell_type": "code",
   "execution_count": 234,
   "metadata": {},
   "outputs": [
    {
     "data": {
      "application/vnd.jupyter.widget-view+json": {
       "model_id": "b3af9f4c3e9a415f8c28a53c005a0e97",
       "version_major": 2,
       "version_minor": 0
      },
      "text/plain": [
       "  0%|          | 0/7 [00:00<?, ?it/s]"
      ]
     },
     "metadata": {},
     "output_type": "display_data"
    }
   ],
   "source": [
    "for factory in (create_lightfm, ):\n",
    "    cross_valid_res_model, model = model_cross_validate(\n",
    "        df, \n",
    "        user_features=df_users, \n",
    "        item_features=df_items, \n",
    "        folds=folds_with_stats, \n",
    "        model_factory=factory, \n",
    "        n=top_N)\n",
    "    models[model.model_name()] = model\n",
    "    cv_res_per_model.append(cross_valid_res_model.to_pandas())\n",
    "    del cross_valid_res_model"
   ]
  },
  {
   "cell_type": "code",
   "execution_count": 235,
   "metadata": {},
   "outputs": [],
   "source": [
    "cross_valid_res = pd.concat([cross_valid_res] + cv_res_per_model)\n",
    "cv_res_per_model.clear()"
   ]
  },
  {
   "cell_type": "code",
   "execution_count": 236,
   "metadata": {},
   "outputs": [
    {
     "data": {
      "image/png": "[encoded data removed]",
      "text/plain": [
       "<Figure size 640x480 with 1 Axes>"
      ]
     },
     "metadata": {},
     "output_type": "display_data"
    }
   ],
   "source": [
    "ax = sns.scatterplot(cross_valid_res[cross_valid_res[\"name\"].isin([\"MAP\", \"MRR\"])], x=\"fold\", y=\"value\", style=\"name\", hue=\"model\")\n",
    "sns.move_legend(ax, \"upper left\", bbox_to_anchor=(1, 1))"
   ]
  },
  {
   "cell_type": "code",
   "execution_count": null,
   "metadata": {},
   "outputs": [],
   "source": []
  }
 ],
 "metadata": {
  "kernelspec": {
   "display_name": "recsys-l1-metrics",
   "language": "python",
   "name": "python3"
  },
  "language_info": {
   "codemirror_mode": {
    "name": "ipython",
    "version": 3
   },
   "file_extension": ".py",
   "mimetype": "text/x-python",
   "name": "python",
   "nbconvert_exporter": "python",
   "pygments_lexer": "ipython3",
   "version": "3.10.11"
  },
  "orig_nbformat": 4
 },
 "nbformat": 4,
 "nbformat_minor": 2
}
