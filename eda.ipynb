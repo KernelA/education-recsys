{
 "cells": [
  {
   "cell_type": "code",
   "execution_count": 1,
   "metadata": {},
   "outputs": [],
   "source": [
    "import os\n",
    "import warnings\n",
    "\n",
    "from numba import errors\n",
    "\n",
    "warnings.filterwarnings(\"ignore\", category=errors.NumbaDeprecationWarning)\n",
    "\n",
    "import hydra\n",
    "import polars as pl\n",
    "import seaborn as sns\n",
    "from ydata_profiling import ProfileReport\n"
   ]
  },
  {
   "cell_type": "code",
   "execution_count": 2,
   "metadata": {},
   "outputs": [],
   "source": [
    "%matplotlib inline"
   ]
  },
  {
   "cell_type": "code",
   "execution_count": 3,
   "metadata": {},
   "outputs": [],
   "source": [
    "with hydra.initialize(os.path.join(\"configs\", \"data\"), version_base=\"1.3\"):\n",
    "    data_config = hydra.compose(\"mts_lib\")"
   ]
  },
  {
   "cell_type": "code",
   "execution_count": 4,
   "metadata": {},
   "outputs": [],
   "source": [
    "users = pl.read_parquet(data_config.dump_files.users_path)"
   ]
  },
  {
   "cell_type": "code",
   "execution_count": 5,
   "metadata": {},
   "outputs": [
    {
     "data": {
      "text/html": [
       "<div><style>\n",
       ".dataframe > thead > tr > th,\n",
       ".dataframe > tbody > tr > td {\n",
       "  text-align: right;\n",
       "}\n",
       "</style>\n",
       "<small>shape: (9, 4)</small><table border=\"1\" class=\"dataframe\"><thead><tr><th>describe</th><th>user_id</th><th>age</th><th>sex</th></tr><tr><td>str</td><td>f64</td><td>str</td><td>str</td></tr></thead><tbody><tr><td>&quot;count&quot;</td><td>142888.0</td><td>&quot;142888&quot;</td><td>&quot;142888&quot;</td></tr><tr><td>&quot;null_count&quot;</td><td>0.0</td><td>&quot;146&quot;</td><td>&quot;6262&quot;</td></tr><tr><td>&quot;mean&quot;</td><td>79763.07769</td><td>null</td><td>null</td></tr><tr><td>&quot;std&quot;</td><td>46068.679277</td><td>null</td><td>null</td></tr><tr><td>&quot;min&quot;</td><td>1.0</td><td>null</td><td>null</td></tr><tr><td>&quot;max&quot;</td><td>159611.0</td><td>null</td><td>null</td></tr><tr><td>&quot;median&quot;</td><td>79757.5</td><td>null</td><td>null</td></tr><tr><td>&quot;25%&quot;</td><td>39852.0</td><td>null</td><td>null</td></tr><tr><td>&quot;75%&quot;</td><td>119652.0</td><td>null</td><td>null</td></tr></tbody></table></div>"
      ],
      "text/plain": [
       "shape: (9, 4)\n",
       "┌────────────┬──────────────┬────────┬────────┐\n",
       "│ describe   ┆ user_id      ┆ age    ┆ sex    │\n",
       "│ ---        ┆ ---          ┆ ---    ┆ ---    │\n",
       "│ str        ┆ f64          ┆ str    ┆ str    │\n",
       "╞════════════╪══════════════╪════════╪════════╡\n",
       "│ count      ┆ 142888.0     ┆ 142888 ┆ 142888 │\n",
       "│ null_count ┆ 0.0          ┆ 146    ┆ 6262   │\n",
       "│ mean       ┆ 79763.07769  ┆ null   ┆ null   │\n",
       "│ std        ┆ 46068.679277 ┆ null   ┆ null   │\n",
       "│ min        ┆ 1.0          ┆ null   ┆ null   │\n",
       "│ max        ┆ 159611.0     ┆ null   ┆ null   │\n",
       "│ median     ┆ 79757.5      ┆ null   ┆ null   │\n",
       "│ 25%        ┆ 39852.0      ┆ null   ┆ null   │\n",
       "│ 75%        ┆ 119652.0     ┆ null   ┆ null   │\n",
       "└────────────┴──────────────┴────────┴────────┘"
      ]
     },
     "execution_count": 5,
     "metadata": {},
     "output_type": "execute_result"
    }
   ],
   "source": [
    "users.describe()"
   ]
  },
  {
   "cell_type": "code",
   "execution_count": 6,
   "metadata": {},
   "outputs": [
    {
     "data": {
      "text/html": [
       "<div><style>\n",
       ".dataframe > thead > tr > th,\n",
       ".dataframe > tbody > tr > td {\n",
       "  text-align: right;\n",
       "}\n",
       "</style>\n",
       "<small>shape: (2, 3)</small><table border=\"1\" class=\"dataframe\"><thead><tr><th>user_id</th><th>age</th><th>sex</th></tr><tr><td>u32</td><td>cat</td><td>cat</td></tr></thead><tbody><tr><td>1</td><td>&quot;45_54&quot;</td><td>null</td></tr><tr><td>2</td><td>&quot;18_24&quot;</td><td>&quot;0&quot;</td></tr></tbody></table></div>"
      ],
      "text/plain": [
       "shape: (2, 3)\n",
       "┌─────────┬───────┬──────┐\n",
       "│ user_id ┆ age   ┆ sex  │\n",
       "│ ---     ┆ ---   ┆ ---  │\n",
       "│ u32     ┆ cat   ┆ cat  │\n",
       "╞═════════╪═══════╪══════╡\n",
       "│ 1       ┆ 45_54 ┆ null │\n",
       "│ 2       ┆ 18_24 ┆ 0    │\n",
       "└─────────┴───────┴──────┘"
      ]
     },
     "execution_count": 6,
     "metadata": {},
     "output_type": "execute_result"
    }
   ],
   "source": [
    "users.head(n=2)"
   ]
  },
  {
   "cell_type": "code",
   "execution_count": 7,
   "metadata": {},
   "outputs": [],
   "source": [
    "user_report = ProfileReport(\n",
    "    users.select(pl.col(\"*\").exclude(\"user_id\")).to_pandas().astype(\"category\"), dark_mode=True,\n",
    "    )"
   ]
  },
  {
   "cell_type": "code",
   "execution_count": 8,
   "metadata": {},
   "outputs": [
    {
     "data": {
      "application/vnd.jupyter.widget-view+json": {
       "model_id": "99388418fad64bacb472fd59295927e3",
       "version_major": 2,
       "version_minor": 0
      },
      "text/plain": [
       "Summarize dataset:   0%|          | 0/5 [00:00<?, ?it/s]"
      ]
     },
     "metadata": {},
     "output_type": "display_data"
    },
    {
     "data": {
      "application/vnd.jupyter.widget-view+json": {
       "model_id": "01b038a6afd641b7b5297daf199ad69b",
       "version_major": 2,
       "version_minor": 0
      },
      "text/plain": [
       "Generate report structure:   0%|          | 0/1 [00:00<?, ?it/s]"
      ]
     },
     "metadata": {},
     "output_type": "display_data"
    },
    {
     "data": {
      "application/vnd.jupyter.widget-view+json": {
       "model_id": "af5cf02836c646bea3ec71fcf397fa10",
       "version_major": 2,
       "version_minor": 0
      },
      "text/plain": [
       "Render widgets:   0%|          | 0/1 [00:00<?, ?it/s]"
      ]
     },
     "metadata": {},
     "output_type": "display_data"
    },
    {
     "data": {
      "application/vnd.jupyter.widget-view+json": {
       "model_id": "2fa5fbd614be4f748ff1471890a12699",
       "version_major": 2,
       "version_minor": 0
      },
      "text/plain": [
       "VBox(children=(Tab(children=(Tab(children=(GridBox(children=(VBox(children=(GridspecLayout(children=(HTML(valu…"
      ]
     },
     "metadata": {},
     "output_type": "display_data"
    }
   ],
   "source": [
    "user_report.to_widgets()"
   ]
  },
  {
   "cell_type": "code",
   "execution_count": 9,
   "metadata": {},
   "outputs": [],
   "source": [
    "items = pl.read_parquet(data_config.dump_files.items_path)"
   ]
  },
  {
   "cell_type": "code",
   "execution_count": 10,
   "metadata": {},
   "outputs": [
    {
     "data": {
      "text/html": [
       "<div><style>\n",
       ".dataframe > thead > tr > th,\n",
       ".dataframe > tbody > tr > td {\n",
       "  text-align: right;\n",
       "}\n",
       "</style>\n",
       "<small>shape: (5, 5)</small><table border=\"1\" class=\"dataframe\"><thead><tr><th>item_id</th><th>title</th><th>genres</th><th>authors</th><th>year</th></tr><tr><td>u32</td><td>str</td><td>str</td><td>str</td><td>cat</td></tr></thead><tbody><tr><td>128115</td><td>&quot;ворон-челобитч…</td><td>&quot;зарубежная кла…</td><td>&quot;Михаил Салтыко…</td><td>&quot;1886&quot;</td></tr><tr><td>210979</td><td>&quot;скрипка ротшил…</td><td>&quot;классическая п…</td><td>&quot;Антон Чехов&quot;</td><td>&quot;1894&quot;</td></tr><tr><td>95632</td><td>&quot;испорченные де…</td><td>&quot;зарубежная кла…</td><td>&quot;Михаил Салтыко…</td><td>&quot;1869&quot;</td></tr><tr><td>247906</td><td>&quot;странный челов…</td><td>&quot;литература 19 …</td><td>&quot;Михаил Лермонт…</td><td>&quot;1831&quot;</td></tr><tr><td>294280</td><td>&quot;господа ташкен…</td><td>&quot;зарубежная кла…</td><td>&quot;Михаил Салтыко…</td><td>&quot;1873&quot;</td></tr></tbody></table></div>"
      ],
      "text/plain": [
       "shape: (5, 5)\n",
       "┌─────────┬───────────────────┬───────────────────────────────────┬────────────────────────┬──────┐\n",
       "│ item_id ┆ title             ┆ genres                            ┆ authors                ┆ year │\n",
       "│ ---     ┆ ---               ┆ ---                               ┆ ---                    ┆ ---  │\n",
       "│ u32     ┆ str               ┆ str                               ┆ str                    ┆ cat  │\n",
       "╞═════════╪═══════════════════╪═══════════════════════════════════╪════════════════════════╪══════╡\n",
       "│ 128115  ┆ ворон-челобитчик  ┆ зарубежная классика,зарубежные д… ┆ Михаил Салтыков-Щедрин ┆ 1886 │\n",
       "│ 210979  ┆ скрипка ротшильда ┆ классическая проза,литература 19… ┆ Антон Чехов            ┆ 1894 │\n",
       "│ 95632   ┆ испорченные дети  ┆ зарубежная классика,классическая… ┆ Михаил Салтыков-Щедрин ┆ 1869 │\n",
       "│ 247906  ┆ странный человек  ┆ литература 19 века,пьесы и драма… ┆ Михаил Лермонтов       ┆ 1831 │\n",
       "│ 294280  ┆ господа ташкентцы ┆ зарубежная классика,классическая… ┆ Михаил Салтыков-Щедрин ┆ 1873 │\n",
       "└─────────┴───────────────────┴───────────────────────────────────┴────────────────────────┴──────┘"
      ]
     },
     "execution_count": 10,
     "metadata": {},
     "output_type": "execute_result"
    }
   ],
   "source": [
    "items.head()"
   ]
  },
  {
   "cell_type": "code",
   "execution_count": 11,
   "metadata": {},
   "outputs": [],
   "source": [
    "items_report = ProfileReport(\n",
    "    items.select(pl.col(\"*\").exclude(\"item_id\")).to_pandas(), minimal=True\n",
    ")"
   ]
  },
  {
   "cell_type": "code",
   "execution_count": 12,
   "metadata": {},
   "outputs": [
    {
     "data": {
      "application/vnd.jupyter.widget-view+json": {
       "model_id": "2f44fc9184ff49dc9de5717869f458e1",
       "version_major": 2,
       "version_minor": 0
      },
      "text/plain": [
       "Summarize dataset:   0%|          | 0/5 [00:00<?, ?it/s]"
      ]
     },
     "metadata": {},
     "output_type": "display_data"
    },
    {
     "data": {
      "application/vnd.jupyter.widget-view+json": {
       "model_id": "941e9d746cdc4671997a23da13f2c759",
       "version_major": 2,
       "version_minor": 0
      },
      "text/plain": [
       "Generate report structure:   0%|          | 0/1 [00:00<?, ?it/s]"
      ]
     },
     "metadata": {},
     "output_type": "display_data"
    },
    {
     "data": {
      "application/vnd.jupyter.widget-view+json": {
       "model_id": "db0aefa5544f4eddb6dd5e36abf62b99",
       "version_major": 2,
       "version_minor": 0
      },
      "text/plain": [
       "Render widgets:   0%|          | 0/1 [00:00<?, ?it/s]"
      ]
     },
     "metadata": {},
     "output_type": "display_data"
    },
    {
     "data": {
      "application/vnd.jupyter.widget-view+json": {
       "model_id": "fa5e5598553d49059bffa9f4746170ca",
       "version_major": 2,
       "version_minor": 0
      },
      "text/plain": [
       "VBox(children=(Tab(children=(Tab(children=(GridBox(children=(VBox(children=(GridspecLayout(children=(HTML(valu…"
      ]
     },
     "metadata": {},
     "output_type": "display_data"
    }
   ],
   "source": [
    "items_report.to_widgets()"
   ]
  },
  {
   "cell_type": "code",
   "execution_count": 13,
   "metadata": {},
   "outputs": [],
   "source": [
    "interactions = pl.read_parquet(data_config.dump_files.interactions_path).filter(\n",
    "    pl.col(\"user_id\").is_in(users.get_column(\"user_id\").unique()) & pl.col(\"item_id\").is_in(items.get_column(\"item_id\").unique())\n",
    ")"
   ]
  },
  {
   "cell_type": "code",
   "execution_count": 14,
   "metadata": {},
   "outputs": [
    {
     "data": {
      "text/html": [
       "<div><style>\n",
       ".dataframe > thead > tr > th,\n",
       ".dataframe > tbody > tr > td {\n",
       "  text-align: right;\n",
       "}\n",
       "</style>\n",
       "<small>shape: (9, 6)</small><table border=\"1\" class=\"dataframe\"><thead><tr><th>describe</th><th>user_id</th><th>item_id</th><th>progress</th><th>rating</th><th>start_date</th></tr><tr><td>str</td><td>f64</td><td>f64</td><td>f64</td><td>f64</td><td>str</td></tr></thead><tbody><tr><td>&quot;count&quot;</td><td>1.399932e6</td><td>1.399932e6</td><td>1.399932e6</td><td>1.399932e6</td><td>&quot;1399932&quot;</td></tr><tr><td>&quot;null_count&quot;</td><td>0.0</td><td>0.0</td><td>0.0</td><td>0.0</td><td>&quot;0&quot;</td></tr><tr><td>&quot;mean&quot;</td><td>79727.370951</td><td>160370.840816</td><td>47.924868</td><td>NaN</td><td>null</td></tr><tr><td>&quot;std&quot;</td><td>45978.473269</td><td>92932.012435</td><td>38.555174</td><td>NaN</td><td>null</td></tr><tr><td>&quot;min&quot;</td><td>1.0</td><td>1.0</td><td>0.0</td><td>1.0</td><td>&quot;2018-01-01&quot;</td></tr><tr><td>&quot;max&quot;</td><td>159611.0</td><td>321751.0</td><td>100.0</td><td>5.0</td><td>&quot;2019-12-31&quot;</td></tr><tr><td>&quot;median&quot;</td><td>79504.5</td><td>158918.0</td><td>45.0</td><td>NaN</td><td>null</td></tr><tr><td>&quot;25%&quot;</td><td>40104.0</td><td>81296.0</td><td>7.0</td><td>NaN</td><td>null</td></tr><tr><td>&quot;75%&quot;</td><td>119639.0</td><td>241026.0</td><td>90.0</td><td>NaN</td><td>null</td></tr></tbody></table></div>"
      ],
      "text/plain": [
       "shape: (9, 6)\n",
       "┌────────────┬──────────────┬───────────────┬────────────┬────────────┬────────────┐\n",
       "│ describe   ┆ user_id      ┆ item_id       ┆ progress   ┆ rating     ┆ start_date │\n",
       "│ ---        ┆ ---          ┆ ---           ┆ ---        ┆ ---        ┆ ---        │\n",
       "│ str        ┆ f64          ┆ f64           ┆ f64        ┆ f64        ┆ str        │\n",
       "╞════════════╪══════════════╪═══════════════╪════════════╪════════════╪════════════╡\n",
       "│ count      ┆ 1.399932e6   ┆ 1.399932e6    ┆ 1.399932e6 ┆ 1.399932e6 ┆ 1399932    │\n",
       "│ null_count ┆ 0.0          ┆ 0.0           ┆ 0.0        ┆ 0.0        ┆ 0          │\n",
       "│ mean       ┆ 79727.370951 ┆ 160370.840816 ┆ 47.924868  ┆ NaN        ┆ null       │\n",
       "│ std        ┆ 45978.473269 ┆ 92932.012435  ┆ 38.555174  ┆ NaN        ┆ null       │\n",
       "│ min        ┆ 1.0          ┆ 1.0           ┆ 0.0        ┆ 1.0        ┆ 2018-01-01 │\n",
       "│ max        ┆ 159611.0     ┆ 321751.0      ┆ 100.0      ┆ 5.0        ┆ 2019-12-31 │\n",
       "│ median     ┆ 79504.5      ┆ 158918.0      ┆ 45.0       ┆ NaN        ┆ null       │\n",
       "│ 25%        ┆ 40104.0      ┆ 81296.0       ┆ 7.0        ┆ NaN        ┆ null       │\n",
       "│ 75%        ┆ 119639.0     ┆ 241026.0      ┆ 90.0       ┆ NaN        ┆ null       │\n",
       "└────────────┴──────────────┴───────────────┴────────────┴────────────┴────────────┘"
      ]
     },
     "execution_count": 14,
     "metadata": {},
     "output_type": "execute_result"
    }
   ],
   "source": [
    "interactions.describe()"
   ]
  },
  {
   "cell_type": "code",
   "execution_count": 15,
   "metadata": {},
   "outputs": [],
   "source": [
    "inter_report = ProfileReport(interactions.select(pl.col(\"*\").exclude(\"item_id\", \"user_id\")).to_pandas())"
   ]
  },
  {
   "cell_type": "code",
   "execution_count": 16,
   "metadata": {},
   "outputs": [
    {
     "data": {
      "application/vnd.jupyter.widget-view+json": {
       "model_id": "adf391a27ab8493fa1d0d8e783242864",
       "version_major": 2,
       "version_minor": 0
      },
      "text/plain": [
       "Summarize dataset:   0%|          | 0/5 [00:00<?, ?it/s]"
      ]
     },
     "metadata": {},
     "output_type": "display_data"
    },
    {
     "data": {
      "application/vnd.jupyter.widget-view+json": {
       "model_id": "9b3aeac8a51f426f867eb591cc97b933",
       "version_major": 2,
       "version_minor": 0
      },
      "text/plain": [
       "Generate report structure:   0%|          | 0/1 [00:00<?, ?it/s]"
      ]
     },
     "metadata": {},
     "output_type": "display_data"
    },
    {
     "data": {
      "application/vnd.jupyter.widget-view+json": {
       "model_id": "a732448d57fb438580a125f24d0dec2e",
       "version_major": 2,
       "version_minor": 0
      },
      "text/plain": [
       "Render widgets:   0%|          | 0/1 [00:00<?, ?it/s]"
      ]
     },
     "metadata": {},
     "output_type": "display_data"
    },
    {
     "data": {
      "application/vnd.jupyter.widget-view+json": {
       "model_id": "cff4e6a124a441ff8b4f984406b6190e",
       "version_major": 2,
       "version_minor": 0
      },
      "text/plain": [
       "VBox(children=(Tab(children=(Tab(children=(GridBox(children=(VBox(children=(GridspecLayout(children=(HTML(valu…"
      ]
     },
     "metadata": {},
     "output_type": "display_data"
    }
   ],
   "source": [
    "inter_report.to_widgets()"
   ]
  },
  {
   "cell_type": "code",
   "execution_count": 19,
   "metadata": {},
   "outputs": [
    {
     "data": {
      "text/plain": [
       "<Axes: xlabel='progress', ylabel='Percent'>"
      ]
     },
     "execution_count": 19,
     "metadata": {},
     "output_type": "execute_result"
    },
    {
     "data": {
      "image/png": "[encoded data removed]",
      "text/plain": [
       "<Figure size 640x480 with 1 Axes>"
      ]
     },
     "metadata": {},
     "output_type": "display_data"
    }
   ],
   "source": [
    "sns.histplot(interactions.select((pl.col(\"progress\") // 5) * 5).to_pandas(use_pyarrow_extension_array=True), x=\"progress\",\n",
    "             stat=\"percent\")"
   ]
  },
  {
   "cell_type": "code",
   "execution_count": 27,
   "metadata": {},
   "outputs": [
    {
     "data": {
      "text/plain": [
       "<Axes: xlabel='progress', ylabel='num_interactions'>"
      ]
     },
     "execution_count": 27,
     "metadata": {},
     "output_type": "execute_result"
    },
    {
     "data": {
      "image/png": "[encoded data removed]",
      "text/plain": [
       "<Figure size 640x480 with 1 Axes>"
      ]
     },
     "metadata": {},
     "output_type": "display_data"
    }
   ],
   "source": [
    "sns.boxplot(interactions.with_columns((pl.col(\"progress\") // 20) * 20).groupby(\"user_id\", \"progress\").agg(\n",
    "    pl.count(\"item_id\").alias(\"num_interactions\")).to_pandas(use_pyarrow_extension_array=True), y=\"num_interactions\", x=\"progress\")\n"
   ]
  },
  {
   "cell_type": "code",
   "execution_count": null,
   "metadata": {},
   "outputs": [],
   "source": []
  }
 ],
 "metadata": {
  "kernelspec": {
   "display_name": "education-recsys",
   "language": "python",
   "name": "python3"
  },
  "language_info": {
   "codemirror_mode": {
    "name": "ipython",
    "version": 3
   },
   "file_extension": ".py",
   "mimetype": "text/x-python",
   "name": "python",
   "nbconvert_exporter": "python",
   "pygments_lexer": "ipython3",
   "version": "3.10.11"
  },
  "orig_nbformat": 4
 },
 "nbformat": 4,
 "nbformat_minor": 2
}
