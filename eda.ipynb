{
 "cells": [
  {
   "cell_type": "code",
   "execution_count": 124,
   "metadata": {},
   "outputs": [],
   "source": [
    "import os\n",
    "from datetime import timedelta\n",
    "\n",
    "import polars as pl\n",
    "import hydra\n",
    "import seaborn as sns\n",
    "\n",
    "from implicit.nearest_neighbours import TFIDFRecommender\n",
    "from huggingface_hub import hf_hub_download\n",
    "import fasttext\n",
    "import fasttext.util\n",
    "import numpy as np"
   ]
  },
  {
   "cell_type": "code",
   "execution_count": 125,
   "metadata": {},
   "outputs": [
    {
     "name": "stdout",
     "output_type": "stream",
     "text": [
      "The autoreload extension is already loaded. To reload it, use:\n",
      "  %reload_ext autoreload\n"
     ]
    }
   ],
   "source": [
    "%load_ext autoreload\n",
    "%autoreload 2\n",
    "\n",
    "\n",
    "from recs_utils.load_data import MTSDataset\n",
    "from recs_utils.implicit_model import ImplicitRecommender\n",
    "from recs_utils.split import TimeRangeSplit\n",
    "from recs_utils.neural_network.neg_samples import get_pos_neg_samples, compute_stat\n",
    "from recs_utils.neural_network.model import NeuralNetReccomender\n",
    "from recs_utils.neural_network.dataset import TripletDataset"
   ]
  },
  {
   "cell_type": "code",
   "execution_count": 126,
   "metadata": {},
   "outputs": [],
   "source": [
    "with hydra.initialize(os.path.join(\"configs\", \"data\"), version_base=\"1.3\"):\n",
    "    data_config = hydra.compose(\"mts_lib\")"
   ]
  },
  {
   "cell_type": "code",
   "execution_count": 127,
   "metadata": {},
   "outputs": [],
   "source": [
    "users = pl.read_parquet(data_config.dump_files.users_path)"
   ]
  },
  {
   "cell_type": "code",
   "execution_count": 128,
   "metadata": {},
   "outputs": [
    {
     "data": {
      "text/html": [
       "<div><style>\n",
       ".dataframe > thead > tr > th,\n",
       ".dataframe > tbody > tr > td {\n",
       "  text-align: right;\n",
       "}\n",
       "</style>\n",
       "<small>shape: (9, 4)</small><table border=\"1\" class=\"dataframe\"><thead><tr><th>describe</th><th>user_id</th><th>age</th><th>sex</th></tr><tr><td>str</td><td>f64</td><td>str</td><td>f64</td></tr></thead><tbody><tr><td>&quot;count&quot;</td><td>142888.0</td><td>&quot;142888&quot;</td><td>142888.0</td></tr><tr><td>&quot;null_count&quot;</td><td>0.0</td><td>&quot;146&quot;</td><td>6262.0</td></tr><tr><td>&quot;mean&quot;</td><td>79763.07769</td><td>null</td><td>0.326695</td></tr><tr><td>&quot;std&quot;</td><td>46068.679277</td><td>null</td><td>0.469006</td></tr><tr><td>&quot;min&quot;</td><td>1.0</td><td>null</td><td>0.0</td></tr><tr><td>&quot;max&quot;</td><td>159611.0</td><td>null</td><td>1.0</td></tr><tr><td>&quot;median&quot;</td><td>79757.5</td><td>null</td><td>0.0</td></tr><tr><td>&quot;25%&quot;</td><td>39852.0</td><td>null</td><td>0.0</td></tr><tr><td>&quot;75%&quot;</td><td>119652.0</td><td>null</td><td>1.0</td></tr></tbody></table></div>"
      ],
      "text/plain": [
       "shape: (9, 4)\n",
       "┌────────────┬──────────────┬────────┬──────────┐\n",
       "│ describe   ┆ user_id      ┆ age    ┆ sex      │\n",
       "│ ---        ┆ ---          ┆ ---    ┆ ---      │\n",
       "│ str        ┆ f64          ┆ str    ┆ f64      │\n",
       "╞════════════╪══════════════╪════════╪══════════╡\n",
       "│ count      ┆ 142888.0     ┆ 142888 ┆ 142888.0 │\n",
       "│ null_count ┆ 0.0          ┆ 146    ┆ 6262.0   │\n",
       "│ mean       ┆ 79763.07769  ┆ null   ┆ 0.326695 │\n",
       "│ std        ┆ 46068.679277 ┆ null   ┆ 0.469006 │\n",
       "│ min        ┆ 1.0          ┆ null   ┆ 0.0      │\n",
       "│ max        ┆ 159611.0     ┆ null   ┆ 1.0      │\n",
       "│ median     ┆ 79757.5      ┆ null   ┆ 0.0      │\n",
       "│ 25%        ┆ 39852.0      ┆ null   ┆ 0.0      │\n",
       "│ 75%        ┆ 119652.0     ┆ null   ┆ 1.0      │\n",
       "└────────────┴──────────────┴────────┴──────────┘"
      ]
     },
     "execution_count": 128,
     "metadata": {},
     "output_type": "execute_result"
    }
   ],
   "source": [
    "users.describe()"
   ]
  },
  {
   "cell_type": "code",
   "execution_count": 129,
   "metadata": {},
   "outputs": [
    {
     "data": {
      "text/html": [
       "<div><style>\n",
       ".dataframe > thead > tr > th,\n",
       ".dataframe > tbody > tr > td {\n",
       "  text-align: right;\n",
       "}\n",
       "</style>\n",
       "<small>shape: (7, 1)</small><table border=\"1\" class=\"dataframe\"><thead><tr><th>age</th></tr><tr><td>cat</td></tr></thead><tbody><tr><td>null</td></tr><tr><td>&quot;45_54&quot;</td></tr><tr><td>&quot;18_24&quot;</td></tr><tr><td>&quot;65_inf&quot;</td></tr><tr><td>&quot;35_44&quot;</td></tr><tr><td>&quot;55_64&quot;</td></tr><tr><td>&quot;25_34&quot;</td></tr></tbody></table></div>"
      ],
      "text/plain": [
       "shape: (7, 1)\n",
       "┌────────┐\n",
       "│ age    │\n",
       "│ ---    │\n",
       "│ cat    │\n",
       "╞════════╡\n",
       "│ null   │\n",
       "│ 45_54  │\n",
       "│ 18_24  │\n",
       "│ 65_inf │\n",
       "│ 35_44  │\n",
       "│ 55_64  │\n",
       "│ 25_34  │\n",
       "└────────┘"
      ]
     },
     "execution_count": 129,
     "metadata": {},
     "output_type": "execute_result"
    }
   ],
   "source": [
    "users.select(pl.col(\"age\").unique())"
   ]
  },
  {
   "cell_type": "code",
   "execution_count": 130,
   "metadata": {},
   "outputs": [
    {
     "data": {
      "text/html": [
       "<div><style>\n",
       ".dataframe > thead > tr > th,\n",
       ".dataframe > tbody > tr > td {\n",
       "  text-align: right;\n",
       "}\n",
       "</style>\n",
       "<small>shape: (3, 1)</small><table border=\"1\" class=\"dataframe\"><thead><tr><th>sex</th></tr><tr><td>i8</td></tr></thead><tbody><tr><td>null</td></tr><tr><td>0</td></tr><tr><td>1</td></tr></tbody></table></div>"
      ],
      "text/plain": [
       "shape: (3, 1)\n",
       "┌──────┐\n",
       "│ sex  │\n",
       "│ ---  │\n",
       "│ i8   │\n",
       "╞══════╡\n",
       "│ null │\n",
       "│ 0    │\n",
       "│ 1    │\n",
       "└──────┘"
      ]
     },
     "execution_count": 130,
     "metadata": {},
     "output_type": "execute_result"
    }
   ],
   "source": [
    "users.select(pl.col(\"sex\").unique())"
   ]
  },
  {
   "cell_type": "code",
   "execution_count": 131,
   "metadata": {},
   "outputs": [],
   "source": [
    "items = pl.read_parquet(data_config.dump_files.items_path)"
   ]
  },
  {
   "cell_type": "code",
   "execution_count": 132,
   "metadata": {},
   "outputs": [
    {
     "data": {
      "text/html": [
       "<div><style>\n",
       ".dataframe > thead > tr > th,\n",
       ".dataframe > tbody > tr > td {\n",
       "  text-align: right;\n",
       "}\n",
       "</style>\n",
       "<small>shape: (5, 5)</small><table border=\"1\" class=\"dataframe\"><thead><tr><th>item_id</th><th>title</th><th>genres</th><th>authors</th><th>year</th></tr><tr><td>u32</td><td>str</td><td>cat</td><td>cat</td><td>cat</td></tr></thead><tbody><tr><td>128115</td><td>&quot;Ворон-челобитч…</td><td>&quot;Зарубежные дет…</td><td>&quot;Михаил Салтыко…</td><td>&quot;1886&quot;</td></tr><tr><td>210979</td><td>&quot;Скрипка Ротшил…</td><td>&quot;Классическая п…</td><td>&quot;Антон Чехов&quot;</td><td>&quot;1894&quot;</td></tr><tr><td>95632</td><td>&quot;Испорченные де…</td><td>&quot;Зарубежная кла…</td><td>&quot;Михаил Салтыко…</td><td>&quot;1869&quot;</td></tr><tr><td>247906</td><td>&quot;Странный челов…</td><td>&quot;Пьесы и драмат…</td><td>&quot;Михаил Лермонт…</td><td>&quot;1831&quot;</td></tr><tr><td>294280</td><td>&quot;Господа ташкен…</td><td>&quot;Зарубежная кла…</td><td>&quot;Михаил Салтыко…</td><td>&quot;1873&quot;</td></tr></tbody></table></div>"
      ],
      "text/plain": [
       "shape: (5, 5)\n",
       "┌─────────┬───────────────────┬───────────────────────────────────┬────────────────────────┬──────┐\n",
       "│ item_id ┆ title             ┆ genres                            ┆ authors                ┆ year │\n",
       "│ ---     ┆ ---               ┆ ---                               ┆ ---                    ┆ ---  │\n",
       "│ u32     ┆ str               ┆ cat                               ┆ cat                    ┆ cat  │\n",
       "╞═════════╪═══════════════════╪═══════════════════════════════════╪════════════════════════╪══════╡\n",
       "│ 128115  ┆ Ворон-челобитчик  ┆ Зарубежные детские книги,Сказки,… ┆ Михаил Салтыков-Щедрин ┆ 1886 │\n",
       "│ 210979  ┆ Скрипка Ротшильда ┆ Классическая проза,Литература 19… ┆ Антон Чехов            ┆ 1894 │\n",
       "│ 95632   ┆ Испорченные дети  ┆ Зарубежная классика,Классическая… ┆ Михаил Салтыков-Щедрин ┆ 1869 │\n",
       "│ 247906  ┆ Странный человек  ┆ Пьесы и драматургия,Литература 1… ┆ Михаил Лермонтов       ┆ 1831 │\n",
       "│ 294280  ┆ Господа ташкентцы ┆ Зарубежная классика,Классическая… ┆ Михаил Салтыков-Щедрин ┆ 1873 │\n",
       "└─────────┴───────────────────┴───────────────────────────────────┴────────────────────────┴──────┘"
      ]
     },
     "execution_count": 132,
     "metadata": {},
     "output_type": "execute_result"
    }
   ],
   "source": [
    "items.head()"
   ]
  },
  {
   "cell_type": "code",
   "execution_count": 133,
   "metadata": {},
   "outputs": [
    {
     "data": {
      "text/html": [
       "<div><style>\n",
       ".dataframe > thead > tr > th,\n",
       ".dataframe > tbody > tr > td {\n",
       "  text-align: right;\n",
       "}\n",
       "</style>\n",
       "<small>shape: (9, 6)</small><table border=\"1\" class=\"dataframe\"><thead><tr><th>describe</th><th>item_id</th><th>title</th><th>genres</th><th>authors</th><th>year</th></tr><tr><td>str</td><td>f64</td><td>str</td><td>str</td><td>str</td><td>str</td></tr></thead><tbody><tr><td>&quot;count&quot;</td><td>59599.0</td><td>&quot;59599&quot;</td><td>&quot;59599&quot;</td><td>&quot;59599&quot;</td><td>&quot;59599&quot;</td></tr><tr><td>&quot;null_count&quot;</td><td>0.0</td><td>&quot;0&quot;</td><td>&quot;31&quot;</td><td>&quot;6885&quot;</td><td>&quot;12879&quot;</td></tr><tr><td>&quot;mean&quot;</td><td>160665.157402</td><td>null</td><td>null</td><td>null</td><td>null</td></tr><tr><td>&quot;std&quot;</td><td>92726.533331</td><td>null</td><td>null</td><td>null</td><td>null</td></tr><tr><td>&quot;min&quot;</td><td>1.0</td><td>&quot;# 20 восьмая&quot;</td><td>null</td><td>null</td><td>null</td></tr><tr><td>&quot;max&quot;</td><td>321751.0</td><td>&quot;�Baby blues�&quot;</td><td>null</td><td>null</td><td>null</td></tr><tr><td>&quot;median&quot;</td><td>160596.0</td><td>null</td><td>null</td><td>null</td><td>null</td></tr><tr><td>&quot;25%&quot;</td><td>80601.0</td><td>null</td><td>null</td><td>null</td><td>null</td></tr><tr><td>&quot;75%&quot;</td><td>240787.0</td><td>null</td><td>null</td><td>null</td><td>null</td></tr></tbody></table></div>"
      ],
      "text/plain": [
       "shape: (9, 6)\n",
       "┌────────────┬───────────────┬──────────────┬────────┬─────────┬───────┐\n",
       "│ describe   ┆ item_id       ┆ title        ┆ genres ┆ authors ┆ year  │\n",
       "│ ---        ┆ ---           ┆ ---          ┆ ---    ┆ ---     ┆ ---   │\n",
       "│ str        ┆ f64           ┆ str          ┆ str    ┆ str     ┆ str   │\n",
       "╞════════════╪═══════════════╪══════════════╪════════╪═════════╪═══════╡\n",
       "│ count      ┆ 59599.0       ┆ 59599        ┆ 59599  ┆ 59599   ┆ 59599 │\n",
       "│ null_count ┆ 0.0           ┆ 0            ┆ 31     ┆ 6885    ┆ 12879 │\n",
       "│ mean       ┆ 160665.157402 ┆ null         ┆ null   ┆ null    ┆ null  │\n",
       "│ std        ┆ 92726.533331  ┆ null         ┆ null   ┆ null    ┆ null  │\n",
       "│ min        ┆ 1.0           ┆ # 20 восьмая ┆ null   ┆ null    ┆ null  │\n",
       "│ max        ┆ 321751.0      ┆ �Baby blues� ┆ null   ┆ null    ┆ null  │\n",
       "│ median     ┆ 160596.0      ┆ null         ┆ null   ┆ null    ┆ null  │\n",
       "│ 25%        ┆ 80601.0       ┆ null         ┆ null   ┆ null    ┆ null  │\n",
       "│ 75%        ┆ 240787.0      ┆ null         ┆ null   ┆ null    ┆ null  │\n",
       "└────────────┴───────────────┴──────────────┴────────┴─────────┴───────┘"
      ]
     },
     "execution_count": 133,
     "metadata": {},
     "output_type": "execute_result"
    }
   ],
   "source": [
    "items.describe()"
   ]
  },
  {
   "cell_type": "code",
   "execution_count": 134,
   "metadata": {},
   "outputs": [
    {
     "data": {
      "text/html": [
       "<div><style>\n",
       ".dataframe > thead > tr > th,\n",
       ".dataframe > tbody > tr > td {\n",
       "  text-align: right;\n",
       "}\n",
       "</style>\n",
       "<small>shape: (1, 2)</small><table border=\"1\" class=\"dataframe\"><thead><tr><th>authors</th><th>year</th></tr><tr><td>u32</td><td>u32</td></tr></thead><tbody><tr><td>17266</td><td>1054</td></tr></tbody></table></div>"
      ],
      "text/plain": [
       "shape: (1, 2)\n",
       "┌─────────┬──────┐\n",
       "│ authors ┆ year │\n",
       "│ ---     ┆ ---  │\n",
       "│ u32     ┆ u32  │\n",
       "╞═════════╪══════╡\n",
       "│ 17266   ┆ 1054 │\n",
       "└─────────┴──────┘"
      ]
     },
     "execution_count": 134,
     "metadata": {},
     "output_type": "execute_result"
    }
   ],
   "source": [
    "items.select(pl.col(\"authors\").n_unique(), pl.col(\"year\").n_unique())"
   ]
  },
  {
   "cell_type": "code",
   "execution_count": 135,
   "metadata": {},
   "outputs": [],
   "source": [
    "interactions = pl.read_parquet(data_config.dump_files.interactions_path).filter(\n",
    "    pl.col(\"user_id\").is_in(users.get_column(\"user_id\").unique()) & pl.col(\"item_id\").is_in(items.get_column(\"item_id\").unique())\n",
    ")"
   ]
  },
  {
   "cell_type": "code",
   "execution_count": 136,
   "metadata": {},
   "outputs": [
    {
     "data": {
      "text/html": [
       "<div><style>\n",
       ".dataframe > thead > tr > th,\n",
       ".dataframe > tbody > tr > td {\n",
       "  text-align: right;\n",
       "}\n",
       "</style>\n",
       "<small>shape: (9, 6)</small><table border=\"1\" class=\"dataframe\"><thead><tr><th>describe</th><th>user_id</th><th>item_id</th><th>progress</th><th>rating</th><th>start_date</th></tr><tr><td>str</td><td>f64</td><td>f64</td><td>f64</td><td>f64</td><td>str</td></tr></thead><tbody><tr><td>&quot;count&quot;</td><td>1.399932e6</td><td>1.399932e6</td><td>1.399932e6</td><td>1.399932e6</td><td>&quot;1399932&quot;</td></tr><tr><td>&quot;null_count&quot;</td><td>0.0</td><td>0.0</td><td>0.0</td><td>0.0</td><td>&quot;0&quot;</td></tr><tr><td>&quot;mean&quot;</td><td>79727.370951</td><td>160370.840816</td><td>47.924868</td><td>NaN</td><td>null</td></tr><tr><td>&quot;std&quot;</td><td>45978.473269</td><td>92932.012435</td><td>38.555174</td><td>NaN</td><td>null</td></tr><tr><td>&quot;min&quot;</td><td>1.0</td><td>1.0</td><td>0.0</td><td>1.0</td><td>&quot;2018-01-01&quot;</td></tr><tr><td>&quot;max&quot;</td><td>159611.0</td><td>321751.0</td><td>100.0</td><td>5.0</td><td>&quot;2019-12-31&quot;</td></tr><tr><td>&quot;median&quot;</td><td>79504.5</td><td>158918.0</td><td>45.0</td><td>NaN</td><td>null</td></tr><tr><td>&quot;25%&quot;</td><td>40104.0</td><td>81296.0</td><td>7.0</td><td>NaN</td><td>null</td></tr><tr><td>&quot;75%&quot;</td><td>119639.0</td><td>241026.0</td><td>90.0</td><td>NaN</td><td>null</td></tr></tbody></table></div>"
      ],
      "text/plain": [
       "shape: (9, 6)\n",
       "┌────────────┬──────────────┬───────────────┬────────────┬────────────┬────────────┐\n",
       "│ describe   ┆ user_id      ┆ item_id       ┆ progress   ┆ rating     ┆ start_date │\n",
       "│ ---        ┆ ---          ┆ ---           ┆ ---        ┆ ---        ┆ ---        │\n",
       "│ str        ┆ f64          ┆ f64           ┆ f64        ┆ f64        ┆ str        │\n",
       "╞════════════╪══════════════╪═══════════════╪════════════╪════════════╪════════════╡\n",
       "│ count      ┆ 1.399932e6   ┆ 1.399932e6    ┆ 1.399932e6 ┆ 1.399932e6 ┆ 1399932    │\n",
       "│ null_count ┆ 0.0          ┆ 0.0           ┆ 0.0        ┆ 0.0        ┆ 0          │\n",
       "│ mean       ┆ 79727.370951 ┆ 160370.840816 ┆ 47.924868  ┆ NaN        ┆ null       │\n",
       "│ std        ┆ 45978.473269 ┆ 92932.012435  ┆ 38.555174  ┆ NaN        ┆ null       │\n",
       "│ min        ┆ 1.0          ┆ 1.0           ┆ 0.0        ┆ 1.0        ┆ 2018-01-01 │\n",
       "│ max        ┆ 159611.0     ┆ 321751.0      ┆ 100.0      ┆ 5.0        ┆ 2019-12-31 │\n",
       "│ median     ┆ 79504.5      ┆ 158918.0      ┆ 45.0       ┆ NaN        ┆ null       │\n",
       "│ 25%        ┆ 40104.0      ┆ 81296.0       ┆ 7.0        ┆ NaN        ┆ null       │\n",
       "│ 75%        ┆ 119639.0     ┆ 241026.0      ┆ 90.0       ┆ NaN        ┆ null       │\n",
       "└────────────┴──────────────┴───────────────┴────────────┴────────────┴────────────┘"
      ]
     },
     "execution_count": 136,
     "metadata": {},
     "output_type": "execute_result"
    }
   ],
   "source": [
    "interactions.describe()"
   ]
  },
  {
   "cell_type": "code",
   "execution_count": 137,
   "metadata": {},
   "outputs": [
    {
     "data": {
      "text/plain": [
       "<Axes: xlabel='progress'>"
      ]
     },
     "execution_count": 137,
     "metadata": {},
     "output_type": "execute_result"
    },
    {
     "data": {
      "image/png": "[encoded data removed]",
      "text/plain": [
       "<Figure size 640x480 with 1 Axes>"
      ]
     },
     "metadata": {},
     "output_type": "display_data"
    }
   ],
   "source": [
    "sns.violinplot(interactions.to_pandas(use_pyarrow_extension_array=True), x=\"progress\")"
   ]
  },
  {
   "cell_type": "code",
   "execution_count": 138,
   "metadata": {},
   "outputs": [],
   "source": [
    "minimum_interacted_items = 4\n",
    "\n",
    "selected_user = interactions.lazy().groupby(\"user_id\").agg(\n",
    "    pl.count(\"item_id\").alias(\"num_interacted_items\")).filter(pl.col(\"num_interacted_items\") >= minimum_interacted_items).collect().get_column(\"user_id\").unique()"
   ]
  },
  {
   "cell_type": "code",
   "execution_count": 139,
   "metadata": {},
   "outputs": [],
   "source": [
    "interactions = interactions.filter(pl.col(\"user_id\").is_in(selected_user))"
   ]
  },
  {
   "cell_type": "code",
   "execution_count": 140,
   "metadata": {},
   "outputs": [],
   "source": [
    "interval = timedelta(weeks=1)\n",
    "start_date = interactions.get_column(\"start_date\").max() - interval\n",
    "\n",
    "cv = TimeRangeSplit(\n",
    "    start_date=start_date, \n",
    "    interval=interval, \n",
    "    folds=5\n",
    ")"
   ]
  },
  {
   "cell_type": "code",
   "execution_count": 141,
   "metadata": {},
   "outputs": [],
   "source": [
    "train_index, test_index, fold_info = next(cv.split(interactions, datetime_column=\"start_date\", fold_stats=True))"
   ]
  },
  {
   "cell_type": "code",
   "execution_count": 142,
   "metadata": {},
   "outputs": [
    {
     "data": {
      "text/html": [
       "<div><style>\n",
       ".dataframe > thead > tr > th,\n",
       ".dataframe > tbody > tr > td {\n",
       "  text-align: right;\n",
       "}\n",
       "</style>\n",
       "<small>shape: (1, 9)</small><table border=\"1\" class=\"dataframe\"><thead><tr><th>Start date</th><th>End date</th><th>Train</th><th>New users</th><th>New users interactions</th><th>New items</th><th>New items interactions</th><th>Known interactions</th><th>Test</th></tr><tr><td>date</td><td>date</td><td>i64</td><td>i64</td><td>i64</td><td>i64</td><td>i64</td><td>i64</td><td>i64</td></tr></thead><tbody><tr><td>2019-12-24</td><td>2019-12-31</td><td>1360648</td><td>0</td><td>0</td><td>0</td><td>0</td><td>0</td><td>12977</td></tr></tbody></table></div>"
      ],
      "text/plain": [
       "shape: (1, 9)\n",
       "┌────────────┬────────────┬─────────┬───────────┬───┬───────────┬────────────┬────────────┬───────┐\n",
       "│ Start date ┆ End date   ┆ Train   ┆ New users ┆ … ┆ New items ┆ New items  ┆ Known inte ┆ Test  │\n",
       "│ ---        ┆ ---        ┆ ---     ┆ ---       ┆   ┆ ---       ┆ interactio ┆ ractions   ┆ ---   │\n",
       "│ date       ┆ date       ┆ i64     ┆ i64       ┆   ┆ i64       ┆ ns         ┆ ---        ┆ i64   │\n",
       "│            ┆            ┆         ┆           ┆   ┆           ┆ ---        ┆ i64        ┆       │\n",
       "│            ┆            ┆         ┆           ┆   ┆           ┆ i64        ┆            ┆       │\n",
       "╞════════════╪════════════╪═════════╪═══════════╪═══╪═══════════╪════════════╪════════════╪═══════╡\n",
       "│ 2019-12-24 ┆ 2019-12-31 ┆ 1360648 ┆ 0         ┆ … ┆ 0         ┆ 0          ┆ 0          ┆ 12977 │\n",
       "└────────────┴────────────┴─────────┴───────────┴───┴───────────┴────────────┴────────────┴───────┘"
      ]
     },
     "execution_count": 142,
     "metadata": {},
     "output_type": "execute_result"
    }
   ],
   "source": [
    "pl.from_dicts(fold_info)"
   ]
  },
  {
   "cell_type": "code",
   "execution_count": 143,
   "metadata": {},
   "outputs": [],
   "source": [
    "train_inter = interactions.join(train_index, on=[\"user_id\", \"item_id\"], how=\"inner\")"
   ]
  },
  {
   "cell_type": "code",
   "execution_count": 144,
   "metadata": {},
   "outputs": [],
   "source": [
    "test_inter = interactions.join(test_index, on=[\"user_id\", \"item_id\"], how=\"inner\")"
   ]
  },
  {
   "cell_type": "code",
   "execution_count": 145,
   "metadata": {},
   "outputs": [],
   "source": [
    "train_user_stat = compute_stat(train_inter)"
   ]
  },
  {
   "cell_type": "code",
   "execution_count": 146,
   "metadata": {},
   "outputs": [],
   "source": [
    "train_pos_inter, train_neg_inter = get_pos_neg_samples(train_inter, train_user_stat)"
   ]
  },
  {
   "cell_type": "code",
   "execution_count": 147,
   "metadata": {},
   "outputs": [],
   "source": [
    "assert train_pos_inter.get_column(\"user_id\").n_unique() / train_inter.get_column(\"user_id\").n_unique() == 1.0, \"Not all users have pos samples\""
   ]
  },
  {
   "cell_type": "code",
   "execution_count": 148,
   "metadata": {},
   "outputs": [
    {
     "data": {
      "text/plain": [
       "0.5705033411094856"
      ]
     },
     "execution_count": 148,
     "metadata": {},
     "output_type": "execute_result"
    }
   ],
   "source": [
    "train_neg_inter.get_column(\"user_id\").n_unique() / train_inter.get_column(\"user_id\").n_unique()"
   ]
  },
  {
   "cell_type": "code",
   "execution_count": 149,
   "metadata": {},
   "outputs": [],
   "source": [
    "users_without_neg_samples = train_pos_inter.join(train_neg_inter, on=[\"user_id\"], how=\"anti\").get_column(\"user_id\").unique()"
   ]
  },
  {
   "cell_type": "code",
   "execution_count": 150,
   "metadata": {},
   "outputs": [
    {
     "data": {
      "text/html": [
       "<div><style>\n",
       ".dataframe > thead > tr > th,\n",
       ".dataframe > tbody > tr > td {\n",
       "  text-align: right;\n",
       "}\n",
       "</style>\n",
       "<small>shape: (1, 2)</small><table border=\"1\" class=\"dataframe\"><thead><tr><th>user_id</th><th>item_id</th></tr><tr><td>f64</td><td>f64</td></tr></thead><tbody><tr><td>79697.17213</td><td>3.735151</td></tr></tbody></table></div>"
      ],
      "text/plain": [
       "shape: (1, 2)\n",
       "┌─────────────┬──────────┐\n",
       "│ user_id     ┆ item_id  │\n",
       "│ ---         ┆ ---      │\n",
       "│ f64         ┆ f64      │\n",
       "╞═════════════╪══════════╡\n",
       "│ 79697.17213 ┆ 3.735151 │\n",
       "└─────────────┴──────────┘"
      ]
     },
     "execution_count": 150,
     "metadata": {},
     "output_type": "execute_result"
    }
   ],
   "source": [
    "train_neg_inter.groupby(\"user_id\").agg(pl.n_unique(\"item_id\")).mean()"
   ]
  },
  {
   "cell_type": "code",
   "execution_count": 151,
   "metadata": {},
   "outputs": [],
   "source": [
    "simple_model = ImplicitRecommender(\n",
    "    TFIDFRecommender(K=30),\n",
    ")"
   ]
  },
  {
   "cell_type": "code",
   "execution_count": 152,
   "metadata": {},
   "outputs": [
    {
     "name": "stderr",
     "output_type": "stream",
     "text": [
      "/mnt/2TBHDD/users/kernela/conda-envs/education-recsys/lib/python3.10/site-packages/implicit/utils.py:138: ParameterWarning: Method expects CSR input, and was passed coo_matrix instead. Converting to CSR took 0.008324384689331055 seconds\n",
      "  warnings.warn(\n"
     ]
    }
   ],
   "source": [
    "simple_model.fit(train_inter, user_features=users, item_features=items)"
   ]
  },
  {
   "cell_type": "code",
   "execution_count": 153,
   "metadata": {},
   "outputs": [],
   "source": [
    "predicted_recs = simple_model.recommend(train_inter.filter(pl.col(\"user_id\").is_in(users_without_neg_samples)), num_recs_per_user=20)"
   ]
  },
  {
   "cell_type": "code",
   "execution_count": 154,
   "metadata": {},
   "outputs": [],
   "source": [
    "del simple_model"
   ]
  },
  {
   "cell_type": "code",
   "execution_count": 155,
   "metadata": {},
   "outputs": [],
   "source": [
    "train_neg_inter = train_neg_inter.select(pl.col(\"user_id\", \"item_id\", \"target\")).vstack(\n",
    "    predicted_recs.join(train_inter, on=[\"user_id\", \"item_id\"], how=\"anti\").select(pl.col(\"user_id\", \"item_id\")).with_columns(pl.lit(0).alias(\"target\"))\n",
    ")"
   ]
  },
  {
   "cell_type": "code",
   "execution_count": 156,
   "metadata": {},
   "outputs": [
    {
     "data": {
      "text/plain": [
       "1.0"
      ]
     },
     "execution_count": 156,
     "metadata": {},
     "output_type": "execute_result"
    }
   ],
   "source": [
    "train_neg_inter.get_column(\"user_id\").n_unique() / train_inter.get_column(\"user_id\").n_unique()"
   ]
  },
  {
   "cell_type": "code",
   "execution_count": 157,
   "metadata": {},
   "outputs": [
    {
     "data": {
      "text/html": [
       "<div><style>\n",
       ".dataframe > thead > tr > th,\n",
       ".dataframe > tbody > tr > td {\n",
       "  text-align: right;\n",
       "}\n",
       "</style>\n",
       "<small>shape: (1, 2)</small><table border=\"1\" class=\"dataframe\"><thead><tr><th>user_id</th><th>item_id</th></tr><tr><td>f64</td><td>f64</td></tr></thead><tbody><tr><td>79816.310869</td><td>10.720849</td></tr></tbody></table></div>"
      ],
      "text/plain": [
       "shape: (1, 2)\n",
       "┌──────────────┬───────────┐\n",
       "│ user_id      ┆ item_id   │\n",
       "│ ---          ┆ ---       │\n",
       "│ f64          ┆ f64       │\n",
       "╞══════════════╪═══════════╡\n",
       "│ 79816.310869 ┆ 10.720849 │\n",
       "└──────────────┴───────────┘"
      ]
     },
     "execution_count": 157,
     "metadata": {},
     "output_type": "execute_result"
    }
   ],
   "source": [
    "train_neg_inter.groupby(\"user_id\").agg(pl.n_unique(\"item_id\")).mean()"
   ]
  },
  {
   "cell_type": "code",
   "execution_count": 158,
   "metadata": {},
   "outputs": [],
   "source": [
    "train_samples = train_pos_inter.select(pl.col(\"user_id\", \"item_id\", \"target\")).vstack(train_neg_inter)"
   ]
  },
  {
   "cell_type": "code",
   "execution_count": 159,
   "metadata": {},
   "outputs": [
    {
     "data": {
      "text/html": [
       "<div><style>\n",
       ".dataframe > thead > tr > th,\n",
       ".dataframe > tbody > tr > td {\n",
       "  text-align: right;\n",
       "}\n",
       "</style>\n",
       "<small>shape: (3, 3)</small><table border=\"1\" class=\"dataframe\"><thead><tr><th>user_id</th><th>item_id</th><th>target</th></tr><tr><td>u32</td><td>u32</td><td>i32</td></tr></thead><tbody><tr><td>126706</td><td>14433</td><td>1</td></tr><tr><td>127290</td><td>140952</td><td>1</td></tr><tr><td>46791</td><td>83486</td><td>1</td></tr></tbody></table></div>"
      ],
      "text/plain": [
       "shape: (3, 3)\n",
       "┌─────────┬─────────┬────────┐\n",
       "│ user_id ┆ item_id ┆ target │\n",
       "│ ---     ┆ ---     ┆ ---    │\n",
       "│ u32     ┆ u32     ┆ i32    │\n",
       "╞═════════╪═════════╪════════╡\n",
       "│ 126706  ┆ 14433   ┆ 1      │\n",
       "│ 127290  ┆ 140952  ┆ 1      │\n",
       "│ 46791   ┆ 83486   ┆ 1      │\n",
       "└─────────┴─────────┴────────┘"
      ]
     },
     "execution_count": 159,
     "metadata": {},
     "output_type": "execute_result"
    }
   ],
   "source": [
    "train_samples.head(n=3)"
   ]
  },
  {
   "cell_type": "code",
   "execution_count": 160,
   "metadata": {},
   "outputs": [],
   "source": [
    "user_features = users.with_columns(\n",
    "    pl.col(\"sex\").fill_null(-1),\n",
    "    pl.col(\"age\").cast(str).fill_null(\"unknown\").cast(pl.Categorical)).select(pl.col(\"user_id\", \"age\", \"sex\")).to_dummies([\"age\", \"sex\"])"
   ]
  },
  {
   "cell_type": "code",
   "execution_count": 161,
   "metadata": {},
   "outputs": [
    {
     "data": {
      "text/html": [
       "<div><style>\n",
       ".dataframe > thead > tr > th,\n",
       ".dataframe > tbody > tr > td {\n",
       "  text-align: right;\n",
       "}\n",
       "</style>\n",
       "<small>shape: (3, 11)</small><table border=\"1\" class=\"dataframe\"><thead><tr><th>user_id</th><th>age_18_24</th><th>age_25_34</th><th>age_35_44</th><th>age_45_54</th><th>age_55_64</th><th>age_65_inf</th><th>age_unknown</th><th>sex_-1</th><th>sex_0</th><th>sex_1</th></tr><tr><td>u32</td><td>u8</td><td>u8</td><td>u8</td><td>u8</td><td>u8</td><td>u8</td><td>u8</td><td>u8</td><td>u8</td><td>u8</td></tr></thead><tbody><tr><td>1</td><td>0</td><td>0</td><td>0</td><td>1</td><td>0</td><td>0</td><td>0</td><td>1</td><td>0</td><td>0</td></tr><tr><td>2</td><td>1</td><td>0</td><td>0</td><td>0</td><td>0</td><td>0</td><td>0</td><td>0</td><td>1</td><td>0</td></tr><tr><td>3</td><td>0</td><td>0</td><td>0</td><td>0</td><td>0</td><td>1</td><td>0</td><td>0</td><td>1</td><td>0</td></tr></tbody></table></div>"
      ],
      "text/plain": [
       "shape: (3, 11)\n",
       "┌─────────┬───────────┬───────────┬───────────┬───┬─────────────┬────────┬───────┬───────┐\n",
       "│ user_id ┆ age_18_24 ┆ age_25_34 ┆ age_35_44 ┆ … ┆ age_unknown ┆ sex_-1 ┆ sex_0 ┆ sex_1 │\n",
       "│ ---     ┆ ---       ┆ ---       ┆ ---       ┆   ┆ ---         ┆ ---    ┆ ---   ┆ ---   │\n",
       "│ u32     ┆ u8        ┆ u8        ┆ u8        ┆   ┆ u8          ┆ u8     ┆ u8    ┆ u8    │\n",
       "╞═════════╪═══════════╪═══════════╪═══════════╪═══╪═════════════╪════════╪═══════╪═══════╡\n",
       "│ 1       ┆ 0         ┆ 0         ┆ 0         ┆ … ┆ 0           ┆ 1      ┆ 0     ┆ 0     │\n",
       "│ 2       ┆ 1         ┆ 0         ┆ 0         ┆ … ┆ 0           ┆ 0      ┆ 1     ┆ 0     │\n",
       "│ 3       ┆ 0         ┆ 0         ┆ 0         ┆ … ┆ 0           ┆ 0      ┆ 1     ┆ 0     │\n",
       "└─────────┴───────────┴───────────┴───────────┴───┴─────────────┴────────┴───────┴───────┘"
      ]
     },
     "execution_count": 161,
     "metadata": {},
     "output_type": "execute_result"
    }
   ],
   "source": [
    "user_features.head(n=3)"
   ]
  },
  {
   "cell_type": "code",
   "execution_count": 162,
   "metadata": {},
   "outputs": [],
   "source": [
    "model_path = hf_hub_download(repo_id=\"facebook/fasttext-ru-vectors\", filename=\"model.bin\")"
   ]
  },
  {
   "cell_type": "code",
   "execution_count": 163,
   "metadata": {},
   "outputs": [
    {
     "name": "stderr",
     "output_type": "stream",
     "text": [
      "Warning : `load_model` does not return WordVectorModel or SupervisedModel any more, but a `FastText` object which is very similar.\n"
     ]
    }
   ],
   "source": [
    "model = fasttext.load_model(model_path)"
   ]
  },
  {
   "cell_type": "code",
   "execution_count": 164,
   "metadata": {},
   "outputs": [
    {
     "data": {
      "text/plain": [
       "<fasttext.FastText._FastText at 0x7fe5bdbd9e40>"
      ]
     },
     "execution_count": 164,
     "metadata": {},
     "output_type": "execute_result"
    }
   ],
   "source": [
    "fasttext.util.reduce_model(model, 100)"
   ]
  },
  {
   "cell_type": "code",
   "execution_count": 165,
   "metadata": {},
   "outputs": [],
   "source": [
    "title_embeddings = []"
   ]
  },
  {
   "cell_type": "code",
   "execution_count": 166,
   "metadata": {},
   "outputs": [],
   "source": [
    "for row in items.iter_rows(named=True):\n",
    "    title_embeddings.append(model.get_sentence_vector(row[\"title\"]).reshape(1, -1))"
   ]
  },
  {
   "cell_type": "code",
   "execution_count": 167,
   "metadata": {},
   "outputs": [],
   "source": [
    "item_features = pl.DataFrame(np.concatenate(title_embeddings, axis=0)).hstack([items.get_column(\"item_id\")])\n",
    "del title_embeddings"
   ]
  },
  {
   "cell_type": "code",
   "execution_count": 168,
   "metadata": {},
   "outputs": [],
   "source": [
    "dataset = TripletDataset(train_samples, user_features, item_features)"
   ]
  },
  {
   "cell_type": "code",
   "execution_count": 169,
   "metadata": {},
   "outputs": [],
   "source": [
    "import torch\n",
    "from torch.utils.data import DataLoader"
   ]
  }
 ],
 "metadata": {
  "kernelspec": {
   "display_name": "education-recsys",
   "language": "python",
   "name": "python3"
  },
  "language_info": {
   "codemirror_mode": {
    "name": "ipython",
    "version": 3
   },
   "file_extension": ".py",
   "mimetype": "text/x-python",
   "name": "python",
   "nbconvert_exporter": "python",
   "pygments_lexer": "ipython3",
   "version": "3.10.9"
  },
  "orig_nbformat": 4
 },
 "nbformat": 4,
 "nbformat_minor": 2
}
