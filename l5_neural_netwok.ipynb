{
 "cells": [
  {
   "cell_type": "code",
   "execution_count": 52,
   "metadata": {},
   "outputs": [],
   "source": [
    "import pathlib\n",
    "\n",
    "import torch\n",
    "import hydra\n",
    "import polars as pl\n",
    "from torch.utils import data\n",
    "import seaborn as sns"
   ]
  },
  {
   "cell_type": "code",
   "execution_count": 2,
   "metadata": {},
   "outputs": [],
   "source": [
    "%load_ext autoreload\n",
    "%autoreload 2\n",
    "\n",
    "from recs_utils.neural_network.dataset import UserDataset, ItemDataset\n",
    "from recs_utils.utils import load_pickle\n",
    "from recs_utils.neural_network.model import NeuralNetRecommender"
   ]
  },
  {
   "cell_type": "code",
   "execution_count": 3,
   "metadata": {},
   "outputs": [],
   "source": [
    "with hydra.initialize(\"configs\", version_base=\"1.3\"):\n",
    "    training_config = hydra.compose(\"nn_rec\", return_hydra_config=True)"
   ]
  },
  {
   "cell_type": "code",
   "execution_count": 4,
   "metadata": {},
   "outputs": [],
   "source": [
    "exp_dir = pathlib.Path(training_config.hydra.run.dir)\n",
    "del training_config"
   ]
  },
  {
   "cell_type": "code",
   "execution_count": 5,
   "metadata": {},
   "outputs": [],
   "source": [
    "checkpoint_dir = exp_dir / \"checkpoints\"\n",
    "config = exp_dir / \".hydra\" / \"config.yaml\""
   ]
  },
  {
   "cell_type": "code",
   "execution_count": 6,
   "metadata": {},
   "outputs": [],
   "source": [
    "with hydra.initialize(str(config.parent), version_base=\"1.3\"):\n",
    "    exp_config = hydra.compose(\"config\")"
   ]
  },
  {
   "cell_type": "code",
   "execution_count": 7,
   "metadata": {},
   "outputs": [],
   "source": [
    "data_dir = pathlib.Path(exp_config.data_dir)"
   ]
  },
  {
   "cell_type": "code",
   "execution_count": 8,
   "metadata": {},
   "outputs": [],
   "source": [
    "all_item_features = pl.read_parquet(data_dir / \"features\" / \"items.parquet\")"
   ]
  },
  {
   "cell_type": "code",
   "execution_count": 9,
   "metadata": {},
   "outputs": [],
   "source": [
    "test_interactions = pl.read_parquet(data_dir / \"interactions\" / \"test_inter.parquet\")"
   ]
  },
  {
   "cell_type": "code",
   "execution_count": 10,
   "metadata": {},
   "outputs": [],
   "source": [
    "feature_dir = pathlib.Path(exp_config.feature_dir)"
   ]
  },
  {
   "cell_type": "code",
   "execution_count": 11,
   "metadata": {},
   "outputs": [],
   "source": [
    "user_features_nn = pl.read_parquet(feature_dir / \"user_features.parquet\")"
   ]
  },
  {
   "cell_type": "code",
   "execution_count": 12,
   "metadata": {},
   "outputs": [],
   "source": [
    "item_features_nn = pl.read_parquet(feature_dir / \"items.parquet\")"
   ]
  },
  {
   "cell_type": "code",
   "execution_count": 13,
   "metadata": {},
   "outputs": [],
   "source": [
    "user_encoder = load_pickle(exp_dir / \"user_encoder.pickle\")\n",
    "item_encoder = load_pickle(exp_dir / \"item_encoder.pickle\")"
   ]
  },
  {
   "cell_type": "code",
   "execution_count": 14,
   "metadata": {},
   "outputs": [],
   "source": [
    "user_dataset = UserDataset(user_features_nn.join(test_interactions.select(pl.col(\"user_id\").unique()), on=[\"user_id\"]), user_encoder)"
   ]
  },
  {
   "cell_type": "code",
   "execution_count": 15,
   "metadata": {},
   "outputs": [],
   "source": [
    "item_dataset = ItemDataset(item_features_nn.join(test_interactions.select(pl.col(\"item_id\").unique()), on=[\"item_id\"]), item_encoder,\n",
    "                           item_key_name=\"local_item_id\", item_features_key_name=\"item_features\")"
   ]
  },
  {
   "cell_type": "code",
   "execution_count": 16,
   "metadata": {},
   "outputs": [],
   "source": [
    "checkpoint_path = exp_dir / \"checkpoints\" / \"best-val-loss.ckpt\""
   ]
  },
  {
   "cell_type": "code",
   "execution_count": 17,
   "metadata": {},
   "outputs": [],
   "source": [
    "model: NeuralNetRecommender = hydra.utils.instantiate(exp_config.model,\n",
    "                                                        num_users=len(user_encoder.classes_),\n",
    "                                                        num_items=len(item_encoder.classes_),\n",
    "                                                          # minus user_id col\n",
    "                                                          num_user_features=user_features_nn.shape[1] - 1,\n",
    "                                                          # minus item_id col\n",
    "                                                          num_item_features=item_features_nn.shape[1] - 1,\n",
    "                                                          )"
   ]
  },
  {
   "cell_type": "code",
   "execution_count": 34,
   "metadata": {},
   "outputs": [],
   "source": [
    "model.load_state_dict(torch.load(checkpoint_path, weights_only=True));\n",
    "model.eval();"
   ]
  },
  {
   "cell_type": "code",
   "execution_count": 27,
   "metadata": {},
   "outputs": [
    {
     "name": "stderr",
     "output_type": "stream",
     "text": [
      "/home/alex/miniconda3/envs/recsys/lib/python3.10/site-packages/torch/jit/annotations.py:310: UserWarning: TorchScript will treat type annotations of Tensor dtype-specific subtypes as if they are normal Tensors. dtype constraints are not enforced in compilation either.\n",
      "  warnings.warn(\"TorchScript will treat type annotations of Tensor \"\n"
     ]
    }
   ],
   "source": [
    "model = torch.jit.script(model)"
   ]
  },
  {
   "cell_type": "code",
   "execution_count": 20,
   "metadata": {},
   "outputs": [],
   "source": [
    "user_info = user_dataset[0]"
   ]
  },
  {
   "cell_type": "code",
   "execution_count": 21,
   "metadata": {},
   "outputs": [
    {
     "data": {
      "text/plain": [
       "{'local_user_id': tensor([2]),\n",
       " 'user_features': tensor([[0., 0., 0., 0., 0., 1., 0., 1., 0., 0.]])}"
      ]
     },
     "execution_count": 21,
     "metadata": {},
     "output_type": "execute_result"
    }
   ],
   "source": [
    "user_info"
   ]
  },
  {
   "cell_type": "code",
   "execution_count": 27,
   "metadata": {},
   "outputs": [],
   "source": [
    "with torch.no_grad():\n",
    "    user_embedding = model.get_user_embedding(user_info[\"local_user_id\"], user_info[\"user_features\"])"
   ]
  },
  {
   "cell_type": "code",
   "execution_count": 35,
   "metadata": {},
   "outputs": [],
   "source": [
    "def simple_collate_fn(batch):\n",
    "    return batch[0]"
   ]
  },
  {
   "cell_type": "code",
   "execution_count": 36,
   "metadata": {},
   "outputs": [],
   "source": [
    "item_dataloader = data.DataLoader(\n",
    "    item_dataset,\n",
    "    sampler=data.BatchSampler(data.SequentialSampler(item_dataset),\n",
    "                                  batch_size=20_000, drop_last=False),\n",
    "    collate_fn=simple_collate_fn\n",
    ")"
   ]
  },
  {
   "cell_type": "code",
   "execution_count": 47,
   "metadata": {},
   "outputs": [],
   "source": [
    "local_item_ids = []\n",
    "item_embeddings = []\n",
    "\n",
    "with torch.no_grad():\n",
    "    for batch in item_dataloader:\n",
    "        batch_item_embedding = model.get_item_embedding(batch[\"local_item_id\"], batch[\"item_features\"])\n",
    "        local_item_ids.append(batch[\"local_item_id\"])\n",
    "        item_embeddings.append(batch_item_embedding)\n",
    "        del batch\n",
    "        del batch_item_embedding"
   ]
  },
  {
   "cell_type": "code",
   "execution_count": 48,
   "metadata": {},
   "outputs": [],
   "source": [
    "local_item_ids = torch.cat(local_item_ids)\n",
    "item_embeddings = torch.cat(item_embeddings, dim=0)"
   ]
  },
  {
   "cell_type": "code",
   "execution_count": 53,
   "metadata": {},
   "outputs": [],
   "source": [
    "distances = torch.cdist(user_embedding, item_embeddings)"
   ]
  },
  {
   "cell_type": "code",
   "execution_count": 54,
   "metadata": {},
   "outputs": [
    {
     "data": {
      "text/plain": [
       "<Axes: ylabel='Count'>"
      ]
     },
     "execution_count": 54,
     "metadata": {},
     "output_type": "execute_result"
    },
    {
     "data": {
      "image/png": "[encoded data removed]",
      "text/plain": [
       "<Figure size 640x480 with 1 Axes>"
      ]
     },
     "metadata": {},
     "output_type": "display_data"
    }
   ],
   "source": [
    "sns.histplot(x=distances[0].numpy())"
   ]
  },
  {
   "cell_type": "code",
   "execution_count": 59,
   "metadata": {},
   "outputs": [],
   "source": [
    "top_N = 10"
   ]
  },
  {
   "cell_type": "code",
   "execution_count": 62,
   "metadata": {},
   "outputs": [],
   "source": [
    "nearthest_local_item_ids = torch.argsort(distances, dim=1)[0, :top_N]"
   ]
  },
  {
   "cell_type": "code",
   "execution_count": 64,
   "metadata": {},
   "outputs": [],
   "source": [
    "item_ids = item_encoder.inverse_transform(nearthest_local_item_ids.numpy())"
   ]
  },
  {
   "cell_type": "code",
   "execution_count": 70,
   "metadata": {},
   "outputs": [
    {
     "name": "stdout",
     "output_type": "stream",
     "text": [
      "shape: (10, 5)\n",
      "+---------+------------------------------+-----------------------------+--------------------+------+\n",
      "| item_id | title                        | genres                      | authors            | year |\n",
      "+==================================================================================================+\n",
      "| 40391   | триста метров до метро       | научная                     | Александр Прозоров | 1999 |\n",
      "|         |                              | фантастика,социальная       |                    |      |\n",
      "|         |                              | фантастика                  |                    |      |\n",
      "|---------+------------------------------+-----------------------------+--------------------+------|\n",
      "| 3096    | упавшая с небес, или жить    | остросюжетные любовные      | Юлия Шилова        | 2013 |\n",
      "|         | страстями приятно            | романы,современные          |                    |      |\n",
      "|         |                              | детективы                   |                    |      |\n",
      "|---------+------------------------------+-----------------------------+--------------------+------|\n",
      "| 38451   | убить батыя!                 | боевая                      | Наталья Павлищева  | 2011 |\n",
      "|         |                              | фантастика,героическая      |                    |      |\n",
      "|         |                              | фантастика,исторические     |                    |      |\n",
      "|         |                              | приключения                 |                    |      |\n",
      "|---------+------------------------------+-----------------------------+--------------------+------|\n",
      "| 4156    | уши торчком, нос пятачком    | боевое фэнтези,героическое  | Алёна Медведева    | 2015 |\n",
      "|         |                              | фэнтези,любовное фэнтези    |                    |      |\n",
      "|---------+------------------------------+-----------------------------+--------------------+------|\n",
      "| 8546    | как противостоять            | руководства,справочная      | Олег Ошкадеров     | 2013 |\n",
      "|         | опасностям. книга 3          | литература                  |                    |      |\n",
      "|---------+------------------------------+-----------------------------+--------------------+------|\n",
      "| 44777   | посольство                   | боевая                      | Сергей Баунт       | 2017 |\n",
      "|         |                              | фантастика,космическая      |                    |      |\n",
      "|         |                              | фантастика                  |                    |      |\n",
      "|---------+------------------------------+-----------------------------+--------------------+------|\n",
      "| 44378   | ничья земля. книга 1         | боевая фантастика           | Ян Валетов         | 2007 |\n",
      "|---------+------------------------------+-----------------------------+--------------------+------|\n",
      "| 40220   | эротический альбом – 9       | эротические романы          | Стефания Лукас     | null |\n",
      "|---------+------------------------------+-----------------------------+--------------------+------|\n",
      "| 1892    | святая ведьма                | любовное                    | Алексей Калинин    | 2018 |\n",
      "|         |                              | фэнтези,эротическая         |                    |      |\n",
      "|         |                              | литература,эротическое      |                    |      |\n",
      "|         |                              | фэнтези                     |                    |      |\n",
      "|---------+------------------------------+-----------------------------+--------------------+------|\n",
      "| 3774    | метро 2033: кочевник         | боевая                      | Сергей Алексеев    | 2019 |\n",
      "|         |                              | фантастика,социальная       |                    |      |\n",
      "|         |                              | фантастика                  |                    |      |\n",
      "+---------+------------------------------+-----------------------------+--------------------+------+\n"
     ]
    }
   ],
   "source": [
    "with pl.Config() as config:\n",
    "    config.set_fmt_str_lengths(255)\n",
    "    config.set_tbl_formatting(\"ASCII_FULL\")\n",
    "    config.set_tbl_hide_column_data_types(True)\n",
    "    config.set_tbl_rows(-1)\n",
    "    print(all_item_features.filter(pl.col(\"item_id\").is_in(item_ids)))"
   ]
  },
  {
   "cell_type": "code",
   "execution_count": null,
   "metadata": {},
   "outputs": [],
   "source": []
  }
 ],
 "metadata": {
  "kernelspec": {
   "display_name": "recsys",
   "language": "python",
   "name": "python3"
  },
  "language_info": {
   "codemirror_mode": {
    "name": "ipython",
    "version": 3
   },
   "file_extension": ".py",
   "mimetype": "text/x-python",
   "name": "python",
   "nbconvert_exporter": "python",
   "pygments_lexer": "ipython3",
   "version": "3.10.11"
  },
  "orig_nbformat": 4
 },
 "nbformat": 4,
 "nbformat_minor": 2
}
