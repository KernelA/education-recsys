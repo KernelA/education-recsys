{
 "cells": [
  {
   "cell_type": "code",
   "execution_count": 50,
   "metadata": {},
   "outputs": [],
   "source": [
    "from hydra import initialize, compose, utils\n",
    "import polars as pl"
   ]
  },
  {
   "cell_type": "code",
   "execution_count": 51,
   "metadata": {},
   "outputs": [
    {
     "name": "stdout",
     "output_type": "stream",
     "text": [
      "The autoreload extension is already loaded. To reload it, use:\n",
      "  %reload_ext autoreload\n"
     ]
    }
   ],
   "source": [
    "%load_ext autoreload\n",
    "%autoreload 2\n",
    "\n",
    "from recs_utils.base_model import BaseRecommender\n",
    "from recs_utils.load_data import MTSDataset\n",
    "from recs_utils.split import TimeRangeSplit\n",
    "from recs_utils.metrics import USER_ID_COL, ITEM_ID_COL, intra_list_diversity_hamming_per_user"
   ]
  },
  {
   "cell_type": "code",
   "execution_count": 52,
   "metadata": {},
   "outputs": [],
   "source": [
    "with initialize(\"configs\", version_base=\"1.3\"):\n",
    "    bm_25_config = compose(\"cross_val\", [\"model=bm25\"])"
   ]
  },
  {
   "cell_type": "code",
   "execution_count": 53,
   "metadata": {},
   "outputs": [],
   "source": [
    "with initialize(\"configs\", version_base=\"1.3\"):\n",
    "    most_pop_config = compose(\"cross_val\", [\"model=most_pop\"])"
   ]
  },
  {
   "cell_type": "code",
   "execution_count": 54,
   "metadata": {},
   "outputs": [],
   "source": [
    "interactions = pl.read_parquet(bm_25_config.data.dump_files.interactions_path)\n",
    "items = pl.read_parquet(bm_25_config.data.dump_files.items_path)\n",
    "users = pl.read_parquet(bm_25_config.data.dump_files.users_path)"
   ]
  },
  {
   "cell_type": "code",
   "execution_count": 55,
   "metadata": {},
   "outputs": [],
   "source": [
    "items = items.with_columns(pl.col(\"genres\").cast(str).str.strip().str.to_lowercase().str.split(\",\"))"
   ]
  },
  {
   "cell_type": "code",
   "execution_count": 56,
   "metadata": {},
   "outputs": [],
   "source": [
    "bm25_rec: BaseRecommender = utils.instantiate(most_pop_config.model)"
   ]
  },
  {
   "cell_type": "code",
   "execution_count": 57,
   "metadata": {},
   "outputs": [],
   "source": [
    "most_pop: BaseRecommender = utils.instantiate(bm_25_config.model)"
   ]
  },
  {
   "cell_type": "code",
   "execution_count": 58,
   "metadata": {},
   "outputs": [],
   "source": [
    "dt_col = bm_25_config.cv.dt_column\n",
    "last_date = interactions.get_column(dt_col).max()\n",
    "folds = bm_25_config.cv.num_periods\n",
    "interval = utils.instantiate(bm_25_config.cv.period)\n",
    "start_date = last_date - interval * (folds + 1)\n",
    "cv = TimeRangeSplit(start_date=start_date, interval=interval, folds=folds)\n",
    "\n",
    "folds_with_stats = list(cv.split(\n",
    "    interactions,\n",
    "    user_column=USER_ID_COL,\n",
    "    item_column=ITEM_ID_COL,\n",
    "    datetime_column=dt_col,\n",
    "    fold_stats=True\n",
    ")\n",
    ")"
   ]
  },
  {
   "cell_type": "code",
   "execution_count": 59,
   "metadata": {},
   "outputs": [],
   "source": [
    "train_index, test_index, _ = folds_with_stats[0]"
   ]
  },
  {
   "cell_type": "code",
   "execution_count": 60,
   "metadata": {},
   "outputs": [],
   "source": [
    "train_interactions = interactions.join(train_index, on=[USER_ID_COL, ITEM_ID_COL], how=\"inner\")\n",
    "test_interactions = interactions.join(test_index, on=[USER_ID_COL, ITEM_ID_COL], how=\"inner\")"
   ]
  },
  {
   "cell_type": "code",
   "execution_count": 61,
   "metadata": {},
   "outputs": [],
   "source": [
    "bm25_rec.fit(train_interactions)"
   ]
  },
  {
   "cell_type": "code",
   "execution_count": 62,
   "metadata": {},
   "outputs": [
    {
     "name": "stderr",
     "output_type": "stream",
     "text": [
      "/mnt/2TBHDD/users/kernela/conda-envs/education-recsys/lib/python3.10/site-packages/implicit/utils.py:138: ParameterWarning: Method expects CSR input, and was passed coo_matrix instead. Converting to CSR took 0.015803098678588867 seconds\n",
      "  warnings.warn(\n"
     ]
    }
   ],
   "source": [
    "most_pop.fit(train_interactions)"
   ]
  },
  {
   "cell_type": "code",
   "execution_count": 63,
   "metadata": {},
   "outputs": [],
   "source": [
    "item_matrix = items.select(pl.col(ITEM_ID_COL, \"genres\")).explode(\"genres\").with_columns(pl.lit(1).alias(\"val\")).pivot(\n",
    "    index=ITEM_ID_COL, columns=\"genres\", values=\"val\", aggregate_function=\"max\").fill_null(0)"
   ]
  },
  {
   "cell_type": "code",
   "execution_count": 64,
   "metadata": {},
   "outputs": [],
   "source": [
    "top_n = 10"
   ]
  },
  {
   "cell_type": "code",
   "execution_count": 65,
   "metadata": {},
   "outputs": [
    {
     "data": {
      "text/html": [
       "<div><style>\n",
       ".dataframe > thead > tr > th,\n",
       ".dataframe > tbody > tr > td {\n",
       "  text-align: right;\n",
       "}\n",
       "</style>\n",
       "<small>shape: (5, 642)</small><table border=\"1\" class=\"dataframe\"><thead><tr><th>item_id</th><th>зарубежные детские книги</th><th>сказки</th><th>зарубежная классика</th><th>литература 19 века</th><th>русская классика</th><th>классическая проза</th><th>пьесы и драматургия</th><th>стихи и поэзия</th><th>зарубежная старинная литература</th><th>зарубежная драматургия</th><th>античная литература</th><th>литература 20 века</th><th>детские стихи</th><th>список школьной литературы 5-6 класс</th><th>политология</th><th>государственное и муниципальное управление</th><th>критика</th><th>мистика</th><th>детская проза</th><th>книги по экономике</th><th>список школьной литературы 10-11 класс</th><th>список школьной литературы 7-8 класс</th><th>книги про вампиров</th><th>общая история</th><th>литература 18 века</th><th>мифы / легенды / эпос</th><th>древнерусская литература</th><th>публицистика</th><th>исторические приключения</th><th>зарубежные приключения</th><th>зарубежный юмор</th><th>юмористическая проза</th><th>исторические любовные романы</th><th>классические любовные романы</th><th>зарубежная образовательная литература</th><th>биографии и мемуары</th><th>&hellip;</th><th>дистрибуция</th><th>прически / уход за волосами</th><th>математика 2 класс</th><th>математика 1 класс</th><th>русский язык 1 класс</th><th>бизнес-журналы</th><th>юридические журналы</th><th>событийный маркетинг</th><th>русский язык 2 класс</th><th>русский язык 3 класс</th><th>русский язык 4 класс</th><th>география 7 класс</th><th>обществознание 10 класс</th><th>обществознание 11 класс</th><th>обществознание 9 класс</th><th>орфографические словари</th><th>биографические справочники</th><th>чтение 4 класс</th><th>математика 3 класс</th><th>рабочие тетради / прописи</th><th>урология и нефрология</th><th>общественное питание</th><th>водный транспорт</th><th>школьные учебники по французскому языку</th><th>социокультурная деятельность</th><th>научная литература по психологии</th><th>мерчендайзинг</th><th>бродильные производства</th><th>гиа по географии (огэ</th><th>география 9 класс</th><th>гиа по иностранному языку (огэ</th><th>иностранный язык 9 класс</th><th>школьные учебники по английскому языку</th><th>биология 9 класс</th><th>гиа по химии (огэ</th><th>химия 9 класс</th><th>школьные учебники по музыке</th></tr><tr><td>u32</td><td>i32</td><td>i32</td><td>i32</td><td>i32</td><td>i32</td><td>i32</td><td>i32</td><td>i32</td><td>i32</td><td>i32</td><td>i32</td><td>i32</td><td>i32</td><td>i32</td><td>i32</td><td>i32</td><td>i32</td><td>i32</td><td>i32</td><td>i32</td><td>i32</td><td>i32</td><td>i32</td><td>i32</td><td>i32</td><td>i32</td><td>i32</td><td>i32</td><td>i32</td><td>i32</td><td>i32</td><td>i32</td><td>i32</td><td>i32</td><td>i32</td><td>i32</td><td>&hellip;</td><td>i32</td><td>i32</td><td>i32</td><td>i32</td><td>i32</td><td>i32</td><td>i32</td><td>i32</td><td>i32</td><td>i32</td><td>i32</td><td>i32</td><td>i32</td><td>i32</td><td>i32</td><td>i32</td><td>i32</td><td>i32</td><td>i32</td><td>i32</td><td>i32</td><td>i32</td><td>i32</td><td>i32</td><td>i32</td><td>i32</td><td>i32</td><td>i32</td><td>i32</td><td>i32</td><td>i32</td><td>i32</td><td>i32</td><td>i32</td><td>i32</td><td>i32</td><td>i32</td></tr></thead><tbody><tr><td>128115</td><td>1</td><td>1</td><td>1</td><td>1</td><td>1</td><td>0</td><td>0</td><td>0</td><td>0</td><td>0</td><td>0</td><td>0</td><td>0</td><td>0</td><td>0</td><td>0</td><td>0</td><td>0</td><td>0</td><td>0</td><td>0</td><td>0</td><td>0</td><td>0</td><td>0</td><td>0</td><td>0</td><td>0</td><td>0</td><td>0</td><td>0</td><td>0</td><td>0</td><td>0</td><td>0</td><td>0</td><td>&hellip;</td><td>0</td><td>0</td><td>0</td><td>0</td><td>0</td><td>0</td><td>0</td><td>0</td><td>0</td><td>0</td><td>0</td><td>0</td><td>0</td><td>0</td><td>0</td><td>0</td><td>0</td><td>0</td><td>0</td><td>0</td><td>0</td><td>0</td><td>0</td><td>0</td><td>0</td><td>0</td><td>0</td><td>0</td><td>0</td><td>0</td><td>0</td><td>0</td><td>0</td><td>0</td><td>0</td><td>0</td><td>0</td></tr><tr><td>210979</td><td>0</td><td>0</td><td>0</td><td>1</td><td>1</td><td>1</td><td>0</td><td>0</td><td>0</td><td>0</td><td>0</td><td>0</td><td>0</td><td>0</td><td>0</td><td>0</td><td>0</td><td>0</td><td>0</td><td>0</td><td>0</td><td>0</td><td>0</td><td>0</td><td>0</td><td>0</td><td>0</td><td>0</td><td>0</td><td>0</td><td>0</td><td>0</td><td>0</td><td>0</td><td>0</td><td>0</td><td>&hellip;</td><td>0</td><td>0</td><td>0</td><td>0</td><td>0</td><td>0</td><td>0</td><td>0</td><td>0</td><td>0</td><td>0</td><td>0</td><td>0</td><td>0</td><td>0</td><td>0</td><td>0</td><td>0</td><td>0</td><td>0</td><td>0</td><td>0</td><td>0</td><td>0</td><td>0</td><td>0</td><td>0</td><td>0</td><td>0</td><td>0</td><td>0</td><td>0</td><td>0</td><td>0</td><td>0</td><td>0</td><td>0</td></tr><tr><td>95632</td><td>0</td><td>0</td><td>1</td><td>1</td><td>1</td><td>1</td><td>0</td><td>0</td><td>0</td><td>0</td><td>0</td><td>0</td><td>0</td><td>0</td><td>0</td><td>0</td><td>0</td><td>0</td><td>0</td><td>0</td><td>0</td><td>0</td><td>0</td><td>0</td><td>0</td><td>0</td><td>0</td><td>0</td><td>0</td><td>0</td><td>0</td><td>0</td><td>0</td><td>0</td><td>0</td><td>0</td><td>&hellip;</td><td>0</td><td>0</td><td>0</td><td>0</td><td>0</td><td>0</td><td>0</td><td>0</td><td>0</td><td>0</td><td>0</td><td>0</td><td>0</td><td>0</td><td>0</td><td>0</td><td>0</td><td>0</td><td>0</td><td>0</td><td>0</td><td>0</td><td>0</td><td>0</td><td>0</td><td>0</td><td>0</td><td>0</td><td>0</td><td>0</td><td>0</td><td>0</td><td>0</td><td>0</td><td>0</td><td>0</td><td>0</td></tr><tr><td>247906</td><td>0</td><td>0</td><td>0</td><td>1</td><td>0</td><td>0</td><td>1</td><td>0</td><td>0</td><td>0</td><td>0</td><td>0</td><td>0</td><td>0</td><td>0</td><td>0</td><td>0</td><td>0</td><td>0</td><td>0</td><td>0</td><td>0</td><td>0</td><td>0</td><td>0</td><td>0</td><td>0</td><td>0</td><td>0</td><td>0</td><td>0</td><td>0</td><td>0</td><td>0</td><td>0</td><td>0</td><td>&hellip;</td><td>0</td><td>0</td><td>0</td><td>0</td><td>0</td><td>0</td><td>0</td><td>0</td><td>0</td><td>0</td><td>0</td><td>0</td><td>0</td><td>0</td><td>0</td><td>0</td><td>0</td><td>0</td><td>0</td><td>0</td><td>0</td><td>0</td><td>0</td><td>0</td><td>0</td><td>0</td><td>0</td><td>0</td><td>0</td><td>0</td><td>0</td><td>0</td><td>0</td><td>0</td><td>0</td><td>0</td><td>0</td></tr><tr><td>294280</td><td>0</td><td>0</td><td>1</td><td>1</td><td>1</td><td>1</td><td>0</td><td>0</td><td>0</td><td>0</td><td>0</td><td>0</td><td>0</td><td>0</td><td>0</td><td>0</td><td>0</td><td>0</td><td>0</td><td>0</td><td>0</td><td>0</td><td>0</td><td>0</td><td>0</td><td>0</td><td>0</td><td>0</td><td>0</td><td>0</td><td>0</td><td>0</td><td>0</td><td>0</td><td>0</td><td>0</td><td>&hellip;</td><td>0</td><td>0</td><td>0</td><td>0</td><td>0</td><td>0</td><td>0</td><td>0</td><td>0</td><td>0</td><td>0</td><td>0</td><td>0</td><td>0</td><td>0</td><td>0</td><td>0</td><td>0</td><td>0</td><td>0</td><td>0</td><td>0</td><td>0</td><td>0</td><td>0</td><td>0</td><td>0</td><td>0</td><td>0</td><td>0</td><td>0</td><td>0</td><td>0</td><td>0</td><td>0</td><td>0</td><td>0</td></tr></tbody></table></div>"
      ],
      "text/plain": [
       "shape: (5, 642)\n",
       "┌─────────┬────────────┬────────────┬────────────┬───┬────────────┬────────────┬────────────┬────────────┐\n",
       "│ item_id ┆ зарубежные ┆ сказки     ┆ зарубежная ┆ … ┆ биология 9 ┆ гиа по     ┆ химия 9    ┆ школьные   │\n",
       "│ ---     ┆ детские    ┆ ---        ┆ классика   ┆   ┆ класс      ┆ химии (огэ ┆ класс      ┆ учебники   │\n",
       "│ u32     ┆ книги      ┆ i32        ┆ ---        ┆   ┆ ---        ┆ ---        ┆ ---        ┆ по музыке  │\n",
       "│         ┆ ---        ┆            ┆ i32        ┆   ┆ i32        ┆ i32        ┆ i32        ┆ ---        │\n",
       "│         ┆ i32        ┆            ┆            ┆   ┆            ┆            ┆            ┆ i32        │\n",
       "╞═════════╪════════════╪════════════╪════════════╪═══╪════════════╪════════════╪════════════╪════════════╡\n",
       "│ 128115  ┆ 1          ┆ 1          ┆ 1          ┆ … ┆ 0          ┆ 0          ┆ 0          ┆ 0          │\n",
       "│ 210979  ┆ 0          ┆ 0          ┆ 0          ┆ … ┆ 0          ┆ 0          ┆ 0          ┆ 0          │\n",
       "│ 95632   ┆ 0          ┆ 0          ┆ 1          ┆ … ┆ 0          ┆ 0          ┆ 0          ┆ 0          │\n",
       "│ 247906  ┆ 0          ┆ 0          ┆ 0          ┆ … ┆ 0          ┆ 0          ┆ 0          ┆ 0          │\n",
       "│ 294280  ┆ 0          ┆ 0          ┆ 1          ┆ … ┆ 0          ┆ 0          ┆ 0          ┆ 0          │\n",
       "└─────────┴────────────┴────────────┴────────────┴───┴────────────┴────────────┴────────────┴────────────┘"
      ]
     },
     "execution_count": 65,
     "metadata": {},
     "output_type": "execute_result"
    }
   ],
   "source": [
    "item_matrix.head()"
   ]
  },
  {
   "cell_type": "markdown",
   "metadata": {},
   "source": [
    "# Intra-List Diversity"
   ]
  },
  {
   "cell_type": "code",
   "execution_count": 66,
   "metadata": {},
   "outputs": [],
   "source": [
    "def get_mean_intra_list_div(model: BaseRecommender, num_recs: int, item_matrix: pl.DataFrame):\n",
    "    recs = model.recommend(test_interactions, num_recs_per_user=num_recs)\n",
    "    return intra_list_diversity_hamming_per_user(recs, item_matrix).get_column(\"intra_list_div\").mean()"
   ]
  },
  {
   "cell_type": "code",
   "execution_count": 67,
   "metadata": {},
   "outputs": [
    {
     "data": {
      "text/plain": [
       "0.004579829096088386"
      ]
     },
     "execution_count": 67,
     "metadata": {},
     "output_type": "execute_result"
    }
   ],
   "source": [
    "get_mean_intra_list_div(most_pop, top_n, item_matrix)"
   ]
  },
  {
   "cell_type": "code",
   "execution_count": 68,
   "metadata": {},
   "outputs": [
    {
     "data": {
      "text/plain": [
       "0.006760270334780216"
      ]
     },
     "execution_count": 68,
     "metadata": {},
     "output_type": "execute_result"
    }
   ],
   "source": [
    "get_mean_intra_list_div(bm25_rec, top_n, item_matrix)"
   ]
  },
  {
   "cell_type": "code",
   "execution_count": null,
   "metadata": {},
   "outputs": [],
   "source": []
  }
 ],
 "metadata": {
  "kernelspec": {
   "display_name": "education-recsys",
   "language": "python",
   "name": "python3"
  },
  "language_info": {
   "codemirror_mode": {
    "name": "ipython",
    "version": 3
   },
   "file_extension": ".py",
   "mimetype": "text/x-python",
   "name": "python",
   "nbconvert_exporter": "python",
   "pygments_lexer": "ipython3",
   "version": "3.10.9"
  },
  "orig_nbformat": 4
 },
 "nbformat": 4,
 "nbformat_minor": 2
}
