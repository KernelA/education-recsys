{
 "cells": [
  {
   "attachments": {},
   "cell_type": "markdown",
   "id": "4b8a2b7d",
   "metadata": {},
   "source": [
    "# План семинара\n",
    "\n",
    "1. Сравниваем PCA, SVD, ALS на примере случайной матрички\n",
    "2. Знакомимся с датасетом статей\n",
    "3. Смотрим на похожести item2item в статьях"
   ]
  },
  {
   "cell_type": "code",
   "execution_count": 55,
   "id": "641fd620",
   "metadata": {},
   "outputs": [],
   "source": [
    "import numpy as np\n",
    "import matplotlib.pyplot as plt\n",
    "from scipy import linalg\n",
    "\n",
    "%matplotlib inline"
   ]
  },
  {
   "cell_type": "code",
   "execution_count": 56,
   "id": "828b3747",
   "metadata": {},
   "outputs": [],
   "source": [
    "A = np.random.randn(8, 5)"
   ]
  },
  {
   "cell_type": "code",
   "execution_count": 57,
   "id": "58916fdd",
   "metadata": {},
   "outputs": [
    {
     "data": {
      "text/plain": [
       "(8, 8)"
      ]
     },
     "execution_count": 57,
     "metadata": {},
     "output_type": "execute_result"
    }
   ],
   "source": [
    "np.cov(A).shape"
   ]
  },
  {
   "attachments": {},
   "cell_type": "markdown",
   "id": "c522205f",
   "metadata": {},
   "source": [
    "# PCA"
   ]
  },
  {
   "cell_type": "code",
   "execution_count": 58,
   "id": "99576d92",
   "metadata": {},
   "outputs": [],
   "source": [
    "def center_mass(a):\n",
    "    return a.mean(axis=0)\n",
    "\n",
    "def covariance(A):\n",
    "    ma = center_mass(A)\n",
    "    return (A - ma).T @ (A - ma)"
   ]
  },
  {
   "cell_type": "code",
   "execution_count": 59,
   "id": "94250b13",
   "metadata": {},
   "outputs": [],
   "source": [
    "assert covariance(A).shape == (A.shape[1], A.shape[1])\n",
    "assert center_mass(A).shape == (A.shape[1],)\n",
    "assert np.allclose(covariance(A), covariance(A).T)"
   ]
  },
  {
   "cell_type": "code",
   "execution_count": 60,
   "id": "709a0581",
   "metadata": {},
   "outputs": [],
   "source": [
    "def eig_values(Q):\n",
    "    return linalg.eigh(Q, eigvals_only=True)\n",
    "\n",
    "def eig_vectors(Q):\n",
    "    return linalg.eigh(Q)[1]"
   ]
  },
  {
   "cell_type": "code",
   "execution_count": 61,
   "id": "dae559a8",
   "metadata": {},
   "outputs": [],
   "source": [
    "Q = covariance(A)\n",
    "D, V = eig_values(covariance(A)), eig_vectors(covariance(A))\n",
    "assert D.shape == (A.shape[1],)\n",
    "assert V.shape == (A.shape[1], A.shape[1])\n",
    "assert np.allclose(np.sort(D), D)\n",
    "assert np.allclose(V.T.dot(V), np.eye(A.shape[1]))\n",
    "assert np.allclose(V.dot(V.T), np.eye(A.shape[1]))\n",
    "assert np.allclose(np.trace(covariance(A)), D.sum())\n",
    "assert np.allclose(V.dot(np.diag(D)).dot(V.T), Q)"
   ]
  },
  {
   "attachments": {},
   "cell_type": "markdown",
   "id": "4992e4d4",
   "metadata": {},
   "source": [
    "Формула для pca: $A=U S V^T + {\\rm center\\space mass}$"
   ]
  },
  {
   "attachments": {},
   "cell_type": "markdown",
   "id": "eb605f02",
   "metadata": {},
   "source": [
    "$Q = (A-centA).T(A-centA) = VSU^T USV^T = VS^2V^T$\n",
    "\n",
    "$D = S^2$\n",
    "\n",
    "$V = V$"
   ]
  },
  {
   "cell_type": "code",
   "execution_count": 62,
   "id": "6c680d2a",
   "metadata": {},
   "outputs": [],
   "source": [
    "def pca_decomposition(A, k):\n",
    "    MA = center_mass(A)\n",
    "    Q = covariance(A - MA)\n",
    "    D, V = eig_values(Q), eig_vectors(Q)\n",
    "    S = np.sqrt(D)\n",
    "    U = (A - MA) @ V @ np.diag(1 / S)\n",
    "\n",
    "    num_to_take = A.shape[1] - k\n",
    "    S = np.eye(k) * S[num_to_take:]\n",
    "    V = V[:, num_to_take:]\n",
    "    U = U[:, num_to_take:]\n",
    "    return U, S, V, MA\n",
    "\n",
    "def pca_recover(U, S, V, MA):\n",
    "    return U @ S @ V.T + MA"
   ]
  },
  {
   "cell_type": "code",
   "execution_count": 63,
   "id": "fb82b247",
   "metadata": {},
   "outputs": [],
   "source": [
    "k = 2\n",
    "U, S, V, MA = pca_decomposition(A, k)\n",
    "assert pca_recover(U, S, V, MA).shape == A.shape\n",
    "assert U.shape == (A.shape[0], k)\n",
    "assert S.shape == (k, k)\n",
    "assert V.shape == (A.shape[1], k)\n",
    "assert MA.shape == (A.shape[1],)\n",
    "assert np.allclose(S, np.diag(S.diagonal()))\n",
    "assert np.allclose(np.sort(S.diagonal()), S.diagonal())\n",
    "assert np.allclose(U.T.dot(U), np.eye(k))\n",
    "assert np.allclose(V.T.dot(V), np.eye(k))\n",
    "assert not np.allclose(V.dot(V.T), np.eye(V.shape[0]))\n",
    "assert not np.allclose(U.dot(U.T), np.eye(U.shape[0]))\n",
    "assert np.allclose(pca_recover(*pca_decomposition(A, A.shape[1])), A)"
   ]
  },
  {
   "cell_type": "code",
   "execution_count": 64,
   "id": "9f82804e",
   "metadata": {},
   "outputs": [
    {
     "name": "stdout",
     "output_type": "stream",
     "text": [
      "47.68 28.46 13.37 3.01 0.32 0.00\n"
     ]
    }
   ],
   "source": [
    "frobenius_norms = []\n",
    "for k in range(0, 6):\n",
    "    U, S, V, MA = pca_decomposition(A, k)\n",
    "    AA = pca_recover(U, S, V, MA)\n",
    "    frobenius_norms.append(np.sum((A-AA)**2))\n",
    "\n",
    "print(*[\"{:.2f}\".format(x) for x in frobenius_norms])\n",
    "assert np.allclose(frobenius_norms[::-1], [0] + list(np.cumsum(eig_values(covariance(A)))))\n"
   ]
  },
  {
   "attachments": {},
   "cell_type": "markdown",
   "id": "7765a21c",
   "metadata": {},
   "source": [
    "# SVD"
   ]
  },
  {
   "attachments": {},
   "cell_type": "markdown",
   "id": "c585c9f9",
   "metadata": {},
   "source": [
    "Формула для svd: $A=U S V^T$"
   ]
  },
  {
   "attachments": {},
   "cell_type": "markdown",
   "id": "c29e4336",
   "metadata": {},
   "source": [
    "$Q = A.TA = VSU^T USV^T = VS^2V^T$\n",
    "\n",
    "$D = S^2$\n",
    "\n",
    "$V = V$"
   ]
  },
  {
   "cell_type": "code",
   "execution_count": 65,
   "id": "7832fe1e",
   "metadata": {},
   "outputs": [],
   "source": [
    "def svd_decomposition(A, k):\n",
    "    Q = A.T @ A\n",
    "    D, V = eig_values(Q), eig_vectors(Q)\n",
    "    S = np.sqrt(D)\n",
    "    U = A @ V @ np.diag(1 / S)\n",
    "    num_to_take = A.shape[1] - k\n",
    "    S = np.eye(k) * S[num_to_take:]\n",
    "    V = V[:, num_to_take:]\n",
    "    U = U[:, num_to_take:]\n",
    "    return U, S, V\n",
    "\n",
    "def svd_recover(U, S, V):\n",
    "    return U @ S @ V.T"
   ]
  },
  {
   "cell_type": "code",
   "execution_count": 66,
   "id": "ca7179f7",
   "metadata": {},
   "outputs": [],
   "source": [
    "k = 2\n",
    "U, S, V = svd_decomposition(A, k)\n",
    "assert svd_recover(U, S, V).shape == A.shape\n",
    "assert U.shape == (A.shape[0], k)\n",
    "assert S.shape == (k, k)\n",
    "assert V.shape == (A.shape[1], k)\n",
    "assert np.allclose(S, np.diag(S.diagonal()))\n",
    "assert np.allclose(np.sort(S.diagonal()), S.diagonal())\n",
    "assert np.allclose(U.T.dot(U), np.eye(k))\n",
    "assert np.allclose(V.T.dot(V), np.eye(k))\n",
    "assert not np.allclose(V.dot(V.T), np.eye(V.shape[0]))\n",
    "assert not np.allclose(U.dot(U.T), np.eye(U.shape[0]))\n",
    "assert np.allclose(svd_recover(*svd_decomposition(A, A.shape[1])), A)"
   ]
  },
  {
   "cell_type": "code",
   "execution_count": 67,
   "id": "855fc8f2",
   "metadata": {},
   "outputs": [
    {
     "name": "stdout",
     "output_type": "stream",
     "text": [
      "51.62 31.92 15.40 3.70 0.40 0.00\n"
     ]
    }
   ],
   "source": [
    "frobenius_norms = []\n",
    "for k in range(0, 6):\n",
    "    U, S, V = svd_decomposition(A, k)\n",
    "    AA = svd_recover(U, S, V)\n",
    "    frobenius_norms.append(np.sum((A-AA)**2))\n",
    "\n",
    "print(*[\"{:.2f}\".format(x) for x in frobenius_norms])\n",
    "assert np.allclose(frobenius_norms[::-1], [0] + list(np.cumsum(eig_values(A.T.dot(A)))))"
   ]
  },
  {
   "attachments": {},
   "cell_type": "markdown",
   "id": "73fb20be",
   "metadata": {},
   "source": [
    "# ALS"
   ]
  },
  {
   "cell_type": "code",
   "execution_count": 83,
   "id": "cd9b333c",
   "metadata": {},
   "outputs": [],
   "source": [
    "k = 2\n",
    "lam = 1e-4"
   ]
  },
  {
   "cell_type": "code",
   "execution_count": 84,
   "id": "ebb677c3",
   "metadata": {},
   "outputs": [],
   "source": [
    "def calc_oposite_vectors(Y, A, lam: float):\n",
    "    inter = Y.T @ Y + lam * np.eye(Y.shape[1])\n",
    "    return A @ Y @ linalg.inv(inter).T"
   ]
  },
  {
   "cell_type": "code",
   "execution_count": 85,
   "id": "d359a96c",
   "metadata": {},
   "outputs": [
    {
     "data": {
      "text/plain": [
       "<matplotlib.collections.LineCollection at 0x7f717dd34e50>"
      ]
     },
     "execution_count": 85,
     "metadata": {},
     "output_type": "execute_result"
    },
    {
     "data": {
      "image/png": "[encoded data removed]",
      "text/plain": [
       "<Figure size 640x480 with 1 Axes>"
      ]
     },
     "metadata": {},
     "output_type": "display_data"
    }
   ],
   "source": [
    "X, Y = np.random.randn(A.shape[0], k), np.random.randn(A.shape[1], k)\n",
    "frobenius_norms = [np.sum((A - X.dot(Y.T))**2)]\n",
    "steps = list(range(20))\n",
    "for i in steps:\n",
    "    X = calc_oposite_vectors(Y, A, lam)\n",
    "    frobenius_norms.append(np.sum((A - X.dot(Y.T))**2))\n",
    "    Y = calc_oposite_vectors(X, A.T, lam)\n",
    "    frobenius_norms.append(np.sum((A - X.dot(Y.T))**2))\n",
    "plt.plot(frobenius_norms)\n",
    "plt.hlines(np.cumsum(eig_values(A.T.dot(A)))[A.shape[1]-k-1], 0, 20, color='black')"
   ]
  },
  {
   "cell_type": "code",
   "execution_count": 86,
   "id": "0a19e669",
   "metadata": {},
   "outputs": [
    {
     "data": {
      "text/plain": [
       "[<matplotlib.lines.Line2D at 0x7f717dbafee0>]"
      ]
     },
     "execution_count": 86,
     "metadata": {},
     "output_type": "execute_result"
    },
    {
     "data": {
      "image/png": "[encoded data removed]",
      "text/plain": [
       "<Figure size 640x480 with 1 Axes>"
      ]
     },
     "metadata": {},
     "output_type": "display_data"
    }
   ],
   "source": [
    "plt.plot(np.log(frobenius_norms-np.cumsum(eig_values(A.T.dot(A)))[A.shape[1]-k-1]))"
   ]
  },
  {
   "cell_type": "code",
   "execution_count": 72,
   "id": "bc0005c7",
   "metadata": {
    "scrolled": true
   },
   "outputs": [
    {
     "data": {
      "text/plain": [
       "<matplotlib.image.AxesImage at 0x7f717dee5a20>"
      ]
     },
     "execution_count": 72,
     "metadata": {},
     "output_type": "execute_result"
    },
    {
     "data": {
      "image/png": "[encoded data removed]",
      "text/plain": [
       "<Figure size 640x480 with 1 Axes>"
      ]
     },
     "metadata": {},
     "output_type": "display_data"
    }
   ],
   "source": [
    "plt.imshow(X.dot(X.T))"
   ]
  },
  {
   "cell_type": "code",
   "execution_count": 87,
   "id": "2b1f22b8",
   "metadata": {},
   "outputs": [
    {
     "data": {
      "text/plain": [
       "array([[ 0.87429219, -0.43404643],\n",
       "       [-0.43404643,  1.43039449]])"
      ]
     },
     "execution_count": 87,
     "metadata": {},
     "output_type": "execute_result"
    }
   ],
   "source": [
    "X.T.dot(X)"
   ]
  },
  {
   "cell_type": "code",
   "execution_count": 88,
   "id": "d348096d",
   "metadata": {},
   "outputs": [],
   "source": [
    "AA_svd = svd_recover(*svd_decomposition(A, k))\n",
    "AA_als = X.dot(Y.T)\n",
    "assert np.allclose(AA_svd, AA_als, rtol=1e-3, atol=1e-3)"
   ]
  },
  {
   "cell_type": "code",
   "execution_count": null,
   "id": "28b71180",
   "metadata": {},
   "outputs": [],
   "source": []
  }
 ],
 "metadata": {
  "kernelspec": {
   "display_name": "Python 3",
   "language": "python",
   "name": "python3"
  },
  "language_info": {
   "codemirror_mode": {
    "name": "ipython",
    "version": 3
   },
   "file_extension": ".py",
   "mimetype": "text/x-python",
   "name": "python",
   "nbconvert_exporter": "python",
   "pygments_lexer": "ipython3",
   "version": "3.10.11"
  }
 },
 "nbformat": 4,
 "nbformat_minor": 5
}
