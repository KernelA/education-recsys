{
 "cells": [
  {
   "attachments": {},
   "cell_type": "markdown",
   "metadata": {},
   "source": [
    "[Оригинальный файл на Kaggle](https://www.kaggle.com/code/sharthz23/metrics-validation-strategies-and-baselines)"
   ]
  },
  {
   "attachments": {},
   "cell_type": "markdown",
   "metadata": {},
   "source": [
    "# Расчёт метрик"
   ]
  },
  {
   "cell_type": "code",
   "execution_count": 1,
   "metadata": {},
   "outputs": [],
   "source": [
    "import os\n",
    "from collections import defaultdict\n",
    "\n",
    "from more_itertools import pairwise\n",
    "import pandas as pd\n",
    "import polars as pl\n",
    "import seaborn as sns\n",
    "from hydra import compose, initialize"
   ]
  },
  {
   "cell_type": "code",
   "execution_count": 2,
   "metadata": {},
   "outputs": [],
   "source": [
    "sns.set_style(\"darkgrid\")"
   ]
  },
  {
   "cell_type": "code",
   "execution_count": 3,
   "metadata": {},
   "outputs": [],
   "source": [
    "%load_ext autoreload\n",
    "%autoreload 2\n",
    "\n",
    "from recs_utils.metrics import precision_at_k, join_true_pred_and_preprocess, recall_at_k, mean_reciprocal_rank, mean_average_prec, compute_metrics\n",
    "from recs_utils.load_data import MTSDataset, sample_true_rec_data\n",
    "from recs_utils.simple_rec import PopularRecommender, PopularRecommenderPerAge, BaseRecommender\n",
    "from recs_utils.split import train_test_split"
   ]
  },
  {
   "cell_type": "code",
   "execution_count": 4,
   "metadata": {},
   "outputs": [],
   "source": [
    "with initialize(os.path.join(\"configs\", \"data\"), version_base=\"1.3\"):\n",
    "    data_config = compose(\"mts_lib.yaml\")"
   ]
  },
  {
   "cell_type": "code",
   "execution_count": 5,
   "metadata": {},
   "outputs": [],
   "source": [
    "df = pl.read_parquet(data_config.dump_files.interactions_path)\n",
    "df_users = pl.read_parquet(data_config.dump_files.users_path)\n",
    "df_items = pl.read_parquet(data_config.dump_files.items_path)"
   ]
  },
  {
   "cell_type": "code",
   "execution_count": 6,
   "metadata": {},
   "outputs": [
    {
     "data": {
      "text/html": [
       "<div><style>\n",
       ".dataframe > thead > tr > th,\n",
       ".dataframe > tbody > tr > td {\n",
       "  text-align: right;\n",
       "}\n",
       "</style>\n",
       "<small>shape: (5, 5)</small><table border=\"1\" class=\"dataframe\"><thead><tr><th>user_id</th><th>item_id</th><th>progress</th><th>rating</th><th>start_date</th></tr><tr><td>u32</td><td>u32</td><td>u8</td><td>f32</td><td>date</td></tr></thead><tbody><tr><td>126706</td><td>14433</td><td>80</td><td>NaN</td><td>2018-01-01</td></tr><tr><td>127290</td><td>140952</td><td>58</td><td>NaN</td><td>2018-01-01</td></tr><tr><td>66991</td><td>198453</td><td>89</td><td>NaN</td><td>2018-01-01</td></tr><tr><td>46791</td><td>83486</td><td>23</td><td>5.0</td><td>2018-01-01</td></tr><tr><td>79313</td><td>188770</td><td>88</td><td>5.0</td><td>2018-01-01</td></tr></tbody></table></div>"
      ],
      "text/plain": [
       "shape: (5, 5)\n",
       "┌─────────┬─────────┬──────────┬────────┬────────────┐\n",
       "│ user_id ┆ item_id ┆ progress ┆ rating ┆ start_date │\n",
       "│ ---     ┆ ---     ┆ ---      ┆ ---    ┆ ---        │\n",
       "│ u32     ┆ u32     ┆ u8       ┆ f32    ┆ date       │\n",
       "╞═════════╪═════════╪══════════╪════════╪════════════╡\n",
       "│ 126706  ┆ 14433   ┆ 80       ┆ NaN    ┆ 2018-01-01 │\n",
       "│ 127290  ┆ 140952  ┆ 58       ┆ NaN    ┆ 2018-01-01 │\n",
       "│ 66991   ┆ 198453  ┆ 89       ┆ NaN    ┆ 2018-01-01 │\n",
       "│ 46791   ┆ 83486   ┆ 23       ┆ 5.0    ┆ 2018-01-01 │\n",
       "│ 79313   ┆ 188770  ┆ 88       ┆ 5.0    ┆ 2018-01-01 │\n",
       "└─────────┴─────────┴──────────┴────────┴────────────┘"
      ]
     },
     "execution_count": 6,
     "metadata": {},
     "output_type": "execute_result"
    }
   ],
   "source": [
    "df.head()"
   ]
  },
  {
   "cell_type": "code",
   "execution_count": 7,
   "metadata": {},
   "outputs": [
    {
     "data": {
      "text/html": [
       "<div><style>\n",
       ".dataframe > thead > tr > th,\n",
       ".dataframe > tbody > tr > td {\n",
       "  text-align: right;\n",
       "}\n",
       "</style>\n",
       "<small>shape: (6, 1)</small><table border=\"1\" class=\"dataframe\"><thead><tr><th>rating</th></tr><tr><td>f32</td></tr></thead><tbody><tr><td>2.0</td></tr><tr><td>3.0</td></tr><tr><td>4.0</td></tr><tr><td>1.0</td></tr><tr><td>NaN</td></tr><tr><td>5.0</td></tr></tbody></table></div>"
      ],
      "text/plain": [
       "shape: (6, 1)\n",
       "┌────────┐\n",
       "│ rating │\n",
       "│ ---    │\n",
       "│ f32    │\n",
       "╞════════╡\n",
       "│ 2.0    │\n",
       "│ 3.0    │\n",
       "│ 4.0    │\n",
       "│ 1.0    │\n",
       "│ NaN    │\n",
       "│ 5.0    │\n",
       "└────────┘"
      ]
     },
     "execution_count": 7,
     "metadata": {},
     "output_type": "execute_result"
    }
   ],
   "source": [
    "df.select(\"rating\").unique()"
   ]
  },
  {
   "cell_type": "code",
   "execution_count": 8,
   "metadata": {},
   "outputs": [],
   "source": [
    "sample_true, sample_rec = sample_true_rec_data()"
   ]
  },
  {
   "cell_type": "code",
   "execution_count": 9,
   "metadata": {},
   "outputs": [],
   "source": [
    "joined_data = join_true_pred_and_preprocess(sample_true, sample_rec)"
   ]
  },
  {
   "cell_type": "code",
   "execution_count": 10,
   "metadata": {},
   "outputs": [
    {
     "data": {
      "text/html": [
       "<div><style>\n",
       ".dataframe > thead > tr > th,\n",
       ".dataframe > tbody > tr > td {\n",
       "  text-align: right;\n",
       "}\n",
       "</style>\n",
       "<small>shape: (4, 4)</small><table border=\"1\" class=\"dataframe\"><thead><tr><th>user_id</th><th>item_id</th><th>rank</th><th>item_count_per_user</th></tr><tr><td>str</td><td>str</td><td>f64</td><td>u32</td></tr></thead><tbody><tr><td>&quot;Аня&quot;</td><td>&quot;Мастер и Марга…</td><td>NaN</td><td>1</td></tr><tr><td>&quot;Боря&quot;</td><td>&quot;451° по Фаренг…</td><td>1.0</td><td>1</td></tr><tr><td>&quot;Вася&quot;</td><td>&quot;Зеленая миля&quot;</td><td>3.0</td><td>2</td></tr><tr><td>&quot;Вася&quot;</td><td>&quot;Рита Хейуорт и…</td><td>NaN</td><td>2</td></tr></tbody></table></div>"
      ],
      "text/plain": [
       "shape: (4, 4)\n",
       "┌─────────┬───────────────────────────────────┬──────┬─────────────────────┐\n",
       "│ user_id ┆ item_id                           ┆ rank ┆ item_count_per_user │\n",
       "│ ---     ┆ ---                               ┆ ---  ┆ ---                 │\n",
       "│ str     ┆ str                               ┆ f64  ┆ u32                 │\n",
       "╞═════════╪═══════════════════════════════════╪══════╪═════════════════════╡\n",
       "│ Аня     ┆ Мастер и Маргарита                ┆ NaN  ┆ 1                   │\n",
       "│ Боря    ┆ 451° по Фаренгейту                ┆ 1.0  ┆ 1                   │\n",
       "│ Вася    ┆ Зеленая миля                      ┆ 3.0  ┆ 2                   │\n",
       "│ Вася    ┆ Рита Хейуорт и спасение из Шоуше… ┆ NaN  ┆ 2                   │\n",
       "└─────────┴───────────────────────────────────┴──────┴─────────────────────┘"
      ]
     },
     "execution_count": 10,
     "metadata": {},
     "output_type": "execute_result"
    }
   ],
   "source": [
    "joined_data"
   ]
  },
  {
   "cell_type": "code",
   "execution_count": 11,
   "metadata": {},
   "outputs": [],
   "source": [
    "joined_data = join_true_pred_and_preprocess(sample_true, sample_rec)"
   ]
  },
  {
   "cell_type": "code",
   "execution_count": 12,
   "metadata": {},
   "outputs": [],
   "source": [
    "metric_value, joined_data = precision_at_k(joined_data, k=2)"
   ]
  },
  {
   "cell_type": "code",
   "execution_count": 13,
   "metadata": {},
   "outputs": [
    {
     "data": {
      "text/plain": [
       "0.16666666666666666"
      ]
     },
     "execution_count": 13,
     "metadata": {},
     "output_type": "execute_result"
    }
   ],
   "source": [
    "metric_value"
   ]
  },
  {
   "cell_type": "code",
   "execution_count": 14,
   "metadata": {},
   "outputs": [
    {
     "data": {
      "text/html": [
       "<div><style>\n",
       ".dataframe > thead > tr > th,\n",
       ".dataframe > tbody > tr > td {\n",
       "  text-align: right;\n",
       "}\n",
       "</style>\n",
       "<small>shape: (4, 6)</small><table border=\"1\" class=\"dataframe\"><thead><tr><th>user_id</th><th>item_id</th><th>rank</th><th>item_count_per_user</th><th>hit@2</th><th>hit@2/2</th></tr><tr><td>str</td><td>str</td><td>f64</td><td>u32</td><td>bool</td><td>f64</td></tr></thead><tbody><tr><td>&quot;Аня&quot;</td><td>&quot;Мастер и Марга…</td><td>NaN</td><td>1</td><td>false</td><td>0.0</td></tr><tr><td>&quot;Боря&quot;</td><td>&quot;451° по Фаренг…</td><td>1.0</td><td>1</td><td>true</td><td>0.5</td></tr><tr><td>&quot;Вася&quot;</td><td>&quot;Зеленая миля&quot;</td><td>3.0</td><td>2</td><td>false</td><td>0.0</td></tr><tr><td>&quot;Вася&quot;</td><td>&quot;Рита Хейуорт и…</td><td>NaN</td><td>2</td><td>false</td><td>0.0</td></tr></tbody></table></div>"
      ],
      "text/plain": [
       "shape: (4, 6)\n",
       "┌─────────┬───────────────────────────────────┬──────┬─────────────────────┬───────┬─────────┐\n",
       "│ user_id ┆ item_id                           ┆ rank ┆ item_count_per_user ┆ hit@2 ┆ hit@2/2 │\n",
       "│ ---     ┆ ---                               ┆ ---  ┆ ---                 ┆ ---   ┆ ---     │\n",
       "│ str     ┆ str                               ┆ f64  ┆ u32                 ┆ bool  ┆ f64     │\n",
       "╞═════════╪═══════════════════════════════════╪══════╪═════════════════════╪═══════╪═════════╡\n",
       "│ Аня     ┆ Мастер и Маргарита                ┆ NaN  ┆ 1                   ┆ false ┆ 0.0     │\n",
       "│ Боря    ┆ 451° по Фаренгейту                ┆ 1.0  ┆ 1                   ┆ true  ┆ 0.5     │\n",
       "│ Вася    ┆ Зеленая миля                      ┆ 3.0  ┆ 2                   ┆ false ┆ 0.0     │\n",
       "│ Вася    ┆ Рита Хейуорт и спасение из Шоуше… ┆ NaN  ┆ 2                   ┆ false ┆ 0.0     │\n",
       "└─────────┴───────────────────────────────────┴──────┴─────────────────────┴───────┴─────────┘"
      ]
     },
     "execution_count": 14,
     "metadata": {},
     "output_type": "execute_result"
    }
   ],
   "source": [
    "joined_data"
   ]
  },
  {
   "cell_type": "code",
   "execution_count": 15,
   "metadata": {},
   "outputs": [],
   "source": [
    "metric_value, joined_data = recall_at_k(joined_data, k=1)"
   ]
  },
  {
   "cell_type": "code",
   "execution_count": 16,
   "metadata": {},
   "outputs": [
    {
     "data": {
      "text/plain": [
       "0.3333333333333333"
      ]
     },
     "execution_count": 16,
     "metadata": {},
     "output_type": "execute_result"
    }
   ],
   "source": [
    "metric_value"
   ]
  },
  {
   "cell_type": "code",
   "execution_count": 17,
   "metadata": {},
   "outputs": [
    {
     "data": {
      "text/html": [
       "<div><style>\n",
       ".dataframe > thead > tr > th,\n",
       ".dataframe > tbody > tr > td {\n",
       "  text-align: right;\n",
       "}\n",
       "</style>\n",
       "<small>shape: (4, 7)</small><table border=\"1\" class=\"dataframe\"><thead><tr><th>user_id</th><th>item_id</th><th>rank</th><th>item_count_per_user</th><th>hit@2</th><th>hit@2/2</th><th>hit@1</th></tr><tr><td>str</td><td>str</td><td>f64</td><td>u32</td><td>bool</td><td>f64</td><td>bool</td></tr></thead><tbody><tr><td>&quot;Аня&quot;</td><td>&quot;Мастер и Марга…</td><td>NaN</td><td>1</td><td>false</td><td>0.0</td><td>false</td></tr><tr><td>&quot;Боря&quot;</td><td>&quot;451° по Фаренг…</td><td>1.0</td><td>1</td><td>true</td><td>0.5</td><td>true</td></tr><tr><td>&quot;Вася&quot;</td><td>&quot;Зеленая миля&quot;</td><td>3.0</td><td>2</td><td>false</td><td>0.0</td><td>false</td></tr><tr><td>&quot;Вася&quot;</td><td>&quot;Рита Хейуорт и…</td><td>NaN</td><td>2</td><td>false</td><td>0.0</td><td>false</td></tr></tbody></table></div>"
      ],
      "text/plain": [
       "shape: (4, 7)\n",
       "┌─────────┬────────────────────────────┬──────┬─────────────────────┬───────┬─────────┬───────┐\n",
       "│ user_id ┆ item_id                    ┆ rank ┆ item_count_per_user ┆ hit@2 ┆ hit@2/2 ┆ hit@1 │\n",
       "│ ---     ┆ ---                        ┆ ---  ┆ ---                 ┆ ---   ┆ ---     ┆ ---   │\n",
       "│ str     ┆ str                        ┆ f64  ┆ u32                 ┆ bool  ┆ f64     ┆ bool  │\n",
       "╞═════════╪════════════════════════════╪══════╪═════════════════════╪═══════╪═════════╪═══════╡\n",
       "│ Аня     ┆ Мастер и Маргарита         ┆ NaN  ┆ 1                   ┆ false ┆ 0.0     ┆ false │\n",
       "│ Боря    ┆ 451° по Фаренгейту         ┆ 1.0  ┆ 1                   ┆ true  ┆ 0.5     ┆ true  │\n",
       "│ Вася    ┆ Зеленая миля               ┆ 3.0  ┆ 2                   ┆ false ┆ 0.0     ┆ false │\n",
       "│ Вася    ┆ Рита Хейуорт и спасение из ┆ NaN  ┆ 2                   ┆ false ┆ 0.0     ┆ false │\n",
       "│         ┆ Шоуше…                     ┆      ┆                     ┆       ┆         ┆       │\n",
       "└─────────┴────────────────────────────┴──────┴─────────────────────┴───────┴─────────┴───────┘"
      ]
     },
     "execution_count": 17,
     "metadata": {},
     "output_type": "execute_result"
    }
   ],
   "source": [
    "joined_data"
   ]
  },
  {
   "cell_type": "code",
   "execution_count": 18,
   "metadata": {},
   "outputs": [
    {
     "data": {
      "text/plain": [
       "0.4444444444444444"
      ]
     },
     "execution_count": 18,
     "metadata": {},
     "output_type": "execute_result"
    }
   ],
   "source": [
    "mean_reciprocal_rank(joined_data)"
   ]
  },
  {
   "cell_type": "code",
   "execution_count": 19,
   "metadata": {},
   "outputs": [
    {
     "data": {
      "text/plain": [
       "0.3888888888888889"
      ]
     },
     "execution_count": 19,
     "metadata": {},
     "output_type": "execute_result"
    }
   ],
   "source": [
    "mean_average_prec(joined_data)"
   ]
  },
  {
   "cell_type": "code",
   "execution_count": 20,
   "metadata": {},
   "outputs": [],
   "source": [
    "test_dates = df.select(pl.col(\"start_date\").unique())[-7:].to_series().to_list()\n",
    "test_dates = list(pairwise(test_dates))"
   ]
  },
  {
   "cell_type": "code",
   "execution_count": 21,
   "metadata": {},
   "outputs": [
    {
     "data": {
      "text/plain": [
       "[(datetime.date(2019, 12, 25), datetime.date(2019, 12, 26)),\n",
       " (datetime.date(2019, 12, 26), datetime.date(2019, 12, 27)),\n",
       " (datetime.date(2019, 12, 27), datetime.date(2019, 12, 28)),\n",
       " (datetime.date(2019, 12, 28), datetime.date(2019, 12, 29)),\n",
       " (datetime.date(2019, 12, 29), datetime.date(2019, 12, 30)),\n",
       " (datetime.date(2019, 12, 30), datetime.date(2019, 12, 31))]"
      ]
     },
     "execution_count": 21,
     "metadata": {},
     "output_type": "execute_result"
    }
   ],
   "source": [
    "test_dates"
   ]
  },
  {
   "cell_type": "code",
   "execution_count": 22,
   "metadata": {},
   "outputs": [],
   "source": [
    "num_recs = 10"
   ]
  },
  {
   "cell_type": "code",
   "execution_count": 23,
   "metadata": {},
   "outputs": [],
   "source": [
    "def validate(interactions: pl.DataFrame, user_features: pl.DataFrame, test_dates, model_cls, num_recs: int):\n",
    "    metrics_per_fold = []\n",
    "\n",
    "    for i, split_pair in enumerate(test_dates):\n",
    "        train, test = train_test_split(interactions, split_pair)\n",
    "        baseline: BaseRecommender = model_cls()\n",
    "        baseline.fit(train, user_features)\n",
    "        predicted_recs = baseline.recommend(test, user_features=user_features, num_recs_per_user=num_recs)\n",
    "\n",
    "        assert predicted_recs.select(pl.col(\"user_id\").n_unique())[0, 0] == test.select(pl.col(\"user_id\").n_unique())[0, 0]\n",
    "\n",
    "        metrics = compute_metrics(test, predicted_recs, num_recs)\n",
    "        metrics = metrics.with_columns(pl.lit(i).alias(\"fold\"), pl.lit(baseline.model_name).alias(\"model_name\"))\n",
    "        metrics_per_fold.append(metrics)\n",
    "\n",
    "    return pl.concat(metrics_per_fold)"
   ]
  },
  {
   "cell_type": "code",
   "execution_count": 24,
   "metadata": {},
   "outputs": [],
   "source": [
    "pop_metrics = validate(df, df_users, test_dates, PopularRecommender, num_recs=num_recs)"
   ]
  },
  {
   "cell_type": "code",
   "execution_count": 25,
   "metadata": {},
   "outputs": [
    {
     "data": {
      "text/plain": [
       "<Axes: xlabel='fold', ylabel='value'>"
      ]
     },
     "execution_count": 25,
     "metadata": {},
     "output_type": "execute_result"
    },
    {
     "data": {
      "image/png": "[encoded data removed]",
      "text/plain": [
       "<Figure size 640x480 with 1 Axes>"
      ]
     },
     "metadata": {},
     "output_type": "display_data"
    }
   ],
   "source": [
    "sns.scatterplot(data=pop_metrics.filter(pl.col(\"name\").str.contains(r\"(MAP@.+|MRR@.+)\")), x=\"fold\", y=\"value\", hue=\"name\")"
   ]
  },
  {
   "cell_type": "code",
   "execution_count": 26,
   "metadata": {},
   "outputs": [],
   "source": [
    "pop_per_age_metrics = validate(df, df_users, test_dates, PopularRecommenderPerAge, num_recs=num_recs)"
   ]
  },
  {
   "cell_type": "code",
   "execution_count": 27,
   "metadata": {},
   "outputs": [
    {
     "data": {
      "text/plain": [
       "<Axes: xlabel='fold', ylabel='value'>"
      ]
     },
     "execution_count": 27,
     "metadata": {},
     "output_type": "execute_result"
    },
    {
     "data": {
      "image/png": "[encoded data removed]",
      "text/plain": [
       "<Figure size 640x480 with 1 Axes>"
      ]
     },
     "metadata": {},
     "output_type": "display_data"
    }
   ],
   "source": [
    "sns.scatterplot(data=pop_metrics.filter(pl.col(\"name\").str.contains(r\"(MAP@.+|MRR@.+)\")), x=\"fold\", y=\"value\", hue=\"name\")"
   ]
  },
  {
   "cell_type": "code",
   "execution_count": 28,
   "metadata": {},
   "outputs": [],
   "source": [
    "all_metrics = pl.concat([pop_metrics, pop_per_age_metrics])"
   ]
  },
  {
   "cell_type": "code",
   "execution_count": 29,
   "metadata": {},
   "outputs": [
    {
     "data": {
      "image/png": "[encoded data removed]",
      "text/plain": [
       "<Figure size 640x480 with 1 Axes>"
      ]
     },
     "metadata": {},
     "output_type": "display_data"
    }
   ],
   "source": [
    "plot = sns.scatterplot(\n",
    "    data=all_metrics.filter(pl.col(\"name\").str.contains(r\"(MAP@.+|MRR@.+)\")), \n",
    "    x=\"fold\", y=\"value\", hue=\"name\", style=\"model_name\")\n",
    "sns.move_legend(plot, loc=\"upper left\", bbox_to_anchor=(1, 1))"
   ]
  },
  {
   "cell_type": "code",
   "execution_count": null,
   "metadata": {},
   "outputs": [],
   "source": []
  }
 ],
 "metadata": {
  "kernelspec": {
   "display_name": "recsys",
   "language": "python",
   "name": "python3"
  },
  "language_info": {
   "codemirror_mode": {
    "name": "ipython",
    "version": 3
   },
   "file_extension": ".py",
   "mimetype": "text/x-python",
   "name": "python",
   "nbconvert_exporter": "python",
   "pygments_lexer": "ipython3",
   "version": "3.10.9"
  },
  "orig_nbformat": 4
 },
 "nbformat": 4,
 "nbformat_minor": 2
}
