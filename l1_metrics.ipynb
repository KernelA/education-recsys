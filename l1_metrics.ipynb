{
 "cells": [
  {
   "attachments": {},
   "cell_type": "markdown",
   "metadata": {},
   "source": [
    "[Оригинальный файл на Kaggle](https://www.kaggle.com/code/sharthz23/metrics-validation-strategies-and-baselines)"
   ]
  },
  {
   "attachments": {},
   "cell_type": "markdown",
   "metadata": {},
   "source": [
    "# Расчёт метрик"
   ]
  },
  {
   "cell_type": "code",
   "execution_count": 115,
   "metadata": {},
   "outputs": [],
   "source": [
    "import os\n",
    "from collections import defaultdict\n",
    "\n",
    "from more_itertools import pairwise\n",
    "import pandas as pd\n",
    "import polars as pl\n",
    "import seaborn as sns"
   ]
  },
  {
   "cell_type": "code",
   "execution_count": 116,
   "metadata": {},
   "outputs": [],
   "source": [
    "sns.set_style(\"darkgrid\")"
   ]
  },
  {
   "cell_type": "code",
   "execution_count": 117,
   "metadata": {},
   "outputs": [
    {
     "name": "stdout",
     "output_type": "stream",
     "text": [
      "The autoreload extension is already loaded. To reload it, use:\n",
      "  %reload_ext autoreload\n"
     ]
    }
   ],
   "source": [
    "%load_ext autoreload\n",
    "%autoreload 2\n",
    "\n",
    "from recs_utils.metrics import precision_at_k, join_true_pred_and_preprocess, recall_at_k, mean_reciprocal_rank, mean_average_prec\n",
    "from recs_utils.load_data import load_users, load_items, load_interactions, sample_true_rec_data\n",
    "from recs_utils.simple_rec import PopularRecommender, PopularRecommenderPerAge\n",
    "from recs_utils.split import train_test_split"
   ]
  },
  {
   "cell_type": "code",
   "execution_count": 118,
   "metadata": {},
   "outputs": [],
   "source": [
    "data_dir = \"data\""
   ]
  },
  {
   "cell_type": "code",
   "execution_count": 119,
   "metadata": {},
   "outputs": [],
   "source": [
    "df = load_interactions(os.path.join(data_dir, \"interactions.csv\"))\n",
    "df_users = load_users(os.path.join(data_dir, \"users.csv\"))\n",
    "df_items = load_items(os.path.join(data_dir, \"items.csv\"))"
   ]
  },
  {
   "cell_type": "code",
   "execution_count": 120,
   "metadata": {},
   "outputs": [
    {
     "data": {
      "text/html": [
       "<div><style>\n",
       ".dataframe > thead > tr > th,\n",
       ".dataframe > tbody > tr > td {\n",
       "  text-align: right;\n",
       "}\n",
       "</style>\n",
       "<small>shape: (5, 5)</small><table border=\"1\" class=\"dataframe\"><thead><tr><th>user_id</th><th>item_id</th><th>progress</th><th>rating</th><th>start_date</th></tr><tr><td>u32</td><td>u32</td><td>u8</td><td>f32</td><td>date</td></tr></thead><tbody><tr><td>126706</td><td>14433</td><td>80</td><td>NaN</td><td>2018-01-01</td></tr><tr><td>127290</td><td>140952</td><td>58</td><td>NaN</td><td>2018-01-01</td></tr><tr><td>66991</td><td>198453</td><td>89</td><td>NaN</td><td>2018-01-01</td></tr><tr><td>46791</td><td>83486</td><td>23</td><td>5.0</td><td>2018-01-01</td></tr><tr><td>79313</td><td>188770</td><td>88</td><td>5.0</td><td>2018-01-01</td></tr></tbody></table></div>"
      ],
      "text/plain": [
       "shape: (5, 5)\n",
       "┌─────────┬─────────┬──────────┬────────┬────────────┐\n",
       "│ user_id ┆ item_id ┆ progress ┆ rating ┆ start_date │\n",
       "│ ---     ┆ ---     ┆ ---      ┆ ---    ┆ ---        │\n",
       "│ u32     ┆ u32     ┆ u8       ┆ f32    ┆ date       │\n",
       "╞═════════╪═════════╪══════════╪════════╪════════════╡\n",
       "│ 126706  ┆ 14433   ┆ 80       ┆ NaN    ┆ 2018-01-01 │\n",
       "│ 127290  ┆ 140952  ┆ 58       ┆ NaN    ┆ 2018-01-01 │\n",
       "│ 66991   ┆ 198453  ┆ 89       ┆ NaN    ┆ 2018-01-01 │\n",
       "│ 46791   ┆ 83486   ┆ 23       ┆ 5.0    ┆ 2018-01-01 │\n",
       "│ 79313   ┆ 188770  ┆ 88       ┆ 5.0    ┆ 2018-01-01 │\n",
       "└─────────┴─────────┴──────────┴────────┴────────────┘"
      ]
     },
     "execution_count": 120,
     "metadata": {},
     "output_type": "execute_result"
    }
   ],
   "source": [
    "df.head()"
   ]
  },
  {
   "cell_type": "code",
   "execution_count": 121,
   "metadata": {},
   "outputs": [
    {
     "data": {
      "text/html": [
       "<div><style>\n",
       ".dataframe > thead > tr > th,\n",
       ".dataframe > tbody > tr > td {\n",
       "  text-align: right;\n",
       "}\n",
       "</style>\n",
       "<small>shape: (6, 1)</small><table border=\"1\" class=\"dataframe\"><thead><tr><th>rating</th></tr><tr><td>f32</td></tr></thead><tbody><tr><td>5.0</td></tr><tr><td>1.0</td></tr><tr><td>4.0</td></tr><tr><td>3.0</td></tr><tr><td>NaN</td></tr><tr><td>2.0</td></tr></tbody></table></div>"
      ],
      "text/plain": [
       "shape: (6, 1)\n",
       "┌────────┐\n",
       "│ rating │\n",
       "│ ---    │\n",
       "│ f32    │\n",
       "╞════════╡\n",
       "│ 5.0    │\n",
       "│ 1.0    │\n",
       "│ 4.0    │\n",
       "│ 3.0    │\n",
       "│ NaN    │\n",
       "│ 2.0    │\n",
       "└────────┘"
      ]
     },
     "execution_count": 121,
     "metadata": {},
     "output_type": "execute_result"
    }
   ],
   "source": [
    "df.select(\"rating\").unique()"
   ]
  },
  {
   "cell_type": "code",
   "execution_count": 122,
   "metadata": {},
   "outputs": [],
   "source": [
    "sample_true, sample_rec = sample_true_rec_data()"
   ]
  },
  {
   "cell_type": "code",
   "execution_count": 123,
   "metadata": {},
   "outputs": [],
   "source": [
    "joined_data = join_true_pred_and_preprocess(sample_true, sample_rec)"
   ]
  },
  {
   "cell_type": "code",
   "execution_count": 124,
   "metadata": {},
   "outputs": [
    {
     "data": {
      "text/html": [
       "<div><style>\n",
       ".dataframe > thead > tr > th,\n",
       ".dataframe > tbody > tr > td {\n",
       "  text-align: right;\n",
       "}\n",
       "</style>\n",
       "<small>shape: (4, 4)</small><table border=\"1\" class=\"dataframe\"><thead><tr><th>user_id</th><th>item_id</th><th>rank</th><th>item_count_per_user</th></tr><tr><td>str</td><td>str</td><td>f64</td><td>u32</td></tr></thead><tbody><tr><td>&quot;Аня&quot;</td><td>&quot;Мастер и Марга…</td><td>NaN</td><td>1</td></tr><tr><td>&quot;Боря&quot;</td><td>&quot;451° по Фаренг…</td><td>1.0</td><td>1</td></tr><tr><td>&quot;Вася&quot;</td><td>&quot;Зеленая миля&quot;</td><td>3.0</td><td>2</td></tr><tr><td>&quot;Вася&quot;</td><td>&quot;Рита Хейуорт и…</td><td>NaN</td><td>2</td></tr></tbody></table></div>"
      ],
      "text/plain": [
       "shape: (4, 4)\n",
       "┌─────────┬───────────────────────────────────┬──────┬─────────────────────┐\n",
       "│ user_id ┆ item_id                           ┆ rank ┆ item_count_per_user │\n",
       "│ ---     ┆ ---                               ┆ ---  ┆ ---                 │\n",
       "│ str     ┆ str                               ┆ f64  ┆ u32                 │\n",
       "╞═════════╪═══════════════════════════════════╪══════╪═════════════════════╡\n",
       "│ Аня     ┆ Мастер и Маргарита                ┆ NaN  ┆ 1                   │\n",
       "│ Боря    ┆ 451° по Фаренгейту                ┆ 1.0  ┆ 1                   │\n",
       "│ Вася    ┆ Зеленая миля                      ┆ 3.0  ┆ 2                   │\n",
       "│ Вася    ┆ Рита Хейуорт и спасение из Шоуше… ┆ NaN  ┆ 2                   │\n",
       "└─────────┴───────────────────────────────────┴──────┴─────────────────────┘"
      ]
     },
     "execution_count": 124,
     "metadata": {},
     "output_type": "execute_result"
    }
   ],
   "source": [
    "joined_data"
   ]
  },
  {
   "cell_type": "code",
   "execution_count": 125,
   "metadata": {},
   "outputs": [],
   "source": [
    "joined_data = join_true_pred_and_preprocess(sample_true, sample_rec)"
   ]
  },
  {
   "cell_type": "code",
   "execution_count": 126,
   "metadata": {},
   "outputs": [],
   "source": [
    "metric_value, joined_data = precision_at_k(joined_data, k=2)"
   ]
  },
  {
   "cell_type": "code",
   "execution_count": 127,
   "metadata": {},
   "outputs": [
    {
     "data": {
      "text/plain": [
       "0.16666666666666666"
      ]
     },
     "execution_count": 127,
     "metadata": {},
     "output_type": "execute_result"
    }
   ],
   "source": [
    "metric_value"
   ]
  },
  {
   "cell_type": "code",
   "execution_count": 128,
   "metadata": {},
   "outputs": [
    {
     "data": {
      "text/html": [
       "<div><style>\n",
       ".dataframe > thead > tr > th,\n",
       ".dataframe > tbody > tr > td {\n",
       "  text-align: right;\n",
       "}\n",
       "</style>\n",
       "<small>shape: (4, 6)</small><table border=\"1\" class=\"dataframe\"><thead><tr><th>user_id</th><th>item_id</th><th>rank</th><th>item_count_per_user</th><th>hit@2</th><th>hit@2/2</th></tr><tr><td>str</td><td>str</td><td>f64</td><td>u32</td><td>bool</td><td>f64</td></tr></thead><tbody><tr><td>&quot;Аня&quot;</td><td>&quot;Мастер и Марга…</td><td>NaN</td><td>1</td><td>false</td><td>0.0</td></tr><tr><td>&quot;Боря&quot;</td><td>&quot;451° по Фаренг…</td><td>1.0</td><td>1</td><td>true</td><td>0.5</td></tr><tr><td>&quot;Вася&quot;</td><td>&quot;Зеленая миля&quot;</td><td>3.0</td><td>2</td><td>false</td><td>0.0</td></tr><tr><td>&quot;Вася&quot;</td><td>&quot;Рита Хейуорт и…</td><td>NaN</td><td>2</td><td>false</td><td>0.0</td></tr></tbody></table></div>"
      ],
      "text/plain": [
       "shape: (4, 6)\n",
       "┌─────────┬───────────────────────────────────┬──────┬─────────────────────┬───────┬─────────┐\n",
       "│ user_id ┆ item_id                           ┆ rank ┆ item_count_per_user ┆ hit@2 ┆ hit@2/2 │\n",
       "│ ---     ┆ ---                               ┆ ---  ┆ ---                 ┆ ---   ┆ ---     │\n",
       "│ str     ┆ str                               ┆ f64  ┆ u32                 ┆ bool  ┆ f64     │\n",
       "╞═════════╪═══════════════════════════════════╪══════╪═════════════════════╪═══════╪═════════╡\n",
       "│ Аня     ┆ Мастер и Маргарита                ┆ NaN  ┆ 1                   ┆ false ┆ 0.0     │\n",
       "│ Боря    ┆ 451° по Фаренгейту                ┆ 1.0  ┆ 1                   ┆ true  ┆ 0.5     │\n",
       "│ Вася    ┆ Зеленая миля                      ┆ 3.0  ┆ 2                   ┆ false ┆ 0.0     │\n",
       "│ Вася    ┆ Рита Хейуорт и спасение из Шоуше… ┆ NaN  ┆ 2                   ┆ false ┆ 0.0     │\n",
       "└─────────┴───────────────────────────────────┴──────┴─────────────────────┴───────┴─────────┘"
      ]
     },
     "execution_count": 128,
     "metadata": {},
     "output_type": "execute_result"
    }
   ],
   "source": [
    "joined_data"
   ]
  },
  {
   "cell_type": "code",
   "execution_count": 129,
   "metadata": {},
   "outputs": [],
   "source": [
    "metric_value, joined_data = recall_at_k(joined_data, 1)"
   ]
  },
  {
   "cell_type": "code",
   "execution_count": 130,
   "metadata": {},
   "outputs": [
    {
     "data": {
      "text/plain": [
       "0.3333333333333333"
      ]
     },
     "execution_count": 130,
     "metadata": {},
     "output_type": "execute_result"
    }
   ],
   "source": [
    "metric_value"
   ]
  },
  {
   "cell_type": "code",
   "execution_count": 131,
   "metadata": {},
   "outputs": [
    {
     "data": {
      "text/html": [
       "<div><style>\n",
       ".dataframe > thead > tr > th,\n",
       ".dataframe > tbody > tr > td {\n",
       "  text-align: right;\n",
       "}\n",
       "</style>\n",
       "<small>shape: (4, 7)</small><table border=\"1\" class=\"dataframe\"><thead><tr><th>user_id</th><th>item_id</th><th>rank</th><th>item_count_per_user</th><th>hit@2</th><th>hit@2/2</th><th>hit@1</th></tr><tr><td>str</td><td>str</td><td>f64</td><td>u32</td><td>bool</td><td>f64</td><td>bool</td></tr></thead><tbody><tr><td>&quot;Аня&quot;</td><td>&quot;Мастер и Марга…</td><td>NaN</td><td>1</td><td>false</td><td>0.0</td><td>false</td></tr><tr><td>&quot;Боря&quot;</td><td>&quot;451° по Фаренг…</td><td>1.0</td><td>1</td><td>true</td><td>0.5</td><td>true</td></tr><tr><td>&quot;Вася&quot;</td><td>&quot;Зеленая миля&quot;</td><td>3.0</td><td>2</td><td>false</td><td>0.0</td><td>false</td></tr><tr><td>&quot;Вася&quot;</td><td>&quot;Рита Хейуорт и…</td><td>NaN</td><td>2</td><td>false</td><td>0.0</td><td>false</td></tr></tbody></table></div>"
      ],
      "text/plain": [
       "shape: (4, 7)\n",
       "┌─────────┬────────────────────────────┬──────┬─────────────────────┬───────┬─────────┬───────┐\n",
       "│ user_id ┆ item_id                    ┆ rank ┆ item_count_per_user ┆ hit@2 ┆ hit@2/2 ┆ hit@1 │\n",
       "│ ---     ┆ ---                        ┆ ---  ┆ ---                 ┆ ---   ┆ ---     ┆ ---   │\n",
       "│ str     ┆ str                        ┆ f64  ┆ u32                 ┆ bool  ┆ f64     ┆ bool  │\n",
       "╞═════════╪════════════════════════════╪══════╪═════════════════════╪═══════╪═════════╪═══════╡\n",
       "│ Аня     ┆ Мастер и Маргарита         ┆ NaN  ┆ 1                   ┆ false ┆ 0.0     ┆ false │\n",
       "│ Боря    ┆ 451° по Фаренгейту         ┆ 1.0  ┆ 1                   ┆ true  ┆ 0.5     ┆ true  │\n",
       "│ Вася    ┆ Зеленая миля               ┆ 3.0  ┆ 2                   ┆ false ┆ 0.0     ┆ false │\n",
       "│ Вася    ┆ Рита Хейуорт и спасение из ┆ NaN  ┆ 2                   ┆ false ┆ 0.0     ┆ false │\n",
       "│         ┆ Шоуше…                     ┆      ┆                     ┆       ┆         ┆       │\n",
       "└─────────┴────────────────────────────┴──────┴─────────────────────┴───────┴─────────┴───────┘"
      ]
     },
     "execution_count": 131,
     "metadata": {},
     "output_type": "execute_result"
    }
   ],
   "source": [
    "joined_data"
   ]
  },
  {
   "cell_type": "code",
   "execution_count": 132,
   "metadata": {},
   "outputs": [
    {
     "data": {
      "text/plain": [
       "0.4444444444444444"
      ]
     },
     "execution_count": 132,
     "metadata": {},
     "output_type": "execute_result"
    }
   ],
   "source": [
    "mean_reciprocal_rank(joined_data)"
   ]
  },
  {
   "cell_type": "code",
   "execution_count": 133,
   "metadata": {},
   "outputs": [
    {
     "data": {
      "text/plain": [
       "0.3888888888888889"
      ]
     },
     "execution_count": 133,
     "metadata": {},
     "output_type": "execute_result"
    }
   ],
   "source": [
    "mean_average_prec(joined_data)"
   ]
  },
  {
   "cell_type": "code",
   "execution_count": 134,
   "metadata": {},
   "outputs": [],
   "source": [
    "test_dates = df.select(pl.col(\"start_date\").unique())[-7:].to_series().to_list()\n",
    "test_dates = list(pairwise(test_dates))"
   ]
  },
  {
   "cell_type": "code",
   "execution_count": 135,
   "metadata": {},
   "outputs": [
    {
     "data": {
      "text/plain": [
       "[(datetime.date(2019, 12, 25), datetime.date(2019, 12, 26)),\n",
       " (datetime.date(2019, 12, 26), datetime.date(2019, 12, 27)),\n",
       " (datetime.date(2019, 12, 27), datetime.date(2019, 12, 28)),\n",
       " (datetime.date(2019, 12, 28), datetime.date(2019, 12, 29)),\n",
       " (datetime.date(2019, 12, 29), datetime.date(2019, 12, 30)),\n",
       " (datetime.date(2019, 12, 30), datetime.date(2019, 12, 31))]"
      ]
     },
     "execution_count": 135,
     "metadata": {},
     "output_type": "execute_result"
    }
   ],
   "source": [
    "test_dates"
   ]
  },
  {
   "cell_type": "code",
   "execution_count": 136,
   "metadata": {},
   "outputs": [],
   "source": [
    "def validate(interactions: pl.DataFrame, user_features: pl.DataFrame, test_dates, model_cls):\n",
    "    metrics = defaultdict(list)\n",
    "\n",
    "    for i, split_pair in enumerate(test_dates):\n",
    "        train, test = train_test_split(interactions, split_pair)\n",
    "        baseline = model_cls()\n",
    "        baseline.fit(train, user_features)\n",
    "\n",
    "        test_user_features = test.join(user_features, on=\"user_id\", how=\"left\")\n",
    "        predicted_recs = baseline.predict(test_user_features)\n",
    "\n",
    "        assert predicted_recs.select(pl.col(\"user_id\").n_unique())[0, 0] == test.select(pl.col(\"user_id\").n_unique())[0, 0]\n",
    "\n",
    "        estimated = join_true_pred_and_preprocess(test, predicted_recs)\n",
    "        metrics[\"value\"].append(mean_reciprocal_rank(estimated))\n",
    "        metrics[\"name\"].append(\"MRR\")\n",
    "        metrics[\"value\"].append(mean_average_prec(estimated))\n",
    "        metrics[\"name\"].append(\"MAP\")\n",
    "        metrics[\"fold\"] += [i] * 2\n",
    "\n",
    "    return pd.DataFrame(metrics)"
   ]
  },
  {
   "cell_type": "code",
   "execution_count": 137,
   "metadata": {},
   "outputs": [],
   "source": [
    "pop_metrics = validate(df, df_users, test_dates, PopularRecommender)"
   ]
  },
  {
   "cell_type": "code",
   "execution_count": 138,
   "metadata": {},
   "outputs": [
    {
     "data": {
      "text/plain": [
       "<Axes: xlabel='fold', ylabel='value'>"
      ]
     },
     "execution_count": 138,
     "metadata": {},
     "output_type": "execute_result"
    },
    {
     "data": {
      "image/png": "[encoded data removed]",
      "text/plain": [
       "<Figure size 640x480 with 1 Axes>"
      ]
     },
     "metadata": {},
     "output_type": "display_data"
    }
   ],
   "source": [
    "sns.scatterplot(data=pop_metrics, x=\"fold\", y=\"value\", hue=\"name\")"
   ]
  },
  {
   "cell_type": "code",
   "execution_count": 139,
   "metadata": {},
   "outputs": [],
   "source": [
    "pop_per_age_metrics = validate(df, df_users, test_dates, PopularRecommenderPerAge)"
   ]
  },
  {
   "cell_type": "code",
   "execution_count": 140,
   "metadata": {},
   "outputs": [
    {
     "data": {
      "text/plain": [
       "<Axes: xlabel='fold', ylabel='value'>"
      ]
     },
     "execution_count": 140,
     "metadata": {},
     "output_type": "execute_result"
    },
    {
     "data": {
      "image/png": "[encoded data removed]",
      "text/plain": [
       "<Figure size 640x480 with 1 Axes>"
      ]
     },
     "metadata": {},
     "output_type": "display_data"
    }
   ],
   "source": [
    "sns.scatterplot(data=pop_per_age_metrics, x=\"fold\", y=\"value\", hue=\"name\")"
   ]
  },
  {
   "cell_type": "code",
   "execution_count": 141,
   "metadata": {},
   "outputs": [],
   "source": [
    "pop_metrics[\"model\"] = \"popular\"\n",
    "pop_per_age_metrics[\"model\"] = \"popular_per_age\""
   ]
  },
  {
   "cell_type": "code",
   "execution_count": 142,
   "metadata": {},
   "outputs": [],
   "source": [
    "all_metrics = pd.concat((pop_metrics, pop_per_age_metrics), axis=\"index\", ignore_index=True)"
   ]
  },
  {
   "cell_type": "code",
   "execution_count": 143,
   "metadata": {},
   "outputs": [
    {
     "data": {
      "text/html": [
       "<div>\n",
       "<style scoped>\n",
       "    .dataframe tbody tr th:only-of-type {\n",
       "        vertical-align: middle;\n",
       "    }\n",
       "\n",
       "    .dataframe tbody tr th {\n",
       "        vertical-align: top;\n",
       "    }\n",
       "\n",
       "    .dataframe thead th {\n",
       "        text-align: right;\n",
       "    }\n",
       "</style>\n",
       "<table border=\"1\" class=\"dataframe\">\n",
       "  <thead>\n",
       "    <tr style=\"text-align: right;\">\n",
       "      <th></th>\n",
       "      <th>value</th>\n",
       "      <th>name</th>\n",
       "      <th>fold</th>\n",
       "      <th>model</th>\n",
       "    </tr>\n",
       "  </thead>\n",
       "  <tbody>\n",
       "    <tr>\n",
       "      <th>0</th>\n",
       "      <td>0.016082</td>\n",
       "      <td>MRR</td>\n",
       "      <td>0</td>\n",
       "      <td>popular</td>\n",
       "    </tr>\n",
       "    <tr>\n",
       "      <th>1</th>\n",
       "      <td>0.015599</td>\n",
       "      <td>MAP</td>\n",
       "      <td>0</td>\n",
       "      <td>popular</td>\n",
       "    </tr>\n",
       "    <tr>\n",
       "      <th>2</th>\n",
       "      <td>0.006603</td>\n",
       "      <td>MRR</td>\n",
       "      <td>1</td>\n",
       "      <td>popular</td>\n",
       "    </tr>\n",
       "    <tr>\n",
       "      <th>3</th>\n",
       "      <td>0.006045</td>\n",
       "      <td>MAP</td>\n",
       "      <td>1</td>\n",
       "      <td>popular</td>\n",
       "    </tr>\n",
       "    <tr>\n",
       "      <th>4</th>\n",
       "      <td>0.013803</td>\n",
       "      <td>MRR</td>\n",
       "      <td>2</td>\n",
       "      <td>popular</td>\n",
       "    </tr>\n",
       "  </tbody>\n",
       "</table>\n",
       "</div>"
      ],
      "text/plain": [
       "      value name  fold    model\n",
       "0  0.016082  MRR     0  popular\n",
       "1  0.015599  MAP     0  popular\n",
       "2  0.006603  MRR     1  popular\n",
       "3  0.006045  MAP     1  popular\n",
       "4  0.013803  MRR     2  popular"
      ]
     },
     "execution_count": 143,
     "metadata": {},
     "output_type": "execute_result"
    }
   ],
   "source": [
    "all_metrics.head()"
   ]
  },
  {
   "cell_type": "code",
   "execution_count": 144,
   "metadata": {},
   "outputs": [
    {
     "data": {
      "text/plain": [
       "<Axes: xlabel='fold', ylabel='value'>"
      ]
     },
     "execution_count": 144,
     "metadata": {},
     "output_type": "execute_result"
    },
    {
     "data": {
      "image/png": "[encoded data removed]",
      "text/plain": [
       "<Figure size 640x480 with 1 Axes>"
      ]
     },
     "metadata": {},
     "output_type": "display_data"
    }
   ],
   "source": [
    "sns.scatterplot(data=all_metrics, x=\"fold\", y=\"value\", hue=\"name\", style=\"model\")"
   ]
  },
  {
   "cell_type": "code",
   "execution_count": null,
   "metadata": {},
   "outputs": [],
   "source": []
  }
 ],
 "metadata": {
  "kernelspec": {
   "display_name": "recsys",
   "language": "python",
   "name": "python3"
  },
  "language_info": {
   "codemirror_mode": {
    "name": "ipython",
    "version": 3
   },
   "file_extension": ".py",
   "mimetype": "text/x-python",
   "name": "python",
   "nbconvert_exporter": "python",
   "pygments_lexer": "ipython3",
   "version": "3.10.11"
  },
  "orig_nbformat": 4
 },
 "nbformat": 4,
 "nbformat_minor": 2
}
