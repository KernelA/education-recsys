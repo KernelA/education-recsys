{
 "cells": [
  {
   "attachments": {},
   "cell_type": "markdown",
   "metadata": {},
   "source": [
    "[Оригинальный файл на Kaggle](https://www.kaggle.com/code/sharthz23/metrics-validation-strategies-and-baselines)"
   ]
  },
  {
   "attachments": {},
   "cell_type": "markdown",
   "metadata": {},
   "source": [
    "# Расчёт метрик"
   ]
  },
  {
   "cell_type": "code",
   "execution_count": 70,
   "metadata": {},
   "outputs": [],
   "source": [
    "import os\n",
    "from collections import defaultdict\n",
    "\n",
    "from more_itertools import pairwise\n",
    "import pandas as pd\n",
    "from matplotlib import pyplot as plt"
   ]
  },
  {
   "cell_type": "code",
   "execution_count": 71,
   "metadata": {},
   "outputs": [],
   "source": [
    "plt.style.use(\"ggplot\")"
   ]
  },
  {
   "cell_type": "code",
   "execution_count": 72,
   "metadata": {},
   "outputs": [
    {
     "name": "stdout",
     "output_type": "stream",
     "text": [
      "The autoreload extension is already loaded. To reload it, use:\n",
      "  %reload_ext autoreload\n"
     ]
    }
   ],
   "source": [
    "%load_ext autoreload\n",
    "%autoreload 2\n",
    "\n",
    "from recs_utils.metrics import precision_at_k, join_true_pred_and_preprocess, recall_at_k, mean_reciprocal_rank, mean_average_prec\n",
    "from recs_utils.load_data import load_users, load_items, load_interactions, sample_true_rec_data\n",
    "from recs_utils.simple_rec import PopularRecommender, PopularRecommenderPerAge\n",
    "from recs_utils.split import train_test_split"
   ]
  },
  {
   "cell_type": "code",
   "execution_count": 73,
   "metadata": {},
   "outputs": [],
   "source": [
    "data_dir = \"data\""
   ]
  },
  {
   "cell_type": "code",
   "execution_count": 74,
   "metadata": {},
   "outputs": [],
   "source": [
    "df = load_interactions(os.path.join(data_dir, \"interactions.csv\"))\n",
    "df_users = load_users(os.path.join(data_dir, \"users.csv\"))\n",
    "df_items = load_items(os.path.join(data_dir, \"items.csv\"))"
   ]
  },
  {
   "cell_type": "code",
   "execution_count": 75,
   "metadata": {},
   "outputs": [
    {
     "data": {
      "text/plain": [
       "[nan, 5.0, 4.0, 2.0, 3.0, 1.0]\n",
       "Fill: nan\n",
       "IntIndex\n",
       "Indices: array([1, 2, 3, 4, 5], dtype=int32)"
      ]
     },
     "execution_count": 75,
     "metadata": {},
     "output_type": "execute_result"
    }
   ],
   "source": [
    "df[\"rating\"].unique()"
   ]
  },
  {
   "cell_type": "code",
   "execution_count": 76,
   "metadata": {},
   "outputs": [],
   "source": [
    "sample_true, sample_rec = sample_true_rec_data()"
   ]
  },
  {
   "cell_type": "code",
   "execution_count": 77,
   "metadata": {},
   "outputs": [],
   "source": [
    "joined_data = join_true_pred_and_preprocess(sample_true, sample_rec)"
   ]
  },
  {
   "cell_type": "code",
   "execution_count": 78,
   "metadata": {},
   "outputs": [
    {
     "data": {
      "text/html": [
       "<div>\n",
       "<style scoped>\n",
       "    .dataframe tbody tr th:only-of-type {\n",
       "        vertical-align: middle;\n",
       "    }\n",
       "\n",
       "    .dataframe tbody tr th {\n",
       "        vertical-align: top;\n",
       "    }\n",
       "\n",
       "    .dataframe thead th {\n",
       "        text-align: right;\n",
       "    }\n",
       "</style>\n",
       "<table border=\"1\" class=\"dataframe\">\n",
       "  <thead>\n",
       "    <tr style=\"text-align: right;\">\n",
       "      <th></th>\n",
       "      <th></th>\n",
       "      <th>rank</th>\n",
       "      <th>item_count_per_user</th>\n",
       "    </tr>\n",
       "    <tr>\n",
       "      <th>user_id</th>\n",
       "      <th>item_id</th>\n",
       "      <th></th>\n",
       "      <th></th>\n",
       "    </tr>\n",
       "  </thead>\n",
       "  <tbody>\n",
       "    <tr>\n",
       "      <th>Аня</th>\n",
       "      <th>Мастер и Маргарита</th>\n",
       "      <td>NaN</td>\n",
       "      <td>1</td>\n",
       "    </tr>\n",
       "    <tr>\n",
       "      <th>Боря</th>\n",
       "      <th>451° по Фаренгейту</th>\n",
       "      <td>1.0</td>\n",
       "      <td>1</td>\n",
       "    </tr>\n",
       "    <tr>\n",
       "      <th rowspan=\"2\" valign=\"top\">Вася</th>\n",
       "      <th>Зеленая миля</th>\n",
       "      <td>3.0</td>\n",
       "      <td>2</td>\n",
       "    </tr>\n",
       "    <tr>\n",
       "      <th>Рита Хейуорт и спасение из Шоушенка</th>\n",
       "      <td>NaN</td>\n",
       "      <td>2</td>\n",
       "    </tr>\n",
       "  </tbody>\n",
       "</table>\n",
       "</div>"
      ],
      "text/plain": [
       "                                             rank  item_count_per_user\n",
       "user_id item_id                                                       \n",
       "Аня     Мастер и Маргарита                    NaN                    1\n",
       "Боря    451° по Фаренгейту                    1.0                    1\n",
       "Вася    Зеленая миля                          3.0                    2\n",
       "        Рита Хейуорт и спасение из Шоушенка   NaN                    2"
      ]
     },
     "execution_count": 78,
     "metadata": {},
     "output_type": "execute_result"
    }
   ],
   "source": [
    "joined_data"
   ]
  },
  {
   "cell_type": "code",
   "execution_count": 79,
   "metadata": {},
   "outputs": [
    {
     "data": {
      "text/plain": [
       "0.16666666666666666"
      ]
     },
     "execution_count": 79,
     "metadata": {},
     "output_type": "execute_result"
    }
   ],
   "source": [
    "precision_at_k(joined_data, k=2)"
   ]
  },
  {
   "cell_type": "code",
   "execution_count": 80,
   "metadata": {},
   "outputs": [
    {
     "data": {
      "text/html": [
       "<div>\n",
       "<style scoped>\n",
       "    .dataframe tbody tr th:only-of-type {\n",
       "        vertical-align: middle;\n",
       "    }\n",
       "\n",
       "    .dataframe tbody tr th {\n",
       "        vertical-align: top;\n",
       "    }\n",
       "\n",
       "    .dataframe thead th {\n",
       "        text-align: right;\n",
       "    }\n",
       "</style>\n",
       "<table border=\"1\" class=\"dataframe\">\n",
       "  <thead>\n",
       "    <tr style=\"text-align: right;\">\n",
       "      <th></th>\n",
       "      <th></th>\n",
       "      <th>rank</th>\n",
       "      <th>item_count_per_user</th>\n",
       "      <th>hit@2</th>\n",
       "      <th>hit@2/2</th>\n",
       "    </tr>\n",
       "    <tr>\n",
       "      <th>user_id</th>\n",
       "      <th>item_id</th>\n",
       "      <th></th>\n",
       "      <th></th>\n",
       "      <th></th>\n",
       "      <th></th>\n",
       "    </tr>\n",
       "  </thead>\n",
       "  <tbody>\n",
       "    <tr>\n",
       "      <th>Аня</th>\n",
       "      <th>Мастер и Маргарита</th>\n",
       "      <td>NaN</td>\n",
       "      <td>1</td>\n",
       "      <td>False</td>\n",
       "      <td>0.0</td>\n",
       "    </tr>\n",
       "    <tr>\n",
       "      <th>Боря</th>\n",
       "      <th>451° по Фаренгейту</th>\n",
       "      <td>1.0</td>\n",
       "      <td>1</td>\n",
       "      <td>True</td>\n",
       "      <td>0.5</td>\n",
       "    </tr>\n",
       "    <tr>\n",
       "      <th rowspan=\"2\" valign=\"top\">Вася</th>\n",
       "      <th>Зеленая миля</th>\n",
       "      <td>3.0</td>\n",
       "      <td>2</td>\n",
       "      <td>False</td>\n",
       "      <td>0.0</td>\n",
       "    </tr>\n",
       "    <tr>\n",
       "      <th>Рита Хейуорт и спасение из Шоушенка</th>\n",
       "      <td>NaN</td>\n",
       "      <td>2</td>\n",
       "      <td>False</td>\n",
       "      <td>0.0</td>\n",
       "    </tr>\n",
       "  </tbody>\n",
       "</table>\n",
       "</div>"
      ],
      "text/plain": [
       "                                             rank  item_count_per_user  hit@2   \n",
       "user_id item_id                                                                 \n",
       "Аня     Мастер и Маргарита                    NaN                    1  False  \\\n",
       "Боря    451° по Фаренгейту                    1.0                    1   True   \n",
       "Вася    Зеленая миля                          3.0                    2  False   \n",
       "        Рита Хейуорт и спасение из Шоушенка   NaN                    2  False   \n",
       "\n",
       "                                             hit@2/2  \n",
       "user_id item_id                                       \n",
       "Аня     Мастер и Маргарита                       0.0  \n",
       "Боря    451° по Фаренгейту                       0.5  \n",
       "Вася    Зеленая миля                             0.0  \n",
       "        Рита Хейуорт и спасение из Шоушенка      0.0  "
      ]
     },
     "execution_count": 80,
     "metadata": {},
     "output_type": "execute_result"
    }
   ],
   "source": [
    "joined_data"
   ]
  },
  {
   "cell_type": "code",
   "execution_count": 81,
   "metadata": {},
   "outputs": [
    {
     "data": {
      "text/plain": [
       "0.3333333333333333"
      ]
     },
     "execution_count": 81,
     "metadata": {},
     "output_type": "execute_result"
    }
   ],
   "source": [
    "recall_at_k(joined_data, 1)"
   ]
  },
  {
   "cell_type": "code",
   "execution_count": 82,
   "metadata": {},
   "outputs": [
    {
     "data": {
      "text/plain": [
       "0.4444444444444444"
      ]
     },
     "execution_count": 82,
     "metadata": {},
     "output_type": "execute_result"
    }
   ],
   "source": [
    "mean_reciprocal_rank(joined_data)"
   ]
  },
  {
   "cell_type": "code",
   "execution_count": 83,
   "metadata": {},
   "outputs": [
    {
     "data": {
      "text/plain": [
       "0.3888888888888889"
      ]
     },
     "execution_count": 83,
     "metadata": {},
     "output_type": "execute_result"
    }
   ],
   "source": [
    "mean_average_prec(joined_data)"
   ]
  },
  {
   "cell_type": "code",
   "execution_count": 84,
   "metadata": {},
   "outputs": [],
   "source": [
    "test_dates = df['start_date'].unique()[-7:]\n",
    "test_dates = list(pairwise(test_dates))"
   ]
  },
  {
   "cell_type": "code",
   "execution_count": 85,
   "metadata": {},
   "outputs": [],
   "source": [
    "def validate(interactions, user_features, test_dates, model_cls):\n",
    "    metrics = defaultdict(list)\n",
    "\n",
    "    for i, split_pair in enumerate(test_dates):\n",
    "        train, test = train_test_split(interactions, split_pair)\n",
    "        baseline = model_cls()\n",
    "        baseline.fit(train, user_features)\n",
    "        \n",
    "        predicted_recs = baseline.predict(\n",
    "            pd.merge(\n",
    "                pd.Series(index=test.index.unique(\"user_id\"), name=\"a\"), \n",
    "                user_features, \n",
    "                how=\"left\", \n",
    "                left_index=True, \n",
    "                right_index=True\n",
    "            )\n",
    "        )\n",
    "\n",
    "        assert predicted_recs.index.unique(\"user_id\").nunique() == test.index.unique(\"user_id\").nunique()\n",
    "\n",
    "        estimated = join_true_pred_and_preprocess(test, predicted_recs)\n",
    "        metrics[\"mrr\"].append(mean_reciprocal_rank(estimated))\n",
    "        metrics[\"mean_avg_prec\"].append(mean_average_prec(estimated))\n",
    "        metrics[\"fold\"].append(i)\n",
    "\n",
    "    return pd.DataFrame(metrics)"
   ]
  },
  {
   "cell_type": "code",
   "execution_count": 86,
   "metadata": {},
   "outputs": [],
   "source": [
    "metrics = validate(df, df_users, test_dates, PopularRecommender)"
   ]
  },
  {
   "cell_type": "code",
   "execution_count": 87,
   "metadata": {},
   "outputs": [
    {
     "data": {
      "text/plain": [
       "<matplotlib.legend.Legend at 0x7f0100be4340>"
      ]
     },
     "execution_count": 87,
     "metadata": {},
     "output_type": "execute_result"
    },
    {
     "data": {
      "image/png": "[encoded data removed]",
      "text/plain": [
       "<Figure size 640x480 with 1 Axes>"
      ]
     },
     "metadata": {},
     "output_type": "display_data"
    }
   ],
   "source": [
    "plt.scatter(data=metrics, x=\"fold\", y=\"mean_avg_prec\", label=\"MAP\")\n",
    "plt.scatter(data=metrics, x=\"fold\", y=\"mrr\", label=\"MRR\")\n",
    "plt.legend()"
   ]
  },
  {
   "cell_type": "code",
   "execution_count": 88,
   "metadata": {},
   "outputs": [],
   "source": [
    "metrics = validate(df, df_users, test_dates, PopularRecommenderPerAge)"
   ]
  },
  {
   "cell_type": "code",
   "execution_count": 89,
   "metadata": {},
   "outputs": [
    {
     "data": {
      "text/plain": [
       "<matplotlib.legend.Legend at 0x7f00f7d19cc0>"
      ]
     },
     "execution_count": 89,
     "metadata": {},
     "output_type": "execute_result"
    },
    {
     "data": {
      "image/png": "[encoded data removed]",
      "text/plain": [
       "<Figure size 640x480 with 1 Axes>"
      ]
     },
     "metadata": {},
     "output_type": "display_data"
    }
   ],
   "source": [
    "plt.scatter(data=metrics, x=\"fold\", y=\"mean_avg_prec\", label=\"MAP\")\n",
    "plt.scatter(data=metrics, x=\"fold\", y=\"mrr\", label=\"MRR\")\n",
    "plt.legend()"
   ]
  }
 ],
 "metadata": {
  "kernelspec": {
   "display_name": "recsys",
   "language": "python",
   "name": "python3"
  },
  "language_info": {
   "codemirror_mode": {
    "name": "ipython",
    "version": 3
   },
   "file_extension": ".py",
   "mimetype": "text/x-python",
   "name": "python",
   "nbconvert_exporter": "python",
   "pygments_lexer": "ipython3",
   "version": "3.10.11"
  },
  "orig_nbformat": 4
 },
 "nbformat": 4,
 "nbformat_minor": 2
}
