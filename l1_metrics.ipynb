{
 "cells": [
  {
   "attachments": {},
   "cell_type": "markdown",
   "metadata": {},
   "source": [
    "[Оригинальный файл на Kaggle](https://www.kaggle.com/code/sharthz23/metrics-validation-strategies-and-baselines)"
   ]
  },
  {
   "attachments": {},
   "cell_type": "markdown",
   "metadata": {},
   "source": [
    "# Расчёт метрик"
   ]
  },
  {
   "cell_type": "code",
   "execution_count": 59,
   "metadata": {},
   "outputs": [],
   "source": [
    "import os\n",
    "from datetime import timedelta\n",
    "\n",
    "from more_itertools import pairwise\n",
    "import polars as pl\n",
    "import seaborn as sns\n",
    "from hydra import compose, initialize"
   ]
  },
  {
   "cell_type": "code",
   "execution_count": 60,
   "metadata": {},
   "outputs": [],
   "source": [
    "sns.set_style(\"darkgrid\")"
   ]
  },
  {
   "cell_type": "code",
   "execution_count": 61,
   "metadata": {},
   "outputs": [
    {
     "name": "stdout",
     "output_type": "stream",
     "text": [
      "The autoreload extension is already loaded. To reload it, use:\n",
      "  %reload_ext autoreload\n"
     ]
    }
   ],
   "source": [
    "%load_ext autoreload\n",
    "%autoreload 2\n",
    "\n",
    "from recs_utils.metrics import model_cross_validate, precision_at_k, join_true_pred_and_preprocess, recall_at_k, mean_reciprocal_rank, mean_average_prec, compute_metrics\n",
    "from recs_utils.load_data import MTSDataset, sample_true_rec_data\n",
    "from recs_utils.simple_rec import PopularRecommender, PopularRecommenderPerAge, BaseRecommender\n",
    "from recs_utils.split import TimeRangeSplit"
   ]
  },
  {
   "cell_type": "code",
   "execution_count": 62,
   "metadata": {},
   "outputs": [],
   "source": [
    "with initialize(os.path.join(\"configs\", \"data\"), version_base=\"1.3\"):\n",
    "    data_config = compose(\"mts_lib.yaml\")"
   ]
  },
  {
   "cell_type": "code",
   "execution_count": 63,
   "metadata": {},
   "outputs": [],
   "source": [
    "df = pl.read_parquet(data_config.dump_files.interactions_path)\n",
    "df_users = pl.read_parquet(data_config.dump_files.users_path)\n",
    "df_items = pl.read_parquet(data_config.dump_files.items_path)"
   ]
  },
  {
   "cell_type": "code",
   "execution_count": 64,
   "metadata": {},
   "outputs": [
    {
     "data": {
      "text/html": [
       "<div><style>\n",
       ".dataframe > thead > tr > th,\n",
       ".dataframe > tbody > tr > td {\n",
       "  text-align: right;\n",
       "}\n",
       "</style>\n",
       "<small>shape: (5, 5)</small><table border=\"1\" class=\"dataframe\"><thead><tr><th>user_id</th><th>item_id</th><th>progress</th><th>rating</th><th>start_date</th></tr><tr><td>u32</td><td>u32</td><td>u8</td><td>f32</td><td>date</td></tr></thead><tbody><tr><td>126706</td><td>14433</td><td>80</td><td>NaN</td><td>2018-01-01</td></tr><tr><td>127290</td><td>140952</td><td>58</td><td>NaN</td><td>2018-01-01</td></tr><tr><td>66991</td><td>198453</td><td>89</td><td>NaN</td><td>2018-01-01</td></tr><tr><td>46791</td><td>83486</td><td>23</td><td>5.0</td><td>2018-01-01</td></tr><tr><td>79313</td><td>188770</td><td>88</td><td>5.0</td><td>2018-01-01</td></tr></tbody></table></div>"
      ],
      "text/plain": [
       "shape: (5, 5)\n",
       "┌─────────┬─────────┬──────────┬────────┬────────────┐\n",
       "│ user_id ┆ item_id ┆ progress ┆ rating ┆ start_date │\n",
       "│ ---     ┆ ---     ┆ ---      ┆ ---    ┆ ---        │\n",
       "│ u32     ┆ u32     ┆ u8       ┆ f32    ┆ date       │\n",
       "╞═════════╪═════════╪══════════╪════════╪════════════╡\n",
       "│ 126706  ┆ 14433   ┆ 80       ┆ NaN    ┆ 2018-01-01 │\n",
       "│ 127290  ┆ 140952  ┆ 58       ┆ NaN    ┆ 2018-01-01 │\n",
       "│ 66991   ┆ 198453  ┆ 89       ┆ NaN    ┆ 2018-01-01 │\n",
       "│ 46791   ┆ 83486   ┆ 23       ┆ 5.0    ┆ 2018-01-01 │\n",
       "│ 79313   ┆ 188770  ┆ 88       ┆ 5.0    ┆ 2018-01-01 │\n",
       "└─────────┴─────────┴──────────┴────────┴────────────┘"
      ]
     },
     "execution_count": 64,
     "metadata": {},
     "output_type": "execute_result"
    }
   ],
   "source": [
    "df.head()"
   ]
  },
  {
   "cell_type": "code",
   "execution_count": 65,
   "metadata": {},
   "outputs": [
    {
     "data": {
      "text/html": [
       "<div><style>\n",
       ".dataframe > thead > tr > th,\n",
       ".dataframe > tbody > tr > td {\n",
       "  text-align: right;\n",
       "}\n",
       "</style>\n",
       "<small>shape: (6, 1)</small><table border=\"1\" class=\"dataframe\"><thead><tr><th>rating</th></tr><tr><td>f32</td></tr></thead><tbody><tr><td>5.0</td></tr><tr><td>4.0</td></tr><tr><td>2.0</td></tr><tr><td>3.0</td></tr><tr><td>NaN</td></tr><tr><td>1.0</td></tr></tbody></table></div>"
      ],
      "text/plain": [
       "shape: (6, 1)\n",
       "┌────────┐\n",
       "│ rating │\n",
       "│ ---    │\n",
       "│ f32    │\n",
       "╞════════╡\n",
       "│ 5.0    │\n",
       "│ 4.0    │\n",
       "│ 2.0    │\n",
       "│ 3.0    │\n",
       "│ NaN    │\n",
       "│ 1.0    │\n",
       "└────────┘"
      ]
     },
     "execution_count": 65,
     "metadata": {},
     "output_type": "execute_result"
    }
   ],
   "source": [
    "df.select(\"rating\").unique()"
   ]
  },
  {
   "cell_type": "code",
   "execution_count": 66,
   "metadata": {},
   "outputs": [],
   "source": [
    "sample_true, sample_rec = sample_true_rec_data()"
   ]
  },
  {
   "cell_type": "code",
   "execution_count": 67,
   "metadata": {},
   "outputs": [],
   "source": [
    "joined_data = join_true_pred_and_preprocess(sample_true, sample_rec)"
   ]
  },
  {
   "cell_type": "code",
   "execution_count": 68,
   "metadata": {},
   "outputs": [
    {
     "data": {
      "text/html": [
       "<div><style>\n",
       ".dataframe > thead > tr > th,\n",
       ".dataframe > tbody > tr > td {\n",
       "  text-align: right;\n",
       "}\n",
       "</style>\n",
       "<small>shape: (4, 4)</small><table border=\"1\" class=\"dataframe\"><thead><tr><th>user_id</th><th>item_id</th><th>rank</th><th>item_count_per_user</th></tr><tr><td>str</td><td>str</td><td>f64</td><td>u32</td></tr></thead><tbody><tr><td>&quot;Аня&quot;</td><td>&quot;Мастер и Марга…</td><td>NaN</td><td>1</td></tr><tr><td>&quot;Боря&quot;</td><td>&quot;451° по Фаренг…</td><td>1.0</td><td>1</td></tr><tr><td>&quot;Вася&quot;</td><td>&quot;Зеленая миля&quot;</td><td>3.0</td><td>2</td></tr><tr><td>&quot;Вася&quot;</td><td>&quot;Рита Хейуорт и…</td><td>NaN</td><td>2</td></tr></tbody></table></div>"
      ],
      "text/plain": [
       "shape: (4, 4)\n",
       "┌─────────┬───────────────────────────────────┬──────┬─────────────────────┐\n",
       "│ user_id ┆ item_id                           ┆ rank ┆ item_count_per_user │\n",
       "│ ---     ┆ ---                               ┆ ---  ┆ ---                 │\n",
       "│ str     ┆ str                               ┆ f64  ┆ u32                 │\n",
       "╞═════════╪═══════════════════════════════════╪══════╪═════════════════════╡\n",
       "│ Аня     ┆ Мастер и Маргарита                ┆ NaN  ┆ 1                   │\n",
       "│ Боря    ┆ 451° по Фаренгейту                ┆ 1.0  ┆ 1                   │\n",
       "│ Вася    ┆ Зеленая миля                      ┆ 3.0  ┆ 2                   │\n",
       "│ Вася    ┆ Рита Хейуорт и спасение из Шоуше… ┆ NaN  ┆ 2                   │\n",
       "└─────────┴───────────────────────────────────┴──────┴─────────────────────┘"
      ]
     },
     "execution_count": 68,
     "metadata": {},
     "output_type": "execute_result"
    }
   ],
   "source": [
    "joined_data"
   ]
  },
  {
   "cell_type": "code",
   "execution_count": 69,
   "metadata": {},
   "outputs": [],
   "source": [
    "joined_data = join_true_pred_and_preprocess(sample_true, sample_rec)"
   ]
  },
  {
   "cell_type": "code",
   "execution_count": 70,
   "metadata": {},
   "outputs": [],
   "source": [
    "metric_value, joined_data = precision_at_k(joined_data, k=2)"
   ]
  },
  {
   "cell_type": "code",
   "execution_count": 71,
   "metadata": {},
   "outputs": [
    {
     "data": {
      "text/plain": [
       "0.16666666666666666"
      ]
     },
     "execution_count": 71,
     "metadata": {},
     "output_type": "execute_result"
    }
   ],
   "source": [
    "metric_value"
   ]
  },
  {
   "cell_type": "code",
   "execution_count": 72,
   "metadata": {},
   "outputs": [
    {
     "data": {
      "text/html": [
       "<div><style>\n",
       ".dataframe > thead > tr > th,\n",
       ".dataframe > tbody > tr > td {\n",
       "  text-align: right;\n",
       "}\n",
       "</style>\n",
       "<small>shape: (4, 6)</small><table border=\"1\" class=\"dataframe\"><thead><tr><th>user_id</th><th>item_id</th><th>rank</th><th>item_count_per_user</th><th>hit@2</th><th>hit@2/2</th></tr><tr><td>str</td><td>str</td><td>f64</td><td>u32</td><td>bool</td><td>f64</td></tr></thead><tbody><tr><td>&quot;Аня&quot;</td><td>&quot;Мастер и Марга…</td><td>NaN</td><td>1</td><td>false</td><td>0.0</td></tr><tr><td>&quot;Боря&quot;</td><td>&quot;451° по Фаренг…</td><td>1.0</td><td>1</td><td>true</td><td>0.5</td></tr><tr><td>&quot;Вася&quot;</td><td>&quot;Зеленая миля&quot;</td><td>3.0</td><td>2</td><td>false</td><td>0.0</td></tr><tr><td>&quot;Вася&quot;</td><td>&quot;Рита Хейуорт и…</td><td>NaN</td><td>2</td><td>false</td><td>0.0</td></tr></tbody></table></div>"
      ],
      "text/plain": [
       "shape: (4, 6)\n",
       "┌─────────┬───────────────────────────────────┬──────┬─────────────────────┬───────┬─────────┐\n",
       "│ user_id ┆ item_id                           ┆ rank ┆ item_count_per_user ┆ hit@2 ┆ hit@2/2 │\n",
       "│ ---     ┆ ---                               ┆ ---  ┆ ---                 ┆ ---   ┆ ---     │\n",
       "│ str     ┆ str                               ┆ f64  ┆ u32                 ┆ bool  ┆ f64     │\n",
       "╞═════════╪═══════════════════════════════════╪══════╪═════════════════════╪═══════╪═════════╡\n",
       "│ Аня     ┆ Мастер и Маргарита                ┆ NaN  ┆ 1                   ┆ false ┆ 0.0     │\n",
       "│ Боря    ┆ 451° по Фаренгейту                ┆ 1.0  ┆ 1                   ┆ true  ┆ 0.5     │\n",
       "│ Вася    ┆ Зеленая миля                      ┆ 3.0  ┆ 2                   ┆ false ┆ 0.0     │\n",
       "│ Вася    ┆ Рита Хейуорт и спасение из Шоуше… ┆ NaN  ┆ 2                   ┆ false ┆ 0.0     │\n",
       "└─────────┴───────────────────────────────────┴──────┴─────────────────────┴───────┴─────────┘"
      ]
     },
     "execution_count": 72,
     "metadata": {},
     "output_type": "execute_result"
    }
   ],
   "source": [
    "joined_data"
   ]
  },
  {
   "cell_type": "code",
   "execution_count": 73,
   "metadata": {},
   "outputs": [],
   "source": [
    "metric_value, joined_data = recall_at_k(joined_data, k=1)"
   ]
  },
  {
   "cell_type": "code",
   "execution_count": 74,
   "metadata": {},
   "outputs": [
    {
     "data": {
      "text/plain": [
       "0.3333333333333333"
      ]
     },
     "execution_count": 74,
     "metadata": {},
     "output_type": "execute_result"
    }
   ],
   "source": [
    "metric_value"
   ]
  },
  {
   "cell_type": "code",
   "execution_count": 75,
   "metadata": {},
   "outputs": [
    {
     "data": {
      "text/html": [
       "<div><style>\n",
       ".dataframe > thead > tr > th,\n",
       ".dataframe > tbody > tr > td {\n",
       "  text-align: right;\n",
       "}\n",
       "</style>\n",
       "<small>shape: (4, 7)</small><table border=\"1\" class=\"dataframe\"><thead><tr><th>user_id</th><th>item_id</th><th>rank</th><th>item_count_per_user</th><th>hit@2</th><th>hit@2/2</th><th>hit@1</th></tr><tr><td>str</td><td>str</td><td>f64</td><td>u32</td><td>bool</td><td>f64</td><td>bool</td></tr></thead><tbody><tr><td>&quot;Аня&quot;</td><td>&quot;Мастер и Марга…</td><td>NaN</td><td>1</td><td>false</td><td>0.0</td><td>false</td></tr><tr><td>&quot;Боря&quot;</td><td>&quot;451° по Фаренг…</td><td>1.0</td><td>1</td><td>true</td><td>0.5</td><td>true</td></tr><tr><td>&quot;Вася&quot;</td><td>&quot;Зеленая миля&quot;</td><td>3.0</td><td>2</td><td>false</td><td>0.0</td><td>false</td></tr><tr><td>&quot;Вася&quot;</td><td>&quot;Рита Хейуорт и…</td><td>NaN</td><td>2</td><td>false</td><td>0.0</td><td>false</td></tr></tbody></table></div>"
      ],
      "text/plain": [
       "shape: (4, 7)\n",
       "┌─────────┬────────────────────────────┬──────┬─────────────────────┬───────┬─────────┬───────┐\n",
       "│ user_id ┆ item_id                    ┆ rank ┆ item_count_per_user ┆ hit@2 ┆ hit@2/2 ┆ hit@1 │\n",
       "│ ---     ┆ ---                        ┆ ---  ┆ ---                 ┆ ---   ┆ ---     ┆ ---   │\n",
       "│ str     ┆ str                        ┆ f64  ┆ u32                 ┆ bool  ┆ f64     ┆ bool  │\n",
       "╞═════════╪════════════════════════════╪══════╪═════════════════════╪═══════╪═════════╪═══════╡\n",
       "│ Аня     ┆ Мастер и Маргарита         ┆ NaN  ┆ 1                   ┆ false ┆ 0.0     ┆ false │\n",
       "│ Боря    ┆ 451° по Фаренгейту         ┆ 1.0  ┆ 1                   ┆ true  ┆ 0.5     ┆ true  │\n",
       "│ Вася    ┆ Зеленая миля               ┆ 3.0  ┆ 2                   ┆ false ┆ 0.0     ┆ false │\n",
       "│ Вася    ┆ Рита Хейуорт и спасение из ┆ NaN  ┆ 2                   ┆ false ┆ 0.0     ┆ false │\n",
       "│         ┆ Шоуше…                     ┆      ┆                     ┆       ┆         ┆       │\n",
       "└─────────┴────────────────────────────┴──────┴─────────────────────┴───────┴─────────┴───────┘"
      ]
     },
     "execution_count": 75,
     "metadata": {},
     "output_type": "execute_result"
    }
   ],
   "source": [
    "joined_data"
   ]
  },
  {
   "cell_type": "code",
   "execution_count": 76,
   "metadata": {},
   "outputs": [
    {
     "data": {
      "text/plain": [
       "0.4444444444444444"
      ]
     },
     "execution_count": 76,
     "metadata": {},
     "output_type": "execute_result"
    }
   ],
   "source": [
    "mean_reciprocal_rank(joined_data)"
   ]
  },
  {
   "cell_type": "code",
   "execution_count": 77,
   "metadata": {},
   "outputs": [
    {
     "data": {
      "text/plain": [
       "0.3888888888888889"
      ]
     },
     "execution_count": 77,
     "metadata": {},
     "output_type": "execute_result"
    }
   ],
   "source": [
    "mean_average_prec(joined_data)"
   ]
  },
  {
   "cell_type": "code",
   "execution_count": 78,
   "metadata": {},
   "outputs": [],
   "source": [
    "last_date = df.get_column(\"start_date\").max()\n",
    "folds = 7\n",
    "interval = timedelta(days=1)\n",
    "start_date = last_date - interval * (folds + 1)"
   ]
  },
  {
   "cell_type": "code",
   "execution_count": 79,
   "metadata": {},
   "outputs": [],
   "source": [
    "cv = TimeRangeSplit(start_date=start_date, interval=interval, folds=folds)\n",
    "\n",
    "folds_with_stats = list(cv.split(\n",
    "        df,\n",
    "        user_column=\"user_id\",\n",
    "        item_column=\"item_id\",\n",
    "        datetime_column=\"start_date\",\n",
    "        fold_stats=True,\n",
    "        add_pos_neg_info=True\n",
    "    )\n",
    ")"
   ]
  },
  {
   "cell_type": "code",
   "execution_count": 80,
   "metadata": {},
   "outputs": [
    {
     "data": {
      "text/html": [
       "<div><style>\n",
       ".dataframe > thead > tr > th,\n",
       ".dataframe > tbody > tr > td {\n",
       "  text-align: right;\n",
       "}\n",
       "</style>\n",
       "<small>shape: (7, 13)</small><table border=\"1\" class=\"dataframe\"><thead><tr><th>Start date</th><th>End date</th><th>Train</th><th>Train pos samples</th><th>Train neg samples</th><th>New users</th><th>New users interactions</th><th>New items</th><th>New items interactions</th><th>Known interactions</th><th>Test</th><th>Test pos samples</th><th>Test neg samples</th></tr><tr><td>date</td><td>date</td><td>i64</td><td>i64</td><td>i64</td><td>i64</td><td>i64</td><td>i64</td><td>i64</td><td>i64</td><td>i64</td><td>i64</td><td>i64</td></tr></thead><tbody><tr><td>2019-12-23</td><td>2019-12-24</td><td>1513839</td><td>1078304</td><td>436858</td><td>0</td><td>0</td><td>0</td><td>0</td><td>0</td><td>2107</td><td>2003</td><td>488</td></tr><tr><td>2019-12-24</td><td>2019-12-25</td><td>1515946</td><td>1079905</td><td>437359</td><td>3</td><td>3</td><td>0</td><td>0</td><td>0</td><td>2045</td><td>1867</td><td>513</td></tr><tr><td>2019-12-25</td><td>2019-12-26</td><td>1517994</td><td>1081416</td><td>437893</td><td>1</td><td>1</td><td>0</td><td>0</td><td>0</td><td>2141</td><td>2015</td><td>559</td></tr><tr><td>2019-12-26</td><td>2019-12-27</td><td>1520136</td><td>1082981</td><td>438469</td><td>0</td><td>0</td><td>0</td><td>0</td><td>0</td><td>2177</td><td>2057</td><td>481</td></tr><tr><td>2019-12-27</td><td>2019-12-28</td><td>1522313</td><td>1084642</td><td>438975</td><td>0</td><td>0</td><td>0</td><td>0</td><td>0</td><td>2110</td><td>2003</td><td>509</td></tr><tr><td>2019-12-28</td><td>2019-12-29</td><td>1524423</td><td>1086230</td><td>439498</td><td>2</td><td>4</td><td>0</td><td>0</td><td>0</td><td>2205</td><td>2084</td><td>513</td></tr><tr><td>2019-12-29</td><td>2019-12-30</td><td>1526632</td><td>1087897</td><td>440026</td><td>4</td><td>4</td><td>0</td><td>0</td><td>0</td><td>2118</td><td>1999</td><td>482</td></tr></tbody></table></div>"
      ],
      "text/plain": [
       "shape: (7, 13)\n",
       "┌────────────┬────────────┬─────────┬────────────┬───┬────────────┬──────┬────────────┬────────────┐\n",
       "│ Start date ┆ End date   ┆ Train   ┆ Train pos  ┆ … ┆ Known inte ┆ Test ┆ Test pos   ┆ Test neg   │\n",
       "│ ---        ┆ ---        ┆ ---     ┆ samples    ┆   ┆ ractions   ┆ ---  ┆ samples    ┆ samples    │\n",
       "│ date       ┆ date       ┆ i64     ┆ ---        ┆   ┆ ---        ┆ i64  ┆ ---        ┆ ---        │\n",
       "│            ┆            ┆         ┆ i64        ┆   ┆ i64        ┆      ┆ i64        ┆ i64        │\n",
       "╞════════════╪════════════╪═════════╪════════════╪═══╪════════════╪══════╪════════════╪════════════╡\n",
       "│ 2019-12-23 ┆ 2019-12-24 ┆ 1513839 ┆ 1078304    ┆ … ┆ 0          ┆ 2107 ┆ 2003       ┆ 488        │\n",
       "│ 2019-12-24 ┆ 2019-12-25 ┆ 1515946 ┆ 1079905    ┆ … ┆ 0          ┆ 2045 ┆ 1867       ┆ 513        │\n",
       "│ 2019-12-25 ┆ 2019-12-26 ┆ 1517994 ┆ 1081416    ┆ … ┆ 0          ┆ 2141 ┆ 2015       ┆ 559        │\n",
       "│ 2019-12-26 ┆ 2019-12-27 ┆ 1520136 ┆ 1082981    ┆ … ┆ 0          ┆ 2177 ┆ 2057       ┆ 481        │\n",
       "│ 2019-12-27 ┆ 2019-12-28 ┆ 1522313 ┆ 1084642    ┆ … ┆ 0          ┆ 2110 ┆ 2003       ┆ 509        │\n",
       "│ 2019-12-28 ┆ 2019-12-29 ┆ 1524423 ┆ 1086230    ┆ … ┆ 0          ┆ 2205 ┆ 2084       ┆ 513        │\n",
       "│ 2019-12-29 ┆ 2019-12-30 ┆ 1526632 ┆ 1087897    ┆ … ┆ 0          ┆ 2118 ┆ 1999       ┆ 482        │\n",
       "└────────────┴────────────┴─────────┴────────────┴───┴────────────┴──────┴────────────┴────────────┘"
      ]
     },
     "execution_count": 80,
     "metadata": {},
     "output_type": "execute_result"
    }
   ],
   "source": [
    "pl.from_dicts([info for _, _, info in folds_with_stats])"
   ]
  },
  {
   "cell_type": "code",
   "execution_count": 81,
   "metadata": {},
   "outputs": [],
   "source": [
    "num_recs = 10"
   ]
  },
  {
   "cell_type": "code",
   "execution_count": 82,
   "metadata": {},
   "outputs": [
    {
     "data": {
      "application/vnd.jupyter.widget-view+json": {
       "model_id": "d773fd28a2f241ff9adbbe2ef2ea1658",
       "version_major": 2,
       "version_minor": 0
      },
      "text/plain": [
       "  0%|          | 0/7 [00:00<?, ?it/s]"
      ]
     },
     "metadata": {},
     "output_type": "display_data"
    }
   ],
   "source": [
    "pop_metrics, model = model_cross_validate(\n",
    "        df,\n",
    "        df_items,\n",
    "        df_users,\n",
    "        folds_with_stats,\n",
    "        lambda: PopularRecommender(),\n",
    "        num_recs)"
   ]
  },
  {
   "cell_type": "code",
   "execution_count": 83,
   "metadata": {},
   "outputs": [
    {
     "data": {
      "application/vnd.jupyter.widget-view+json": {
       "model_id": "293329c794584e4fba87af88b96ad278",
       "version_major": 2,
       "version_minor": 0
      },
      "text/plain": [
       "  0%|          | 0/7 [00:00<?, ?it/s]"
      ]
     },
     "metadata": {},
     "output_type": "display_data"
    }
   ],
   "source": [
    "pop_per_age_metrics, model = model_cross_validate(\n",
    "        df,\n",
    "        df_items,\n",
    "        df_users,\n",
    "        folds_with_stats,\n",
    "        lambda: PopularRecommenderPerAge(),\n",
    "        num_recs)"
   ]
  },
  {
   "cell_type": "code",
   "execution_count": 85,
   "metadata": {},
   "outputs": [],
   "source": [
    "all_metrics = pl.concat([pop_metrics, pop_per_age_metrics])"
   ]
  },
  {
   "cell_type": "code",
   "execution_count": 86,
   "metadata": {},
   "outputs": [
    {
     "data": {
      "image/png": "[encoded data removed]",
      "text/plain": [
       "<Figure size 640x480 with 1 Axes>"
      ]
     },
     "metadata": {},
     "output_type": "display_data"
    }
   ],
   "source": [
    "plot = sns.scatterplot(\n",
    "    data=all_metrics.filter(pl.col(\"name\").str.contains(r\"(MAP@.+|MRR@.+)\")), \n",
    "    x=\"fold\", y=\"value\", hue=\"name\", style=\"model\")\n",
    "sns.move_legend(plot, loc=\"upper left\", bbox_to_anchor=(1, 1))"
   ]
  },
  {
   "cell_type": "code",
   "execution_count": null,
   "metadata": {},
   "outputs": [],
   "source": []
  }
 ],
 "metadata": {
  "kernelspec": {
   "display_name": "recsys",
   "language": "python",
   "name": "python3"
  },
  "language_info": {
   "codemirror_mode": {
    "name": "ipython",
    "version": 3
   },
   "file_extension": ".py",
   "mimetype": "text/x-python",
   "name": "python",
   "nbconvert_exporter": "python",
   "pygments_lexer": "ipython3",
   "version": "3.10.11"
  },
  "orig_nbformat": 4
 },
 "nbformat": 4,
 "nbformat_minor": 2
}
